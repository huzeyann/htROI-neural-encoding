{
 "cells": [
  {
   "cell_type": "code",
   "execution_count": null,
   "id": "db2dadc3-fbfc-42c5-9a33-d16b8441c944",
   "metadata": {},
   "outputs": [],
   "source": []
  },
  {
   "cell_type": "code",
   "execution_count": 1,
   "id": "61cfd4ad-dff1-4098-8f8a-e487d72330b6",
   "metadata": {},
   "outputs": [],
   "source": [
    "from pathlib import Path"
   ]
  },
  {
   "cell_type": "code",
   "execution_count": 11,
   "id": "cb499a57-d64d-4fff-9d90-d76da4890220",
   "metadata": {},
   "outputs": [],
   "source": [
    "# load from notebook 201. (cross-notebook-ref)\n",
    "string = 'VOXEL SCORE ^-^'\n",
    "nii_paths = list(p for p in Path('./tmp').iterdir() if p.name.startswith(string))"
   ]
  },
  {
   "cell_type": "code",
   "execution_count": 12,
   "id": "e09ed972-4a72-459d-993d-fe78f6aed66a",
   "metadata": {},
   "outputs": [
    {
     "data": {
      "text/plain": [
       "[PosixPath('tmp/VOXEL SCORE ^-^ Baseline,Inflated 3D Resnet,RGB stream,NoEnsemble,layer=(x1,x2,x3,x4),pathway=topdown,roi=WB.nii'),\n",
       " PosixPath('tmp/VOXEL SCORE ^-^ Baseline,VGG16 2D + LSTM,NoEnsemble,layer=(x1,x2,x3,x4,x5),pathway=cascade,roi=WB.nii'),\n",
       " PosixPath('tmp/VOXEL SCORE ^-^ Best,Inflated3D,HierarchicalEnsemble,RGB steram + FLOW stream,ROIxkROI.nii')]"
      ]
     },
     "execution_count": 12,
     "metadata": {},
     "output_type": "execute_result"
    }
   ],
   "source": [
    "nii_paths"
   ]
  },
  {
   "cell_type": "code",
   "execution_count": 13,
   "id": "9d8f1406-d4dc-4d5d-a3cb-5ce915b5d77a",
   "metadata": {},
   "outputs": [],
   "source": [
    "mask_img = './tmp/reliable_voxel_mask.nii'"
   ]
  },
  {
   "cell_type": "code",
   "execution_count": 32,
   "id": "4d8dad9b-d965-41e3-b574-6d6ced5a5324",
   "metadata": {},
   "outputs": [],
   "source": [
    "import numpy as np\n",
    "from nilearn import surface\n",
    "from nilearn import datasets\n",
    "import cortex\n",
    "import matplotlib.pyplot as plt\n",
    "import os"
   ]
  },
  {
   "cell_type": "code",
   "execution_count": 33,
   "id": "dd890883-0b8f-4cbe-902b-c2b3cdbafeda",
   "metadata": {},
   "outputs": [],
   "source": [
    "fsaverage = datasets.fetch_surf_fsaverage('fsaverage')"
   ]
  },
  {
   "cell_type": "code",
   "execution_count": 34,
   "id": "fb3c76e5-36bf-4172-9ffc-8cf80e245797",
   "metadata": {},
   "outputs": [],
   "source": [
    "fill_nan_value = 0"
   ]
  },
  {
   "cell_type": "code",
   "execution_count": 38,
   "id": "f41baadd-7be1-4678-b6ad-39188aacba76",
   "metadata": {},
   "outputs": [
    {
     "name": "stderr",
     "output_type": "stream",
     "text": [
      "/usr/local/anaconda3/envs/env_ube/lib/python3.8/site-packages/nilearn/surface/surface.py:464: RuntimeWarning: Mean of empty slice\n",
      "  texture = np.nanmean(all_samples, axis=2)\n",
      "/usr/local/anaconda3/envs/env_ube/lib/python3.8/site-packages/nilearn/surface/surface.py:464: RuntimeWarning: Mean of empty slice\n",
      "  texture = np.nanmean(all_samples, axis=2)\n",
      "/usr/local/anaconda3/envs/env_ube/lib/python3.8/site-packages/nilearn/surface/surface.py:464: RuntimeWarning: Mean of empty slice\n",
      "  texture = np.nanmean(all_samples, axis=2)\n",
      "/usr/local/anaconda3/envs/env_ube/lib/python3.8/site-packages/nilearn/surface/surface.py:464: RuntimeWarning: Mean of empty slice\n",
      "  texture = np.nanmean(all_samples, axis=2)\n",
      "/usr/local/anaconda3/envs/env_ube/lib/python3.8/site-packages/nilearn/surface/surface.py:464: RuntimeWarning: Mean of empty slice\n",
      "  texture = np.nanmean(all_samples, axis=2)\n",
      "/usr/local/anaconda3/envs/env_ube/lib/python3.8/site-packages/nilearn/surface/surface.py:464: RuntimeWarning: Mean of empty slice\n",
      "  texture = np.nanmean(all_samples, axis=2)\n"
     ]
    }
   ],
   "source": [
    "for nii_path in nii_paths:\n",
    "    name = nii_path.name.replace(string, '').replace('.nii', '')\n",
    "    nii_path = str(nii_path)\n",
    "    texture = np.concatenate([surface.vol_to_surf(nii_path, fsaverage.pial_left, mask_img=mask_img),\n",
    "                             surface.vol_to_surf(nii_path, fsaverage.pial_right, mask_img=mask_img)])\n",
    "    texture[np.isnan(texture)] = fill_nan_value\n",
    "    \n",
    "\n",
    "    # This creates a Vertex object for our subject and test dataset\n",
    "    vertex_data = cortex.Vertex(texture, 'fsaverage')\n",
    "\n",
    "    vertex_data.vmax = 0.5\n",
    "    vertex_data.vmin = -0.5\n",
    "\n",
    "    vertex_data.cmap = 'PuOr'\n",
    "\n",
    "\n",
    "    # And now we can display it on a flatmap\n",
    "    # cortex.quickflat.make_svg(\n",
    "    #                 'test.svg',\n",
    "    #                 vertex_data, \n",
    "    #                  # with_sulci=True,\n",
    "    #                  # with_rois=True,\n",
    "    #                  with_curvature=True,\n",
    "    #                  # with_colorbar=False,\n",
    "    #                 )\n",
    "    save_path = os.path.join('figures', 'FLAT ' + string + name + '.png')\n",
    "    cortex.quickflat.make_png(\n",
    "                save_path,\n",
    "                vertex_data, \n",
    "                 with_sulci=True,\n",
    "                 with_rois=True,\n",
    "                 with_curvature=True,\n",
    "                 with_colorbar=False,\n",
    "                dpi=350,\n",
    "                )\n",
    "    # plt.show()\n",
    "    # break"
   ]
  },
  {
   "cell_type": "code",
   "execution_count": null,
   "id": "4d049568-3b5a-4dc9-9891-b6e5b3c07bb5",
   "metadata": {},
   "outputs": [],
   "source": []
  }
 ],
 "metadata": {
  "kernelspec": {
   "display_name": "Python 3 (ipykernel)",
   "language": "python",
   "name": "python3"
  },
  "language_info": {
   "codemirror_mode": {
    "name": "ipython",
    "version": 3
   },
   "file_extension": ".py",
   "mimetype": "text/x-python",
   "name": "python",
   "nbconvert_exporter": "python",
   "pygments_lexer": "ipython3",
   "version": "3.8.8"
  }
 },
 "nbformat": 4,
 "nbformat_minor": 5
}
