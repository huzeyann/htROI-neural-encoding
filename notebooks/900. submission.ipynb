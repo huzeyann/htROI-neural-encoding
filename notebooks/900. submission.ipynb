{
 "cells": [
  {
   "cell_type": "code",
   "execution_count": 2,
   "id": "7285612f",
   "metadata": {},
   "outputs": [],
   "source": [
    "from src.utils.submission import algonauts2021_submission_from_whole_brain_prediction"
   ]
  },
  {
   "cell_type": "code",
   "execution_count": 3,
   "id": "442479af-9c9a-41af-879f-0410e6c69ad5",
   "metadata": {},
   "outputs": [],
   "source": [
    "import torch\n",
    "import numpy as np\n",
    "\n",
    "import pandas as pd\n",
    "from tqdm.auto import tqdm\n",
    "from pathlib import Path"
   ]
  },
  {
   "cell_type": "markdown",
   "id": "0709c273-08ed-40cd-9376-eab0e52a420a",
   "metadata": {},
   "source": [
    "# read outputs"
   ]
  },
  {
   "cell_type": "code",
   "execution_count": 3,
   "id": "d89012ef",
   "metadata": {},
   "outputs": [],
   "source": [
    "# read from notebook 1. and 2. (cross-notebook-ref)\n",
    "tmp_dir = '/data/huze/ray_results/algonauts2021/ensemble_outputs'\n",
    "tmp_dir = Path(tmp_dir)"
   ]
  },
  {
   "cell_type": "code",
   "execution_count": 4,
   "id": "a0ce76e1-841d-4da5-809d-daa3327a05cb",
   "metadata": {},
   "outputs": [],
   "source": [
    "prediction_dicts = []\n",
    "for path in tmp_dir.iterdir():\n",
    "    try:\n",
    "        name = path.name.replace('-prediction.pt', '')\n",
    "        d = {k: v for k, v in map(lambda kv: kv.split('='), name.split(','))}\n",
    "        d['path'] = path\n",
    "        prediction_dicts.append(d)\n",
    "    except:\n",
    "        continue\n",
    "\n",
    "prediction_df = pd.DataFrame(prediction_dicts)\n",
    "\n",
    "prediction_df.fillna('', inplace=True) # replace nan"
   ]
  },
  {
   "cell_type": "code",
   "execution_count": 5,
   "id": "6d96a3ce-d8de-4ea4-8fb3-ee2620dff495",
   "metadata": {},
   "outputs": [
    {
     "data": {
      "text/html": [
       "<div>\n",
       "<style scoped>\n",
       "    .dataframe tbody tr th:only-of-type {\n",
       "        vertical-align: middle;\n",
       "    }\n",
       "\n",
       "    .dataframe tbody tr th {\n",
       "        vertical-align: top;\n",
       "    }\n",
       "\n",
       "    .dataframe thead th {\n",
       "        text-align: right;\n",
       "    }\n",
       "</style>\n",
       "<table border=\"1\" class=\"dataframe\">\n",
       "  <thead>\n",
       "    <tr style=\"text-align: right;\">\n",
       "      <th></th>\n",
       "      <th>he_sch</th>\n",
       "      <th>model_sch</th>\n",
       "      <th>roi_sch</th>\n",
       "      <th>path</th>\n",
       "      <th>cross_roi_sch</th>\n",
       "    </tr>\n",
       "  </thead>\n",
       "  <tbody>\n",
       "    <tr>\n",
       "      <th>0</th>\n",
       "      <td>H3</td>\n",
       "      <td>multi_layer&amp;i3d_rgb</td>\n",
       "      <td>WB</td>\n",
       "      <td>/data/huze/ray_results/algonauts2021/ensemble_...</td>\n",
       "      <td></td>\n",
       "    </tr>\n",
       "    <tr>\n",
       "      <th>1</th>\n",
       "      <td>H1</td>\n",
       "      <td>single_layer&amp;i3d_rgb+i3d_flow</td>\n",
       "      <td>ROIxSMC</td>\n",
       "      <td>/data/huze/ray_results/algonauts2021/ensemble_...</td>\n",
       "      <td>croi_ensemble</td>\n",
       "    </tr>\n",
       "    <tr>\n",
       "      <th>2</th>\n",
       "      <td>H3</td>\n",
       "      <td>single_layer&amp;i3d_rgb</td>\n",
       "      <td>ROIxSMC</td>\n",
       "      <td>/data/huze/ray_results/algonauts2021/ensemble_...</td>\n",
       "      <td>voxel_swap</td>\n",
       "    </tr>\n",
       "    <tr>\n",
       "      <th>3</th>\n",
       "      <td>H3</td>\n",
       "      <td>single_layer+multi_layer&amp;i3d_rgb</td>\n",
       "      <td>ROIxMC</td>\n",
       "      <td>/data/huze/ray_results/algonauts2021/ensemble_...</td>\n",
       "      <td>croi_ensemble</td>\n",
       "    </tr>\n",
       "    <tr>\n",
       "      <th>4</th>\n",
       "      <td>H3</td>\n",
       "      <td>multi_layer&amp;i3d_flow</td>\n",
       "      <td>LC</td>\n",
       "      <td>/data/huze/ray_results/algonauts2021/ensemble_...</td>\n",
       "      <td></td>\n",
       "    </tr>\n",
       "  </tbody>\n",
       "</table>\n",
       "</div>"
      ],
      "text/plain": [
       "  he_sch                         model_sch  roi_sch  \\\n",
       "0     H3               multi_layer&i3d_rgb       WB   \n",
       "1     H1     single_layer&i3d_rgb+i3d_flow  ROIxSMC   \n",
       "2     H3              single_layer&i3d_rgb  ROIxSMC   \n",
       "3     H3  single_layer+multi_layer&i3d_rgb   ROIxMC   \n",
       "4     H3              multi_layer&i3d_flow       LC   \n",
       "\n",
       "                                                path  cross_roi_sch  \n",
       "0  /data/huze/ray_results/algonauts2021/ensemble_...                 \n",
       "1  /data/huze/ray_results/algonauts2021/ensemble_...  croi_ensemble  \n",
       "2  /data/huze/ray_results/algonauts2021/ensemble_...     voxel_swap  \n",
       "3  /data/huze/ray_results/algonauts2021/ensemble_...  croi_ensemble  \n",
       "4  /data/huze/ray_results/algonauts2021/ensemble_...                 "
      ]
     },
     "execution_count": 5,
     "metadata": {},
     "output_type": "execute_result"
    }
   ],
   "source": [
    "prediction_df.head()"
   ]
  },
  {
   "cell_type": "code",
   "execution_count": 6,
   "id": "88966e26-432a-47cf-83bd-fbb5d2679a9d",
   "metadata": {},
   "outputs": [
    {
     "data": {
      "text/plain": [
       "he_sch             3\n",
       "model_sch          9\n",
       "roi_sch           10\n",
       "path             196\n",
       "cross_roi_sch      4\n",
       "dtype: int64"
      ]
     },
     "execution_count": 6,
     "metadata": {},
     "output_type": "execute_result"
    }
   ],
   "source": [
    "prediction_df.nunique()"
   ]
  },
  {
   "cell_type": "code",
   "execution_count": 7,
   "id": "f41c381c-238c-40fe-827c-ea9250b3e318",
   "metadata": {},
   "outputs": [
    {
     "name": "stdout",
     "output_type": "stream",
     "text": [
      "'he_sch'\n",
      "3\n",
      "['H3', 'H1', 'H2']\n",
      "'model_sch'\n",
      "9\n",
      "['multi_layer&i3d_rgb',\n",
      " 'single_layer&i3d_rgb+i3d_flow',\n",
      " 'single_layer&i3d_rgb',\n",
      " 'single_layer+multi_layer&i3d_rgb',\n",
      " 'multi_layer&i3d_flow',\n",
      " 'single_layer+multi_layer&i3d_rgb+i3d_flow',\n",
      " 'multi_layer&i3d_rgb+i3d_flow',\n",
      " 'single_layer+multi_layer&i3d_flow',\n",
      " 'single_layer&i3d_flow']\n",
      "'roi_sch'\n",
      "10\n",
      "['WB', 'ROIxSMC', 'ROIxMC', 'LC', 'ROIxSC', 'ROIxLC', 'ROI', 'SMC', 'SC', 'MC']\n",
      "'cross_roi_sch'\n",
      "4\n",
      "['', 'croi_ensemble', 'voxel_swap', 'croi_swap']\n"
     ]
    }
   ],
   "source": [
    "from pprint import pprint\n",
    "\n",
    "for ckey in prediction_df.keys():\n",
    "    if ckey == 'path':\n",
    "        continue\n",
    "    pprint(ckey)\n",
    "    lst = prediction_df[ckey].dropna().unique().tolist()\n",
    "    pprint(len(lst))\n",
    "    pprint(lst)"
   ]
  },
  {
   "cell_type": "markdown",
   "id": "1e6b0e8e-8855-4e8d-bb36-1562b34e5db1",
   "metadata": {},
   "source": [
    "# submission"
   ]
  },
  {
   "cell_type": "code",
   "execution_count": 8,
   "id": "a9b65457-d951-4ce4-ac03-5fac6283ace8",
   "metadata": {},
   "outputs": [],
   "source": [
    "# only submit interesting configs"
   ]
  },
  {
   "cell_type": "code",
   "execution_count": 9,
   "id": "58af7f38-d6d7-43c8-a5b3-c461692372c0",
   "metadata": {},
   "outputs": [],
   "source": [
    "submission_configs_keys = ['model_sch', 'he_sch', 'roi_sch', 'cross_roi_sch']\n",
    "submission_configs = []\n",
    "\n",
    "table_configs = []\n",
    "# is `ROI` working. \n",
    "# saved at notebook 1. (cross-notebook-ref)\n",
    "table_configs.append([\n",
    "    ('single_layer&i3d_rgb+i3d_flow', 'H3', roi_sch, 'croi_ensemble' if 'x' in roi_sch else '')\n",
    "    for roi_sch in prediction_df['roi_sch'].dropna().unique().tolist()])\n",
    "# is `cross ROI combine` working. \n",
    "# saved at notebook 2. (cross-notebook-ref)\n",
    "table_configs.append([\n",
    "    ('single_layer&i3d_rgb+i3d_flow', 'H3', 'ROIxSMC', 'croi_ensemble'),\n",
    "    ('single_layer&i3d_rgb+i3d_flow', 'H3', 'ROIxSMC', 'croi_swap'),\n",
    "    ('single_layer&i3d_rgb+i3d_flow', 'H3', 'ROIxSMC', 'voxel_swap'),\n",
    "    ('single_layer&i3d_rgb+i3d_flow', 'H3', 'ROI', ''),\n",
    "    ('single_layer&i3d_rgb+i3d_flow', 'H3', 'SMC', ''),])\n",
    "# which variant of our ROI is best. \n",
    "# saved at notebook 1. and 2. (cross-notebook-ref)\n",
    "table_configs.append([\n",
    "    ('single_layer&i3d_rgb+i3d_flow', 'H3', roi_sch, 'croi_ensemble')\n",
    "    for roi_sch in prediction_df['roi_sch'].dropna().unique().tolist() if 'x' in roi_sch])\n",
    "# is `hierachy` working. \n",
    "# saved at notebook 1. and 2. (cross-notebook-ref)\n",
    "table_configs.append([\n",
    "    ('single_layer&i3d_rgb+i3d_flow', he_sch, 'ROIxSMC', 'croi_ensemble')\n",
    "    for he_sch in prediction_df['he_sch'].dropna().unique().tolist()])\n",
    "# model schematics. \n",
    "# saved at notebook 1. and 2. (cross-notebook-ref)\n",
    "table_configs.append([\n",
    "    (model_sch, 'H3', 'ROIxSMC', 'croi_ensemble') \n",
    "    for model_sch in prediction_df['model_sch'].dropna().unique().tolist()])\n",
    "\n",
    "submission_configs = set(sum(table_configs, []))"
   ]
  },
  {
   "cell_type": "raw",
   "id": "bb6c347d-7902-41c2-a14e-a6db3551803a",
   "metadata": {},
   "source": [
    "# load from notebook 900. (cross-notebook-ref)\n",
    "submission_configs_keys = ['model_sch', 'he_sch', 'roi_sch', 'cross_roi_sch']\n",
    "table_configs = [\n",
    "    [\n",
    "        ('single_layer&i3d_rgb+i3d_flow', 'H3', 'WB', ''),\n",
    "        ('single_layer&i3d_rgb+i3d_flow', 'H3', 'ROI', ''),\n",
    "        ('single_layer&i3d_rgb+i3d_flow', 'H3', 'SMC', ''),\n",
    "        ('single_layer&i3d_rgb+i3d_flow', 'H3', 'ROIxSMC', 'croi_ensemble'),\n",
    "    ],\n",
    "    [\n",
    "        ('single_layer&i3d_rgb+i3d_flow', 'H3', 'LC', ''),\n",
    "        ('single_layer&i3d_rgb+i3d_flow', 'H3', 'MC', ''),\n",
    "        ('single_layer&i3d_rgb+i3d_flow', 'H3', 'SMC', ''),\n",
    "        ('single_layer&i3d_rgb+i3d_flow', 'H3', 'SC', ''),\n",
    "        ('single_layer&i3d_rgb+i3d_flow', 'H3', 'ROIxLC', 'croi_ensemble'),\n",
    "        ('single_layer&i3d_rgb+i3d_flow', 'H3', 'ROIxMC', 'croi_ensemble'),\n",
    "        ('single_layer&i3d_rgb+i3d_flow', 'H3', 'ROIxSMC', 'croi_ensemble'),\n",
    "        ('single_layer&i3d_rgb+i3d_flow', 'H3', 'ROIxSC', 'croi_ensemble'),\n",
    "    ],\n",
    "    [\n",
    "        ('single_layer&i3d_rgb+i3d_flow', 'H3', 'ROI', ''),\n",
    "        ('single_layer&i3d_rgb+i3d_flow', 'H3', 'SMC', ''),\n",
    "        ('single_layer&i3d_rgb+i3d_flow', 'H3', 'ROIxSMC', 'croi_ensemble'),\n",
    "        ('single_layer&i3d_rgb+i3d_flow', 'H3', 'ROIxSMC', 'croi_swap'),\n",
    "        ('single_layer&i3d_rgb+i3d_flow', 'H3', 'ROIxSMC', 'voxel_swap'),\n",
    "    ],\n",
    "    [\n",
    "        ('single_layer&i3d_rgb+i3d_flow', 'H3', 'ROIxLC', 'croi_ensemble'),\n",
    "        ('single_layer&i3d_rgb+i3d_flow', 'H3', 'ROIxMC', 'croi_ensemble'),\n",
    "        ('single_layer&i3d_rgb+i3d_flow', 'H3', 'ROIxSMC', 'croi_ensemble'),\n",
    "        ('single_layer&i3d_rgb+i3d_flow', 'H3', 'ROIxSC', 'croi_ensemble'),\n",
    "    ],\n",
    "    [\n",
    "        ('single_layer&i3d_rgb+i3d_flow', 'H1', 'ROIxSMC', 'croi_ensemble'),\n",
    "        ('single_layer&i3d_rgb+i3d_flow', 'H2', 'ROIxSMC', 'croi_ensemble'),\n",
    "        ('single_layer&i3d_rgb+i3d_flow', 'H3', 'ROIxSMC', 'croi_ensemble'),\n",
    "    ],\n",
    "    [\n",
    "        ('single_layer&i3d_rgb', 'H3', 'ROIxSMC', 'croi_ensemble'),\n",
    "        ('single_layer&i3d_flow', 'H3', 'ROIxSMC', 'croi_ensemble'),\n",
    "        ('single_layer&i3d_rgb+i3d_flow', 'H3', 'ROIxSMC', 'croi_ensemble'),\n",
    "        ('multi_layer&i3d_rgb', 'H3', 'ROIxSMC', 'croi_ensemble'),\n",
    "        ('multi_layer&i3d_flow', 'H3', 'ROIxSMC', 'croi_ensemble'),\n",
    "        ('multi_layer&i3d_rgb+i3d_flow', 'H3', 'ROIxSMC', 'croi_ensemble'),\n",
    "        ('single_layer+multi_layer&i3d_rgb', 'H3', 'ROIxSMC', 'croi_ensemble'),\n",
    "        ('single_layer+multi_layer&i3d_flow', 'H3', 'ROIxSMC', 'croi_ensemble'),\n",
    "        ('single_layer+multi_layer&i3d_rgb+i3d_flow', 'H3', 'ROIxSMC', 'croi_ensemble'),\n",
    "    ]\n",
    "]\n",
    "# table_configs = torch.load('./tmp/table_configs.pt')"
   ]
  },
  {
   "cell_type": "code",
   "execution_count": 17,
   "id": "6964bd57-e188-4fe7-ae6a-815f6a91e991",
   "metadata": {},
   "outputs": [],
   "source": [
    "torch.save(table_configs, './tmp/table_configs.pt')"
   ]
  },
  {
   "cell_type": "code",
   "execution_count": 10,
   "id": "b4cc182a-a630-4bf6-816b-e7e2aa4ada30",
   "metadata": {},
   "outputs": [
    {
     "data": {
      "text/plain": [
       "{('multi_layer&i3d_flow', 'H3', 'ROIxSMC', 'croi_ensemble'),\n",
       " ('multi_layer&i3d_rgb', 'H3', 'ROIxSMC', 'croi_ensemble'),\n",
       " ('multi_layer&i3d_rgb+i3d_flow', 'H3', 'ROIxSMC', 'croi_ensemble'),\n",
       " ('single_layer&i3d_flow', 'H3', 'ROIxSMC', 'croi_ensemble'),\n",
       " ('single_layer&i3d_rgb', 'H3', 'ROIxSMC', 'croi_ensemble'),\n",
       " ('single_layer&i3d_rgb+i3d_flow', 'H1', 'ROIxSMC', 'croi_ensemble'),\n",
       " ('single_layer&i3d_rgb+i3d_flow', 'H2', 'ROIxSMC', 'croi_ensemble'),\n",
       " ('single_layer&i3d_rgb+i3d_flow', 'H3', 'LC', ''),\n",
       " ('single_layer&i3d_rgb+i3d_flow', 'H3', 'MC', ''),\n",
       " ('single_layer&i3d_rgb+i3d_flow', 'H3', 'ROI', ''),\n",
       " ('single_layer&i3d_rgb+i3d_flow', 'H3', 'ROIxLC', 'croi_ensemble'),\n",
       " ('single_layer&i3d_rgb+i3d_flow', 'H3', 'ROIxMC', 'croi_ensemble'),\n",
       " ('single_layer&i3d_rgb+i3d_flow', 'H3', 'ROIxSC', 'croi_ensemble'),\n",
       " ('single_layer&i3d_rgb+i3d_flow', 'H3', 'ROIxSMC', 'croi_ensemble'),\n",
       " ('single_layer&i3d_rgb+i3d_flow', 'H3', 'ROIxSMC', 'croi_swap'),\n",
       " ('single_layer&i3d_rgb+i3d_flow', 'H3', 'ROIxSMC', 'voxel_swap'),\n",
       " ('single_layer&i3d_rgb+i3d_flow', 'H3', 'SC', ''),\n",
       " ('single_layer&i3d_rgb+i3d_flow', 'H3', 'SMC', ''),\n",
       " ('single_layer&i3d_rgb+i3d_flow', 'H3', 'WB', ''),\n",
       " ('single_layer+multi_layer&i3d_flow', 'H3', 'ROIxSMC', 'croi_ensemble'),\n",
       " ('single_layer+multi_layer&i3d_rgb', 'H3', 'ROIxSMC', 'croi_ensemble'),\n",
       " ('single_layer+multi_layer&i3d_rgb+i3d_flow',\n",
       "  'H3',\n",
       "  'ROIxSMC',\n",
       "  'croi_ensemble')}"
      ]
     },
     "execution_count": 10,
     "metadata": {},
     "output_type": "execute_result"
    }
   ],
   "source": [
    "submission_configs"
   ]
  },
  {
   "cell_type": "code",
   "execution_count": 11,
   "id": "bf31e22f-3ca4-49ff-b5e4-cbb779412506",
   "metadata": {},
   "outputs": [
    {
     "data": {
      "text/plain": [
       "22"
      ]
     },
     "execution_count": 11,
     "metadata": {},
     "output_type": "execute_result"
    }
   ],
   "source": [
    "len(submission_configs)"
   ]
  },
  {
   "cell_type": "code",
   "execution_count": 12,
   "id": "ba688768-18f2-472a-bd5d-029cb15fc15a",
   "metadata": {},
   "outputs": [],
   "source": [
    "from src.utils.misc import my_query_df"
   ]
  },
  {
   "cell_type": "code",
   "execution_count": 18,
   "id": "3761f7e0-6741-4740-84b2-2a6c5d0b446a",
   "metadata": {},
   "outputs": [],
   "source": [
    "!rm -r submissions"
   ]
  },
  {
   "cell_type": "code",
   "execution_count": 14,
   "id": "75ee8047-b3fa-4f63-b1f7-037d068fa05f",
   "metadata": {},
   "outputs": [
    {
     "data": {
      "application/vnd.jupyter.widget-view+json": {
       "model_id": "207aaeb8c48f4f72bde5d312e0baec45",
       "version_major": 2,
       "version_minor": 0
      },
      "text/plain": [
       "0it [00:00, ?it/s]"
      ]
     },
     "metadata": {},
     "output_type": "display_data"
    }
   ],
   "source": [
    "submission_dicts = []\n",
    "for i_submission, submission_config in tqdm(enumerate(submission_configs)):\n",
    "    submission_config_dict = {k: v for k, v in zip(submission_configs_keys, submission_config)}\n",
    "    # pprint(submission_config_dict)\n",
    "    df = my_query_df(prediction_df, equal_dict=submission_config_dict)\n",
    "    if len(df) == 0:\n",
    "        print('warning: config with no output, please run notebook 1. and 2. first. config:', submission_config_dict)\n",
    "        continue\n",
    "    assert len(df) == 1\n",
    "    path = df.path.item()\n",
    "    name = path.name.replace('-prediction.pt', '')\n",
    "\n",
    "    i_submission = f'{i_submission:03d}'\n",
    "    submission_name = f'i={i_submission},{name}'\n",
    "    submission_config_dict['i_submission'] = i_submission\n",
    "    submission_config_dict['path'] = path\n",
    "    submission_dicts.append(submission_config_dict)\n",
    "    \n",
    "    prediction = torch.load(path)\n",
    "    prediction = prediction[1000:].float().numpy()\n",
    "\n",
    "    algonauts2021_submission_from_whole_brain_prediction('../src/config/dataset',\n",
    "                                                        submission_name,\n",
    "                                                        prediction,\n",
    "                                                        output_dir='./submissions/')\n",
    "\n",
    "submission_df = pd.DataFrame(submission_dicts)"
   ]
  },
  {
   "cell_type": "code",
   "execution_count": 15,
   "id": "4d79dad5-4f27-42f7-b049-6e963967f480",
   "metadata": {},
   "outputs": [
    {
     "data": {
      "text/html": [
       "<div>\n",
       "<style scoped>\n",
       "    .dataframe tbody tr th:only-of-type {\n",
       "        vertical-align: middle;\n",
       "    }\n",
       "\n",
       "    .dataframe tbody tr th {\n",
       "        vertical-align: top;\n",
       "    }\n",
       "\n",
       "    .dataframe thead th {\n",
       "        text-align: right;\n",
       "    }\n",
       "</style>\n",
       "<table border=\"1\" class=\"dataframe\">\n",
       "  <thead>\n",
       "    <tr style=\"text-align: right;\">\n",
       "      <th></th>\n",
       "      <th>model_sch</th>\n",
       "      <th>he_sch</th>\n",
       "      <th>roi_sch</th>\n",
       "      <th>cross_roi_sch</th>\n",
       "      <th>i_submission</th>\n",
       "      <th>path</th>\n",
       "    </tr>\n",
       "  </thead>\n",
       "  <tbody>\n",
       "    <tr>\n",
       "      <th>0</th>\n",
       "      <td>multi_layer&amp;i3d_rgb</td>\n",
       "      <td>H3</td>\n",
       "      <td>ROIxSMC</td>\n",
       "      <td>croi_ensemble</td>\n",
       "      <td>000</td>\n",
       "      <td>/data/huze/ray_results/algonauts2021/ensemble_...</td>\n",
       "    </tr>\n",
       "    <tr>\n",
       "      <th>1</th>\n",
       "      <td>single_layer&amp;i3d_rgb+i3d_flow</td>\n",
       "      <td>H3</td>\n",
       "      <td>ROIxSC</td>\n",
       "      <td>croi_ensemble</td>\n",
       "      <td>001</td>\n",
       "      <td>/data/huze/ray_results/algonauts2021/ensemble_...</td>\n",
       "    </tr>\n",
       "    <tr>\n",
       "      <th>2</th>\n",
       "      <td>single_layer&amp;i3d_rgb+i3d_flow</td>\n",
       "      <td>H3</td>\n",
       "      <td>ROI</td>\n",
       "      <td></td>\n",
       "      <td>002</td>\n",
       "      <td>/data/huze/ray_results/algonauts2021/ensemble_...</td>\n",
       "    </tr>\n",
       "    <tr>\n",
       "      <th>3</th>\n",
       "      <td>single_layer&amp;i3d_rgb+i3d_flow</td>\n",
       "      <td>H3</td>\n",
       "      <td>WB</td>\n",
       "      <td></td>\n",
       "      <td>003</td>\n",
       "      <td>/data/huze/ray_results/algonauts2021/ensemble_...</td>\n",
       "    </tr>\n",
       "    <tr>\n",
       "      <th>4</th>\n",
       "      <td>single_layer&amp;i3d_flow</td>\n",
       "      <td>H3</td>\n",
       "      <td>ROIxSMC</td>\n",
       "      <td>croi_ensemble</td>\n",
       "      <td>004</td>\n",
       "      <td>/data/huze/ray_results/algonauts2021/ensemble_...</td>\n",
       "    </tr>\n",
       "    <tr>\n",
       "      <th>5</th>\n",
       "      <td>single_layer&amp;i3d_rgb+i3d_flow</td>\n",
       "      <td>H1</td>\n",
       "      <td>ROIxSMC</td>\n",
       "      <td>croi_ensemble</td>\n",
       "      <td>005</td>\n",
       "      <td>/data/huze/ray_results/algonauts2021/ensemble_...</td>\n",
       "    </tr>\n",
       "    <tr>\n",
       "      <th>6</th>\n",
       "      <td>single_layer&amp;i3d_rgb+i3d_flow</td>\n",
       "      <td>H3</td>\n",
       "      <td>ROIxLC</td>\n",
       "      <td>croi_ensemble</td>\n",
       "      <td>006</td>\n",
       "      <td>/data/huze/ray_results/algonauts2021/ensemble_...</td>\n",
       "    </tr>\n",
       "    <tr>\n",
       "      <th>7</th>\n",
       "      <td>multi_layer&amp;i3d_flow</td>\n",
       "      <td>H3</td>\n",
       "      <td>ROIxSMC</td>\n",
       "      <td>croi_ensemble</td>\n",
       "      <td>007</td>\n",
       "      <td>/data/huze/ray_results/algonauts2021/ensemble_...</td>\n",
       "    </tr>\n",
       "    <tr>\n",
       "      <th>8</th>\n",
       "      <td>single_layer&amp;i3d_rgb+i3d_flow</td>\n",
       "      <td>H3</td>\n",
       "      <td>SMC</td>\n",
       "      <td></td>\n",
       "      <td>008</td>\n",
       "      <td>/data/huze/ray_results/algonauts2021/ensemble_...</td>\n",
       "    </tr>\n",
       "    <tr>\n",
       "      <th>9</th>\n",
       "      <td>single_layer&amp;i3d_rgb+i3d_flow</td>\n",
       "      <td>H2</td>\n",
       "      <td>ROIxSMC</td>\n",
       "      <td>croi_ensemble</td>\n",
       "      <td>009</td>\n",
       "      <td>/data/huze/ray_results/algonauts2021/ensemble_...</td>\n",
       "    </tr>\n",
       "    <tr>\n",
       "      <th>10</th>\n",
       "      <td>single_layer&amp;i3d_rgb+i3d_flow</td>\n",
       "      <td>H3</td>\n",
       "      <td>ROIxSMC</td>\n",
       "      <td>voxel_swap</td>\n",
       "      <td>010</td>\n",
       "      <td>/data/huze/ray_results/algonauts2021/ensemble_...</td>\n",
       "    </tr>\n",
       "    <tr>\n",
       "      <th>11</th>\n",
       "      <td>single_layer+multi_layer&amp;i3d_rgb+i3d_flow</td>\n",
       "      <td>H3</td>\n",
       "      <td>ROIxSMC</td>\n",
       "      <td>croi_ensemble</td>\n",
       "      <td>011</td>\n",
       "      <td>/data/huze/ray_results/algonauts2021/ensemble_...</td>\n",
       "    </tr>\n",
       "    <tr>\n",
       "      <th>12</th>\n",
       "      <td>single_layer+multi_layer&amp;i3d_flow</td>\n",
       "      <td>H3</td>\n",
       "      <td>ROIxSMC</td>\n",
       "      <td>croi_ensemble</td>\n",
       "      <td>012</td>\n",
       "      <td>/data/huze/ray_results/algonauts2021/ensemble_...</td>\n",
       "    </tr>\n",
       "    <tr>\n",
       "      <th>13</th>\n",
       "      <td>single_layer+multi_layer&amp;i3d_rgb</td>\n",
       "      <td>H3</td>\n",
       "      <td>ROIxSMC</td>\n",
       "      <td>croi_ensemble</td>\n",
       "      <td>013</td>\n",
       "      <td>/data/huze/ray_results/algonauts2021/ensemble_...</td>\n",
       "    </tr>\n",
       "    <tr>\n",
       "      <th>14</th>\n",
       "      <td>single_layer&amp;i3d_rgb+i3d_flow</td>\n",
       "      <td>H3</td>\n",
       "      <td>ROIxSMC</td>\n",
       "      <td>croi_ensemble</td>\n",
       "      <td>014</td>\n",
       "      <td>/data/huze/ray_results/algonauts2021/ensemble_...</td>\n",
       "    </tr>\n",
       "    <tr>\n",
       "      <th>15</th>\n",
       "      <td>single_layer&amp;i3d_rgb+i3d_flow</td>\n",
       "      <td>H3</td>\n",
       "      <td>ROIxMC</td>\n",
       "      <td>croi_ensemble</td>\n",
       "      <td>015</td>\n",
       "      <td>/data/huze/ray_results/algonauts2021/ensemble_...</td>\n",
       "    </tr>\n",
       "    <tr>\n",
       "      <th>16</th>\n",
       "      <td>single_layer&amp;i3d_rgb</td>\n",
       "      <td>H3</td>\n",
       "      <td>ROIxSMC</td>\n",
       "      <td>croi_ensemble</td>\n",
       "      <td>016</td>\n",
       "      <td>/data/huze/ray_results/algonauts2021/ensemble_...</td>\n",
       "    </tr>\n",
       "    <tr>\n",
       "      <th>17</th>\n",
       "      <td>single_layer&amp;i3d_rgb+i3d_flow</td>\n",
       "      <td>H3</td>\n",
       "      <td>ROIxSMC</td>\n",
       "      <td>croi_swap</td>\n",
       "      <td>017</td>\n",
       "      <td>/data/huze/ray_results/algonauts2021/ensemble_...</td>\n",
       "    </tr>\n",
       "    <tr>\n",
       "      <th>18</th>\n",
       "      <td>single_layer&amp;i3d_rgb+i3d_flow</td>\n",
       "      <td>H3</td>\n",
       "      <td>LC</td>\n",
       "      <td></td>\n",
       "      <td>018</td>\n",
       "      <td>/data/huze/ray_results/algonauts2021/ensemble_...</td>\n",
       "    </tr>\n",
       "    <tr>\n",
       "      <th>19</th>\n",
       "      <td>single_layer&amp;i3d_rgb+i3d_flow</td>\n",
       "      <td>H3</td>\n",
       "      <td>SC</td>\n",
       "      <td></td>\n",
       "      <td>019</td>\n",
       "      <td>/data/huze/ray_results/algonauts2021/ensemble_...</td>\n",
       "    </tr>\n",
       "    <tr>\n",
       "      <th>20</th>\n",
       "      <td>single_layer&amp;i3d_rgb+i3d_flow</td>\n",
       "      <td>H3</td>\n",
       "      <td>MC</td>\n",
       "      <td></td>\n",
       "      <td>020</td>\n",
       "      <td>/data/huze/ray_results/algonauts2021/ensemble_...</td>\n",
       "    </tr>\n",
       "    <tr>\n",
       "      <th>21</th>\n",
       "      <td>multi_layer&amp;i3d_rgb+i3d_flow</td>\n",
       "      <td>H3</td>\n",
       "      <td>ROIxSMC</td>\n",
       "      <td>croi_ensemble</td>\n",
       "      <td>021</td>\n",
       "      <td>/data/huze/ray_results/algonauts2021/ensemble_...</td>\n",
       "    </tr>\n",
       "  </tbody>\n",
       "</table>\n",
       "</div>"
      ],
      "text/plain": [
       "                                    model_sch he_sch  roi_sch  cross_roi_sch  \\\n",
       "0                         multi_layer&i3d_rgb     H3  ROIxSMC  croi_ensemble   \n",
       "1               single_layer&i3d_rgb+i3d_flow     H3   ROIxSC  croi_ensemble   \n",
       "2               single_layer&i3d_rgb+i3d_flow     H3      ROI                  \n",
       "3               single_layer&i3d_rgb+i3d_flow     H3       WB                  \n",
       "4                       single_layer&i3d_flow     H3  ROIxSMC  croi_ensemble   \n",
       "5               single_layer&i3d_rgb+i3d_flow     H1  ROIxSMC  croi_ensemble   \n",
       "6               single_layer&i3d_rgb+i3d_flow     H3   ROIxLC  croi_ensemble   \n",
       "7                        multi_layer&i3d_flow     H3  ROIxSMC  croi_ensemble   \n",
       "8               single_layer&i3d_rgb+i3d_flow     H3      SMC                  \n",
       "9               single_layer&i3d_rgb+i3d_flow     H2  ROIxSMC  croi_ensemble   \n",
       "10              single_layer&i3d_rgb+i3d_flow     H3  ROIxSMC     voxel_swap   \n",
       "11  single_layer+multi_layer&i3d_rgb+i3d_flow     H3  ROIxSMC  croi_ensemble   \n",
       "12          single_layer+multi_layer&i3d_flow     H3  ROIxSMC  croi_ensemble   \n",
       "13           single_layer+multi_layer&i3d_rgb     H3  ROIxSMC  croi_ensemble   \n",
       "14              single_layer&i3d_rgb+i3d_flow     H3  ROIxSMC  croi_ensemble   \n",
       "15              single_layer&i3d_rgb+i3d_flow     H3   ROIxMC  croi_ensemble   \n",
       "16                       single_layer&i3d_rgb     H3  ROIxSMC  croi_ensemble   \n",
       "17              single_layer&i3d_rgb+i3d_flow     H3  ROIxSMC      croi_swap   \n",
       "18              single_layer&i3d_rgb+i3d_flow     H3       LC                  \n",
       "19              single_layer&i3d_rgb+i3d_flow     H3       SC                  \n",
       "20              single_layer&i3d_rgb+i3d_flow     H3       MC                  \n",
       "21               multi_layer&i3d_rgb+i3d_flow     H3  ROIxSMC  croi_ensemble   \n",
       "\n",
       "   i_submission                                               path  \n",
       "0           000  /data/huze/ray_results/algonauts2021/ensemble_...  \n",
       "1           001  /data/huze/ray_results/algonauts2021/ensemble_...  \n",
       "2           002  /data/huze/ray_results/algonauts2021/ensemble_...  \n",
       "3           003  /data/huze/ray_results/algonauts2021/ensemble_...  \n",
       "4           004  /data/huze/ray_results/algonauts2021/ensemble_...  \n",
       "5           005  /data/huze/ray_results/algonauts2021/ensemble_...  \n",
       "6           006  /data/huze/ray_results/algonauts2021/ensemble_...  \n",
       "7           007  /data/huze/ray_results/algonauts2021/ensemble_...  \n",
       "8           008  /data/huze/ray_results/algonauts2021/ensemble_...  \n",
       "9           009  /data/huze/ray_results/algonauts2021/ensemble_...  \n",
       "10          010  /data/huze/ray_results/algonauts2021/ensemble_...  \n",
       "11          011  /data/huze/ray_results/algonauts2021/ensemble_...  \n",
       "12          012  /data/huze/ray_results/algonauts2021/ensemble_...  \n",
       "13          013  /data/huze/ray_results/algonauts2021/ensemble_...  \n",
       "14          014  /data/huze/ray_results/algonauts2021/ensemble_...  \n",
       "15          015  /data/huze/ray_results/algonauts2021/ensemble_...  \n",
       "16          016  /data/huze/ray_results/algonauts2021/ensemble_...  \n",
       "17          017  /data/huze/ray_results/algonauts2021/ensemble_...  \n",
       "18          018  /data/huze/ray_results/algonauts2021/ensemble_...  \n",
       "19          019  /data/huze/ray_results/algonauts2021/ensemble_...  \n",
       "20          020  /data/huze/ray_results/algonauts2021/ensemble_...  \n",
       "21          021  /data/huze/ray_results/algonauts2021/ensemble_...  "
      ]
     },
     "execution_count": 15,
     "metadata": {},
     "output_type": "execute_result"
    }
   ],
   "source": [
    "submission_df"
   ]
  },
  {
   "cell_type": "code",
   "execution_count": 16,
   "id": "bbf930aa-deac-4c30-b9be-73e9d061ccfb",
   "metadata": {},
   "outputs": [],
   "source": [
    "torch.save(submission_df, './tmp/submission_df.pt')"
   ]
  },
  {
   "cell_type": "code",
   "execution_count": null,
   "id": "5a78e2b1-5d39-416b-8e66-8a67115c453b",
   "metadata": {},
   "outputs": [],
   "source": []
  },
  {
   "cell_type": "code",
   "execution_count": null,
   "id": "56305928-4c79-4c61-bb6e-e43469817165",
   "metadata": {},
   "outputs": [],
   "source": []
  },
  {
   "cell_type": "markdown",
   "id": "e74ce800-6d2b-4fd5-9207-cc17808ced2d",
   "metadata": {},
   "source": [
    "# baseline"
   ]
  },
  {
   "cell_type": "code",
   "execution_count": 6,
   "id": "7c30b94c-82a2-4d1f-8068-c3c0246501f9",
   "metadata": {},
   "outputs": [],
   "source": [
    "# from notebook 201. (corss-notebook-ref)\n",
    "predictions_dict = {\n",
    "    # from previous project, notebook 'plot mc fi score, maybe final'\n",
    "    'Baseline,VGG16 2D + LSTM,NoEnsemble,layer=(x1,x2,x3,x4,x5),pathway=cascade,roi=WB': Path(\n",
    "        '/data_smr/huze/projects/my_algonauts/predictions/bc4bd42bc70d409daebe27f2c0fae255/WB.pt'),\n",
    "    # from notebook 1.\n",
    "    'Baseline,Inflated 3D Resnet,RGB stream,NoEnsemble,layer=(x1,x2,x3,x4),pathway=topdown,roi=WB': Path(\n",
    "        \"/data/huze/ray_results/algonauts2021/algonauts2021_i3d_rgb-multi_layer/run_single_tune_config_575a8_00066_66_DATASET.ROI=WB,MODEL.BACKBONE.LAYERS=_'x1', 'x2', 'x3', 'x4'_,MODEL.BACKBONE.LAYER_PATHWAYS=_2022-02-26_14-18-59/prediction.npy\"),\n",
    "}\n",
    "predictions_dict = {k: path for k, path in predictions_dict.items() if path.exists()}\n",
    "assert len(predictions_dict) > 1"
   ]
  },
  {
   "cell_type": "code",
   "execution_count": 13,
   "id": "35fbbf52-78f6-42de-bdaf-329f50322791",
   "metadata": {},
   "outputs": [],
   "source": [
    "for name, path in predictions_dict.items():\n",
    "    if path.name.endswith('.pt'):\n",
    "        prediction = torch.load(path).float()\n",
    "    else:\n",
    "        prediction = torch.tensor(np.load(path)).float()\n",
    "    \n",
    "    submission_name = name\n",
    "    prediction = prediction[1000:].numpy()\n",
    "\n",
    "    algonauts2021_submission_from_whole_brain_prediction('../src/config/dataset',\n",
    "                                                    submission_name,\n",
    "                                                    prediction,\n",
    "                                                    output_dir='./submissions/')"
   ]
  },
  {
   "cell_type": "code",
   "execution_count": null,
   "id": "ee558213-c645-47a6-adc1-8b193da33ccd",
   "metadata": {},
   "outputs": [],
   "source": []
  },
  {
   "cell_type": "code",
   "execution_count": null,
   "id": "ece719e0-1871-48bc-8fe3-e44bc4d46010",
   "metadata": {},
   "outputs": [],
   "source": []
  },
  {
   "cell_type": "code",
   "execution_count": null,
   "id": "99cae93c-0504-4256-b41e-015514db6ca6",
   "metadata": {},
   "outputs": [],
   "source": []
  },
  {
   "cell_type": "code",
   "execution_count": 55,
   "id": "042e3bed-dbb8-4888-b0bb-78ca7f0fcf2a",
   "metadata": {},
   "outputs": [],
   "source": [
    "# draft"
   ]
  },
  {
   "cell_type": "code",
   "execution_count": 29,
   "id": "9aebc070-30be-4a73-a0db-6620a6c130aa",
   "metadata": {},
   "outputs": [],
   "source": [
    "filter_dict = {\n",
    "    'he_sch': ['H3'],\n",
    "    'model_sch': ['single_layer&i3d_rgb+i3d_flow'],\n",
    "    # 'roi_sch': ['ROI', 'LC', 'MC', 'SC', 'SMC'],\n",
    "    'cross_roi_sch': ['croi_ensemble'],\n",
    "}"
   ]
  },
  {
   "cell_type": "code",
   "execution_count": 30,
   "id": "4720be51-456b-4ef0-88aa-4a3d2440dc7b",
   "metadata": {},
   "outputs": [
    {
     "name": "stdout",
     "output_type": "stream",
     "text": [
      "he_sch ['H3']\n",
      "68\n",
      "model_sch ['single_layer&i3d_rgb+i3d_flow']\n",
      "17\n",
      "cross_roi_sch ['croi_ensemble']\n",
      "4\n"
     ]
    }
   ],
   "source": [
    "filtered_df = df\n",
    "for k, vs in filter_dict.items():\n",
    "    print(k, vs)\n",
    "    filtered_df = filtered_df.loc[filtered_df[k].isin(vs)]\n",
    "    print(len(filtered_df))"
   ]
  },
  {
   "cell_type": "code",
   "execution_count": 31,
   "id": "63ba960f-9538-486d-a665-c5884a2be34b",
   "metadata": {},
   "outputs": [],
   "source": [
    "filtered_df = filtered_df.sort_values(filtered_df.keys().tolist())"
   ]
  },
  {
   "cell_type": "code",
   "execution_count": 32,
   "id": "1313c33e-22d8-4366-b245-40cb085855cf",
   "metadata": {},
   "outputs": [
    {
     "data": {
      "text/html": [
       "<div>\n",
       "<style scoped>\n",
       "    .dataframe tbody tr th:only-of-type {\n",
       "        vertical-align: middle;\n",
       "    }\n",
       "\n",
       "    .dataframe tbody tr th {\n",
       "        vertical-align: top;\n",
       "    }\n",
       "\n",
       "    .dataframe thead th {\n",
       "        text-align: right;\n",
       "    }\n",
       "</style>\n",
       "<table border=\"1\" class=\"dataframe\">\n",
       "  <thead>\n",
       "    <tr style=\"text-align: right;\">\n",
       "      <th></th>\n",
       "      <th>he_sch</th>\n",
       "      <th>model_sch</th>\n",
       "      <th>roi_sch</th>\n",
       "      <th>cross_roi_sch</th>\n",
       "      <th>path</th>\n",
       "    </tr>\n",
       "  </thead>\n",
       "  <tbody>\n",
       "    <tr>\n",
       "      <th>72</th>\n",
       "      <td>H3</td>\n",
       "      <td>single_layer&amp;i3d_rgb+i3d_flow</td>\n",
       "      <td>ROIxLC</td>\n",
       "      <td>croi_ensemble</td>\n",
       "      <td>/data/huze/ray_results/algonauts2021/ensemble_...</td>\n",
       "    </tr>\n",
       "    <tr>\n",
       "      <th>1</th>\n",
       "      <td>H3</td>\n",
       "      <td>single_layer&amp;i3d_rgb+i3d_flow</td>\n",
       "      <td>ROIxMC</td>\n",
       "      <td>croi_ensemble</td>\n",
       "      <td>/data/huze/ray_results/algonauts2021/ensemble_...</td>\n",
       "    </tr>\n",
       "    <tr>\n",
       "      <th>24</th>\n",
       "      <td>H3</td>\n",
       "      <td>single_layer&amp;i3d_rgb+i3d_flow</td>\n",
       "      <td>ROIxSC</td>\n",
       "      <td>croi_ensemble</td>\n",
       "      <td>/data/huze/ray_results/algonauts2021/ensemble_...</td>\n",
       "    </tr>\n",
       "    <tr>\n",
       "      <th>36</th>\n",
       "      <td>H3</td>\n",
       "      <td>single_layer&amp;i3d_rgb+i3d_flow</td>\n",
       "      <td>ROIxSMC</td>\n",
       "      <td>croi_ensemble</td>\n",
       "      <td>/data/huze/ray_results/algonauts2021/ensemble_...</td>\n",
       "    </tr>\n",
       "  </tbody>\n",
       "</table>\n",
       "</div>"
      ],
      "text/plain": [
       "   he_sch                      model_sch  roi_sch  cross_roi_sch  \\\n",
       "72     H3  single_layer&i3d_rgb+i3d_flow   ROIxLC  croi_ensemble   \n",
       "1      H3  single_layer&i3d_rgb+i3d_flow   ROIxMC  croi_ensemble   \n",
       "24     H3  single_layer&i3d_rgb+i3d_flow   ROIxSC  croi_ensemble   \n",
       "36     H3  single_layer&i3d_rgb+i3d_flow  ROIxSMC  croi_ensemble   \n",
       "\n",
       "                                                 path  \n",
       "72  /data/huze/ray_results/algonauts2021/ensemble_...  \n",
       "1   /data/huze/ray_results/algonauts2021/ensemble_...  \n",
       "24  /data/huze/ray_results/algonauts2021/ensemble_...  \n",
       "36  /data/huze/ray_results/algonauts2021/ensemble_...  "
      ]
     },
     "execution_count": 32,
     "metadata": {},
     "output_type": "execute_result"
    }
   ],
   "source": [
    "filtered_df"
   ]
  },
  {
   "cell_type": "code",
   "execution_count": 33,
   "id": "377523f8-573b-4b81-82b4-d87e0f59d262",
   "metadata": {},
   "outputs": [
    {
     "data": {
      "text/plain": [
       "PosixPath('/data/huze/ray_results/algonauts2021/ensemble_outputs/he_sch=H3,model_sch=single_layer&i3d_rgb+i3d_flow,roi_sch=ROIxSMC,cross_roi_sch=croi_ensemble-prediction.pt')"
      ]
     },
     "execution_count": 33,
     "metadata": {},
     "output_type": "execute_result"
    }
   ],
   "source": [
    "filtered_df.iloc[-1].path"
   ]
  },
  {
   "cell_type": "code",
   "execution_count": 25,
   "id": "e8a0ac9d-f82d-49d5-a383-979fb27cd88c",
   "metadata": {},
   "outputs": [
    {
     "name": "stdout",
     "output_type": "stream",
     "text": [
      "rm: cannot remove 'submissions': No such file or directory\n"
     ]
    }
   ],
   "source": [
    "!rm -r submissions"
   ]
  },
  {
   "cell_type": "code",
   "execution_count": 26,
   "id": "4dd288bf",
   "metadata": {},
   "outputs": [],
   "source": [
    "for i_row, row in filtered_df.iterrows():\n",
    "    path = row.path\n",
    "    name = path.name.replace('-prediction.pt', '')\n",
    "    \n",
    "    prediction = torch.load(path)\n",
    "    prediction = prediction[1000:].float().numpy()\n",
    "\n",
    "    algonauts2021_submission_from_whole_brain_prediction('../src/config/dataset',\n",
    "                                                        name,\n",
    "                                                        prediction,\n",
    "                                                        output_dir='./submissions/')"
   ]
  },
  {
   "cell_type": "code",
   "execution_count": null,
   "id": "306a60f4",
   "metadata": {},
   "outputs": [],
   "source": []
  },
  {
   "cell_type": "code",
   "execution_count": null,
   "id": "d8286b0c-ace8-4512-a4ec-c99c444dd52f",
   "metadata": {},
   "outputs": [],
   "source": []
  }
 ],
 "metadata": {
  "kernelspec": {
   "display_name": "Python 3 (ipykernel)",
   "language": "python",
   "name": "python3"
  },
  "language_info": {
   "codemirror_mode": {
    "name": "ipython",
    "version": 3
   },
   "file_extension": ".py",
   "mimetype": "text/x-python",
   "name": "python",
   "nbconvert_exporter": "python",
   "pygments_lexer": "ipython3",
   "version": "3.8.8"
  }
 },
 "nbformat": 4,
 "nbformat_minor": 5
}