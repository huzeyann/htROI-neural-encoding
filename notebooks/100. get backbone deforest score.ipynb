{
 "cells": [
  {
   "cell_type": "code",
   "execution_count": null,
   "metadata": {
    "tags": []
   },
   "outputs": [],
   "source": []
  },
  {
   "cell_type": "code",
   "execution_count": 2,
   "metadata": {},
   "outputs": [
    {
     "data": {
      "text/plain": [
       "True"
      ]
     },
     "execution_count": 2,
     "metadata": {},
     "output_type": "execute_result"
    }
   ],
   "source": [
    "import numpy as np\n",
    "import torch\n",
    "\n",
    "from tqdm.auto import tqdm\n",
    "from pathlib import Path\n",
    "\n",
    "import itertools\n",
    "\n",
    "import os\n",
    "from dotenv import find_dotenv, load_dotenv\n",
    "\n",
    "load_dotenv(find_dotenv(), verbose=True)"
   ]
  },
  {
   "cell_type": "code",
   "execution_count": null,
   "metadata": {},
   "outputs": [],
   "source": []
  },
  {
   "cell_type": "markdown",
   "metadata": {},
   "source": [
    "# prepare data"
   ]
  },
  {
   "cell_type": "code",
   "execution_count": 3,
   "metadata": {},
   "outputs": [],
   "source": [
    "from src.utils.ensemble import optimize_val_correlation\n",
    "from src.config.config import combine_cfgs, get_cfg_defaults\n",
    "from src.data.datamodule import MyDataModule"
   ]
  },
  {
   "cell_type": "code",
   "execution_count": 4,
   "metadata": {},
   "outputs": [],
   "source": [
    "# prepare validation data\n",
    "cfg = combine_cfgs('../src/config/experiments/algonauts2021_i3d_flow.yml')\n",
    "dm = MyDataModule(cfg)\n",
    "dm.prepare_data()\n",
    "dm.setup()\n",
    "\n",
    "val_indices = dm.val_dataset.indices\n",
    "\n",
    "cache_path = Path('/data_smr/huze/.cache/val_fmris.pt')\n",
    "\n",
    "if cache_path.exists():\n",
    "    val_fmris = torch.load(cache_path)\n",
    "else:\n",
    "    val_fmris = [dm.dataset_train_val.__getitem__(i)[1] for i in tqdm(val_indices)]\n",
    "    val_fmris = np.stack(val_fmris, 0)\n",
    "    val_fmris = torch.tensor(val_fmris)\n",
    "    torch.save(val_fmris, cache_path)"
   ]
  },
  {
   "cell_type": "markdown",
   "metadata": {},
   "source": [
    "# prepare model prediction"
   ]
  },
  {
   "cell_type": "code",
   "execution_count": 8,
   "metadata": {},
   "outputs": [],
   "source": [
    "# multi-layer `single-run` baseline\n",
    "# load from notebook 001. (cross-notebook-ref)\n",
    "path = Path(\"/data/huze/ray_results/algonauts2021/algonauts2021_i3d_rgb-multi_layer/run_single_tune_config_575a8_00066_66_DATASET.ROI=WB,MODEL.BACKBONE.LAYERS=_'x1', 'x2', 'x3', 'x4'_,MODEL.BACKBONE.LAYER_PATHWAYS=_2022-02-26_14-18-59/prediction.npy\")"
   ]
  },
  {
   "cell_type": "code",
   "execution_count": 12,
   "metadata": {},
   "outputs": [],
   "source": [
    "prediction = torch.tensor(np.load(path)).float()"
   ]
  },
  {
   "cell_type": "markdown",
   "metadata": {},
   "source": [
    "# get final score for each roi"
   ]
  },
  {
   "cell_type": "code",
   "execution_count": 41,
   "metadata": {},
   "outputs": [],
   "source": [
    "rois = ['WB', 'V1', 'V2', 'V3', 'V4', 'LOC', 'EBA', 'FFA', 'STS', 'PPA', 'REST', 'SMC1', 'SMC2', 'MC2', 'MC1', 'SC3',\n",
    "        'SC4', 'LC1', 'LC2', 'LC3', 'LC4', 'LC5']"
   ]
  },
  {
   "cell_type": "code",
   "execution_count": 42,
   "metadata": {},
   "outputs": [],
   "source": [
    "from src.utils.metrics import vectorized_correlation"
   ]
  },
  {
   "cell_type": "code",
   "execution_count": 43,
   "metadata": {},
   "outputs": [],
   "source": [
    "scores = vectorized_correlation(prediction[val_indices], val_fmris)\n",
    "\n",
    "roi_score_dict = {}\n",
    "for roi in rois:\n",
    "    voxel_indices = torch.load(os.path.join(cfg.DATASET.VOXEL_INDEX_DIR, f'{roi}.pt'))\n",
    "    roi_score = scores[voxel_indices].mean().item()\n",
    "    roi_score_dict[roi] = roi_score"
   ]
  },
  {
   "cell_type": "code",
   "execution_count": 44,
   "metadata": {},
   "outputs": [
    {
     "data": {
      "text/plain": [
       "{'WB': 0.14779090881347656,\n",
       " 'V1': 0.19442307949066162,\n",
       " 'V2': 0.20365500450134277,\n",
       " 'V3': 0.21832409501075745,\n",
       " 'V4': 0.1992104947566986,\n",
       " 'LOC': 0.3296410143375397,\n",
       " 'EBA': 0.3657059073448181,\n",
       " 'FFA': 0.28206267952919006,\n",
       " 'STS': 0.19279032945632935,\n",
       " 'PPA': 0.20913344621658325,\n",
       " 'REST': 0.11902685463428497,\n",
       " 'SMC1': 0.08702672272920609,\n",
       " 'SMC2': 0.02951086312532425,\n",
       " 'MC2': 0.24660779535770416,\n",
       " 'MC1': 0.03918087109923363,\n",
       " 'SC3': 0.25927734375,\n",
       " 'SC4': 0.23413535952568054,\n",
       " 'LC1': 0.06566636264324188,\n",
       " 'LC2': 0.3013060390949249,\n",
       " 'LC3': 0.22845622897148132,\n",
       " 'LC4': 0.43582409620285034,\n",
       " 'LC5': 0.28519466519355774}"
      ]
     },
     "execution_count": 44,
     "metadata": {},
     "output_type": "execute_result"
    }
   ],
   "source": [
    "roi_score_dict"
   ]
  },
  {
   "cell_type": "markdown",
   "metadata": {},
   "source": [
    "# we deforest the backbone when reaching 1/2 score"
   ]
  },
  {
   "cell_type": "code",
   "execution_count": 52,
   "metadata": {},
   "outputs": [],
   "source": [
    "from pprint import pprint\n",
    "import json"
   ]
  },
  {
   "cell_type": "code",
   "execution_count": 53,
   "metadata": {},
   "outputs": [],
   "source": [
    "magic_lst = [0.009, 0.0105, 0.012, 0.021, 0.027, 0.03, 0.036, 0.045, 0.06, 0.09, 0.105, 0.12, 0.135, 0.15, 0.18, 0.21]\n",
    "def closest(magic_lst, K):\n",
    "    return magic_lst[min(range(len(magic_lst)), key = lambda i: abs(magic_lst[i]-K))]"
   ]
  },
  {
   "cell_type": "code",
   "execution_count": 54,
   "metadata": {},
   "outputs": [],
   "source": [
    "def get_and_print(roi_score_dict : dict, multiply_ratio : float):\n",
    "    new_dict = {k:closest(magic_lst, v*multiply_ratio) for k,v in roi_score_dict.items()}\n",
    "    print(json.dumps(new_dict, indent=2))"
   ]
  },
  {
   "cell_type": "code",
   "execution_count": 57,
   "metadata": {},
   "outputs": [
    {
     "name": "stdout",
     "output_type": "stream",
     "text": [
      "{\n",
      "  \"WB\": 0.06,\n",
      "  \"V1\": 0.09,\n",
      "  \"V2\": 0.105,\n",
      "  \"V3\": 0.105,\n",
      "  \"V4\": 0.105,\n",
      "  \"LOC\": 0.15,\n",
      "  \"EBA\": 0.18,\n",
      "  \"FFA\": 0.135,\n",
      "  \"STS\": 0.09,\n",
      "  \"PPA\": 0.105,\n",
      "  \"REST\": 0.06,\n",
      "  \"SMC1\": 0.045,\n",
      "  \"SMC2\": 0.012,\n",
      "  \"MC2\": 0.12,\n",
      "  \"MC1\": 0.021,\n",
      "  \"SC3\": 0.135,\n",
      "  \"SC4\": 0.12,\n",
      "  \"LC1\": 0.03,\n",
      "  \"LC2\": 0.15,\n",
      "  \"LC3\": 0.12,\n",
      "  \"LC4\": 0.21,\n",
      "  \"LC5\": 0.15\n",
      "}\n"
     ]
    }
   ],
   "source": [
    "# i3d_rgb\n",
    "# deforest at roughly 1/2 score\n",
    "get_and_print(roi_score_dict, 0.5)"
   ]
  },
  {
   "cell_type": "code",
   "execution_count": 58,
   "metadata": {},
   "outputs": [
    {
     "name": "stdout",
     "output_type": "stream",
     "text": [
      "{\n",
      "  \"WB\": 0.06,\n",
      "  \"V1\": 0.09,\n",
      "  \"V2\": 0.09,\n",
      "  \"V3\": 0.09,\n",
      "  \"V4\": 0.09,\n",
      "  \"LOC\": 0.135,\n",
      "  \"EBA\": 0.15,\n",
      "  \"FFA\": 0.12,\n",
      "  \"STS\": 0.09,\n",
      "  \"PPA\": 0.09,\n",
      "  \"REST\": 0.045,\n",
      "  \"SMC1\": 0.036,\n",
      "  \"SMC2\": 0.012,\n",
      "  \"MC2\": 0.105,\n",
      "  \"MC1\": 0.012,\n",
      "  \"SC3\": 0.105,\n",
      "  \"SC4\": 0.09,\n",
      "  \"LC1\": 0.027,\n",
      "  \"LC2\": 0.12,\n",
      "  \"LC3\": 0.09,\n",
      "  \"LC4\": 0.18,\n",
      "  \"LC5\": 0.12\n",
      "}\n"
     ]
    }
   ],
   "source": [
    "# i3d_flow\n",
    "# the final score is roughly 80% of that of i3d_rgb\n",
    "get_and_print(roi_score_dict, 0.5*0.81)"
   ]
  },
  {
   "cell_type": "code",
   "execution_count": 51,
   "metadata": {},
   "outputs": [],
   "source": [
    "# save output to src/config/experiments/algonauts2021_i3d_rgb_defrost_score.json"
   ]
  },
  {
   "cell_type": "code",
   "execution_count": null,
   "metadata": {},
   "outputs": [],
   "source": []
  }
 ],
 "metadata": {
  "kernelspec": {
   "display_name": "Python 3 (ipykernel)",
   "language": "python",
   "name": "python3"
  },
  "language_info": {
   "codemirror_mode": {
    "name": "ipython",
    "version": 3
   },
   "file_extension": ".py",
   "mimetype": "text/x-python",
   "name": "python",
   "nbconvert_exporter": "python",
   "pygments_lexer": "ipython3",
   "version": "3.8.8"
  }
 },
 "nbformat": 4,
 "nbformat_minor": 4
}