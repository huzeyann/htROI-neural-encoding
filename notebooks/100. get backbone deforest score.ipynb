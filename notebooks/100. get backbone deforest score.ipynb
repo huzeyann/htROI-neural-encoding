{
 "cells": [
  {
   "cell_type": "code",
   "execution_count": null,
   "outputs": [],
   "source": [],
   "metadata": {
    "collapsed": false,
    "pycharm": {
     "name": "#%%\n"
    }
   }
  },
  {
   "cell_type": "code",
   "execution_count": 41,
   "outputs": [],
   "source": [
    "d = {\n",
    "  \"WB\": 0.06,\n",
    "  \"MC2\": 0.12,\n",
    "  \"SMC2\": 0.0105,\n",
    "  \"EBA\": 0.18,\n",
    "  \"STS\": 0.105,\n",
    "  \"V3\": 0.15,\n",
    "  \"REST\": 0.06,\n",
    "  \"V4\": 0.12,\n",
    "  \"V2\": 0.15,\n",
    "  \"V1\": 0.15,\n",
    "  \"PPA\": 0.105,\n",
    "  \"SC4\": 0.105,\n",
    "  \"LC3\": 0.105,\n",
    "  \"LC5\": 0.18,\n",
    "  \"SMC1\": 0.036,\n",
    "  \"LC4\": 0.21,\n",
    "  \"LOC\": 0.15,\n",
    "  \"FFA\": 0.135,\n",
    "  \"LC1\": 0.027,\n",
    "  \"SC3\": 0.135,\n",
    "  \"MC1\": 0.012,\n",
    "  \"LC2\": 0.15\n",
    "}"
   ],
   "metadata": {
    "collapsed": false,
    "pycharm": {
     "name": "#%%\n"
    }
   }
  },
  {
   "cell_type": "code",
   "execution_count": 46,
   "outputs": [],
   "source": [
    "magic_lst = [0.09, 0.009, 0.15, 0.12, 0.045, 0.03, 0.105, 0.021]\n",
    "def closest(lst, K):\n",
    "    return lst[min(range(len(lst)), key = lambda i: abs(lst[i]-K))]"
   ],
   "metadata": {
    "collapsed": false,
    "pycharm": {
     "name": "#%%\n"
    }
   }
  },
  {
   "cell_type": "code",
   "execution_count": 47,
   "outputs": [
    {
     "data": {
      "text/plain": [
       "{'WB': 0.045,\n",
       " 'MC2': 0.09,\n",
       " 'SMC2': 0.009,\n",
       " 'EBA': 0.15,\n",
       " 'STS': 0.09,\n",
       " 'V3': 0.12,\n",
       " 'REST': 0.045,\n",
       " 'V4': 0.09,\n",
       " 'V2': 0.12,\n",
       " 'V1': 0.12,\n",
       " 'PPA': 0.09,\n",
       " 'SC4': 0.09,\n",
       " 'LC3': 0.09,\n",
       " 'LC5': 0.15,\n",
       " 'SMC1': 0.03,\n",
       " 'LC4': 0.15,\n",
       " 'LOC': 0.12,\n",
       " 'FFA': 0.105,\n",
       " 'LC1': 0.021,\n",
       " 'SC3': 0.105,\n",
       " 'MC1': 0.009,\n",
       " 'LC2': 0.12}"
      ]
     },
     "execution_count": 47,
     "metadata": {},
     "output_type": "execute_result"
    }
   ],
   "source": [
    "{k:closest(magic_lst, v*0.81) for k,v in d.items()}"
   ],
   "metadata": {
    "collapsed": false,
    "pycharm": {
     "name": "#%%\n"
    }
   }
  },
  {
   "cell_type": "code",
   "execution_count": null,
   "outputs": [],
   "source": [
    "250*1024/11"
   ],
   "metadata": {
    "collapsed": false,
    "pycharm": {
     "name": "#%%\n"
    }
   }
  },
  {
   "cell_type": "code",
   "execution_count": null,
   "metadata": {
    "collapsed": true
   },
   "outputs": [],
   "source": []
  }
 ],
 "metadata": {
  "kernelspec": {
   "display_name": "Python 3",
   "language": "python",
   "name": "python3"
  },
  "language_info": {
   "codemirror_mode": {
    "name": "ipython",
    "version": 2
   },
   "file_extension": ".py",
   "mimetype": "text/x-python",
   "name": "python",
   "nbconvert_exporter": "python",
   "pygments_lexer": "ipython2",
   "version": "2.7.6"
  }
 },
 "nbformat": 4,
 "nbformat_minor": 0
}