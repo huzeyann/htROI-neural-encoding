{
 "cells": [
  {
   "cell_type": "code",
   "execution_count": null,
   "id": "4e84cfa2-2e33-4a0d-b1fa-e2f8a5324ea2",
   "metadata": {},
   "outputs": [],
   "source": []
  },
  {
   "cell_type": "code",
   "execution_count": 1,
   "id": "b5f59cf5-8777-4f5a-b0a8-edf55019e493",
   "metadata": {},
   "outputs": [
    {
     "data": {
      "text/plain": [
       "True"
      ]
     },
     "execution_count": 1,
     "metadata": {},
     "output_type": "execute_result"
    }
   ],
   "source": [
    "import numpy as np\n",
    "import torch\n",
    "\n",
    "from tqdm.auto import tqdm\n",
    "from pathlib import Path\n",
    "\n",
    "import itertools\n",
    "\n",
    "import os\n",
    "from dotenv import find_dotenv, load_dotenv\n",
    "\n",
    "load_dotenv(find_dotenv(), verbose=True)"
   ]
  },
  {
   "cell_type": "code",
   "execution_count": null,
   "id": "f9188dd7-3a3b-4cf2-a0a0-a82875fa225e",
   "metadata": {},
   "outputs": [],
   "source": []
  },
  {
   "cell_type": "markdown",
   "id": "9b91db5c-bab9-4386-a129-e8a2a72743bf",
   "metadata": {},
   "source": [
    "# prepare data"
   ]
  },
  {
   "cell_type": "code",
   "execution_count": 2,
   "id": "01bf08ae-66be-408f-9330-1e99566c0048",
   "metadata": {},
   "outputs": [],
   "source": [
    "from src.config.config import combine_cfgs, get_cfg_defaults\n",
    "from src.data.datamodule import MyDataModule"
   ]
  },
  {
   "cell_type": "code",
   "execution_count": 3,
   "id": "56376457-e310-476f-bf83-2196064d6001",
   "metadata": {},
   "outputs": [],
   "source": [
    "# prepare validation data\n",
    "cfg = combine_cfgs('../src/config/experiments/algonauts2021_i3d_flow.yml')\n",
    "dm = MyDataModule(cfg)\n",
    "dm.prepare_data()\n",
    "dm.setup()\n",
    "\n",
    "val_indices = dm.val_dataset.indices\n",
    "\n",
    "cache_path = Path('/data_smr/huze/.cache/val_fmris.pt')\n",
    "\n",
    "if cache_path.exists():\n",
    "    val_fmris = torch.load(cache_path)\n",
    "else:\n",
    "    val_fmris = [dm.dataset_train_val.__getitem__(i)[1] for i in tqdm(val_indices)]\n",
    "    val_fmris = np.stack(val_fmris, 0)\n",
    "    val_fmris = torch.tensor(val_fmris)\n",
    "    torch.save(val_fmris, cache_path)"
   ]
  },
  {
   "cell_type": "code",
   "execution_count": 4,
   "id": "6f720cb3-e4c0-4a66-8392-81ab8e21fcd6",
   "metadata": {},
   "outputs": [],
   "source": [
    "voxel_masks = np.load(dm.dataset_train_val.root_dir.joinpath(Path('processed/voxel_masks.npy')))"
   ]
  },
  {
   "cell_type": "code",
   "execution_count": 5,
   "id": "91102f53-3c28-4978-95de-6e083f9a4646",
   "metadata": {},
   "outputs": [],
   "source": [
    "from src.utils.visulization import save_as_nii\n",
    "\n",
    "reliable_voxel_mask_mean_sub = voxel_masks.sum(0)\n",
    "reliable_voxel_mask_mean_sub[reliable_voxel_mask_mean_sub > 0] = 1\n",
    "reliable_voxel_mask_mean_sub = reliable_voxel_mask_mean_sub.astype(np.int8)\n",
    "reliable_voxel_mask_path = Path('./tmp/reliable_voxel_mask.nii')\n",
    "save_as_nii('./tmp/example.nii', reliable_voxel_mask_path, reliable_voxel_mask_mean_sub)\n",
    "# reliable_voxel_mask make a more accurate volume to surface mapping"
   ]
  },
  {
   "cell_type": "code",
   "execution_count": null,
   "id": "3a4ebfc3-36cd-4ca0-ac3a-23837d4c5e76",
   "metadata": {},
   "outputs": [],
   "source": []
  },
  {
   "cell_type": "code",
   "execution_count": 6,
   "id": "af0a72fd-a321-41d8-99a3-f0a916458358",
   "metadata": {},
   "outputs": [],
   "source": [
    "voxel_score = np.load('./tmp/best_voxel_score.npy')"
   ]
  },
  {
   "cell_type": "code",
   "execution_count": null,
   "id": "15a032f4-ce2f-4661-ad35-87a2cfbb198e",
   "metadata": {},
   "outputs": [],
   "source": []
  },
  {
   "cell_type": "code",
   "execution_count": 7,
   "id": "bbcb0a88-2617-46ec-b7da-7b6f21b6001b",
   "metadata": {},
   "outputs": [],
   "source": [
    "# this dict defines how to combine rois to full brain\n",
    "roi_sch_dict = {\n",
    "    'WB': ['WB'],\n",
    "    'ROI': ['V1', 'V2', 'V3', 'V4', 'EBA', 'LOC', 'PPA', 'FFA', 'STS', 'REST'],\n",
    "    'LC': ['LC1', 'LC2', 'LC3', 'LC4', 'LC5'],\n",
    "    'MC': ['MC1', 'MC2', 'LC2', 'LC3', 'LC4', 'LC5'],\n",
    "    'SMC': ['SMC1', 'SMC2', 'MC2', 'LC2', 'LC3', 'LC4', 'LC5'],\n",
    "    'SC': ['SMC1', 'SMC2', 'SC3', 'SC4', 'LC2', 'LC3', 'LC4', 'LC5'],\n",
    "}"
   ]
  },
  {
   "cell_type": "code",
   "execution_count": 8,
   "id": "2443a205-3bb6-4b44-b499-11f7bd41f8aa",
   "metadata": {},
   "outputs": [],
   "source": [
    "num_voxels = len(voxel_masks.nonzero()[0])"
   ]
  },
  {
   "cell_type": "code",
   "execution_count": 9,
   "id": "25853254-331c-4787-a6ad-416b3eb6a5da",
   "metadata": {},
   "outputs": [
    {
     "data": {
      "text/plain": [
       "(78, 93, 71)"
      ]
     },
     "execution_count": 9,
     "metadata": {},
     "output_type": "execute_result"
    }
   ],
   "source": [
    "reliable_voxel_mask_mean_sub.shape"
   ]
  },
  {
   "cell_type": "code",
   "execution_count": 10,
   "id": "f1286a62-1b9b-4fda-9270-d4ede7a6bd97",
   "metadata": {},
   "outputs": [],
   "source": [
    "rois = roi_sch_dict['SMC']"
   ]
  },
  {
   "cell_type": "code",
   "execution_count": 11,
   "id": "c69d0227-b323-4d78-8a1e-9ac300c246e0",
   "metadata": {},
   "outputs": [],
   "source": [
    "rois_nii_img_data = np.zeros(reliable_voxel_mask_mean_sub.shape + (len(rois), ))"
   ]
  },
  {
   "cell_type": "code",
   "execution_count": 12,
   "id": "dfea4bc8-45eb-42f2-b8c2-5cf1a4386f76",
   "metadata": {},
   "outputs": [
    {
     "data": {
      "text/plain": [
       "(78, 93, 71, 7)"
      ]
     },
     "execution_count": 12,
     "metadata": {},
     "output_type": "execute_result"
    }
   ],
   "source": [
    "rois_nii_img_data.shape"
   ]
  },
  {
   "cell_type": "code",
   "execution_count": 13,
   "id": "aa2c009c-8036-489f-8711-d565dcf615ce",
   "metadata": {},
   "outputs": [],
   "source": [
    "from src.utils.visulization import mean_over_subs"
   ]
  },
  {
   "cell_type": "code",
   "execution_count": 14,
   "id": "d324c6c1-054f-4022-870f-448998bca77e",
   "metadata": {},
   "outputs": [],
   "source": [
    "for i, roi in enumerate(rois):\n",
    "    voxel_indices = torch.load(os.path.join(cfg.DATASET.VOXEL_INDEX_DIR, f'{roi}.pt'))\n",
    "    \n",
    "    roi_nii_img_data = np.zeros(voxel_masks.shape)\n",
    "    \n",
    "    flat_fill_data = np.zeros(num_voxels)\n",
    "    flat_fill_data[voxel_indices] = 1\n",
    "    \n",
    "    roi_nii_img_data[voxel_masks == 1] = flat_fill_data\n",
    "    roi_nii_img_data = mean_over_subs(voxel_masks, roi_nii_img_data)\n",
    "    \n",
    "    rois_nii_img_data[..., i] = roi_nii_img_data"
   ]
  },
  {
   "cell_type": "code",
   "execution_count": 15,
   "id": "a202ec9f-1469-4446-9ef0-78de5b2c26d7",
   "metadata": {},
   "outputs": [],
   "source": [
    "rois_nii_img_path = './tmp/rois_nii_img.nii'\n",
    "save_as_nii('./tmp/example.nii', rois_nii_img_path, rois_nii_img_data)"
   ]
  },
  {
   "cell_type": "code",
   "execution_count": 16,
   "id": "28c6df61-1df2-4507-913e-8af3e61ad175",
   "metadata": {},
   "outputs": [
    {
     "data": {
      "text/plain": [
       "(78, 93, 71, 7)"
      ]
     },
     "execution_count": 16,
     "metadata": {},
     "output_type": "execute_result"
    }
   ],
   "source": [
    "rois_nii_img_data.shape"
   ]
  },
  {
   "cell_type": "code",
   "execution_count": null,
   "id": "0314b3b9-1d7e-4c47-a4c6-0e7be6221dff",
   "metadata": {},
   "outputs": [],
   "source": []
  },
  {
   "cell_type": "code",
   "execution_count": null,
   "id": "16b3e3ce-7c3c-4dd2-af27-403aaf32d1e3",
   "metadata": {},
   "outputs": [],
   "source": []
  },
  {
   "cell_type": "code",
   "execution_count": 17,
   "id": "2018ae16-d60d-4fe9-bd11-76cd4a51c657",
   "metadata": {},
   "outputs": [],
   "source": [
    "# to vertex"
   ]
  },
  {
   "cell_type": "code",
   "execution_count": 18,
   "id": "adb3c5c3-7ee3-40c6-9275-cac985a37fbd",
   "metadata": {},
   "outputs": [],
   "source": [
    "import numpy as np\n",
    "from nilearn import surface\n",
    "from nilearn import datasets\n",
    "import os"
   ]
  },
  {
   "cell_type": "code",
   "execution_count": 19,
   "id": "bbbcf4aa-d4c5-4257-8668-559b2e3907c5",
   "metadata": {},
   "outputs": [],
   "source": [
    "fsaverage = datasets.fetch_surf_fsaverage('fsaverage')"
   ]
  },
  {
   "cell_type": "code",
   "execution_count": 20,
   "id": "12ae7ae0-11c1-4d92-b1ab-b4f583d05dce",
   "metadata": {},
   "outputs": [],
   "source": [
    "mask_img = './tmp/reliable_voxel_mask.nii'\n",
    "fill_nan_value = 0"
   ]
  },
  {
   "cell_type": "code",
   "execution_count": 21,
   "id": "535df759-adfe-4d28-b3ce-87a1540c7d34",
   "metadata": {},
   "outputs": [
    {
     "name": "stderr",
     "output_type": "stream",
     "text": [
      "/usr/local/anaconda3/envs/env_ube/lib/python3.8/site-packages/nilearn/surface/surface.py:464: RuntimeWarning: Mean of empty slice\n",
      "  texture = np.nanmean(all_samples, axis=2)\n",
      "/usr/local/anaconda3/envs/env_ube/lib/python3.8/site-packages/nilearn/surface/surface.py:464: RuntimeWarning: Mean of empty slice\n",
      "  texture = np.nanmean(all_samples, axis=2)\n"
     ]
    }
   ],
   "source": [
    "nii_path = str(rois_nii_img_path)\n",
    "texture = np.concatenate([surface.vol_to_surf(nii_path, fsaverage.pial_left, mask_img=mask_img),\n",
    "                         surface.vol_to_surf(nii_path, fsaverage.pial_right, mask_img=mask_img)])\n",
    "texture[np.isnan(texture)] = fill_nan_value"
   ]
  },
  {
   "cell_type": "code",
   "execution_count": 60,
   "id": "aeb32aea-d4df-4733-89db-2773e22dbdf9",
   "metadata": {},
   "outputs": [],
   "source": [
    "intersect_arr = np.zeros((len(rois), len(rois)))\n",
    "for i in range(len(rois)):\n",
    "    for j in range(i ,len(rois)):\n",
    "        vi = texture[:, i].nonzero()[0]\n",
    "        vj = texture[:, j].nonzero()[0]\n",
    "        intersect = np.intersect1d(vi, vj)\n",
    "        intersect_arr[i, j] = len(intersect)\n",
    "        intersect_arr[j, i] = len(intersect)"
   ]
  },
  {
   "cell_type": "code",
   "execution_count": 61,
   "id": "76281240-3343-4520-9657-ad969708d65f",
   "metadata": {},
   "outputs": [
    {
     "data": {
      "text/plain": [
       "array([255446., 255136., 107491., 126257., 151924.,  42089.,  26426.])"
      ]
     },
     "execution_count": 61,
     "metadata": {},
     "output_type": "execute_result"
    }
   ],
   "source": [
    "intersect_arr[0]"
   ]
  },
  {
   "cell_type": "code",
   "execution_count": 65,
   "id": "df645270-6b92-4d36-a96f-5443bb68f1b9",
   "metadata": {},
   "outputs": [],
   "source": [
    "order = intersect_arr[0].argsort()[::-1]"
   ]
  },
  {
   "cell_type": "code",
   "execution_count": 66,
   "id": "8aadce5f-5a6a-4409-94e9-2ff5112ec673",
   "metadata": {},
   "outputs": [
    {
     "data": {
      "text/plain": [
       "array([0, 1, 4, 3, 2, 5, 6])"
      ]
     },
     "execution_count": 66,
     "metadata": {},
     "output_type": "execute_result"
    }
   ],
   "source": [
    "order"
   ]
  },
  {
   "cell_type": "code",
   "execution_count": 69,
   "id": "6b6cc1a9-210c-4910-bd57-2784fd9b19a8",
   "metadata": {},
   "outputs": [
    {
     "data": {
      "text/plain": [
       "1"
      ]
     },
     "execution_count": 69,
     "metadata": {},
     "output_type": "execute_result"
    }
   ],
   "source": [
    "np.where(order == 1)[0][0]"
   ]
  },
  {
   "cell_type": "code",
   "execution_count": 70,
   "id": "1dfa7a18-488e-485a-a906-dc1d212ebeae",
   "metadata": {},
   "outputs": [],
   "source": [
    "# closer color has more vertex intersections (avoid cancel out effect)\n",
    "# greedy search\n",
    "selected_idxs = [0]\n",
    "while len(selected_idxs) < len(rois):\n",
    "    previous_i = selected_idxs[-1]\n",
    "    intersects = intersect_arr[previous_i]\n",
    "    \n",
    "    for i in range(len(rois)):\n",
    "        idx = np.where(order == i)[0][0]\n",
    "        if idx not in selected_idxs:\n",
    "            selected_idxs.append(idx)\n",
    "            break"
   ]
  },
  {
   "cell_type": "code",
   "execution_count": 71,
   "id": "f1e5f9c9-9d6e-4bec-a6be-97c08428ab4b",
   "metadata": {},
   "outputs": [
    {
     "data": {
      "text/plain": [
       "[0, 1, 4, 3, 2, 5, 6]"
      ]
     },
     "execution_count": 71,
     "metadata": {},
     "output_type": "execute_result"
    }
   ],
   "source": [
    "selected_idxs"
   ]
  },
  {
   "cell_type": "code",
   "execution_count": null,
   "id": "ce0b7aa6-b66b-4ab5-81b2-9bf575f13081",
   "metadata": {},
   "outputs": [],
   "source": []
  },
  {
   "cell_type": "code",
   "execution_count": 138,
   "id": "de923008-fe71-40d6-9125-57a493f88a95",
   "metadata": {},
   "outputs": [
    {
     "name": "stderr",
     "output_type": "stream",
     "text": [
      "/usr/local/anaconda3/envs/env_ube/lib/python3.8/site-packages/nilearn/surface/surface.py:464: RuntimeWarning: Mean of empty slice\n",
      "  texture = np.nanmean(all_samples, axis=2)\n",
      "/usr/local/anaconda3/envs/env_ube/lib/python3.8/site-packages/nilearn/surface/surface.py:464: RuntimeWarning: Mean of empty slice\n",
      "  texture = np.nanmean(all_samples, axis=2)\n"
     ]
    }
   ],
   "source": [
    "score_nii_path = './tmp/VOXEL SCORE ^-^ Best,Inflated3D,HierarchicalEnsemble,RGB steram + FLOW stream,ROIxkROI.nii'\n",
    "nii_path = str(score_nii_path)\n",
    "score_texture = np.concatenate([surface.vol_to_surf(nii_path, fsaverage.pial_left, mask_img=mask_img),\n",
    "                         surface.vol_to_surf(nii_path, fsaverage.pial_right, mask_img=mask_img)])\n",
    "score_texture[np.isnan(score_texture)] = score_texture[~np.isnan(score_texture)].min()"
   ]
  },
  {
   "cell_type": "code",
   "execution_count": 141,
   "id": "fad8d005-e03a-4242-9aa5-44f5e658db27",
   "metadata": {},
   "outputs": [],
   "source": [
    "# to hsv"
   ]
  },
  {
   "cell_type": "code",
   "execution_count": 142,
   "id": "59c58513-1314-4b35-8a43-2d15db990040",
   "metadata": {},
   "outputs": [],
   "source": [
    "import numpy as np\n",
    "\n",
    "def circlepoints(nPoints=10, radius=1, center=[0,0]):\n",
    "    points = []\n",
    "    for angle in np.linspace(0,2*np.pi, nPoints, endpoint=False):\n",
    "        point = (center[0]+np.sin(angle)*radius, center[1]+np.cos(angle)*radius)\n",
    "        points.append(point)\n",
    "    points= np.asarray(points)\n",
    "    return points"
   ]
  },
  {
   "cell_type": "code",
   "execution_count": 143,
   "id": "b97510c4-dcfc-4095-83c4-a35ba1bb40cf",
   "metadata": {},
   "outputs": [],
   "source": [
    "hs_base = circlepoints(len(rois))"
   ]
  },
  {
   "cell_type": "code",
   "execution_count": 144,
   "id": "e7bbf21a-c6c7-49b8-a4b6-ab0dad3a1bb3",
   "metadata": {},
   "outputs": [],
   "source": [
    "# hs_base = hs_base[selected_idxs] # reorder"
   ]
  },
  {
   "cell_type": "code",
   "execution_count": 145,
   "id": "feb62c49-533e-4e6f-9766-f390761b4d4e",
   "metadata": {},
   "outputs": [
    {
     "data": {
      "text/plain": [
       "array([[ 0.        ,  1.        ],\n",
       "       [ 0.78183148,  0.6234898 ],\n",
       "       [ 0.97492791, -0.22252093],\n",
       "       [ 0.43388374, -0.90096887],\n",
       "       [-0.43388374, -0.90096887],\n",
       "       [-0.97492791, -0.22252093],\n",
       "       [-0.78183148,  0.6234898 ]])"
      ]
     },
     "execution_count": 145,
     "metadata": {},
     "output_type": "execute_result"
    }
   ],
   "source": [
    "hs_base"
   ]
  },
  {
   "cell_type": "code",
   "execution_count": 146,
   "id": "4b63c6c5-a40c-432f-b2fa-f57037356190",
   "metadata": {},
   "outputs": [],
   "source": [
    "hs_xy_texture = texture @ hs_base"
   ]
  },
  {
   "cell_type": "code",
   "execution_count": 147,
   "id": "2d507523-ef4f-4ee2-8045-574eee62d8be",
   "metadata": {},
   "outputs": [
    {
     "data": {
      "text/plain": [
       "<seaborn.axisgrid.FacetGrid at 0x7fcf460b2ee0>"
      ]
     },
     "execution_count": 147,
     "metadata": {},
     "output_type": "execute_result"
    },
    {
     "data": {
      "image/png": "[encoded data removed]",
      "text/plain": [
       "<Figure size 360x360 with 1 Axes>"
      ]
     },
     "metadata": {
      "needs_background": "light"
     },
     "output_type": "display_data"
    }
   ],
   "source": [
    "sns.displot(score_texture)"
   ]
  },
  {
   "cell_type": "code",
   "execution_count": 178,
   "id": "84dd7cda-7cbd-4346-8143-5761fa1bf927",
   "metadata": {},
   "outputs": [],
   "source": [
    "x, y = hs_xy_texture[:, 0], hs_xy_texture[:, 1]\n",
    "angle = np.arctan2(y,x)\n",
    "h = np.degrees(angle) % 360.0\n",
    "h = h / 360\n",
    "\n",
    "s = np.sqrt(x**2+y**2)\n",
    "s = np.clip(s, 0, 1)\n",
    "\n",
    "\n",
    "v = score_texture\n",
    "vmax = v.max()\n",
    "v = np.clip(v, 0, vmax)\n",
    "vmin = v.min()\n",
    "v = (v-vmin)/(vmax-vmin)\n",
    "\n",
    "# v = np.ones_like(v)"
   ]
  },
  {
   "cell_type": "code",
   "execution_count": 179,
   "id": "a6bb6128-73dc-4506-973d-ed0d6dff759c",
   "metadata": {},
   "outputs": [],
   "source": [
    "hsv_texture = np.stack([h, s, v], -1)"
   ]
  },
  {
   "cell_type": "code",
   "execution_count": 180,
   "id": "1067fec0-c649-4cc4-ba04-dd7ac9a0974f",
   "metadata": {},
   "outputs": [],
   "source": [
    "import seaborn as sns"
   ]
  },
  {
   "cell_type": "code",
   "execution_count": 181,
   "id": "1b88b138-4416-4a42-a752-24232f5aeba7",
   "metadata": {},
   "outputs": [
    {
     "data": {
      "text/plain": [
       "<seaborn.axisgrid.FacetGrid at 0x7fcf44774820>"
      ]
     },
     "execution_count": 181,
     "metadata": {},
     "output_type": "execute_result"
    },
    {
     "data": {
      "image/png": "[encoded data removed]",
      "text/plain": [
       "<Figure size 360x360 with 1 Axes>"
      ]
     },
     "metadata": {
      "needs_background": "light"
     },
     "output_type": "display_data"
    }
   ],
   "source": [
    "sns.displot(s)"
   ]
  },
  {
   "cell_type": "code",
   "execution_count": 182,
   "id": "79f99794-cba0-4b71-bd9f-9fd085bb3401",
   "metadata": {},
   "outputs": [
    {
     "data": {
      "text/plain": [
       "<seaborn.axisgrid.FacetGrid at 0x7fcf447744c0>"
      ]
     },
     "execution_count": 182,
     "metadata": {},
     "output_type": "execute_result"
    },
    {
     "data": {
      "image/png": "[encoded data removed]",
      "text/plain": [
       "<Figure size 360x360 with 1 Axes>"
      ]
     },
     "metadata": {
      "needs_background": "light"
     },
     "output_type": "display_data"
    }
   ],
   "source": [
    "sns.displot(h)"
   ]
  },
  {
   "cell_type": "code",
   "execution_count": 183,
   "id": "71abe802-c9d0-410d-9bf2-8a8565f9f6e7",
   "metadata": {},
   "outputs": [
    {
     "data": {
      "text/plain": [
       "<seaborn.axisgrid.FacetGrid at 0x7fcf44e6e2e0>"
      ]
     },
     "execution_count": 183,
     "metadata": {},
     "output_type": "execute_result"
    },
    {
     "data": {
      "image/png": "[encoded data removed]",
      "text/plain": [
       "<Figure size 360x360 with 1 Axes>"
      ]
     },
     "metadata": {
      "needs_background": "light"
     },
     "output_type": "display_data"
    }
   ],
   "source": [
    "sns.displot(v)"
   ]
  },
  {
   "cell_type": "code",
   "execution_count": 184,
   "id": "f774b664-b607-406e-8bed-130cf95d07b1",
   "metadata": {},
   "outputs": [],
   "source": [
    "import colorsys\n",
    "\n",
    "rgb_texture = np.zeros_like(hsv_texture)\n",
    "for i in range(len(hsv_texture)):\n",
    "    rgb_texture[i] = colorsys.hsv_to_rgb(*hsv_texture[i])"
   ]
  },
  {
   "cell_type": "code",
   "execution_count": 185,
   "id": "df3eaa7f-a2e1-4d49-91cf-3bfe61b5ae6c",
   "metadata": {},
   "outputs": [
    {
     "data": {
      "text/plain": [
       "array([[0.        , 0.        , 0.        ],\n",
       "       [0.78841556, 0.70646514, 0.57746003],\n",
       "       [0.        , 0.        , 0.        ],\n",
       "       ...,\n",
       "       [0.        , 0.        , 0.        ],\n",
       "       [0.        , 0.        , 0.        ],\n",
       "       [0.10714286, 0.27217436, 0.01589702]])"
      ]
     },
     "execution_count": 185,
     "metadata": {},
     "output_type": "execute_result"
    }
   ],
   "source": [
    "hsv_texture"
   ]
  },
  {
   "cell_type": "code",
   "execution_count": 186,
   "id": "95a840be-fe1c-46e7-afa4-73795df3c6c3",
   "metadata": {},
   "outputs": [
    {
     "data": {
      "text/plain": [
       "array([[0.        , 0.        , 0.        ],\n",
       "       [0.46751335, 0.16950465, 0.57746003],\n",
       "       [0.        , 0.        , 0.        ],\n",
       "       ...,\n",
       "       [0.        , 0.        , 0.        ],\n",
       "       [0.        , 0.        , 0.        ],\n",
       "       [0.01589702, 0.01435175, 0.01157026]])"
      ]
     },
     "execution_count": 186,
     "metadata": {},
     "output_type": "execute_result"
    }
   ],
   "source": [
    "rgb_texture"
   ]
  },
  {
   "cell_type": "code",
   "execution_count": 187,
   "id": "e20186fd-b2ec-4b96-ada3-1dba8d80a5f6",
   "metadata": {},
   "outputs": [],
   "source": [
    "np.save('./tmp/rgb_texture.npy', rgb_texture)"
   ]
  },
  {
   "cell_type": "code",
   "execution_count": 189,
   "id": "3d408011-a5a8-439c-bff4-bfc2d3c8699a",
   "metadata": {},
   "outputs": [],
   "source": [
    "np.save('./tmp/raw_texture.npy', texture)"
   ]
  },
  {
   "cell_type": "raw",
   "id": "509497f0-1305-493f-8aaf-c247edc67896",
   "metadata": {},
   "source": [
    "import cortex\n",
    "import cortex.polyutils\n",
    "import numpy as np\n",
    "np.random.seed(1234)\n",
    "import matplotlib.pyplot as plt\n",
    "\n",
    "subject = 'fsaverage'"
   ]
  },
  {
   "cell_type": "raw",
   "id": "11e55b1b-ad91-4c43-bc07-93ab23aaed52",
   "metadata": {},
   "source": [
    "test1, test2, test3 = rgb_texture.transpose()\n",
    "\n",
    "\n",
    "# Scaling the three datasets to be between 0-255\n",
    "test1_scaled = test1 / np.max(test1) * 255\n",
    "test2_scaled = test2 / np.max(test2) * 255\n",
    "test3_scaled = test3 / np.max(test3) * 255\n",
    "\n",
    "# Creating three cortex.Volume objects with the test data as np.uint8\n",
    "red = cortex.Vertex(test1_scaled, subject)\n",
    "green = cortex.Vertex(test2_scaled, subject)\n",
    "blue = cortex.Vertex(test3_scaled, subject)\n",
    "\n",
    "# This creates a 2D Vertex object with both of our test datasets for the\n",
    "# given subject\n",
    "vertex_data = cortex.VertexRGB(red, green, blue, subject)"
   ]
  },
  {
   "cell_type": "raw",
   "id": "43915018-dbf0-4c01-87d7-b0915e5c85ba",
   "metadata": {},
   "source": [
    "cortex.quickshow(vertex_data, with_colorbar=False)\n",
    "plt.show()"
   ]
  },
  {
   "cell_type": "code",
   "execution_count": null,
   "id": "b8fa910a-98f1-4aa0-b249-ffb662329a3f",
   "metadata": {},
   "outputs": [],
   "source": []
  }
 ],
 "metadata": {
  "kernelspec": {
   "display_name": "Python 3 (ipykernel)",
   "language": "python",
   "name": "python3"
  },
  "language_info": {
   "codemirror_mode": {
    "name": "ipython",
    "version": 3
   },
   "file_extension": ".py",
   "mimetype": "text/x-python",
   "name": "python",
   "nbconvert_exporter": "python",
   "pygments_lexer": "ipython3",
   "version": "3.8.8"
  }
 },
 "nbformat": 4,
 "nbformat_minor": 5
}
