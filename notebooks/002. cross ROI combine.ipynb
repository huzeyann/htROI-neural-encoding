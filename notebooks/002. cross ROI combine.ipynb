{
 "cells": [
  {
   "cell_type": "code",
   "execution_count": null,
   "id": "09ff5fa9-24cd-4833-8b82-17e584322f31",
   "metadata": {},
   "outputs": [],
   "source": []
  },
  {
   "cell_type": "code",
   "execution_count": 1,
   "id": "10ff05f5-0d17-44cf-9474-32037a8edc78",
   "metadata": {},
   "outputs": [],
   "source": [
    "import numpy as np\n",
    "import torch\n",
    "\n",
    "from tqdm.auto import tqdm\n",
    "from tqdm.notebook import tqdm_notebook, trange\n",
    "\n",
    "import itertools"
   ]
  },
  {
   "cell_type": "code",
   "execution_count": 2,
   "id": "5d5a31d3-928a-48d2-bd84-a8639e9f385e",
   "metadata": {},
   "outputs": [
    {
     "data": {
      "text/plain": [
       "True"
      ]
     },
     "execution_count": 2,
     "metadata": {},
     "output_type": "execute_result"
    }
   ],
   "source": [
    "import os\n",
    "from dotenv import find_dotenv, load_dotenv\n",
    "\n",
    "load_dotenv(find_dotenv(), verbose=True)"
   ]
  },
  {
   "cell_type": "code",
   "execution_count": 3,
   "id": "320d1ee7-0df5-4e80-b93a-3f89c7a904a4",
   "metadata": {},
   "outputs": [],
   "source": [
    "from pathlib import Path"
   ]
  },
  {
   "cell_type": "code",
   "execution_count": 4,
   "id": "290b2d2b-9f7e-4bb3-baa7-2771ad6657d6",
   "metadata": {},
   "outputs": [],
   "source": [
    "DEVICE = torch.device('cuda:2')"
   ]
  },
  {
   "cell_type": "code",
   "execution_count": 5,
   "id": "bb21e82c-f01d-402c-be3a-99ffdffc5147",
   "metadata": {},
   "outputs": [],
   "source": [
    "from src.utils.ensemble import optimize_val_correlation\n",
    "from src.config.config import combine_cfgs, get_cfg_defaults\n",
    "from src.data.datamodule import MyDataModule"
   ]
  },
  {
   "cell_type": "code",
   "execution_count": 6,
   "id": "698cfab2-0a32-47ac-9ed5-0a90fbfe532b",
   "metadata": {},
   "outputs": [],
   "source": [
    "# prepare validation data\n",
    "cfg = combine_cfgs('../src/config/experiments/algonauts2021_i3d_flow.yml')\n",
    "dm = MyDataModule(cfg)\n",
    "dm.prepare_data()\n",
    "dm.setup()\n",
    "\n",
    "val_indices = dm.val_dataset.indices\n",
    "\n",
    "cache_path = Path('/data_smr/huze/.cache/val_fmris.pt')\n",
    "\n",
    "if cache_path.exists():\n",
    "    val_fmris = torch.load(cache_path)\n",
    "else:\n",
    "    val_fmris = [dm.dataset_train_val.__getitem__(i)[1] for i in tqdm(val_indices)]\n",
    "    val_fmris = np.stack(val_fmris, 0)\n",
    "    val_fmris = torch.tensor(val_fmris)\n",
    "    torch.save(val_fmris, cache_path)"
   ]
  },
  {
   "cell_type": "code",
   "execution_count": 7,
   "id": "b5dfbcf7-e0d9-42df-b31d-084886001045",
   "metadata": {},
   "outputs": [],
   "source": [
    "roi_sch_dict = {\n",
    "    'WB': ['WB'],\n",
    "    'ROI': ['V1', 'V2', 'V3', 'V4', 'EBA', 'LOC', 'PPA', 'FFA', 'STS', 'REST'],\n",
    "    'LC': ['LC1', 'LC2', 'LC3', 'LC4', 'LC5'],\n",
    "    'MC': ['MC1', 'MC2', 'LC2', 'LC3', 'LC4', 'LC5'],\n",
    "    'SMC': ['SMC1', 'SMC2', 'MC2', 'LC2', 'LC3', 'LC4', 'LC5'],\n",
    "    'SC': ['SMC1', 'SMC2', 'SC3', 'SC4', 'LC2', 'LC3', 'LC4', 'LC5'],\n",
    "}"
   ]
  },
  {
   "cell_type": "code",
   "execution_count": 8,
   "id": "a4a18728-b837-4627-a442-b3077a298f40",
   "metadata": {},
   "outputs": [],
   "source": [
    "del roi_sch_dict['WB'] # WB is already in level 0"
   ]
  },
  {
   "cell_type": "markdown",
   "id": "857df9ec-cc7a-4c3a-b836-d454ac9551b3",
   "metadata": {},
   "source": [
    "# combine ROI-kROI model"
   ]
  },
  {
   "cell_type": "code",
   "execution_count": 9,
   "id": "9a5581b3-8840-447e-8284-bf653adf62ea",
   "metadata": {},
   "outputs": [],
   "source": [
    "# read ensemble outputs from notebook 1. (cross-notebook-ref)"
   ]
  },
  {
   "cell_type": "code",
   "execution_count": 10,
   "id": "f673c968-3658-4ba7-8cca-8aef11746112",
   "metadata": {},
   "outputs": [],
   "source": [
    "results_dir = Path('/data/huze/ray_results/algonauts2021')\n",
    "tmp_dir = results_dir.joinpath('ensemble_outputs')"
   ]
  },
  {
   "cell_type": "code",
   "execution_count": 11,
   "id": "cbb5ca80-10db-4c8c-8f2b-226c7ed3e34b",
   "metadata": {},
   "outputs": [
    {
     "name": "stdout",
     "output_type": "stream",
     "text": [
      "12\n",
      "11\n"
     ]
    }
   ],
   "source": [
    "ensemble_configs = [('single_layer&i3d_rgb+i3d_flow', 'H1'),\n",
    " ('single_layer&i3d_rgb+i3d_flow', 'H2'),\n",
    " ('single_layer&i3d_rgb+i3d_flow', 'H3'),\n",
    " ('single_layer+multi_layer&i3d_rgb', 'H3'),\n",
    " ('single_layer+multi_layer&i3d_flow', 'H3'),\n",
    " ('single_layer+multi_layer&i3d_rgb+i3d_flow', 'H3'),\n",
    " ('single_layer&i3d_rgb', 'H3'),\n",
    " ('single_layer&i3d_flow', 'H3'),\n",
    " ('single_layer&i3d_rgb+i3d_flow', 'H3'),\n",
    " ('multi_layer&i3d_rgb', 'H3'),\n",
    " ('multi_layer&i3d_flow', 'H3'),\n",
    " ('multi_layer&i3d_rgb+i3d_flow', 'H3')]\n",
    "print(len(ensemble_configs))\n",
    "ensemble_configs = set(ensemble_configs)\n",
    "print(len(ensemble_configs))"
   ]
  },
  {
   "cell_type": "code",
   "execution_count": 12,
   "id": "a5873768-e6f4-4571-b86f-85b6ae853a65",
   "metadata": {},
   "outputs": [],
   "source": [
    "from src.utils.metrics import vectorized_correlation"
   ]
  },
  {
   "cell_type": "code",
   "execution_count": 13,
   "id": "c6f00028-a667-4e45-9844-d248254645c2",
   "metadata": {},
   "outputs": [],
   "source": [
    "import pandas as pd"
   ]
  },
  {
   "cell_type": "code",
   "execution_count": null,
   "id": "a9eebada-0e11-404e-8f6f-6c382b7bc500",
   "metadata": {},
   "outputs": [
    {
     "data": {
      "application/vnd.jupyter.widget-view+json": {
       "model_id": "65e25771523b46889ab4c86fc036506d",
       "version_major": 2,
       "version_minor": 0
      },
      "text/plain": [
       "he_sch=H3 \t model_sch=single_layer&i3d_flow:   0%|          | 0/4 [00:00<?, ?it/s]"
      ]
     },
     "metadata": {},
     "output_type": "display_data"
    },
    {
     "data": {
      "application/vnd.jupyter.widget-view+json": {
       "model_id": "13f9a775137744e9a81e07e95eeb233e",
       "version_major": 2,
       "version_minor": 0
      },
      "text/plain": [
       "he_sch=H3 \t model_sch=multi_layer&i3d_flow:   0%|          | 0/4 [00:00<?, ?it/s]"
      ]
     },
     "metadata": {},
     "output_type": "display_data"
    }
   ],
   "source": [
    "sch_rois1_name = 'ROI'\n",
    "sch_rois1 = roi_sch_dict[sch_rois1_name]\n",
    "sch_rois2_names = list(roi_sch_dict.keys())\n",
    "sch_rois2_names.remove('ROI') # ROIxSMC ROIxLC ...\n",
    "\n",
    "skip_existing = False # will also skip plotting\n",
    "\n",
    "cross_roi_res_dicts = []\n",
    "for model_sch, he_sch in ensemble_configs:\n",
    "    for sch_rois2_name in tqdm(sch_rois2_names, desc=f'he_sch={he_sch} \\t model_sch={model_sch}'):\n",
    "        \n",
    "        save_paths = [tmp_dir.joinpath(Path(\n",
    "            f'he_sch={he_sch},model_sch={model_sch},roi_sch={sch_rois1_name}x{sch_rois2_name},cross_roi_sch={cross_roi_sch}-prediction.pt'))\n",
    "                     for cross_roi_sch in ['croi_swap', 'croi_ensemble', 'voxel_swap']]\n",
    "        if skip_existing and np.all([p.exists() for p in save_paths]): continue\n",
    "        \n",
    "        sch_rois2 = roi_sch_dict[sch_rois2_name]\n",
    "        path1 = Path(os.path.join(tmp_dir,\n",
    "                             f'he_sch={he_sch},model_sch={model_sch},roi_sch={sch_rois1_name}'\n",
    "                             f'-prediction.pt'))\n",
    "        path2 = Path(os.path.join(tmp_dir,\n",
    "                             f'he_sch={he_sch},model_sch={model_sch},roi_sch={sch_rois2_name}'\n",
    "                             f'-prediction.pt'))\n",
    "        if not (path1.exists() and path2.exists()): continue\n",
    "        prediction1 = torch.load(path1)\n",
    "        prediction2 = torch.load(path2)\n",
    "        \n",
    "\n",
    "        new_prediction_croi_swap = torch.zeros(prediction1.shape)\n",
    "        new_prediction_croi_ensemble = torch.zeros(prediction1.shape)\n",
    "        new_prediction_voxel_swap = torch.zeros(prediction1.shape)\n",
    "\n",
    "        for roi1_name, roi2_name in itertools.product(sch_rois1, sch_rois2):\n",
    "            voxel_indices1 = torch.load(os.path.join(cfg.DATASET.VOXEL_INDEX_DIR, f'{roi1_name}.pt'))\n",
    "            voxel_indices2 = torch.load(os.path.join(cfg.DATASET.VOXEL_INDEX_DIR, f'{roi2_name}.pt'))\n",
    "            intersect_vi = torch.tensor(np.intersect1d(voxel_indices1, voxel_indices2))\n",
    "\n",
    "            if len(intersect_vi) > 0:\n",
    "                voxel_scores = np.asarray([\n",
    "                    vectorized_correlation(prediction1[val_indices][..., intersect_vi],\n",
    "                                           val_fmris[..., intersect_vi]).numpy(),\n",
    "                    vectorized_correlation(prediction2[val_indices][..., intersect_vi],\n",
    "                                           val_fmris[..., intersect_vi]).numpy(),\n",
    "                ])\n",
    "                croi_scores = voxel_scores.mean(1)\n",
    "                roi_sch1_score = croi_scores[0]\n",
    "                roi_sch2_score = croi_scores[1]\n",
    "\n",
    "                predictions = torch.stack([prediction1[..., intersect_vi],\n",
    "                                           prediction2[..., intersect_vi]], -1)\n",
    "\n",
    "                # swap to better score model (cROI)\n",
    "                croi_swap_prediction = predictions[..., croi_scores.argmax()]\n",
    "                croi_swap_score = np.max(croi_scores)\n",
    "                new_prediction_croi_swap[..., intersect_vi] = croi_swap_prediction\n",
    "\n",
    "                # swap to better score model (voxel)\n",
    "                vsargmax = voxel_scores.argmax(0)\n",
    "                voxel_swap_prediction = torch.stack([predictions[:, i, idx] for i, idx in enumerate(vsargmax)], -1)\n",
    "                voxel_swap_num_better_1 = np.sum(vsargmax == 0)\n",
    "                voxel_swap_num_better_2 = np.sum(vsargmax == 1)\n",
    "                voxel_swap_score = voxel_scores.max(0).mean()\n",
    "                new_prediction_voxel_swap[..., intersect_vi] = voxel_swap_prediction\n",
    "\n",
    "                # ensemble on intersection of two ROIs\n",
    "                ws = optimize_val_correlation(predictions[val_indices], val_fmris[..., intersect_vi], device=DEVICE)\n",
    "                croi_ensemble_prediction = predictions @ ws\n",
    "                croi_ensemble_score = vectorized_correlation(croi_ensemble_prediction[val_indices],\n",
    "                                                        val_fmris[..., intersect_vi]).mean().item()\n",
    "                new_prediction_croi_ensemble[..., intersect_vi] = croi_ensemble_prediction\n",
    "\n",
    "            else:\n",
    "                # no voxel\n",
    "                roi_sch1_score = 0\n",
    "                roi_sch2_score = 0\n",
    "                croi_swap_score = 0\n",
    "                croi_ensemble_score = 0\n",
    "                voxel_swap_score = 0\n",
    "                voxel_swap_num_better_1 = 0\n",
    "                voxel_swap_num_better_2 = 0\n",
    "\n",
    "            cross_roi_res_dicts.append({\n",
    "                'model_sch': model_sch,\n",
    "                'he_sch': he_sch,\n",
    "                'sch_rois1_name': sch_rois1_name,\n",
    "                'sch_rois2_name': sch_rois2_name,\n",
    "                'roi1_name': roi1_name,\n",
    "                'roi2_name': roi2_name,\n",
    "                'num_intersect_voxels': len(intersect_vi),\n",
    "                'roi_sch1_score': roi_sch1_score,\n",
    "                'roi_sch2_score': roi_sch2_score,\n",
    "                'croi_swap_score': croi_swap_score,\n",
    "                'croi_ensemble_score': croi_ensemble_score,\n",
    "                'voxel_swap_score': voxel_swap_score,\n",
    "                'voxel_swap_num_better_1': voxel_swap_num_better_1,\n",
    "                'voxel_swap_num_better_2': voxel_swap_num_better_2,\n",
    "            })\n",
    "\n",
    "        torch.save(new_prediction_croi_swap, save_paths[0])\n",
    "        torch.save(new_prediction_croi_ensemble, save_paths[1])\n",
    "        torch.save(new_prediction_voxel_swap, save_paths[2])\n",
    "\n",
    "cross_roi_df = pd.DataFrame(cross_roi_res_dicts)"
   ]
  },
  {
   "cell_type": "code",
   "execution_count": null,
   "id": "011e2600-9032-4bd0-8f38-5111d78483a3",
   "metadata": {},
   "outputs": [],
   "source": [
    "torch.save(cross_roi_df, './tmp/cross_roi_df.pt')"
   ]
  },
  {
   "cell_type": "code",
   "execution_count": null,
   "id": "b6dda6f8-3456-48ab-a149-9fb3dc7d2c4f",
   "metadata": {},
   "outputs": [],
   "source": []
  },
  {
   "cell_type": "code",
   "execution_count": 17,
   "id": "972918a6-238a-4e24-b2c3-84f594efca4f",
   "metadata": {},
   "outputs": [],
   "source": [
    "import seaborn as sns\n",
    "import matplotlib.pyplot as plt"
   ]
  },
  {
   "cell_type": "code",
   "execution_count": 18,
   "id": "cad208fd-8670-4897-bc7e-00c7d93e6296",
   "metadata": {},
   "outputs": [],
   "source": [
    "from src.utils.misc import my_query_df"
   ]
  },
  {
   "cell_type": "code",
   "execution_count": 45,
   "id": "e255de20-1677-4ef4-bb87-827b3707ec9d",
   "metadata": {},
   "outputs": [],
   "source": [
    "# best config\n",
    "\n",
    "# for model_sch, he_sch in ensemble_configs:\n",
    "model_sch = 'single_layer&i3d_rgb+i3d_flow'\n",
    "he_sch = 'H3'\n",
    "sch_rois2_name = 'SMC'\n",
    "# for sch_rois2_name in sch_rois2_names:\n",
    "df = my_query_df(cross_roi_df, equal_dict={'model_sch': model_sch, 'he_sch':he_sch, 'sch_rois2_name':sch_rois2_name})\n",
    "# if len(df) == 0: continue\n",
    "d1_name = df['roi1_name'].unique()\n",
    "d2_name = df['roi2_name'].unique()\n",
    "\n",
    "better_percent_1 = (df['voxel_swap_num_better_1'] - df['voxel_swap_num_better_2'] ) / (df['voxel_swap_num_better_1'] + df['voxel_swap_num_better_2'])\n",
    "better_percent_1 = better_percent_1.apply(lambda x: f'{x:.0%}')\n",
    "num_intersect_voxels = df['num_intersect_voxels'].apply(lambda x: f'{x:d}')\n",
    "tab_data = better_percent_1 + '/' + num_intersect_voxels\n",
    "tab_data = tab_data.values.reshape(len(d1_name), len(d2_name))\n",
    "tab_df = pd.DataFrame(tab_data, columns=d2_name, index=d1_name)\n",
    "\n",
    "tab_df.to_csv(f'./tables/Table 200 - model_sch={model_sch},he_sch={he_sch},sch_rois2_name={sch_rois2_name}.csv')"
   ]
  },
  {
   "cell_type": "code",
   "execution_count": 44,
   "id": "c57b28a5-5983-4f3d-8a63-352956ddd53e",
   "metadata": {},
   "outputs": [
    {
     "data": {
      "text/html": [
       "<div>\n",
       "<style scoped>\n",
       "    .dataframe tbody tr th:only-of-type {\n",
       "        vertical-align: middle;\n",
       "    }\n",
       "\n",
       "    .dataframe tbody tr th {\n",
       "        vertical-align: top;\n",
       "    }\n",
       "\n",
       "    .dataframe thead th {\n",
       "        text-align: right;\n",
       "    }\n",
       "</style>\n",
       "<table border=\"1\" class=\"dataframe\">\n",
       "  <thead>\n",
       "    <tr style=\"text-align: right;\">\n",
       "      <th></th>\n",
       "      <th>SMC1</th>\n",
       "      <th>SMC2</th>\n",
       "      <th>MC2</th>\n",
       "      <th>LC2</th>\n",
       "      <th>LC3</th>\n",
       "      <th>LC4</th>\n",
       "      <th>LC5</th>\n",
       "    </tr>\n",
       "  </thead>\n",
       "  <tbody>\n",
       "    <tr>\n",
       "      <th>V1</th>\n",
       "      <td>34%/307</td>\n",
       "      <td>33%/572</td>\n",
       "      <td>70%/201</td>\n",
       "      <td>76%/25</td>\n",
       "      <td>58%/132</td>\n",
       "      <td>100%/2</td>\n",
       "      <td>48%/1234</td>\n",
       "    </tr>\n",
       "    <tr>\n",
       "      <th>V2</th>\n",
       "      <td>44%/263</td>\n",
       "      <td>36%/517</td>\n",
       "      <td>66%/286</td>\n",
       "      <td>40%/30</td>\n",
       "      <td>66%/151</td>\n",
       "      <td>100%/1</td>\n",
       "      <td>28%/1112</td>\n",
       "    </tr>\n",
       "    <tr>\n",
       "      <th>V3</th>\n",
       "      <td>47%/217</td>\n",
       "      <td>30%/423</td>\n",
       "      <td>37%/455</td>\n",
       "      <td>23%/143</td>\n",
       "      <td>32%/186</td>\n",
       "      <td>-43%/14</td>\n",
       "      <td>-3%/810</td>\n",
       "    </tr>\n",
       "    <tr>\n",
       "      <th>V4</th>\n",
       "      <td>52%/88</td>\n",
       "      <td>46%/107</td>\n",
       "      <td>25%/204</td>\n",
       "      <td>33%/87</td>\n",
       "      <td>50%/112</td>\n",
       "      <td>12%/16</td>\n",
       "      <td>29%/291</td>\n",
       "    </tr>\n",
       "    <tr>\n",
       "      <th>EBA</th>\n",
       "      <td>20%/123</td>\n",
       "      <td>2%/228</td>\n",
       "      <td>15%/532</td>\n",
       "      <td>37%/382</td>\n",
       "      <td>33%/107</td>\n",
       "      <td>11%/1028</td>\n",
       "      <td>0%/4</td>\n",
       "    </tr>\n",
       "    <tr>\n",
       "      <th>LOC</th>\n",
       "      <td>29%/830</td>\n",
       "      <td>20%/1210</td>\n",
       "      <td>-7%/2183</td>\n",
       "      <td>6%/4387</td>\n",
       "      <td>-19%/1659</td>\n",
       "      <td>-45%/2901</td>\n",
       "      <td>-49%/74</td>\n",
       "    </tr>\n",
       "    <tr>\n",
       "      <th>PPA</th>\n",
       "      <td>21%/81</td>\n",
       "      <td>20%/528</td>\n",
       "      <td>26%/27</td>\n",
       "      <td>40%/173</td>\n",
       "      <td>38%/1388</td>\n",
       "      <td>43%/7</td>\n",
       "      <td>-33%/3</td>\n",
       "    </tr>\n",
       "    <tr>\n",
       "      <th>FFA</th>\n",
       "      <td>51%/179</td>\n",
       "      <td>33%/104</td>\n",
       "      <td>45%/330</td>\n",
       "      <td>24%/63</td>\n",
       "      <td>29%/14</td>\n",
       "      <td>39%/407</td>\n",
       "      <td>100%/3</td>\n",
       "    </tr>\n",
       "    <tr>\n",
       "      <th>STS</th>\n",
       "      <td>16%/241</td>\n",
       "      <td>8%/740</td>\n",
       "      <td>57%/904</td>\n",
       "      <td>74%/47</td>\n",
       "      <td>-33%/108</td>\n",
       "      <td>29%/642</td>\n",
       "      <td>nan%/0</td>\n",
       "    </tr>\n",
       "    <tr>\n",
       "      <th>REST</th>\n",
       "      <td>-24%/12612</td>\n",
       "      <td>-6%/69497</td>\n",
       "      <td>-43%/7886</td>\n",
       "      <td>-37%/21020</td>\n",
       "      <td>-35%/16431</td>\n",
       "      <td>-63%/1117</td>\n",
       "      <td>-78%/3140</td>\n",
       "    </tr>\n",
       "  </tbody>\n",
       "</table>\n",
       "</div>"
      ],
      "text/plain": [
       "            SMC1       SMC2        MC2         LC2         LC3        LC4  \\\n",
       "V1       34%/307    33%/572    70%/201      76%/25     58%/132     100%/2   \n",
       "V2       44%/263    36%/517    66%/286      40%/30     66%/151     100%/1   \n",
       "V3       47%/217    30%/423    37%/455     23%/143     32%/186    -43%/14   \n",
       "V4        52%/88    46%/107    25%/204      33%/87     50%/112     12%/16   \n",
       "EBA      20%/123     2%/228    15%/532     37%/382     33%/107   11%/1028   \n",
       "LOC      29%/830   20%/1210   -7%/2183     6%/4387   -19%/1659  -45%/2901   \n",
       "PPA       21%/81    20%/528     26%/27     40%/173    38%/1388      43%/7   \n",
       "FFA      51%/179    33%/104    45%/330      24%/63      29%/14    39%/407   \n",
       "STS      16%/241     8%/740    57%/904      74%/47    -33%/108    29%/642   \n",
       "REST  -24%/12612  -6%/69497  -43%/7886  -37%/21020  -35%/16431  -63%/1117   \n",
       "\n",
       "            LC5  \n",
       "V1     48%/1234  \n",
       "V2     28%/1112  \n",
       "V3      -3%/810  \n",
       "V4      29%/291  \n",
       "EBA        0%/4  \n",
       "LOC     -49%/74  \n",
       "PPA      -33%/3  \n",
       "FFA      100%/3  \n",
       "STS      nan%/0  \n",
       "REST  -78%/3140  "
      ]
     },
     "execution_count": 44,
     "metadata": {},
     "output_type": "execute_result"
    }
   ],
   "source": [
    "tab_df"
   ]
  },
  {
   "cell_type": "raw",
   "id": "8a93ca3d-6cd5-4a66-a761-5e15521d3560",
   "metadata": {},
   "source": [
    "# all config\n",
    "\n",
    "for model_sch, he_sch in ensemble_configs:\n",
    "    # model_sch = 'single_layer&i3d_rgb+i3d_flow'\n",
    "    # he_sch = 'H3'\n",
    "    # sch_rois2_name = 'SMC'\n",
    "    for sch_rois2_name in sch_rois2_names:\n",
    "        df = my_query_df(cross_roi_df, equal_dict={'model_sch': model_sch, 'he_sch':he_sch, 'sch_rois2_name':sch_rois2_name})\n",
    "        if len(df) == 0: continue\n",
    "        d1_name = df['roi1_name'].unique()\n",
    "        d2_name = df['roi2_name'].unique()\n",
    "\n",
    "        nrows = 1\n",
    "        ncols = 2\n",
    "        size = 10\n",
    "        fig, axs = plt.subplots(nrows, ncols, figsize=(size*ncols, size*nrows))\n",
    "\n",
    "        ax = axs[0]\n",
    "        better_percent_1 = df['voxel_swap_num_better_1'] / (df['voxel_swap_num_better_1'] + df['voxel_swap_num_better_2'])\n",
    "        tab_data1 = better_percent_1.values.reshape(len(d1_name), len(d2_name))\n",
    "        sns.heatmap(tab_data1, yticklabels=d1_name, xticklabels=d2_name, annot=True, fmt='.1%', cmap='bwr', ax=ax, vmin=0, vmax=1)\n",
    "        ax.set_title(f'how many voxels(percentage) is ROI(row) better than kROI(column)?\\n '\n",
    "                  f'sch_rois1_name={sch_rois1_name}    sch_rois2_name={sch_rois2_name}\\n '\n",
    "                  f'\\nmodel_sch={model_sch}    he_sch={he_sch}')\n",
    "\n",
    "        ax = axs[1]\n",
    "        tab_data2 = df['num_intersect_voxels'].values.reshape(len(d1_name), len(d2_name))\n",
    "        sns.heatmap(tab_data2, yticklabels=d1_name, xticklabels=d2_name, annot=True, fmt='d', cmap='Reds', ax=ax, vmax=2000)\n",
    "        ax.set_title('number of voxels')\n",
    "        plt.show()"
   ]
  },
  {
   "cell_type": "code",
   "execution_count": null,
   "id": "3024c2bc-bbce-4c67-9846-0f530718a506",
   "metadata": {},
   "outputs": [],
   "source": []
  }
 ],
 "metadata": {
  "kernelspec": {
   "display_name": "Python 3 (ipykernel)",
   "language": "python",
   "name": "python3"
  },
  "language_info": {
   "codemirror_mode": {
    "name": "ipython",
    "version": 3
   },
   "file_extension": ".py",
   "mimetype": "text/x-python",
   "name": "python",
   "nbconvert_exporter": "python",
   "pygments_lexer": "ipython3",
   "version": "3.8.8"
  }
 },
 "nbformat": 4,
 "nbformat_minor": 5
}
