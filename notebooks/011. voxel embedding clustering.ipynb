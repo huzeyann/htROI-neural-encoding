{
 "cells": [
  {
   "cell_type": "code",
   "execution_count": null,
   "id": "7ffd5aea-743f-43c3-bd32-628119daa97a",
   "metadata": {},
   "outputs": [],
   "source": []
  },
  {
   "cell_type": "code",
   "execution_count": 1,
   "id": "6b398a73-48f7-4303-9723-9e4ad635e40d",
   "metadata": {},
   "outputs": [
    {
     "data": {
      "text/plain": [
       "True"
      ]
     },
     "execution_count": 1,
     "metadata": {},
     "output_type": "execute_result"
    }
   ],
   "source": [
    "import numpy as np\n",
    "import torch\n",
    "\n",
    "from tqdm.auto import tqdm\n",
    "from pathlib import Path\n",
    "\n",
    "import itertools\n",
    "\n",
    "import os\n",
    "from dotenv import find_dotenv, load_dotenv\n",
    "\n",
    "load_dotenv(find_dotenv(), verbose=True)"
   ]
  },
  {
   "cell_type": "code",
   "execution_count": 2,
   "id": "ff5012dd-57b2-4857-b2f5-70e75ba1c0e9",
   "metadata": {},
   "outputs": [
    {
     "name": "stdout",
     "output_type": "stream",
     "text": [
      "results_dir /data/huze/ray_results/algonauts2021\n"
     ]
    }
   ],
   "source": [
    "# results_dir = Path(os.getenv('RESULTS_DIR'))\n",
    "results_dir = Path('/data/huze/ray_results/algonauts2021')\n",
    "print('results_dir', results_dir)\n",
    "\n",
    "finished_runs = [path.parent for path in results_dir.glob('**/prediction.npy')]\n",
    "# print('finished_runs', len(finished_runs))"
   ]
  },
  {
   "cell_type": "code",
   "execution_count": 3,
   "id": "184c5c4c-0591-4f77-965f-03cbb8f0a846",
   "metadata": {},
   "outputs": [
    {
     "name": "stdout",
     "output_type": "stream",
     "text": [
      "['params.pkl',\n",
      " 'voxel_embedding.npy',\n",
      " 'result.json',\n",
      " 'hparams.yaml',\n",
      " 'events.out.tfevents.1645601235.yfwu-guslab',\n",
      " 'params.json',\n",
      " 'progress.csv',\n",
      " 'prediction.npy',\n",
      " 'events.out.tfevents.1645601256.yfwu-guslab.3793893.0']\n"
     ]
    }
   ],
   "source": [
    "from pprint import pprint\n",
    "\n",
    "exapmle_files = list(path.name for path in finished_runs[0].iterdir())\n",
    "pprint(exapmle_files)"
   ]
  },
  {
   "cell_type": "code",
   "execution_count": 4,
   "id": "975f6f25-49d5-4d7c-b5ef-eb68f2721758",
   "metadata": {},
   "outputs": [
    {
     "data": {
      "application/vnd.jupyter.widget-view+json": {
       "model_id": "595aaff0a1724ab1b0eb8e475987891b",
       "version_major": 2,
       "version_minor": 0
      },
      "text/plain": [
       "  0%|          | 0/1496 [00:00<?, ?it/s]"
      ]
     },
     "metadata": {},
     "output_type": "display_data"
    },
    {
     "name": "stdout",
     "output_type": "stream",
     "text": [
      "total GPU time 279.05h\n"
     ]
    }
   ],
   "source": [
    "import yaml\n",
    "from yaml import CLoader\n",
    "import json\n",
    "import pandas as pd\n",
    "from src.config.config import flatten\n",
    "\n",
    "finished_runs = [path.parent for path in results_dir.glob('**/prediction.npy')]\n",
    "\n",
    "run_meta_infos = []\n",
    "for run_dir in tqdm(finished_runs):\n",
    "    hparams = yaml.load(run_dir.joinpath('hparams.yaml').open(), Loader=CLoader)\n",
    "    run_meta_info = flatten(hparams)\n",
    "    run_meta_info['path'] = run_dir\n",
    "\n",
    "    data = [json.loads(line) for line in run_dir.joinpath('result.json').open()]\n",
    "    ddf = pd.DataFrame(data)\n",
    "    run_meta_info['score'] = ddf.val_corr.max()\n",
    "    run_meta_info['time'] = ddf.time_total_s.max()\n",
    "\n",
    "    run_meta_infos.append(run_meta_info)\n",
    "\n",
    "run_df = pd.DataFrame(run_meta_infos)\n",
    "\n",
    "# fix list unhashable\n",
    "run_df['MODEL.BACKBONE.LAYERS'] = run_df['MODEL.BACKBONE.LAYERS'].apply(lambda x: tuple(x))\n",
    "run_df['MODEL.NECK.SPP_LEVELS'] = run_df['MODEL.NECK.SPP_LEVELS'].apply(lambda x: tuple(x))\n",
    "\n",
    "print(f'total GPU time {run_df.time.sum() / 3600:.2f}h')"
   ]
  },
  {
   "cell_type": "raw",
   "id": "9e82dccd-416d-4f77-bf43-3efbbf1fa9de",
   "metadata": {},
   "source": [
    "pprint(run_meta_info)"
   ]
  },
  {
   "cell_type": "raw",
   "id": "9e42a835-1aab-426f-9c1c-464cb658e0dd",
   "metadata": {
    "pycharm": {
     "name": "#%%\n"
    }
   },
   "source": [
    "run_df[(run_df['MODEL.BACKBONE.NAME'].isin(['i3d_rgb', 'i3d_flow']))&\n",
    "       (run_df['MODEL.NECK.SPP_LEVELS'] == (2, )) &\n",
    "       (run_df['DATASET.ROI'] == 'WB')][\n",
    "    ['MODEL.BACKBONE.NAME', 'DATASET.ROI', 'MODEL.BACKBONE.LAYERS', 'MODEL.NECK.SPP_LEVELS', 'score']].sort_values('DATASET.ROI')"
   ]
  },
  {
   "cell_type": "markdown",
   "id": "2a6d7d77-2c7b-4178-8512-0f3a2a93be0c",
   "metadata": {},
   "source": [
    "# prepare data"
   ]
  },
  {
   "cell_type": "code",
   "execution_count": 6,
   "id": "153d60c7-fb8e-4e84-8d47-f58e9baf44f6",
   "metadata": {},
   "outputs": [],
   "source": [
    "from src.utils.ensemble import optimize_val_correlation\n",
    "from src.config.config import combine_cfgs, get_cfg_defaults\n",
    "from src.data.datamodule import MyDataModule"
   ]
  },
  {
   "cell_type": "code",
   "execution_count": 7,
   "id": "6d322b1b-35df-4d24-b970-2b6869de4401",
   "metadata": {},
   "outputs": [],
   "source": [
    "# prepare validation data\n",
    "cfg = combine_cfgs('../src/config/experiments/algonauts2021_i3d_flow.yml')\n",
    "dm = MyDataModule(cfg)\n",
    "dm.prepare_data()\n",
    "dm.setup()\n",
    "\n",
    "val_indices = dm.val_dataset.indices\n",
    "\n",
    "cache_path = Path('/data_smr/huze/.cache/val_fmris.pt')\n",
    "\n",
    "if cache_path.exists():\n",
    "    val_fmris = torch.load(cache_path)\n",
    "else:\n",
    "    val_fmris = [dm.dataset_train_val.__getitem__(i)[1] for i in tqdm(val_indices)]\n",
    "    val_fmris = np.stack(val_fmris, 0)\n",
    "    val_fmris = torch.tensor(val_fmris)\n",
    "    torch.save(val_fmris, cache_path)"
   ]
  }
 ],
 "metadata": {
  "kernelspec": {
   "display_name": "Python 3 (ipykernel)",
   "language": "python",
   "name": "python3"
  },
  "language_info": {
   "codemirror_mode": {
    "name": "ipython",
    "version": 3
   },
   "file_extension": ".py",
   "mimetype": "text/x-python",
   "name": "python",
   "nbconvert_exporter": "python",
   "pygments_lexer": "ipython3",
   "version": "3.8.8"
  }
 },
 "nbformat": 4,
 "nbformat_minor": 5
}
