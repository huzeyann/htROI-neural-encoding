{
 "cells": [
  {
   "cell_type": "code",
   "execution_count": 1,
   "id": "7285612f",
   "metadata": {},
   "outputs": [],
   "source": [
    "from src.utils.submission import algonauts2021_submission_from_whole_brain_prediction"
   ]
  },
  {
   "cell_type": "code",
   "execution_count": 2,
   "id": "72fd8b93",
   "metadata": {},
   "outputs": [],
   "source": [
    "import torch\n",
    "import numpy as np"
   ]
  },
  {
   "cell_type": "code",
   "execution_count": 3,
   "id": "d460a0ff",
   "metadata": {},
   "outputs": [],
   "source": [
    "import pandas as pd"
   ]
  },
  {
   "cell_type": "code",
   "execution_count": 4,
   "id": "ab049ca4",
   "metadata": {},
   "outputs": [],
   "source": [
    "from pathlib import Path"
   ]
  },
  {
   "cell_type": "code",
   "execution_count": 18,
   "id": "d89012ef",
   "metadata": {},
   "outputs": [],
   "source": [
    "tmp_dir = '/data/huze/ray_results/algonauts2021/ensemble_outputs'\n",
    "tmp_dir = Path(tmp_dir)"
   ]
  },
  {
   "cell_type": "code",
   "execution_count": 19,
   "id": "91e0fd64",
   "metadata": {},
   "outputs": [
    {
     "name": "stdout",
     "output_type": "stream",
     "text": [
      "0 /data/huze/ray_results/algonauts2021/ensemble_outputs/he_sch=H3,model_sch=single_layer&i3d_rgb,roi_sch=ROIxSMC,cross_roi_sch=voxel_swap-prediction.pt\n",
      "1 /data/huze/ray_results/algonauts2021/ensemble_outputs/he_sch=H3,model_sch=single_layer&i3d_rgb,roi_sch=LC-prediction.pt\n",
      "2 /data/huze/ray_results/algonauts2021/ensemble_outputs/he_sch=H3,model_sch=single_layer&i3d_rgb,roi_sch=ROIxSMC,cross_roi_sch=croi_swap-prediction.pt\n",
      "3 /data/huze/ray_results/algonauts2021/ensemble_outputs/he_sch=H3,model_sch=single_layer&i3d_rgb,roi_sch=ROIxSC,cross_roi_sch=croi_swap-prediction.pt\n",
      "4 /data/huze/ray_results/algonauts2021/ensemble_outputs/he_sch=H3,model_sch=single_layer&i3d_rgb,roi_sch=ROIxSMC,cross_roi_sch=croi_ensemble-prediction.pt\n",
      "5 /data/huze/ray_results/algonauts2021/ensemble_outputs/he_sch=H3,model_sch=single_layer&i3d_rgb,roi_sch=ROIxSC,cross_roi_sch=croi_ensemble-prediction.pt\n",
      "6 /data/huze/ray_results/algonauts2021/ensemble_outputs/he_sch=H3,model_sch=single_layer&i3d_rgb,roi_sch=SC-prediction.pt\n",
      "7 /data/huze/ray_results/algonauts2021/ensemble_outputs/he_sch=H3,model_sch=single_layer&i3d_rgb,roi_sch=ROIxLC,cross_roi_sch=croi_ensemble-prediction.pt\n",
      "8 /data/huze/ray_results/algonauts2021/ensemble_outputs/he_sch=H3,model_sch=single_layer&i3d_rgb,roi_sch=ROIxLC,cross_roi_sch=croi_swap-prediction.pt\n",
      "9 /data/huze/ray_results/algonauts2021/ensemble_outputs/he_sch=H3,model_sch=single_layer&i3d_rgb,roi_sch=SMC-prediction.pt\n",
      "10 /data/huze/ray_results/algonauts2021/ensemble_outputs/he_sch=H3,model_sch=single_layer&i3d_rgb,roi_sch=ROIxLC,cross_roi_sch=voxel_swap-prediction.pt\n",
      "11 /data/huze/ray_results/algonauts2021/ensemble_outputs/he_sch=H3,model_sch=single_layer&i3d_rgb,roi_sch=ROIxSC,cross_roi_sch=voxel_swap-prediction.pt\n",
      "12 /data/huze/ray_results/algonauts2021/ensemble_outputs/he_sch=H3,model_sch=single_layer&i3d_rgb,roi_sch=ROIxMC,cross_roi_sch=croi_swap-prediction.pt\n",
      "13 /data/huze/ray_results/algonauts2021/ensemble_outputs/he_sch=H3,model_sch=single_layer&i3d_rgb,roi_sch=MC-prediction.pt\n",
      "14 /data/huze/ray_results/algonauts2021/ensemble_outputs/he_sch=H3,model_sch=single_layer&i3d_rgb,roi_sch=ROI-prediction.pt\n",
      "15 /data/huze/ray_results/algonauts2021/ensemble_outputs/he_sch=H3,model_sch=single_layer&i3d_rgb,roi_sch=ROIxMC,cross_roi_sch=voxel_swap-prediction.pt\n",
      "16 /data/huze/ray_results/algonauts2021/ensemble_outputs/he_sch=H3,model_sch=single_layer&i3d_rgb,roi_sch=ROIxMC,cross_roi_sch=croi_ensemble-prediction.pt\n",
      "\n"
     ]
    }
   ],
   "source": [
    "def iprint(list):\n",
    "    for (num, item) in enumerate(list):\n",
    "        print(num, item)\n",
    "    print()\n",
    "    \n",
    "iprint(list(tmp_dir.iterdir()))"
   ]
  },
  {
   "cell_type": "code",
   "execution_count": 20,
   "id": "1b27e53c",
   "metadata": {},
   "outputs": [],
   "source": [
    "path = list(tmp_dir.iterdir())[5]"
   ]
  },
  {
   "cell_type": "code",
   "execution_count": 21,
   "id": "88d1b2b4",
   "metadata": {},
   "outputs": [],
   "source": [
    "dicts = []\n",
    "for path in tmp_dir.iterdir():\n",
    "    try:\n",
    "        name = path.name.replace('-prediction.pt', '')\n",
    "        d = {k: v for k, v in map(lambda kv: kv.split('='), name.split(','))}\n",
    "        d['path'] = path\n",
    "        dicts.append(d)\n",
    "    except:\n",
    "        continue"
   ]
  },
  {
   "cell_type": "code",
   "execution_count": 22,
   "id": "e569ddb5",
   "metadata": {},
   "outputs": [],
   "source": [
    "df = pd.DataFrame(dicts)"
   ]
  },
  {
   "cell_type": "code",
   "execution_count": 23,
   "id": "1997c2d6",
   "metadata": {},
   "outputs": [
    {
     "data": {
      "text/html": [
       "<div>\n",
       "<style scoped>\n",
       "    .dataframe tbody tr th:only-of-type {\n",
       "        vertical-align: middle;\n",
       "    }\n",
       "\n",
       "    .dataframe tbody tr th {\n",
       "        vertical-align: top;\n",
       "    }\n",
       "\n",
       "    .dataframe thead th {\n",
       "        text-align: right;\n",
       "    }\n",
       "</style>\n",
       "<table border=\"1\" class=\"dataframe\">\n",
       "  <thead>\n",
       "    <tr style=\"text-align: right;\">\n",
       "      <th></th>\n",
       "      <th>he_sch</th>\n",
       "      <th>model_sch</th>\n",
       "      <th>roi_sch</th>\n",
       "      <th>cross_roi_sch</th>\n",
       "      <th>path</th>\n",
       "    </tr>\n",
       "  </thead>\n",
       "  <tbody>\n",
       "    <tr>\n",
       "      <th>0</th>\n",
       "      <td>H3</td>\n",
       "      <td>single_layer&amp;i3d_rgb</td>\n",
       "      <td>ROIxSMC</td>\n",
       "      <td>voxel_swap</td>\n",
       "      <td>/data/huze/ray_results/algonauts2021/ensemble_...</td>\n",
       "    </tr>\n",
       "    <tr>\n",
       "      <th>1</th>\n",
       "      <td>H3</td>\n",
       "      <td>single_layer&amp;i3d_rgb</td>\n",
       "      <td>LC</td>\n",
       "      <td>NaN</td>\n",
       "      <td>/data/huze/ray_results/algonauts2021/ensemble_...</td>\n",
       "    </tr>\n",
       "    <tr>\n",
       "      <th>2</th>\n",
       "      <td>H3</td>\n",
       "      <td>single_layer&amp;i3d_rgb</td>\n",
       "      <td>ROIxSMC</td>\n",
       "      <td>croi_swap</td>\n",
       "      <td>/data/huze/ray_results/algonauts2021/ensemble_...</td>\n",
       "    </tr>\n",
       "    <tr>\n",
       "      <th>3</th>\n",
       "      <td>H3</td>\n",
       "      <td>single_layer&amp;i3d_rgb</td>\n",
       "      <td>ROIxSC</td>\n",
       "      <td>croi_swap</td>\n",
       "      <td>/data/huze/ray_results/algonauts2021/ensemble_...</td>\n",
       "    </tr>\n",
       "    <tr>\n",
       "      <th>4</th>\n",
       "      <td>H3</td>\n",
       "      <td>single_layer&amp;i3d_rgb</td>\n",
       "      <td>ROIxSMC</td>\n",
       "      <td>croi_ensemble</td>\n",
       "      <td>/data/huze/ray_results/algonauts2021/ensemble_...</td>\n",
       "    </tr>\n",
       "    <tr>\n",
       "      <th>5</th>\n",
       "      <td>H3</td>\n",
       "      <td>single_layer&amp;i3d_rgb</td>\n",
       "      <td>ROIxSC</td>\n",
       "      <td>croi_ensemble</td>\n",
       "      <td>/data/huze/ray_results/algonauts2021/ensemble_...</td>\n",
       "    </tr>\n",
       "    <tr>\n",
       "      <th>6</th>\n",
       "      <td>H3</td>\n",
       "      <td>single_layer&amp;i3d_rgb</td>\n",
       "      <td>SC</td>\n",
       "      <td>NaN</td>\n",
       "      <td>/data/huze/ray_results/algonauts2021/ensemble_...</td>\n",
       "    </tr>\n",
       "    <tr>\n",
       "      <th>7</th>\n",
       "      <td>H3</td>\n",
       "      <td>single_layer&amp;i3d_rgb</td>\n",
       "      <td>ROIxLC</td>\n",
       "      <td>croi_ensemble</td>\n",
       "      <td>/data/huze/ray_results/algonauts2021/ensemble_...</td>\n",
       "    </tr>\n",
       "    <tr>\n",
       "      <th>8</th>\n",
       "      <td>H3</td>\n",
       "      <td>single_layer&amp;i3d_rgb</td>\n",
       "      <td>ROIxLC</td>\n",
       "      <td>croi_swap</td>\n",
       "      <td>/data/huze/ray_results/algonauts2021/ensemble_...</td>\n",
       "    </tr>\n",
       "    <tr>\n",
       "      <th>9</th>\n",
       "      <td>H3</td>\n",
       "      <td>single_layer&amp;i3d_rgb</td>\n",
       "      <td>SMC</td>\n",
       "      <td>NaN</td>\n",
       "      <td>/data/huze/ray_results/algonauts2021/ensemble_...</td>\n",
       "    </tr>\n",
       "    <tr>\n",
       "      <th>10</th>\n",
       "      <td>H3</td>\n",
       "      <td>single_layer&amp;i3d_rgb</td>\n",
       "      <td>ROIxLC</td>\n",
       "      <td>voxel_swap</td>\n",
       "      <td>/data/huze/ray_results/algonauts2021/ensemble_...</td>\n",
       "    </tr>\n",
       "    <tr>\n",
       "      <th>11</th>\n",
       "      <td>H3</td>\n",
       "      <td>single_layer&amp;i3d_rgb</td>\n",
       "      <td>ROIxSC</td>\n",
       "      <td>voxel_swap</td>\n",
       "      <td>/data/huze/ray_results/algonauts2021/ensemble_...</td>\n",
       "    </tr>\n",
       "    <tr>\n",
       "      <th>12</th>\n",
       "      <td>H3</td>\n",
       "      <td>single_layer&amp;i3d_rgb</td>\n",
       "      <td>ROIxMC</td>\n",
       "      <td>croi_swap</td>\n",
       "      <td>/data/huze/ray_results/algonauts2021/ensemble_...</td>\n",
       "    </tr>\n",
       "    <tr>\n",
       "      <th>13</th>\n",
       "      <td>H3</td>\n",
       "      <td>single_layer&amp;i3d_rgb</td>\n",
       "      <td>MC</td>\n",
       "      <td>NaN</td>\n",
       "      <td>/data/huze/ray_results/algonauts2021/ensemble_...</td>\n",
       "    </tr>\n",
       "    <tr>\n",
       "      <th>14</th>\n",
       "      <td>H3</td>\n",
       "      <td>single_layer&amp;i3d_rgb</td>\n",
       "      <td>ROI</td>\n",
       "      <td>NaN</td>\n",
       "      <td>/data/huze/ray_results/algonauts2021/ensemble_...</td>\n",
       "    </tr>\n",
       "    <tr>\n",
       "      <th>15</th>\n",
       "      <td>H3</td>\n",
       "      <td>single_layer&amp;i3d_rgb</td>\n",
       "      <td>ROIxMC</td>\n",
       "      <td>voxel_swap</td>\n",
       "      <td>/data/huze/ray_results/algonauts2021/ensemble_...</td>\n",
       "    </tr>\n",
       "    <tr>\n",
       "      <th>16</th>\n",
       "      <td>H3</td>\n",
       "      <td>single_layer&amp;i3d_rgb</td>\n",
       "      <td>ROIxMC</td>\n",
       "      <td>croi_ensemble</td>\n",
       "      <td>/data/huze/ray_results/algonauts2021/ensemble_...</td>\n",
       "    </tr>\n",
       "  </tbody>\n",
       "</table>\n",
       "</div>"
      ],
      "text/plain": [
       "   he_sch             model_sch  roi_sch  cross_roi_sch  \\\n",
       "0      H3  single_layer&i3d_rgb  ROIxSMC     voxel_swap   \n",
       "1      H3  single_layer&i3d_rgb       LC            NaN   \n",
       "2      H3  single_layer&i3d_rgb  ROIxSMC      croi_swap   \n",
       "3      H3  single_layer&i3d_rgb   ROIxSC      croi_swap   \n",
       "4      H3  single_layer&i3d_rgb  ROIxSMC  croi_ensemble   \n",
       "5      H3  single_layer&i3d_rgb   ROIxSC  croi_ensemble   \n",
       "6      H3  single_layer&i3d_rgb       SC            NaN   \n",
       "7      H3  single_layer&i3d_rgb   ROIxLC  croi_ensemble   \n",
       "8      H3  single_layer&i3d_rgb   ROIxLC      croi_swap   \n",
       "9      H3  single_layer&i3d_rgb      SMC            NaN   \n",
       "10     H3  single_layer&i3d_rgb   ROIxLC     voxel_swap   \n",
       "11     H3  single_layer&i3d_rgb   ROIxSC     voxel_swap   \n",
       "12     H3  single_layer&i3d_rgb   ROIxMC      croi_swap   \n",
       "13     H3  single_layer&i3d_rgb       MC            NaN   \n",
       "14     H3  single_layer&i3d_rgb      ROI            NaN   \n",
       "15     H3  single_layer&i3d_rgb   ROIxMC     voxel_swap   \n",
       "16     H3  single_layer&i3d_rgb   ROIxMC  croi_ensemble   \n",
       "\n",
       "                                                 path  \n",
       "0   /data/huze/ray_results/algonauts2021/ensemble_...  \n",
       "1   /data/huze/ray_results/algonauts2021/ensemble_...  \n",
       "2   /data/huze/ray_results/algonauts2021/ensemble_...  \n",
       "3   /data/huze/ray_results/algonauts2021/ensemble_...  \n",
       "4   /data/huze/ray_results/algonauts2021/ensemble_...  \n",
       "5   /data/huze/ray_results/algonauts2021/ensemble_...  \n",
       "6   /data/huze/ray_results/algonauts2021/ensemble_...  \n",
       "7   /data/huze/ray_results/algonauts2021/ensemble_...  \n",
       "8   /data/huze/ray_results/algonauts2021/ensemble_...  \n",
       "9   /data/huze/ray_results/algonauts2021/ensemble_...  \n",
       "10  /data/huze/ray_results/algonauts2021/ensemble_...  \n",
       "11  /data/huze/ray_results/algonauts2021/ensemble_...  \n",
       "12  /data/huze/ray_results/algonauts2021/ensemble_...  \n",
       "13  /data/huze/ray_results/algonauts2021/ensemble_...  \n",
       "14  /data/huze/ray_results/algonauts2021/ensemble_...  \n",
       "15  /data/huze/ray_results/algonauts2021/ensemble_...  \n",
       "16  /data/huze/ray_results/algonauts2021/ensemble_...  "
      ]
     },
     "execution_count": 23,
     "metadata": {},
     "output_type": "execute_result"
    }
   ],
   "source": [
    "df"
   ]
  },
  {
   "cell_type": "code",
   "execution_count": 41,
   "id": "9aebc070-30be-4a73-a0db-6620a6c130aa",
   "metadata": {},
   "outputs": [],
   "source": [
    "filter_dict = {\n",
    "    'he_sch': ['H3'],\n",
    "    'model_sch': ['single_layer&i3d_rgb'],\n",
    "    'roi_sch': ['ROIxSMC', 'ROI', 'SMC'],\n",
    "}"
   ]
  },
  {
   "cell_type": "code",
   "execution_count": 42,
   "id": "4720be51-456b-4ef0-88aa-4a3d2440dc7b",
   "metadata": {},
   "outputs": [
    {
     "name": "stdout",
     "output_type": "stream",
     "text": [
      "he_sch ['H3']\n",
      "17\n",
      "model_sch ['single_layer&i3d_rgb']\n",
      "17\n",
      "roi_sch ['ROIxSMC', 'ROI', 'SMC']\n",
      "5\n"
     ]
    }
   ],
   "source": [
    "filtered_df = df\n",
    "for k, vs in filter_dict.items():\n",
    "    print(k, vs)\n",
    "    filtered_df = filtered_df.loc[filtered_df[k].isin(vs)]\n",
    "    print(len(filtered_df))"
   ]
  },
  {
   "cell_type": "code",
   "execution_count": 43,
   "id": "1313c33e-22d8-4366-b245-40cb085855cf",
   "metadata": {},
   "outputs": [
    {
     "data": {
      "text/html": [
       "<div>\n",
       "<style scoped>\n",
       "    .dataframe tbody tr th:only-of-type {\n",
       "        vertical-align: middle;\n",
       "    }\n",
       "\n",
       "    .dataframe tbody tr th {\n",
       "        vertical-align: top;\n",
       "    }\n",
       "\n",
       "    .dataframe thead th {\n",
       "        text-align: right;\n",
       "    }\n",
       "</style>\n",
       "<table border=\"1\" class=\"dataframe\">\n",
       "  <thead>\n",
       "    <tr style=\"text-align: right;\">\n",
       "      <th></th>\n",
       "      <th>he_sch</th>\n",
       "      <th>model_sch</th>\n",
       "      <th>roi_sch</th>\n",
       "      <th>cross_roi_sch</th>\n",
       "      <th>path</th>\n",
       "    </tr>\n",
       "  </thead>\n",
       "  <tbody>\n",
       "    <tr>\n",
       "      <th>0</th>\n",
       "      <td>H3</td>\n",
       "      <td>single_layer&amp;i3d_rgb</td>\n",
       "      <td>ROIxSMC</td>\n",
       "      <td>voxel_swap</td>\n",
       "      <td>/data/huze/ray_results/algonauts2021/ensemble_...</td>\n",
       "    </tr>\n",
       "    <tr>\n",
       "      <th>2</th>\n",
       "      <td>H3</td>\n",
       "      <td>single_layer&amp;i3d_rgb</td>\n",
       "      <td>ROIxSMC</td>\n",
       "      <td>croi_swap</td>\n",
       "      <td>/data/huze/ray_results/algonauts2021/ensemble_...</td>\n",
       "    </tr>\n",
       "    <tr>\n",
       "      <th>4</th>\n",
       "      <td>H3</td>\n",
       "      <td>single_layer&amp;i3d_rgb</td>\n",
       "      <td>ROIxSMC</td>\n",
       "      <td>croi_ensemble</td>\n",
       "      <td>/data/huze/ray_results/algonauts2021/ensemble_...</td>\n",
       "    </tr>\n",
       "    <tr>\n",
       "      <th>9</th>\n",
       "      <td>H3</td>\n",
       "      <td>single_layer&amp;i3d_rgb</td>\n",
       "      <td>SMC</td>\n",
       "      <td>NaN</td>\n",
       "      <td>/data/huze/ray_results/algonauts2021/ensemble_...</td>\n",
       "    </tr>\n",
       "    <tr>\n",
       "      <th>14</th>\n",
       "      <td>H3</td>\n",
       "      <td>single_layer&amp;i3d_rgb</td>\n",
       "      <td>ROI</td>\n",
       "      <td>NaN</td>\n",
       "      <td>/data/huze/ray_results/algonauts2021/ensemble_...</td>\n",
       "    </tr>\n",
       "  </tbody>\n",
       "</table>\n",
       "</div>"
      ],
      "text/plain": [
       "   he_sch             model_sch  roi_sch  cross_roi_sch  \\\n",
       "0      H3  single_layer&i3d_rgb  ROIxSMC     voxel_swap   \n",
       "2      H3  single_layer&i3d_rgb  ROIxSMC      croi_swap   \n",
       "4      H3  single_layer&i3d_rgb  ROIxSMC  croi_ensemble   \n",
       "9      H3  single_layer&i3d_rgb      SMC            NaN   \n",
       "14     H3  single_layer&i3d_rgb      ROI            NaN   \n",
       "\n",
       "                                                 path  \n",
       "0   /data/huze/ray_results/algonauts2021/ensemble_...  \n",
       "2   /data/huze/ray_results/algonauts2021/ensemble_...  \n",
       "4   /data/huze/ray_results/algonauts2021/ensemble_...  \n",
       "9   /data/huze/ray_results/algonauts2021/ensemble_...  \n",
       "14  /data/huze/ray_results/algonauts2021/ensemble_...  "
      ]
     },
     "execution_count": 43,
     "metadata": {},
     "output_type": "execute_result"
    }
   ],
   "source": [
    "filtered_df"
   ]
  },
  {
   "cell_type": "code",
   "execution_count": 44,
   "id": "e8a0ac9d-f82d-49d5-a383-979fb27cd88c",
   "metadata": {},
   "outputs": [],
   "source": [
    "!rm -r submissions"
   ]
  },
  {
   "cell_type": "code",
   "execution_count": 45,
   "id": "4dd288bf",
   "metadata": {},
   "outputs": [],
   "source": [
    "for i_row, row in filtered_df.iterrows():\n",
    "    path = row.path\n",
    "    name = path.name.replace('-prediction.pt', '')\n",
    "    \n",
    "    prediction = torch.load(path)\n",
    "    prediction = prediction[1000:].float().numpy()\n",
    "\n",
    "    algonauts2021_submission_from_whole_brain_prediction('../src/config/dataset',\n",
    "                                                        name,\n",
    "                                                        prediction,\n",
    "                                                        output_dir='./submissions/')"
   ]
  },
  {
   "cell_type": "code",
   "execution_count": null,
   "id": "306a60f4",
   "metadata": {},
   "outputs": [],
   "source": []
  },
  {
   "cell_type": "code",
   "execution_count": 41,
   "id": "6eb50dfc",
   "metadata": {},
   "outputs": [],
   "source": [
    "d = {\n",
    "  \"WB\": 0.06,\n",
    "  \"MC2\": 0.12,\n",
    "  \"SMC2\": 0.0105,\n",
    "  \"EBA\": 0.18,\n",
    "  \"STS\": 0.105,\n",
    "  \"V3\": 0.15,\n",
    "  \"REST\": 0.06,\n",
    "  \"V4\": 0.12,\n",
    "  \"V2\": 0.15,\n",
    "  \"V1\": 0.15,\n",
    "  \"PPA\": 0.105,\n",
    "  \"SC4\": 0.105,\n",
    "  \"LC3\": 0.105,\n",
    "  \"LC5\": 0.18,\n",
    "  \"SMC1\": 0.036,\n",
    "  \"LC4\": 0.21,\n",
    "  \"LOC\": 0.15,\n",
    "  \"FFA\": 0.135,\n",
    "  \"LC1\": 0.027,\n",
    "  \"SC3\": 0.135,\n",
    "  \"MC1\": 0.012,\n",
    "  \"LC2\": 0.15\n",
    "}"
   ]
  },
  {
   "cell_type": "code",
   "execution_count": 46,
   "id": "4b08db3a",
   "metadata": {},
   "outputs": [],
   "source": [
    "magic_lst = [0.09, 0.009, 0.15, 0.12, 0.045, 0.03, 0.105, 0.021]\n",
    "def closest(lst, K):\n",
    "    return lst[min(range(len(lst)), key = lambda i: abs(lst[i]-K))]"
   ]
  },
  {
   "cell_type": "code",
   "execution_count": 47,
   "id": "fbdb296a",
   "metadata": {},
   "outputs": [
    {
     "data": {
      "text/plain": [
       "{'WB': 0.045,\n",
       " 'MC2': 0.09,\n",
       " 'SMC2': 0.009,\n",
       " 'EBA': 0.15,\n",
       " 'STS': 0.09,\n",
       " 'V3': 0.12,\n",
       " 'REST': 0.045,\n",
       " 'V4': 0.09,\n",
       " 'V2': 0.12,\n",
       " 'V1': 0.12,\n",
       " 'PPA': 0.09,\n",
       " 'SC4': 0.09,\n",
       " 'LC3': 0.09,\n",
       " 'LC5': 0.15,\n",
       " 'SMC1': 0.03,\n",
       " 'LC4': 0.15,\n",
       " 'LOC': 0.12,\n",
       " 'FFA': 0.105,\n",
       " 'LC1': 0.021,\n",
       " 'SC3': 0.105,\n",
       " 'MC1': 0.009,\n",
       " 'LC2': 0.12}"
      ]
     },
     "execution_count": 47,
     "metadata": {},
     "output_type": "execute_result"
    }
   ],
   "source": [
    "{k:closest(magic_lst, v*0.81) for k,v in d.items()}"
   ]
  },
  {
   "cell_type": "code",
   "execution_count": null,
   "id": "d467dd7d",
   "metadata": {},
   "outputs": [],
   "source": [
    "250*1024/11"
   ]
  },
  {
   "cell_type": "code",
   "execution_count": null,
   "id": "73e0f997",
   "metadata": {},
   "outputs": [],
   "source": []
  }
 ],
 "metadata": {
  "kernelspec": {
   "display_name": "Python 3 (ipykernel)",
   "language": "python",
   "name": "python3"
  },
  "language_info": {
   "codemirror_mode": {
    "name": "ipython",
    "version": 3
   },
   "file_extension": ".py",
   "mimetype": "text/x-python",
   "name": "python",
   "nbconvert_exporter": "python",
   "pygments_lexer": "ipython3",
   "version": "3.8.8"
  }
 },
 "nbformat": 4,
 "nbformat_minor": 5
}
