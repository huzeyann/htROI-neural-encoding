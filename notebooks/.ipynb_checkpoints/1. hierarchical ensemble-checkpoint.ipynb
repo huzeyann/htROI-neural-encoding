{
 "cells": [
  {
   "cell_type": "code",
   "execution_count": 1,
   "id": "2eed0aac",
   "metadata": {},
   "outputs": [],
   "source": [
    "import numpy as np\n",
    "import torch\n",
    "\n",
    "from tqdm.auto import tqdm\n",
    "from tqdm.notebook import tqdm_notebook, trange\n",
    "\n",
    "import itertools"
   ]
  },
  {
   "cell_type": "code",
   "execution_count": 2,
   "id": "78b47456",
   "metadata": {},
   "outputs": [
    {
     "data": {
      "text/plain": [
       "True"
      ]
     },
     "execution_count": 2,
     "metadata": {},
     "output_type": "execute_result"
    }
   ],
   "source": [
    "import os\n",
    "from dotenv import find_dotenv, load_dotenv\n",
    "\n",
    "load_dotenv(find_dotenv(), verbose=True)"
   ]
  },
  {
   "cell_type": "code",
   "execution_count": 3,
   "id": "8150317b",
   "metadata": {},
   "outputs": [],
   "source": [
    "DEVICE = torch.device('cuda:1')"
   ]
  },
  {
   "cell_type": "code",
   "execution_count": 4,
   "id": "d5a6eb84",
   "metadata": {},
   "outputs": [
    {
     "name": "stdout",
     "output_type": "stream",
     "text": [
      "results_dir /data/huze/ray_results/algonauts2021\n"
     ]
    }
   ],
   "source": [
    "from pathlib import Path\n",
    "\n",
    "# results_dir = Path(os.getenv('RESULTS_DIR'))\n",
    "results_dir = Path('/data/huze/ray_results/algonauts2021')\n",
    "print('results_dir', results_dir)\n",
    "\n",
    "finished_runs = [path.parent for path in results_dir.glob('**/prediction.npy')]\n",
    "# print('finished_runs', len(finished_runs))"
   ]
  },
  {
   "cell_type": "code",
   "execution_count": 5,
   "id": "2e477156",
   "metadata": {},
   "outputs": [
    {
     "name": "stdout",
     "output_type": "stream",
     "text": [
      "['params.pkl',\n",
      " 'voxel_embedding.npy',\n",
      " 'result.json',\n",
      " 'hparams.yaml',\n",
      " 'events.out.tfevents.1645601235.yfwu-guslab',\n",
      " 'params.json',\n",
      " 'progress.csv',\n",
      " 'prediction.npy',\n",
      " 'events.out.tfevents.1645601256.yfwu-guslab.3793893.0']\n"
     ]
    }
   ],
   "source": [
    "from pprint import pprint\n",
    "\n",
    "exapmle_files = list(path.name for path in finished_runs[0].iterdir())\n",
    "pprint(exapmle_files)"
   ]
  },
  {
   "cell_type": "code",
   "execution_count": 6,
   "id": "6768820d",
   "metadata": {},
   "outputs": [
    {
     "data": {
      "application/vnd.jupyter.widget-view+json": {
       "model_id": "6e68d6f37152473fb940a5e3714704a8",
       "version_major": 2,
       "version_minor": 0
      },
      "text/plain": [
       "  0%|          | 0/1496 [00:00<?, ?it/s]"
      ]
     },
     "metadata": {},
     "output_type": "display_data"
    },
    {
     "name": "stdout",
     "output_type": "stream",
     "text": [
      "total GPU time 279.05h\n"
     ]
    }
   ],
   "source": [
    "import yaml\n",
    "from yaml import CLoader\n",
    "import json\n",
    "import pandas as pd\n",
    "from src.config.config import flatten\n",
    "\n",
    "finished_runs = [path.parent for path in results_dir.glob('**/prediction.npy')]\n",
    "\n",
    "run_meta_infos = []\n",
    "for run_dir in tqdm(finished_runs):\n",
    "    hparams = yaml.load(run_dir.joinpath('hparams.yaml').open(), Loader=CLoader)\n",
    "    run_meta_info = flatten(hparams)\n",
    "    run_meta_info['path'] = run_dir\n",
    "\n",
    "    data = [json.loads(line) for line in run_dir.joinpath('result.json').open()]\n",
    "    ddf = pd.DataFrame(data)\n",
    "    run_meta_info['score'] = ddf.val_corr.max()\n",
    "    run_meta_info['time'] = ddf.time_total_s.max()\n",
    "\n",
    "    run_meta_infos.append(run_meta_info)\n",
    "\n",
    "run_df = pd.DataFrame(run_meta_infos)\n",
    "\n",
    "# fix list unhashable\n",
    "run_df['MODEL.BACKBONE.LAYERS'] = run_df['MODEL.BACKBONE.LAYERS'].apply(lambda x: tuple(x))\n",
    "run_df['MODEL.NECK.SPP_LEVELS'] = run_df['MODEL.NECK.SPP_LEVELS'].apply(lambda x: tuple(x))\n",
    "\n",
    "print(f'total GPU time {run_df.time.sum() / 3600:.2f}h')"
   ]
  },
  {
   "cell_type": "raw",
   "id": "9e98c444",
   "metadata": {},
   "source": [
    "pprint(run_meta_info)"
   ]
  },
  {
   "cell_type": "raw",
   "id": "d16c3866-1fd5-440b-ae36-7633a79a5d17",
   "metadata": {
    "pycharm": {
     "name": "#%%\n"
    }
   },
   "source": [
    "run_df[(run_df['MODEL.BACKBONE.NAME'].isin(['i3d_rgb', 'i3d_flow']))&\n",
    "       (run_df['MODEL.NECK.SPP_LEVELS'] == (2, )) &\n",
    "       (run_df['DATASET.ROI'] == 'WB')][\n",
    "    ['MODEL.BACKBONE.NAME', 'DATASET.ROI', 'MODEL.BACKBONE.LAYERS', 'MODEL.NECK.SPP_LEVELS', 'score']].sort_values('DATASET.ROI')"
   ]
  },
  {
   "cell_type": "code",
   "execution_count": 8,
   "id": "6624aeb3",
   "metadata": {
    "collapsed": false,
    "jupyter": {
     "outputs_hidden": false
    },
    "pycharm": {
     "name": "#%%\n"
    }
   },
   "outputs": [
    {
     "name": "stdout",
     "output_type": "stream",
     "text": [
      "MODEL.BACKBONE.NAME                                                i3d_rgb\n",
      "DATASET.ROI                                                             WB\n",
      "MODEL.BACKBONE.LAYERS                                     (x1, x2, x3, x4)\n",
      "MODEL.NECK.SPP_LEVELS                                            (2, 4, 7)\n",
      "score                                                             0.147791\n",
      "path                     /data/huze/ray_results/algonauts2021/algonauts...\n",
      "Name: 1326, dtype: object\n",
      "\n",
      "/data/huze/ray_results/algonauts2021/algonauts2021_i3d_rgb-multi_layer/run_single_tune_config_575a8_00066_66_DATASET.ROI=WB,MODEL.BACKBONE.LAYERS=_'x1', 'x2', 'x3', 'x4'_,MODEL.BACKBONE.LAYER_PATHWAYS=_2022-02-26_14-18-59/prediction.npy\n"
     ]
    }
   ],
   "source": [
    "# find a multi-layer baseline\n",
    "# for notebook 201. (cross-notebook-ref)\n",
    "baseline_run = run_df[(run_df['MODEL.BACKBONE.NAME'].isin(['i3d_rgb'])) &\n",
    "       # (run_df['MODEL.BACKBONE.LAYERS'] == ('x1', 'x2', 'x3', 'x4', )) &\n",
    "       (run_df['DATASET.ROI'] == 'WB')][\n",
    "    ['MODEL.BACKBONE.NAME', 'DATASET.ROI', 'MODEL.BACKBONE.LAYERS', 'MODEL.NECK.SPP_LEVELS', 'score', 'path']].sort_values('score', ascending=False)\n",
    "print(baseline_run.iloc[0])\n",
    "print()\n",
    "print(baseline_run.iloc[0].path.joinpath(Path('prediction.npy')))"
   ]
  },
  {
   "cell_type": "markdown",
   "id": "48a8e846",
   "metadata": {},
   "source": [
    "# prepare data"
   ]
  },
  {
   "cell_type": "code",
   "execution_count": 9,
   "id": "2b310bc6",
   "metadata": {},
   "outputs": [],
   "source": [
    "from src.utils.ensemble import optimize_val_correlation\n",
    "from src.config.config import combine_cfgs, get_cfg_defaults\n",
    "from src.data.datamodule import MyDataModule"
   ]
  },
  {
   "cell_type": "code",
   "execution_count": 10,
   "id": "24ca5f90",
   "metadata": {},
   "outputs": [],
   "source": [
    "# prepare validation data\n",
    "cfg = combine_cfgs('../src/config/experiments/algonauts2021_i3d_flow.yml')\n",
    "dm = MyDataModule(cfg)\n",
    "dm.prepare_data()\n",
    "dm.setup()\n",
    "\n",
    "val_indices = dm.val_dataset.indices\n",
    "\n",
    "cache_path = Path('/data_smr/huze/.cache/val_fmris.pt')\n",
    "\n",
    "if cache_path.exists():\n",
    "    val_fmris = torch.load(cache_path)\n",
    "else:\n",
    "    val_fmris = [dm.dataset_train_val.__getitem__(i)[1] for i in tqdm(val_indices)]\n",
    "    val_fmris = np.stack(val_fmris, 0)\n",
    "    val_fmris = torch.tensor(val_fmris)\n",
    "    torch.save(val_fmris, cache_path)"
   ]
  },
  {
   "cell_type": "code",
   "execution_count": 11,
   "id": "d0383480",
   "metadata": {},
   "outputs": [],
   "source": [
    "def get_ensemble_prediction_from_tensor_list(predicions_list, roi_val_fmris, val_indices, opt_verbose=False):\n",
    "    predictions = torch.stack(predicions_list, -1)\n",
    "    ws = optimize_val_correlation(predictions[val_indices],\n",
    "                                  roi_val_fmris,\n",
    "                                  verbose=opt_verbose,\n",
    "                                  device=DEVICE)\n",
    "    new_predictions = predictions @ ws\n",
    "    return new_predictions\n",
    "\n",
    "\n",
    "def get_ensemble_prediction_from_df(roi_df, wb_df, val_indices, roi_val_fmris, roi_voxel_indices, opt_verbose=False):\n",
    "    roi_predictions = np.stack([\n",
    "        np.load(path.joinpath('prediction.npy'))\n",
    "        for path in roi_df['path'].values\n",
    "    ], -1)\n",
    "    wb_predictions = np.stack([\n",
    "        np.load(path.joinpath('prediction.npy'))[..., roi_voxel_indices]\n",
    "        for path in wb_df['path'].values\n",
    "    ], -1)\n",
    "    predictions = np.concatenate([roi_predictions, wb_predictions], -1)\n",
    "\n",
    "    predictions = torch.tensor(predictions).float()\n",
    "    ws = optimize_val_correlation(predictions[val_indices],\n",
    "                                  roi_val_fmris,\n",
    "                                  verbose=opt_verbose,\n",
    "                                  device=DEVICE)\n",
    "    new_predictions = predictions @ ws\n",
    "    return new_predictions"
   ]
  },
  {
   "cell_type": "markdown",
   "id": "d68fb198",
   "metadata": {},
   "source": [
    "# 3 level of hierarchical ensemble"
   ]
  },
  {
   "cell_type": "code",
   "execution_count": 12,
   "id": "877058e5",
   "metadata": {},
   "outputs": [],
   "source": [
    "from src.utils.rigistry import Registry\n",
    "from src.utils.misc import my_query_df\n",
    "\n",
    "ORDERED_HIERACHY_KEYS = ['MODEL.BACKBONE.NAME', 'MODEL.BACKBONE.LAYERS', 'MODEL.NECK.SPP_LEVELS']\n",
    "\n",
    "HEFN_REGISTRY = Registry()\n",
    "\n",
    "\n",
    "# this may work dirty on WB, but it won't affect the results\n",
    "@HEFN_REGISTRY.register('H1')\n",
    "def H1_ens_roi(run_df, roi, verbose=True, opt_verbose=False, he_keys=ORDERED_HIERACHY_KEYS):\n",
    "    configs = list(itertools.product(*[run_df[k].unique() for k in he_keys[0:]]))\n",
    "    avaliable_configs = list(run_df.groupby(he_keys).groups)\n",
    "\n",
    "    roi_voxel_indices = torch.load(os.path.join(cfg.DATASET.VOXEL_INDEX_DIR, f'{roi}.pt'))\n",
    "    roi_val_fmris = val_fmris[..., roi_voxel_indices]\n",
    "\n",
    "    predictions_list = []\n",
    "    for vs in configs:\n",
    "        vs = (*vs,)\n",
    "        if vs not in avaliable_configs: continue\n",
    "        _l1_df = my_query_df(run_df, equal_dict={k: v for k, v in zip(he_keys, vs)})\n",
    "        roi_l1_df = _l1_df.loc[_l1_df['DATASET.ROI'] == roi]\n",
    "        wb_l1_df = _l1_df.loc[_l1_df['DATASET.ROI'] == 'WB']\n",
    "        if not (len(roi_l1_df) == 1 and len(wb_l1_df) == 1):\n",
    "            print('skipped...\\t', roi, vs, '\\t',\n",
    "                  f'roi={len(roi_l1_df)}', f'wb={len(wb_l1_df)}', '\\t warning: no paried run')\n",
    "            continue\n",
    "        if verbose:\n",
    "            print('Level 0...\\t', roi, vs, '\\t')\n",
    "        new_predictions = get_ensemble_prediction_from_df(roi_l1_df, wb_l1_df, val_indices,\n",
    "                                                          roi_val_fmris, roi_voxel_indices, opt_verbose=opt_verbose)\n",
    "        predictions_list.append(new_predictions)\n",
    "\n",
    "    if verbose:\n",
    "        print('Level 1...\\t', roi, '\\t')\n",
    "    new_predictions = get_ensemble_prediction_from_tensor_list(predictions_list, roi_val_fmris, val_indices,\n",
    "                                                               opt_verbose=opt_verbose)\n",
    "    return new_predictions\n",
    "\n",
    "\n",
    "@HEFN_REGISTRY.register('H2')\n",
    "def H2_ens_roi(run_df, roi, verbose=True, opt_verbose=False, he_keys=ORDERED_HIERACHY_KEYS):\n",
    "    configs = list(itertools.product(*[run_df[k].unique() for k in he_keys[1:]]))\n",
    "    avaliable_configs = list(run_df.groupby(he_keys).groups)\n",
    "    \n",
    "    roi_voxel_indices = torch.load(os.path.join(cfg.DATASET.VOXEL_INDEX_DIR, f'{roi}.pt'))\n",
    "    roi_val_fmris = val_fmris[..., roi_voxel_indices]\n",
    "\n",
    "    o_predictions_list = []\n",
    "    for v1 in run_df[he_keys[0]].unique():\n",
    "        predictions_list = []\n",
    "        for vs in configs:\n",
    "            vs = (v1, *vs)\n",
    "            if vs not in avaliable_configs: continue\n",
    "            _l1_df = my_query_df(run_df, equal_dict={k: v for k, v in zip(he_keys, vs)})\n",
    "            roi_l1_df = _l1_df.loc[_l1_df['DATASET.ROI'] == roi]\n",
    "            wb_l1_df = _l1_df.loc[_l1_df['DATASET.ROI'] == 'WB']\n",
    "            if not (len(roi_l1_df) == 1 and len(wb_l1_df) == 1):\n",
    "                print('skipped...\\t', roi, vs, '\\t',\n",
    "                      f'roi={len(roi_l1_df)}', f'wb={len(wb_l1_df)}', '\\t warning: no paried run')\n",
    "                continue\n",
    "            if verbose:\n",
    "                print('Level 0...\\t', roi, vs, '\\t')\n",
    "            new_predictions = get_ensemble_prediction_from_df(roi_l1_df, wb_l1_df, val_indices,\n",
    "                                                              roi_val_fmris, roi_voxel_indices, opt_verbose=opt_verbose)\n",
    "            predictions_list.append(new_predictions)\n",
    "\n",
    "        if verbose:\n",
    "            print('Level 1...\\t', roi, v1, '\\t')\n",
    "        new_predictions = get_ensemble_prediction_from_tensor_list(predictions_list, roi_val_fmris, val_indices,\n",
    "                                                                   opt_verbose=opt_verbose)\n",
    "        o_predictions_list.append(new_predictions)\n",
    "    if verbose:\n",
    "        print('Level 2...\\t', roi, '\\t')\n",
    "    new_predictions = get_ensemble_prediction_from_tensor_list(o_predictions_list, roi_val_fmris, val_indices,\n",
    "                                                               opt_verbose=opt_verbose)\n",
    "    return new_predictions\n",
    "\n",
    "\n",
    "@HEFN_REGISTRY.register('H3')\n",
    "def H3_ens_roi(run_df, roi, verbose=True, opt_verbose=False, he_keys=ORDERED_HIERACHY_KEYS):\n",
    "    configs = list(itertools.product(*[run_df[k].unique() for k in he_keys[2:]]))\n",
    "    avaliable_configs = list(run_df.groupby(he_keys).groups)\n",
    "    \n",
    "    roi_voxel_indices = torch.load(os.path.join(cfg.DATASET.VOXEL_INDEX_DIR, f'{roi}.pt'))\n",
    "    roi_val_fmris = val_fmris[..., roi_voxel_indices]\n",
    "\n",
    "    oo_predictions_list = []\n",
    "    for v11 in run_df[he_keys[0]].unique():\n",
    "        o_predictions_list = []\n",
    "        for v1 in run_df[he_keys[1]].unique():\n",
    "            predictions_list = []\n",
    "            for vs in configs:\n",
    "                vs = (v11, v1, *vs)\n",
    "                if vs not in avaliable_configs: continue\n",
    "                _l1_df = my_query_df(run_df, equal_dict={k: v for k, v in zip(he_keys, vs)})\n",
    "                roi_l1_df = _l1_df.loc[_l1_df['DATASET.ROI'] == roi]\n",
    "                wb_l1_df = _l1_df.loc[_l1_df['DATASET.ROI'] == 'WB']\n",
    "                if not (len(roi_l1_df) == 1 and len(wb_l1_df) == 1):\n",
    "                    print('skipped...\\t', roi, vs, '\\t',\n",
    "                          f'roi={len(roi_l1_df)}', f'wb={len(wb_l1_df)}', '\\t warning: no paried run')\n",
    "                    continue\n",
    "                if verbose:\n",
    "                    print('Level 0...\\t', roi, vs, '\\t')\n",
    "                new_predictions = get_ensemble_prediction_from_df(roi_l1_df, wb_l1_df, val_indices,\n",
    "                                                                  roi_val_fmris, roi_voxel_indices,\n",
    "                                                                  opt_verbose=opt_verbose)\n",
    "                predictions_list.append(new_predictions)\n",
    "\n",
    "            if verbose:\n",
    "                print('Level 1...\\t', roi, v11, v1, '\\t')\n",
    "            new_predictions = get_ensemble_prediction_from_tensor_list(predictions_list, roi_val_fmris, val_indices,\n",
    "                                                                       opt_verbose=opt_verbose)\n",
    "            o_predictions_list.append(new_predictions)\n",
    "        if verbose:\n",
    "            print('Level 2...\\t', roi, v11, '\\t')\n",
    "        new_predictions = get_ensemble_prediction_from_tensor_list(o_predictions_list, roi_val_fmris, val_indices,\n",
    "                                                                   opt_verbose=opt_verbose)\n",
    "        oo_predictions_list.append(new_predictions)\n",
    "    if verbose:\n",
    "        print('Level 3...\\t', roi, '\\t')\n",
    "    new_predictions = get_ensemble_prediction_from_tensor_list(oo_predictions_list, roi_val_fmris, val_indices,\n",
    "                                                               opt_verbose=opt_verbose)\n",
    "    return new_predictions"
   ]
  },
  {
   "cell_type": "code",
   "execution_count": 36,
   "id": "f509b930",
   "metadata": {
    "pycharm": {
     "name": "#%%\n"
    }
   },
   "outputs": [],
   "source": [
    "def roi_hierachical_ensemble(run_df, he_sch: str, verbose=True, opt_verbose=False):\n",
    "    rois = tuple(r for r in run_df['DATASET.ROI'].unique() if r != 'WB')\n",
    "    he_fn = HEFN_REGISTRY[he_sch]\n",
    "\n",
    "    roi_prediction_dict = {}\n",
    "    for roi in rois:\n",
    "        roi_prediction = he_fn(run_df, roi, verbose=verbose, opt_verbose=opt_verbose)\n",
    "        roi_prediction_dict[roi] = roi_prediction\n",
    "\n",
    "    roi_prediction_dict = {roi: HEFN_REGISTRY[he_sch](run_df, roi, verbose=verbose, opt_verbose=opt_verbose)\n",
    "                           for roi in tuple(r for r in run_df['DATASET.ROI'].unique() if r != 'WB')}\n",
    "\n",
    "    return roi_prediction_dict"
   ]
  },
  {
   "cell_type": "code",
   "execution_count": 37,
   "id": "c51d4b2a",
   "metadata": {},
   "outputs": [],
   "source": [
    "def assemble_rois_to_full_brain(roi_sch_dict, roi_prediction_dict, shape):\n",
    "    # combine rois to full brain\n",
    "    sch_prediction_dict = {}\n",
    "    for sch_name, sch_rois in roi_sch_dict.items():\n",
    "        prediction = torch.zeros(shape)\n",
    "        for roi in sch_rois:\n",
    "            voxel_indices = torch.load(os.path.join(cfg.DATASET.VOXEL_INDEX_DIR, f'{roi}.pt'))\n",
    "            prediction[..., voxel_indices] = roi_prediction_dict[roi]\n",
    "        sch_prediction_dict[sch_name] = prediction\n",
    "    return sch_prediction_dict"
   ]
  },
  {
   "cell_type": "markdown",
   "id": "91e2ab5e",
   "metadata": {},
   "source": [
    "# define ensemble sche gird space"
   ]
  },
  {
   "cell_type": "code",
   "execution_count": 38,
   "id": "ee7331fd",
   "metadata": {},
   "outputs": [],
   "source": [
    "from itertools import chain, combinations\n",
    "\n",
    "\n",
    "def powerset(iterable):\n",
    "    \"\"\"\n",
    "    powerset([1,2,3]) --> (1,) (2,) (3,) (1,2) (1,3) (2,3) (1,2,3)\n",
    "    \"\"\"\n",
    "    xs = list(iterable)\n",
    "    # note we return an iterator rather than a list\n",
    "    return chain.from_iterable(combinations(xs, n) for n in range(1, len(xs) + 1))"
   ]
  },
  {
   "cell_type": "code",
   "execution_count": 39,
   "id": "4f918496",
   "metadata": {},
   "outputs": [],
   "source": [
    "# MODEL.BACKBONE.LAYERS\n",
    "_model_sch_dfs = {\n",
    "    \"single_layer+multi_layer\": run_df,\n",
    "    \"single_layer\": run_df[run_df.apply(lambda row: len(row['MODEL.BACKBONE.LAYERS']) == 1, axis=1)],\n",
    "    \"multi_layer\": run_df[run_df.apply(lambda row: len(row['MODEL.BACKBONE.LAYERS']) > 1, axis=1)],\n",
    "}\n",
    "\n",
    "# MODEL.BACKBONE.NAME\n",
    "model_sch_dfs = {}\n",
    "\n",
    "backbones = run_df['MODEL.BACKBONE.NAME'].unique()\n",
    "for key, df in _model_sch_dfs.items():\n",
    "    for backbone_subset in powerset(backbones):\n",
    "        i_df = pd.concat([df.loc[df['MODEL.BACKBONE.NAME'] == backbone] for backbone in backbone_subset])\n",
    "        backbone_subset_name = '+'.join(backbone_subset)\n",
    "\n",
    "        model_sch_dfs[f'{key}&{backbone_subset_name}'] = i_df"
   ]
  },
  {
   "cell_type": "code",
   "execution_count": 40,
   "id": "6b18e4f1",
   "metadata": {},
   "outputs": [],
   "source": [
    "# this dict defines how to combine rois to full brain\n",
    "roi_sch_dict = {\n",
    "    'WB': ['WB'],\n",
    "    'ROI': ['V1', 'V2', 'V3', 'V4', 'EBA', 'LOC', 'PPA', 'FFA', 'STS', 'REST'],\n",
    "    'LC': ['LC1', 'LC2', 'LC3', 'LC4', 'LC5'],\n",
    "    'MC': ['MC1', 'MC2', 'LC2', 'LC3', 'LC4', 'LC5'],\n",
    "    'SMC': ['SMC1', 'SMC2', 'MC2', 'LC2', 'LC3', 'LC4', 'LC5'],\n",
    "    'SC': ['SMC1', 'SMC2', 'SC3', 'SC4', 'LC2', 'LC3', 'LC4', 'LC5'],\n",
    "}"
   ]
  },
  {
   "cell_type": "markdown",
   "id": "9cb1b38e",
   "metadata": {},
   "source": [
    "# ensemble configuration"
   ]
  },
  {
   "cell_type": "code",
   "execution_count": 41,
   "id": "efde7a06",
   "metadata": {},
   "outputs": [],
   "source": [
    "tmp_dir = results_dir.joinpath('ensemble_outputs')\n",
    "tmp_dir.mkdir(parents=False, exist_ok=True)"
   ]
  },
  {
   "cell_type": "code",
   "execution_count": 42,
   "id": "2747896b",
   "metadata": {
    "pycharm": {
     "name": "#%%\n"
    }
   },
   "outputs": [
    {
     "name": "stdout",
     "output_type": "stream",
     "text": [
      "model_schs\n",
      "0 single_layer+multi_layer&i3d_rgb\n",
      "1 single_layer+multi_layer&i3d_flow\n",
      "2 single_layer+multi_layer&i3d_rgb+i3d_flow\n",
      "3 single_layer&i3d_rgb\n",
      "4 single_layer&i3d_flow\n",
      "5 single_layer&i3d_rgb+i3d_flow\n",
      "6 multi_layer&i3d_rgb\n",
      "7 multi_layer&i3d_flow\n",
      "8 multi_layer&i3d_rgb+i3d_flow\n",
      "\n",
      "he_schs\n",
      "0 H1\n",
      "1 H2\n",
      "2 H3\n",
      "\n"
     ]
    }
   ],
   "source": [
    "def iprint(list):\n",
    "    for (num, item) in enumerate(list):\n",
    "        print(num, item)\n",
    "    print()\n",
    "\n",
    "\n",
    "model_schs = np.asarray(list(model_sch_dfs.keys()))\n",
    "print(\"model_schs\")\n",
    "iprint(model_schs)\n",
    "he_schs = np.asarray(list(HEFN_REGISTRY.keys()))\n",
    "print(\"he_schs\")\n",
    "iprint(he_schs)"
   ]
  },
  {
   "cell_type": "code",
   "execution_count": 43,
   "id": "fbcd0ec7-0bbd-49a7-9fcf-4d887286dbdd",
   "metadata": {},
   "outputs": [
    {
     "name": "stdout",
     "output_type": "stream",
     "text": [
      "[('single_layer&i3d_rgb+i3d_flow', 'H1'),\n",
      " ('single_layer&i3d_rgb+i3d_flow', 'H2'),\n",
      " ('single_layer&i3d_rgb+i3d_flow', 'H3'),\n",
      " ('single_layer+multi_layer&i3d_rgb', 'H3'),\n",
      " ('single_layer+multi_layer&i3d_flow', 'H3'),\n",
      " ('single_layer+multi_layer&i3d_rgb+i3d_flow', 'H3'),\n",
      " ('single_layer&i3d_rgb', 'H3'),\n",
      " ('single_layer&i3d_flow', 'H3'),\n",
      " ('single_layer&i3d_rgb+i3d_flow', 'H3'),\n",
      " ('multi_layer&i3d_rgb', 'H3'),\n",
      " ('multi_layer&i3d_flow', 'H3'),\n",
      " ('multi_layer&i3d_rgb+i3d_flow', 'H3')]\n"
     ]
    }
   ],
   "source": [
    "ensemble_configs = []\n",
    "ensemble_configs += list(itertools.product(model_schs[np.asarray([5])], he_schs)) # compare `hierachical` sch\n",
    "ensemble_configs += list(itertools.product(model_schs, he_schs[np.asarray([2])])) # fix `hierachical` sch\n",
    "ensemble_configs = set(ensemble_configs) # remove duplicate\n",
    "pprint(ensemble_configs)"
   ]
  },
  {
   "cell_type": "code",
   "execution_count": 44,
   "id": "ddf948ec-b273-428c-b464-a5821dd6a1f4",
   "metadata": {},
   "outputs": [
    {
     "name": "stdout",
     "output_type": "stream",
     "text": [
      "['MC1' 'V4' 'EBA' 'REST' 'PPA' 'LC1' 'SMC2' 'LC2' 'V1' 'WB' 'STS' 'V3'\n",
      " 'SMC1' 'SC4' 'FFA' 'MC2' 'V2' 'LC4' 'LOC' 'LC3' 'SC3' 'LC5']\n"
     ]
    }
   ],
   "source": [
    "rois = [r for r in run_df['DATASET.ROI'].unique() if r != 'WB']\n",
    "rois = run_df['DATASET.ROI'].unique()\n",
    "print(rois)"
   ]
  },
  {
   "cell_type": "raw",
   "id": "3d8eec74-e28b-47e2-8775-6a3a7bc48bb7",
   "metadata": {
    "pycharm": {
     "name": "#%%\n"
    }
   },
   "source": [
    "model_schs = model_schs[np.asarray([2])]\n",
    "he_schs = he_schs[np.asarray([2])]"
   ]
  },
  {
   "cell_type": "raw",
   "id": "83fc0a5e-8769-4d80-976b-6e3de8fed870",
   "metadata": {
    "pycharm": {
     "name": "#%%\n"
    }
   },
   "source": [
    "print(model_schs)\n",
    "print(he_schs)"
   ]
  },
  {
   "cell_type": "markdown",
   "id": "2736f2c1-7193-4825-8408-d80dfd9719ac",
   "metadata": {},
   "source": [
    "# heavy lift"
   ]
  },
  {
   "cell_type": "code",
   "execution_count": 46,
   "id": "66c00cd6",
   "metadata": {
    "pycharm": {
     "name": "#%%\n"
    },
    "scrolled": true
   },
   "outputs": [
    {
     "name": "stdout",
     "output_type": "stream",
     "text": [
      "single_layer&i3d_rgb+i3d_flow \t total runs: 1232\n",
      "skipped existing ... single_layer&i3d_rgb+i3d_flow H1\n",
      "single_layer&i3d_rgb+i3d_flow \t total runs: 1232\n",
      "skipped existing ... single_layer&i3d_rgb+i3d_flow H2\n",
      "single_layer&i3d_rgb+i3d_flow \t total runs: 1232\n",
      "skipped existing ... single_layer&i3d_rgb+i3d_flow H3\n",
      "single_layer+multi_layer&i3d_rgb \t total runs: 748\n",
      "working on... single_layer+multi_layer&i3d_rgb H3\n"
     ]
    },
    {
     "data": {
      "application/vnd.jupyter.widget-view+json": {
       "model_id": "2a9bb66806694209b103e5658a9ed97b",
       "version_major": 2,
       "version_minor": 0
      },
      "text/plain": [
       "he_sch=H3 \t model_sch=single_layer+multi_layer&i3d_rgb:   0%|          | 0/22 [00:00<?, ?it/s]"
      ]
     },
     "metadata": {},
     "output_type": "display_data"
    },
    {
     "name": "stdout",
     "output_type": "stream",
     "text": [
      "single_layer+multi_layer&i3d_flow \t total runs: 748\n",
      "working on... single_layer+multi_layer&i3d_flow H3\n"
     ]
    },
    {
     "data": {
      "application/vnd.jupyter.widget-view+json": {
       "model_id": "3feaec03367a482582d23e0fa268ec46",
       "version_major": 2,
       "version_minor": 0
      },
      "text/plain": [
       "he_sch=H3 \t model_sch=single_layer+multi_layer&i3d_flow:   0%|          | 0/22 [00:00<?, ?it/s]"
      ]
     },
     "metadata": {},
     "output_type": "display_data"
    },
    {
     "name": "stdout",
     "output_type": "stream",
     "text": [
      "single_layer+multi_layer&i3d_rgb+i3d_flow \t total runs: 1496\n",
      "working on... single_layer+multi_layer&i3d_rgb+i3d_flow H3\n"
     ]
    },
    {
     "data": {
      "application/vnd.jupyter.widget-view+json": {
       "model_id": "6b3b82e776df413b954444b7197347d8",
       "version_major": 2,
       "version_minor": 0
      },
      "text/plain": [
       "he_sch=H3 \t model_sch=single_layer+multi_layer&i3d_rgb+i3d_flow:   0%|          | 0/22 [00:00<?, ?it/s]"
      ]
     },
     "metadata": {},
     "output_type": "display_data"
    },
    {
     "name": "stdout",
     "output_type": "stream",
     "text": [
      "single_layer&i3d_rgb \t total runs: 616\n",
      "working on... single_layer&i3d_rgb H3\n"
     ]
    },
    {
     "data": {
      "application/vnd.jupyter.widget-view+json": {
       "model_id": "4d09322eee944384943c9637ef88155b",
       "version_major": 2,
       "version_minor": 0
      },
      "text/plain": [
       "he_sch=H3 \t model_sch=single_layer&i3d_rgb:   0%|          | 0/22 [00:00<?, ?it/s]"
      ]
     },
     "metadata": {},
     "output_type": "display_data"
    },
    {
     "name": "stdout",
     "output_type": "stream",
     "text": [
      "single_layer&i3d_flow \t total runs: 616\n",
      "working on... single_layer&i3d_flow H3\n"
     ]
    },
    {
     "data": {
      "application/vnd.jupyter.widget-view+json": {
       "model_id": "6fc07e560bb04312b02a80d9d6482b19",
       "version_major": 2,
       "version_minor": 0
      },
      "text/plain": [
       "he_sch=H3 \t model_sch=single_layer&i3d_flow:   0%|          | 0/22 [00:00<?, ?it/s]"
      ]
     },
     "metadata": {},
     "output_type": "display_data"
    },
    {
     "name": "stdout",
     "output_type": "stream",
     "text": [
      "single_layer&i3d_rgb+i3d_flow \t total runs: 1232\n",
      "skipped existing ... single_layer&i3d_rgb+i3d_flow H3\n",
      "multi_layer&i3d_rgb \t total runs: 132\n",
      "working on... multi_layer&i3d_rgb H3\n"
     ]
    },
    {
     "data": {
      "application/vnd.jupyter.widget-view+json": {
       "model_id": "2bac6c4beeb544bc92aed5ec8b84d55e",
       "version_major": 2,
       "version_minor": 0
      },
      "text/plain": [
       "he_sch=H3 \t model_sch=multi_layer&i3d_rgb:   0%|          | 0/22 [00:00<?, ?it/s]"
      ]
     },
     "metadata": {},
     "output_type": "display_data"
    },
    {
     "name": "stdout",
     "output_type": "stream",
     "text": [
      "multi_layer&i3d_flow \t total runs: 132\n",
      "working on... multi_layer&i3d_flow H3\n"
     ]
    },
    {
     "data": {
      "application/vnd.jupyter.widget-view+json": {
       "model_id": "7b162d4a559941e499850e647a992cf0",
       "version_major": 2,
       "version_minor": 0
      },
      "text/plain": [
       "he_sch=H3 \t model_sch=multi_layer&i3d_flow:   0%|          | 0/22 [00:00<?, ?it/s]"
      ]
     },
     "metadata": {},
     "output_type": "display_data"
    },
    {
     "name": "stdout",
     "output_type": "stream",
     "text": [
      "multi_layer&i3d_rgb+i3d_flow \t total runs: 264\n",
      "working on... multi_layer&i3d_rgb+i3d_flow H3\n"
     ]
    },
    {
     "data": {
      "application/vnd.jupyter.widget-view+json": {
       "model_id": "a77dc3de67ae4a84b1df52060d6b62fa",
       "version_major": 2,
       "version_minor": 0
      },
      "text/plain": [
       "he_sch=H3 \t model_sch=multi_layer&i3d_rgb+i3d_flow:   0%|          | 0/22 [00:00<?, ?it/s]"
      ]
     },
     "metadata": {},
     "output_type": "display_data"
    }
   ],
   "source": [
    "# Disk I/O is the bottle neck\n",
    "\n",
    "verbose = False\n",
    "opt_verbose = False\n",
    "skip_existing = True\n",
    "\n",
    "for model_sch, he_sch in ensemble_configs:\n",
    "    df = model_sch_dfs[model_sch]\n",
    "    \n",
    "    # skip unfinished runs\n",
    "    print(model_sch, '\\t', 'total runs:', len(df))\n",
    "    if len(df) == 0:\n",
    "        continue\n",
    "        \n",
    "    # skip existing files\n",
    "    last_roi_sch = list(roi_sch_dict.keys())[-1]\n",
    "    if os.path.exists(os.path.join(tmp_dir, \n",
    "                                   f'he_sch={he_sch},model_sch={model_sch},roi_sch={last_roi_sch}'\n",
    "                                   f'-prediction.pt')):\n",
    "        if skip_existing:\n",
    "            print('skipped existing ...', model_sch, he_sch)\n",
    "            continue\n",
    "\n",
    "    print('working on...', model_sch, he_sch)\n",
    "\n",
    "    # ROI hierarchical ensemble\n",
    "    roi_prediction_dict = {roi: HEFN_REGISTRY[he_sch](df, roi, verbose=verbose, opt_verbose=opt_verbose)\n",
    "                           for roi in tqdm(rois, desc=f'he_sch={he_sch} \\t model_sch={model_sch}')}\n",
    "    # \"assemble\" ROIs to full brain and save to file\n",
    "    wb_shape = np.load(run_df.loc[run_df['DATASET.ROI'] == 'WB'].path.values[0].joinpath('prediction.npy')).shape\n",
    "    sch_prediction_dict = assemble_rois_to_full_brain(roi_sch_dict, roi_prediction_dict, wb_shape)\n",
    "    for roi_sch, prediction in sch_prediction_dict.items():\n",
    "        path = os.path.join(tmp_dir, f'he_sch={he_sch},model_sch={model_sch},roi_sch={roi_sch}'\n",
    "                                     f'-prediction.pt')\n",
    "        torch.save(prediction, path)"
   ]
  },
  {
   "cell_type": "markdown",
   "id": "0453e065-7c16-4b14-b977-2884dc9aa9be",
   "metadata": {},
   "source": [
    "# count GPU time"
   ]
  },
  {
   "cell_type": "code",
   "execution_count": 50,
   "id": "f6931327-9307-4404-826c-e75ffd0bcafd",
   "metadata": {},
   "outputs": [],
   "source": [
    "res_dicts = []\n",
    "for model_sch in model_schs:\n",
    "    df = model_sch_dfs[model_sch]\n",
    "    \n",
    "    res_dict = {'model_sch': model_sch}\n",
    "    for roi in df['DATASET.ROI'].unique():\n",
    "        roi_df = df[df['DATASET.ROI'] == roi]\n",
    "        time_sum = roi_df.time.sum() / 3600\n",
    "        res_dict[roi] = time_sum\n",
    "    res_dicts.append(res_dict)\n",
    "time_df = pd.DataFrame(res_dicts)"
   ]
  },
  {
   "cell_type": "code",
   "execution_count": 51,
   "id": "625084b3-eb58-4b35-a8ae-3b6af09d7e90",
   "metadata": {},
   "outputs": [
    {
     "data": {
      "text/html": [
       "<div>\n",
       "<style scoped>\n",
       "    .dataframe tbody tr th:only-of-type {\n",
       "        vertical-align: middle;\n",
       "    }\n",
       "\n",
       "    .dataframe tbody tr th {\n",
       "        vertical-align: top;\n",
       "    }\n",
       "\n",
       "    .dataframe thead th {\n",
       "        text-align: right;\n",
       "    }\n",
       "</style>\n",
       "<table border=\"1\" class=\"dataframe\">\n",
       "  <thead>\n",
       "    <tr style=\"text-align: right;\">\n",
       "      <th></th>\n",
       "      <th>model_sch</th>\n",
       "      <th>MC1</th>\n",
       "      <th>V4</th>\n",
       "      <th>EBA</th>\n",
       "      <th>REST</th>\n",
       "      <th>PPA</th>\n",
       "      <th>LC1</th>\n",
       "      <th>SMC2</th>\n",
       "      <th>LC2</th>\n",
       "      <th>V1</th>\n",
       "      <th>...</th>\n",
       "      <th>SMC1</th>\n",
       "      <th>SC4</th>\n",
       "      <th>FFA</th>\n",
       "      <th>MC2</th>\n",
       "      <th>V2</th>\n",
       "      <th>LC4</th>\n",
       "      <th>LOC</th>\n",
       "      <th>LC3</th>\n",
       "      <th>SC3</th>\n",
       "      <th>LC5</th>\n",
       "    </tr>\n",
       "  </thead>\n",
       "  <tbody>\n",
       "    <tr>\n",
       "      <th>0</th>\n",
       "      <td>single_layer+multi_layer&amp;i3d_rgb</td>\n",
       "      <td>7.556624</td>\n",
       "      <td>4.312215</td>\n",
       "      <td>4.727465</td>\n",
       "      <td>6.999185</td>\n",
       "      <td>3.998265</td>\n",
       "      <td>8.042618</td>\n",
       "      <td>6.952400</td>\n",
       "      <td>4.399749</td>\n",
       "      <td>4.519584</td>\n",
       "      <td>...</td>\n",
       "      <td>4.806347</td>\n",
       "      <td>4.555485</td>\n",
       "      <td>4.548463</td>\n",
       "      <td>5.154434</td>\n",
       "      <td>4.666949</td>\n",
       "      <td>5.428981</td>\n",
       "      <td>4.598833</td>\n",
       "      <td>4.948212</td>\n",
       "      <td>4.499016</td>\n",
       "      <td>5.032018</td>\n",
       "    </tr>\n",
       "    <tr>\n",
       "      <th>1</th>\n",
       "      <td>single_layer+multi_layer&amp;i3d_flow</td>\n",
       "      <td>9.615769</td>\n",
       "      <td>6.481260</td>\n",
       "      <td>6.858411</td>\n",
       "      <td>9.397021</td>\n",
       "      <td>6.328235</td>\n",
       "      <td>9.816032</td>\n",
       "      <td>8.936582</td>\n",
       "      <td>6.842767</td>\n",
       "      <td>6.480206</td>\n",
       "      <td>...</td>\n",
       "      <td>6.544755</td>\n",
       "      <td>7.300247</td>\n",
       "      <td>6.567002</td>\n",
       "      <td>7.082458</td>\n",
       "      <td>6.481483</td>\n",
       "      <td>7.919006</td>\n",
       "      <td>6.700719</td>\n",
       "      <td>6.728100</td>\n",
       "      <td>6.777209</td>\n",
       "      <td>6.688941</td>\n",
       "    </tr>\n",
       "    <tr>\n",
       "      <th>2</th>\n",
       "      <td>single_layer+multi_layer&amp;i3d_rgb+i3d_flow</td>\n",
       "      <td>17.172393</td>\n",
       "      <td>10.793474</td>\n",
       "      <td>11.585876</td>\n",
       "      <td>16.396206</td>\n",
       "      <td>10.326500</td>\n",
       "      <td>17.858649</td>\n",
       "      <td>15.888982</td>\n",
       "      <td>11.242516</td>\n",
       "      <td>10.999790</td>\n",
       "      <td>...</td>\n",
       "      <td>11.351103</td>\n",
       "      <td>11.855732</td>\n",
       "      <td>11.115465</td>\n",
       "      <td>12.236893</td>\n",
       "      <td>11.148432</td>\n",
       "      <td>13.347987</td>\n",
       "      <td>11.299551</td>\n",
       "      <td>11.676312</td>\n",
       "      <td>11.276224</td>\n",
       "      <td>11.720958</td>\n",
       "    </tr>\n",
       "    <tr>\n",
       "      <th>3</th>\n",
       "      <td>single_layer&amp;i3d_rgb</td>\n",
       "      <td>6.035821</td>\n",
       "      <td>3.415061</td>\n",
       "      <td>3.848710</td>\n",
       "      <td>5.632319</td>\n",
       "      <td>3.281608</td>\n",
       "      <td>6.539419</td>\n",
       "      <td>5.449146</td>\n",
       "      <td>3.497392</td>\n",
       "      <td>3.551770</td>\n",
       "      <td>...</td>\n",
       "      <td>3.708534</td>\n",
       "      <td>3.633758</td>\n",
       "      <td>3.753638</td>\n",
       "      <td>4.186262</td>\n",
       "      <td>3.632234</td>\n",
       "      <td>4.420443</td>\n",
       "      <td>3.651297</td>\n",
       "      <td>4.038625</td>\n",
       "      <td>3.578798</td>\n",
       "      <td>3.951451</td>\n",
       "    </tr>\n",
       "    <tr>\n",
       "      <th>4</th>\n",
       "      <td>single_layer&amp;i3d_flow</td>\n",
       "      <td>7.744985</td>\n",
       "      <td>5.397032</td>\n",
       "      <td>5.662071</td>\n",
       "      <td>7.640874</td>\n",
       "      <td>5.163105</td>\n",
       "      <td>7.998504</td>\n",
       "      <td>7.012637</td>\n",
       "      <td>5.652929</td>\n",
       "      <td>5.317428</td>\n",
       "      <td>...</td>\n",
       "      <td>5.240388</td>\n",
       "      <td>6.039449</td>\n",
       "      <td>5.422546</td>\n",
       "      <td>5.840131</td>\n",
       "      <td>5.299006</td>\n",
       "      <td>6.540033</td>\n",
       "      <td>5.364603</td>\n",
       "      <td>5.453568</td>\n",
       "      <td>5.541379</td>\n",
       "      <td>5.494523</td>\n",
       "    </tr>\n",
       "    <tr>\n",
       "      <th>5</th>\n",
       "      <td>single_layer&amp;i3d_rgb+i3d_flow</td>\n",
       "      <td>13.780806</td>\n",
       "      <td>8.812093</td>\n",
       "      <td>9.510780</td>\n",
       "      <td>13.273193</td>\n",
       "      <td>8.444713</td>\n",
       "      <td>14.537924</td>\n",
       "      <td>12.461783</td>\n",
       "      <td>9.150322</td>\n",
       "      <td>8.869198</td>\n",
       "      <td>...</td>\n",
       "      <td>8.948922</td>\n",
       "      <td>9.673207</td>\n",
       "      <td>9.176184</td>\n",
       "      <td>10.026393</td>\n",
       "      <td>8.931239</td>\n",
       "      <td>10.960476</td>\n",
       "      <td>9.015900</td>\n",
       "      <td>9.492193</td>\n",
       "      <td>9.120177</td>\n",
       "      <td>9.445974</td>\n",
       "    </tr>\n",
       "    <tr>\n",
       "      <th>6</th>\n",
       "      <td>multi_layer&amp;i3d_rgb</td>\n",
       "      <td>1.520803</td>\n",
       "      <td>0.897154</td>\n",
       "      <td>0.878755</td>\n",
       "      <td>1.366866</td>\n",
       "      <td>0.716658</td>\n",
       "      <td>1.503199</td>\n",
       "      <td>1.503254</td>\n",
       "      <td>0.902356</td>\n",
       "      <td>0.967814</td>\n",
       "      <td>...</td>\n",
       "      <td>1.097813</td>\n",
       "      <td>0.921727</td>\n",
       "      <td>0.794825</td>\n",
       "      <td>0.968172</td>\n",
       "      <td>1.034716</td>\n",
       "      <td>1.008538</td>\n",
       "      <td>0.947536</td>\n",
       "      <td>0.909587</td>\n",
       "      <td>0.920218</td>\n",
       "      <td>1.080566</td>\n",
       "    </tr>\n",
       "    <tr>\n",
       "      <th>7</th>\n",
       "      <td>multi_layer&amp;i3d_flow</td>\n",
       "      <td>1.870784</td>\n",
       "      <td>1.084228</td>\n",
       "      <td>1.196341</td>\n",
       "      <td>1.756147</td>\n",
       "      <td>1.165130</td>\n",
       "      <td>1.817527</td>\n",
       "      <td>1.923945</td>\n",
       "      <td>1.189838</td>\n",
       "      <td>1.162778</td>\n",
       "      <td>...</td>\n",
       "      <td>1.304367</td>\n",
       "      <td>1.260798</td>\n",
       "      <td>1.144456</td>\n",
       "      <td>1.242327</td>\n",
       "      <td>1.182477</td>\n",
       "      <td>1.378973</td>\n",
       "      <td>1.336116</td>\n",
       "      <td>1.274532</td>\n",
       "      <td>1.235830</td>\n",
       "      <td>1.194418</td>\n",
       "    </tr>\n",
       "    <tr>\n",
       "      <th>8</th>\n",
       "      <td>multi_layer&amp;i3d_rgb+i3d_flow</td>\n",
       "      <td>3.391587</td>\n",
       "      <td>1.981381</td>\n",
       "      <td>2.075096</td>\n",
       "      <td>3.123013</td>\n",
       "      <td>1.881787</td>\n",
       "      <td>3.320726</td>\n",
       "      <td>3.427199</td>\n",
       "      <td>2.092194</td>\n",
       "      <td>2.130593</td>\n",
       "      <td>...</td>\n",
       "      <td>2.402180</td>\n",
       "      <td>2.182525</td>\n",
       "      <td>1.939281</td>\n",
       "      <td>2.210500</td>\n",
       "      <td>2.217192</td>\n",
       "      <td>2.387511</td>\n",
       "      <td>2.283652</td>\n",
       "      <td>2.184119</td>\n",
       "      <td>2.156047</td>\n",
       "      <td>2.274984</td>\n",
       "    </tr>\n",
       "  </tbody>\n",
       "</table>\n",
       "<p>9 rows × 23 columns</p>\n",
       "</div>"
      ],
      "text/plain": [
       "                                   model_sch        MC1         V4        EBA  \\\n",
       "0           single_layer+multi_layer&i3d_rgb   7.556624   4.312215   4.727465   \n",
       "1          single_layer+multi_layer&i3d_flow   9.615769   6.481260   6.858411   \n",
       "2  single_layer+multi_layer&i3d_rgb+i3d_flow  17.172393  10.793474  11.585876   \n",
       "3                       single_layer&i3d_rgb   6.035821   3.415061   3.848710   \n",
       "4                      single_layer&i3d_flow   7.744985   5.397032   5.662071   \n",
       "5              single_layer&i3d_rgb+i3d_flow  13.780806   8.812093   9.510780   \n",
       "6                        multi_layer&i3d_rgb   1.520803   0.897154   0.878755   \n",
       "7                       multi_layer&i3d_flow   1.870784   1.084228   1.196341   \n",
       "8               multi_layer&i3d_rgb+i3d_flow   3.391587   1.981381   2.075096   \n",
       "\n",
       "        REST        PPA        LC1       SMC2        LC2         V1  ...  \\\n",
       "0   6.999185   3.998265   8.042618   6.952400   4.399749   4.519584  ...   \n",
       "1   9.397021   6.328235   9.816032   8.936582   6.842767   6.480206  ...   \n",
       "2  16.396206  10.326500  17.858649  15.888982  11.242516  10.999790  ...   \n",
       "3   5.632319   3.281608   6.539419   5.449146   3.497392   3.551770  ...   \n",
       "4   7.640874   5.163105   7.998504   7.012637   5.652929   5.317428  ...   \n",
       "5  13.273193   8.444713  14.537924  12.461783   9.150322   8.869198  ...   \n",
       "6   1.366866   0.716658   1.503199   1.503254   0.902356   0.967814  ...   \n",
       "7   1.756147   1.165130   1.817527   1.923945   1.189838   1.162778  ...   \n",
       "8   3.123013   1.881787   3.320726   3.427199   2.092194   2.130593  ...   \n",
       "\n",
       "        SMC1        SC4        FFA        MC2         V2        LC4  \\\n",
       "0   4.806347   4.555485   4.548463   5.154434   4.666949   5.428981   \n",
       "1   6.544755   7.300247   6.567002   7.082458   6.481483   7.919006   \n",
       "2  11.351103  11.855732  11.115465  12.236893  11.148432  13.347987   \n",
       "3   3.708534   3.633758   3.753638   4.186262   3.632234   4.420443   \n",
       "4   5.240388   6.039449   5.422546   5.840131   5.299006   6.540033   \n",
       "5   8.948922   9.673207   9.176184  10.026393   8.931239  10.960476   \n",
       "6   1.097813   0.921727   0.794825   0.968172   1.034716   1.008538   \n",
       "7   1.304367   1.260798   1.144456   1.242327   1.182477   1.378973   \n",
       "8   2.402180   2.182525   1.939281   2.210500   2.217192   2.387511   \n",
       "\n",
       "         LOC        LC3        SC3        LC5  \n",
       "0   4.598833   4.948212   4.499016   5.032018  \n",
       "1   6.700719   6.728100   6.777209   6.688941  \n",
       "2  11.299551  11.676312  11.276224  11.720958  \n",
       "3   3.651297   4.038625   3.578798   3.951451  \n",
       "4   5.364603   5.453568   5.541379   5.494523  \n",
       "5   9.015900   9.492193   9.120177   9.445974  \n",
       "6   0.947536   0.909587   0.920218   1.080566  \n",
       "7   1.336116   1.274532   1.235830   1.194418  \n",
       "8   2.283652   2.184119   2.156047   2.274984  \n",
       "\n",
       "[9 rows x 23 columns]"
      ]
     },
     "execution_count": 51,
     "metadata": {},
     "output_type": "execute_result"
    }
   ],
   "source": [
    "time_df"
   ]
  },
  {
   "cell_type": "code",
   "execution_count": 57,
   "id": "fd76ff13-92ff-4278-883c-6d02e99c5226",
   "metadata": {},
   "outputs": [
    {
     "name": "stdout",
     "output_type": "stream",
     "text": [
      "single_layer i3d_rgb ROI 37.94h\n",
      "single_layer i3d_rgb SMC 29.25h\n",
      "single_layer i3d_rgb WB 6.50h\n",
      "single_layer i3d_flow ROI 55.80h\n",
      "single_layer i3d_flow SMC 41.23h\n",
      "single_layer i3d_flow WB 8.24h\n",
      "multi_layer i3d_rgb ROI 9.27h\n",
      "multi_layer i3d_rgb SMC 7.47h\n",
      "multi_layer i3d_rgb WB 1.50h\n",
      "multi_layer i3d_flow ROI 12.33h\n",
      "multi_layer i3d_flow SMC 9.51h\n",
      "multi_layer i3d_flow WB 1.84h\n"
     ]
    }
   ],
   "source": [
    "for model_sch in time_df.model_sch.unique():\n",
    "    if '+' in model_sch:\n",
    "        continue\n",
    "    \n",
    "    for roi_sch, roi_sch_rois in roi_sch_dict.items():\n",
    "        if roi_sch not in ['ROI', 'SMC']:\n",
    "            continue\n",
    "        time_sum = time_df[time_df['model_sch'] == model_sch][roi_sch_rois].values.sum()\n",
    "        print(*model_sch.split('&'), roi_sch, f'{time_sum:.2f}h')\n",
    "    time_sum = time_df[time_df['model_sch'] == model_sch][['WB']].values.sum()\n",
    "    print(*model_sch.split('&'), 'WB', f'{time_sum:.2f}h')"
   ]
  },
  {
   "cell_type": "code",
   "execution_count": null,
   "id": "093eb58d-3206-4320-923b-6e1443ae5054",
   "metadata": {},
   "outputs": [],
   "source": []
  }
 ],
 "metadata": {
  "kernelspec": {
   "display_name": "Python 3 (ipykernel)",
   "language": "python",
   "name": "python3"
  },
  "language_info": {
   "codemirror_mode": {
    "name": "ipython",
    "version": 3
   },
   "file_extension": ".py",
   "mimetype": "text/x-python",
   "name": "python",
   "nbconvert_exporter": "python",
   "pygments_lexer": "ipython3",
   "version": "3.8.8"
  }
 },
 "nbformat": 4,
 "nbformat_minor": 5
}
