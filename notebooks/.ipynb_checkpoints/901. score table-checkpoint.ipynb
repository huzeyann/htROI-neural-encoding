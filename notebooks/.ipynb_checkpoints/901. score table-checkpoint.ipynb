{
 "cells": [
  {
   "cell_type": "code",
   "execution_count": 3,
   "id": "9e2f937a-50b6-4e02-a5f5-4580fccb0ce5",
   "metadata": {},
   "outputs": [],
   "source": [
    "import numpy as np\n",
    "import torch\n",
    "\n",
    "from tqdm.auto import tqdm\n",
    "from tqdm.notebook import tqdm_notebook, trange\n",
    "\n",
    "import itertools"
   ]
  },
  {
   "cell_type": "code",
   "execution_count": 7,
   "id": "52f63811-348d-4e72-b6f1-8fd120f328d9",
   "metadata": {},
   "outputs": [
    {
     "data": {
      "text/plain": [
       "True"
      ]
     },
     "execution_count": 7,
     "metadata": {},
     "output_type": "execute_result"
    }
   ],
   "source": [
    "import os\n",
    "from dotenv import find_dotenv, load_dotenv\n",
    "from pathlib import Path\n",
    "\n",
    "load_dotenv(find_dotenv(), verbose=True)"
   ]
  },
  {
   "cell_type": "code",
   "execution_count": null,
   "id": "f7488c81-0e35-49f9-941d-6470f40249b6",
   "metadata": {},
   "outputs": [],
   "source": []
  },
  {
   "cell_type": "markdown",
   "id": "a7b5aec9-07ec-4a4f-8d10-d4f7d4cce2e4",
   "metadata": {},
   "source": [
    "# prepare data"
   ]
  },
  {
   "cell_type": "code",
   "execution_count": 8,
   "id": "e3d150af-db4e-4f0a-8aae-57c71e6e868d",
   "metadata": {},
   "outputs": [],
   "source": [
    "from src.utils.ensemble import optimize_val_correlation\n",
    "from src.config.config import combine_cfgs, get_cfg_defaults\n",
    "from src.data.datamodule import MyDataModule"
   ]
  },
  {
   "cell_type": "code",
   "execution_count": 9,
   "id": "025a476e-2085-4afa-b9b0-5789fa9ed648",
   "metadata": {},
   "outputs": [],
   "source": [
    "# prepare validation data\n",
    "cfg = combine_cfgs('../src/config/experiments/algonauts2021_i3d_flow.yml')\n",
    "dm = MyDataModule(cfg)\n",
    "dm.prepare_data()\n",
    "dm.setup()\n",
    "\n",
    "val_indices = dm.val_dataset.indices\n",
    "\n",
    "cache_path = Path('/data_smr/huze/.cache/val_fmris.pt')\n",
    "\n",
    "if cache_path.exists():\n",
    "    val_fmris = torch.load(cache_path)\n",
    "else:\n",
    "    val_fmris = [dm.dataset_train_val.__getitem__(i)[1] for i in tqdm(val_indices)]\n",
    "    val_fmris = np.stack(val_fmris, 0)\n",
    "    val_fmris = torch.tensor(val_fmris)\n",
    "    torch.save(val_fmris, cache_path)"
   ]
  },
  {
   "cell_type": "code",
   "execution_count": null,
   "id": "7f53a405-5bbe-4b15-be00-58462993b776",
   "metadata": {},
   "outputs": [],
   "source": []
  },
  {
   "cell_type": "code",
   "execution_count": 10,
   "id": "425bedd4-573c-41b1-b395-4c852b5d766a",
   "metadata": {},
   "outputs": [],
   "source": [
    "# load from notebook 900. (cross-notebook-ref)"
   ]
  },
  {
   "cell_type": "code",
   "execution_count": 11,
   "id": "8e35f217-0530-4eef-a1cc-80671f8c3a2b",
   "metadata": {},
   "outputs": [],
   "source": [
    "import pandas as pd"
   ]
  },
  {
   "cell_type": "code",
   "execution_count": 12,
   "id": "63149a82-a13f-422e-951b-041f7c28cad8",
   "metadata": {},
   "outputs": [],
   "source": [
    "submission_df = torch.load('./tmp/submission_df.pt')"
   ]
  },
  {
   "cell_type": "code",
   "execution_count": 13,
   "id": "050a903d-47b8-49b5-befd-7878537acdab",
   "metadata": {},
   "outputs": [
    {
     "data": {
      "text/html": [
       "<div>\n",
       "<style scoped>\n",
       "    .dataframe tbody tr th:only-of-type {\n",
       "        vertical-align: middle;\n",
       "    }\n",
       "\n",
       "    .dataframe tbody tr th {\n",
       "        vertical-align: top;\n",
       "    }\n",
       "\n",
       "    .dataframe thead th {\n",
       "        text-align: right;\n",
       "    }\n",
       "</style>\n",
       "<table border=\"1\" class=\"dataframe\">\n",
       "  <thead>\n",
       "    <tr style=\"text-align: right;\">\n",
       "      <th></th>\n",
       "      <th>model_sch</th>\n",
       "      <th>he_sch</th>\n",
       "      <th>roi_sch</th>\n",
       "      <th>cross_roi_sch</th>\n",
       "      <th>i_submission</th>\n",
       "      <th>path</th>\n",
       "    </tr>\n",
       "  </thead>\n",
       "  <tbody>\n",
       "    <tr>\n",
       "      <th>0</th>\n",
       "      <td>multi_layer&amp;i3d_rgb</td>\n",
       "      <td>H3</td>\n",
       "      <td>ROIxSMC</td>\n",
       "      <td>croi_ensemble</td>\n",
       "      <td>000</td>\n",
       "      <td>/data/huze/ray_results/algonauts2021/ensemble_...</td>\n",
       "    </tr>\n",
       "    <tr>\n",
       "      <th>1</th>\n",
       "      <td>single_layer&amp;i3d_rgb+i3d_flow</td>\n",
       "      <td>H3</td>\n",
       "      <td>ROIxSC</td>\n",
       "      <td>croi_ensemble</td>\n",
       "      <td>001</td>\n",
       "      <td>/data/huze/ray_results/algonauts2021/ensemble_...</td>\n",
       "    </tr>\n",
       "    <tr>\n",
       "      <th>2</th>\n",
       "      <td>single_layer&amp;i3d_rgb+i3d_flow</td>\n",
       "      <td>H3</td>\n",
       "      <td>ROI</td>\n",
       "      <td></td>\n",
       "      <td>002</td>\n",
       "      <td>/data/huze/ray_results/algonauts2021/ensemble_...</td>\n",
       "    </tr>\n",
       "    <tr>\n",
       "      <th>3</th>\n",
       "      <td>single_layer&amp;i3d_rgb+i3d_flow</td>\n",
       "      <td>H3</td>\n",
       "      <td>WB</td>\n",
       "      <td></td>\n",
       "      <td>003</td>\n",
       "      <td>/data/huze/ray_results/algonauts2021/ensemble_...</td>\n",
       "    </tr>\n",
       "    <tr>\n",
       "      <th>4</th>\n",
       "      <td>single_layer&amp;i3d_flow</td>\n",
       "      <td>H3</td>\n",
       "      <td>ROIxSMC</td>\n",
       "      <td>croi_ensemble</td>\n",
       "      <td>004</td>\n",
       "      <td>/data/huze/ray_results/algonauts2021/ensemble_...</td>\n",
       "    </tr>\n",
       "    <tr>\n",
       "      <th>5</th>\n",
       "      <td>single_layer&amp;i3d_rgb+i3d_flow</td>\n",
       "      <td>H1</td>\n",
       "      <td>ROIxSMC</td>\n",
       "      <td>croi_ensemble</td>\n",
       "      <td>005</td>\n",
       "      <td>/data/huze/ray_results/algonauts2021/ensemble_...</td>\n",
       "    </tr>\n",
       "    <tr>\n",
       "      <th>6</th>\n",
       "      <td>single_layer&amp;i3d_rgb+i3d_flow</td>\n",
       "      <td>H3</td>\n",
       "      <td>ROIxLC</td>\n",
       "      <td>croi_ensemble</td>\n",
       "      <td>006</td>\n",
       "      <td>/data/huze/ray_results/algonauts2021/ensemble_...</td>\n",
       "    </tr>\n",
       "    <tr>\n",
       "      <th>7</th>\n",
       "      <td>multi_layer&amp;i3d_flow</td>\n",
       "      <td>H3</td>\n",
       "      <td>ROIxSMC</td>\n",
       "      <td>croi_ensemble</td>\n",
       "      <td>007</td>\n",
       "      <td>/data/huze/ray_results/algonauts2021/ensemble_...</td>\n",
       "    </tr>\n",
       "    <tr>\n",
       "      <th>8</th>\n",
       "      <td>single_layer&amp;i3d_rgb+i3d_flow</td>\n",
       "      <td>H3</td>\n",
       "      <td>SMC</td>\n",
       "      <td></td>\n",
       "      <td>008</td>\n",
       "      <td>/data/huze/ray_results/algonauts2021/ensemble_...</td>\n",
       "    </tr>\n",
       "    <tr>\n",
       "      <th>9</th>\n",
       "      <td>single_layer&amp;i3d_rgb+i3d_flow</td>\n",
       "      <td>H2</td>\n",
       "      <td>ROIxSMC</td>\n",
       "      <td>croi_ensemble</td>\n",
       "      <td>009</td>\n",
       "      <td>/data/huze/ray_results/algonauts2021/ensemble_...</td>\n",
       "    </tr>\n",
       "    <tr>\n",
       "      <th>10</th>\n",
       "      <td>single_layer&amp;i3d_rgb+i3d_flow</td>\n",
       "      <td>H3</td>\n",
       "      <td>ROIxSMC</td>\n",
       "      <td>voxel_swap</td>\n",
       "      <td>010</td>\n",
       "      <td>/data/huze/ray_results/algonauts2021/ensemble_...</td>\n",
       "    </tr>\n",
       "    <tr>\n",
       "      <th>11</th>\n",
       "      <td>single_layer+multi_layer&amp;i3d_rgb+i3d_flow</td>\n",
       "      <td>H3</td>\n",
       "      <td>ROIxSMC</td>\n",
       "      <td>croi_ensemble</td>\n",
       "      <td>011</td>\n",
       "      <td>/data/huze/ray_results/algonauts2021/ensemble_...</td>\n",
       "    </tr>\n",
       "    <tr>\n",
       "      <th>12</th>\n",
       "      <td>single_layer+multi_layer&amp;i3d_flow</td>\n",
       "      <td>H3</td>\n",
       "      <td>ROIxSMC</td>\n",
       "      <td>croi_ensemble</td>\n",
       "      <td>012</td>\n",
       "      <td>/data/huze/ray_results/algonauts2021/ensemble_...</td>\n",
       "    </tr>\n",
       "    <tr>\n",
       "      <th>13</th>\n",
       "      <td>single_layer+multi_layer&amp;i3d_rgb</td>\n",
       "      <td>H3</td>\n",
       "      <td>ROIxSMC</td>\n",
       "      <td>croi_ensemble</td>\n",
       "      <td>013</td>\n",
       "      <td>/data/huze/ray_results/algonauts2021/ensemble_...</td>\n",
       "    </tr>\n",
       "    <tr>\n",
       "      <th>14</th>\n",
       "      <td>single_layer&amp;i3d_rgb+i3d_flow</td>\n",
       "      <td>H3</td>\n",
       "      <td>ROIxSMC</td>\n",
       "      <td>croi_ensemble</td>\n",
       "      <td>014</td>\n",
       "      <td>/data/huze/ray_results/algonauts2021/ensemble_...</td>\n",
       "    </tr>\n",
       "    <tr>\n",
       "      <th>15</th>\n",
       "      <td>single_layer&amp;i3d_rgb+i3d_flow</td>\n",
       "      <td>H3</td>\n",
       "      <td>ROIxMC</td>\n",
       "      <td>croi_ensemble</td>\n",
       "      <td>015</td>\n",
       "      <td>/data/huze/ray_results/algonauts2021/ensemble_...</td>\n",
       "    </tr>\n",
       "    <tr>\n",
       "      <th>16</th>\n",
       "      <td>single_layer&amp;i3d_rgb</td>\n",
       "      <td>H3</td>\n",
       "      <td>ROIxSMC</td>\n",
       "      <td>croi_ensemble</td>\n",
       "      <td>016</td>\n",
       "      <td>/data/huze/ray_results/algonauts2021/ensemble_...</td>\n",
       "    </tr>\n",
       "    <tr>\n",
       "      <th>17</th>\n",
       "      <td>single_layer&amp;i3d_rgb+i3d_flow</td>\n",
       "      <td>H3</td>\n",
       "      <td>ROIxSMC</td>\n",
       "      <td>croi_swap</td>\n",
       "      <td>017</td>\n",
       "      <td>/data/huze/ray_results/algonauts2021/ensemble_...</td>\n",
       "    </tr>\n",
       "    <tr>\n",
       "      <th>18</th>\n",
       "      <td>single_layer&amp;i3d_rgb+i3d_flow</td>\n",
       "      <td>H3</td>\n",
       "      <td>LC</td>\n",
       "      <td></td>\n",
       "      <td>018</td>\n",
       "      <td>/data/huze/ray_results/algonauts2021/ensemble_...</td>\n",
       "    </tr>\n",
       "    <tr>\n",
       "      <th>19</th>\n",
       "      <td>single_layer&amp;i3d_rgb+i3d_flow</td>\n",
       "      <td>H3</td>\n",
       "      <td>SC</td>\n",
       "      <td></td>\n",
       "      <td>019</td>\n",
       "      <td>/data/huze/ray_results/algonauts2021/ensemble_...</td>\n",
       "    </tr>\n",
       "    <tr>\n",
       "      <th>20</th>\n",
       "      <td>single_layer&amp;i3d_rgb+i3d_flow</td>\n",
       "      <td>H3</td>\n",
       "      <td>MC</td>\n",
       "      <td></td>\n",
       "      <td>020</td>\n",
       "      <td>/data/huze/ray_results/algonauts2021/ensemble_...</td>\n",
       "    </tr>\n",
       "    <tr>\n",
       "      <th>21</th>\n",
       "      <td>multi_layer&amp;i3d_rgb+i3d_flow</td>\n",
       "      <td>H3</td>\n",
       "      <td>ROIxSMC</td>\n",
       "      <td>croi_ensemble</td>\n",
       "      <td>021</td>\n",
       "      <td>/data/huze/ray_results/algonauts2021/ensemble_...</td>\n",
       "    </tr>\n",
       "  </tbody>\n",
       "</table>\n",
       "</div>"
      ],
      "text/plain": [
       "                                    model_sch he_sch  roi_sch  cross_roi_sch  \\\n",
       "0                         multi_layer&i3d_rgb     H3  ROIxSMC  croi_ensemble   \n",
       "1               single_layer&i3d_rgb+i3d_flow     H3   ROIxSC  croi_ensemble   \n",
       "2               single_layer&i3d_rgb+i3d_flow     H3      ROI                  \n",
       "3               single_layer&i3d_rgb+i3d_flow     H3       WB                  \n",
       "4                       single_layer&i3d_flow     H3  ROIxSMC  croi_ensemble   \n",
       "5               single_layer&i3d_rgb+i3d_flow     H1  ROIxSMC  croi_ensemble   \n",
       "6               single_layer&i3d_rgb+i3d_flow     H3   ROIxLC  croi_ensemble   \n",
       "7                        multi_layer&i3d_flow     H3  ROIxSMC  croi_ensemble   \n",
       "8               single_layer&i3d_rgb+i3d_flow     H3      SMC                  \n",
       "9               single_layer&i3d_rgb+i3d_flow     H2  ROIxSMC  croi_ensemble   \n",
       "10              single_layer&i3d_rgb+i3d_flow     H3  ROIxSMC     voxel_swap   \n",
       "11  single_layer+multi_layer&i3d_rgb+i3d_flow     H3  ROIxSMC  croi_ensemble   \n",
       "12          single_layer+multi_layer&i3d_flow     H3  ROIxSMC  croi_ensemble   \n",
       "13           single_layer+multi_layer&i3d_rgb     H3  ROIxSMC  croi_ensemble   \n",
       "14              single_layer&i3d_rgb+i3d_flow     H3  ROIxSMC  croi_ensemble   \n",
       "15              single_layer&i3d_rgb+i3d_flow     H3   ROIxMC  croi_ensemble   \n",
       "16                       single_layer&i3d_rgb     H3  ROIxSMC  croi_ensemble   \n",
       "17              single_layer&i3d_rgb+i3d_flow     H3  ROIxSMC      croi_swap   \n",
       "18              single_layer&i3d_rgb+i3d_flow     H3       LC                  \n",
       "19              single_layer&i3d_rgb+i3d_flow     H3       SC                  \n",
       "20              single_layer&i3d_rgb+i3d_flow     H3       MC                  \n",
       "21               multi_layer&i3d_rgb+i3d_flow     H3  ROIxSMC  croi_ensemble   \n",
       "\n",
       "   i_submission                                               path  \n",
       "0           000  /data/huze/ray_results/algonauts2021/ensemble_...  \n",
       "1           001  /data/huze/ray_results/algonauts2021/ensemble_...  \n",
       "2           002  /data/huze/ray_results/algonauts2021/ensemble_...  \n",
       "3           003  /data/huze/ray_results/algonauts2021/ensemble_...  \n",
       "4           004  /data/huze/ray_results/algonauts2021/ensemble_...  \n",
       "5           005  /data/huze/ray_results/algonauts2021/ensemble_...  \n",
       "6           006  /data/huze/ray_results/algonauts2021/ensemble_...  \n",
       "7           007  /data/huze/ray_results/algonauts2021/ensemble_...  \n",
       "8           008  /data/huze/ray_results/algonauts2021/ensemble_...  \n",
       "9           009  /data/huze/ray_results/algonauts2021/ensemble_...  \n",
       "10          010  /data/huze/ray_results/algonauts2021/ensemble_...  \n",
       "11          011  /data/huze/ray_results/algonauts2021/ensemble_...  \n",
       "12          012  /data/huze/ray_results/algonauts2021/ensemble_...  \n",
       "13          013  /data/huze/ray_results/algonauts2021/ensemble_...  \n",
       "14          014  /data/huze/ray_results/algonauts2021/ensemble_...  \n",
       "15          015  /data/huze/ray_results/algonauts2021/ensemble_...  \n",
       "16          016  /data/huze/ray_results/algonauts2021/ensemble_...  \n",
       "17          017  /data/huze/ray_results/algonauts2021/ensemble_...  \n",
       "18          018  /data/huze/ray_results/algonauts2021/ensemble_...  \n",
       "19          019  /data/huze/ray_results/algonauts2021/ensemble_...  \n",
       "20          020  /data/huze/ray_results/algonauts2021/ensemble_...  \n",
       "21          021  /data/huze/ray_results/algonauts2021/ensemble_...  "
      ]
     },
     "execution_count": 13,
     "metadata": {},
     "output_type": "execute_result"
    }
   ],
   "source": [
    "submission_df"
   ]
  },
  {
   "cell_type": "code",
   "execution_count": 36,
   "id": "0b44e983-6aa3-4ed3-87fa-817254e600cf",
   "metadata": {},
   "outputs": [
    {
     "data": {
      "text/plain": [
       "PosixPath('/data/huze/ray_results/algonauts2021/ensemble_outputs/he_sch=H3,model_sch=single_layer&i3d_rgb+i3d_flow,roi_sch=ROIxSC,cross_roi_sch=croi_ensemble-prediction.pt')"
      ]
     },
     "execution_count": 36,
     "metadata": {},
     "output_type": "execute_result"
    }
   ],
   "source": [
    "submission_df.path[:3][1]"
   ]
  },
  {
   "cell_type": "code",
   "execution_count": null,
   "id": "0c58e8ac-5dab-4d0a-b651-dbbc40bd657c",
   "metadata": {},
   "outputs": [],
   "source": []
  },
  {
   "cell_type": "code",
   "execution_count": null,
   "id": "5701f773-74d9-419c-ae07-b4b67e718112",
   "metadata": {},
   "outputs": [],
   "source": []
  },
  {
   "cell_type": "markdown",
   "id": "5b650641-bf84-4d08-9b02-8ff8a7718024",
   "metadata": {},
   "source": [
    "# validation score for each ROI and kROI"
   ]
  },
  {
   "cell_type": "code",
   "execution_count": 24,
   "id": "a865dbe6-896a-4acf-8ebd-a24b69ed8850",
   "metadata": {},
   "outputs": [],
   "source": [
    "from src.utils.metrics import vectorized_correlation"
   ]
  },
  {
   "cell_type": "code",
   "execution_count": 25,
   "id": "060e07bc-140e-4cfc-974c-77b2ea9c10dd",
   "metadata": {
    "pycharm": {
     "name": "#%%\n"
    }
   },
   "outputs": [],
   "source": [
    "rois = ['WB', 'V1', 'V2', 'V3', 'V4', 'LOC', 'EBA', 'FFA', 'STS', 'PPA', 'REST', 'SMC1', 'SMC2', 'MC2', 'MC1', 'SC3', 'SC4', 'LC1',\n",
    "        'LC2', 'LC3', 'LC4', 'LC5']"
   ]
  },
  {
   "cell_type": "code",
   "execution_count": 49,
   "id": "0abd1845-24f5-43b4-a681-8fae10c45cc8",
   "metadata": {
    "tags": []
   },
   "outputs": [
    {
     "data": {
      "application/vnd.jupyter.widget-view+json": {
       "model_id": "563d6eb7dfbd4c4eb93bbd1726af7c18",
       "version_major": 2,
       "version_minor": 0
      },
      "text/plain": [
       "  0%|          | 0/22 [00:00<?, ?it/s]"
      ]
     },
     "metadata": {},
     "output_type": "display_data"
    }
   ],
   "source": [
    "# validation set score\n",
    "\n",
    "score_res_dicts = []\n",
    "\n",
    "for i_row, row in tqdm(list(submission_df.iterrows())):\n",
    "    # model_sch = row.model_sch\n",
    "    # he_sch = row.he_sch\n",
    "    # roi_sch = row.roi_sch\n",
    "    \n",
    "    path = row.path\n",
    "    prediction = torch.load(path)\n",
    "    scores = vectorized_correlation(prediction[val_indices], val_fmris)\n",
    "    res_dict = {}\n",
    "    for roi in rois:\n",
    "        voxel_indices = torch.load(os.path.join(cfg.DATASET.VOXEL_INDEX_DIR, f'{roi}.pt'))\n",
    "        score = scores[voxel_indices].mean().item()\n",
    "        key = f'{roi}_val_score'\n",
    "        res_dict[key] = f'{score:.3f}'\n",
    "    score_res_dicts.append(res_dict)\n",
    "roi_val_score_df = pd.DataFrame(score_res_dicts)"
   ]
  },
  {
   "cell_type": "code",
   "execution_count": 53,
   "id": "412f07f4-8cdc-4a9a-af27-43f4bc2fa0c1",
   "metadata": {},
   "outputs": [],
   "source": [
    "all_score_df = submission_df.join(roi_val_score_df)"
   ]
  },
  {
   "cell_type": "code",
   "execution_count": null,
   "id": "2dca0b28-fc37-45f4-acbb-f13bc4904361",
   "metadata": {},
   "outputs": [],
   "source": []
  },
  {
   "cell_type": "markdown",
   "id": "a196cc19-e37a-4d64-939c-d19932b4da33",
   "metadata": {},
   "source": [
    "# whole brain submission score"
   ]
  },
  {
   "cell_type": "code",
   "execution_count": 67,
   "id": "67205eac-4c59-44b4-b2a2-72d4781e6e4b",
   "metadata": {},
   "outputs": [],
   "source": [
    "# test set score"
   ]
  },
  {
   "cell_type": "code",
   "execution_count": 68,
   "id": "c45408ad-7fd9-4a65-bba5-3de859a644ad",
   "metadata": {},
   "outputs": [],
   "source": [
    "from io import StringIO"
   ]
  },
  {
   "cell_type": "code",
   "execution_count": 118,
   "id": "4cff860b-e89c-460f-80bc-74946fae2fde",
   "metadata": {},
   "outputs": [],
   "source": [
    "results = \"\"\"NUM\\tSCORE\\tFILENAME\\tSUBMISSION\\tDATE\\tSTATUS\\t\n",
    "91\t0.3726401715\ti=000,he_sch=H3,model_sch=multi_layer&i3d_rgb,roi_sch=ROIxSMC,cross_roi_sch=croi_ensemble_full_track.zip\t02/28/2022 14:03:28\tFinished\t\t\n",
    "92\t0.3822759446\ti=001,he_sch=H3,model_sch=single_layer&i3d_rgb+i3d_flow,roi_sch=ROIxSC,cross_roi_sch=croi_ensemble_full_track.zip\t02/28/2022 14:04:23\tFinished\t\t\n",
    "93\t0.3658464045\ti=002,he_sch=H3,model_sch=single_layer&i3d_rgb+i3d_flow,roi_sch=ROI_full_track.zip\t02/28/2022 14:06:27\tFinished\t\t\n",
    "94\t0.3566607576\ti=003,he_sch=H3,model_sch=single_layer&i3d_rgb+i3d_flow,roi_sch=WB_full_track.zip\t02/28/2022 14:08:08\tFinished\t\t\n",
    "95\t0.3371816907\ti=004,he_sch=H3,model_sch=single_layer&i3d_flow,roi_sch=ROIxSMC,cross_roi_sch=croi_ensemble_full_track.zip\t02/28/2022 14:17:15\tFinished\t\t\n",
    "96\t0.3755210745\ti=005,he_sch=H1,model_sch=single_layer&i3d_rgb+i3d_flow,roi_sch=ROIxSMC,cross_roi_sch=croi_ensemble_full_track.zip\t02/28/2022 14:20:31\tFinished\t\t\n",
    "97\t0.3765596377\ti=006,he_sch=H3,model_sch=single_layer&i3d_rgb+i3d_flow,roi_sch=ROIxLC,cross_roi_sch=croi_ensemble_full_track.zip\t02/28/2022 14:21:09\tFinished\t\t\n",
    "98\t0.3409911341\ti=007,he_sch=H3,model_sch=multi_layer&i3d_flow,roi_sch=ROIxSMC,cross_roi_sch=croi_ensemble_full_track.zip\t02/28/2022 14:23:47\tFinished\t\t\n",
    "99\t0.3777393409\ti=008,he_sch=H3,model_sch=single_layer&i3d_rgb+i3d_flow,roi_sch=SMC_full_track.zip\t02/28/2022 14:24:18\tFinished\t\t\n",
    "100\t0.3782319207\ti=009,he_sch=H2,model_sch=single_layer&i3d_rgb+i3d_flow,roi_sch=ROIxSMC,cross_roi_sch=croi_ensemble_full_track.zip\t02/28/2022 14:25:02\tFinished\t\t\n",
    "101\t0.3780098575\ti=010,he_sch=H3,model_sch=single_layer&i3d_rgb+i3d_flow,roi_sch=ROIxSMC,cross_roi_sch=voxel_swap_full_track.zip\t02/28/2022 14:26:42\tFinished\t\t\n",
    "102\t0.3823800812\ti=011,he_sch=H3,model_sch=single_layer+multi_layer&i3d_rgb+i3d_flow,roi_sch=ROIxSMC,cross_roi_sch=croi_ensemble_full_track.zip\t02/28/2022 14:28:01\tFinished\t\t\n",
    "103\t0.3386854364\ti=012,he_sch=H3,model_sch=single_layer+multi_layer&i3d_flow,roi_sch=ROIxSMC,cross_roi_sch=croi_ensemble_full_track.zip\t02/28/2022 14:28:31\tFinished\t\t\n",
    "104\t0.3780980566\ti=013,he_sch=H3,model_sch=single_layer+multi_layer&i3d_rgb,roi_sch=ROIxSMC,cross_roi_sch=croi_ensemble_full_track.zip\t02/28/2022 14:29:19\tFinished\t\t\n",
    "105\t0.3823963473\ti=014,he_sch=H3,model_sch=single_layer&i3d_rgb+i3d_flow,roi_sch=ROIxSMC,cross_roi_sch=croi_ensemble_full_track.zip\t02/28/2022 14:30:10\tFinished\t\t\n",
    "106\t0.3792904924\ti=015,he_sch=H3,model_sch=single_layer&i3d_rgb+i3d_flow,roi_sch=ROIxMC,cross_roi_sch=croi_ensemble_full_track.zip\t02/28/2022 14:30:54\tFinished\t\t\n",
    "107\t0.3779275382\ti=016,he_sch=H3,model_sch=single_layer&i3d_rgb,roi_sch=ROIxSMC,cross_roi_sch=croi_ensemble_full_track.zip\t02/28/2022 14:31:34\tFinished\t\t\n",
    "108\t0.3820716002\ti=017,he_sch=H3,model_sch=single_layer&i3d_rgb+i3d_flow,roi_sch=ROIxSMC,cross_roi_sch=croi_swap_full_track.zip\t02/28/2022 14:32:14\tFinished\t\t\n",
    "109\t0.3710070445\ti=018,he_sch=H3,model_sch=single_layer&i3d_rgb+i3d_flow,roi_sch=LC_full_track.zip\t02/28/2022 14:33:03\tFinished\t\t\n",
    "110\t0.3778493967\ti=019,he_sch=H3,model_sch=single_layer&i3d_rgb+i3d_flow,roi_sch=SC_full_track.zip\t02/28/2022 14:33:56\tFinished\t\t\n",
    "111\t0.3747412699\ti=020,he_sch=H3,model_sch=single_layer&i3d_rgb+i3d_flow,roi_sch=MC_full_track.zip\t02/28/2022 14:34:33\tFinished\t\t\n",
    "112\t0.3771323259\ti=021,he_sch=H3,model_sch=multi_layer&i3d_rgb+i3d_flow,roi_sch=ROIxSMC,cross_roi_sch=croi_ensemble_full_track.zip\t02/28/2022 14:36:07\tFinished\t\n",
    "\"\"\""
   ]
  },
  {
   "cell_type": "code",
   "execution_count": 141,
   "id": "0162bb77-89e6-4676-be9f-74112b6ffe7d",
   "metadata": {},
   "outputs": [],
   "source": [
    "df = pd.read_csv(StringIO(results), sep=\"\\t\")\n",
    "\n",
    "df['WB_test_score'] = df['SCORE'].apply(lambda x: f'{x:.3f}')\n",
    "\n",
    "df = df[['WB_test_score']]"
   ]
  },
  {
   "cell_type": "code",
   "execution_count": 142,
   "id": "0d9d2094-c040-4850-8c1a-13a8312fb86e",
   "metadata": {},
   "outputs": [],
   "source": [
    "all_score_df = all_score_df.drop(columns=['WB_test_score'])"
   ]
  },
  {
   "cell_type": "code",
   "execution_count": 143,
   "id": "0b622f81-a7cb-46c8-8301-85bdded87808",
   "metadata": {},
   "outputs": [],
   "source": [
    "all_score_df = all_score_df.join(df)"
   ]
  },
  {
   "cell_type": "markdown",
   "id": "2140740c-2dea-4800-83b2-2ca9d9d2819f",
   "metadata": {},
   "source": [
    "# ROI submission score"
   ]
  },
  {
   "cell_type": "code",
   "execution_count": 56,
   "id": "637dfa99-c08e-48cc-ae5c-1b6e474c020e",
   "metadata": {},
   "outputs": [],
   "source": [
    "submission_output_dir = './submissions'"
   ]
  },
  {
   "cell_type": "code",
   "execution_count": 63,
   "id": "16eca863-2624-4549-ac73-69f40ce76f50",
   "metadata": {
    "tags": []
   },
   "outputs": [],
   "source": [
    "# test set score\n",
    "import zipfile\n",
    "\n",
    "score_res_dicts = []\n",
    "\n",
    "for i in range(1, 22):\n",
    "    # make sure the first file is `output_file (1).zip`\n",
    "    with zipfile.ZipFile(os.path.join(submission_output_dir, f'output_file ({i}).zip'), 'r') as zip_ref:\n",
    "        zip_ref.extractall(submission_output_dir)\n",
    "    df = pd.read_csv(os.path.join(submission_output_dir, 'scores.txt'), sep=': ', header=None, engine='python')\n",
    "    \n",
    "    res_dict = {}\n",
    "    for j in range(len(df)):\n",
    "        roi, score = df.iloc[j]\n",
    "        if roi == 'score': continue\n",
    "        key = f'{roi}_test_score'\n",
    "        res_dict[key] = f'{score:.3f}'\n",
    "    score_res_dicts.append(res_dict)\n",
    "\n",
    "roi_test_score_df = pd.DataFrame(score_res_dicts)"
   ]
  },
  {
   "cell_type": "code",
   "execution_count": 65,
   "id": "ae47e686-7995-49da-97e0-c4ee8e8032a0",
   "metadata": {},
   "outputs": [],
   "source": [
    "all_score_df = all_score_df.join(roi_test_score_df)"
   ]
  },
  {
   "cell_type": "code",
   "execution_count": null,
   "id": "8f463422-07f1-4e4e-b8eb-7dccf88a20b4",
   "metadata": {},
   "outputs": [],
   "source": []
  },
  {
   "cell_type": "markdown",
   "id": "93bd9b92-3663-4e45-90ba-e34726b00ccf",
   "metadata": {},
   "source": [
    "# preprocess table"
   ]
  },
  {
   "cell_type": "code",
   "execution_count": null,
   "id": "7f7da361-6a02-422e-94ce-1e1c874d308c",
   "metadata": {},
   "outputs": [
    {
     "name": "stdout",
     "output_type": "stream",
     "text": [
      "['WB', 'V1', 'V2', 'V3', 'V4', 'LOC', 'EBA', 'FFA', 'STS', 'PPA', 'REST', 'SMC1', 'SMC2', 'MC2', 'MC1', 'SC3', 'SC4', 'LC1', 'LC2', 'LC3', 'LC4', 'LC5']\n"
     ]
    }
   ],
   "source": [
    "print(rois)"
   ]
  },
  {
   "cell_type": "code",
   "execution_count": 152,
   "id": "4d9d7577-d2ac-495d-85c3-4d8dc4a66a1a",
   "metadata": {},
   "outputs": [],
   "source": [
    "for roi in rois:\n",
    "    val_key = f'{roi}_val_score'\n",
    "    test_key = f'{roi}_test_score'\n",
    "    if test_key in all_score_df.keys():\n",
    "        all_score_df[roi] = all_score_df[val_key] + '/' + all_score_df[test_key]\n",
    "    else:\n",
    "        all_score_df[roi] = all_score_df[val_key] + '/' + '-'"
   ]
  },
  {
   "cell_type": "code",
   "execution_count": 155,
   "id": "c3780916-c735-41e1-98a1-59354320836f",
   "metadata": {},
   "outputs": [
    {
     "data": {
      "text/plain": [
       "Index(['model_sch', 'he_sch', 'roi_sch', 'cross_roi_sch', 'i_submission',\n",
       "       'path', 'WB_val_score', 'V1_val_score', 'V2_val_score', 'V3_val_score',\n",
       "       'V4_val_score', 'LOC_val_score', 'EBA_val_score', 'FFA_val_score',\n",
       "       'STS_val_score', 'PPA_val_score', 'REST_val_score', 'SMC1_val_score',\n",
       "       'SMC2_val_score', 'MC2_val_score', 'MC1_val_score', 'SC3_val_score',\n",
       "       'SC4_val_score', 'LC1_val_score', 'LC2_val_score', 'LC3_val_score',\n",
       "       'LC4_val_score', 'LC5_val_score', 'V1_test_score', 'V2_test_score',\n",
       "       'V3_test_score', 'V4_test_score', 'LOC_test_score', 'EBA_test_score',\n",
       "       'FFA_test_score', 'STS_test_score', 'PPA_test_score', 'WB_test_score',\n",
       "       'WB', 'V1', 'V2', 'V3', 'V4', 'LOC', 'EBA', 'FFA', 'STS', 'PPA', 'REST',\n",
       "       'SMC1', 'SMC2', 'MC2', 'MC1', 'SC3', 'SC4', 'LC1', 'LC2', 'LC3', 'LC4',\n",
       "       'LC5'],\n",
       "      dtype='object')"
      ]
     },
     "execution_count": 155,
     "metadata": {},
     "output_type": "execute_result"
    }
   ],
   "source": [
    "all_score_df.keys()"
   ]
  },
  {
   "cell_type": "code",
   "execution_count": 156,
   "id": "c41c713a-c096-4b96-bddc-076724b0a424",
   "metadata": {},
   "outputs": [],
   "source": [
    "interesting_keys = ['model_sch', 'he_sch', 'roi_sch', 'cross_roi_sch'] + rois"
   ]
  },
  {
   "cell_type": "code",
   "execution_count": 177,
   "id": "fbc5b90c-e4cd-41ba-a159-1473a8c52655",
   "metadata": {},
   "outputs": [],
   "source": [
    "full_table_df = all_score_df[interesting_keys]"
   ]
  },
  {
   "cell_type": "markdown",
   "id": "2dbd64de-602c-45cd-9785-382da6d62330",
   "metadata": {},
   "source": [
    "# make tables"
   ]
  },
  {
   "cell_type": "code",
   "execution_count": 169,
   "id": "40bcc7a4-0257-4d9c-9ef4-773f50d1102e",
   "metadata": {},
   "outputs": [],
   "source": [
    "# load from notebook 900. (cross-notebook-ref)\n",
    "submission_configs_keys = ['model_sch', 'he_sch', 'roi_sch', 'cross_roi_sch']\n",
    "table_configs = [\n",
    "    [\n",
    "        ('single_layer&i3d_rgb+i3d_flow', 'H3', 'WB', ''),\n",
    "        ('single_layer&i3d_rgb+i3d_flow', 'H3', 'ROIxSMC', 'croi_ensemble'),\n",
    "        ('single_layer&i3d_rgb+i3d_flow', 'H3', 'ROIxMC', 'croi_ensemble'),\n",
    "        ('single_layer&i3d_rgb+i3d_flow', 'H3', 'LC', ''),\n",
    "        ('single_layer&i3d_rgb+i3d_flow', 'H3', 'ROIxSC', 'croi_ensemble'),\n",
    "        ('single_layer&i3d_rgb+i3d_flow', 'H3', 'ROIxLC', 'croi_ensemble'),\n",
    "        ('single_layer&i3d_rgb+i3d_flow', 'H3', 'ROI', ''),\n",
    "        ('single_layer&i3d_rgb+i3d_flow', 'H3', 'SMC', ''),\n",
    "        ('single_layer&i3d_rgb+i3d_flow', 'H3', 'SC', ''),\n",
    "        ('single_layer&i3d_rgb+i3d_flow', 'H3', 'MC', '')\n",
    "    ]\n",
    "    \n",
    "]"
   ]
  },
  {
   "cell_type": "code",
   "execution_count": 189,
   "id": "9d303cc1-21df-4b5e-9669-faf25187de7f",
   "metadata": {},
   "outputs": [
    {
     "name": "stdout",
     "output_type": "stream",
     "text": [
      "[('single_layer&i3d_rgb+i3d_flow', 'H3', 'WB', ''),\n",
      " ('single_layer&i3d_rgb+i3d_flow', 'H3', 'ROIxSMC', 'croi_ensemble'),\n",
      " ('single_layer&i3d_rgb+i3d_flow', 'H3', 'ROIxMC', 'croi_ensemble'),\n",
      " ('single_layer&i3d_rgb+i3d_flow', 'H3', 'LC', ''),\n",
      " ('single_layer&i3d_rgb+i3d_flow', 'H3', 'ROIxSC', 'croi_ensemble'),\n",
      " ('single_layer&i3d_rgb+i3d_flow', 'H3', 'ROIxLC', 'croi_ensemble'),\n",
      " ('single_layer&i3d_rgb+i3d_flow', 'H3', 'ROI', ''),\n",
      " ('single_layer&i3d_rgb+i3d_flow', 'H3', 'SMC', ''),\n",
      " ('single_layer&i3d_rgb+i3d_flow', 'H3', 'SC', ''),\n",
      " ('single_layer&i3d_rgb+i3d_flow', 'H3', 'MC', '')]\n",
      "\n",
      "[('single_layer&i3d_rgb+i3d_flow', 'H3', 'ROIxSMC', 'croi_ensemble'),\n",
      " ('single_layer&i3d_rgb+i3d_flow', 'H3', 'ROIxSMC', 'croi_swap'),\n",
      " ('single_layer&i3d_rgb+i3d_flow', 'H3', 'ROIxSMC', 'voxel_swap'),\n",
      " ('single_layer&i3d_rgb+i3d_flow', 'H3', 'ROI', ''),\n",
      " ('single_layer&i3d_rgb+i3d_flow', 'H3', 'SMC', '')]\n",
      "\n",
      "[('single_layer&i3d_rgb+i3d_flow', 'H3', 'ROIxSMC', 'croi_ensemble'),\n",
      " ('single_layer&i3d_rgb+i3d_flow', 'H3', 'ROIxMC', 'croi_ensemble'),\n",
      " ('single_layer&i3d_rgb+i3d_flow', 'H3', 'ROIxSC', 'croi_ensemble'),\n",
      " ('single_layer&i3d_rgb+i3d_flow', 'H3', 'ROIxLC', 'croi_ensemble')]\n",
      "\n",
      "[('single_layer&i3d_rgb+i3d_flow', 'H3', 'ROIxSMC', 'croi_ensemble'),\n",
      " ('single_layer&i3d_rgb+i3d_flow', 'H1', 'ROIxSMC', 'croi_ensemble'),\n",
      " ('single_layer&i3d_rgb+i3d_flow', 'H2', 'ROIxSMC', 'croi_ensemble')]\n",
      "\n",
      "[('multi_layer&i3d_rgb', 'H3', 'ROIxSMC', 'croi_ensemble'),\n",
      " ('single_layer&i3d_rgb+i3d_flow', 'H3', 'ROIxSMC', 'croi_ensemble'),\n",
      " ('single_layer&i3d_rgb', 'H3', 'ROIxSMC', 'croi_ensemble'),\n",
      " ('single_layer+multi_layer&i3d_rgb', 'H3', 'ROIxSMC', 'croi_ensemble'),\n",
      " ('multi_layer&i3d_flow', 'H3', 'ROIxSMC', 'croi_ensemble'),\n",
      " ('single_layer+multi_layer&i3d_rgb+i3d_flow',\n",
      "  'H3',\n",
      "  'ROIxSMC',\n",
      "  'croi_ensemble'),\n",
      " ('multi_layer&i3d_rgb+i3d_flow', 'H3', 'ROIxSMC', 'croi_ensemble'),\n",
      " ('single_layer+multi_layer&i3d_flow', 'H3', 'ROIxSMC', 'croi_ensemble'),\n",
      " ('single_layer&i3d_flow', 'H3', 'ROIxSMC', 'croi_ensemble')]\n",
      "\n"
     ]
    }
   ],
   "source": [
    "from src.utils.misc import my_query_df\n",
    "from pprint import pprint\n",
    "for table_config in table_configs:\n",
    "    # table_config = np.asarray(table_config)\n",
    "    pprint(table_config)\n",
    "    print()\n",
    "    # break\n",
    "    # dfs = []\n",
    "    # for config in table_config:\n",
    "    #     config_dict = {k: v for k, v in zip(submission_configs_keys, config)}\n",
    "    #     df = my_query_df(full_table_df, equal_dict=config_dict)\n",
    "    #     dfs.append(df)\n",
    "    # table_df = pd.concat(dfs)"
   ]
  },
  {
   "cell_type": "code",
   "execution_count": 185,
   "id": "2bcddaf6-5a04-497a-bb9e-f196580cf307",
   "metadata": {},
   "outputs": [
    {
     "data": {
      "text/plain": [
       "array(['WB', 'ROIxSMC', 'ROIxMC', 'LC', 'ROIxSC', 'ROIxLC', 'ROI', 'SMC',\n",
       "       'SC', 'MC'], dtype='<U29')"
      ]
     },
     "execution_count": 185,
     "metadata": {},
     "output_type": "execute_result"
    }
   ],
   "source": [
    "table_config[:, 2]"
   ]
  },
  {
   "cell_type": "code",
   "execution_count": 184,
   "id": "fdaeea6d-8dff-466d-b9cc-8e3af124172c",
   "metadata": {},
   "outputs": [
    {
     "data": {
      "text/plain": [
       "array([['single_layer&i3d_rgb+i3d_flow', 'H3', 'LC', ''],\n",
       "       ['single_layer&i3d_rgb+i3d_flow', 'H3', 'MC', ''],\n",
       "       ['single_layer&i3d_rgb+i3d_flow', 'H3', 'ROI', ''],\n",
       "       ['single_layer&i3d_rgb+i3d_flow', 'H3', 'ROIxLC', 'croi_ensemble'],\n",
       "       ['single_layer&i3d_rgb+i3d_flow', 'H3', 'ROIxMC', 'croi_ensemble'],\n",
       "       ['single_layer&i3d_rgb+i3d_flow', 'H3', 'ROIxSC', 'croi_ensemble'],\n",
       "       ['single_layer&i3d_rgb+i3d_flow', 'H3', 'ROIxSMC',\n",
       "        'croi_ensemble'],\n",
       "       ['single_layer&i3d_rgb+i3d_flow', 'H3', 'SC', ''],\n",
       "       ['single_layer&i3d_rgb+i3d_flow', 'H3', 'SMC', ''],\n",
       "       ['single_layer&i3d_rgb+i3d_flow', 'H3', 'WB', '']], dtype='<U29')"
      ]
     },
     "execution_count": 184,
     "metadata": {},
     "output_type": "execute_result"
    }
   ],
   "source": [
    "table_config[table_config[:, 2].argsort()]"
   ]
  },
  {
   "cell_type": "code",
   "execution_count": 179,
   "id": "decec587-354c-4d07-aab8-8b7522e7f8e5",
   "metadata": {},
   "outputs": [
    {
     "data": {
      "text/html": [
       "<div>\n",
       "<style scoped>\n",
       "    .dataframe tbody tr th:only-of-type {\n",
       "        vertical-align: middle;\n",
       "    }\n",
       "\n",
       "    .dataframe tbody tr th {\n",
       "        vertical-align: top;\n",
       "    }\n",
       "\n",
       "    .dataframe thead th {\n",
       "        text-align: right;\n",
       "    }\n",
       "</style>\n",
       "<table border=\"1\" class=\"dataframe\">\n",
       "  <thead>\n",
       "    <tr style=\"text-align: right;\">\n",
       "      <th></th>\n",
       "      <th>model_sch</th>\n",
       "      <th>he_sch</th>\n",
       "      <th>roi_sch</th>\n",
       "      <th>cross_roi_sch</th>\n",
       "      <th>WB</th>\n",
       "      <th>V1</th>\n",
       "      <th>V2</th>\n",
       "      <th>V3</th>\n",
       "      <th>V4</th>\n",
       "      <th>LOC</th>\n",
       "      <th>...</th>\n",
       "      <th>SMC2</th>\n",
       "      <th>MC2</th>\n",
       "      <th>MC1</th>\n",
       "      <th>SC3</th>\n",
       "      <th>SC4</th>\n",
       "      <th>LC1</th>\n",
       "      <th>LC2</th>\n",
       "      <th>LC3</th>\n",
       "      <th>LC4</th>\n",
       "      <th>LC5</th>\n",
       "    </tr>\n",
       "  </thead>\n",
       "  <tbody>\n",
       "    <tr>\n",
       "      <th>0</th>\n",
       "      <td>multi_layer&amp;i3d_rgb</td>\n",
       "      <td>H3</td>\n",
       "      <td>ROIxSMC</td>\n",
       "      <td>croi_ensemble</td>\n",
       "      <td>0.175/0.373</td>\n",
       "      <td>0.333/0.677</td>\n",
       "      <td>0.322/0.689</td>\n",
       "      <td>0.306/0.679</td>\n",
       "      <td>0.281/0.718</td>\n",
       "      <td>0.355/0.718</td>\n",
       "      <td>...</td>\n",
       "      <td>0.044/-</td>\n",
       "      <td>0.287/-</td>\n",
       "      <td>0.058/-</td>\n",
       "      <td>0.315/-</td>\n",
       "      <td>0.260/-</td>\n",
       "      <td>0.088/-</td>\n",
       "      <td>0.322/-</td>\n",
       "      <td>0.251/-</td>\n",
       "      <td>0.470/-</td>\n",
       "      <td>0.419/-</td>\n",
       "    </tr>\n",
       "    <tr>\n",
       "      <th>14</th>\n",
       "      <td>single_layer&amp;i3d_rgb+i3d_flow</td>\n",
       "      <td>H3</td>\n",
       "      <td>ROIxSMC</td>\n",
       "      <td>croi_ensemble</td>\n",
       "      <td>0.180/0.382</td>\n",
       "      <td>0.334/0.662</td>\n",
       "      <td>0.323/0.682</td>\n",
       "      <td>0.308/0.679</td>\n",
       "      <td>0.284/0.724</td>\n",
       "      <td>0.363/0.727</td>\n",
       "      <td>...</td>\n",
       "      <td>0.046/-</td>\n",
       "      <td>0.295/-</td>\n",
       "      <td>0.062/-</td>\n",
       "      <td>0.324/-</td>\n",
       "      <td>0.267/-</td>\n",
       "      <td>0.091/-</td>\n",
       "      <td>0.328/-</td>\n",
       "      <td>0.261/-</td>\n",
       "      <td>0.482/-</td>\n",
       "      <td>0.419/-</td>\n",
       "    </tr>\n",
       "    <tr>\n",
       "      <th>16</th>\n",
       "      <td>single_layer&amp;i3d_rgb</td>\n",
       "      <td>H3</td>\n",
       "      <td>ROIxSMC</td>\n",
       "      <td>croi_ensemble</td>\n",
       "      <td>0.178/0.378</td>\n",
       "      <td>0.334/0.660</td>\n",
       "      <td>0.322/0.679</td>\n",
       "      <td>0.305/0.675</td>\n",
       "      <td>0.281/0.718</td>\n",
       "      <td>0.359/0.721</td>\n",
       "      <td>...</td>\n",
       "      <td>0.046/-</td>\n",
       "      <td>0.292/-</td>\n",
       "      <td>0.061/-</td>\n",
       "      <td>0.320/-</td>\n",
       "      <td>0.264/-</td>\n",
       "      <td>0.090/-</td>\n",
       "      <td>0.322/-</td>\n",
       "      <td>0.260/-</td>\n",
       "      <td>0.477/-</td>\n",
       "      <td>0.416/-</td>\n",
       "    </tr>\n",
       "    <tr>\n",
       "      <th>13</th>\n",
       "      <td>single_layer+multi_layer&amp;i3d_rgb</td>\n",
       "      <td>H3</td>\n",
       "      <td>ROIxSMC</td>\n",
       "      <td>croi_ensemble</td>\n",
       "      <td>0.179/0.378</td>\n",
       "      <td>0.337/0.679</td>\n",
       "      <td>0.326/0.693</td>\n",
       "      <td>0.309/0.683</td>\n",
       "      <td>0.284/0.722</td>\n",
       "      <td>0.360/0.716</td>\n",
       "      <td>...</td>\n",
       "      <td>0.046/-</td>\n",
       "      <td>0.293/-</td>\n",
       "      <td>0.062/-</td>\n",
       "      <td>0.322/-</td>\n",
       "      <td>0.265/-</td>\n",
       "      <td>0.091/-</td>\n",
       "      <td>0.323/-</td>\n",
       "      <td>0.262/-</td>\n",
       "      <td>0.477/-</td>\n",
       "      <td>0.422/-</td>\n",
       "    </tr>\n",
       "    <tr>\n",
       "      <th>7</th>\n",
       "      <td>multi_layer&amp;i3d_flow</td>\n",
       "      <td>H3</td>\n",
       "      <td>ROIxSMC</td>\n",
       "      <td>croi_ensemble</td>\n",
       "      <td>0.151/0.341</td>\n",
       "      <td>0.260/0.540</td>\n",
       "      <td>0.268/0.592</td>\n",
       "      <td>0.272/0.604</td>\n",
       "      <td>0.250/0.652</td>\n",
       "      <td>0.328/0.677</td>\n",
       "      <td>...</td>\n",
       "      <td>0.032/-</td>\n",
       "      <td>0.262/-</td>\n",
       "      <td>0.044/-</td>\n",
       "      <td>0.284/-</td>\n",
       "      <td>0.240/-</td>\n",
       "      <td>0.071/-</td>\n",
       "      <td>0.292/-</td>\n",
       "      <td>0.209/-</td>\n",
       "      <td>0.449/-</td>\n",
       "      <td>0.355/-</td>\n",
       "    </tr>\n",
       "    <tr>\n",
       "      <th>11</th>\n",
       "      <td>single_layer+multi_layer&amp;i3d_rgb+i3d_flow</td>\n",
       "      <td>H3</td>\n",
       "      <td>ROIxSMC</td>\n",
       "      <td>croi_ensemble</td>\n",
       "      <td>0.181/0.382</td>\n",
       "      <td>0.338/0.680</td>\n",
       "      <td>0.326/0.695</td>\n",
       "      <td>0.311/0.689</td>\n",
       "      <td>0.287/0.729</td>\n",
       "      <td>0.363/0.725</td>\n",
       "      <td>...</td>\n",
       "      <td>0.047/-</td>\n",
       "      <td>0.295/-</td>\n",
       "      <td>0.062/-</td>\n",
       "      <td>0.323/-</td>\n",
       "      <td>0.267/-</td>\n",
       "      <td>0.092/-</td>\n",
       "      <td>0.329/-</td>\n",
       "      <td>0.264/-</td>\n",
       "      <td>0.483/-</td>\n",
       "      <td>0.423/-</td>\n",
       "    </tr>\n",
       "    <tr>\n",
       "      <th>21</th>\n",
       "      <td>multi_layer&amp;i3d_rgb+i3d_flow</td>\n",
       "      <td>H3</td>\n",
       "      <td>ROIxSMC</td>\n",
       "      <td>croi_ensemble</td>\n",
       "      <td>0.176/0.377</td>\n",
       "      <td>NaN</td>\n",
       "      <td>NaN</td>\n",
       "      <td>NaN</td>\n",
       "      <td>NaN</td>\n",
       "      <td>NaN</td>\n",
       "      <td>...</td>\n",
       "      <td>0.045/-</td>\n",
       "      <td>0.290/-</td>\n",
       "      <td>0.059/-</td>\n",
       "      <td>0.319/-</td>\n",
       "      <td>0.262/-</td>\n",
       "      <td>0.088/-</td>\n",
       "      <td>0.326/-</td>\n",
       "      <td>0.253/-</td>\n",
       "      <td>0.477/-</td>\n",
       "      <td>0.421/-</td>\n",
       "    </tr>\n",
       "    <tr>\n",
       "      <th>12</th>\n",
       "      <td>single_layer+multi_layer&amp;i3d_flow</td>\n",
       "      <td>H3</td>\n",
       "      <td>ROIxSMC</td>\n",
       "      <td>croi_ensemble</td>\n",
       "      <td>0.158/0.339</td>\n",
       "      <td>0.264/0.545</td>\n",
       "      <td>0.270/0.594</td>\n",
       "      <td>0.275/0.611</td>\n",
       "      <td>0.255/0.649</td>\n",
       "      <td>0.334/0.668</td>\n",
       "      <td>...</td>\n",
       "      <td>0.034/-</td>\n",
       "      <td>0.267/-</td>\n",
       "      <td>0.048/-</td>\n",
       "      <td>0.289/-</td>\n",
       "      <td>0.245/-</td>\n",
       "      <td>0.076/-</td>\n",
       "      <td>0.305/-</td>\n",
       "      <td>0.221/-</td>\n",
       "      <td>0.455/-</td>\n",
       "      <td>0.357/-</td>\n",
       "    </tr>\n",
       "    <tr>\n",
       "      <th>4</th>\n",
       "      <td>single_layer&amp;i3d_flow</td>\n",
       "      <td>H3</td>\n",
       "      <td>ROIxSMC</td>\n",
       "      <td>croi_ensemble</td>\n",
       "      <td>0.157/0.337</td>\n",
       "      <td>0.255/0.532</td>\n",
       "      <td>0.262/0.580</td>\n",
       "      <td>0.269/0.602</td>\n",
       "      <td>0.253/0.642</td>\n",
       "      <td>0.332/0.661</td>\n",
       "      <td>...</td>\n",
       "      <td>0.034/-</td>\n",
       "      <td>0.266/-</td>\n",
       "      <td>0.048/-</td>\n",
       "      <td>0.288/-</td>\n",
       "      <td>0.246/-</td>\n",
       "      <td>0.076/-</td>\n",
       "      <td>0.302/-</td>\n",
       "      <td>0.220/-</td>\n",
       "      <td>0.454/-</td>\n",
       "      <td>0.350/-</td>\n",
       "    </tr>\n",
       "  </tbody>\n",
       "</table>\n",
       "<p>9 rows × 26 columns</p>\n",
       "</div>"
      ],
      "text/plain": [
       "                                    model_sch he_sch  roi_sch  cross_roi_sch  \\\n",
       "0                         multi_layer&i3d_rgb     H3  ROIxSMC  croi_ensemble   \n",
       "14              single_layer&i3d_rgb+i3d_flow     H3  ROIxSMC  croi_ensemble   \n",
       "16                       single_layer&i3d_rgb     H3  ROIxSMC  croi_ensemble   \n",
       "13           single_layer+multi_layer&i3d_rgb     H3  ROIxSMC  croi_ensemble   \n",
       "7                        multi_layer&i3d_flow     H3  ROIxSMC  croi_ensemble   \n",
       "11  single_layer+multi_layer&i3d_rgb+i3d_flow     H3  ROIxSMC  croi_ensemble   \n",
       "21               multi_layer&i3d_rgb+i3d_flow     H3  ROIxSMC  croi_ensemble   \n",
       "12          single_layer+multi_layer&i3d_flow     H3  ROIxSMC  croi_ensemble   \n",
       "4                       single_layer&i3d_flow     H3  ROIxSMC  croi_ensemble   \n",
       "\n",
       "             WB           V1           V2           V3           V4  \\\n",
       "0   0.175/0.373  0.333/0.677  0.322/0.689  0.306/0.679  0.281/0.718   \n",
       "14  0.180/0.382  0.334/0.662  0.323/0.682  0.308/0.679  0.284/0.724   \n",
       "16  0.178/0.378  0.334/0.660  0.322/0.679  0.305/0.675  0.281/0.718   \n",
       "13  0.179/0.378  0.337/0.679  0.326/0.693  0.309/0.683  0.284/0.722   \n",
       "7   0.151/0.341  0.260/0.540  0.268/0.592  0.272/0.604  0.250/0.652   \n",
       "11  0.181/0.382  0.338/0.680  0.326/0.695  0.311/0.689  0.287/0.729   \n",
       "21  0.176/0.377          NaN          NaN          NaN          NaN   \n",
       "12  0.158/0.339  0.264/0.545  0.270/0.594  0.275/0.611  0.255/0.649   \n",
       "4   0.157/0.337  0.255/0.532  0.262/0.580  0.269/0.602  0.253/0.642   \n",
       "\n",
       "            LOC  ...     SMC2      MC2      MC1      SC3      SC4      LC1  \\\n",
       "0   0.355/0.718  ...  0.044/-  0.287/-  0.058/-  0.315/-  0.260/-  0.088/-   \n",
       "14  0.363/0.727  ...  0.046/-  0.295/-  0.062/-  0.324/-  0.267/-  0.091/-   \n",
       "16  0.359/0.721  ...  0.046/-  0.292/-  0.061/-  0.320/-  0.264/-  0.090/-   \n",
       "13  0.360/0.716  ...  0.046/-  0.293/-  0.062/-  0.322/-  0.265/-  0.091/-   \n",
       "7   0.328/0.677  ...  0.032/-  0.262/-  0.044/-  0.284/-  0.240/-  0.071/-   \n",
       "11  0.363/0.725  ...  0.047/-  0.295/-  0.062/-  0.323/-  0.267/-  0.092/-   \n",
       "21          NaN  ...  0.045/-  0.290/-  0.059/-  0.319/-  0.262/-  0.088/-   \n",
       "12  0.334/0.668  ...  0.034/-  0.267/-  0.048/-  0.289/-  0.245/-  0.076/-   \n",
       "4   0.332/0.661  ...  0.034/-  0.266/-  0.048/-  0.288/-  0.246/-  0.076/-   \n",
       "\n",
       "        LC2      LC3      LC4      LC5  \n",
       "0   0.322/-  0.251/-  0.470/-  0.419/-  \n",
       "14  0.328/-  0.261/-  0.482/-  0.419/-  \n",
       "16  0.322/-  0.260/-  0.477/-  0.416/-  \n",
       "13  0.323/-  0.262/-  0.477/-  0.422/-  \n",
       "7   0.292/-  0.209/-  0.449/-  0.355/-  \n",
       "11  0.329/-  0.264/-  0.483/-  0.423/-  \n",
       "21  0.326/-  0.253/-  0.477/-  0.421/-  \n",
       "12  0.305/-  0.221/-  0.455/-  0.357/-  \n",
       "4   0.302/-  0.220/-  0.454/-  0.350/-  \n",
       "\n",
       "[9 rows x 26 columns]"
      ]
     },
     "execution_count": 179,
     "metadata": {},
     "output_type": "execute_result"
    }
   ],
   "source": [
    "table_df"
   ]
  },
  {
   "cell_type": "code",
   "execution_count": null,
   "id": "fed8cf8a-29b3-4660-a323-eab9915dfad5",
   "metadata": {},
   "outputs": [],
   "source": []
  },
  {
   "cell_type": "code",
   "execution_count": 55,
   "id": "8c64e379-afda-4756-9297-0bcac05cf95a",
   "metadata": {},
   "outputs": [],
   "source": [
    "# drafts"
   ]
  },
  {
   "cell_type": "code",
   "execution_count": null,
   "id": "b3fbb58b-0224-465c-9ab5-8c0b13340cfa",
   "metadata": {},
   "outputs": [],
   "source": [
    "import seaborn as sns\n",
    "import matplotlib.pyplot as plt\n",
    "\n",
    "for model_sch, he_sch in list(itertools.product(model_schs, he_schs)):\n",
    "    idf = my_query_df(score_df, {'model_sch': model_sch, 'he_sch': he_sch})\n",
    "    x = idf.trained_roi_sch.unique()\n",
    "    y = idf.roi.unique()\n",
    "    shape = (len(x), len(y))\n",
    "    scores = idf.score.values.reshape(shape)\n",
    "    ax, fig = plt.subplots(figsize=(20, 4))\n",
    "    sns.heatmap(scores, xticklabels=y, yticklabels=x, annot=True, fmt='.4f', cmap='Reds')\n",
    "    plt.yticks(rotation=0)\n",
    "    plt.title(f'model_sch={model_sch}\\n he_sch={he_sch}')\n",
    "    plt.show()"
   ]
  }
 ],
 "metadata": {
  "kernelspec": {
   "display_name": "Python 3 (ipykernel)",
   "language": "python",
   "name": "python3"
  },
  "language_info": {
   "codemirror_mode": {
    "name": "ipython",
    "version": 3
   },
   "file_extension": ".py",
   "mimetype": "text/x-python",
   "name": "python",
   "nbconvert_exporter": "python",
   "pygments_lexer": "ipython3",
   "version": "3.8.8"
  }
 },
 "nbformat": 4,
 "nbformat_minor": 5
}
