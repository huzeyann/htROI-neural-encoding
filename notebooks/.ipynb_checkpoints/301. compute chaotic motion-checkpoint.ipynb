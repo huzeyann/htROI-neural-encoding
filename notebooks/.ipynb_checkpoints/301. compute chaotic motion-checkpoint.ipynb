{
 "cells": [
  {
   "cell_type": "code",
   "execution_count": 3,
   "id": "8d9b2424-d127-4376-80a2-309efb06fd27",
   "metadata": {},
   "outputs": [
    {
     "data": {
      "text/plain": [
       "True"
      ]
     },
     "execution_count": 3,
     "metadata": {},
     "output_type": "execute_result"
    }
   ],
   "source": [
    "from pathlib import Path\n",
    "\n",
    "import numpy as np\n",
    "import torch\n",
    "\n",
    "from tqdm.auto import tqdm\n",
    "\n",
    "import itertools\n",
    "\n",
    "import os\n",
    "from dotenv import find_dotenv, load_dotenv\n",
    "\n",
    "load_dotenv(find_dotenv(), verbose=True)"
   ]
  },
  {
   "cell_type": "markdown",
   "id": "1b38df37-a0af-4e5e-9f2e-bc63e6f7c785",
   "metadata": {},
   "source": [
    "# prepare data"
   ]
  },
  {
   "cell_type": "code",
   "execution_count": 4,
   "id": "0d855ec1-9b9d-44c4-8d30-f0e2c27c7a93",
   "metadata": {},
   "outputs": [],
   "source": [
    "from src.config.config import combine_cfgs, get_cfg_defaults\n",
    "from src.data.datamodule import MyDataModule"
   ]
  },
  {
   "cell_type": "code",
   "execution_count": 5,
   "id": "0fc34c02-6eda-4a94-a577-ca398ad6b595",
   "metadata": {},
   "outputs": [],
   "source": [
    "# prepare optical flow\n",
    "cfg = combine_cfgs('../src/config/experiments/algonauts2021_i3d_flow.yml')\n",
    "dm = MyDataModule(cfg)\n",
    "dm.prepare_data()\n",
    "dm.setup()"
   ]
  },
  {
   "cell_type": "code",
   "execution_count": 10,
   "id": "da01fcfb-aef3-4ffe-9c07-82e439a2a4bf",
   "metadata": {},
   "outputs": [],
   "source": [
    "num_videos = len(dm.dataset_train_val)"
   ]
  },
  {
   "cell_type": "code",
   "execution_count": 12,
   "id": "657de823-acf2-4ba0-8726-e0cfd4cd7fee",
   "metadata": {},
   "outputs": [
    {
     "name": "stdout",
     "output_type": "stream",
     "text": [
      "(2, 64, 224, 224)\n"
     ]
    }
   ],
   "source": [
    "print(dm.dataset_train_val.__getitem__(0)[0].shape)"
   ]
  },
  {
   "cell_type": "code",
   "execution_count": 13,
   "id": "e74d89bd-39b8-4ded-a149-ce611704cd4c",
   "metadata": {},
   "outputs": [
    {
     "data": {
      "application/vnd.jupyter.widget-view+json": {
       "model_id": "0171ab3c192f4ce7be36144333efba46",
       "version_major": 2,
       "version_minor": 0
      },
      "text/plain": [
       "  0%|          | 0/1000 [00:00<?, ?it/s]"
      ]
     },
     "metadata": {},
     "output_type": "display_data"
    }
   ],
   "source": [
    "chaotic_motions = []\n",
    "vector_motions = []\n",
    "for vid_idx in tqdm(range(num_videos)):\n",
    "    flow_vid, fmri = dm.dataset_train_val.__getitem__(vid_idx)\n",
    "    vector_motions.append(flow_vid.sum(-1).sum(-1).sum(-1))\n",
    "    chaotic_motions.append(np.sqrt((flow_vid**2).sum(0)).sum())\n",
    "chaotic_motions = np.asarray(chaotic_motions)\n",
    "vector_motions = np.asarray(vector_motions)"
   ]
  },
  {
   "cell_type": "code",
   "execution_count": 14,
   "id": "52a05705-8780-4b8c-8158-4063d58c137d",
   "metadata": {},
   "outputs": [
    {
     "data": {
      "text/plain": [
       "(1000,)"
      ]
     },
     "execution_count": 14,
     "metadata": {},
     "output_type": "execute_result"
    }
   ],
   "source": [
    "chaotic_motions.shape"
   ]
  },
  {
   "cell_type": "code",
   "execution_count": 20,
   "id": "1f1571b8-93e4-4415-9adc-9fafdbf62f62",
   "metadata": {},
   "outputs": [],
   "source": [
    "import seaborn as sns\n",
    "import matplotlib.pyplot as plt"
   ]
  },
  {
   "cell_type": "code",
   "execution_count": 21,
   "id": "4211552f-5a07-498a-b8cc-0b338b66930d",
   "metadata": {},
   "outputs": [
    {
     "data": {
      "image/png": "[encoded data removed]",
      "text/plain": [
       "<Figure size 360x360 with 1 Axes>"
      ]
     },
     "metadata": {
      "needs_background": "light"
     },
     "output_type": "display_data"
    }
   ],
   "source": [
    "sns.displot(chaotic_motions)\n",
    "plt.show()"
   ]
  },
  {
   "cell_type": "code",
   "execution_count": 16,
   "id": "a559c6ff-53a4-4bcf-b3f5-5c37c39c4222",
   "metadata": {},
   "outputs": [],
   "source": [
    "np.save('./tmp/chaotic_motion.npy', chaotic_motions)"
   ]
  },
  {
   "cell_type": "code",
   "execution_count": null,
   "id": "91a0a7da-0653-44ec-aa2c-35e42da5e378",
   "metadata": {},
   "outputs": [],
   "source": []
  }
 ],
 "metadata": {
  "kernelspec": {
   "display_name": "Python 3 (ipykernel)",
   "language": "python",
   "name": "python3"
  },
  "language_info": {
   "codemirror_mode": {
    "name": "ipython",
    "version": 3
   },
   "file_extension": ".py",
   "mimetype": "text/x-python",
   "name": "python",
   "nbconvert_exporter": "python",
   "pygments_lexer": "ipython3",
   "version": "3.8.8"
  }
 },
 "nbformat": 4,
 "nbformat_minor": 5
}
