{
 "cells": [
  {
   "cell_type": "code",
   "execution_count": 15,
   "id": "403778e5-2dd4-424a-b002-19959e403c19",
   "metadata": {},
   "outputs": [
    {
     "data": {
      "text/plain": [
       "True"
      ]
     },
     "execution_count": 15,
     "metadata": {},
     "output_type": "execute_result"
    }
   ],
   "source": [
    "from pathlib import Path\n",
    "\n",
    "import numpy as np\n",
    "import torch\n",
    "\n",
    "from tqdm.auto import tqdm\n",
    "from tqdm.notebook import tqdm_notebook, trange\n",
    "\n",
    "import itertools\n",
    "\n",
    "import os\n",
    "from dotenv import find_dotenv, load_dotenv\n",
    "\n",
    "load_dotenv(find_dotenv(), verbose=True)"
   ]
  },
  {
   "cell_type": "markdown",
   "id": "5336e1d6-7971-48e0-8d45-e5d8121f46f9",
   "metadata": {},
   "source": [
    "# prepare data"
   ]
  },
  {
   "cell_type": "code",
   "execution_count": 16,
   "id": "d4e5f695-720a-43fd-9f43-54573e493d4f",
   "metadata": {},
   "outputs": [],
   "source": [
    "from src.config.config import combine_cfgs, get_cfg_defaults\n",
    "from src.data.datamodule import MyDataModule"
   ]
  },
  {
   "cell_type": "code",
   "execution_count": 17,
   "id": "bc7f21b8-d59f-4d91-83b6-62bb6947471b",
   "metadata": {},
   "outputs": [],
   "source": [
    "# prepare validation data\n",
    "cfg = combine_cfgs('../src/config/experiments/algonauts2021_i3d_flow.yml')\n",
    "dm = MyDataModule(cfg)\n",
    "dm.prepare_data()\n",
    "dm.setup()\n",
    "\n",
    "val_indices = dm.val_dataset.indices\n",
    "\n",
    "cache_path = Path('/data_smr/huze/.cache/val_fmris.pt')\n",
    "\n",
    "if cache_path.exists():\n",
    "    val_fmris = torch.load(cache_path)\n",
    "else:\n",
    "    val_fmris = [dm.dataset_train_val.__getitem__(i)[1] for i in tqdm(val_indices)]\n",
    "    val_fmris = np.stack(val_fmris, 0)\n",
    "    val_fmris = torch.tensor(val_fmris)\n",
    "    torch.save(val_fmris, cache_path)"
   ]
  },
  {
   "cell_type": "code",
   "execution_count": 18,
   "id": "ef2cb8d2-2362-4197-94ca-e4a6186b2e57",
   "metadata": {},
   "outputs": [],
   "source": [
    "voxel_masks = np.load(dm.dataset_train_val.root_dir.joinpath(Path('processed/voxel_masks.npy')))"
   ]
  },
  {
   "cell_type": "code",
   "execution_count": 19,
   "id": "e8b52d83-26b0-491d-9c89-3a2878cbdb89",
   "metadata": {},
   "outputs": [],
   "source": [
    "from src.utils.visulization import save_as_nii\n",
    "\n",
    "reliable_voxel_mask_mean_sub = voxel_masks.sum(0)\n",
    "reliable_voxel_mask_mean_sub[reliable_voxel_mask_mean_sub > 0] = 1\n",
    "reliable_voxel_mask_mean_sub = reliable_voxel_mask_mean_sub.astype(np.int8)\n",
    "reliable_voxel_mask_path = Path('./tmp/reliable_voxel_mask.nii')\n",
    "save_as_nii('./tmp/example.nii', reliable_voxel_mask_path, reliable_voxel_mask_mean_sub)"
   ]
  },
  {
   "cell_type": "code",
   "execution_count": 20,
   "id": "b65366d3-fee8-445b-ab5e-81a6d7934ef3",
   "metadata": {},
   "outputs": [],
   "source": [
    "predictions_dict = {\n",
    "    # from previous project, notebook 'plot mc fi score, maybe final'\n",
    "    'Baseline,VGG16 2D + LSTM,layer=(x1,x2,x3,x4,x5),pathway=cascade,roi=WB': Path(\n",
    "        '/data_smr/huze/projects/my_algonauts/predictions/bc4bd42bc70d409daebe27f2c0fae255/WB.pt'),\n",
    "    # from notebook 1.\n",
    "    'Baseline,Inflated 3D Resnet,RGB stream,layer=(x1,x2,x3,x4),pathway=topdown,roi=WB': Path(\n",
    "        \"/data/huze/ray_results/algonauts2021/algonauts2021_i3d_rgb-multi_layer/run_single_tune_config_575a8_00066_66_DATASET.ROI=WB,MODEL.BACKBONE.LAYERS=_'x1', 'x2', 'x3', 'x4'_,MODEL.BACKBONE.LAYER_PATHWAYS=_2022-02-26_14-18-59/prediction.npy\"),\n",
    "    # from notebook 999.\n",
    "    'Best,Inflated3D,RGB steram + FLOW stream,HierarchicalEnsemble,ROIxkROI': Path('/data/huze/ray_results/algonauts2021/ensemble_outputs/he_sch=H3,model_sch=single_layer&i3d_rgb+i3d_flow,roi_sch=ROIxSMC,cross_roi_sch=croi_ensemble-prediction.pt'),\n",
    "}"
   ]
  },
  {
   "cell_type": "code",
   "execution_count": 21,
   "id": "b9fdf1ca",
   "metadata": {
    "collapsed": false,
    "jupyter": {
     "outputs_hidden": false
    },
    "pycharm": {
     "name": "#%%\n"
    }
   },
   "outputs": [],
   "source": [
    "predictions_dict = {k: path for k, path in predictions_dict.items() if path.exists()}\n",
    "assert len(predictions_dict) > 1"
   ]
  },
  {
   "cell_type": "code",
   "execution_count": 23,
   "id": "5b363ccf",
   "metadata": {
    "collapsed": false,
    "jupyter": {
     "outputs_hidden": false
    },
    "pycharm": {
     "is_executing": true,
     "name": "#%%\n"
    }
   },
   "outputs": [
    {
     "name": "stderr",
     "output_type": "stream",
     "text": [
      "/usr/local/anaconda3/envs/env_ube/lib/python3.8/site-packages/nilearn/surface/surface.py:464: RuntimeWarning: Mean of empty slice\n",
      "  texture = np.nanmean(all_samples, axis=2)\n",
      "/usr/local/anaconda3/envs/env_ube/lib/python3.8/site-packages/nilearn/surface/surface.py:464: RuntimeWarning: Mean of empty slice\n",
      "  texture = np.nanmean(all_samples, axis=2)\n"
     ]
    },
    {
     "data": {
      "application/vnd.jupyter.widget-view+json": {
       "model_id": "a2a0607fc7c045309688b71cb7455aef",
       "version_major": 2,
       "version_minor": 0
      },
      "text/plain": [
       "axes:   0%|          | 0/12 [00:00<?, ?it/s]"
      ]
     },
     "metadata": {},
     "output_type": "display_data"
    },
    {
     "name": "stderr",
     "output_type": "stream",
     "text": [
      "/usr/local/anaconda3/envs/env_ube/lib/python3.8/site-packages/nilearn/surface/surface.py:464: RuntimeWarning: Mean of empty slice\n",
      "  texture = np.nanmean(all_samples, axis=2)\n",
      "/usr/local/anaconda3/envs/env_ube/lib/python3.8/site-packages/nilearn/surface/surface.py:464: RuntimeWarning: Mean of empty slice\n",
      "  texture = np.nanmean(all_samples, axis=2)\n"
     ]
    },
    {
     "data": {
      "application/vnd.jupyter.widget-view+json": {
       "model_id": "693a542cd2b44ae999ffac009caf5aa2",
       "version_major": 2,
       "version_minor": 0
      },
      "text/plain": [
       "axes:   0%|          | 0/12 [00:00<?, ?it/s]"
      ]
     },
     "metadata": {},
     "output_type": "display_data"
    }
   ],
   "source": [
    "from matplotlib import pyplot as plt\n",
    "from nilearn import plotting\n",
    "from src.utils.visulization import get_nii, nice_plot\n",
    "from src.utils.metrics import vectorized_correlation\n",
    "\n",
    "surf_mesh = 'fsaverage' # more veterx but 20x slower\n",
    "# surf_mesh = 'fsaverage5'\n",
    "\n",
    "for name, path in predictions_dict.items():\n",
    "    if path.name.endswith('.pt'):\n",
    "        prediction = torch.load(path).float()\n",
    "    else:\n",
    "        prediction = torch.tensor(np.load(path)).float()\n",
    "\n",
    "    voxel_score = vectorized_correlation(prediction[val_indices], val_fmris)\n",
    "    voxel_score = voxel_score.numpy()\n",
    "    mean_score = voxel_score.mean()\n",
    "\n",
    "    tmp_nii_path = Path('tmp/score.nii')\n",
    "    example_nii_path = Path('tmp/example.nii')\n",
    "\n",
    "    get_nii(voxel_masks, voxel_score, example_nii_path, tmp_nii_path)\n",
    "\n",
    "    fig, axes = plotting.plot_img_on_surf(str(tmp_nii_path),\n",
    "                                          # threshold=0.025,\n",
    "                                          bg_on_data=True,\n",
    "                                          surf_mesh=surf_mesh,\n",
    "                                          mask_img=str(reliable_voxel_mask_path),\n",
    "                                          colorbar=True,\n",
    "                                          alpha=1.,\n",
    "                                          darkness=.5,\n",
    "                                          vmax=0.5,\n",
    "                                          views=['lateral', 'medial', 'dorsal', 'ventral', 'anterior', 'posterior'],\n",
    "                                          hemispheres=['left', 'right'],\n",
    "                                          inflate=True,\n",
    "                                          cmap='PuOr',\n",
    "                                          )\n",
    "    # plt.show()\n",
    "    img = nice_plot(fig, axes, dpi=360, tmp_dir='tmp/')\n",
    "    plt.close()\n",
    "\n",
    "    save_path = os.path.join('figures', f'score={mean_score:.3f},{name}.jpg')\n",
    "    img.save(save_path, quality=95)"
   ]
  },
  {
   "cell_type": "code",
   "execution_count": null,
   "id": "87cdb2ca",
   "metadata": {
    "collapsed": false,
    "jupyter": {
     "outputs_hidden": false
    },
    "pycharm": {
     "name": "#%%\n"
    }
   },
   "outputs": [],
   "source": []
  }
 ],
 "metadata": {
  "kernelspec": {
   "display_name": "Python 3 (ipykernel)",
   "language": "python",
   "name": "python3"
  },
  "language_info": {
   "codemirror_mode": {
    "name": "ipython",
    "version": 3
   },
   "file_extension": ".py",
   "mimetype": "text/x-python",
   "name": "python",
   "nbconvert_exporter": "python",
   "pygments_lexer": "ipython3",
   "version": "3.8.8"
  }
 },
 "nbformat": 4,
 "nbformat_minor": 5
}
