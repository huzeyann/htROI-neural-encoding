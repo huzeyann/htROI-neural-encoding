{
 "cells": [
  {
   "cell_type": "code",
   "execution_count": 20,
   "id": "7285612f",
   "metadata": {},
   "outputs": [],
   "source": [
    "from src.utils.submission import algonauts2021_submission_from_whole_brain_prediction"
   ]
  },
  {
   "cell_type": "code",
   "execution_count": 21,
   "id": "72fd8b93",
   "metadata": {},
   "outputs": [],
   "source": [
    "import torch\n",
    "import numpy as np"
   ]
  },
  {
   "cell_type": "code",
   "execution_count": 22,
   "id": "d460a0ff",
   "metadata": {},
   "outputs": [],
   "source": [
    "import pandas as pd"
   ]
  },
  {
   "cell_type": "code",
   "execution_count": 23,
   "id": "ab049ca4",
   "metadata": {},
   "outputs": [],
   "source": [
    "from pathlib import Path"
   ]
  },
  {
   "cell_type": "code",
   "execution_count": 26,
   "id": "d89012ef",
   "metadata": {},
   "outputs": [],
   "source": [
    "tmp_dir = '/data/huze/tmp/'\n",
    "tmp_dir = Path(tmp_dir)"
   ]
  },
  {
   "cell_type": "code",
   "execution_count": 27,
   "id": "91e0fd64",
   "metadata": {},
   "outputs": [
    {
     "data": {
      "text/plain": [
       "[PosixPath('/data/huze/tmp/he_sch:2_hierachy,model_sch:single_layer-i3d_rgb,roi_sch:ROI-prediction.pt'),\n",
       " PosixPath('/data/huze/tmp/he_sch:3_hierachy,model_sch:single_layer-i3d_rgb,roi_sch:LC-prediction.pt'),\n",
       " PosixPath('/data/huze/tmp/he_sch:3_hierachy,model_sch:single_layer-i3d_rgb,roi_sch:MC-prediction.pt'),\n",
       " PosixPath('/data/huze/tmp/he_sch:3_hierachy,model_sch:single_layer-i3d_rgb,roi_sch:SC-prediction.pt'),\n",
       " PosixPath('/data/huze/tmp/prediction.pt'),\n",
       " PosixPath('/data/huze/tmp/he_sch:2_hierachy,model_sch:single_layer-i3d_rgb,roi_sch:MC-prediction.pt'),\n",
       " PosixPath('/data/huze/tmp/he_sch:2_hierachy,model_sch:single_layer-i3d_rgb,roi_sch:LC-prediction.pt'),\n",
       " PosixPath('/data/huze/tmp/he_sch:2_hierachy,model_sch:single_layer-i3d_rgb,roi_sch:SMC-prediction.pt'),\n",
       " PosixPath('/data/huze/tmp/he_sch:4_hierachy,model_sch:single_layer-i3d_rgb,roi_sch:SMC-prediction.pt'),\n",
       " PosixPath('/data/huze/tmp/he_sch:4_hierachy,model_sch:single_layer-i3d_rgb,roi_sch:LC-prediction.pt'),\n",
       " PosixPath('/data/huze/tmp/he_sch:3_hierachy,model_sch:single_layer-i3d_rgb,roi_sch:SMC-prediction.pt'),\n",
       " PosixPath('/data/huze/tmp/he_sch:4_hierachy,model_sch:single_layer-i3d_rgb,roi_sch:SC-prediction.pt'),\n",
       " PosixPath('/data/huze/tmp/he_sch:4_hierachy,model_sch:single_layer-i3d_rgb,roi_sch:MC-prediction.pt'),\n",
       " PosixPath('/data/huze/tmp/he_sch:2_hierachy,model_sch:single_layer-i3d_rgb,roi_sch:SC-prediction.pt'),\n",
       " PosixPath('/data/huze/tmp/he_sch:3_hierachy,model_sch:single_layer-i3d_rgb,roi_sch:ROI-prediction.pt'),\n",
       " PosixPath('/data/huze/tmp/he_sch:4_hierachy,model_sch:single_layer-i3d_rgb,roi_sch:ROI-prediction.pt')]"
      ]
     },
     "execution_count": 27,
     "metadata": {},
     "output_type": "execute_result"
    }
   ],
   "source": [
    "list(tmp_dir.iterdir())"
   ]
  },
  {
   "cell_type": "code",
   "execution_count": 36,
   "id": "1b27e53c",
   "metadata": {},
   "outputs": [],
   "source": [
    "path = list(tmp_dir.iterdir())[5]"
   ]
  },
  {
   "cell_type": "code",
   "execution_count": 37,
   "id": "88d1b2b4",
   "metadata": {},
   "outputs": [],
   "source": [
    "dicts = []\n",
    "for path in tmp_dir.iterdir():\n",
    "    try:\n",
    "        name = path.name.replace('-prediction.pt', '')\n",
    "        d = {k: v for k, v in map(lambda kv: kv.split(':'), name.split(','))}\n",
    "        d['path'] = path\n",
    "        dicts.append(d)\n",
    "    except:\n",
    "        continue"
   ]
  },
  {
   "cell_type": "code",
   "execution_count": 38,
   "id": "e569ddb5",
   "metadata": {},
   "outputs": [],
   "source": [
    "df = pd.DataFrame(dicts)"
   ]
  },
  {
   "cell_type": "code",
   "execution_count": 39,
   "id": "1997c2d6",
   "metadata": {},
   "outputs": [
    {
     "data": {
      "text/html": [
       "<div>\n",
       "<style scoped>\n",
       "    .dataframe tbody tr th:only-of-type {\n",
       "        vertical-align: middle;\n",
       "    }\n",
       "\n",
       "    .dataframe tbody tr th {\n",
       "        vertical-align: top;\n",
       "    }\n",
       "\n",
       "    .dataframe thead th {\n",
       "        text-align: right;\n",
       "    }\n",
       "</style>\n",
       "<table border=\"1\" class=\"dataframe\">\n",
       "  <thead>\n",
       "    <tr style=\"text-align: right;\">\n",
       "      <th></th>\n",
       "      <th>he_sch</th>\n",
       "      <th>model_sch</th>\n",
       "      <th>roi_sch</th>\n",
       "      <th>path</th>\n",
       "    </tr>\n",
       "  </thead>\n",
       "  <tbody>\n",
       "    <tr>\n",
       "      <th>0</th>\n",
       "      <td>2_hierachy</td>\n",
       "      <td>single_layer-i3d_rgb</td>\n",
       "      <td>ROI</td>\n",
       "      <td>/data/huze/tmp/he_sch:2_hierachy,model_sch:sin...</td>\n",
       "    </tr>\n",
       "    <tr>\n",
       "      <th>1</th>\n",
       "      <td>3_hierachy</td>\n",
       "      <td>single_layer-i3d_rgb</td>\n",
       "      <td>LC</td>\n",
       "      <td>/data/huze/tmp/he_sch:3_hierachy,model_sch:sin...</td>\n",
       "    </tr>\n",
       "    <tr>\n",
       "      <th>2</th>\n",
       "      <td>3_hierachy</td>\n",
       "      <td>single_layer-i3d_rgb</td>\n",
       "      <td>MC</td>\n",
       "      <td>/data/huze/tmp/he_sch:3_hierachy,model_sch:sin...</td>\n",
       "    </tr>\n",
       "    <tr>\n",
       "      <th>3</th>\n",
       "      <td>3_hierachy</td>\n",
       "      <td>single_layer-i3d_rgb</td>\n",
       "      <td>SC</td>\n",
       "      <td>/data/huze/tmp/he_sch:3_hierachy,model_sch:sin...</td>\n",
       "    </tr>\n",
       "    <tr>\n",
       "      <th>4</th>\n",
       "      <td>2_hierachy</td>\n",
       "      <td>single_layer-i3d_rgb</td>\n",
       "      <td>MC</td>\n",
       "      <td>/data/huze/tmp/he_sch:2_hierachy,model_sch:sin...</td>\n",
       "    </tr>\n",
       "  </tbody>\n",
       "</table>\n",
       "</div>"
      ],
      "text/plain": [
       "       he_sch             model_sch roi_sch  \\\n",
       "0  2_hierachy  single_layer-i3d_rgb     ROI   \n",
       "1  3_hierachy  single_layer-i3d_rgb      LC   \n",
       "2  3_hierachy  single_layer-i3d_rgb      MC   \n",
       "3  3_hierachy  single_layer-i3d_rgb      SC   \n",
       "4  2_hierachy  single_layer-i3d_rgb      MC   \n",
       "\n",
       "                                                path  \n",
       "0  /data/huze/tmp/he_sch:2_hierachy,model_sch:sin...  \n",
       "1  /data/huze/tmp/he_sch:3_hierachy,model_sch:sin...  \n",
       "2  /data/huze/tmp/he_sch:3_hierachy,model_sch:sin...  \n",
       "3  /data/huze/tmp/he_sch:3_hierachy,model_sch:sin...  \n",
       "4  /data/huze/tmp/he_sch:2_hierachy,model_sch:sin...  "
      ]
     },
     "execution_count": 39,
     "metadata": {},
     "output_type": "execute_result"
    }
   ],
   "source": [
    "df.head()"
   ]
  },
  {
   "cell_type": "code",
   "execution_count": 40,
   "id": "e90aa7c4",
   "metadata": {},
   "outputs": [],
   "source": [
    "filter_dict = {\n",
    "    'he_sch': ['4_hierachy', '3_hierachy', '2_hierachy'],\n",
    "    'model_sch': ['single_layer-i3d_rgb'],\n",
    "    'roi_sch': ['ROI', 'SMC'],\n",
    "}"
   ]
  },
  {
   "cell_type": "code",
   "execution_count": 33,
   "id": "1ba50824",
   "metadata": {},
   "outputs": [
    {
     "name": "stdout",
     "output_type": "stream",
     "text": [
      "he_sch ['4_hierachy', '3_hierachy', '2_hierachy']\n",
      "15\n",
      "model_sch ['single_layer-i3d_rgb']\n",
      "15\n",
      "roi_sch ['ROI', 'SMC']\n",
      "6\n"
     ]
    }
   ],
   "source": [
    "filtered_df = df\n",
    "for k, vs in filter_dict.items():\n",
    "    print(k, vs)\n",
    "    filtered_df = filtered_df.loc[filtered_df[k].isin(vs)]\n",
    "    print(len(filtered_df))"
   ]
  },
  {
   "cell_type": "code",
   "execution_count": 34,
   "id": "2dfce640",
   "metadata": {},
   "outputs": [
    {
     "data": {
      "text/html": [
       "<div>\n",
       "<style scoped>\n",
       "    .dataframe tbody tr th:only-of-type {\n",
       "        vertical-align: middle;\n",
       "    }\n",
       "\n",
       "    .dataframe tbody tr th {\n",
       "        vertical-align: top;\n",
       "    }\n",
       "\n",
       "    .dataframe thead th {\n",
       "        text-align: right;\n",
       "    }\n",
       "</style>\n",
       "<table border=\"1\" class=\"dataframe\">\n",
       "  <thead>\n",
       "    <tr style=\"text-align: right;\">\n",
       "      <th></th>\n",
       "      <th>he_sch</th>\n",
       "      <th>model_sch</th>\n",
       "      <th>roi_sch</th>\n",
       "      <th>path</th>\n",
       "    </tr>\n",
       "  </thead>\n",
       "  <tbody>\n",
       "    <tr>\n",
       "      <th>0</th>\n",
       "      <td>2_hierachy</td>\n",
       "      <td>single_layer-i3d_rgb</td>\n",
       "      <td>ROI</td>\n",
       "      <td>/data/huze/tmp/he_sch:2_hierachy,model_sch:sin...</td>\n",
       "    </tr>\n",
       "    <tr>\n",
       "      <th>6</th>\n",
       "      <td>2_hierachy</td>\n",
       "      <td>single_layer-i3d_rgb</td>\n",
       "      <td>SMC</td>\n",
       "      <td>/data/huze/tmp/he_sch:2_hierachy,model_sch:sin...</td>\n",
       "    </tr>\n",
       "    <tr>\n",
       "      <th>7</th>\n",
       "      <td>4_hierachy</td>\n",
       "      <td>single_layer-i3d_rgb</td>\n",
       "      <td>SMC</td>\n",
       "      <td>/data/huze/tmp/he_sch:4_hierachy,model_sch:sin...</td>\n",
       "    </tr>\n",
       "    <tr>\n",
       "      <th>9</th>\n",
       "      <td>3_hierachy</td>\n",
       "      <td>single_layer-i3d_rgb</td>\n",
       "      <td>SMC</td>\n",
       "      <td>/data/huze/tmp/he_sch:3_hierachy,model_sch:sin...</td>\n",
       "    </tr>\n",
       "    <tr>\n",
       "      <th>13</th>\n",
       "      <td>3_hierachy</td>\n",
       "      <td>single_layer-i3d_rgb</td>\n",
       "      <td>ROI</td>\n",
       "      <td>/data/huze/tmp/he_sch:3_hierachy,model_sch:sin...</td>\n",
       "    </tr>\n",
       "    <tr>\n",
       "      <th>14</th>\n",
       "      <td>4_hierachy</td>\n",
       "      <td>single_layer-i3d_rgb</td>\n",
       "      <td>ROI</td>\n",
       "      <td>/data/huze/tmp/he_sch:4_hierachy,model_sch:sin...</td>\n",
       "    </tr>\n",
       "  </tbody>\n",
       "</table>\n",
       "</div>"
      ],
      "text/plain": [
       "        he_sch             model_sch roi_sch  \\\n",
       "0   2_hierachy  single_layer-i3d_rgb     ROI   \n",
       "6   2_hierachy  single_layer-i3d_rgb     SMC   \n",
       "7   4_hierachy  single_layer-i3d_rgb     SMC   \n",
       "9   3_hierachy  single_layer-i3d_rgb     SMC   \n",
       "13  3_hierachy  single_layer-i3d_rgb     ROI   \n",
       "14  4_hierachy  single_layer-i3d_rgb     ROI   \n",
       "\n",
       "                                                 path  \n",
       "0   /data/huze/tmp/he_sch:2_hierachy,model_sch:sin...  \n",
       "6   /data/huze/tmp/he_sch:2_hierachy,model_sch:sin...  \n",
       "7   /data/huze/tmp/he_sch:4_hierachy,model_sch:sin...  \n",
       "9   /data/huze/tmp/he_sch:3_hierachy,model_sch:sin...  \n",
       "13  /data/huze/tmp/he_sch:3_hierachy,model_sch:sin...  \n",
       "14  /data/huze/tmp/he_sch:4_hierachy,model_sch:sin...  "
      ]
     },
     "execution_count": 34,
     "metadata": {},
     "output_type": "execute_result"
    }
   ],
   "source": [
    "filtered_df"
   ]
  },
  {
   "cell_type": "code",
   "execution_count": 35,
   "id": "4dd288bf",
   "metadata": {},
   "outputs": [],
   "source": [
    "for i_row, row in filtered_df.iterrows():\n",
    "    path = row.path\n",
    "    name = path.name.replace('-prediction.pt', '')\n",
    "    \n",
    "    prediction = torch.load(path)\n",
    "    prediction = prediction[1000:].float().numpy()\n",
    "\n",
    "    algonauts2021_submission_from_whole_brain_prediction('../src/config/dataset',\n",
    "                                                        name,\n",
    "                                                        prediction,\n",
    "                                                        output_dir='./submissions/')"
   ]
  },
  {
   "cell_type": "code",
   "execution_count": null,
   "id": "306a60f4",
   "metadata": {},
   "outputs": [],
   "source": []
  },
  {
   "cell_type": "code",
   "execution_count": 41,
   "id": "6eb50dfc",
   "metadata": {},
   "outputs": [],
   "source": [
    "d = {\n",
    "  \"WB\": 0.06,\n",
    "  \"MC2\": 0.12,\n",
    "  \"SMC2\": 0.0105,\n",
    "  \"EBA\": 0.18,\n",
    "  \"STS\": 0.105,\n",
    "  \"V3\": 0.15,\n",
    "  \"REST\": 0.06,\n",
    "  \"V4\": 0.12,\n",
    "  \"V2\": 0.15,\n",
    "  \"V1\": 0.15,\n",
    "  \"PPA\": 0.105,\n",
    "  \"SC4\": 0.105,\n",
    "  \"LC3\": 0.105,\n",
    "  \"LC5\": 0.18,\n",
    "  \"SMC1\": 0.036,\n",
    "  \"LC4\": 0.21,\n",
    "  \"LOC\": 0.15,\n",
    "  \"FFA\": 0.135,\n",
    "  \"LC1\": 0.027,\n",
    "  \"SC3\": 0.135,\n",
    "  \"MC1\": 0.012,\n",
    "  \"LC2\": 0.15\n",
    "}"
   ]
  },
  {
   "cell_type": "code",
   "execution_count": 46,
   "id": "4b08db3a",
   "metadata": {},
   "outputs": [],
   "source": [
    "magic_lst = [0.09, 0.009, 0.15, 0.12, 0.045, 0.03, 0.105, 0.021]\n",
    "def closest(lst, K):\n",
    "    return lst[min(range(len(lst)), key = lambda i: abs(lst[i]-K))]"
   ]
  },
  {
   "cell_type": "code",
   "execution_count": 47,
   "id": "fbdb296a",
   "metadata": {},
   "outputs": [
    {
     "data": {
      "text/plain": [
       "{'WB': 0.045,\n",
       " 'MC2': 0.09,\n",
       " 'SMC2': 0.009,\n",
       " 'EBA': 0.15,\n",
       " 'STS': 0.09,\n",
       " 'V3': 0.12,\n",
       " 'REST': 0.045,\n",
       " 'V4': 0.09,\n",
       " 'V2': 0.12,\n",
       " 'V1': 0.12,\n",
       " 'PPA': 0.09,\n",
       " 'SC4': 0.09,\n",
       " 'LC3': 0.09,\n",
       " 'LC5': 0.15,\n",
       " 'SMC1': 0.03,\n",
       " 'LC4': 0.15,\n",
       " 'LOC': 0.12,\n",
       " 'FFA': 0.105,\n",
       " 'LC1': 0.021,\n",
       " 'SC3': 0.105,\n",
       " 'MC1': 0.009,\n",
       " 'LC2': 0.12}"
      ]
     },
     "execution_count": 47,
     "metadata": {},
     "output_type": "execute_result"
    }
   ],
   "source": [
    "{k:closest(magic_lst, v*0.81) for k,v in d.items()}"
   ]
  },
  {
   "cell_type": "code",
   "execution_count": null,
   "id": "d467dd7d",
   "metadata": {},
   "outputs": [],
   "source": [
    "250*1024/11"
   ]
  },
  {
   "cell_type": "code",
   "execution_count": null,
   "id": "73e0f997",
   "metadata": {},
   "outputs": [],
   "source": []
  }
 ],
 "metadata": {
  "kernelspec": {
   "display_name": "Python 3 (ipykernel)",
   "language": "python",
   "name": "python3"
  },
  "language_info": {
   "codemirror_mode": {
    "name": "ipython",
    "version": 3
   },
   "file_extension": ".py",
   "mimetype": "text/x-python",
   "name": "python",
   "nbconvert_exporter": "python",
   "pygments_lexer": "ipython3",
   "version": "3.8.8"
  }
 },
 "nbformat": 4,
 "nbformat_minor": 5
}
