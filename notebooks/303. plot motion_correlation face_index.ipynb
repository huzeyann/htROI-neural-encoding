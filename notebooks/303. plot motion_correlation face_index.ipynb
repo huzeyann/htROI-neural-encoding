{
 "cells": [
  {
   "cell_type": "code",
   "execution_count": 4,
   "id": "bdad67fd-b134-4e77-bb88-aeb732429a75",
   "metadata": {},
   "outputs": [
    {
     "data": {
      "text/plain": [
       "True"
      ]
     },
     "execution_count": 4,
     "metadata": {},
     "output_type": "execute_result"
    }
   ],
   "source": [
    "from pathlib import Path\n",
    "\n",
    "import numpy as np\n",
    "import torch\n",
    "\n",
    "from tqdm.auto import tqdm\n",
    "from tqdm.notebook import tqdm_notebook, trange\n",
    "\n",
    "import itertools\n",
    "\n",
    "import os\n",
    "from dotenv import find_dotenv, load_dotenv\n",
    "\n",
    "load_dotenv(find_dotenv(), verbose=True)"
   ]
  },
  {
   "cell_type": "markdown",
   "id": "02e8404d-268e-453e-8797-f03f8177248b",
   "metadata": {},
   "source": [
    "# prepare data"
   ]
  },
  {
   "cell_type": "code",
   "execution_count": 5,
   "id": "cefb1562-ed2c-413b-b194-ae198733907f",
   "metadata": {},
   "outputs": [],
   "source": [
    "from src.config.config import combine_cfgs, get_cfg_defaults\n",
    "from src.data.datamodule import MyDataModule"
   ]
  },
  {
   "cell_type": "code",
   "execution_count": 10,
   "id": "d54093ac-06df-4879-abab-c1281fb00820",
   "metadata": {},
   "outputs": [
    {
     "data": {
      "application/vnd.jupyter.widget-view+json": {
       "model_id": "acfca088bfcf4db9819bb40f059ee5b7",
       "version_major": 2,
       "version_minor": 0
      },
      "text/plain": [
       "  0%|          | 0/1000 [00:00<?, ?it/s]"
      ]
     },
     "metadata": {},
     "output_type": "display_data"
    }
   ],
   "source": [
    "# prepare train and validation data\n",
    "cfg = combine_cfgs('../src/config/experiments/algonauts2021_i3d_flow.yml')\n",
    "dm = MyDataModule(cfg)\n",
    "dm.prepare_data()\n",
    "dm.setup()\n",
    "\n",
    "cache_path = Path('/data_smr/huze/.cache/trainval_fmris.pt')\n",
    "\n",
    "if cache_path.exists():\n",
    "    fmris = torch.load(cache_path)\n",
    "else:\n",
    "    fmris = [dm.dataset_train_val.__getitem__(i)[1] \n",
    "             for i in tqdm(range(dm.dataset_train_val.__len__()))]\n",
    "    fmris = np.stack(fmris, 0)\n",
    "    fmris = torch.tensor(fmris)\n",
    "    torch.save(fmris, cache_path)"
   ]
  },
  {
   "cell_type": "code",
   "execution_count": 11,
   "id": "f2577d47-f99a-4232-9eaf-6924faddcde4",
   "metadata": {},
   "outputs": [
    {
     "name": "stdout",
     "output_type": "stream",
     "text": [
      "torch.Size([1000, 161326])\n"
     ]
    }
   ],
   "source": [
    "print(fmris.shape)"
   ]
  },
  {
   "cell_type": "code",
   "execution_count": 12,
   "id": "93ca8abf-56d9-4034-a1d3-545e2e518b4f",
   "metadata": {},
   "outputs": [],
   "source": [
    "voxel_masks = np.load(dm.dataset_train_val.root_dir.joinpath(Path('processed/voxel_masks.npy')))"
   ]
  },
  {
   "cell_type": "code",
   "execution_count": 13,
   "id": "a7c3dc33-9db7-4c30-aeb4-7dd830ec01d5",
   "metadata": {},
   "outputs": [],
   "source": [
    "from src.utils.visulization import save_as_nii\n",
    "\n",
    "reliable_voxel_mask_mean_sub = voxel_masks.sum(0)\n",
    "reliable_voxel_mask_mean_sub[reliable_voxel_mask_mean_sub > 0] = 1\n",
    "reliable_voxel_mask_mean_sub = reliable_voxel_mask_mean_sub.astype(np.int8)\n",
    "reliable_voxel_mask_path = Path('./tmp/reliable_voxel_mask.nii')\n",
    "save_as_nii('./tmp/example.nii', reliable_voxel_mask_path, reliable_voxel_mask_mean_sub)"
   ]
  },
  {
   "cell_type": "code",
   "execution_count": 13,
   "id": "11739474-8e92-4ad5-a6e2-9ef8dcdbacaa",
   "metadata": {},
   "outputs": [],
   "source": [
    "predictions_dict = {\n",
    "    'ResNet(2+1)D,layer=x5,roi=WB': Path(\n",
    "        '/data_smr/huze/projects/my_algonauts/predictions/ae4448ceac1f498495e62636b9aec00c/WB.pt'),\n",
    "    'Inflated3D,layer=(x1,x2,x3,x4),roi=WB': Path(\n",
    "        \"/data/huze/ray_results/algonauts2021/algonauts2021_i3d_rgb-multi_layer/run_single_tune_config_575a8_00066_66_DATASET.ROI=WB,MODEL.BACKBONE.LAYERS=_'x1', 'x2', 'x3', 'x4'_,MODEL.BACKBONE.LAYER_PATHWAYS=_2022-02-26_14-18-59/prediction.npy\"),\n",
    "    'best': Path('no'),\n",
    "}"
   ]
  },
  {
   "cell_type": "code",
   "execution_count": 14,
   "id": "fc5d9ec0-ce0b-40b5-8f6d-289668a8b7b7",
   "metadata": {
    "collapsed": false,
    "jupyter": {
     "outputs_hidden": false
    },
    "pycharm": {
     "name": "#%%\n"
    }
   },
   "outputs": [],
   "source": [
    "predictions_dict = {k: path for k, path in predictions_dict.items() if path.exists()}\n",
    "assert len(predictions_dict) > 1"
   ]
  }
 ],
 "metadata": {
  "kernelspec": {
   "display_name": "Python 3 (ipykernel)",
   "language": "python",
   "name": "python3"
  },
  "language_info": {
   "codemirror_mode": {
    "name": "ipython",
    "version": 3
   },
   "file_extension": ".py",
   "mimetype": "text/x-python",
   "name": "python",
   "nbconvert_exporter": "python",
   "pygments_lexer": "ipython3",
   "version": "3.8.8"
  }
 },
 "nbformat": 4,
 "nbformat_minor": 5
}
