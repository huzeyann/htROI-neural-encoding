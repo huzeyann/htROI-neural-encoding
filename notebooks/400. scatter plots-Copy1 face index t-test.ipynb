{
 "cells": [
  {
   "cell_type": "code",
   "execution_count": 1,
   "metadata": {
    "collapsed": false,
    "jupyter": {
     "outputs_hidden": false
    },
    "pycharm": {
     "name": "#%%\n"
    }
   },
   "outputs": [
    {
     "data": {
      "text/plain": [
       "True"
      ]
     },
     "execution_count": 1,
     "metadata": {},
     "output_type": "execute_result"
    }
   ],
   "source": [
    "from pathlib import Path\n",
    "\n",
    "import numpy as np\n",
    "import torch\n",
    "\n",
    "from tqdm.auto import tqdm\n",
    "from tqdm.notebook import tqdm_notebook, trange\n",
    "\n",
    "import itertools\n",
    "\n",
    "import os\n",
    "from dotenv import find_dotenv, load_dotenv\n",
    "\n",
    "load_dotenv(find_dotenv(), verbose=True)"
   ]
  },
  {
   "cell_type": "code",
   "execution_count": 2,
   "metadata": {
    "collapsed": false,
    "jupyter": {
     "outputs_hidden": false
    },
    "pycharm": {
     "name": "#%%\n"
    }
   },
   "outputs": [],
   "source": [
    "debug = True"
   ]
  },
  {
   "cell_type": "markdown",
   "metadata": {},
   "source": [
    "# prepare data"
   ]
  },
  {
   "cell_type": "code",
   "execution_count": 3,
   "metadata": {
    "collapsed": false,
    "jupyter": {
     "outputs_hidden": false
    },
    "pycharm": {
     "name": "#%%\n"
    }
   },
   "outputs": [],
   "source": [
    "from src.config.config import combine_cfgs, get_cfg_defaults\n",
    "from src.data.datamodule import MyDataModule"
   ]
  },
  {
   "cell_type": "code",
   "execution_count": 4,
   "metadata": {
    "collapsed": false,
    "jupyter": {
     "outputs_hidden": false
    },
    "pycharm": {
     "name": "#%%\n"
    }
   },
   "outputs": [],
   "source": [
    "# prepare train and validation data\n",
    "cfg = combine_cfgs('../src/config/experiments/algonauts2021_i3d_flow.yml')\n",
    "dm = MyDataModule(cfg)\n",
    "dm.prepare_data()\n",
    "dm.setup()\n",
    "\n",
    "fmris_cache_path = Path('/data_smr/huze/.cache/trainval_fmris.pt')\n",
    "\n",
    "if fmris_cache_path.exists():\n",
    "    fmris = torch.load(fmris_cache_path)\n",
    "else:\n",
    "    fmris = [dm.dataset_train_val.__getitem__(i)[1]\n",
    "             for i in tqdm(range(dm.dataset_train_val.__len__()))]\n",
    "    fmris = np.stack(fmris, 0)\n",
    "    fmris = torch.tensor(fmris)\n",
    "    torch.save(fmris, fmris_cache_path)"
   ]
  },
  {
   "cell_type": "code",
   "execution_count": 5,
   "metadata": {
    "collapsed": false,
    "jupyter": {
     "outputs_hidden": false
    },
    "pycharm": {
     "name": "#%%\n"
    }
   },
   "outputs": [],
   "source": [
    "# prepare validation data\n",
    "cfg = combine_cfgs('../src/config/experiments/algonauts2021_i3d_flow.yml')\n",
    "dm = MyDataModule(cfg)\n",
    "dm.prepare_data()\n",
    "dm.setup()\n",
    "\n",
    "val_indices = dm.val_dataset.indices\n",
    "\n",
    "cache_path = Path('/data_smr/huze/.cache/val_fmris.pt')\n",
    "\n",
    "if cache_path.exists():\n",
    "    val_fmris = torch.load(cache_path)\n",
    "else:\n",
    "    val_fmris = [dm.dataset_train_val.__getitem__(i)[1] for i in tqdm(val_indices)]\n",
    "    val_fmris = np.stack(val_fmris, 0)\n",
    "    val_fmris = torch.tensor(val_fmris)\n",
    "    torch.save(val_fmris, cache_path)"
   ]
  },
  {
   "cell_type": "code",
   "execution_count": 6,
   "metadata": {
    "collapsed": false,
    "jupyter": {
     "outputs_hidden": false
    },
    "pycharm": {
     "name": "#%%\n"
    }
   },
   "outputs": [
    {
     "name": "stdout",
     "output_type": "stream",
     "text": [
      "torch.Size([1000, 161326]) torch.Size([100, 161326])\n"
     ]
    }
   ],
   "source": [
    "print(fmris.shape, val_fmris.shape)"
   ]
  },
  {
   "cell_type": "markdown",
   "metadata": {
    "pycharm": {
     "name": "#%% md\n"
    }
   },
   "source": [
    "predictions_dict = {\n",
    "    # from previous project, notebook 'plot mc fi score, maybe final'\n",
    "    'Baseline,VGG16 2D + LSTM,NoEnsemble,layer=(x1,x2,x3,x4,x5),pathway=cascade,roi=WB': Path(\n",
    "        '/data_smr/huze/projects/my_algonauts/predictions/bc4bd42bc70d409daebe27f2c0fae255/WB.pt'),\n",
    "    # from notebook 1.\n",
    "    'Baseline,Inflated 3D Resnet,RGB stream,NoEnsemble,layer=(x1,x2,x3,x4),pathway=topdown,roi=WB': Path(\n",
    "        \"/data/huze/ray_results/algonauts2021/algonauts2021_i3d_rgb-multi_layer/run_single_tune_config_575a8_00066_66_DATASET.ROI=WB,MODEL.BACKBONE.LAYERS=_'x1', 'x2', 'x3', 'x4'_,MODEL.BACKBONE.LAYER_PATHWAYS=_2022-02-26_14-18-59/prediction.npy\"),\n",
    "    # from notebook 900.\n",
    "    'Best,Inflated 3D Resnet,HierarchicalEnsemble,RGB stream + FLOW stream,ROIxkROI': Path(\n",
    "        '/data/huze/ray_results/algonauts2021/ensemble_outputs/he_sch=H3,model_sch=single_layer&i3d_rgb+i3d_flow,roi_sch=ROIxSMC,cross_roi_sch=croi_ensemble-prediction.pt'),\n",
    "}\n",
    "\n",
    "# from notebook 900. submission output\n",
    "# submission_scores = [0.2318629775, 0.3216765311, 0.3823963473]\n",
    "# submission_score_dict = {k: v for k, v in zip(list(predictions_dict.keys()), submission_scores)}\n",
    "predictions_dict = {k: path for k, path in predictions_dict.items() if path.exists()}\n",
    "assert len(predictions_dict) > 1"
   ]
  },
  {
   "cell_type": "code",
   "execution_count": 7,
   "metadata": {
    "collapsed": false,
    "jupyter": {
     "outputs_hidden": false
    },
    "pycharm": {
     "name": "#%%\n"
    }
   },
   "outputs": [],
   "source": [
    "# load from notebook 301. 302. (cross-notebook-ref)\n",
    "chaotic_motions = torch.tensor(np.load('./tmp/chaotic_motion.npy'))\n",
    "# chaotic_motions = chaotic_motions.unsqueeze(0)\n",
    "face_counts = np.load('./tmp/face_counts.npy')\n",
    "yes_face_vid_idxs = face_counts.max(-1).nonzero()[0]"
   ]
  },
  {
   "cell_type": "code",
   "execution_count": 8,
   "metadata": {
    "collapsed": false,
    "jupyter": {
     "outputs_hidden": false
    },
    "pycharm": {
     "name": "#%%\n"
    }
   },
   "outputs": [],
   "source": [
    "from src.utils.analysis import *"
   ]
  },
  {
   "cell_type": "code",
   "execution_count": 9,
   "metadata": {
    "collapsed": false,
    "jupyter": {
     "outputs_hidden": false
    },
    "pycharm": {
     "name": "#%%\n"
    }
   },
   "outputs": [],
   "source": [
    "from matplotlib import pyplot as plt\n",
    "import pandas as pd\n",
    "import seaborn as sns"
   ]
  },
  {
   "cell_type": "code",
   "execution_count": 65,
   "metadata": {},
   "outputs": [],
   "source": [
    "import scipy\n",
    "\n",
    "def get_face_index(vid_idxs: np.array, fmris: Tensor, yes_face_vid_idxs: np.array):\n",
    "    # shape: fmri  [num_videos, num_voxels]\n",
    "\n",
    "    no_face_fmris = []\n",
    "    yes_face_fmris = []\n",
    "    for vid_idx in vid_idxs:\n",
    "        vid_idx = vid_idx\n",
    "        fmri = fmris[vid_idx]\n",
    "        if vid_idx in yes_face_vid_idxs:\n",
    "            yes_face_fmris.append(fmri)\n",
    "        else:\n",
    "            no_face_fmris.append(fmri)\n",
    "    no_face_fmris = torch.stack(no_face_fmris).cpu().numpy()\n",
    "    yes_face_fmris = torch.stack(yes_face_fmris).cpu().numpy()\n",
    "    # return yes_face_fmris, no_face_fmris\n",
    "\n",
    "    t_statistic, p_value = scipy.stats.ttest_ind(yes_face_fmris, no_face_fmris, axis=0)\n",
    "    \n",
    "    return p_value\n",
    "#     y_means = yes_face_fmris.mean(0, keepdim=True)\n",
    "#     n_means = no_face_fmris.mean(0, keepdim=True)\n",
    "#     all_fmri_maxs = fmris[vid_idxs].max(0, keepdim=True)[0]\n",
    "#     all_fmri_mins = fmris[vid_idxs].min(0, keepdim=True)[0]\n",
    "#     face_indexs = (y_means - n_means) / (all_fmri_maxs - all_fmri_mins)\n",
    "#     face_indexs = face_indexs[0]\n",
    "\n",
    "#     return face_indexs.cpu().numpy()"
   ]
  },
  {
   "cell_type": "raw",
   "metadata": {},
   "source": [
    "yes_face_fmris, no_face_fmris = get_face_index(val_indices, fmris, yes_face_vid_idxs)"
   ]
  },
  {
   "cell_type": "raw",
   "metadata": {},
   "source": [
    "yes_face_fmris.shape[0]"
   ]
  },
  {
   "cell_type": "raw",
   "metadata": {},
   "source": [
    "import scipy"
   ]
  },
  {
   "cell_type": "raw",
   "metadata": {},
   "source": [
    "t_statistic, p_value = scipy.stats.ttest_ind(yes_face_fmris, no_face_fmris, axis=0)"
   ]
  },
  {
   "cell_type": "raw",
   "metadata": {},
   "source": [
    "sns.displot(p_value)"
   ]
  },
  {
   "cell_type": "raw",
   "metadata": {},
   "source": [
    "sns.displot(t_statistic)"
   ]
  },
  {
   "cell_type": "raw",
   "metadata": {},
   "source": [
    "sns.displot(yes_face_fmris[:, 0])"
   ]
  },
  {
   "cell_type": "raw",
   "metadata": {},
   "source": [
    "sns.displot(no_face_fmris[:, 0])"
   ]
  },
  {
   "cell_type": "markdown",
   "metadata": {
    "pycharm": {
     "name": "#%% md\n"
    }
   },
   "source": [
    "# load models"
   ]
  },
  {
   "cell_type": "code",
   "execution_count": 66,
   "metadata": {
    "collapsed": false,
    "jupyter": {
     "outputs_hidden": false
    },
    "pycharm": {
     "name": "#%%\n"
    }
   },
   "outputs": [],
   "source": [
    "all_df_data = []"
   ]
  },
  {
   "cell_type": "code",
   "execution_count": 67,
   "metadata": {
    "collapsed": false,
    "jupyter": {
     "outputs_hidden": false
    },
    "pycharm": {
     "name": "#%%\n"
    }
   },
   "outputs": [],
   "source": [
    "# from previous project, notebook 'plot mc fi score, maybe final'\n",
    "try:\n",
    "    legacy_run_df = pd.read_csv('./tmp/old_ft_run_df.csv')\n",
    "    # VGG16 2D + LSTM\n",
    "    legacy_run_df = legacy_run_df[legacy_run_df.backbone_type == 'bdcn_edge'].sort_values('score', ascending=False)[:]\n",
    "    legacy_run_df['path'] = legacy_run_df['task_id'].apply(\n",
    "        lambda task_id: f'/data_smr/huze/projects/my_algonauts/predictions/{task_id}/WB.pt')\n",
    "\n",
    "    for path in legacy_run_df['path']:\n",
    "        all_df_data.append({\n",
    "            'model_sch': 'VGG16 2D + LSTM, multi-layer',\n",
    "            'path': Path(path),\n",
    "        })\n",
    "\n",
    "except FileNotFoundError:\n",
    "    ..."
   ]
  },
  {
   "cell_type": "code",
   "execution_count": 68,
   "metadata": {
    "collapsed": false,
    "jupyter": {
     "outputs_hidden": false
    },
    "pycharm": {
     "name": "#%%\n"
    }
   },
   "outputs": [],
   "source": [
    "# from notebook 1. (cross-notebook-ref)"
   ]
  },
  {
   "cell_type": "code",
   "execution_count": 69,
   "metadata": {
    "collapsed": false,
    "jupyter": {
     "outputs_hidden": false
    },
    "pycharm": {
     "name": "#%%\n"
    }
   },
   "outputs": [
    {
     "data": {
      "application/vnd.jupyter.widget-view+json": {
       "model_id": "a0ed055087654b928954d5cd2f10561b",
       "version_major": 2,
       "version_minor": 0
      },
      "text/plain": [
       "  0%|          | 0/1496 [00:00<?, ?it/s]"
      ]
     },
     "metadata": {},
     "output_type": "display_data"
    }
   ],
   "source": [
    "import yaml\n",
    "from yaml import CLoader\n",
    "import json\n",
    "import pandas as pd\n",
    "from src.config.config import flatten\n",
    "\n",
    "results_dir = Path('/data/huze/ray_results/algonauts2021')\n",
    "finished_runs = [path.parent for path in results_dir.glob('**/prediction.npy')]\n",
    "\n",
    "run_meta_infos = []\n",
    "for run_dir in tqdm(finished_runs):\n",
    "    hparams = yaml.load(run_dir.joinpath('hparams.yaml').open(), Loader=CLoader)\n",
    "    run_meta_info = flatten(hparams)\n",
    "    run_meta_info['path'] = run_dir\n",
    "\n",
    "    data = [json.loads(line) for line in run_dir.joinpath('result.json').open()]\n",
    "    ddf = pd.DataFrame(data)\n",
    "    run_meta_info['score'] = ddf.val_corr.max()\n",
    "    run_meta_info['time'] = ddf.time_total_s.max()\n",
    "\n",
    "    run_meta_infos.append(run_meta_info)\n",
    "\n",
    "run_df = pd.DataFrame(run_meta_infos)\n",
    "\n",
    "# fix list unhashable\n",
    "run_df['MODEL.BACKBONE.LAYERS'] = run_df['MODEL.BACKBONE.LAYERS'].apply(lambda x: tuple(x))\n",
    "run_df['MODEL.NECK.SPP_LEVELS'] = run_df['MODEL.NECK.SPP_LEVELS'].apply(lambda x: tuple(x))"
   ]
  },
  {
   "cell_type": "code",
   "execution_count": 70,
   "metadata": {
    "collapsed": false,
    "jupyter": {
     "outputs_hidden": false
    },
    "pycharm": {
     "name": "#%%\n"
    }
   },
   "outputs": [
    {
     "data": {
      "application/vnd.jupyter.widget-view+json": {
       "model_id": "5c5f28434a2348d6bc6812f0c0bcec88",
       "version_major": 2,
       "version_minor": 0
      },
      "text/plain": [
       "0it [00:00, ?it/s]"
      ]
     },
     "metadata": {},
     "output_type": "display_data"
    }
   ],
   "source": [
    "for i_row, row in tqdm(run_df.iterrows()):\n",
    "    if row['DATASET.ROI'] != 'WB': continue\n",
    "\n",
    "    model_sch = row['MODEL.BACKBONE.NAME'].upper().replace('_', ' ').replace('I3D', 'Inflated 3D Resnet')\n",
    "    model_sch += ', '\n",
    "    model_sch += 'multi-layer' if len(row['MODEL.BACKBONE.LAYERS']) > 1 else 'single-layer'\n",
    "\n",
    "    all_df_data.append({\n",
    "        'model_sch': model_sch,\n",
    "        'path': row.path.joinpath(Path('prediction.npy')),\n",
    "    })"
   ]
  },
  {
   "cell_type": "code",
   "execution_count": 71,
   "metadata": {
    "collapsed": false,
    "jupyter": {
     "outputs_hidden": false
    },
    "pycharm": {
     "name": "#%%\n"
    }
   },
   "outputs": [],
   "source": [
    "predictions_dict = {\n",
    "    # from previous project, notebook 'plot mc fi score, maybe final'\n",
    "    'Baseline,VGG16 2D + LSTM': Path(\n",
    "        '/data_smr/huze/projects/my_algonauts/predictions/bc4bd42bc70d409daebe27f2c0fae255/WB.pt'),\n",
    "    # from notebook 1.\n",
    "    'Baseline,Inflated 3D Resnet FLOW': Path(\n",
    "        \"/data/huze/ray_results/algonauts2021/algonauts2021_i3d_flow-single_layer/run_single_tune_config_135f2_00396_396_DATASET.ROI=WB,MODEL.BACKBONE.LAYERS=_'x3',_,MODEL.BACKBONE.LAYER_PATHWAYS=none,MODEL.NECK._2022-02-25_09-51-08/prediction.npy\"),\n",
    "    # from notebook 1.\n",
    "    'Baseline,Inflated 3D Resnet RGB': Path(\n",
    "        \"/data/huze/ray_results/algonauts2021/algonauts2021_i3d_rgb-multi_layer/run_single_tune_config_575a8_00066_66_DATASET.ROI=WB,MODEL.BACKBONE.LAYERS=_'x1', 'x2', 'x3', 'x4'_,MODEL.BACKBONE.LAYER_PATHWAYS=_2022-02-26_14-18-59/prediction.npy\"),\n",
    "    # from notebook 900.\n",
    "    'Best': Path(\n",
    "        '/data/huze/ray_results/algonauts2021/ensemble_outputs/he_sch=H3,model_sch=single_layer&i3d_rgb+i3d_flow,roi_sch=ROIxSMC,cross_roi_sch=croi_ensemble-prediction.pt'),\n",
    "}\n",
    "\n",
    "# from notebook 900. submission output\n",
    "# submission_scores = [0.2318629775, 0.3216765311, 0.3823963473]\n",
    "# submission_score_dict = {k: v for k, v in zip(list(predictions_dict.keys()), submission_scores)}\n",
    "predictions_dict = {k: path for k, path in predictions_dict.items() if path.exists()}\n",
    "assert len(predictions_dict) > 1\n",
    "\n",
    "for k, v in predictions_dict.items():\n",
    "    all_df_data.append({\n",
    "        'model_sch': k,\n",
    "        'path': v,\n",
    "    })"
   ]
  },
  {
   "cell_type": "code",
   "execution_count": null,
   "metadata": {
    "collapsed": false,
    "jupyter": {
     "outputs_hidden": false
    },
    "pycharm": {
     "name": "#%%\n"
    }
   },
   "outputs": [],
   "source": []
  },
  {
   "cell_type": "code",
   "execution_count": 72,
   "metadata": {
    "collapsed": false,
    "jupyter": {
     "outputs_hidden": false
    },
    "pycharm": {
     "name": "#%%\n"
    }
   },
   "outputs": [],
   "source": [
    "all_df = pd.DataFrame(all_df_data)"
   ]
  },
  {
   "cell_type": "code",
   "execution_count": 73,
   "metadata": {
    "collapsed": false,
    "jupyter": {
     "outputs_hidden": false
    },
    "pycharm": {
     "name": "#%%\n"
    }
   },
   "outputs": [
    {
     "name": "stdout",
     "output_type": "stream",
     "text": [
      "['VGG16 2D + LSTM, multi-layer' 'Inflated 3D Resnet RGB, single-layer'\n",
      " 'Inflated 3D Resnet FLOW, single-layer'\n",
      " 'Inflated 3D Resnet RGB, multi-layer'\n",
      " 'Inflated 3D Resnet FLOW, multi-layer' 'Baseline,VGG16 2D + LSTM'\n",
      " 'Baseline,Inflated 3D Resnet FLOW' 'Baseline,Inflated 3D Resnet RGB'\n",
      " 'Best']\n",
      "142\n"
     ]
    }
   ],
   "source": [
    "print(all_df.model_sch.unique())\n",
    "print(len(all_df))"
   ]
  },
  {
   "cell_type": "code",
   "execution_count": null,
   "metadata": {
    "collapsed": false,
    "jupyter": {
     "outputs_hidden": false
    },
    "pycharm": {
     "name": "#%%\n"
    }
   },
   "outputs": [],
   "source": []
  },
  {
   "cell_type": "markdown",
   "metadata": {
    "pycharm": {
     "name": "#%% md\n"
    }
   },
   "source": [
    "# compute"
   ]
  },
  {
   "cell_type": "code",
   "execution_count": 74,
   "metadata": {
    "collapsed": false,
    "jupyter": {
     "outputs_hidden": false
    },
    "pycharm": {
     "name": "#%%\n"
    }
   },
   "outputs": [],
   "source": [
    "# on validation set, but internal variance on the whole set"
   ]
  },
  {
   "cell_type": "code",
   "execution_count": 75,
   "metadata": {
    "collapsed": false,
    "jupyter": {
     "outputs_hidden": false
    },
    "pycharm": {
     "name": "#%%\n"
    }
   },
   "outputs": [],
   "source": [
    "from src.utils.metrics import vectorized_correlation"
   ]
  },
  {
   "cell_type": "code",
   "execution_count": 76,
   "metadata": {
    "collapsed": false,
    "jupyter": {
     "outputs_hidden": false
    },
    "pycharm": {
     "name": "#%%\n"
    }
   },
   "outputs": [],
   "source": [
    "device = 7"
   ]
  },
  {
   "cell_type": "code",
   "execution_count": 77,
   "metadata": {
    "collapsed": false,
    "jupyter": {
     "outputs_hidden": false
    },
    "pycharm": {
     "name": "#%%\n"
    }
   },
   "outputs": [],
   "source": [
    "chaotic_motions = chaotic_motions.to(device)\n",
    "fmris = fmris.to(device)\n",
    "val_fmris = val_fmris.to(device)"
   ]
  },
  {
   "cell_type": "code",
   "execution_count": null,
   "metadata": {},
   "outputs": [],
   "source": []
  },
  {
   "cell_type": "code",
   "execution_count": 78,
   "metadata": {},
   "outputs": [],
   "source": [
    "rois = ['WB']\n",
    "voxel_indices = torch.cat([torch.load(os.path.join(cfg.DATASET.VOXEL_INDEX_DIR, f'{roi}.pt')) for roi in rois])\n",
    "voxel_indices = voxel_indices.sort().values"
   ]
  },
  {
   "cell_type": "code",
   "execution_count": null,
   "metadata": {},
   "outputs": [],
   "source": []
  },
  {
   "cell_type": "code",
   "execution_count": 79,
   "metadata": {
    "collapsed": false,
    "jupyter": {
     "outputs_hidden": false
    },
    "pycharm": {
     "name": "#%%\n"
    }
   },
   "outputs": [],
   "source": [
    "num_fmris = dm.dataset_train_val.__len__()\n",
    "\n",
    "gt_fmris = fmris\n",
    "# gt_motion_correlation = get_motion_correlation(chaotic_motions[val_indices], gt_fmris[val_indices])\n",
    "gt_face_index = get_face_index(val_indices, gt_fmris[:, voxel_indices], yes_face_vid_idxs)\n",
    "# gt_r1 = upper_tri_masking(my_corrcoef(val_fmris))\n",
    "\n",
    "# gt_motion_correlation_internal_variance = get_sequential_internal_variance_motion_correlation(\n",
    "#     chaotic_motions, gt_fmris).mean()\n",
    "gt_face_index_internal_variance = get_sequential_internal_variance_face_index(\n",
    "    gt_fmris[:, voxel_indices], yes_face_vid_idxs).mean()"
   ]
  },
  {
   "cell_type": "code",
   "execution_count": 80,
   "metadata": {
    "collapsed": false,
    "jupyter": {
     "outputs_hidden": false
    },
    "pycharm": {
     "name": "#%%\n"
    }
   },
   "outputs": [
    {
     "data": {
      "application/vnd.jupyter.widget-view+json": {
       "model_id": "41a2fe23faa14cf0b0f2ee6590eae095",
       "version_major": 2,
       "version_minor": 0
      },
      "text/plain": [
       "  0%|          | 0/142 [00:00<?, ?it/s]"
      ]
     },
     "metadata": {},
     "output_type": "display_data"
    }
   ],
   "source": [
    "res_dicts = []\n",
    "for i_row, row in tqdm(all_df.iterrows(), total=len(all_df)):\n",
    "    path = row.path\n",
    "    if path.name.endswith('.pt'):\n",
    "        prediction = torch.load(path).float()\n",
    "    else:\n",
    "        prediction = torch.tensor(np.load(path)).float()\n",
    "\n",
    "    prediction = prediction.to(device)\n",
    "\n",
    "    prediction = prediction[:num_fmris]\n",
    "    # motion_correlation = get_motion_correlation(chaotic_motions[val_indices], prediction[val_indices])\n",
    "    face_index = get_face_index(val_indices, prediction[:, voxel_indices], yes_face_vid_idxs)\n",
    "\n",
    "    # part 0 - validation score\n",
    "    val_score = vectorized_correlation(prediction[val_indices][:, voxel_indices], val_fmris[:, voxel_indices]).mean().cpu().item()\n",
    "\n",
    "    # part 1 - mc/fi score\n",
    "    # motion_correlation_score = np.corrcoef(motion_correlation, gt_motion_correlation)[0, 1]\n",
    "    face_index_score = np.corrcoef(face_index, gt_face_index)[0, 1]\n",
    "    # print(motion_correlation_score, face_index_score)\n",
    "\n",
    "    # part 2 - mf/fi variance\n",
    "    # motion_correlation_internal_variance = get_sequential_internal_variance_motion_correlation(\n",
    "    #     chaotic_motions, prediction).mean()\n",
    "    face_index_internal_variance = get_sequential_internal_variance_face_index(\n",
    "        prediction[:, voxel_indices], yes_face_vid_idxs).mean()\n",
    "    # print(motion_correlation_internal_variance, face_index_internal_variance)\n",
    "\n",
    "    # part 3 - rsa score\n",
    "    # r1 = upper_tri_masking(my_corrcoef(prediction[val_indices]))\n",
    "    # rsa_score = my_corrcoef(torch.stack([r1, gt_r1]))[0, 1].cpu().item()\n",
    "    # print(rsa_score)\n",
    "\n",
    "    res_dicts.append({\n",
    "        'val_score': val_score,\n",
    "        # 'rsa_score': rsa_score,\n",
    "        # 'motion_correlation_internal_variance': motion_correlation_internal_variance,\n",
    "        'face_index_internal_variance': face_index_internal_variance,\n",
    "        # 'motion_correlation_score': motion_correlation_score,\n",
    "        'face_index_score': face_index_score,\n",
    "    })"
   ]
  },
  {
   "cell_type": "code",
   "execution_count": 81,
   "metadata": {
    "collapsed": false,
    "jupyter": {
     "outputs_hidden": false
    },
    "pycharm": {
     "name": "#%%\n"
    }
   },
   "outputs": [],
   "source": [
    "res_df = pd.DataFrame(res_dicts)"
   ]
  },
  {
   "cell_type": "code",
   "execution_count": 82,
   "metadata": {},
   "outputs": [],
   "source": [
    "res_df = all_df.join(res_df)"
   ]
  },
  {
   "cell_type": "raw",
   "metadata": {
    "jupyter": {
     "outputs_hidden": false
    },
    "pycharm": {
     "name": "#%%\n"
    }
   },
   "source": [
    "res_df.to_csv('./tmp/scatter_res_df.csv')"
   ]
  },
  {
   "cell_type": "raw",
   "metadata": {},
   "source": [
    "res_df = pd.read_csv('./tmp/scatter_res_df.csv')"
   ]
  },
  {
   "cell_type": "code",
   "execution_count": 83,
   "metadata": {
    "collapsed": false,
    "jupyter": {
     "outputs_hidden": false
    },
    "pycharm": {
     "name": "#%%\n"
    }
   },
   "outputs": [
    {
     "data": {
      "text/html": [
       "<div>\n",
       "<style scoped>\n",
       "    .dataframe tbody tr th:only-of-type {\n",
       "        vertical-align: middle;\n",
       "    }\n",
       "\n",
       "    .dataframe tbody tr th {\n",
       "        vertical-align: top;\n",
       "    }\n",
       "\n",
       "    .dataframe thead th {\n",
       "        text-align: right;\n",
       "    }\n",
       "</style>\n",
       "<table border=\"1\" class=\"dataframe\">\n",
       "  <thead>\n",
       "    <tr style=\"text-align: right;\">\n",
       "      <th></th>\n",
       "      <th>model_sch</th>\n",
       "      <th>path</th>\n",
       "      <th>val_score</th>\n",
       "      <th>face_index_internal_variance</th>\n",
       "      <th>face_index_score</th>\n",
       "    </tr>\n",
       "  </thead>\n",
       "  <tbody>\n",
       "    <tr>\n",
       "      <th>0</th>\n",
       "      <td>VGG16 2D + LSTM, multi-layer</td>\n",
       "      <td>/data_smr/huze/projects/my_algonauts/predictio...</td>\n",
       "      <td>0.098714</td>\n",
       "      <td>0.061067</td>\n",
       "      <td>0.033885</td>\n",
       "    </tr>\n",
       "    <tr>\n",
       "      <th>1</th>\n",
       "      <td>VGG16 2D + LSTM, multi-layer</td>\n",
       "      <td>/data_smr/huze/projects/my_algonauts/predictio...</td>\n",
       "      <td>0.096834</td>\n",
       "      <td>0.064523</td>\n",
       "      <td>0.005631</td>\n",
       "    </tr>\n",
       "    <tr>\n",
       "      <th>2</th>\n",
       "      <td>VGG16 2D + LSTM, multi-layer</td>\n",
       "      <td>/data_smr/huze/projects/my_algonauts/predictio...</td>\n",
       "      <td>0.095441</td>\n",
       "      <td>0.061399</td>\n",
       "      <td>0.036763</td>\n",
       "    </tr>\n",
       "    <tr>\n",
       "      <th>3</th>\n",
       "      <td>VGG16 2D + LSTM, multi-layer</td>\n",
       "      <td>/data_smr/huze/projects/my_algonauts/predictio...</td>\n",
       "      <td>0.093370</td>\n",
       "      <td>0.054793</td>\n",
       "      <td>0.036701</td>\n",
       "    </tr>\n",
       "    <tr>\n",
       "      <th>4</th>\n",
       "      <td>VGG16 2D + LSTM, multi-layer</td>\n",
       "      <td>/data_smr/huze/projects/my_algonauts/predictio...</td>\n",
       "      <td>0.093215</td>\n",
       "      <td>0.057659</td>\n",
       "      <td>0.047279</td>\n",
       "    </tr>\n",
       "    <tr>\n",
       "      <th>...</th>\n",
       "      <td>...</td>\n",
       "      <td>...</td>\n",
       "      <td>...</td>\n",
       "      <td>...</td>\n",
       "      <td>...</td>\n",
       "    </tr>\n",
       "    <tr>\n",
       "      <th>137</th>\n",
       "      <td>Inflated 3D Resnet FLOW, multi-layer</td>\n",
       "      <td>/data/huze/ray_results/algonauts2021/algonauts...</td>\n",
       "      <td>0.120473</td>\n",
       "      <td>0.054965</td>\n",
       "      <td>0.020130</td>\n",
       "    </tr>\n",
       "    <tr>\n",
       "      <th>138</th>\n",
       "      <td>Baseline,VGG16 2D + LSTM</td>\n",
       "      <td>/data_smr/huze/projects/my_algonauts/predictio...</td>\n",
       "      <td>0.098714</td>\n",
       "      <td>0.061067</td>\n",
       "      <td>0.033885</td>\n",
       "    </tr>\n",
       "    <tr>\n",
       "      <th>139</th>\n",
       "      <td>Baseline,Inflated 3D Resnet FLOW</td>\n",
       "      <td>/data/huze/ray_results/algonauts2021/algonauts...</td>\n",
       "      <td>0.129725</td>\n",
       "      <td>0.057060</td>\n",
       "      <td>0.014717</td>\n",
       "    </tr>\n",
       "    <tr>\n",
       "      <th>140</th>\n",
       "      <td>Baseline,Inflated 3D Resnet RGB</td>\n",
       "      <td>/data/huze/ray_results/algonauts2021/algonauts...</td>\n",
       "      <td>0.147791</td>\n",
       "      <td>0.050209</td>\n",
       "      <td>0.048255</td>\n",
       "    </tr>\n",
       "    <tr>\n",
       "      <th>141</th>\n",
       "      <td>Best</td>\n",
       "      <td>/data/huze/ray_results/algonauts2021/ensemble_...</td>\n",
       "      <td>0.179763</td>\n",
       "      <td>0.051893</td>\n",
       "      <td>0.044147</td>\n",
       "    </tr>\n",
       "  </tbody>\n",
       "</table>\n",
       "<p>142 rows × 5 columns</p>\n",
       "</div>"
      ],
      "text/plain": [
       "                                model_sch  \\\n",
       "0            VGG16 2D + LSTM, multi-layer   \n",
       "1            VGG16 2D + LSTM, multi-layer   \n",
       "2            VGG16 2D + LSTM, multi-layer   \n",
       "3            VGG16 2D + LSTM, multi-layer   \n",
       "4            VGG16 2D + LSTM, multi-layer   \n",
       "..                                    ...   \n",
       "137  Inflated 3D Resnet FLOW, multi-layer   \n",
       "138              Baseline,VGG16 2D + LSTM   \n",
       "139      Baseline,Inflated 3D Resnet FLOW   \n",
       "140       Baseline,Inflated 3D Resnet RGB   \n",
       "141                                  Best   \n",
       "\n",
       "                                                  path  val_score  \\\n",
       "0    /data_smr/huze/projects/my_algonauts/predictio...   0.098714   \n",
       "1    /data_smr/huze/projects/my_algonauts/predictio...   0.096834   \n",
       "2    /data_smr/huze/projects/my_algonauts/predictio...   0.095441   \n",
       "3    /data_smr/huze/projects/my_algonauts/predictio...   0.093370   \n",
       "4    /data_smr/huze/projects/my_algonauts/predictio...   0.093215   \n",
       "..                                                 ...        ...   \n",
       "137  /data/huze/ray_results/algonauts2021/algonauts...   0.120473   \n",
       "138  /data_smr/huze/projects/my_algonauts/predictio...   0.098714   \n",
       "139  /data/huze/ray_results/algonauts2021/algonauts...   0.129725   \n",
       "140  /data/huze/ray_results/algonauts2021/algonauts...   0.147791   \n",
       "141  /data/huze/ray_results/algonauts2021/ensemble_...   0.179763   \n",
       "\n",
       "     face_index_internal_variance  face_index_score  \n",
       "0                        0.061067          0.033885  \n",
       "1                        0.064523          0.005631  \n",
       "2                        0.061399          0.036763  \n",
       "3                        0.054793          0.036701  \n",
       "4                        0.057659          0.047279  \n",
       "..                            ...               ...  \n",
       "137                      0.054965          0.020130  \n",
       "138                      0.061067          0.033885  \n",
       "139                      0.057060          0.014717  \n",
       "140                      0.050209          0.048255  \n",
       "141                      0.051893          0.044147  \n",
       "\n",
       "[142 rows x 5 columns]"
      ]
     },
     "execution_count": 83,
     "metadata": {},
     "output_type": "execute_result"
    }
   ],
   "source": [
    "res_df"
   ]
  },
  {
   "cell_type": "markdown",
   "metadata": {},
   "source": [
    "# nice scatter plot"
   ]
  },
  {
   "cell_type": "code",
   "execution_count": 84,
   "metadata": {},
   "outputs": [],
   "source": [
    "x_key = 'val_score'\n",
    "y_keys = ['face_index_internal_variance', 'face_index_score']\n",
    "labels = res_df['model_sch'].values"
   ]
  },
  {
   "cell_type": "code",
   "execution_count": 85,
   "metadata": {},
   "outputs": [],
   "source": [
    "def bigger_points(x):\n",
    "    if 'Baseline' in x:\n",
    "        return 30\n",
    "    elif 'Best' in x:\n",
    "        return 50\n",
    "    # elif 'multi-layer' in x:\n",
    "    #     return 5\n",
    "    else:\n",
    "        return 1"
   ]
  },
  {
   "cell_type": "code",
   "execution_count": 86,
   "metadata": {},
   "outputs": [],
   "source": [
    "res_df['size'] = res_df['model_sch'].apply(bigger_points)"
   ]
  },
  {
   "cell_type": "code",
   "execution_count": 87,
   "metadata": {},
   "outputs": [],
   "source": [
    "def alpha_points(x):\n",
    "    if 'Baseline' in x:\n",
    "        return 1.\n",
    "    elif 'Best' in x:\n",
    "        return 1.\n",
    "    elif 'multi-layer' in x:\n",
    "        return 0.8\n",
    "    else:\n",
    "        return 0.5"
   ]
  },
  {
   "cell_type": "code",
   "execution_count": 88,
   "metadata": {},
   "outputs": [],
   "source": [
    "res_df['alpha'] = res_df['model_sch'].apply(alpha_points)"
   ]
  },
  {
   "cell_type": "code",
   "execution_count": 89,
   "metadata": {},
   "outputs": [],
   "source": [
    "from matplotlib.font_manager import FontProperties\n",
    "import matplotlib\n",
    "\n",
    "font = FontProperties()\n",
    "# font.set_family('serif')\n",
    "# font.set_name('Times New Roman')\n",
    "font.set_style('italic')"
   ]
  },
  {
   "cell_type": "raw",
   "metadata": {},
   "source": [
    "for model_sch in res_df['model_sch'].unique():\n",
    "    df = res_df[res_df['model_sch'] == model_sch]\n",
    "    corr = np.corrcoef(df.val_score, df.face_index_score)[0, 1]\n",
    "    print('model_sch', model_sch)\n",
    "    print('R =', f'{corr:.3f}')"
   ]
  },
  {
   "cell_type": "code",
   "execution_count": 90,
   "metadata": {},
   "outputs": [],
   "source": [
    "r_palette_group = {\n",
    "    'deepskyblue': ['VGG16 2D + LSTM, multi-layer'],\n",
    "    'deeppink': ['Inflated 3D Resnet RGB, single-layer', 'Inflated 3D Resnet RGB, multi-layer'],\n",
    "    'green': ['Inflated 3D Resnet FLOW, single-layer', 'Inflated 3D Resnet FLOW, multi-layer'],\n",
    "}"
   ]
  },
  {
   "cell_type": "raw",
   "metadata": {},
   "source": [
    "res_df['model_sch'] = res_df['model_sch'].apply(lambda x: x[0])"
   ]
  },
  {
   "cell_type": "code",
   "execution_count": 91,
   "metadata": {},
   "outputs": [
    {
     "data": {
      "image/png": "[encoded data removed]",
      "text/plain": [
       "<Figure size 432x432 with 1 Axes>"
      ]
     },
     "metadata": {
      "needs_background": "light"
     },
     "output_type": "display_data"
    },
    {
     "data": {
      "image/png": "[encoded data removed]",
      "text/plain": [
       "<Figure size 406.3x248.4 with 1 Axes>"
      ]
     },
     "metadata": {
      "needs_background": "light"
     },
     "output_type": "display_data"
    },
    {
     "data": {
      "image/png": "[encoded data removed]",
      "text/plain": [
       "<Figure size 432x432 with 1 Axes>"
      ]
     },
     "metadata": {
      "needs_background": "light"
     },
     "output_type": "display_data"
    },
    {
     "data": {
      "image/png": "[encoded data removed]",
      "text/plain": [
       "<Figure size 406.3x248.4 with 1 Axes>"
      ]
     },
     "metadata": {
      "needs_background": "light"
     },
     "output_type": "display_data"
    }
   ],
   "source": [
    "xs = res_df[x_key].values\n",
    "for y_key in sorted(y_keys):\n",
    "    ys = res_df[y_key].values\n",
    "    \n",
    "    # for x, y, label in zip(xs, ys, labels):\n",
    "    #     plt.scatter(x, y, label=label)\n",
    "    # plt.legend()\n",
    "    # plt.show()\n",
    "    fig, ax = plt.subplots(1, 1, figsize=(6, 6))\n",
    "    sns.scatterplot(x=x_key, y=y_key, \n",
    "                    hue='model_sch', \n",
    "                    style='model_sch',\n",
    "                    size=res_df['size'].values.tolist(),\n",
    "                    sizes=(100, 500),\n",
    "                    palette=['deepskyblue', 'deeppink', 'green', 'deeppink', 'green', 'darkblue', 'darkgreen', 'darkred', 'black'],\n",
    "                    markers=['o', 's', 's', 'o', 'o', '^', '^', '^', 'X'],\n",
    "                    legend='auto',\n",
    "                    alpha=res_df['alpha'].values.tolist(),\n",
    "                    data=res_df)\n",
    "    \n",
    "    if y_key == 'motion_correlation_internal_variance':\n",
    "        ax.axhline(y=gt_motion_correlation_internal_variance, color='black', linestyle='-', alpha=.8)\n",
    "        ax.annotate('groud-truth fMRI', xy=(0.1, gt_motion_correlation_internal_variance), xytext=(0.068, gt_motion_correlation_internal_variance-0.01),\n",
    "            arrowprops=dict(facecolor='black', shrink=0.05), fontsize=20, fontproperties=font)\n",
    "    if y_key == 'face_index_internal_variance':\n",
    "        ax.axhline(y=gt_face_index_internal_variance, color='black', linestyle='-', alpha=.8)\n",
    "        ax.annotate('groud-truth fMRI', xy=(0.1, gt_face_index_internal_variance), xytext=(0.07, gt_face_index_internal_variance-0.004),\n",
    "            arrowprops=dict(facecolor='black', shrink=0.05), fontsize=20, fontproperties=font)\n",
    "    \n",
    "    # title, xy label\n",
    "    plt.xlabel('validation score', fontsize=24, fontproperties=font)\n",
    "    ylabel = y_key.replace('_', ' ')\n",
    "    if 'score' in ylabel:\n",
    "        ylabel = 'correlation score'\n",
    "    if 'internal variance' in ylabel:\n",
    "        ylabel = 'variance'\n",
    "    plt.ylabel(ylabel, fontsize=24, fontproperties=font)\n",
    "    title = y_key.replace('_', ' ').replace(' score', '').replace(' internal variance', '')\n",
    "    title = title.replace('rsa', 'RSA')\n",
    "    title += ' '\n",
    "    title += '-'.join(rois)\n",
    "    plt.title(title, fontsize=24, fontweight='bold', fontproperties=font)\n",
    "    \n",
    "    formatter = matplotlib.ticker.FormatStrFormatter('%1.2f')\n",
    "    locator = matplotlib.ticker.MaxNLocator(nbins=4)\n",
    "    ax.xaxis.set_major_locator(locator)\n",
    "    ax.xaxis.set_major_formatter(formatter)\n",
    "    \n",
    "    formatter = matplotlib.ticker.FormatStrFormatter('%1.2f')\n",
    "    locator = matplotlib.ticker.MaxNLocator(nbins=4)\n",
    "    ax.yaxis.set_major_locator(locator)\n",
    "    ax.yaxis.set_major_formatter(formatter)\n",
    "    \n",
    "    ax.tick_params(axis='both', which='major', labelsize=20)\n",
    "    \n",
    "    r = np.corrcoef(res_df[x_key], res_df[y_key])[0, 1]\n",
    "    ax.text(0.95, 0.01, f'R={r:.2f}',\n",
    "            verticalalignment='bottom', horizontalalignment='right',\n",
    "            transform=ax.transAxes,\n",
    "            color='black', fontsize=20, fontproperties=font)\n",
    "    \n",
    "    for i, (color, model_schs) in enumerate(r_palette_group.items()):\n",
    "        df = res_df\n",
    "        # df['model_sch'] = df['model_sch'].apply(lambda x: [x])\n",
    "        df = df[df['model_sch'].isin(model_schs)]\n",
    "        r = np.corrcoef(df.val_score, df.face_index_score)[0, 1]\n",
    "        ax.text(0.95, 0.01+(i+1)*0.05, f'R={r:.2f}',\n",
    "        verticalalignment='bottom', horizontalalignment='right',\n",
    "        transform=ax.transAxes,\n",
    "        color=color, fontsize=20, fontproperties=font)\n",
    "        \n",
    "    legend = ax.legend()\n",
    "    # order = [0, 1, 2, 3, 4, 5, 7, 6, 8]\n",
    "    legend_cols = 1\n",
    "    # new_handels = np.asarray(legend.legendHandles[:-3])\n",
    "    legend = ax.legend(*list(zip(*list(zip(*ax.get_legend_handles_labels()))[:-3])), \n",
    "                      bbox_to_anchor=(1.5,0.5), loc=\"center\", \n",
    "                        bbox_transform=fig.transFigure, ncol=legend_cols,\n",
    "                      fontsize=18,\n",
    "                      frameon=False)\n",
    "    for handle in legend.legendHandles:\n",
    "        handle.set_sizes([200.0])\n",
    "    \n",
    "    # for handle in legend.legendHandles[-3:]:\n",
    "    #     handle.set_sizes([0.0])\n",
    "    \n",
    "    ax.spines['right'].set_visible(False)\n",
    "    ax.spines['top'].set_visible(False)\n",
    "    # plt.show()\n",
    "    # fig.savefig('test.png', bbox_extra_artists=[legend], bbox_inches='tight')\n",
    "    ax.get_legend().remove()\n",
    "    # fig.savefig(f'figures/{y_key}.pdf', bbox_inches='tight')\n",
    "    \n",
    "    \n",
    "    # https://gist.github.com/rldotai/012dbb3294bb2599ff82e61e82356990\n",
    "    \n",
    "    # ---------------------------------------------------------------------\n",
    "    # Create a separate figure for the legend\n",
    "    # ---------------------------------------------------------------------\n",
    "    # Bounding box for legend (in order to get proportions right)\n",
    "    # Issuing a draw command seems necessary in order to ensure the layout\n",
    "    # happens correctly; I was getting weird bounding boxes without it.\n",
    "    fig.canvas.draw()\n",
    "    # This gives pixel coordinates for the legend bbox (although perhaps \n",
    "    # if you are using a different renderer you might get something else).\n",
    "    legend_bbox = legend.get_tightbbox(fig.canvas.get_renderer())\n",
    "    # Convert pixel coordinates to inches\n",
    "    legend_bbox = legend_bbox.transformed(fig.dpi_scale_trans.inverted())\n",
    "\n",
    "    # Create teh separate figure, with appropriate width and height\n",
    "    # Create a separate figure for the legend\n",
    "    legend_fig, legend_ax = plt.subplots(figsize=(legend_bbox.width, legend_bbox.height))\n",
    "\n",
    "    # Recreate the legend on the separate figure/axis\n",
    "    legend_squared = legend_ax.legend(\n",
    "        *list(zip(*list(zip(*ax.get_legend_handles_labels()))[:-3])), \n",
    "        # bbox_to_anchor=(0., 0., .1, .1),\n",
    "        bbox_transform=legend_fig.transFigure,\n",
    "        frameon=False,\n",
    "        fancybox=None,\n",
    "        shadow=False,\n",
    "        ncol=legend_cols,\n",
    "        mode='expand',\n",
    "    )\n",
    "\n",
    "    # Remove everything else from the legend's figure\n",
    "    legend_ax.axis('off')\n",
    "    # plt.margins(x=0, y=0)\n",
    "    # bbox = legend_ax.get_tightbbox(legend_fig.canvas.get_renderer(), \n",
    "    #                  call_axes_locator = True,\n",
    "    #                  bbox_extra_artists = None)\n",
    "    # Save the legend as a separate figure\n",
    "    legend_figpath = 'figures/scatter-legend.pdf'\n",
    "    # print(f\"Saving to: {legend_figpath}\")\n",
    "    # legend_fig.savefig(\n",
    "    #     legend_figpath,\n",
    "    #     bbox_inches='tight',\n",
    "    #     # bbox_extra_artists=[legend_squared],\n",
    "    # )\n",
    "    \n",
    "    plt.show()\n",
    "    # break"
   ]
  },
  {
   "cell_type": "raw",
   "metadata": {},
   "source": [
    "\n",
    "df['model_sch'].isin(model_schs)"
   ]
  },
  {
   "cell_type": "code",
   "execution_count": null,
   "metadata": {},
   "outputs": [],
   "source": []
  },
  {
   "cell_type": "code",
   "execution_count": null,
   "metadata": {},
   "outputs": [],
   "source": []
  },
  {
   "cell_type": "code",
   "execution_count": null,
   "metadata": {},
   "outputs": [],
   "source": []
  }
 ],
 "metadata": {
  "kernelspec": {
   "display_name": "Python 3 (ipykernel)",
   "language": "python",
   "name": "python3"
  },
  "language_info": {
   "codemirror_mode": {
    "name": "ipython",
    "version": 3
   },
   "file_extension": ".py",
   "mimetype": "text/x-python",
   "name": "python",
   "nbconvert_exporter": "python",
   "pygments_lexer": "ipython3",
   "version": "3.8.8"
  }
 },
 "nbformat": 4,
 "nbformat_minor": 4
}
