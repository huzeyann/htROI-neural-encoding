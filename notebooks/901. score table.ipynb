{
 "cells": [
  {
   "cell_type": "code",
   "execution_count": 1,
   "id": "9e2f937a-50b6-4e02-a5f5-4580fccb0ce5",
   "metadata": {},
   "outputs": [
    {
     "data": {
      "text/plain": "True"
     },
     "execution_count": 1,
     "metadata": {},
     "output_type": "execute_result"
    }
   ],
   "source": [
    "import numpy as np\n",
    "import torch\n",
    "\n",
    "from tqdm.auto import tqdm\n",
    "from tqdm.notebook import tqdm_notebook, trange\n",
    "\n",
    "import itertools\n",
    "import os\n",
    "from dotenv import find_dotenv, load_dotenv\n",
    "from pathlib import Path\n",
    "\n",
    "load_dotenv(find_dotenv(), verbose=True)"
   ]
  },
  {
   "cell_type": "code",
   "execution_count": 1,
   "id": "f7488c81-0e35-49f9-941d-6470f40249b6",
   "metadata": {},
   "outputs": [],
   "source": []
  },
  {
   "cell_type": "markdown",
   "id": "a7b5aec9-07ec-4a4f-8d10-d4f7d4cce2e4",
   "metadata": {},
   "source": [
    "# prepare data"
   ]
  },
  {
   "cell_type": "code",
   "execution_count": 2,
   "id": "e3d150af-db4e-4f0a-8aae-57c71e6e868d",
   "metadata": {},
   "outputs": [],
   "source": [
    "from src.utils.ensemble import optimize_val_correlation\n",
    "from src.config.config import combine_cfgs, get_cfg_defaults\n",
    "from src.data.datamodule import MyDataModule"
   ]
  },
  {
   "cell_type": "code",
   "execution_count": 3,
   "id": "025a476e-2085-4afa-b9b0-5789fa9ed648",
   "metadata": {},
   "outputs": [],
   "source": [
    "# prepare validation data\n",
    "cfg = combine_cfgs('../src/config/experiments/algonauts2021_i3d_flow.yml')\n",
    "dm = MyDataModule(cfg)\n",
    "dm.prepare_data()\n",
    "dm.setup()\n",
    "\n",
    "val_indices = dm.val_dataset.indices\n",
    "\n",
    "cache_path = Path('/data_smr/huze/.cache/val_fmris.pt')\n",
    "\n",
    "if cache_path.exists():\n",
    "    val_fmris = torch.load(cache_path)\n",
    "else:\n",
    "    val_fmris = [dm.dataset_train_val.__getitem__(i)[1] for i in tqdm(val_indices)]\n",
    "    val_fmris = np.stack(val_fmris, 0)\n",
    "    val_fmris = torch.tensor(val_fmris)\n",
    "    torch.save(val_fmris, cache_path)"
   ]
  },
  {
   "cell_type": "code",
   "execution_count": 3,
   "id": "7f53a405-5bbe-4b15-be00-58462993b776",
   "metadata": {},
   "outputs": [],
   "source": []
  },
  {
   "cell_type": "code",
   "execution_count": 4,
   "id": "425bedd4-573c-41b1-b395-4c852b5d766a",
   "metadata": {},
   "outputs": [],
   "source": [
    "# load from notebook 900. (cross-notebook-ref)"
   ]
  },
  {
   "cell_type": "code",
   "execution_count": 5,
   "id": "8e35f217-0530-4eef-a1cc-80671f8c3a2b",
   "metadata": {},
   "outputs": [],
   "source": [
    "import pandas as pd"
   ]
  },
  {
   "cell_type": "code",
   "execution_count": 6,
   "id": "63149a82-a13f-422e-951b-041f7c28cad8",
   "metadata": {},
   "outputs": [],
   "source": [
    "submission_df = torch.load('./tmp/submission_df.pt')"
   ]
  },
  {
   "cell_type": "code",
   "execution_count": 7,
   "id": "050a903d-47b8-49b5-befd-7878537acdab",
   "metadata": {},
   "outputs": [
    {
     "data": {
      "text/plain": "                                    model_sch he_sch  roi_sch  cross_roi_sch  \\\n0                         multi_layer&i3d_rgb     H3  ROIxSMC  croi_ensemble   \n1               single_layer&i3d_rgb+i3d_flow     H3   ROIxSC  croi_ensemble   \n2               single_layer&i3d_rgb+i3d_flow     H3      ROI                  \n3               single_layer&i3d_rgb+i3d_flow     H3       WB                  \n4                       single_layer&i3d_flow     H3  ROIxSMC  croi_ensemble   \n5               single_layer&i3d_rgb+i3d_flow     H1  ROIxSMC  croi_ensemble   \n6               single_layer&i3d_rgb+i3d_flow     H3   ROIxLC  croi_ensemble   \n7                        multi_layer&i3d_flow     H3  ROIxSMC  croi_ensemble   \n8               single_layer&i3d_rgb+i3d_flow     H3      SMC                  \n9               single_layer&i3d_rgb+i3d_flow     H2  ROIxSMC  croi_ensemble   \n10              single_layer&i3d_rgb+i3d_flow     H3  ROIxSMC     voxel_swap   \n11  single_layer+multi_layer&i3d_rgb+i3d_flow     H3  ROIxSMC  croi_ensemble   \n12          single_layer+multi_layer&i3d_flow     H3  ROIxSMC  croi_ensemble   \n13           single_layer+multi_layer&i3d_rgb     H3  ROIxSMC  croi_ensemble   \n14              single_layer&i3d_rgb+i3d_flow     H3  ROIxSMC  croi_ensemble   \n15              single_layer&i3d_rgb+i3d_flow     H3   ROIxMC  croi_ensemble   \n16                       single_layer&i3d_rgb     H3  ROIxSMC  croi_ensemble   \n17              single_layer&i3d_rgb+i3d_flow     H3  ROIxSMC      croi_swap   \n18              single_layer&i3d_rgb+i3d_flow     H3       LC                  \n19              single_layer&i3d_rgb+i3d_flow     H3       SC                  \n20              single_layer&i3d_rgb+i3d_flow     H3       MC                  \n21               multi_layer&i3d_rgb+i3d_flow     H3  ROIxSMC  croi_ensemble   \n\n   i_submission                                               path  \n0           000  /data/huze/ray_results/algonauts2021/ensemble_...  \n1           001  /data/huze/ray_results/algonauts2021/ensemble_...  \n2           002  /data/huze/ray_results/algonauts2021/ensemble_...  \n3           003  /data/huze/ray_results/algonauts2021/ensemble_...  \n4           004  /data/huze/ray_results/algonauts2021/ensemble_...  \n5           005  /data/huze/ray_results/algonauts2021/ensemble_...  \n6           006  /data/huze/ray_results/algonauts2021/ensemble_...  \n7           007  /data/huze/ray_results/algonauts2021/ensemble_...  \n8           008  /data/huze/ray_results/algonauts2021/ensemble_...  \n9           009  /data/huze/ray_results/algonauts2021/ensemble_...  \n10          010  /data/huze/ray_results/algonauts2021/ensemble_...  \n11          011  /data/huze/ray_results/algonauts2021/ensemble_...  \n12          012  /data/huze/ray_results/algonauts2021/ensemble_...  \n13          013  /data/huze/ray_results/algonauts2021/ensemble_...  \n14          014  /data/huze/ray_results/algonauts2021/ensemble_...  \n15          015  /data/huze/ray_results/algonauts2021/ensemble_...  \n16          016  /data/huze/ray_results/algonauts2021/ensemble_...  \n17          017  /data/huze/ray_results/algonauts2021/ensemble_...  \n18          018  /data/huze/ray_results/algonauts2021/ensemble_...  \n19          019  /data/huze/ray_results/algonauts2021/ensemble_...  \n20          020  /data/huze/ray_results/algonauts2021/ensemble_...  \n21          021  /data/huze/ray_results/algonauts2021/ensemble_...  ",
      "text/html": "<div>\n<style scoped>\n    .dataframe tbody tr th:only-of-type {\n        vertical-align: middle;\n    }\n\n    .dataframe tbody tr th {\n        vertical-align: top;\n    }\n\n    .dataframe thead th {\n        text-align: right;\n    }\n</style>\n<table border=\"1\" class=\"dataframe\">\n  <thead>\n    <tr style=\"text-align: right;\">\n      <th></th>\n      <th>model_sch</th>\n      <th>he_sch</th>\n      <th>roi_sch</th>\n      <th>cross_roi_sch</th>\n      <th>i_submission</th>\n      <th>path</th>\n    </tr>\n  </thead>\n  <tbody>\n    <tr>\n      <th>0</th>\n      <td>multi_layer&amp;i3d_rgb</td>\n      <td>H3</td>\n      <td>ROIxSMC</td>\n      <td>croi_ensemble</td>\n      <td>000</td>\n      <td>/data/huze/ray_results/algonauts2021/ensemble_...</td>\n    </tr>\n    <tr>\n      <th>1</th>\n      <td>single_layer&amp;i3d_rgb+i3d_flow</td>\n      <td>H3</td>\n      <td>ROIxSC</td>\n      <td>croi_ensemble</td>\n      <td>001</td>\n      <td>/data/huze/ray_results/algonauts2021/ensemble_...</td>\n    </tr>\n    <tr>\n      <th>2</th>\n      <td>single_layer&amp;i3d_rgb+i3d_flow</td>\n      <td>H3</td>\n      <td>ROI</td>\n      <td></td>\n      <td>002</td>\n      <td>/data/huze/ray_results/algonauts2021/ensemble_...</td>\n    </tr>\n    <tr>\n      <th>3</th>\n      <td>single_layer&amp;i3d_rgb+i3d_flow</td>\n      <td>H3</td>\n      <td>WB</td>\n      <td></td>\n      <td>003</td>\n      <td>/data/huze/ray_results/algonauts2021/ensemble_...</td>\n    </tr>\n    <tr>\n      <th>4</th>\n      <td>single_layer&amp;i3d_flow</td>\n      <td>H3</td>\n      <td>ROIxSMC</td>\n      <td>croi_ensemble</td>\n      <td>004</td>\n      <td>/data/huze/ray_results/algonauts2021/ensemble_...</td>\n    </tr>\n    <tr>\n      <th>5</th>\n      <td>single_layer&amp;i3d_rgb+i3d_flow</td>\n      <td>H1</td>\n      <td>ROIxSMC</td>\n      <td>croi_ensemble</td>\n      <td>005</td>\n      <td>/data/huze/ray_results/algonauts2021/ensemble_...</td>\n    </tr>\n    <tr>\n      <th>6</th>\n      <td>single_layer&amp;i3d_rgb+i3d_flow</td>\n      <td>H3</td>\n      <td>ROIxLC</td>\n      <td>croi_ensemble</td>\n      <td>006</td>\n      <td>/data/huze/ray_results/algonauts2021/ensemble_...</td>\n    </tr>\n    <tr>\n      <th>7</th>\n      <td>multi_layer&amp;i3d_flow</td>\n      <td>H3</td>\n      <td>ROIxSMC</td>\n      <td>croi_ensemble</td>\n      <td>007</td>\n      <td>/data/huze/ray_results/algonauts2021/ensemble_...</td>\n    </tr>\n    <tr>\n      <th>8</th>\n      <td>single_layer&amp;i3d_rgb+i3d_flow</td>\n      <td>H3</td>\n      <td>SMC</td>\n      <td></td>\n      <td>008</td>\n      <td>/data/huze/ray_results/algonauts2021/ensemble_...</td>\n    </tr>\n    <tr>\n      <th>9</th>\n      <td>single_layer&amp;i3d_rgb+i3d_flow</td>\n      <td>H2</td>\n      <td>ROIxSMC</td>\n      <td>croi_ensemble</td>\n      <td>009</td>\n      <td>/data/huze/ray_results/algonauts2021/ensemble_...</td>\n    </tr>\n    <tr>\n      <th>10</th>\n      <td>single_layer&amp;i3d_rgb+i3d_flow</td>\n      <td>H3</td>\n      <td>ROIxSMC</td>\n      <td>voxel_swap</td>\n      <td>010</td>\n      <td>/data/huze/ray_results/algonauts2021/ensemble_...</td>\n    </tr>\n    <tr>\n      <th>11</th>\n      <td>single_layer+multi_layer&amp;i3d_rgb+i3d_flow</td>\n      <td>H3</td>\n      <td>ROIxSMC</td>\n      <td>croi_ensemble</td>\n      <td>011</td>\n      <td>/data/huze/ray_results/algonauts2021/ensemble_...</td>\n    </tr>\n    <tr>\n      <th>12</th>\n      <td>single_layer+multi_layer&amp;i3d_flow</td>\n      <td>H3</td>\n      <td>ROIxSMC</td>\n      <td>croi_ensemble</td>\n      <td>012</td>\n      <td>/data/huze/ray_results/algonauts2021/ensemble_...</td>\n    </tr>\n    <tr>\n      <th>13</th>\n      <td>single_layer+multi_layer&amp;i3d_rgb</td>\n      <td>H3</td>\n      <td>ROIxSMC</td>\n      <td>croi_ensemble</td>\n      <td>013</td>\n      <td>/data/huze/ray_results/algonauts2021/ensemble_...</td>\n    </tr>\n    <tr>\n      <th>14</th>\n      <td>single_layer&amp;i3d_rgb+i3d_flow</td>\n      <td>H3</td>\n      <td>ROIxSMC</td>\n      <td>croi_ensemble</td>\n      <td>014</td>\n      <td>/data/huze/ray_results/algonauts2021/ensemble_...</td>\n    </tr>\n    <tr>\n      <th>15</th>\n      <td>single_layer&amp;i3d_rgb+i3d_flow</td>\n      <td>H3</td>\n      <td>ROIxMC</td>\n      <td>croi_ensemble</td>\n      <td>015</td>\n      <td>/data/huze/ray_results/algonauts2021/ensemble_...</td>\n    </tr>\n    <tr>\n      <th>16</th>\n      <td>single_layer&amp;i3d_rgb</td>\n      <td>H3</td>\n      <td>ROIxSMC</td>\n      <td>croi_ensemble</td>\n      <td>016</td>\n      <td>/data/huze/ray_results/algonauts2021/ensemble_...</td>\n    </tr>\n    <tr>\n      <th>17</th>\n      <td>single_layer&amp;i3d_rgb+i3d_flow</td>\n      <td>H3</td>\n      <td>ROIxSMC</td>\n      <td>croi_swap</td>\n      <td>017</td>\n      <td>/data/huze/ray_results/algonauts2021/ensemble_...</td>\n    </tr>\n    <tr>\n      <th>18</th>\n      <td>single_layer&amp;i3d_rgb+i3d_flow</td>\n      <td>H3</td>\n      <td>LC</td>\n      <td></td>\n      <td>018</td>\n      <td>/data/huze/ray_results/algonauts2021/ensemble_...</td>\n    </tr>\n    <tr>\n      <th>19</th>\n      <td>single_layer&amp;i3d_rgb+i3d_flow</td>\n      <td>H3</td>\n      <td>SC</td>\n      <td></td>\n      <td>019</td>\n      <td>/data/huze/ray_results/algonauts2021/ensemble_...</td>\n    </tr>\n    <tr>\n      <th>20</th>\n      <td>single_layer&amp;i3d_rgb+i3d_flow</td>\n      <td>H3</td>\n      <td>MC</td>\n      <td></td>\n      <td>020</td>\n      <td>/data/huze/ray_results/algonauts2021/ensemble_...</td>\n    </tr>\n    <tr>\n      <th>21</th>\n      <td>multi_layer&amp;i3d_rgb+i3d_flow</td>\n      <td>H3</td>\n      <td>ROIxSMC</td>\n      <td>croi_ensemble</td>\n      <td>021</td>\n      <td>/data/huze/ray_results/algonauts2021/ensemble_...</td>\n    </tr>\n  </tbody>\n</table>\n</div>"
     },
     "execution_count": 7,
     "metadata": {},
     "output_type": "execute_result"
    }
   ],
   "source": [
    "submission_df"
   ]
  },
  {
   "cell_type": "markdown",
   "id": "5b650641-bf84-4d08-9b02-8ff8a7718024",
   "metadata": {},
   "source": [
    "# validation score for each ROI and kROI"
   ]
  },
  {
   "cell_type": "code",
   "execution_count": 8,
   "id": "a865dbe6-896a-4acf-8ebd-a24b69ed8850",
   "metadata": {},
   "outputs": [],
   "source": [
    "from src.utils.metrics import vectorized_correlation"
   ]
  },
  {
   "cell_type": "code",
   "execution_count": 9,
   "id": "060e07bc-140e-4cfc-974c-77b2ea9c10dd",
   "metadata": {
    "pycharm": {
     "name": "#%%\n"
    }
   },
   "outputs": [],
   "source": [
    "rois = ['WB', 'V1', 'V2', 'V3', 'V4', 'LOC', 'EBA', 'FFA', 'STS', 'PPA', 'REST', 'SMC1', 'SMC2', 'MC2', 'MC1', 'SC3',\n",
    "        'SC4', 'LC1',\n",
    "        'LC2', 'LC3', 'LC4', 'LC5']"
   ]
  },
  {
   "cell_type": "code",
   "execution_count": 10,
   "id": "0abd1845-24f5-43b4-a681-8fae10c45cc8",
   "metadata": {
    "tags": []
   },
   "outputs": [
    {
     "data": {
      "text/plain": "  0%|          | 0/22 [00:00<?, ?it/s]",
      "application/vnd.jupyter.widget-view+json": {
       "version_major": 2,
       "version_minor": 0,
       "model_id": "7a331e6400f04896bcbd45884f883056"
      }
     },
     "metadata": {},
     "output_type": "display_data"
    }
   ],
   "source": [
    "# validation set score\n",
    "\n",
    "score_res_dicts = []\n",
    "\n",
    "for i_row, row in tqdm(list(submission_df.iterrows())):\n",
    "    # model_sch = row.model_sch\n",
    "    # he_sch = row.he_sch\n",
    "    # roi_sch = row.roi_sch\n",
    "\n",
    "    path = row.path\n",
    "    prediction = torch.load(path)\n",
    "    scores = vectorized_correlation(prediction[val_indices], val_fmris)\n",
    "    res_dict = {}\n",
    "    for roi in rois:\n",
    "        voxel_indices = torch.load(os.path.join(cfg.DATASET.VOXEL_INDEX_DIR, f'{roi}.pt'))\n",
    "        score = scores[voxel_indices].mean().item()\n",
    "        key = f'{roi}_val_score'\n",
    "        res_dict[key] = f'{score:.4f}'\n",
    "    score_res_dicts.append(res_dict)\n",
    "roi_val_score_df = pd.DataFrame(score_res_dicts)"
   ]
  },
  {
   "cell_type": "code",
   "execution_count": 11,
   "id": "412f07f4-8cdc-4a9a-af27-43f4bc2fa0c1",
   "metadata": {},
   "outputs": [],
   "source": [
    "all_score_df = submission_df.join(roi_val_score_df)"
   ]
  },
  {
   "cell_type": "code",
   "execution_count": 11,
   "id": "2dca0b28-fc37-45f4-acbb-f13bc4904361",
   "metadata": {},
   "outputs": [],
   "source": []
  },
  {
   "cell_type": "markdown",
   "id": "a196cc19-e37a-4d64-939c-d19932b4da33",
   "metadata": {},
   "source": [
    "# whole brain submission score"
   ]
  },
  {
   "cell_type": "code",
   "execution_count": 12,
   "id": "67205eac-4c59-44b4-b2a2-72d4781e6e4b",
   "metadata": {},
   "outputs": [],
   "source": [
    "# test set score"
   ]
  },
  {
   "cell_type": "code",
   "execution_count": 13,
   "id": "c45408ad-7fd9-4a65-bba5-3de859a644ad",
   "metadata": {},
   "outputs": [],
   "source": [
    "from io import StringIO"
   ]
  },
  {
   "cell_type": "code",
   "execution_count": 14,
   "id": "4cff860b-e89c-460f-80bc-74946fae2fde",
   "metadata": {},
   "outputs": [],
   "source": [
    "results = \"\"\"NUM\\tSCORE\\tFILENAME\\tSUBMISSION\\tDATE\\tSTATUS\\t\n",
    "91\t0.3726401715\ti=000,he_sch=H3,model_sch=multi_layer&i3d_rgb,roi_sch=ROIxSMC,cross_roi_sch=croi_ensemble_full_track.zip\t02/28/2022 14:03:28\tFinished\t\t\n",
    "92\t0.3822759446\ti=001,he_sch=H3,model_sch=single_layer&i3d_rgb+i3d_flow,roi_sch=ROIxSC,cross_roi_sch=croi_ensemble_full_track.zip\t02/28/2022 14:04:23\tFinished\t\t\n",
    "93\t0.3658464045\ti=002,he_sch=H3,model_sch=single_layer&i3d_rgb+i3d_flow,roi_sch=ROI_full_track.zip\t02/28/2022 14:06:27\tFinished\t\t\n",
    "94\t0.3566607576\ti=003,he_sch=H3,model_sch=single_layer&i3d_rgb+i3d_flow,roi_sch=WB_full_track.zip\t02/28/2022 14:08:08\tFinished\t\t\n",
    "95\t0.3371816907\ti=004,he_sch=H3,model_sch=single_layer&i3d_flow,roi_sch=ROIxSMC,cross_roi_sch=croi_ensemble_full_track.zip\t02/28/2022 14:17:15\tFinished\t\t\n",
    "96\t0.3755210745\ti=005,he_sch=H1,model_sch=single_layer&i3d_rgb+i3d_flow,roi_sch=ROIxSMC,cross_roi_sch=croi_ensemble_full_track.zip\t02/28/2022 14:20:31\tFinished\t\t\n",
    "97\t0.3765596377\ti=006,he_sch=H3,model_sch=single_layer&i3d_rgb+i3d_flow,roi_sch=ROIxLC,cross_roi_sch=croi_ensemble_full_track.zip\t02/28/2022 14:21:09\tFinished\t\t\n",
    "98\t0.3409911341\ti=007,he_sch=H3,model_sch=multi_layer&i3d_flow,roi_sch=ROIxSMC,cross_roi_sch=croi_ensemble_full_track.zip\t02/28/2022 14:23:47\tFinished\t\t\n",
    "99\t0.3777393409\ti=008,he_sch=H3,model_sch=single_layer&i3d_rgb+i3d_flow,roi_sch=SMC_full_track.zip\t02/28/2022 14:24:18\tFinished\t\t\n",
    "100\t0.3782319207\ti=009,he_sch=H2,model_sch=single_layer&i3d_rgb+i3d_flow,roi_sch=ROIxSMC,cross_roi_sch=croi_ensemble_full_track.zip\t02/28/2022 14:25:02\tFinished\t\t\n",
    "101\t0.3780098575\ti=010,he_sch=H3,model_sch=single_layer&i3d_rgb+i3d_flow,roi_sch=ROIxSMC,cross_roi_sch=voxel_swap_full_track.zip\t02/28/2022 14:26:42\tFinished\t\t\n",
    "102\t0.3823800812\ti=011,he_sch=H3,model_sch=single_layer+multi_layer&i3d_rgb+i3d_flow,roi_sch=ROIxSMC,cross_roi_sch=croi_ensemble_full_track.zip\t02/28/2022 14:28:01\tFinished\t\t\n",
    "103\t0.3386854364\ti=012,he_sch=H3,model_sch=single_layer+multi_layer&i3d_flow,roi_sch=ROIxSMC,cross_roi_sch=croi_ensemble_full_track.zip\t02/28/2022 14:28:31\tFinished\t\t\n",
    "104\t0.3780980566\ti=013,he_sch=H3,model_sch=single_layer+multi_layer&i3d_rgb,roi_sch=ROIxSMC,cross_roi_sch=croi_ensemble_full_track.zip\t02/28/2022 14:29:19\tFinished\t\t\n",
    "105\t0.3823963473\ti=014,he_sch=H3,model_sch=single_layer&i3d_rgb+i3d_flow,roi_sch=ROIxSMC,cross_roi_sch=croi_ensemble_full_track.zip\t02/28/2022 14:30:10\tFinished\t\t\n",
    "106\t0.3792904924\ti=015,he_sch=H3,model_sch=single_layer&i3d_rgb+i3d_flow,roi_sch=ROIxMC,cross_roi_sch=croi_ensemble_full_track.zip\t02/28/2022 14:30:54\tFinished\t\t\n",
    "107\t0.3779275382\ti=016,he_sch=H3,model_sch=single_layer&i3d_rgb,roi_sch=ROIxSMC,cross_roi_sch=croi_ensemble_full_track.zip\t02/28/2022 14:31:34\tFinished\t\t\n",
    "108\t0.3820716002\ti=017,he_sch=H3,model_sch=single_layer&i3d_rgb+i3d_flow,roi_sch=ROIxSMC,cross_roi_sch=croi_swap_full_track.zip\t02/28/2022 14:32:14\tFinished\t\t\n",
    "109\t0.3710070445\ti=018,he_sch=H3,model_sch=single_layer&i3d_rgb+i3d_flow,roi_sch=LC_full_track.zip\t02/28/2022 14:33:03\tFinished\t\t\n",
    "110\t0.3778493967\ti=019,he_sch=H3,model_sch=single_layer&i3d_rgb+i3d_flow,roi_sch=SC_full_track.zip\t02/28/2022 14:33:56\tFinished\t\t\n",
    "111\t0.3747412699\ti=020,he_sch=H3,model_sch=single_layer&i3d_rgb+i3d_flow,roi_sch=MC_full_track.zip\t02/28/2022 14:34:33\tFinished\t\t\n",
    "112\t0.3771323259\ti=021,he_sch=H3,model_sch=multi_layer&i3d_rgb+i3d_flow,roi_sch=ROIxSMC,cross_roi_sch=croi_ensemble_full_track.zip\t02/28/2022 14:36:07\tFinished\t\n",
    "\"\"\""
   ]
  },
  {
   "cell_type": "code",
   "execution_count": 15,
   "id": "0162bb77-89e6-4676-be9f-74112b6ffe7d",
   "metadata": {},
   "outputs": [],
   "source": [
    "df = pd.read_csv(StringIO(results), sep=\"\\t\")\n",
    "\n",
    "df['WB_test_score'] = df['SCORE'].apply(lambda x: f'{x:.4f}')\n",
    "\n",
    "df = df[['WB_test_score']]"
   ]
  },
  {
   "cell_type": "code",
   "execution_count": 16,
   "id": "0d9d2094-c040-4850-8c1a-13a8312fb86e",
   "metadata": {},
   "outputs": [],
   "source": [
    "all_score_df = all_score_df.drop(columns=['WB_test_score'], errors='ignore')"
   ]
  },
  {
   "cell_type": "code",
   "execution_count": 17,
   "id": "0b622f81-a7cb-46c8-8301-85bdded87808",
   "metadata": {},
   "outputs": [],
   "source": [
    "all_score_df = all_score_df.join(df)"
   ]
  },
  {
   "cell_type": "markdown",
   "id": "2140740c-2dea-4800-83b2-2ca9d9d2819f",
   "metadata": {},
   "source": [
    "# ROI submission score"
   ]
  },
  {
   "cell_type": "code",
   "execution_count": 18,
   "id": "637dfa99-c08e-48cc-ae5c-1b6e474c020e",
   "metadata": {},
   "outputs": [],
   "source": [
    "submission_output_dir = './submissions'"
   ]
  },
  {
   "cell_type": "code",
   "execution_count": 19,
   "id": "16eca863-2624-4549-ac73-69f40ce76f50",
   "metadata": {
    "tags": []
   },
   "outputs": [],
   "source": [
    "# test set score\n",
    "import zipfile\n",
    "\n",
    "score_res_dicts = []\n",
    "\n",
    "for i in range(1, len(all_score_df) + 1):\n",
    "    # make sure the first file is `output_file (1).zip`\n",
    "    with zipfile.ZipFile(os.path.join(submission_output_dir, f'output_file ({i}).zip'), 'r') as zip_ref:\n",
    "        zip_ref.extractall(submission_output_dir)\n",
    "    df = pd.read_csv(os.path.join(submission_output_dir, 'scores.txt'), sep=': ', header=None, engine='python')\n",
    "\n",
    "    res_dict = {}\n",
    "    for j in range(len(df)):\n",
    "        roi, score = df.iloc[j]\n",
    "        if roi == 'score': continue\n",
    "        key = f'{roi}_test_score'\n",
    "        res_dict[key] = f'{score:.4f}'\n",
    "    score_res_dicts.append(res_dict)\n",
    "\n",
    "roi_test_score_df = pd.DataFrame(score_res_dicts)"
   ]
  },
  {
   "cell_type": "code",
   "execution_count": 20,
   "outputs": [],
   "source": [
    "all_score_df = all_score_df.drop(columns=list(roi_test_score_df.keys()), errors='ignore')"
   ],
   "metadata": {
    "collapsed": false,
    "pycharm": {
     "name": "#%%\n"
    }
   }
  },
  {
   "cell_type": "code",
   "execution_count": 21,
   "id": "ae47e686-7995-49da-97e0-c4ee8e8032a0",
   "metadata": {},
   "outputs": [],
   "source": [
    "all_score_df = all_score_df.join(roi_test_score_df)"
   ]
  },
  {
   "cell_type": "markdown",
   "id": "93bd9b92-3663-4e45-90ba-e34726b00ccf",
   "metadata": {},
   "source": [
    "# preprocess table"
   ]
  },
  {
   "cell_type": "code",
   "execution_count": 22,
   "id": "7f7da361-6a02-422e-94ce-1e1c874d308c",
   "metadata": {},
   "outputs": [
    {
     "name": "stdout",
     "output_type": "stream",
     "text": [
      "['WB', 'V1', 'V2', 'V3', 'V4', 'LOC', 'EBA', 'FFA', 'STS', 'PPA', 'REST', 'SMC1', 'SMC2', 'MC2', 'MC1', 'SC3', 'SC4', 'LC1', 'LC2', 'LC3', 'LC4', 'LC5']\n"
     ]
    }
   ],
   "source": [
    "print(rois)"
   ]
  },
  {
   "cell_type": "code",
   "execution_count": 23,
   "id": "4d9d7577-d2ac-495d-85c3-4d8dc4a66a1a",
   "metadata": {},
   "outputs": [],
   "source": [
    "for roi in rois:\n",
    "    val_key = f'{roi}_val_score'\n",
    "    test_key = f'{roi}_test_score'\n",
    "    if test_key in all_score_df.keys():\n",
    "        all_score_df[roi] = all_score_df[val_key] + '/' + all_score_df[test_key]\n",
    "    else:\n",
    "        all_score_df[roi] = all_score_df[val_key] + '/' + '-'"
   ]
  },
  {
   "cell_type": "code",
   "execution_count": 24,
   "id": "c3780916-c735-41e1-98a1-59354320836f",
   "metadata": {},
   "outputs": [
    {
     "data": {
      "text/plain": "Index(['model_sch', 'he_sch', 'roi_sch', 'cross_roi_sch', 'i_submission',\n       'path', 'WB_val_score', 'V1_val_score', 'V2_val_score', 'V3_val_score',\n       'V4_val_score', 'LOC_val_score', 'EBA_val_score', 'FFA_val_score',\n       'STS_val_score', 'PPA_val_score', 'REST_val_score', 'SMC1_val_score',\n       'SMC2_val_score', 'MC2_val_score', 'MC1_val_score', 'SC3_val_score',\n       'SC4_val_score', 'LC1_val_score', 'LC2_val_score', 'LC3_val_score',\n       'LC4_val_score', 'LC5_val_score', 'WB_test_score', 'V1_test_score',\n       'V2_test_score', 'V3_test_score', 'V4_test_score', 'LOC_test_score',\n       'EBA_test_score', 'FFA_test_score', 'STS_test_score', 'PPA_test_score',\n       'WB', 'V1', 'V2', 'V3', 'V4', 'LOC', 'EBA', 'FFA', 'STS', 'PPA', 'REST',\n       'SMC1', 'SMC2', 'MC2', 'MC1', 'SC3', 'SC4', 'LC1', 'LC2', 'LC3', 'LC4',\n       'LC5'],\n      dtype='object')"
     },
     "execution_count": 24,
     "metadata": {},
     "output_type": "execute_result"
    }
   ],
   "source": [
    "all_score_df.keys()"
   ]
  },
  {
   "cell_type": "code",
   "execution_count": 25,
   "id": "c41c713a-c096-4b96-bddc-076724b0a424",
   "metadata": {},
   "outputs": [],
   "source": [
    "interesting_keys = ['model_sch', 'he_sch', 'roi_sch', 'cross_roi_sch'] + rois"
   ]
  },
  {
   "cell_type": "code",
   "execution_count": 26,
   "id": "fbc5b90c-e4cd-41ba-a159-1473a8c52655",
   "metadata": {},
   "outputs": [],
   "source": [
    "full_table_df = all_score_df[interesting_keys]"
   ]
  },
  {
   "cell_type": "markdown",
   "id": "2dbd64de-602c-45cd-9785-382da6d62330",
   "metadata": {},
   "source": [
    "# make tables"
   ]
  },
  {
   "cell_type": "code",
   "execution_count": 27,
   "outputs": [
    {
     "data": {
      "text/plain": "                                    model_sch he_sch  roi_sch  cross_roi_sch  \\\n0                         multi_layer&i3d_rgb     H3  ROIxSMC  croi_ensemble   \n1               single_layer&i3d_rgb+i3d_flow     H3   ROIxSC  croi_ensemble   \n2               single_layer&i3d_rgb+i3d_flow     H3      ROI                  \n3               single_layer&i3d_rgb+i3d_flow     H3       WB                  \n4                       single_layer&i3d_flow     H3  ROIxSMC  croi_ensemble   \n5               single_layer&i3d_rgb+i3d_flow     H1  ROIxSMC  croi_ensemble   \n6               single_layer&i3d_rgb+i3d_flow     H3   ROIxLC  croi_ensemble   \n7                        multi_layer&i3d_flow     H3  ROIxSMC  croi_ensemble   \n8               single_layer&i3d_rgb+i3d_flow     H3      SMC                  \n9               single_layer&i3d_rgb+i3d_flow     H2  ROIxSMC  croi_ensemble   \n10              single_layer&i3d_rgb+i3d_flow     H3  ROIxSMC     voxel_swap   \n11  single_layer+multi_layer&i3d_rgb+i3d_flow     H3  ROIxSMC  croi_ensemble   \n12          single_layer+multi_layer&i3d_flow     H3  ROIxSMC  croi_ensemble   \n13           single_layer+multi_layer&i3d_rgb     H3  ROIxSMC  croi_ensemble   \n14              single_layer&i3d_rgb+i3d_flow     H3  ROIxSMC  croi_ensemble   \n15              single_layer&i3d_rgb+i3d_flow     H3   ROIxMC  croi_ensemble   \n16                       single_layer&i3d_rgb     H3  ROIxSMC  croi_ensemble   \n17              single_layer&i3d_rgb+i3d_flow     H3  ROIxSMC      croi_swap   \n18              single_layer&i3d_rgb+i3d_flow     H3       LC                  \n19              single_layer&i3d_rgb+i3d_flow     H3       SC                  \n20              single_layer&i3d_rgb+i3d_flow     H3       MC                  \n21               multi_layer&i3d_rgb+i3d_flow     H3  ROIxSMC  croi_ensemble   \n\n               WB             V1             V2             V3             V4  \\\n0   0.1747/0.3726  0.3335/0.6768  0.3221/0.6889  0.3059/0.6795  0.2812/0.7183   \n1   0.1800/0.3823  0.3338/0.6621  0.3232/0.6818  0.3080/0.6792  0.2841/0.7226   \n2   0.1700/0.3658  0.3333/0.6613  0.3228/0.6826  0.3061/0.6760  0.2829/0.7227   \n3   0.1602/0.3567  0.2302/0.4921  0.2409/0.5266  0.2510/0.5729  0.2329/0.6239   \n4   0.1565/0.3372  0.2551/0.5321  0.2619/0.5802  0.2692/0.6023  0.2530/0.6422   \n5   0.1829/0.3755  0.3354/0.6587  0.3248/0.6797  0.3109/0.6704  0.2877/0.7115   \n6   0.1778/0.3766  0.3334/0.6615  0.3230/0.6823  0.3079/0.6794  0.2834/0.7249   \n7   0.1508/0.3410  0.2600/0.5398  0.2682/0.5919  0.2725/0.6043  0.2504/0.6522   \n8   0.1775/0.3777  0.2998/0.5884  0.2983/0.6173  0.2927/0.6420  0.2596/0.6649   \n9   0.1826/0.3782  0.3350/0.6629  0.3257/0.6832  0.3090/0.6800  0.2886/0.7191   \n10  0.1907/0.3780  0.3439/0.6539  0.3322/0.6724  0.3174/0.6708  0.2912/0.7112   \n11  0.1809/0.3824  0.3383/0.6802  0.3263/0.6945  0.3107/0.6885  0.2871/0.7287   \n12  0.1577/0.3387  0.2635/0.5446  0.2697/0.5942  0.2746/0.6106  0.2547/0.6489   \n13  0.1788/0.3781  0.3375/0.6786  0.3256/0.6929  0.3087/0.6834  0.2840/0.7217   \n14  0.1798/0.3824  0.3339/0.6620  0.3232/0.6817  0.3078/0.6794  0.2838/0.7239   \n15  0.1775/0.3793  0.3335/0.6619  0.3231/0.6820  0.3078/0.6792  0.2837/0.7241   \n16  0.1777/0.3779  0.3338/0.6605  0.3224/0.6795  0.3053/0.6753  0.2808/0.7183   \n17  0.1795/0.3821  0.3333/0.6613  0.3228/0.6826  0.3066/0.6783  0.2829/0.7227   \n18  0.1754/0.3710  0.2963/0.5808  0.2943/0.6075  0.2885/0.6304  0.2568/0.6552   \n19  0.1778/0.3778  0.3010/0.5901  0.3003/0.6199  0.2938/0.6420  0.2608/0.6643   \n20  0.1753/0.3747  0.2982/0.5910  0.2965/0.6167  0.2923/0.6408  0.2593/0.6642   \n21  0.1764/0.3771  0.3343/0.6792  0.3234/0.6941  0.3091/0.6861  0.2845/0.7268   \n\n              LOC  ...      SMC2       MC2       MC1       SC3       SC4  \\\n0   0.3546/0.7179  ...  0.0444/-  0.2873/-  0.0584/-  0.3153/-  0.2596/-   \n1   0.3631/0.7272  ...  0.0462/-  0.2984/-  0.0616/-  0.3302/-  0.2670/-   \n2   0.3582/0.7247  ...  0.0417/-  0.2818/-  0.0543/-  0.3059/-  0.2581/-   \n3   0.3437/0.6975  ...  0.0371/-  0.2670/-  0.0488/-  0.2886/-  0.2458/-   \n4   0.3322/0.6609  ...  0.0342/-  0.2665/-  0.0476/-  0.2877/-  0.2456/-   \n5   0.3662/0.7220  ...  0.0473/-  0.3003/-  0.0643/-  0.3310/-  0.2701/-   \n6   0.3621/0.7270  ...  0.0451/-  0.2879/-  0.0591/-  0.3129/-  0.2633/-   \n7   0.3280/0.6768  ...  0.0322/-  0.2618/-  0.0436/-  0.2841/-  0.2399/-   \n8   0.3604/0.7191  ...  0.0451/-  0.2888/-  0.0600/-  0.3178/-  0.2603/-   \n9   0.3664/0.7249  ...  0.0470/-  0.2992/-  0.0636/-  0.3279/-  0.2710/-   \n10  0.3693/0.7255  ...  0.0626/-  0.3000/-  0.0773/-  0.3280/-  0.2724/-   \n11  0.3630/0.7253  ...  0.0468/-  0.2947/-  0.0625/-  0.3227/-  0.2671/-   \n12  0.3343/0.6682  ...  0.0343/-  0.2669/-  0.0479/-  0.2891/-  0.2451/-   \n13  0.3597/0.7161  ...  0.0464/-  0.2930/-  0.0615/-  0.3219/-  0.2645/-   \n14  0.3627/0.7275  ...  0.0462/-  0.2953/-  0.0616/-  0.3238/-  0.2672/-   \n15  0.3627/0.7275  ...  0.0441/-  0.2952/-  0.0576/-  0.3237/-  0.2672/-   \n16  0.3594/0.7210  ...  0.0459/-  0.2915/-  0.0610/-  0.3198/-  0.2637/-   \n17  0.3622/0.7258  ...  0.0461/-  0.2942/-  0.0614/-  0.3230/-  0.2658/-   \n18  0.3590/0.7156  ...  0.0442/-  0.2788/-  0.0577/-  0.3030/-  0.2549/-   \n19  0.3608/0.7190  ...  0.0451/-  0.2935/-  0.0600/-  0.3258/-  0.2616/-   \n20  0.3606/0.7186  ...  0.0430/-  0.2888/-  0.0560/-  0.3178/-  0.2603/-   \n21  0.3583/0.7271  ...  0.0446/-  0.2904/-  0.0587/-  0.3191/-  0.2621/-   \n\n         LC1       LC2       LC3       LC4       LC5  \n0   0.0876/-  0.3216/-  0.2514/-  0.4699/-  0.4191/-  \n1   0.0919/-  0.3278/-  0.2608/-  0.4822/-  0.4186/-  \n2   0.0833/-  0.3202/-  0.2499/-  0.4723/-  0.3779/-  \n3   0.0766/-  0.3118/-  0.2401/-  0.4527/-  0.3264/-  \n4   0.0755/-  0.3022/-  0.2200/-  0.4543/-  0.3501/-  \n5   0.0944/-  0.3291/-  0.2672/-  0.4874/-  0.4208/-  \n6   0.0884/-  0.3278/-  0.2608/-  0.4822/-  0.4186/-  \n7   0.0715/-  0.2920/-  0.2087/-  0.4491/-  0.3551/-  \n8   0.0892/-  0.3265/-  0.2580/-  0.4797/-  0.4134/-  \n9   0.0937/-  0.3296/-  0.2678/-  0.4870/-  0.4201/-  \n10  0.1057/-  0.3328/-  0.2678/-  0.4853/-  0.4228/-  \n11  0.0921/-  0.3285/-  0.2636/-  0.4830/-  0.4227/-  \n12  0.0759/-  0.3050/-  0.2213/-  0.4549/-  0.3573/-  \n13  0.0911/-  0.3231/-  0.2618/-  0.4774/-  0.4217/-  \n14  0.0915/-  0.3278/-  0.2608/-  0.4822/-  0.4186/-  \n15  0.0879/-  0.3278/-  0.2608/-  0.4822/-  0.4186/-  \n16  0.0904/-  0.3218/-  0.2597/-  0.4768/-  0.4161/-  \n17  0.0912/-  0.3276/-  0.2607/-  0.4817/-  0.4178/-  \n18  0.0859/-  0.3265/-  0.2580/-  0.4797/-  0.4134/-  \n19  0.0898/-  0.3265/-  0.2580/-  0.4797/-  0.4134/-  \n20  0.0857/-  0.3265/-  0.2580/-  0.4797/-  0.4134/-  \n21  0.0883/-  0.3255/-  0.2535/-  0.4772/-  0.4211/-  \n\n[22 rows x 26 columns]",
      "text/html": "<div>\n<style scoped>\n    .dataframe tbody tr th:only-of-type {\n        vertical-align: middle;\n    }\n\n    .dataframe tbody tr th {\n        vertical-align: top;\n    }\n\n    .dataframe thead th {\n        text-align: right;\n    }\n</style>\n<table border=\"1\" class=\"dataframe\">\n  <thead>\n    <tr style=\"text-align: right;\">\n      <th></th>\n      <th>model_sch</th>\n      <th>he_sch</th>\n      <th>roi_sch</th>\n      <th>cross_roi_sch</th>\n      <th>WB</th>\n      <th>V1</th>\n      <th>V2</th>\n      <th>V3</th>\n      <th>V4</th>\n      <th>LOC</th>\n      <th>...</th>\n      <th>SMC2</th>\n      <th>MC2</th>\n      <th>MC1</th>\n      <th>SC3</th>\n      <th>SC4</th>\n      <th>LC1</th>\n      <th>LC2</th>\n      <th>LC3</th>\n      <th>LC4</th>\n      <th>LC5</th>\n    </tr>\n  </thead>\n  <tbody>\n    <tr>\n      <th>0</th>\n      <td>multi_layer&amp;i3d_rgb</td>\n      <td>H3</td>\n      <td>ROIxSMC</td>\n      <td>croi_ensemble</td>\n      <td>0.1747/0.3726</td>\n      <td>0.3335/0.6768</td>\n      <td>0.3221/0.6889</td>\n      <td>0.3059/0.6795</td>\n      <td>0.2812/0.7183</td>\n      <td>0.3546/0.7179</td>\n      <td>...</td>\n      <td>0.0444/-</td>\n      <td>0.2873/-</td>\n      <td>0.0584/-</td>\n      <td>0.3153/-</td>\n      <td>0.2596/-</td>\n      <td>0.0876/-</td>\n      <td>0.3216/-</td>\n      <td>0.2514/-</td>\n      <td>0.4699/-</td>\n      <td>0.4191/-</td>\n    </tr>\n    <tr>\n      <th>1</th>\n      <td>single_layer&amp;i3d_rgb+i3d_flow</td>\n      <td>H3</td>\n      <td>ROIxSC</td>\n      <td>croi_ensemble</td>\n      <td>0.1800/0.3823</td>\n      <td>0.3338/0.6621</td>\n      <td>0.3232/0.6818</td>\n      <td>0.3080/0.6792</td>\n      <td>0.2841/0.7226</td>\n      <td>0.3631/0.7272</td>\n      <td>...</td>\n      <td>0.0462/-</td>\n      <td>0.2984/-</td>\n      <td>0.0616/-</td>\n      <td>0.3302/-</td>\n      <td>0.2670/-</td>\n      <td>0.0919/-</td>\n      <td>0.3278/-</td>\n      <td>0.2608/-</td>\n      <td>0.4822/-</td>\n      <td>0.4186/-</td>\n    </tr>\n    <tr>\n      <th>2</th>\n      <td>single_layer&amp;i3d_rgb+i3d_flow</td>\n      <td>H3</td>\n      <td>ROI</td>\n      <td></td>\n      <td>0.1700/0.3658</td>\n      <td>0.3333/0.6613</td>\n      <td>0.3228/0.6826</td>\n      <td>0.3061/0.6760</td>\n      <td>0.2829/0.7227</td>\n      <td>0.3582/0.7247</td>\n      <td>...</td>\n      <td>0.0417/-</td>\n      <td>0.2818/-</td>\n      <td>0.0543/-</td>\n      <td>0.3059/-</td>\n      <td>0.2581/-</td>\n      <td>0.0833/-</td>\n      <td>0.3202/-</td>\n      <td>0.2499/-</td>\n      <td>0.4723/-</td>\n      <td>0.3779/-</td>\n    </tr>\n    <tr>\n      <th>3</th>\n      <td>single_layer&amp;i3d_rgb+i3d_flow</td>\n      <td>H3</td>\n      <td>WB</td>\n      <td></td>\n      <td>0.1602/0.3567</td>\n      <td>0.2302/0.4921</td>\n      <td>0.2409/0.5266</td>\n      <td>0.2510/0.5729</td>\n      <td>0.2329/0.6239</td>\n      <td>0.3437/0.6975</td>\n      <td>...</td>\n      <td>0.0371/-</td>\n      <td>0.2670/-</td>\n      <td>0.0488/-</td>\n      <td>0.2886/-</td>\n      <td>0.2458/-</td>\n      <td>0.0766/-</td>\n      <td>0.3118/-</td>\n      <td>0.2401/-</td>\n      <td>0.4527/-</td>\n      <td>0.3264/-</td>\n    </tr>\n    <tr>\n      <th>4</th>\n      <td>single_layer&amp;i3d_flow</td>\n      <td>H3</td>\n      <td>ROIxSMC</td>\n      <td>croi_ensemble</td>\n      <td>0.1565/0.3372</td>\n      <td>0.2551/0.5321</td>\n      <td>0.2619/0.5802</td>\n      <td>0.2692/0.6023</td>\n      <td>0.2530/0.6422</td>\n      <td>0.3322/0.6609</td>\n      <td>...</td>\n      <td>0.0342/-</td>\n      <td>0.2665/-</td>\n      <td>0.0476/-</td>\n      <td>0.2877/-</td>\n      <td>0.2456/-</td>\n      <td>0.0755/-</td>\n      <td>0.3022/-</td>\n      <td>0.2200/-</td>\n      <td>0.4543/-</td>\n      <td>0.3501/-</td>\n    </tr>\n    <tr>\n      <th>5</th>\n      <td>single_layer&amp;i3d_rgb+i3d_flow</td>\n      <td>H1</td>\n      <td>ROIxSMC</td>\n      <td>croi_ensemble</td>\n      <td>0.1829/0.3755</td>\n      <td>0.3354/0.6587</td>\n      <td>0.3248/0.6797</td>\n      <td>0.3109/0.6704</td>\n      <td>0.2877/0.7115</td>\n      <td>0.3662/0.7220</td>\n      <td>...</td>\n      <td>0.0473/-</td>\n      <td>0.3003/-</td>\n      <td>0.0643/-</td>\n      <td>0.3310/-</td>\n      <td>0.2701/-</td>\n      <td>0.0944/-</td>\n      <td>0.3291/-</td>\n      <td>0.2672/-</td>\n      <td>0.4874/-</td>\n      <td>0.4208/-</td>\n    </tr>\n    <tr>\n      <th>6</th>\n      <td>single_layer&amp;i3d_rgb+i3d_flow</td>\n      <td>H3</td>\n      <td>ROIxLC</td>\n      <td>croi_ensemble</td>\n      <td>0.1778/0.3766</td>\n      <td>0.3334/0.6615</td>\n      <td>0.3230/0.6823</td>\n      <td>0.3079/0.6794</td>\n      <td>0.2834/0.7249</td>\n      <td>0.3621/0.7270</td>\n      <td>...</td>\n      <td>0.0451/-</td>\n      <td>0.2879/-</td>\n      <td>0.0591/-</td>\n      <td>0.3129/-</td>\n      <td>0.2633/-</td>\n      <td>0.0884/-</td>\n      <td>0.3278/-</td>\n      <td>0.2608/-</td>\n      <td>0.4822/-</td>\n      <td>0.4186/-</td>\n    </tr>\n    <tr>\n      <th>7</th>\n      <td>multi_layer&amp;i3d_flow</td>\n      <td>H3</td>\n      <td>ROIxSMC</td>\n      <td>croi_ensemble</td>\n      <td>0.1508/0.3410</td>\n      <td>0.2600/0.5398</td>\n      <td>0.2682/0.5919</td>\n      <td>0.2725/0.6043</td>\n      <td>0.2504/0.6522</td>\n      <td>0.3280/0.6768</td>\n      <td>...</td>\n      <td>0.0322/-</td>\n      <td>0.2618/-</td>\n      <td>0.0436/-</td>\n      <td>0.2841/-</td>\n      <td>0.2399/-</td>\n      <td>0.0715/-</td>\n      <td>0.2920/-</td>\n      <td>0.2087/-</td>\n      <td>0.4491/-</td>\n      <td>0.3551/-</td>\n    </tr>\n    <tr>\n      <th>8</th>\n      <td>single_layer&amp;i3d_rgb+i3d_flow</td>\n      <td>H3</td>\n      <td>SMC</td>\n      <td></td>\n      <td>0.1775/0.3777</td>\n      <td>0.2998/0.5884</td>\n      <td>0.2983/0.6173</td>\n      <td>0.2927/0.6420</td>\n      <td>0.2596/0.6649</td>\n      <td>0.3604/0.7191</td>\n      <td>...</td>\n      <td>0.0451/-</td>\n      <td>0.2888/-</td>\n      <td>0.0600/-</td>\n      <td>0.3178/-</td>\n      <td>0.2603/-</td>\n      <td>0.0892/-</td>\n      <td>0.3265/-</td>\n      <td>0.2580/-</td>\n      <td>0.4797/-</td>\n      <td>0.4134/-</td>\n    </tr>\n    <tr>\n      <th>9</th>\n      <td>single_layer&amp;i3d_rgb+i3d_flow</td>\n      <td>H2</td>\n      <td>ROIxSMC</td>\n      <td>croi_ensemble</td>\n      <td>0.1826/0.3782</td>\n      <td>0.3350/0.6629</td>\n      <td>0.3257/0.6832</td>\n      <td>0.3090/0.6800</td>\n      <td>0.2886/0.7191</td>\n      <td>0.3664/0.7249</td>\n      <td>...</td>\n      <td>0.0470/-</td>\n      <td>0.2992/-</td>\n      <td>0.0636/-</td>\n      <td>0.3279/-</td>\n      <td>0.2710/-</td>\n      <td>0.0937/-</td>\n      <td>0.3296/-</td>\n      <td>0.2678/-</td>\n      <td>0.4870/-</td>\n      <td>0.4201/-</td>\n    </tr>\n    <tr>\n      <th>10</th>\n      <td>single_layer&amp;i3d_rgb+i3d_flow</td>\n      <td>H3</td>\n      <td>ROIxSMC</td>\n      <td>voxel_swap</td>\n      <td>0.1907/0.3780</td>\n      <td>0.3439/0.6539</td>\n      <td>0.3322/0.6724</td>\n      <td>0.3174/0.6708</td>\n      <td>0.2912/0.7112</td>\n      <td>0.3693/0.7255</td>\n      <td>...</td>\n      <td>0.0626/-</td>\n      <td>0.3000/-</td>\n      <td>0.0773/-</td>\n      <td>0.3280/-</td>\n      <td>0.2724/-</td>\n      <td>0.1057/-</td>\n      <td>0.3328/-</td>\n      <td>0.2678/-</td>\n      <td>0.4853/-</td>\n      <td>0.4228/-</td>\n    </tr>\n    <tr>\n      <th>11</th>\n      <td>single_layer+multi_layer&amp;i3d_rgb+i3d_flow</td>\n      <td>H3</td>\n      <td>ROIxSMC</td>\n      <td>croi_ensemble</td>\n      <td>0.1809/0.3824</td>\n      <td>0.3383/0.6802</td>\n      <td>0.3263/0.6945</td>\n      <td>0.3107/0.6885</td>\n      <td>0.2871/0.7287</td>\n      <td>0.3630/0.7253</td>\n      <td>...</td>\n      <td>0.0468/-</td>\n      <td>0.2947/-</td>\n      <td>0.0625/-</td>\n      <td>0.3227/-</td>\n      <td>0.2671/-</td>\n      <td>0.0921/-</td>\n      <td>0.3285/-</td>\n      <td>0.2636/-</td>\n      <td>0.4830/-</td>\n      <td>0.4227/-</td>\n    </tr>\n    <tr>\n      <th>12</th>\n      <td>single_layer+multi_layer&amp;i3d_flow</td>\n      <td>H3</td>\n      <td>ROIxSMC</td>\n      <td>croi_ensemble</td>\n      <td>0.1577/0.3387</td>\n      <td>0.2635/0.5446</td>\n      <td>0.2697/0.5942</td>\n      <td>0.2746/0.6106</td>\n      <td>0.2547/0.6489</td>\n      <td>0.3343/0.6682</td>\n      <td>...</td>\n      <td>0.0343/-</td>\n      <td>0.2669/-</td>\n      <td>0.0479/-</td>\n      <td>0.2891/-</td>\n      <td>0.2451/-</td>\n      <td>0.0759/-</td>\n      <td>0.3050/-</td>\n      <td>0.2213/-</td>\n      <td>0.4549/-</td>\n      <td>0.3573/-</td>\n    </tr>\n    <tr>\n      <th>13</th>\n      <td>single_layer+multi_layer&amp;i3d_rgb</td>\n      <td>H3</td>\n      <td>ROIxSMC</td>\n      <td>croi_ensemble</td>\n      <td>0.1788/0.3781</td>\n      <td>0.3375/0.6786</td>\n      <td>0.3256/0.6929</td>\n      <td>0.3087/0.6834</td>\n      <td>0.2840/0.7217</td>\n      <td>0.3597/0.7161</td>\n      <td>...</td>\n      <td>0.0464/-</td>\n      <td>0.2930/-</td>\n      <td>0.0615/-</td>\n      <td>0.3219/-</td>\n      <td>0.2645/-</td>\n      <td>0.0911/-</td>\n      <td>0.3231/-</td>\n      <td>0.2618/-</td>\n      <td>0.4774/-</td>\n      <td>0.4217/-</td>\n    </tr>\n    <tr>\n      <th>14</th>\n      <td>single_layer&amp;i3d_rgb+i3d_flow</td>\n      <td>H3</td>\n      <td>ROIxSMC</td>\n      <td>croi_ensemble</td>\n      <td>0.1798/0.3824</td>\n      <td>0.3339/0.6620</td>\n      <td>0.3232/0.6817</td>\n      <td>0.3078/0.6794</td>\n      <td>0.2838/0.7239</td>\n      <td>0.3627/0.7275</td>\n      <td>...</td>\n      <td>0.0462/-</td>\n      <td>0.2953/-</td>\n      <td>0.0616/-</td>\n      <td>0.3238/-</td>\n      <td>0.2672/-</td>\n      <td>0.0915/-</td>\n      <td>0.3278/-</td>\n      <td>0.2608/-</td>\n      <td>0.4822/-</td>\n      <td>0.4186/-</td>\n    </tr>\n    <tr>\n      <th>15</th>\n      <td>single_layer&amp;i3d_rgb+i3d_flow</td>\n      <td>H3</td>\n      <td>ROIxMC</td>\n      <td>croi_ensemble</td>\n      <td>0.1775/0.3793</td>\n      <td>0.3335/0.6619</td>\n      <td>0.3231/0.6820</td>\n      <td>0.3078/0.6792</td>\n      <td>0.2837/0.7241</td>\n      <td>0.3627/0.7275</td>\n      <td>...</td>\n      <td>0.0441/-</td>\n      <td>0.2952/-</td>\n      <td>0.0576/-</td>\n      <td>0.3237/-</td>\n      <td>0.2672/-</td>\n      <td>0.0879/-</td>\n      <td>0.3278/-</td>\n      <td>0.2608/-</td>\n      <td>0.4822/-</td>\n      <td>0.4186/-</td>\n    </tr>\n    <tr>\n      <th>16</th>\n      <td>single_layer&amp;i3d_rgb</td>\n      <td>H3</td>\n      <td>ROIxSMC</td>\n      <td>croi_ensemble</td>\n      <td>0.1777/0.3779</td>\n      <td>0.3338/0.6605</td>\n      <td>0.3224/0.6795</td>\n      <td>0.3053/0.6753</td>\n      <td>0.2808/0.7183</td>\n      <td>0.3594/0.7210</td>\n      <td>...</td>\n      <td>0.0459/-</td>\n      <td>0.2915/-</td>\n      <td>0.0610/-</td>\n      <td>0.3198/-</td>\n      <td>0.2637/-</td>\n      <td>0.0904/-</td>\n      <td>0.3218/-</td>\n      <td>0.2597/-</td>\n      <td>0.4768/-</td>\n      <td>0.4161/-</td>\n    </tr>\n    <tr>\n      <th>17</th>\n      <td>single_layer&amp;i3d_rgb+i3d_flow</td>\n      <td>H3</td>\n      <td>ROIxSMC</td>\n      <td>croi_swap</td>\n      <td>0.1795/0.3821</td>\n      <td>0.3333/0.6613</td>\n      <td>0.3228/0.6826</td>\n      <td>0.3066/0.6783</td>\n      <td>0.2829/0.7227</td>\n      <td>0.3622/0.7258</td>\n      <td>...</td>\n      <td>0.0461/-</td>\n      <td>0.2942/-</td>\n      <td>0.0614/-</td>\n      <td>0.3230/-</td>\n      <td>0.2658/-</td>\n      <td>0.0912/-</td>\n      <td>0.3276/-</td>\n      <td>0.2607/-</td>\n      <td>0.4817/-</td>\n      <td>0.4178/-</td>\n    </tr>\n    <tr>\n      <th>18</th>\n      <td>single_layer&amp;i3d_rgb+i3d_flow</td>\n      <td>H3</td>\n      <td>LC</td>\n      <td></td>\n      <td>0.1754/0.3710</td>\n      <td>0.2963/0.5808</td>\n      <td>0.2943/0.6075</td>\n      <td>0.2885/0.6304</td>\n      <td>0.2568/0.6552</td>\n      <td>0.3590/0.7156</td>\n      <td>...</td>\n      <td>0.0442/-</td>\n      <td>0.2788/-</td>\n      <td>0.0577/-</td>\n      <td>0.3030/-</td>\n      <td>0.2549/-</td>\n      <td>0.0859/-</td>\n      <td>0.3265/-</td>\n      <td>0.2580/-</td>\n      <td>0.4797/-</td>\n      <td>0.4134/-</td>\n    </tr>\n    <tr>\n      <th>19</th>\n      <td>single_layer&amp;i3d_rgb+i3d_flow</td>\n      <td>H3</td>\n      <td>SC</td>\n      <td></td>\n      <td>0.1778/0.3778</td>\n      <td>0.3010/0.5901</td>\n      <td>0.3003/0.6199</td>\n      <td>0.2938/0.6420</td>\n      <td>0.2608/0.6643</td>\n      <td>0.3608/0.7190</td>\n      <td>...</td>\n      <td>0.0451/-</td>\n      <td>0.2935/-</td>\n      <td>0.0600/-</td>\n      <td>0.3258/-</td>\n      <td>0.2616/-</td>\n      <td>0.0898/-</td>\n      <td>0.3265/-</td>\n      <td>0.2580/-</td>\n      <td>0.4797/-</td>\n      <td>0.4134/-</td>\n    </tr>\n    <tr>\n      <th>20</th>\n      <td>single_layer&amp;i3d_rgb+i3d_flow</td>\n      <td>H3</td>\n      <td>MC</td>\n      <td></td>\n      <td>0.1753/0.3747</td>\n      <td>0.2982/0.5910</td>\n      <td>0.2965/0.6167</td>\n      <td>0.2923/0.6408</td>\n      <td>0.2593/0.6642</td>\n      <td>0.3606/0.7186</td>\n      <td>...</td>\n      <td>0.0430/-</td>\n      <td>0.2888/-</td>\n      <td>0.0560/-</td>\n      <td>0.3178/-</td>\n      <td>0.2603/-</td>\n      <td>0.0857/-</td>\n      <td>0.3265/-</td>\n      <td>0.2580/-</td>\n      <td>0.4797/-</td>\n      <td>0.4134/-</td>\n    </tr>\n    <tr>\n      <th>21</th>\n      <td>multi_layer&amp;i3d_rgb+i3d_flow</td>\n      <td>H3</td>\n      <td>ROIxSMC</td>\n      <td>croi_ensemble</td>\n      <td>0.1764/0.3771</td>\n      <td>0.3343/0.6792</td>\n      <td>0.3234/0.6941</td>\n      <td>0.3091/0.6861</td>\n      <td>0.2845/0.7268</td>\n      <td>0.3583/0.7271</td>\n      <td>...</td>\n      <td>0.0446/-</td>\n      <td>0.2904/-</td>\n      <td>0.0587/-</td>\n      <td>0.3191/-</td>\n      <td>0.2621/-</td>\n      <td>0.0883/-</td>\n      <td>0.3255/-</td>\n      <td>0.2535/-</td>\n      <td>0.4772/-</td>\n      <td>0.4211/-</td>\n    </tr>\n  </tbody>\n</table>\n<p>22 rows × 26 columns</p>\n</div>"
     },
     "execution_count": 27,
     "metadata": {},
     "output_type": "execute_result"
    }
   ],
   "source": [
    "full_table_df"
   ],
   "metadata": {
    "collapsed": false,
    "pycharm": {
     "name": "#%%\n"
    }
   }
  },
  {
   "cell_type": "code",
   "execution_count": 31,
   "id": "40bcc7a4-0257-4d9c-9ef4-773f50d1102e",
   "metadata": {},
   "outputs": [],
   "source": [
    "# load from notebook 900. (cross-notebook-ref)\n",
    "submission_configs_keys = ['model_sch', 'he_sch', 'roi_sch', 'cross_roi_sch']\n",
    "table_configs = [\n",
    "    [\n",
    "        ('single_layer&i3d_rgb+i3d_flow', 'H3', 'WB', ''),\n",
    "        ('single_layer&i3d_rgb+i3d_flow', 'H3', 'ROI', ''),\n",
    "        ('single_layer&i3d_rgb+i3d_flow', 'H3', 'LC', ''),\n",
    "        ('single_layer&i3d_rgb+i3d_flow', 'H3', 'MC', ''),\n",
    "        ('single_layer&i3d_rgb+i3d_flow', 'H3', 'SMC', ''),\n",
    "        ('single_layer&i3d_rgb+i3d_flow', 'H3', 'SC', ''),\n",
    "        ('single_layer&i3d_rgb+i3d_flow', 'H3', 'ROIxLC', 'croi_ensemble'),\n",
    "        ('single_layer&i3d_rgb+i3d_flow', 'H3', 'ROIxMC', 'croi_ensemble'),\n",
    "        ('single_layer&i3d_rgb+i3d_flow', 'H3', 'ROIxSMC', 'croi_ensemble'),\n",
    "        ('single_layer&i3d_rgb+i3d_flow', 'H3', 'ROIxSC', 'croi_ensemble'),\n",
    "    ],\n",
    "    [\n",
    "        ('single_layer&i3d_rgb+i3d_flow', 'H3', 'ROI', ''),\n",
    "        ('single_layer&i3d_rgb+i3d_flow', 'H3', 'SMC', ''),\n",
    "        ('single_layer&i3d_rgb+i3d_flow', 'H3', 'ROIxSMC', 'croi_ensemble'),\n",
    "        ('single_layer&i3d_rgb+i3d_flow', 'H3', 'ROIxSMC', 'croi_swap'),\n",
    "        ('single_layer&i3d_rgb+i3d_flow', 'H3', 'ROIxSMC', 'voxel_swap'),\n",
    "    ],\n",
    "    [\n",
    "        ('single_layer&i3d_rgb+i3d_flow', 'H3', 'ROIxLC', 'croi_ensemble'),\n",
    "        ('single_layer&i3d_rgb+i3d_flow', 'H3', 'ROIxMC', 'croi_ensemble'),\n",
    "        ('single_layer&i3d_rgb+i3d_flow', 'H3', 'ROIxSMC', 'croi_ensemble'),\n",
    "        ('single_layer&i3d_rgb+i3d_flow', 'H3', 'ROIxSC', 'croi_ensemble'),\n",
    "    ],\n",
    "    [\n",
    "        ('single_layer&i3d_rgb+i3d_flow', 'H1', 'ROIxSMC', 'croi_ensemble'),\n",
    "        ('single_layer&i3d_rgb+i3d_flow', 'H2', 'ROIxSMC', 'croi_ensemble'),\n",
    "        ('single_layer&i3d_rgb+i3d_flow', 'H3', 'ROIxSMC', 'croi_ensemble'),\n",
    "    ],\n",
    "    [\n",
    "        ('single_layer&i3d_rgb', 'H3', 'ROIxSMC', 'croi_ensemble'),\n",
    "        ('single_layer&i3d_flow', 'H3', 'ROIxSMC', 'croi_ensemble'),\n",
    "        ('single_layer&i3d_rgb+i3d_flow', 'H3', 'ROIxSMC', 'croi_ensemble'),\n",
    "        ('multi_layer&i3d_rgb', 'H3', 'ROIxSMC', 'croi_ensemble'),\n",
    "        ('multi_layer&i3d_flow', 'H3', 'ROIxSMC', 'croi_ensemble'),\n",
    "        ('multi_layer&i3d_rgb+i3d_flow', 'H3', 'ROIxSMC', 'croi_ensemble'),\n",
    "        ('single_layer+multi_layer&i3d_rgb', 'H3', 'ROIxSMC', 'croi_ensemble'),\n",
    "        ('single_layer+multi_layer&i3d_flow', 'H3', 'ROIxSMC', 'croi_ensemble'),\n",
    "        ('single_layer+multi_layer&i3d_rgb+i3d_flow', 'H3', 'ROIxSMC', 'croi_ensemble'),\n",
    "    ]\n",
    "]\n",
    "# table_configs = torch.load('./tmp/table_configs.pt')"
   ]
  },
  {
   "cell_type": "code",
   "execution_count": 32,
   "id": "9d303cc1-21df-4b5e-9669-faf25187de7f",
   "metadata": {},
   "outputs": [
    {
     "data": {
      "text/plain": "                        model_sch he_sch  roi_sch  cross_roi_sch  \\\n3   single_layer&i3d_rgb+i3d_flow     H3       WB                  \n2   single_layer&i3d_rgb+i3d_flow     H3      ROI                  \n18  single_layer&i3d_rgb+i3d_flow     H3       LC                  \n20  single_layer&i3d_rgb+i3d_flow     H3       MC                  \n8   single_layer&i3d_rgb+i3d_flow     H3      SMC                  \n19  single_layer&i3d_rgb+i3d_flow     H3       SC                  \n6   single_layer&i3d_rgb+i3d_flow     H3   ROIxLC  croi_ensemble   \n15  single_layer&i3d_rgb+i3d_flow     H3   ROIxMC  croi_ensemble   \n14  single_layer&i3d_rgb+i3d_flow     H3  ROIxSMC  croi_ensemble   \n1   single_layer&i3d_rgb+i3d_flow     H3   ROIxSC  croi_ensemble   \n\n               WB             V1             V2             V3             V4  \\\n3   0.1602/0.3567  0.2302/0.4921  0.2409/0.5266  0.2510/0.5729  0.2329/0.6239   \n2   0.1700/0.3658  0.3333/0.6613  0.3228/0.6826  0.3061/0.6760  0.2829/0.7227   \n18  0.1754/0.3710  0.2963/0.5808  0.2943/0.6075  0.2885/0.6304  0.2568/0.6552   \n20  0.1753/0.3747  0.2982/0.5910  0.2965/0.6167  0.2923/0.6408  0.2593/0.6642   \n8   0.1775/0.3777  0.2998/0.5884  0.2983/0.6173  0.2927/0.6420  0.2596/0.6649   \n19  0.1778/0.3778  0.3010/0.5901  0.3003/0.6199  0.2938/0.6420  0.2608/0.6643   \n6   0.1778/0.3766  0.3334/0.6615  0.3230/0.6823  0.3079/0.6794  0.2834/0.7249   \n15  0.1775/0.3793  0.3335/0.6619  0.3231/0.6820  0.3078/0.6792  0.2837/0.7241   \n14  0.1798/0.3824  0.3339/0.6620  0.3232/0.6817  0.3078/0.6794  0.2838/0.7239   \n1   0.1800/0.3823  0.3338/0.6621  0.3232/0.6818  0.3080/0.6792  0.2841/0.7226   \n\n              LOC  ...      SMC2       MC2       MC1       SC3       SC4  \\\n3   0.3437/0.6975  ...  0.0371/-  0.2670/-  0.0488/-  0.2886/-  0.2458/-   \n2   0.3582/0.7247  ...  0.0417/-  0.2818/-  0.0543/-  0.3059/-  0.2581/-   \n18  0.3590/0.7156  ...  0.0442/-  0.2788/-  0.0577/-  0.3030/-  0.2549/-   \n20  0.3606/0.7186  ...  0.0430/-  0.2888/-  0.0560/-  0.3178/-  0.2603/-   \n8   0.3604/0.7191  ...  0.0451/-  0.2888/-  0.0600/-  0.3178/-  0.2603/-   \n19  0.3608/0.7190  ...  0.0451/-  0.2935/-  0.0600/-  0.3258/-  0.2616/-   \n6   0.3621/0.7270  ...  0.0451/-  0.2879/-  0.0591/-  0.3129/-  0.2633/-   \n15  0.3627/0.7275  ...  0.0441/-  0.2952/-  0.0576/-  0.3237/-  0.2672/-   \n14  0.3627/0.7275  ...  0.0462/-  0.2953/-  0.0616/-  0.3238/-  0.2672/-   \n1   0.3631/0.7272  ...  0.0462/-  0.2984/-  0.0616/-  0.3302/-  0.2670/-   \n\n         LC1       LC2       LC3       LC4       LC5  \n3   0.0766/-  0.3118/-  0.2401/-  0.4527/-  0.3264/-  \n2   0.0833/-  0.3202/-  0.2499/-  0.4723/-  0.3779/-  \n18  0.0859/-  0.3265/-  0.2580/-  0.4797/-  0.4134/-  \n20  0.0857/-  0.3265/-  0.2580/-  0.4797/-  0.4134/-  \n8   0.0892/-  0.3265/-  0.2580/-  0.4797/-  0.4134/-  \n19  0.0898/-  0.3265/-  0.2580/-  0.4797/-  0.4134/-  \n6   0.0884/-  0.3278/-  0.2608/-  0.4822/-  0.4186/-  \n15  0.0879/-  0.3278/-  0.2608/-  0.4822/-  0.4186/-  \n14  0.0915/-  0.3278/-  0.2608/-  0.4822/-  0.4186/-  \n1   0.0919/-  0.3278/-  0.2608/-  0.4822/-  0.4186/-  \n\n[10 rows x 26 columns]",
      "text/html": "<div>\n<style scoped>\n    .dataframe tbody tr th:only-of-type {\n        vertical-align: middle;\n    }\n\n    .dataframe tbody tr th {\n        vertical-align: top;\n    }\n\n    .dataframe thead th {\n        text-align: right;\n    }\n</style>\n<table border=\"1\" class=\"dataframe\">\n  <thead>\n    <tr style=\"text-align: right;\">\n      <th></th>\n      <th>model_sch</th>\n      <th>he_sch</th>\n      <th>roi_sch</th>\n      <th>cross_roi_sch</th>\n      <th>WB</th>\n      <th>V1</th>\n      <th>V2</th>\n      <th>V3</th>\n      <th>V4</th>\n      <th>LOC</th>\n      <th>...</th>\n      <th>SMC2</th>\n      <th>MC2</th>\n      <th>MC1</th>\n      <th>SC3</th>\n      <th>SC4</th>\n      <th>LC1</th>\n      <th>LC2</th>\n      <th>LC3</th>\n      <th>LC4</th>\n      <th>LC5</th>\n    </tr>\n  </thead>\n  <tbody>\n    <tr>\n      <th>3</th>\n      <td>single_layer&amp;i3d_rgb+i3d_flow</td>\n      <td>H3</td>\n      <td>WB</td>\n      <td></td>\n      <td>0.1602/0.3567</td>\n      <td>0.2302/0.4921</td>\n      <td>0.2409/0.5266</td>\n      <td>0.2510/0.5729</td>\n      <td>0.2329/0.6239</td>\n      <td>0.3437/0.6975</td>\n      <td>...</td>\n      <td>0.0371/-</td>\n      <td>0.2670/-</td>\n      <td>0.0488/-</td>\n      <td>0.2886/-</td>\n      <td>0.2458/-</td>\n      <td>0.0766/-</td>\n      <td>0.3118/-</td>\n      <td>0.2401/-</td>\n      <td>0.4527/-</td>\n      <td>0.3264/-</td>\n    </tr>\n    <tr>\n      <th>2</th>\n      <td>single_layer&amp;i3d_rgb+i3d_flow</td>\n      <td>H3</td>\n      <td>ROI</td>\n      <td></td>\n      <td>0.1700/0.3658</td>\n      <td>0.3333/0.6613</td>\n      <td>0.3228/0.6826</td>\n      <td>0.3061/0.6760</td>\n      <td>0.2829/0.7227</td>\n      <td>0.3582/0.7247</td>\n      <td>...</td>\n      <td>0.0417/-</td>\n      <td>0.2818/-</td>\n      <td>0.0543/-</td>\n      <td>0.3059/-</td>\n      <td>0.2581/-</td>\n      <td>0.0833/-</td>\n      <td>0.3202/-</td>\n      <td>0.2499/-</td>\n      <td>0.4723/-</td>\n      <td>0.3779/-</td>\n    </tr>\n    <tr>\n      <th>18</th>\n      <td>single_layer&amp;i3d_rgb+i3d_flow</td>\n      <td>H3</td>\n      <td>LC</td>\n      <td></td>\n      <td>0.1754/0.3710</td>\n      <td>0.2963/0.5808</td>\n      <td>0.2943/0.6075</td>\n      <td>0.2885/0.6304</td>\n      <td>0.2568/0.6552</td>\n      <td>0.3590/0.7156</td>\n      <td>...</td>\n      <td>0.0442/-</td>\n      <td>0.2788/-</td>\n      <td>0.0577/-</td>\n      <td>0.3030/-</td>\n      <td>0.2549/-</td>\n      <td>0.0859/-</td>\n      <td>0.3265/-</td>\n      <td>0.2580/-</td>\n      <td>0.4797/-</td>\n      <td>0.4134/-</td>\n    </tr>\n    <tr>\n      <th>20</th>\n      <td>single_layer&amp;i3d_rgb+i3d_flow</td>\n      <td>H3</td>\n      <td>MC</td>\n      <td></td>\n      <td>0.1753/0.3747</td>\n      <td>0.2982/0.5910</td>\n      <td>0.2965/0.6167</td>\n      <td>0.2923/0.6408</td>\n      <td>0.2593/0.6642</td>\n      <td>0.3606/0.7186</td>\n      <td>...</td>\n      <td>0.0430/-</td>\n      <td>0.2888/-</td>\n      <td>0.0560/-</td>\n      <td>0.3178/-</td>\n      <td>0.2603/-</td>\n      <td>0.0857/-</td>\n      <td>0.3265/-</td>\n      <td>0.2580/-</td>\n      <td>0.4797/-</td>\n      <td>0.4134/-</td>\n    </tr>\n    <tr>\n      <th>8</th>\n      <td>single_layer&amp;i3d_rgb+i3d_flow</td>\n      <td>H3</td>\n      <td>SMC</td>\n      <td></td>\n      <td>0.1775/0.3777</td>\n      <td>0.2998/0.5884</td>\n      <td>0.2983/0.6173</td>\n      <td>0.2927/0.6420</td>\n      <td>0.2596/0.6649</td>\n      <td>0.3604/0.7191</td>\n      <td>...</td>\n      <td>0.0451/-</td>\n      <td>0.2888/-</td>\n      <td>0.0600/-</td>\n      <td>0.3178/-</td>\n      <td>0.2603/-</td>\n      <td>0.0892/-</td>\n      <td>0.3265/-</td>\n      <td>0.2580/-</td>\n      <td>0.4797/-</td>\n      <td>0.4134/-</td>\n    </tr>\n    <tr>\n      <th>19</th>\n      <td>single_layer&amp;i3d_rgb+i3d_flow</td>\n      <td>H3</td>\n      <td>SC</td>\n      <td></td>\n      <td>0.1778/0.3778</td>\n      <td>0.3010/0.5901</td>\n      <td>0.3003/0.6199</td>\n      <td>0.2938/0.6420</td>\n      <td>0.2608/0.6643</td>\n      <td>0.3608/0.7190</td>\n      <td>...</td>\n      <td>0.0451/-</td>\n      <td>0.2935/-</td>\n      <td>0.0600/-</td>\n      <td>0.3258/-</td>\n      <td>0.2616/-</td>\n      <td>0.0898/-</td>\n      <td>0.3265/-</td>\n      <td>0.2580/-</td>\n      <td>0.4797/-</td>\n      <td>0.4134/-</td>\n    </tr>\n    <tr>\n      <th>6</th>\n      <td>single_layer&amp;i3d_rgb+i3d_flow</td>\n      <td>H3</td>\n      <td>ROIxLC</td>\n      <td>croi_ensemble</td>\n      <td>0.1778/0.3766</td>\n      <td>0.3334/0.6615</td>\n      <td>0.3230/0.6823</td>\n      <td>0.3079/0.6794</td>\n      <td>0.2834/0.7249</td>\n      <td>0.3621/0.7270</td>\n      <td>...</td>\n      <td>0.0451/-</td>\n      <td>0.2879/-</td>\n      <td>0.0591/-</td>\n      <td>0.3129/-</td>\n      <td>0.2633/-</td>\n      <td>0.0884/-</td>\n      <td>0.3278/-</td>\n      <td>0.2608/-</td>\n      <td>0.4822/-</td>\n      <td>0.4186/-</td>\n    </tr>\n    <tr>\n      <th>15</th>\n      <td>single_layer&amp;i3d_rgb+i3d_flow</td>\n      <td>H3</td>\n      <td>ROIxMC</td>\n      <td>croi_ensemble</td>\n      <td>0.1775/0.3793</td>\n      <td>0.3335/0.6619</td>\n      <td>0.3231/0.6820</td>\n      <td>0.3078/0.6792</td>\n      <td>0.2837/0.7241</td>\n      <td>0.3627/0.7275</td>\n      <td>...</td>\n      <td>0.0441/-</td>\n      <td>0.2952/-</td>\n      <td>0.0576/-</td>\n      <td>0.3237/-</td>\n      <td>0.2672/-</td>\n      <td>0.0879/-</td>\n      <td>0.3278/-</td>\n      <td>0.2608/-</td>\n      <td>0.4822/-</td>\n      <td>0.4186/-</td>\n    </tr>\n    <tr>\n      <th>14</th>\n      <td>single_layer&amp;i3d_rgb+i3d_flow</td>\n      <td>H3</td>\n      <td>ROIxSMC</td>\n      <td>croi_ensemble</td>\n      <td>0.1798/0.3824</td>\n      <td>0.3339/0.6620</td>\n      <td>0.3232/0.6817</td>\n      <td>0.3078/0.6794</td>\n      <td>0.2838/0.7239</td>\n      <td>0.3627/0.7275</td>\n      <td>...</td>\n      <td>0.0462/-</td>\n      <td>0.2953/-</td>\n      <td>0.0616/-</td>\n      <td>0.3238/-</td>\n      <td>0.2672/-</td>\n      <td>0.0915/-</td>\n      <td>0.3278/-</td>\n      <td>0.2608/-</td>\n      <td>0.4822/-</td>\n      <td>0.4186/-</td>\n    </tr>\n    <tr>\n      <th>1</th>\n      <td>single_layer&amp;i3d_rgb+i3d_flow</td>\n      <td>H3</td>\n      <td>ROIxSC</td>\n      <td>croi_ensemble</td>\n      <td>0.1800/0.3823</td>\n      <td>0.3338/0.6621</td>\n      <td>0.3232/0.6818</td>\n      <td>0.3080/0.6792</td>\n      <td>0.2841/0.7226</td>\n      <td>0.3631/0.7272</td>\n      <td>...</td>\n      <td>0.0462/-</td>\n      <td>0.2984/-</td>\n      <td>0.0616/-</td>\n      <td>0.3302/-</td>\n      <td>0.2670/-</td>\n      <td>0.0919/-</td>\n      <td>0.3278/-</td>\n      <td>0.2608/-</td>\n      <td>0.4822/-</td>\n      <td>0.4186/-</td>\n    </tr>\n  </tbody>\n</table>\n<p>10 rows × 26 columns</p>\n</div>"
     },
     "metadata": {},
     "output_type": "display_data"
    },
    {
     "data": {
      "text/plain": "                        model_sch he_sch  roi_sch  cross_roi_sch  \\\n2   single_layer&i3d_rgb+i3d_flow     H3      ROI                  \n8   single_layer&i3d_rgb+i3d_flow     H3      SMC                  \n14  single_layer&i3d_rgb+i3d_flow     H3  ROIxSMC  croi_ensemble   \n17  single_layer&i3d_rgb+i3d_flow     H3  ROIxSMC      croi_swap   \n10  single_layer&i3d_rgb+i3d_flow     H3  ROIxSMC     voxel_swap   \n\n               WB             V1             V2             V3             V4  \\\n2   0.1700/0.3658  0.3333/0.6613  0.3228/0.6826  0.3061/0.6760  0.2829/0.7227   \n8   0.1775/0.3777  0.2998/0.5884  0.2983/0.6173  0.2927/0.6420  0.2596/0.6649   \n14  0.1798/0.3824  0.3339/0.6620  0.3232/0.6817  0.3078/0.6794  0.2838/0.7239   \n17  0.1795/0.3821  0.3333/0.6613  0.3228/0.6826  0.3066/0.6783  0.2829/0.7227   \n10  0.1907/0.3780  0.3439/0.6539  0.3322/0.6724  0.3174/0.6708  0.2912/0.7112   \n\n              LOC  ...      SMC2       MC2       MC1       SC3       SC4  \\\n2   0.3582/0.7247  ...  0.0417/-  0.2818/-  0.0543/-  0.3059/-  0.2581/-   \n8   0.3604/0.7191  ...  0.0451/-  0.2888/-  0.0600/-  0.3178/-  0.2603/-   \n14  0.3627/0.7275  ...  0.0462/-  0.2953/-  0.0616/-  0.3238/-  0.2672/-   \n17  0.3622/0.7258  ...  0.0461/-  0.2942/-  0.0614/-  0.3230/-  0.2658/-   \n10  0.3693/0.7255  ...  0.0626/-  0.3000/-  0.0773/-  0.3280/-  0.2724/-   \n\n         LC1       LC2       LC3       LC4       LC5  \n2   0.0833/-  0.3202/-  0.2499/-  0.4723/-  0.3779/-  \n8   0.0892/-  0.3265/-  0.2580/-  0.4797/-  0.4134/-  \n14  0.0915/-  0.3278/-  0.2608/-  0.4822/-  0.4186/-  \n17  0.0912/-  0.3276/-  0.2607/-  0.4817/-  0.4178/-  \n10  0.1057/-  0.3328/-  0.2678/-  0.4853/-  0.4228/-  \n\n[5 rows x 26 columns]",
      "text/html": "<div>\n<style scoped>\n    .dataframe tbody tr th:only-of-type {\n        vertical-align: middle;\n    }\n\n    .dataframe tbody tr th {\n        vertical-align: top;\n    }\n\n    .dataframe thead th {\n        text-align: right;\n    }\n</style>\n<table border=\"1\" class=\"dataframe\">\n  <thead>\n    <tr style=\"text-align: right;\">\n      <th></th>\n      <th>model_sch</th>\n      <th>he_sch</th>\n      <th>roi_sch</th>\n      <th>cross_roi_sch</th>\n      <th>WB</th>\n      <th>V1</th>\n      <th>V2</th>\n      <th>V3</th>\n      <th>V4</th>\n      <th>LOC</th>\n      <th>...</th>\n      <th>SMC2</th>\n      <th>MC2</th>\n      <th>MC1</th>\n      <th>SC3</th>\n      <th>SC4</th>\n      <th>LC1</th>\n      <th>LC2</th>\n      <th>LC3</th>\n      <th>LC4</th>\n      <th>LC5</th>\n    </tr>\n  </thead>\n  <tbody>\n    <tr>\n      <th>2</th>\n      <td>single_layer&amp;i3d_rgb+i3d_flow</td>\n      <td>H3</td>\n      <td>ROI</td>\n      <td></td>\n      <td>0.1700/0.3658</td>\n      <td>0.3333/0.6613</td>\n      <td>0.3228/0.6826</td>\n      <td>0.3061/0.6760</td>\n      <td>0.2829/0.7227</td>\n      <td>0.3582/0.7247</td>\n      <td>...</td>\n      <td>0.0417/-</td>\n      <td>0.2818/-</td>\n      <td>0.0543/-</td>\n      <td>0.3059/-</td>\n      <td>0.2581/-</td>\n      <td>0.0833/-</td>\n      <td>0.3202/-</td>\n      <td>0.2499/-</td>\n      <td>0.4723/-</td>\n      <td>0.3779/-</td>\n    </tr>\n    <tr>\n      <th>8</th>\n      <td>single_layer&amp;i3d_rgb+i3d_flow</td>\n      <td>H3</td>\n      <td>SMC</td>\n      <td></td>\n      <td>0.1775/0.3777</td>\n      <td>0.2998/0.5884</td>\n      <td>0.2983/0.6173</td>\n      <td>0.2927/0.6420</td>\n      <td>0.2596/0.6649</td>\n      <td>0.3604/0.7191</td>\n      <td>...</td>\n      <td>0.0451/-</td>\n      <td>0.2888/-</td>\n      <td>0.0600/-</td>\n      <td>0.3178/-</td>\n      <td>0.2603/-</td>\n      <td>0.0892/-</td>\n      <td>0.3265/-</td>\n      <td>0.2580/-</td>\n      <td>0.4797/-</td>\n      <td>0.4134/-</td>\n    </tr>\n    <tr>\n      <th>14</th>\n      <td>single_layer&amp;i3d_rgb+i3d_flow</td>\n      <td>H3</td>\n      <td>ROIxSMC</td>\n      <td>croi_ensemble</td>\n      <td>0.1798/0.3824</td>\n      <td>0.3339/0.6620</td>\n      <td>0.3232/0.6817</td>\n      <td>0.3078/0.6794</td>\n      <td>0.2838/0.7239</td>\n      <td>0.3627/0.7275</td>\n      <td>...</td>\n      <td>0.0462/-</td>\n      <td>0.2953/-</td>\n      <td>0.0616/-</td>\n      <td>0.3238/-</td>\n      <td>0.2672/-</td>\n      <td>0.0915/-</td>\n      <td>0.3278/-</td>\n      <td>0.2608/-</td>\n      <td>0.4822/-</td>\n      <td>0.4186/-</td>\n    </tr>\n    <tr>\n      <th>17</th>\n      <td>single_layer&amp;i3d_rgb+i3d_flow</td>\n      <td>H3</td>\n      <td>ROIxSMC</td>\n      <td>croi_swap</td>\n      <td>0.1795/0.3821</td>\n      <td>0.3333/0.6613</td>\n      <td>0.3228/0.6826</td>\n      <td>0.3066/0.6783</td>\n      <td>0.2829/0.7227</td>\n      <td>0.3622/0.7258</td>\n      <td>...</td>\n      <td>0.0461/-</td>\n      <td>0.2942/-</td>\n      <td>0.0614/-</td>\n      <td>0.3230/-</td>\n      <td>0.2658/-</td>\n      <td>0.0912/-</td>\n      <td>0.3276/-</td>\n      <td>0.2607/-</td>\n      <td>0.4817/-</td>\n      <td>0.4178/-</td>\n    </tr>\n    <tr>\n      <th>10</th>\n      <td>single_layer&amp;i3d_rgb+i3d_flow</td>\n      <td>H3</td>\n      <td>ROIxSMC</td>\n      <td>voxel_swap</td>\n      <td>0.1907/0.3780</td>\n      <td>0.3439/0.6539</td>\n      <td>0.3322/0.6724</td>\n      <td>0.3174/0.6708</td>\n      <td>0.2912/0.7112</td>\n      <td>0.3693/0.7255</td>\n      <td>...</td>\n      <td>0.0626/-</td>\n      <td>0.3000/-</td>\n      <td>0.0773/-</td>\n      <td>0.3280/-</td>\n      <td>0.2724/-</td>\n      <td>0.1057/-</td>\n      <td>0.3328/-</td>\n      <td>0.2678/-</td>\n      <td>0.4853/-</td>\n      <td>0.4228/-</td>\n    </tr>\n  </tbody>\n</table>\n<p>5 rows × 26 columns</p>\n</div>"
     },
     "metadata": {},
     "output_type": "display_data"
    },
    {
     "data": {
      "text/plain": "                        model_sch he_sch  roi_sch  cross_roi_sch  \\\n6   single_layer&i3d_rgb+i3d_flow     H3   ROIxLC  croi_ensemble   \n15  single_layer&i3d_rgb+i3d_flow     H3   ROIxMC  croi_ensemble   \n14  single_layer&i3d_rgb+i3d_flow     H3  ROIxSMC  croi_ensemble   \n1   single_layer&i3d_rgb+i3d_flow     H3   ROIxSC  croi_ensemble   \n\n               WB             V1             V2             V3             V4  \\\n6   0.1778/0.3766  0.3334/0.6615  0.3230/0.6823  0.3079/0.6794  0.2834/0.7249   \n15  0.1775/0.3793  0.3335/0.6619  0.3231/0.6820  0.3078/0.6792  0.2837/0.7241   \n14  0.1798/0.3824  0.3339/0.6620  0.3232/0.6817  0.3078/0.6794  0.2838/0.7239   \n1   0.1800/0.3823  0.3338/0.6621  0.3232/0.6818  0.3080/0.6792  0.2841/0.7226   \n\n              LOC  ...      SMC2       MC2       MC1       SC3       SC4  \\\n6   0.3621/0.7270  ...  0.0451/-  0.2879/-  0.0591/-  0.3129/-  0.2633/-   \n15  0.3627/0.7275  ...  0.0441/-  0.2952/-  0.0576/-  0.3237/-  0.2672/-   \n14  0.3627/0.7275  ...  0.0462/-  0.2953/-  0.0616/-  0.3238/-  0.2672/-   \n1   0.3631/0.7272  ...  0.0462/-  0.2984/-  0.0616/-  0.3302/-  0.2670/-   \n\n         LC1       LC2       LC3       LC4       LC5  \n6   0.0884/-  0.3278/-  0.2608/-  0.4822/-  0.4186/-  \n15  0.0879/-  0.3278/-  0.2608/-  0.4822/-  0.4186/-  \n14  0.0915/-  0.3278/-  0.2608/-  0.4822/-  0.4186/-  \n1   0.0919/-  0.3278/-  0.2608/-  0.4822/-  0.4186/-  \n\n[4 rows x 26 columns]",
      "text/html": "<div>\n<style scoped>\n    .dataframe tbody tr th:only-of-type {\n        vertical-align: middle;\n    }\n\n    .dataframe tbody tr th {\n        vertical-align: top;\n    }\n\n    .dataframe thead th {\n        text-align: right;\n    }\n</style>\n<table border=\"1\" class=\"dataframe\">\n  <thead>\n    <tr style=\"text-align: right;\">\n      <th></th>\n      <th>model_sch</th>\n      <th>he_sch</th>\n      <th>roi_sch</th>\n      <th>cross_roi_sch</th>\n      <th>WB</th>\n      <th>V1</th>\n      <th>V2</th>\n      <th>V3</th>\n      <th>V4</th>\n      <th>LOC</th>\n      <th>...</th>\n      <th>SMC2</th>\n      <th>MC2</th>\n      <th>MC1</th>\n      <th>SC3</th>\n      <th>SC4</th>\n      <th>LC1</th>\n      <th>LC2</th>\n      <th>LC3</th>\n      <th>LC4</th>\n      <th>LC5</th>\n    </tr>\n  </thead>\n  <tbody>\n    <tr>\n      <th>6</th>\n      <td>single_layer&amp;i3d_rgb+i3d_flow</td>\n      <td>H3</td>\n      <td>ROIxLC</td>\n      <td>croi_ensemble</td>\n      <td>0.1778/0.3766</td>\n      <td>0.3334/0.6615</td>\n      <td>0.3230/0.6823</td>\n      <td>0.3079/0.6794</td>\n      <td>0.2834/0.7249</td>\n      <td>0.3621/0.7270</td>\n      <td>...</td>\n      <td>0.0451/-</td>\n      <td>0.2879/-</td>\n      <td>0.0591/-</td>\n      <td>0.3129/-</td>\n      <td>0.2633/-</td>\n      <td>0.0884/-</td>\n      <td>0.3278/-</td>\n      <td>0.2608/-</td>\n      <td>0.4822/-</td>\n      <td>0.4186/-</td>\n    </tr>\n    <tr>\n      <th>15</th>\n      <td>single_layer&amp;i3d_rgb+i3d_flow</td>\n      <td>H3</td>\n      <td>ROIxMC</td>\n      <td>croi_ensemble</td>\n      <td>0.1775/0.3793</td>\n      <td>0.3335/0.6619</td>\n      <td>0.3231/0.6820</td>\n      <td>0.3078/0.6792</td>\n      <td>0.2837/0.7241</td>\n      <td>0.3627/0.7275</td>\n      <td>...</td>\n      <td>0.0441/-</td>\n      <td>0.2952/-</td>\n      <td>0.0576/-</td>\n      <td>0.3237/-</td>\n      <td>0.2672/-</td>\n      <td>0.0879/-</td>\n      <td>0.3278/-</td>\n      <td>0.2608/-</td>\n      <td>0.4822/-</td>\n      <td>0.4186/-</td>\n    </tr>\n    <tr>\n      <th>14</th>\n      <td>single_layer&amp;i3d_rgb+i3d_flow</td>\n      <td>H3</td>\n      <td>ROIxSMC</td>\n      <td>croi_ensemble</td>\n      <td>0.1798/0.3824</td>\n      <td>0.3339/0.6620</td>\n      <td>0.3232/0.6817</td>\n      <td>0.3078/0.6794</td>\n      <td>0.2838/0.7239</td>\n      <td>0.3627/0.7275</td>\n      <td>...</td>\n      <td>0.0462/-</td>\n      <td>0.2953/-</td>\n      <td>0.0616/-</td>\n      <td>0.3238/-</td>\n      <td>0.2672/-</td>\n      <td>0.0915/-</td>\n      <td>0.3278/-</td>\n      <td>0.2608/-</td>\n      <td>0.4822/-</td>\n      <td>0.4186/-</td>\n    </tr>\n    <tr>\n      <th>1</th>\n      <td>single_layer&amp;i3d_rgb+i3d_flow</td>\n      <td>H3</td>\n      <td>ROIxSC</td>\n      <td>croi_ensemble</td>\n      <td>0.1800/0.3823</td>\n      <td>0.3338/0.6621</td>\n      <td>0.3232/0.6818</td>\n      <td>0.3080/0.6792</td>\n      <td>0.2841/0.7226</td>\n      <td>0.3631/0.7272</td>\n      <td>...</td>\n      <td>0.0462/-</td>\n      <td>0.2984/-</td>\n      <td>0.0616/-</td>\n      <td>0.3302/-</td>\n      <td>0.2670/-</td>\n      <td>0.0919/-</td>\n      <td>0.3278/-</td>\n      <td>0.2608/-</td>\n      <td>0.4822/-</td>\n      <td>0.4186/-</td>\n    </tr>\n  </tbody>\n</table>\n<p>4 rows × 26 columns</p>\n</div>"
     },
     "metadata": {},
     "output_type": "display_data"
    },
    {
     "data": {
      "text/plain": "                        model_sch he_sch  roi_sch  cross_roi_sch  \\\n5   single_layer&i3d_rgb+i3d_flow     H1  ROIxSMC  croi_ensemble   \n9   single_layer&i3d_rgb+i3d_flow     H2  ROIxSMC  croi_ensemble   \n14  single_layer&i3d_rgb+i3d_flow     H3  ROIxSMC  croi_ensemble   \n\n               WB             V1             V2             V3             V4  \\\n5   0.1829/0.3755  0.3354/0.6587  0.3248/0.6797  0.3109/0.6704  0.2877/0.7115   \n9   0.1826/0.3782  0.3350/0.6629  0.3257/0.6832  0.3090/0.6800  0.2886/0.7191   \n14  0.1798/0.3824  0.3339/0.6620  0.3232/0.6817  0.3078/0.6794  0.2838/0.7239   \n\n              LOC  ...      SMC2       MC2       MC1       SC3       SC4  \\\n5   0.3662/0.7220  ...  0.0473/-  0.3003/-  0.0643/-  0.3310/-  0.2701/-   \n9   0.3664/0.7249  ...  0.0470/-  0.2992/-  0.0636/-  0.3279/-  0.2710/-   \n14  0.3627/0.7275  ...  0.0462/-  0.2953/-  0.0616/-  0.3238/-  0.2672/-   \n\n         LC1       LC2       LC3       LC4       LC5  \n5   0.0944/-  0.3291/-  0.2672/-  0.4874/-  0.4208/-  \n9   0.0937/-  0.3296/-  0.2678/-  0.4870/-  0.4201/-  \n14  0.0915/-  0.3278/-  0.2608/-  0.4822/-  0.4186/-  \n\n[3 rows x 26 columns]",
      "text/html": "<div>\n<style scoped>\n    .dataframe tbody tr th:only-of-type {\n        vertical-align: middle;\n    }\n\n    .dataframe tbody tr th {\n        vertical-align: top;\n    }\n\n    .dataframe thead th {\n        text-align: right;\n    }\n</style>\n<table border=\"1\" class=\"dataframe\">\n  <thead>\n    <tr style=\"text-align: right;\">\n      <th></th>\n      <th>model_sch</th>\n      <th>he_sch</th>\n      <th>roi_sch</th>\n      <th>cross_roi_sch</th>\n      <th>WB</th>\n      <th>V1</th>\n      <th>V2</th>\n      <th>V3</th>\n      <th>V4</th>\n      <th>LOC</th>\n      <th>...</th>\n      <th>SMC2</th>\n      <th>MC2</th>\n      <th>MC1</th>\n      <th>SC3</th>\n      <th>SC4</th>\n      <th>LC1</th>\n      <th>LC2</th>\n      <th>LC3</th>\n      <th>LC4</th>\n      <th>LC5</th>\n    </tr>\n  </thead>\n  <tbody>\n    <tr>\n      <th>5</th>\n      <td>single_layer&amp;i3d_rgb+i3d_flow</td>\n      <td>H1</td>\n      <td>ROIxSMC</td>\n      <td>croi_ensemble</td>\n      <td>0.1829/0.3755</td>\n      <td>0.3354/0.6587</td>\n      <td>0.3248/0.6797</td>\n      <td>0.3109/0.6704</td>\n      <td>0.2877/0.7115</td>\n      <td>0.3662/0.7220</td>\n      <td>...</td>\n      <td>0.0473/-</td>\n      <td>0.3003/-</td>\n      <td>0.0643/-</td>\n      <td>0.3310/-</td>\n      <td>0.2701/-</td>\n      <td>0.0944/-</td>\n      <td>0.3291/-</td>\n      <td>0.2672/-</td>\n      <td>0.4874/-</td>\n      <td>0.4208/-</td>\n    </tr>\n    <tr>\n      <th>9</th>\n      <td>single_layer&amp;i3d_rgb+i3d_flow</td>\n      <td>H2</td>\n      <td>ROIxSMC</td>\n      <td>croi_ensemble</td>\n      <td>0.1826/0.3782</td>\n      <td>0.3350/0.6629</td>\n      <td>0.3257/0.6832</td>\n      <td>0.3090/0.6800</td>\n      <td>0.2886/0.7191</td>\n      <td>0.3664/0.7249</td>\n      <td>...</td>\n      <td>0.0470/-</td>\n      <td>0.2992/-</td>\n      <td>0.0636/-</td>\n      <td>0.3279/-</td>\n      <td>0.2710/-</td>\n      <td>0.0937/-</td>\n      <td>0.3296/-</td>\n      <td>0.2678/-</td>\n      <td>0.4870/-</td>\n      <td>0.4201/-</td>\n    </tr>\n    <tr>\n      <th>14</th>\n      <td>single_layer&amp;i3d_rgb+i3d_flow</td>\n      <td>H3</td>\n      <td>ROIxSMC</td>\n      <td>croi_ensemble</td>\n      <td>0.1798/0.3824</td>\n      <td>0.3339/0.6620</td>\n      <td>0.3232/0.6817</td>\n      <td>0.3078/0.6794</td>\n      <td>0.2838/0.7239</td>\n      <td>0.3627/0.7275</td>\n      <td>...</td>\n      <td>0.0462/-</td>\n      <td>0.2953/-</td>\n      <td>0.0616/-</td>\n      <td>0.3238/-</td>\n      <td>0.2672/-</td>\n      <td>0.0915/-</td>\n      <td>0.3278/-</td>\n      <td>0.2608/-</td>\n      <td>0.4822/-</td>\n      <td>0.4186/-</td>\n    </tr>\n  </tbody>\n</table>\n<p>3 rows × 26 columns</p>\n</div>"
     },
     "metadata": {},
     "output_type": "display_data"
    },
    {
     "data": {
      "text/plain": "                                    model_sch he_sch  roi_sch  cross_roi_sch  \\\n16                       single_layer&i3d_rgb     H3  ROIxSMC  croi_ensemble   \n4                       single_layer&i3d_flow     H3  ROIxSMC  croi_ensemble   \n14              single_layer&i3d_rgb+i3d_flow     H3  ROIxSMC  croi_ensemble   \n0                         multi_layer&i3d_rgb     H3  ROIxSMC  croi_ensemble   \n7                        multi_layer&i3d_flow     H3  ROIxSMC  croi_ensemble   \n21               multi_layer&i3d_rgb+i3d_flow     H3  ROIxSMC  croi_ensemble   \n13           single_layer+multi_layer&i3d_rgb     H3  ROIxSMC  croi_ensemble   \n12          single_layer+multi_layer&i3d_flow     H3  ROIxSMC  croi_ensemble   \n11  single_layer+multi_layer&i3d_rgb+i3d_flow     H3  ROIxSMC  croi_ensemble   \n\n               WB             V1             V2             V3             V4  \\\n16  0.1777/0.3779  0.3338/0.6605  0.3224/0.6795  0.3053/0.6753  0.2808/0.7183   \n4   0.1565/0.3372  0.2551/0.5321  0.2619/0.5802  0.2692/0.6023  0.2530/0.6422   \n14  0.1798/0.3824  0.3339/0.6620  0.3232/0.6817  0.3078/0.6794  0.2838/0.7239   \n0   0.1747/0.3726  0.3335/0.6768  0.3221/0.6889  0.3059/0.6795  0.2812/0.7183   \n7   0.1508/0.3410  0.2600/0.5398  0.2682/0.5919  0.2725/0.6043  0.2504/0.6522   \n21  0.1764/0.3771  0.3343/0.6792  0.3234/0.6941  0.3091/0.6861  0.2845/0.7268   \n13  0.1788/0.3781  0.3375/0.6786  0.3256/0.6929  0.3087/0.6834  0.2840/0.7217   \n12  0.1577/0.3387  0.2635/0.5446  0.2697/0.5942  0.2746/0.6106  0.2547/0.6489   \n11  0.1809/0.3824  0.3383/0.6802  0.3263/0.6945  0.3107/0.6885  0.2871/0.7287   \n\n              LOC  ...      SMC2       MC2       MC1       SC3       SC4  \\\n16  0.3594/0.7210  ...  0.0459/-  0.2915/-  0.0610/-  0.3198/-  0.2637/-   \n4   0.3322/0.6609  ...  0.0342/-  0.2665/-  0.0476/-  0.2877/-  0.2456/-   \n14  0.3627/0.7275  ...  0.0462/-  0.2953/-  0.0616/-  0.3238/-  0.2672/-   \n0   0.3546/0.7179  ...  0.0444/-  0.2873/-  0.0584/-  0.3153/-  0.2596/-   \n7   0.3280/0.6768  ...  0.0322/-  0.2618/-  0.0436/-  0.2841/-  0.2399/-   \n21  0.3583/0.7271  ...  0.0446/-  0.2904/-  0.0587/-  0.3191/-  0.2621/-   \n13  0.3597/0.7161  ...  0.0464/-  0.2930/-  0.0615/-  0.3219/-  0.2645/-   \n12  0.3343/0.6682  ...  0.0343/-  0.2669/-  0.0479/-  0.2891/-  0.2451/-   \n11  0.3630/0.7253  ...  0.0468/-  0.2947/-  0.0625/-  0.3227/-  0.2671/-   \n\n         LC1       LC2       LC3       LC4       LC5  \n16  0.0904/-  0.3218/-  0.2597/-  0.4768/-  0.4161/-  \n4   0.0755/-  0.3022/-  0.2200/-  0.4543/-  0.3501/-  \n14  0.0915/-  0.3278/-  0.2608/-  0.4822/-  0.4186/-  \n0   0.0876/-  0.3216/-  0.2514/-  0.4699/-  0.4191/-  \n7   0.0715/-  0.2920/-  0.2087/-  0.4491/-  0.3551/-  \n21  0.0883/-  0.3255/-  0.2535/-  0.4772/-  0.4211/-  \n13  0.0911/-  0.3231/-  0.2618/-  0.4774/-  0.4217/-  \n12  0.0759/-  0.3050/-  0.2213/-  0.4549/-  0.3573/-  \n11  0.0921/-  0.3285/-  0.2636/-  0.4830/-  0.4227/-  \n\n[9 rows x 26 columns]",
      "text/html": "<div>\n<style scoped>\n    .dataframe tbody tr th:only-of-type {\n        vertical-align: middle;\n    }\n\n    .dataframe tbody tr th {\n        vertical-align: top;\n    }\n\n    .dataframe thead th {\n        text-align: right;\n    }\n</style>\n<table border=\"1\" class=\"dataframe\">\n  <thead>\n    <tr style=\"text-align: right;\">\n      <th></th>\n      <th>model_sch</th>\n      <th>he_sch</th>\n      <th>roi_sch</th>\n      <th>cross_roi_sch</th>\n      <th>WB</th>\n      <th>V1</th>\n      <th>V2</th>\n      <th>V3</th>\n      <th>V4</th>\n      <th>LOC</th>\n      <th>...</th>\n      <th>SMC2</th>\n      <th>MC2</th>\n      <th>MC1</th>\n      <th>SC3</th>\n      <th>SC4</th>\n      <th>LC1</th>\n      <th>LC2</th>\n      <th>LC3</th>\n      <th>LC4</th>\n      <th>LC5</th>\n    </tr>\n  </thead>\n  <tbody>\n    <tr>\n      <th>16</th>\n      <td>single_layer&amp;i3d_rgb</td>\n      <td>H3</td>\n      <td>ROIxSMC</td>\n      <td>croi_ensemble</td>\n      <td>0.1777/0.3779</td>\n      <td>0.3338/0.6605</td>\n      <td>0.3224/0.6795</td>\n      <td>0.3053/0.6753</td>\n      <td>0.2808/0.7183</td>\n      <td>0.3594/0.7210</td>\n      <td>...</td>\n      <td>0.0459/-</td>\n      <td>0.2915/-</td>\n      <td>0.0610/-</td>\n      <td>0.3198/-</td>\n      <td>0.2637/-</td>\n      <td>0.0904/-</td>\n      <td>0.3218/-</td>\n      <td>0.2597/-</td>\n      <td>0.4768/-</td>\n      <td>0.4161/-</td>\n    </tr>\n    <tr>\n      <th>4</th>\n      <td>single_layer&amp;i3d_flow</td>\n      <td>H3</td>\n      <td>ROIxSMC</td>\n      <td>croi_ensemble</td>\n      <td>0.1565/0.3372</td>\n      <td>0.2551/0.5321</td>\n      <td>0.2619/0.5802</td>\n      <td>0.2692/0.6023</td>\n      <td>0.2530/0.6422</td>\n      <td>0.3322/0.6609</td>\n      <td>...</td>\n      <td>0.0342/-</td>\n      <td>0.2665/-</td>\n      <td>0.0476/-</td>\n      <td>0.2877/-</td>\n      <td>0.2456/-</td>\n      <td>0.0755/-</td>\n      <td>0.3022/-</td>\n      <td>0.2200/-</td>\n      <td>0.4543/-</td>\n      <td>0.3501/-</td>\n    </tr>\n    <tr>\n      <th>14</th>\n      <td>single_layer&amp;i3d_rgb+i3d_flow</td>\n      <td>H3</td>\n      <td>ROIxSMC</td>\n      <td>croi_ensemble</td>\n      <td>0.1798/0.3824</td>\n      <td>0.3339/0.6620</td>\n      <td>0.3232/0.6817</td>\n      <td>0.3078/0.6794</td>\n      <td>0.2838/0.7239</td>\n      <td>0.3627/0.7275</td>\n      <td>...</td>\n      <td>0.0462/-</td>\n      <td>0.2953/-</td>\n      <td>0.0616/-</td>\n      <td>0.3238/-</td>\n      <td>0.2672/-</td>\n      <td>0.0915/-</td>\n      <td>0.3278/-</td>\n      <td>0.2608/-</td>\n      <td>0.4822/-</td>\n      <td>0.4186/-</td>\n    </tr>\n    <tr>\n      <th>0</th>\n      <td>multi_layer&amp;i3d_rgb</td>\n      <td>H3</td>\n      <td>ROIxSMC</td>\n      <td>croi_ensemble</td>\n      <td>0.1747/0.3726</td>\n      <td>0.3335/0.6768</td>\n      <td>0.3221/0.6889</td>\n      <td>0.3059/0.6795</td>\n      <td>0.2812/0.7183</td>\n      <td>0.3546/0.7179</td>\n      <td>...</td>\n      <td>0.0444/-</td>\n      <td>0.2873/-</td>\n      <td>0.0584/-</td>\n      <td>0.3153/-</td>\n      <td>0.2596/-</td>\n      <td>0.0876/-</td>\n      <td>0.3216/-</td>\n      <td>0.2514/-</td>\n      <td>0.4699/-</td>\n      <td>0.4191/-</td>\n    </tr>\n    <tr>\n      <th>7</th>\n      <td>multi_layer&amp;i3d_flow</td>\n      <td>H3</td>\n      <td>ROIxSMC</td>\n      <td>croi_ensemble</td>\n      <td>0.1508/0.3410</td>\n      <td>0.2600/0.5398</td>\n      <td>0.2682/0.5919</td>\n      <td>0.2725/0.6043</td>\n      <td>0.2504/0.6522</td>\n      <td>0.3280/0.6768</td>\n      <td>...</td>\n      <td>0.0322/-</td>\n      <td>0.2618/-</td>\n      <td>0.0436/-</td>\n      <td>0.2841/-</td>\n      <td>0.2399/-</td>\n      <td>0.0715/-</td>\n      <td>0.2920/-</td>\n      <td>0.2087/-</td>\n      <td>0.4491/-</td>\n      <td>0.3551/-</td>\n    </tr>\n    <tr>\n      <th>21</th>\n      <td>multi_layer&amp;i3d_rgb+i3d_flow</td>\n      <td>H3</td>\n      <td>ROIxSMC</td>\n      <td>croi_ensemble</td>\n      <td>0.1764/0.3771</td>\n      <td>0.3343/0.6792</td>\n      <td>0.3234/0.6941</td>\n      <td>0.3091/0.6861</td>\n      <td>0.2845/0.7268</td>\n      <td>0.3583/0.7271</td>\n      <td>...</td>\n      <td>0.0446/-</td>\n      <td>0.2904/-</td>\n      <td>0.0587/-</td>\n      <td>0.3191/-</td>\n      <td>0.2621/-</td>\n      <td>0.0883/-</td>\n      <td>0.3255/-</td>\n      <td>0.2535/-</td>\n      <td>0.4772/-</td>\n      <td>0.4211/-</td>\n    </tr>\n    <tr>\n      <th>13</th>\n      <td>single_layer+multi_layer&amp;i3d_rgb</td>\n      <td>H3</td>\n      <td>ROIxSMC</td>\n      <td>croi_ensemble</td>\n      <td>0.1788/0.3781</td>\n      <td>0.3375/0.6786</td>\n      <td>0.3256/0.6929</td>\n      <td>0.3087/0.6834</td>\n      <td>0.2840/0.7217</td>\n      <td>0.3597/0.7161</td>\n      <td>...</td>\n      <td>0.0464/-</td>\n      <td>0.2930/-</td>\n      <td>0.0615/-</td>\n      <td>0.3219/-</td>\n      <td>0.2645/-</td>\n      <td>0.0911/-</td>\n      <td>0.3231/-</td>\n      <td>0.2618/-</td>\n      <td>0.4774/-</td>\n      <td>0.4217/-</td>\n    </tr>\n    <tr>\n      <th>12</th>\n      <td>single_layer+multi_layer&amp;i3d_flow</td>\n      <td>H3</td>\n      <td>ROIxSMC</td>\n      <td>croi_ensemble</td>\n      <td>0.1577/0.3387</td>\n      <td>0.2635/0.5446</td>\n      <td>0.2697/0.5942</td>\n      <td>0.2746/0.6106</td>\n      <td>0.2547/0.6489</td>\n      <td>0.3343/0.6682</td>\n      <td>...</td>\n      <td>0.0343/-</td>\n      <td>0.2669/-</td>\n      <td>0.0479/-</td>\n      <td>0.2891/-</td>\n      <td>0.2451/-</td>\n      <td>0.0759/-</td>\n      <td>0.3050/-</td>\n      <td>0.2213/-</td>\n      <td>0.4549/-</td>\n      <td>0.3573/-</td>\n    </tr>\n    <tr>\n      <th>11</th>\n      <td>single_layer+multi_layer&amp;i3d_rgb+i3d_flow</td>\n      <td>H3</td>\n      <td>ROIxSMC</td>\n      <td>croi_ensemble</td>\n      <td>0.1809/0.3824</td>\n      <td>0.3383/0.6802</td>\n      <td>0.3263/0.6945</td>\n      <td>0.3107/0.6885</td>\n      <td>0.2871/0.7287</td>\n      <td>0.3630/0.7253</td>\n      <td>...</td>\n      <td>0.0468/-</td>\n      <td>0.2947/-</td>\n      <td>0.0625/-</td>\n      <td>0.3227/-</td>\n      <td>0.2671/-</td>\n      <td>0.0921/-</td>\n      <td>0.3285/-</td>\n      <td>0.2636/-</td>\n      <td>0.4830/-</td>\n      <td>0.4227/-</td>\n    </tr>\n  </tbody>\n</table>\n<p>9 rows × 26 columns</p>\n</div>"
     },
     "metadata": {},
     "output_type": "display_data"
    }
   ],
   "source": [
    "from src.utils.misc import my_query_df\n",
    "from pprint import pprint\n",
    "\n",
    "for i, table_config in enumerate(table_configs):\n",
    "    dfs = []\n",
    "    for config in table_config:\n",
    "        config_dict = {k: v for k, v in zip(submission_configs_keys, config)}\n",
    "        df = my_query_df(full_table_df, equal_dict=config_dict)\n",
    "        dfs.append(df)\n",
    "    table_df = pd.concat(dfs)\n",
    "    display(table_df)\n",
    "    table_df.to_csv(f'./tables/Table {i + 1:02d}.csv')"
   ]
  },
  {
   "cell_type": "code",
   "execution_count": null,
   "id": "fed8cf8a-29b3-4660-a323-eab9915dfad5",
   "metadata": {},
   "outputs": [],
   "source": []
  },
  {
   "cell_type": "code",
   "execution_count": 55,
   "id": "8c64e379-afda-4756-9297-0bcac05cf95a",
   "metadata": {},
   "outputs": [],
   "source": [
    "# drafts"
   ]
  },
  {
   "cell_type": "code",
   "execution_count": null,
   "id": "b3fbb58b-0224-465c-9ab5-8c0b13340cfa",
   "metadata": {},
   "outputs": [],
   "source": [
    "import seaborn as sns\n",
    "import matplotlib.pyplot as plt\n",
    "\n",
    "for model_sch, he_sch in list(itertools.product(model_schs, he_schs)):\n",
    "    idf = my_query_df(score_df, {'model_sch': model_sch, 'he_sch': he_sch})\n",
    "    x = idf.trained_roi_sch.unique()\n",
    "    y = idf.roi.unique()\n",
    "    shape = (len(x), len(y))\n",
    "    scores = idf.score.values.reshape(shape)\n",
    "    ax, fig = plt.subplots(figsize=(20, 4))\n",
    "    sns.heatmap(scores, xticklabels=y, yticklabels=x, annot=True, fmt='.4f', cmap='Reds')\n",
    "    plt.yticks(rotation=0)\n",
    "    plt.title(f'model_sch={model_sch}\\n he_sch={he_sch}')\n",
    "    plt.show()"
   ]
  }
 ],
 "metadata": {
  "kernelspec": {
   "display_name": "Python 3 (ipykernel)",
   "language": "python",
   "name": "python3"
  },
  "language_info": {
   "codemirror_mode": {
    "name": "ipython",
    "version": 3
   },
   "file_extension": ".py",
   "mimetype": "text/x-python",
   "name": "python",
   "nbconvert_exporter": "python",
   "pygments_lexer": "ipython3",
   "version": "3.8.8"
  }
 },
 "nbformat": 4,
 "nbformat_minor": 5
}