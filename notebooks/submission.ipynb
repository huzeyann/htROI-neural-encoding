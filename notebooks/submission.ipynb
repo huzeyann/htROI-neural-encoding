{
 "cells": [
  {
   "cell_type": "code",
   "execution_count": 1,
   "id": "5eb187f7",
   "metadata": {},
   "outputs": [],
   "source": [
    "from src.utils.submission import algonauts2021_submission_from_whole_brain_prediction"
   ]
  },
  {
   "cell_type": "code",
   "execution_count": 2,
   "id": "b23dc83e",
   "metadata": {},
   "outputs": [],
   "source": [
    "import torch"
   ]
  },
  {
   "cell_type": "code",
   "execution_count": 3,
   "id": "b53d31f6",
   "metadata": {},
   "outputs": [],
   "source": [
    "prediction = torch.load('/data/huze/tmp/prediction.pt')"
   ]
  },
  {
   "cell_type": "code",
   "execution_count": 4,
   "id": "ed740df5",
   "metadata": {},
   "outputs": [],
   "source": [
    "prediction = prediction[1000:].float().numpy()"
   ]
  },
  {
   "cell_type": "code",
   "execution_count": 5,
   "id": "8e8305f8",
   "metadata": {},
   "outputs": [],
   "source": [
    "algonauts2021_submission_from_whole_brain_prediction('../src/config/dataset',\n",
    "                                                    'debug',\n",
    "                                                    prediction)"
   ]
  },
  {
   "cell_type": "code",
   "execution_count": 7,
   "id": "8ac45633",
   "metadata": {},
   "outputs": [
    {
     "data": {
      "text/plain": [
       "numpy.ndarray"
      ]
     },
     "execution_count": 7,
     "metadata": {},
     "output_type": "execute_result"
    }
   ],
   "source": [
    "type(prediction)"
   ]
  },
  {
   "cell_type": "code",
   "execution_count": 9,
   "id": "c6d019a9",
   "metadata": {},
   "outputs": [],
   "source": [
    "import numpy as np"
   ]
  },
  {
   "cell_type": "code",
   "execution_count": 8,
   "id": "90188b84",
   "metadata": {},
   "outputs": [
    {
     "data": {
      "text/plain": [
       "dtype('float32')"
      ]
     },
     "execution_count": 8,
     "metadata": {},
     "output_type": "execute_result"
    }
   ],
   "source": [
    "prediction.dtype == "
   ]
  },
  {
   "cell_type": "code",
   "execution_count": 11,
   "id": "35bcbd38",
   "metadata": {},
   "outputs": [],
   "source": [
    "assert prediction.dtype == np.float32"
   ]
  },
  {
   "cell_type": "code",
   "execution_count": null,
   "id": "e18df43f",
   "metadata": {},
   "outputs": [],
   "source": []
  }
 ],
 "metadata": {
  "kernelspec": {
   "display_name": "Python 3 (ipykernel)",
   "language": "python",
   "name": "python3"
  },
  "language_info": {
   "codemirror_mode": {
    "name": "ipython",
    "version": 3
   },
   "file_extension": ".py",
   "mimetype": "text/x-python",
   "name": "python",
   "nbconvert_exporter": "python",
   "pygments_lexer": "ipython3",
   "version": "3.8.8"
  }
 },
 "nbformat": 4,
 "nbformat_minor": 5
}
