{
 "cells": [
  {
   "cell_type": "code",
   "execution_count": 2,
   "metadata": {
    "collapsed": false,
    "jupyter": {
     "outputs_hidden": false
    },
    "pycharm": {
     "name": "#%%\n"
    }
   },
   "outputs": [
    {
     "data": {
      "text/plain": [
       "True"
      ]
     },
     "execution_count": 2,
     "metadata": {},
     "output_type": "execute_result"
    }
   ],
   "source": [
    "from pathlib import Path\n",
    "\n",
    "import numpy as np\n",
    "import torch\n",
    "\n",
    "from tqdm.auto import tqdm\n",
    "from tqdm.notebook import tqdm_notebook, trange\n",
    "\n",
    "import itertools\n",
    "\n",
    "import os\n",
    "from dotenv import find_dotenv, load_dotenv\n",
    "\n",
    "load_dotenv(find_dotenv(), verbose=True)"
   ]
  },
  {
   "cell_type": "code",
   "execution_count": 3,
   "metadata": {
    "collapsed": false,
    "jupyter": {
     "outputs_hidden": false
    },
    "pycharm": {
     "name": "#%%\n"
    }
   },
   "outputs": [],
   "source": [
    "debug = True"
   ]
  },
  {
   "cell_type": "markdown",
   "metadata": {},
   "source": [
    "# prepare data"
   ]
  },
  {
   "cell_type": "code",
   "execution_count": 4,
   "metadata": {},
   "outputs": [],
   "source": [
    "from src.utils.ensemble import optimize_val_correlation\n",
    "from src.config.config import combine_cfgs, get_cfg_defaults\n",
    "from src.data.datamodule import MyDataModule\n",
    "from pathlib import Path\n",
    "import torch\n",
    "import numpy as np"
   ]
  },
  {
   "cell_type": "code",
   "execution_count": 5,
   "metadata": {
    "collapsed": false,
    "jupyter": {
     "outputs_hidden": false
    },
    "pycharm": {
     "name": "#%%\n"
    }
   },
   "outputs": [],
   "source": [
    "# prepare train and validation data\n",
    "cfg = get_cfg_defaults()\n",
    "cfg.DATASET.TRANSFORM = 'i3d_flow'\n",
    "cfg.DATASET.FRAMES = 64\n",
    "dm = MyDataModule(cfg)\n",
    "dm.prepare_data()\n",
    "dm.setup()\n",
    "\n",
    "val_indices = dm.val_dataset.indices\n",
    "fmris_cache_path = Path('/data/huze/.cache/trainval_fmris.pt')\n",
    "\n",
    "if fmris_cache_path.exists():\n",
    "    fmris = torch.load(fmris_cache_path)\n",
    "else:\n",
    "    fmris = [dm.dataset_train_val.__getitem__(i)[1]\n",
    "             for i in tqdm(range(dm.dataset_train_val.__len__()))]\n",
    "    fmris = np.stack(fmris, 0)\n",
    "    fmris = torch.tensor(fmris)\n",
    "    torch.save(fmris, fmris_cache_path)\n",
    "\n",
    "val_fmris = fmris[val_indices]"
   ]
  },
  {
   "cell_type": "code",
   "execution_count": 6,
   "metadata": {},
   "outputs": [],
   "source": [
    "mask_img = 'config/reliable_voxel_mask.nii'"
   ]
  },
  {
   "cell_type": "code",
   "execution_count": 7,
   "metadata": {},
   "outputs": [],
   "source": [
    "voxel_masks = np.load('config/voxel_masks.npy')"
   ]
  },
  {
   "cell_type": "code",
   "execution_count": 8,
   "metadata": {},
   "outputs": [],
   "source": [
    "noise_ceiling = np.load('config/noise_ceiling.npy')"
   ]
  },
  {
   "cell_type": "code",
   "execution_count": 9,
   "metadata": {},
   "outputs": [],
   "source": [
    "chaotic_motions = torch.tensor(np.load('./tmp/notebook920/chaotic_motion.npy'))"
   ]
  },
  {
   "cell_type": "code",
   "execution_count": 12,
   "metadata": {
    "collapsed": false,
    "jupyter": {
     "outputs_hidden": false
    },
    "pycharm": {
     "name": "#%%\n"
    }
   },
   "outputs": [],
   "source": [
    "from matplotlib import pyplot as plt\n",
    "import pandas as pd\n",
    "import seaborn as sns"
   ]
  },
  {
   "cell_type": "markdown",
   "metadata": {
    "pycharm": {
     "name": "#%% md\n"
    }
   },
   "source": [
    "# load models"
   ]
  },
  {
   "cell_type": "code",
   "execution_count": 13,
   "metadata": {},
   "outputs": [
    {
     "name": "stdout",
     "output_type": "stream",
     "text": [
      "results_dir /data/huze/ray_results/algonauts2021\n"
     ]
    }
   ],
   "source": [
    "results_dir = Path('/data/huze/ray_results/algonauts2021')\n",
    "print('results_dir', results_dir)"
   ]
  },
  {
   "cell_type": "code",
   "execution_count": 14,
   "metadata": {},
   "outputs": [],
   "source": [
    "from src.utils.runs import load_run_df"
   ]
  },
  {
   "cell_type": "code",
   "execution_count": 15,
   "metadata": {},
   "outputs": [
    {
     "data": {
      "application/vnd.jupyter.widget-view+json": {
       "model_id": "990078e5666d4fc1bae6f2c646ac0d56",
       "version_major": 2,
       "version_minor": 0
      },
      "text/plain": [
       "  0%|          | 0/4218 [00:00<?, ?it/s]"
      ]
     },
     "metadata": {},
     "output_type": "display_data"
    }
   ],
   "source": [
    "run_df = load_run_df(results_dir)"
   ]
  },
  {
   "cell_type": "code",
   "execution_count": 16,
   "metadata": {},
   "outputs": [],
   "source": [
    "from src.utils.runs import my_query_df, filter_multi_layer_runs, filter_single_layer_runs"
   ]
  },
  {
   "cell_type": "code",
   "execution_count": 17,
   "metadata": {},
   "outputs": [
    {
     "data": {
      "text/plain": [
       "Index(['DESCRIPTION', 'DATAMODULE.NUM_CV_SPLITS', 'DATAMODULE.I_CV_FOLD',\n",
       "       'DATASET.NAME', 'DATASET.ROOT_DIR', 'DATASET.TRANSFORM',\n",
       "       'DATASET.RESOLUTION', 'DATASET.FRAMES', 'DATASET.VOXEL_INDEX_DIR',\n",
       "       'DATASET.ROI', 'MODEL.BACKBONE.NAME', 'MODEL.BACKBONE.PRETRAINED',\n",
       "       'MODEL.BACKBONE.PRETRAINED_WEIGHT_DIR', 'MODEL.BACKBONE.DISABLE_BN',\n",
       "       'MODEL.BACKBONE.LAYERS', 'MODEL.BACKBONE.LAYER_PATHWAYS',\n",
       "       'MODEL.NECK.NECK_TYPE', 'MODEL.NECK.FIRST_CONV_SIZE',\n",
       "       'MODEL.NECK.POOLING_MODE', 'MODEL.NECK.SPP_LEVELS',\n",
       "       'MODEL.NECK.FC_ACTIVATION', 'MODEL.NECK.FC_HIDDEN_DIM',\n",
       "       'MODEL.NECK.FC_NUM_LAYERS', 'MODEL.NECK.FC_BATCH_NORM',\n",
       "       'MODEL.NECK.FC_DROPOUT', 'MODEL.NECK.LSTM.HIDDEN_SIZE',\n",
       "       'MODEL.NECK.LSTM.NUM_LAYERS', 'MODEL.NECK.LSTM.BIDIRECTIONAL',\n",
       "       'OPTIMIZER.NAME', 'OPTIMIZER.LR', 'OPTIMIZER.WEIGHT_DECAY',\n",
       "       'SCHEDULER.NAME', 'TRAINER.GPUS', 'TRAINER.FP16', 'TRAINER.MAX_EPOCHS',\n",
       "       'TRAINER.ACCUMULATE_GRAD_BATCHES', 'TRAINER.BATCH_SIZE',\n",
       "       'TRAINER.VAL_CHECK_INTERVAL',\n",
       "       'TRAINER.CALLBACKS.BACKBONE.INITIAL_RATIO_LR',\n",
       "       'TRAINER.CALLBACKS.BACKBONE.LR_MULTIPLY_EFFICIENT',\n",
       "       'TRAINER.CALLBACKS.BACKBONE.DEFROST_SCORE',\n",
       "       'TRAINER.CALLBACKS.BACKBONE.SHOULD_ALIGN',\n",
       "       'TRAINER.CALLBACKS.BACKBONE.TRAIN_BN',\n",
       "       'TRAINER.CALLBACKS.BACKBONE.VERBOSE',\n",
       "       'TRAINER.CALLBACKS.EARLY_STOP.PATIENCE',\n",
       "       'TRAINER.CALLBACKS.CHECKPOINT.ROOT_DIR',\n",
       "       'TRAINER.CALLBACKS.CHECKPOINT.RM_AT_DONE', 'RESULTS_DIR', 'DEBUG',\n",
       "       'path', 'score', 'time'],\n",
       "      dtype='object')"
      ]
     },
     "execution_count": 17,
     "metadata": {},
     "output_type": "execute_result"
    }
   ],
   "source": [
    "run_df.keys()"
   ]
  },
  {
   "cell_type": "code",
   "execution_count": 21,
   "metadata": {},
   "outputs": [],
   "source": [
    "baseline_df = filter_multi_layer_runs(run_df)\n",
    "baseline_df = my_query_df(baseline_df, {'DATASET.ROI': 'WB', 'MODEL.BACKBONE.NAME': '3d_swin'})\n",
    "baseline_df = baseline_df[baseline_df['TRAINER.CALLBACKS.BACKBONE.DEFROST_SCORE'] == 1.]"
   ]
  },
  {
   "cell_type": "code",
   "execution_count": 22,
   "metadata": {
    "collapsed": false,
    "jupyter": {
     "outputs_hidden": false
    },
    "pycharm": {
     "name": "#%%\n"
    }
   },
   "outputs": [],
   "source": [
    "predictions_dict = {\n",
    "    'Baseline': torch.tensor(np.load(baseline_df.path.item().joinpath(Path('prediction.npy')))).float(),\n",
    "    'Best': torch.load(Path('/data/huze/ray_results/algonauts2021/notebook200/backbone=1,he_sch=H3,intersection_sch=grouped ensemble,subset_roi_sch=WB+aROI+S-htROI-prediction.pt')),\n",
    "}"
   ]
  },
  {
   "cell_type": "markdown",
   "metadata": {
    "jupyter": {
     "outputs_hidden": false
    },
    "pycharm": {
     "name": "#%%\n"
    }
   },
   "source": [
    "all_df = pd.DataFrame(all_df_data)"
   ]
  },
  {
   "cell_type": "markdown",
   "metadata": {
    "jupyter": {
     "outputs_hidden": false
    },
    "pycharm": {
     "name": "#%%\n"
    }
   },
   "source": [
    "print(all_df.model_sch.unique())\n",
    "print(len(all_df))"
   ]
  },
  {
   "cell_type": "code",
   "execution_count": null,
   "metadata": {
    "collapsed": false,
    "jupyter": {
     "outputs_hidden": false
    },
    "pycharm": {
     "name": "#%%\n"
    }
   },
   "outputs": [],
   "source": []
  },
  {
   "cell_type": "markdown",
   "metadata": {
    "pycharm": {
     "name": "#%% md\n"
    }
   },
   "source": [
    "# compute"
   ]
  },
  {
   "cell_type": "code",
   "execution_count": 23,
   "metadata": {
    "collapsed": false,
    "jupyter": {
     "outputs_hidden": false
    },
    "pycharm": {
     "name": "#%%\n"
    }
   },
   "outputs": [],
   "source": [
    "# on validation set, but internal variance on the whole set"
   ]
  },
  {
   "cell_type": "code",
   "execution_count": 24,
   "metadata": {
    "collapsed": false,
    "jupyter": {
     "outputs_hidden": false
    },
    "pycharm": {
     "name": "#%%\n"
    }
   },
   "outputs": [],
   "source": [
    "from src.utils.analysis import get_motion_correlation, get_sequential_internal_variance_motion_correlation"
   ]
  },
  {
   "cell_type": "code",
   "execution_count": 25,
   "metadata": {
    "collapsed": false,
    "jupyter": {
     "outputs_hidden": false
    },
    "pycharm": {
     "name": "#%%\n"
    }
   },
   "outputs": [],
   "source": [
    "from src.utils.metrics import vectorized_correlation"
   ]
  },
  {
   "cell_type": "code",
   "execution_count": 26,
   "metadata": {},
   "outputs": [],
   "source": [
    "from src.utils.analysis import upper_tri_masking, my_corrcoef"
   ]
  },
  {
   "cell_type": "code",
   "execution_count": 27,
   "metadata": {
    "collapsed": false,
    "jupyter": {
     "outputs_hidden": false
    },
    "pycharm": {
     "name": "#%%\n"
    }
   },
   "outputs": [],
   "source": [
    "device = 'cuda:7'"
   ]
  },
  {
   "cell_type": "code",
   "execution_count": 28,
   "metadata": {
    "collapsed": false,
    "jupyter": {
     "outputs_hidden": false
    },
    "pycharm": {
     "name": "#%%\n"
    }
   },
   "outputs": [],
   "source": [
    "chaotic_motions = chaotic_motions.to(device)\n",
    "val_fmris = val_fmris.to(device)\n",
    "fmris = fmris.to(device)\n",
    "noise_ceiling = torch.tensor(noise_ceiling).float().to(device)"
   ]
  },
  {
   "cell_type": "code",
   "execution_count": 29,
   "metadata": {
    "collapsed": false,
    "jupyter": {
     "outputs_hidden": false
    },
    "pycharm": {
     "name": "#%%\n"
    }
   },
   "outputs": [],
   "source": [
    "num_fmris = dm.dataset_train_val.__len__()\n",
    "\n",
    "gt_fmris = fmris\n",
    "gt_motion_correlation = get_motion_correlation(chaotic_motions[val_indices], gt_fmris[val_indices])\n",
    "gt_r1 = 1 - upper_tri_masking(my_corrcoef(val_fmris))\n",
    "gt_motion_correlation_internal_variance = get_sequential_internal_variance_motion_correlation(\n",
    "    chaotic_motions, gt_fmris).mean()\n"
   ]
  },
  {
   "cell_type": "code",
   "execution_count": 30,
   "metadata": {},
   "outputs": [],
   "source": [
    "interest_df = filter_single_layer_runs(\n",
    "    my_query_df(run_df, \n",
    "                equal_dict={\n",
    "                    'DATASET.ROI': 'WB',\n",
    "                }))"
   ]
  },
  {
   "cell_type": "raw",
   "metadata": {},
   "source": [
    "run_df.keys()"
   ]
  },
  {
   "cell_type": "code",
   "execution_count": 31,
   "metadata": {
    "collapsed": false,
    "jupyter": {
     "outputs_hidden": false
    },
    "pycharm": {
     "name": "#%%\n"
    }
   },
   "outputs": [
    {
     "data": {
      "application/vnd.jupyter.widget-view+json": {
       "model_id": "df749a5043f846bcb693392c1e52587c",
       "version_major": 2,
       "version_minor": 0
      },
      "text/plain": [
       "  0%|          | 0/180 [00:00<?, ?it/s]"
      ]
     },
     "metadata": {},
     "output_type": "display_data"
    }
   ],
   "source": [
    "res_dicts = []\n",
    "for i_row, row in tqdm(interest_df.iterrows(), total=len(interest_df)):\n",
    "    path = row.path.joinpath('prediction.npy')\n",
    "    if path.name.endswith('.pt'):\n",
    "        prediction = torch.load(path).float()\n",
    "    else:\n",
    "        prediction = torch.tensor(np.load(path)).float()\n",
    "\n",
    "    prediction = prediction.to(device)\n",
    "\n",
    "    prediction = prediction[:num_fmris]\n",
    "    motion_correlation = get_motion_correlation(chaotic_motions[val_indices], prediction[val_indices])\n",
    "\n",
    "    # part 0 - validation score\n",
    "    val_scores = vectorized_correlation(prediction[val_indices], val_fmris)\n",
    "    val_scores /= noise_ceiling\n",
    "    val_score = val_scores.mean().item()\n",
    "\n",
    "    # part 1 - mc score\n",
    "    motion_correlation_score = np.corrcoef(motion_correlation, gt_motion_correlation)[0, 1]\n",
    "    # print(motion_correlation_score)\n",
    "\n",
    "    # part 2 - mf/fi variance\n",
    "    motion_correlation_internal_variance = get_sequential_internal_variance_motion_correlation(\n",
    "        chaotic_motions, prediction).mean()\n",
    "    # print(motion_correlation_internal_variance)\n",
    "\n",
    "    # part 3 - rsa score\n",
    "    r1 = 1 - upper_tri_masking(my_corrcoef(prediction[val_indices]))\n",
    "    rsa_score = my_corrcoef(torch.stack([r1, gt_r1]))[0, 1].cpu().item()\n",
    "    # print(rsa_score)\n",
    "\n",
    "    res_dicts.append({\n",
    "        'backbone': row['MODEL.BACKBONE.NAME'],\n",
    "        'val_score': val_score,\n",
    "        'rsa_score': rsa_score,\n",
    "        'motion_correlation_internal_variance': motion_correlation_internal_variance,\n",
    "        'motion_correlation_score': motion_correlation_score,\n",
    "    })"
   ]
  },
  {
   "cell_type": "code",
   "execution_count": 32,
   "metadata": {},
   "outputs": [],
   "source": [
    "for name, prediction in predictions_dict.items():\n",
    "    prediction = prediction.to(device)\n",
    "\n",
    "    prediction = prediction[:num_fmris]\n",
    "    motion_correlation = get_motion_correlation(chaotic_motions[val_indices], prediction[val_indices])\n",
    "\n",
    "    # part 0 - validation score\n",
    "    val_scores = vectorized_correlation(prediction[val_indices], val_fmris)\n",
    "    val_scores /= noise_ceiling\n",
    "    val_score = val_scores.mean().item()\n",
    "\n",
    "    # part 1 - mc score\n",
    "    motion_correlation_score = np.corrcoef(motion_correlation, gt_motion_correlation)[0, 1]\n",
    "    # print(motion_correlation_score)\n",
    "\n",
    "    # part 2 - mf/fi variance\n",
    "    motion_correlation_internal_variance = get_sequential_internal_variance_motion_correlation(\n",
    "        chaotic_motions, prediction).mean()\n",
    "    # print(motion_correlation_internal_variance)\n",
    "\n",
    "    # part 3 - rsa score\n",
    "    r1 = 1 - upper_tri_masking(my_corrcoef(prediction[val_indices]))\n",
    "    rsa_score = my_corrcoef(torch.stack([r1, gt_r1]))[0, 1].cpu().item()\n",
    "    # print(rsa_score)\n",
    "\n",
    "    res_dicts.append({\n",
    "        'backbone': name,\n",
    "        'val_score': val_score,\n",
    "        'rsa_score': rsa_score,\n",
    "        'motion_correlation_internal_variance': motion_correlation_internal_variance,\n",
    "        'motion_correlation_score': motion_correlation_score,\n",
    "    })"
   ]
  },
  {
   "cell_type": "code",
   "execution_count": 33,
   "metadata": {},
   "outputs": [],
   "source": [
    "for name, prediction in predictions_dict.items():\n",
    "    prediction = prediction.to(device)\n",
    "\n",
    "    prediction = prediction[:num_fmris]\n",
    "    motion_correlation = get_motion_correlation(chaotic_motions[val_indices], prediction[val_indices])\n",
    "    \n",
    "    torch.save(motion_correlation, f'tmp/notebook922/{name}-motion_correlation.pt')"
   ]
  },
  {
   "cell_type": "code",
   "execution_count": 34,
   "metadata": {},
   "outputs": [],
   "source": [
    "torch.save(gt_motion_correlation, f'tmp/notebook922/gt-motion_correlation.pt')"
   ]
  },
  {
   "cell_type": "code",
   "execution_count": 35,
   "metadata": {},
   "outputs": [
    {
     "data": {
      "text/plain": [
       "dict_keys(['Baseline', 'Best'])"
      ]
     },
     "execution_count": 35,
     "metadata": {},
     "output_type": "execute_result"
    }
   ],
   "source": [
    "predictions_dict.keys()"
   ]
  },
  {
   "cell_type": "code",
   "execution_count": 36,
   "metadata": {
    "collapsed": false,
    "jupyter": {
     "outputs_hidden": false
    },
    "pycharm": {
     "name": "#%%\n"
    }
   },
   "outputs": [],
   "source": [
    "res_df = pd.DataFrame(res_dicts)"
   ]
  },
  {
   "cell_type": "code",
   "execution_count": 37,
   "metadata": {
    "collapsed": false,
    "jupyter": {
     "outputs_hidden": false
    },
    "pycharm": {
     "name": "#%%\n"
    }
   },
   "outputs": [],
   "source": [
    "res_df.to_csv('./tmp/notebook922/scatter_res_df.csv')"
   ]
  },
  {
   "cell_type": "code",
   "execution_count": 38,
   "metadata": {},
   "outputs": [],
   "source": [
    "res_df = pd.read_csv('./tmp/notebook922/scatter_res_df.csv')"
   ]
  },
  {
   "cell_type": "code",
   "execution_count": 39,
   "metadata": {
    "collapsed": false,
    "jupyter": {
     "outputs_hidden": false
    },
    "pycharm": {
     "name": "#%%\n"
    }
   },
   "outputs": [
    {
     "data": {
      "text/html": [
       "<div>\n",
       "<style scoped>\n",
       "    .dataframe tbody tr th:only-of-type {\n",
       "        vertical-align: middle;\n",
       "    }\n",
       "\n",
       "    .dataframe tbody tr th {\n",
       "        vertical-align: top;\n",
       "    }\n",
       "\n",
       "    .dataframe thead th {\n",
       "        text-align: right;\n",
       "    }\n",
       "</style>\n",
       "<table border=\"1\" class=\"dataframe\">\n",
       "  <thead>\n",
       "    <tr style=\"text-align: right;\">\n",
       "      <th></th>\n",
       "      <th>Unnamed: 0</th>\n",
       "      <th>backbone</th>\n",
       "      <th>val_score</th>\n",
       "      <th>rsa_score</th>\n",
       "      <th>motion_correlation_internal_variance</th>\n",
       "      <th>motion_correlation_score</th>\n",
       "    </tr>\n",
       "  </thead>\n",
       "  <tbody>\n",
       "    <tr>\n",
       "      <th>0</th>\n",
       "      <td>0</td>\n",
       "      <td>2d_pyconvsegnet_warp_3d</td>\n",
       "      <td>0.338922</td>\n",
       "      <td>0.300625</td>\n",
       "      <td>0.095660</td>\n",
       "      <td>0.253060</td>\n",
       "    </tr>\n",
       "    <tr>\n",
       "      <th>1</th>\n",
       "      <td>1</td>\n",
       "      <td>2d_pyconvsegnet_warp_3d</td>\n",
       "      <td>0.348198</td>\n",
       "      <td>0.320186</td>\n",
       "      <td>0.094453</td>\n",
       "      <td>0.289070</td>\n",
       "    </tr>\n",
       "    <tr>\n",
       "      <th>2</th>\n",
       "      <td>2</td>\n",
       "      <td>2d_pyconvsegnet_warp_3d</td>\n",
       "      <td>0.314212</td>\n",
       "      <td>0.287540</td>\n",
       "      <td>0.094682</td>\n",
       "      <td>0.295808</td>\n",
       "    </tr>\n",
       "    <tr>\n",
       "      <th>3</th>\n",
       "      <td>3</td>\n",
       "      <td>2d_pyconvsegnet_warp_3d</td>\n",
       "      <td>0.311066</td>\n",
       "      <td>0.269213</td>\n",
       "      <td>0.097689</td>\n",
       "      <td>0.196223</td>\n",
       "    </tr>\n",
       "    <tr>\n",
       "      <th>4</th>\n",
       "      <td>4</td>\n",
       "      <td>2d_pyconvsegnet_warp_3d</td>\n",
       "      <td>0.347521</td>\n",
       "      <td>0.343401</td>\n",
       "      <td>0.091559</td>\n",
       "      <td>0.236123</td>\n",
       "    </tr>\n",
       "    <tr>\n",
       "      <th>...</th>\n",
       "      <td>...</td>\n",
       "      <td>...</td>\n",
       "      <td>...</td>\n",
       "      <td>...</td>\n",
       "      <td>...</td>\n",
       "      <td>...</td>\n",
       "    </tr>\n",
       "    <tr>\n",
       "      <th>177</th>\n",
       "      <td>177</td>\n",
       "      <td>i3d_flow</td>\n",
       "      <td>0.344656</td>\n",
       "      <td>0.354898</td>\n",
       "      <td>0.091315</td>\n",
       "      <td>0.275696</td>\n",
       "    </tr>\n",
       "    <tr>\n",
       "      <th>178</th>\n",
       "      <td>178</td>\n",
       "      <td>i3d_flow</td>\n",
       "      <td>0.296634</td>\n",
       "      <td>0.285281</td>\n",
       "      <td>0.090856</td>\n",
       "      <td>0.254590</td>\n",
       "    </tr>\n",
       "    <tr>\n",
       "      <th>179</th>\n",
       "      <td>179</td>\n",
       "      <td>i3d_flow</td>\n",
       "      <td>0.223907</td>\n",
       "      <td>0.235310</td>\n",
       "      <td>0.113258</td>\n",
       "      <td>0.309603</td>\n",
       "    </tr>\n",
       "    <tr>\n",
       "      <th>180</th>\n",
       "      <td>180</td>\n",
       "      <td>Baseline</td>\n",
       "      <td>0.372980</td>\n",
       "      <td>0.388438</td>\n",
       "      <td>0.087933</td>\n",
       "      <td>0.347999</td>\n",
       "    </tr>\n",
       "    <tr>\n",
       "      <th>181</th>\n",
       "      <td>181</td>\n",
       "      <td>Best</td>\n",
       "      <td>0.468584</td>\n",
       "      <td>0.450059</td>\n",
       "      <td>0.089959</td>\n",
       "      <td>0.351023</td>\n",
       "    </tr>\n",
       "  </tbody>\n",
       "</table>\n",
       "<p>182 rows × 6 columns</p>\n",
       "</div>"
      ],
      "text/plain": [
       "     Unnamed: 0                 backbone  val_score  rsa_score  \\\n",
       "0             0  2d_pyconvsegnet_warp_3d   0.338922   0.300625   \n",
       "1             1  2d_pyconvsegnet_warp_3d   0.348198   0.320186   \n",
       "2             2  2d_pyconvsegnet_warp_3d   0.314212   0.287540   \n",
       "3             3  2d_pyconvsegnet_warp_3d   0.311066   0.269213   \n",
       "4             4  2d_pyconvsegnet_warp_3d   0.347521   0.343401   \n",
       "..          ...                      ...        ...        ...   \n",
       "177         177                 i3d_flow   0.344656   0.354898   \n",
       "178         178                 i3d_flow   0.296634   0.285281   \n",
       "179         179                 i3d_flow   0.223907   0.235310   \n",
       "180         180                 Baseline   0.372980   0.388438   \n",
       "181         181                     Best   0.468584   0.450059   \n",
       "\n",
       "     motion_correlation_internal_variance  motion_correlation_score  \n",
       "0                                0.095660                  0.253060  \n",
       "1                                0.094453                  0.289070  \n",
       "2                                0.094682                  0.295808  \n",
       "3                                0.097689                  0.196223  \n",
       "4                                0.091559                  0.236123  \n",
       "..                                    ...                       ...  \n",
       "177                              0.091315                  0.275696  \n",
       "178                              0.090856                  0.254590  \n",
       "179                              0.113258                  0.309603  \n",
       "180                              0.087933                  0.347999  \n",
       "181                              0.089959                  0.351023  \n",
       "\n",
       "[182 rows x 6 columns]"
      ]
     },
     "execution_count": 39,
     "metadata": {},
     "output_type": "execute_result"
    }
   ],
   "source": [
    "res_df"
   ]
  },
  {
   "cell_type": "code",
   "execution_count": 40,
   "metadata": {
    "collapsed": false,
    "jupyter": {
     "outputs_hidden": false
    },
    "pycharm": {
     "name": "#%%\n"
    }
   },
   "outputs": [],
   "source": [
    "num_fmris = dm.dataset_train_val.__len__()\n",
    "\n",
    "gt_fmris = fmris\n",
    "gt_motion_correlation = get_motion_correlation(chaotic_motions[val_indices], gt_fmris[val_indices])\n",
    "\n",
    "gt_motion_correlation_internal_variance = get_sequential_internal_variance_motion_correlation(\n",
    "    chaotic_motions, gt_fmris).mean()"
   ]
  },
  {
   "cell_type": "markdown",
   "metadata": {},
   "source": [
    "# nice scatter plot"
   ]
  },
  {
   "cell_type": "code",
   "execution_count": 41,
   "metadata": {},
   "outputs": [],
   "source": [
    "x_key = 'val_score'\n",
    "y_keys = ['rsa_score', 'motion_correlation_internal_variance', 'motion_correlation_score']\n",
    "labels = res_df['backbone'].values"
   ]
  },
  {
   "cell_type": "raw",
   "metadata": {},
   "source": [
    "def bigger_points(x):\n",
    "    if 'Baseline' in x:\n",
    "        return 30\n",
    "    elif 'Best' in x:\n",
    "        return 50\n",
    "    # elif 'multi-layer' in x:\n",
    "    #     return 5\n",
    "    else:\n",
    "        return 1"
   ]
  },
  {
   "cell_type": "raw",
   "metadata": {},
   "source": [
    "res_df['size'] = res_df['backbone'].apply(bigger_points)"
   ]
  },
  {
   "cell_type": "raw",
   "metadata": {},
   "source": [
    "def alpha_points(x):\n",
    "    if 'Baseline' in x:\n",
    "        return 1.\n",
    "    elif 'Best' in x:\n",
    "        return 1.\n",
    "    elif 'multi-layer' in x:\n",
    "        return 0.8\n",
    "    else:\n",
    "        return 0.5"
   ]
  },
  {
   "cell_type": "raw",
   "metadata": {},
   "source": [
    "res_df['alpha'] = res_df['backbone'].apply(alpha_points)"
   ]
  },
  {
   "cell_type": "raw",
   "metadata": {},
   "source": [
    "r_palette_group = {\n",
    "    'deeppink': ['Inflated 3D Resnet RGB, single-layer', 'Inflated 3D Resnet RGB, multi-layer'],\n",
    "    'green': ['Inflated 3D Resnet FLOW, single-layer', 'Inflated 3D Resnet FLOW, multi-layer'],\n",
    "    'deepskyblue': ['VGG16 2D + LSTM, multi-layer'],\n",
    "}"
   ]
  },
  {
   "cell_type": "code",
   "execution_count": 42,
   "metadata": {},
   "outputs": [],
   "source": [
    "from matplotlib.font_manager import FontProperties\n",
    "import matplotlib\n",
    "\n",
    "# plt.rcParams[\"font.weight\"] = \"bold\"\n",
    "# plt.rcParams[\"axes.labelweight\"] = \"bold\"\n",
    "\n",
    "font = FontProperties()\n",
    "# font.set_family('serif')\n",
    "# font.set_name('Times New Roman')\n",
    "font.set_style('italic')"
   ]
  },
  {
   "cell_type": "raw",
   "metadata": {},
   "source": [
    "plt.rcParams[\"font.weight\"] = \"normal\"\n",
    "plt.rcParams[\"axes.labelweight\"] = \"normal\""
   ]
  },
  {
   "cell_type": "raw",
   "metadata": {},
   "source": [
    "# plt.rcParams[\"font.weight\"] = \"bold\"\n",
    "# plt.rcParams[\"axes.labelweight\"] = \"bold\""
   ]
  },
  {
   "cell_type": "code",
   "execution_count": 43,
   "metadata": {},
   "outputs": [],
   "source": [
    "names = ['Best', 'Baseline', '3d_swin', 'i3d_rgb', '2d_densnet_warp_3d',\n",
    "       '2d_simclr_warp_3d', '2d_moby_swin_warp_3d',\n",
    "       '2d_pyconvsegnet_warp_3d', '2d_seg_swin_warp_3d', 'i3d_flow',\n",
    "       '2d_colorizer_warp_3d', '2d_bdcnvgg_warp_3d', 'audio_vggish']"
   ]
  },
  {
   "cell_type": "code",
   "execution_count": 44,
   "metadata": {},
   "outputs": [],
   "source": [
    "label_names = ['Best Ensemble', 'Baseline Multi-layer', '3D SwinTransformer-CLS', '3D ResNet-CLS',\n",
    "       '2D DensNet-CLS', '2D ResNet-SimClr', '2D SwinTransformer-Moby',\n",
    "       '2D PyConvSegNet-Seg', '2D SwinTransformer-Seg',\n",
    "       '3D ResNet Flow-CLS', '2D AlexNet-Colorization',\n",
    "       '2D VGG-EdgeDetection', 'Audio VGGish-CLS']"
   ]
  },
  {
   "cell_type": "code",
   "execution_count": 45,
   "metadata": {},
   "outputs": [],
   "source": [
    "mapcolors = [[0.12156863, 0.46666667, 0.70588235, 1.        ],\n",
    "       [1.        , 0.73333333, 0.47058824, 1.        ],\n",
    "       [0.54901961, 0.3372549 , 0.29411765, 1.        ],\n",
    "       [0.68235294, 0.78039216, 0.90980392, 1.        ],\n",
    "       [0.7372549 , 0.74117647, 0.13333333, 1.        ],\n",
    "       [0.58039216, 0.40392157, 0.74117647, 1.        ],\n",
    "       [0.78039216, 0.78039216, 0.78039216, 1.        ],\n",
    "       [0.76862745, 0.61176471, 0.58039216, 1.        ],\n",
    "       [0.83921569, 0.15294118, 0.15686275, 1.        ],\n",
    "       [0.09019608, 0.74509804, 0.81176471, 1.        ],\n",
    "       [0.59607843, 0.8745098 , 0.54117647, 1.        ],\n",
    "       [0.96862745, 0.71372549, 0.82352941, 1.        ]]\n",
    "\n",
    "# for first 2\n",
    "mapcolors = [mapcolors[0]] + mapcolors"
   ]
  },
  {
   "cell_type": "code",
   "execution_count": 46,
   "metadata": {},
   "outputs": [
    {
     "data": {
      "text/html": [
       "<div>\n",
       "<style scoped>\n",
       "    .dataframe tbody tr th:only-of-type {\n",
       "        vertical-align: middle;\n",
       "    }\n",
       "\n",
       "    .dataframe tbody tr th {\n",
       "        vertical-align: top;\n",
       "    }\n",
       "\n",
       "    .dataframe thead th {\n",
       "        text-align: right;\n",
       "    }\n",
       "</style>\n",
       "<table border=\"1\" class=\"dataframe\">\n",
       "  <thead>\n",
       "    <tr style=\"text-align: right;\">\n",
       "      <th></th>\n",
       "      <th>Unnamed: 0</th>\n",
       "      <th>backbone</th>\n",
       "      <th>val_score</th>\n",
       "      <th>rsa_score</th>\n",
       "      <th>motion_correlation_internal_variance</th>\n",
       "      <th>motion_correlation_score</th>\n",
       "    </tr>\n",
       "  </thead>\n",
       "  <tbody>\n",
       "    <tr>\n",
       "      <th>0</th>\n",
       "      <td>0</td>\n",
       "      <td>2d_pyconvsegnet_warp_3d</td>\n",
       "      <td>0.338922</td>\n",
       "      <td>0.300625</td>\n",
       "      <td>0.095660</td>\n",
       "      <td>0.253060</td>\n",
       "    </tr>\n",
       "    <tr>\n",
       "      <th>1</th>\n",
       "      <td>1</td>\n",
       "      <td>2d_pyconvsegnet_warp_3d</td>\n",
       "      <td>0.348198</td>\n",
       "      <td>0.320186</td>\n",
       "      <td>0.094453</td>\n",
       "      <td>0.289070</td>\n",
       "    </tr>\n",
       "    <tr>\n",
       "      <th>2</th>\n",
       "      <td>2</td>\n",
       "      <td>2d_pyconvsegnet_warp_3d</td>\n",
       "      <td>0.314212</td>\n",
       "      <td>0.287540</td>\n",
       "      <td>0.094682</td>\n",
       "      <td>0.295808</td>\n",
       "    </tr>\n",
       "    <tr>\n",
       "      <th>3</th>\n",
       "      <td>3</td>\n",
       "      <td>2d_pyconvsegnet_warp_3d</td>\n",
       "      <td>0.311066</td>\n",
       "      <td>0.269213</td>\n",
       "      <td>0.097689</td>\n",
       "      <td>0.196223</td>\n",
       "    </tr>\n",
       "    <tr>\n",
       "      <th>4</th>\n",
       "      <td>4</td>\n",
       "      <td>2d_pyconvsegnet_warp_3d</td>\n",
       "      <td>0.347521</td>\n",
       "      <td>0.343401</td>\n",
       "      <td>0.091559</td>\n",
       "      <td>0.236123</td>\n",
       "    </tr>\n",
       "    <tr>\n",
       "      <th>...</th>\n",
       "      <td>...</td>\n",
       "      <td>...</td>\n",
       "      <td>...</td>\n",
       "      <td>...</td>\n",
       "      <td>...</td>\n",
       "      <td>...</td>\n",
       "    </tr>\n",
       "    <tr>\n",
       "      <th>177</th>\n",
       "      <td>177</td>\n",
       "      <td>i3d_flow</td>\n",
       "      <td>0.344656</td>\n",
       "      <td>0.354898</td>\n",
       "      <td>0.091315</td>\n",
       "      <td>0.275696</td>\n",
       "    </tr>\n",
       "    <tr>\n",
       "      <th>178</th>\n",
       "      <td>178</td>\n",
       "      <td>i3d_flow</td>\n",
       "      <td>0.296634</td>\n",
       "      <td>0.285281</td>\n",
       "      <td>0.090856</td>\n",
       "      <td>0.254590</td>\n",
       "    </tr>\n",
       "    <tr>\n",
       "      <th>179</th>\n",
       "      <td>179</td>\n",
       "      <td>i3d_flow</td>\n",
       "      <td>0.223907</td>\n",
       "      <td>0.235310</td>\n",
       "      <td>0.113258</td>\n",
       "      <td>0.309603</td>\n",
       "    </tr>\n",
       "    <tr>\n",
       "      <th>180</th>\n",
       "      <td>180</td>\n",
       "      <td>Baseline</td>\n",
       "      <td>0.372980</td>\n",
       "      <td>0.388438</td>\n",
       "      <td>0.087933</td>\n",
       "      <td>0.347999</td>\n",
       "    </tr>\n",
       "    <tr>\n",
       "      <th>181</th>\n",
       "      <td>181</td>\n",
       "      <td>Best</td>\n",
       "      <td>0.468584</td>\n",
       "      <td>0.450059</td>\n",
       "      <td>0.089959</td>\n",
       "      <td>0.351023</td>\n",
       "    </tr>\n",
       "  </tbody>\n",
       "</table>\n",
       "<p>182 rows × 6 columns</p>\n",
       "</div>"
      ],
      "text/plain": [
       "     Unnamed: 0                 backbone  val_score  rsa_score  \\\n",
       "0             0  2d_pyconvsegnet_warp_3d   0.338922   0.300625   \n",
       "1             1  2d_pyconvsegnet_warp_3d   0.348198   0.320186   \n",
       "2             2  2d_pyconvsegnet_warp_3d   0.314212   0.287540   \n",
       "3             3  2d_pyconvsegnet_warp_3d   0.311066   0.269213   \n",
       "4             4  2d_pyconvsegnet_warp_3d   0.347521   0.343401   \n",
       "..          ...                      ...        ...        ...   \n",
       "177         177                 i3d_flow   0.344656   0.354898   \n",
       "178         178                 i3d_flow   0.296634   0.285281   \n",
       "179         179                 i3d_flow   0.223907   0.235310   \n",
       "180         180                 Baseline   0.372980   0.388438   \n",
       "181         181                     Best   0.468584   0.450059   \n",
       "\n",
       "     motion_correlation_internal_variance  motion_correlation_score  \n",
       "0                                0.095660                  0.253060  \n",
       "1                                0.094453                  0.289070  \n",
       "2                                0.094682                  0.295808  \n",
       "3                                0.097689                  0.196223  \n",
       "4                                0.091559                  0.236123  \n",
       "..                                    ...                       ...  \n",
       "177                              0.091315                  0.275696  \n",
       "178                              0.090856                  0.254590  \n",
       "179                              0.113258                  0.309603  \n",
       "180                              0.087933                  0.347999  \n",
       "181                              0.089959                  0.351023  \n",
       "\n",
       "[182 rows x 6 columns]"
      ]
     },
     "execution_count": 46,
     "metadata": {},
     "output_type": "execute_result"
    }
   ],
   "source": [
    "res_df"
   ]
  },
  {
   "cell_type": "code",
   "execution_count": 53,
   "metadata": {},
   "outputs": [],
   "source": [
    "plt.style.use('default')"
   ]
  },
  {
   "cell_type": "code",
   "execution_count": 54,
   "metadata": {},
   "outputs": [],
   "source": [
    "import scipy"
   ]
  },
  {
   "cell_type": "code",
   "execution_count": 57,
   "metadata": {},
   "outputs": [
    {
     "name": "stdout",
     "output_type": "stream",
     "text": [
      "-0.20208076698578556 0.00622444014426316\n"
     ]
    },
    {
     "data": {
      "image/png": "[encoded data removed]",
      "text/plain": [
       "<Figure size 800x800 with 1 Axes>"
      ]
     },
     "metadata": {},
     "output_type": "display_data"
    },
    {
     "name": "stdout",
     "output_type": "stream",
     "text": [
      "0.6757087332041009 1.268195599439699e-25\n"
     ]
    },
    {
     "data": {
      "image/png": "[encoded data removed]",
      "text/plain": [
       "<Figure size 800x800 with 1 Axes>"
      ]
     },
     "metadata": {},
     "output_type": "display_data"
    },
    {
     "name": "stdout",
     "output_type": "stream",
     "text": [
      "0.9627359525029542 3.6616477319090354e-104\n"
     ]
    },
    {
     "data": {
      "image/png": "[encoded data removed]",
      "text/plain": [
       "<Figure size 800x800 with 1 Axes>"
      ]
     },
     "metadata": {},
     "output_type": "display_data"
    }
   ],
   "source": [
    "for y_key in sorted(y_keys):\n",
    "\n",
    "    fig, ax = plt.subplots(figsize=(8, 8))\n",
    "\n",
    "    all_xs = []\n",
    "    all_ys = []\n",
    "    for i, name in enumerate(names):\n",
    "\n",
    "        if name == 'Best':\n",
    "            size = 450\n",
    "            marker = '*'\n",
    "            alpha = 1.\n",
    "        elif name == 'Baseline':\n",
    "            size = 450\n",
    "            marker = 'p'\n",
    "            alpha = 1.\n",
    "        else:\n",
    "            size = 150\n",
    "            marker = '.'\n",
    "            alpha = .9\n",
    "\n",
    "        i_df = res_df[res_df['backbone'] == name]\n",
    "        xs = i_df['val_score']\n",
    "        ys = i_df[y_key]\n",
    "        ax.scatter(xs, ys, color=mapcolors[i], label=label_names[i],\n",
    "                  s=size, marker=marker, alpha=alpha)\n",
    "\n",
    "        for i in xs:\n",
    "            all_xs.append(i)\n",
    "        for i in ys:\n",
    "            all_ys.append(i)\n",
    "            \n",
    "    if y_key == 'motion_correlation_internal_variance':\n",
    "        ax.axhline(y=gt_motion_correlation_internal_variance, color='black', linestyle='-', alpha=.8)\n",
    "        ax.annotate('groud-truth fMRI', xy=(0.1, gt_motion_correlation_internal_variance), xytext=(0.068, gt_motion_correlation_internal_variance+0.01),\n",
    "            arrowprops=dict(facecolor='black', shrink=0.05), fontsize=20, fontproperties=font)\n",
    "    \n",
    "    plt.xlabel('Explained Varience')\n",
    "    ylabel = y_key.replace('_', ' ')\n",
    "    if 'score' in ylabel:\n",
    "        ylabel = 'Similarity Score'\n",
    "    if 'internal variance' in ylabel:\n",
    "        ylabel = 'Variance'    \n",
    "    plt.ylabel(ylabel, fontdict={'style': 'italic'})\n",
    "    title = y_key.replace('_', ' ').replace(' score', '').replace(' internal variance', '')\n",
    "    title = title.replace('rsa', 'Representational Similarity').replace('motion correlation', 'Motion Correlation')\n",
    "    plt.title(title, fontsize=24, fontweight='bold', fontproperties=font)\n",
    "\n",
    "    formatter = matplotlib.ticker.FormatStrFormatter('%1.2f')\n",
    "    locator = matplotlib.ticker.MaxNLocator(nbins=4)\n",
    "    ax.xaxis.set_major_locator(locator)\n",
    "    ax.xaxis.set_major_formatter(formatter)\n",
    "\n",
    "    formatter = matplotlib.ticker.FormatStrFormatter('%1.2f')\n",
    "    locator = matplotlib.ticker.MaxNLocator(nbins=4)\n",
    "    ax.yaxis.set_major_locator(locator)\n",
    "    ax.yaxis.set_major_formatter(formatter)\n",
    "\n",
    "    r, p = scipy.stats.pearsonr(all_xs, all_ys)\n",
    "    print(r, p)\n",
    "    ax.text(0.95, 0.01, f'R={r:.2f}',\n",
    "            verticalalignment='bottom', horizontalalignment='right',\n",
    "            transform=ax.transAxes,\n",
    "            color='black', fontsize=20, fontproperties=font)\n",
    "    ax.spines['top'].set_visible(False)\n",
    "    ax.spines['right'].set_visible(False)\n",
    "    \n",
    "    for item in ([ax.title, ax.xaxis.label, ax.yaxis.label] +\n",
    "                 ax.get_xticklabels() + ax.get_yticklabels()):\n",
    "        item.set_fontsize(24)\n",
    "\n",
    "    for item in (ax.get_xticklabels() + ax.get_yticklabels()):\n",
    "        item.set_fontsize(20)\n",
    "\n",
    "    # plt.legend(loc='upper left', bbox_to_anchor=(1., 1.), ncol=1, prop={'size': 16, 'weight': 'normal'})\n",
    "\n",
    "    plt.savefig(f'tmp/notebook922/{y_key}.pdf', bbox_inches=\"tight\")\n",
    "\n",
    "    plt.show()"
   ]
  },
  {
   "cell_type": "code",
   "execution_count": 61,
   "metadata": {},
   "outputs": [
    {
     "data": {
      "text/plain": [
       "0.468584269285202"
      ]
     },
     "execution_count": 61,
     "metadata": {},
     "output_type": "execute_result"
    }
   ],
   "source": [
    "np.max(all_xs)"
   ]
  },
  {
   "cell_type": "code",
   "execution_count": null,
   "metadata": {},
   "outputs": [],
   "source": []
  },
  {
   "cell_type": "code",
   "execution_count": null,
   "metadata": {},
   "outputs": [],
   "source": [
    "xs = res_df[x_key].values\n",
    "for y_key in sorted(y_keys):\n",
    "    ys = res_df[y_key].values\n",
    "    \n",
    "    # for x, y, label in zip(xs, ys, labels):\n",
    "    #     plt.scatter(x, y, label=label)\n",
    "    # plt.legend()\n",
    "    # plt.show()\n",
    "    fig, ax = plt.subplots(1, 1, figsize=(6, 6))\n",
    "    sns.scatterplot(x=x_key, y=y_key, \n",
    "                    hue='backbone', \n",
    "                    style='backbone',\n",
    "                    size=res_df['size'].values.tolist(),\n",
    "                    sizes=(100, 500),\n",
    "                    # palette=['deepskyblue', 'deeppink', 'green', 'deeppink', 'green', 'darkblue', 'darkgreen', 'darkred', 'black'],\n",
    "                    # markers=['o', 's', 's', 'o', 'o', '^', '^', '^', 'X'],\n",
    "                    legend='full',\n",
    "                    alpha=res_df['alpha'].values.tolist(),\n",
    "                    data=res_df)\n",
    "    \n",
    "    if y_key == 'motion_correlation_internal_variance':\n",
    "        ax.axhline(y=gt_motion_correlation_internal_variance, color='black', linestyle='-', alpha=.8)\n",
    "        ax.annotate('groud-truth fMRI', xy=(0.1, gt_motion_correlation_internal_variance), xytext=(0.068, gt_motion_correlation_internal_variance-0.01),\n",
    "            arrowprops=dict(facecolor='black', shrink=0.05), fontsize=20, fontproperties=font)\n",
    "    \n",
    "    # title, xy label\n",
    "    plt.xlabel('validation score', fontsize=24)\n",
    "    ylabel = y_key.replace('_', ' ')\n",
    "    if 'score' in ylabel:\n",
    "        ylabel = 'correlation score'\n",
    "    if 'internal variance' in ylabel:\n",
    "        ylabel = 'variance'\n",
    "    plt.ylabel(ylabel, fontsize=24, fontproperties=font, fontweight='normal')\n",
    "    title = y_key.replace('_', ' ').replace(' score', '').replace(' internal variance', '')\n",
    "    title = title.replace('rsa', 'RSA')\n",
    "    plt.title(title, fontsize=24, fontweight='bold', fontproperties=font)\n",
    "    \n",
    "    formatter = matplotlib.ticker.FormatStrFormatter('%1.2f')\n",
    "    locator = matplotlib.ticker.MaxNLocator(nbins=4)\n",
    "    ax.xaxis.set_major_locator(locator)\n",
    "    ax.xaxis.set_major_formatter(formatter)\n",
    "    \n",
    "    formatter = matplotlib.ticker.FormatStrFormatter('%1.2f')\n",
    "    locator = matplotlib.ticker.MaxNLocator(nbins=4)\n",
    "    ax.yaxis.set_major_locator(locator)\n",
    "    ax.yaxis.set_major_formatter(formatter)\n",
    "    \n",
    "    ax.tick_params(axis='both', which='major', labelsize=20)\n",
    "    \n",
    "    r = np.corrcoef(res_df[x_key], res_df[y_key])[0, 1]\n",
    "    ax.text(0.95, 0.01, f'R={r:.2f}',\n",
    "            verticalalignment='bottom', horizontalalignment='right',\n",
    "            transform=ax.transAxes,\n",
    "            color='black', fontsize=20, fontproperties=font)\n",
    "    \n",
    "#     for i, (color, model_schs) in enumerate(r_palette_group.items()):\n",
    "#         df = res_df\n",
    "#         # df['model_sch'] = df['model_sch'].apply(lambda x: [x])\n",
    "#         df = df[df['model_sch'].isin(model_schs)]\n",
    "#         r = np.corrcoef(df.val_score, df[y_key])[0, 1]\n",
    "#         ax.text(0.95, 0.01+(i+1)*0.05, f'R={r:.2f}',\n",
    "#         verticalalignment='bottom', horizontalalignment='right',\n",
    "#         transform=ax.transAxes,\n",
    "#         color=color, fontsize=20, fontproperties=font)\n",
    "    \n",
    "#     legend = ax.legend()\n",
    "#     # order = [0, 1, 2, 3, 4, 5, 7, 6, 8]\n",
    "#     legend_cols = 1\n",
    "#     # new_handels = np.asarray(legend.legendHandles[:-3])\n",
    "#     legend = ax.legend(*list(zip(*list(zip(*ax.get_legend_handles_labels()))[:-3])), \n",
    "#                       bbox_to_anchor=(1.5,0.5), loc=\"center\", \n",
    "#                         bbox_transform=fig.transFigure, ncol=legend_cols,\n",
    "#                       fontsize=18,\n",
    "#                       frameon=False)\n",
    "#     for handle in legend.legendHandles:\n",
    "#         handle.set_sizes([200.0])\n",
    "    \n",
    "#     # for handle in legend.legendHandles[-3:]:\n",
    "#     #     handle.set_sizes([0.0])\n",
    "    \n",
    "#     ax.spines['right'].set_visible(False)\n",
    "#     ax.spines['top'].set_visible(False)\n",
    "#     # plt.show()\n",
    "#     # fig.savefig('test.png', bbox_extra_artists=[legend], bbox_inches='tight')\n",
    "#     ax.get_legend().remove()\n",
    "#     fig.savefig(f'figures/SCATTER {y_key}.pdf', bbox_inches='tight')\n",
    "    \n",
    "    \n",
    "    # https://gist.github.com/rldotai/012dbb3294bb2599ff82e61e82356990\n",
    "    \n",
    "    # ---------------------------------------------------------------------\n",
    "    # Create a separate figure for the legend\n",
    "    # ---------------------------------------------------------------------\n",
    "    # Bounding box for legend (in order to get proportions right)\n",
    "    # Issuing a draw command seems necessary in order to ensure the layout\n",
    "    # happens correctly; I was getting weird bounding boxes without it.\n",
    "#     fig.canvas.draw()\n",
    "#     # This gives pixel coordinates for the legend bbox (although perhaps \n",
    "#     # if you are using a different renderer you might get something else).\n",
    "#     legend_bbox = legend.get_tightbbox(fig.canvas.get_renderer())\n",
    "#     # Convert pixel coordinates to inches\n",
    "#     legend_bbox = legend_bbox.transformed(fig.dpi_scale_trans.inverted())\n",
    "\n",
    "#     # Create teh separate figure, with appropriate width and height\n",
    "#     # Create a separate figure for the legend\n",
    "#     legend_fig, legend_ax = plt.subplots(figsize=(legend_bbox.width, legend_bbox.height))\n",
    "\n",
    "#     # Recreate the legend on the separate figure/axis\n",
    "#     legend_squared = legend_ax.legend(\n",
    "#         *list(zip(*list(zip(*ax.get_legend_handles_labels()))[:-3])), \n",
    "#         # bbox_to_anchor=(0., 0., .1, .1),\n",
    "#         bbox_transform=legend_fig.transFigure,\n",
    "#         frameon=False,\n",
    "#         fancybox=None,\n",
    "#         shadow=False,\n",
    "#         ncol=legend_cols,\n",
    "#         mode='expand',\n",
    "#     )\n",
    "\n",
    "    # # Remove everything else from the legend's figure\n",
    "    # legend_ax.axis('off')\n",
    "    # # plt.margins(x=0, y=0)\n",
    "    # # bbox = legend_ax.get_tightbbox(legend_fig.canvas.get_renderer(), \n",
    "    # #                  call_axes_locator = True,\n",
    "    # #                  bbox_extra_artists = None)\n",
    "    # # Save the legend as a separate figure\n",
    "    # legend_figpath = 'figures/SCATTER legend.pdf'\n",
    "    # # print(f\"Saving to: {legend_figpath}\")\n",
    "    # legend_fig.savefig(\n",
    "    #     legend_figpath,\n",
    "    #     bbox_inches='tight',\n",
    "    #     # bbox_extra_artists=[legend_squared],\n",
    "    # )\n",
    "    plt.legend(loc='upper left', bbox_to_anchor=(0., -0.2), ncol=4, prop={'size': 16, 'weight': 'normal'})\n",
    "\n",
    "    plt.show()\n",
    "    # break"
   ]
  },
  {
   "cell_type": "code",
   "execution_count": null,
   "metadata": {},
   "outputs": [],
   "source": []
  }
 ],
 "metadata": {
  "kernelspec": {
   "display_name": "Python 3 (ipykernel)",
   "language": "python",
   "name": "python3"
  },
  "language_info": {
   "codemirror_mode": {
    "name": "ipython",
    "version": 3
   },
   "file_extension": ".py",
   "mimetype": "text/x-python",
   "name": "python",
   "nbconvert_exporter": "python",
   "pygments_lexer": "ipython3",
   "version": "3.8.8"
  },
  "widgets": {
   "application/vnd.jupyter.widget-state+json": {
    "state": {
     "165692117efb42cfb08ee6bb0603da36": {
      "model_module": "@jupyter-widgets/controls",
      "model_module_version": "1.5.0",
      "model_name": "ProgressStyleModel",
      "state": {
       "description_width": ""
      }
     },
     "363ebc8976df4b61a51e7562ba67fad7": {
      "model_module": "@jupyter-widgets/base",
      "model_module_version": "1.2.0",
      "model_name": "LayoutModel",
      "state": {}
     },
     "366b8bdc277447b780e663a553080f30": {
      "model_module": "@jupyter-widgets/controls",
      "model_module_version": "1.5.0",
      "model_name": "HTMLModel",
      "state": {
       "layout": "IPY_MODEL_61e416b497d2456e87a03ee40eaf8557",
       "style": "IPY_MODEL_a18da1476eb44e58b03e0f9a9e6a3885",
       "value": " 4218/4218 [00:10&lt;00:00, 399.37it/s]"
      }
     },
     "3b01136b64c645c786fb52962a602aae": {
      "model_module": "@jupyter-widgets/controls",
      "model_module_version": "1.5.0",
      "model_name": "FloatProgressModel",
      "state": {
       "bar_style": "success",
       "layout": "IPY_MODEL_cd065064b4d94741b0350a0c1a76ee11",
       "max": 180,
       "style": "IPY_MODEL_9efff298fa7548138912d9e24b5a582c",
       "value": 180
      }
     },
     "538be9f0981d432cbe612992b524b613": {
      "model_module": "@jupyter-widgets/controls",
      "model_module_version": "1.5.0",
      "model_name": "DescriptionStyleModel",
      "state": {
       "description_width": ""
      }
     },
     "5c639e2f4e7d4fe6b2ae5d1b03561e93": {
      "model_module": "@jupyter-widgets/controls",
      "model_module_version": "1.5.0",
      "model_name": "FloatProgressModel",
      "state": {
       "bar_style": "success",
       "layout": "IPY_MODEL_363ebc8976df4b61a51e7562ba67fad7",
       "max": 4218,
       "style": "IPY_MODEL_165692117efb42cfb08ee6bb0603da36",
       "value": 4218
      }
     },
     "5de2c4f8db474ec28de0b37fda42b1c8": {
      "model_module": "@jupyter-widgets/controls",
      "model_module_version": "1.5.0",
      "model_name": "HTMLModel",
      "state": {
       "layout": "IPY_MODEL_e01fd2712b22492d947c92244bc3d93e",
       "style": "IPY_MODEL_ea5f380c1f0c434bab842254d249ffb1",
       "value": "100%"
      }
     },
     "61e416b497d2456e87a03ee40eaf8557": {
      "model_module": "@jupyter-widgets/base",
      "model_module_version": "1.2.0",
      "model_name": "LayoutModel",
      "state": {}
     },
     "74af59e1094b420187893ac089f6d990": {
      "model_module": "@jupyter-widgets/controls",
      "model_module_version": "1.5.0",
      "model_name": "DescriptionStyleModel",
      "state": {
       "description_width": ""
      }
     },
     "7eaa72572bf4423dba0c0203dc840b5a": {
      "model_module": "@jupyter-widgets/controls",
      "model_module_version": "1.5.0",
      "model_name": "HTMLModel",
      "state": {
       "layout": "IPY_MODEL_dfba56408d0b4548974b62701df04497",
       "style": "IPY_MODEL_538be9f0981d432cbe612992b524b613",
       "value": " 180/180 [05:35&lt;00:00,  1.63s/it]"
      }
     },
     "990078e5666d4fc1bae6f2c646ac0d56": {
      "model_module": "@jupyter-widgets/controls",
      "model_module_version": "1.5.0",
      "model_name": "HBoxModel",
      "state": {
       "children": [
        "IPY_MODEL_5de2c4f8db474ec28de0b37fda42b1c8",
        "IPY_MODEL_5c639e2f4e7d4fe6b2ae5d1b03561e93",
        "IPY_MODEL_366b8bdc277447b780e663a553080f30"
       ],
       "layout": "IPY_MODEL_ea52086e68684083ad9de3ceff31133d"
      }
     },
     "9e095460c5d2473c9a84ebf590f43899": {
      "model_module": "@jupyter-widgets/controls",
      "model_module_version": "1.5.0",
      "model_name": "HTMLModel",
      "state": {
       "layout": "IPY_MODEL_a7372e04172d49538102d1c508fbb22a",
       "style": "IPY_MODEL_74af59e1094b420187893ac089f6d990",
       "value": "100%"
      }
     },
     "9efff298fa7548138912d9e24b5a582c": {
      "model_module": "@jupyter-widgets/controls",
      "model_module_version": "1.5.0",
      "model_name": "ProgressStyleModel",
      "state": {
       "description_width": ""
      }
     },
     "a18da1476eb44e58b03e0f9a9e6a3885": {
      "model_module": "@jupyter-widgets/controls",
      "model_module_version": "1.5.0",
      "model_name": "DescriptionStyleModel",
      "state": {
       "description_width": ""
      }
     },
     "a7372e04172d49538102d1c508fbb22a": {
      "model_module": "@jupyter-widgets/base",
      "model_module_version": "1.2.0",
      "model_name": "LayoutModel",
      "state": {}
     },
     "c63bef0f76e84a7f805d854f1ca28b67": {
      "model_module": "@jupyter-widgets/base",
      "model_module_version": "1.2.0",
      "model_name": "LayoutModel",
      "state": {}
     },
     "cd065064b4d94741b0350a0c1a76ee11": {
      "model_module": "@jupyter-widgets/base",
      "model_module_version": "1.2.0",
      "model_name": "LayoutModel",
      "state": {}
     },
     "df749a5043f846bcb693392c1e52587c": {
      "model_module": "@jupyter-widgets/controls",
      "model_module_version": "1.5.0",
      "model_name": "HBoxModel",
      "state": {
       "children": [
        "IPY_MODEL_9e095460c5d2473c9a84ebf590f43899",
        "IPY_MODEL_3b01136b64c645c786fb52962a602aae",
        "IPY_MODEL_7eaa72572bf4423dba0c0203dc840b5a"
       ],
       "layout": "IPY_MODEL_c63bef0f76e84a7f805d854f1ca28b67"
      }
     },
     "dfba56408d0b4548974b62701df04497": {
      "model_module": "@jupyter-widgets/base",
      "model_module_version": "1.2.0",
      "model_name": "LayoutModel",
      "state": {}
     },
     "e01fd2712b22492d947c92244bc3d93e": {
      "model_module": "@jupyter-widgets/base",
      "model_module_version": "1.2.0",
      "model_name": "LayoutModel",
      "state": {}
     },
     "ea52086e68684083ad9de3ceff31133d": {
      "model_module": "@jupyter-widgets/base",
      "model_module_version": "1.2.0",
      "model_name": "LayoutModel",
      "state": {}
     },
     "ea5f380c1f0c434bab842254d249ffb1": {
      "model_module": "@jupyter-widgets/controls",
      "model_module_version": "1.5.0",
      "model_name": "DescriptionStyleModel",
      "state": {
       "description_width": ""
      }
     }
    },
    "version_major": 2,
    "version_minor": 0
   }
  }
 },
 "nbformat": 4,
 "nbformat_minor": 4
}
