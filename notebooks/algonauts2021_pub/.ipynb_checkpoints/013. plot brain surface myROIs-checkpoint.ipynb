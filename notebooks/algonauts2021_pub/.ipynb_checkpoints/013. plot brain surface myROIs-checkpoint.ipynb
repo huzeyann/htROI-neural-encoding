{
 "cells": [
  {
   "cell_type": "code",
   "execution_count": 1,
   "id": "32c6310a-5378-462b-9166-f5e0225f8900",
   "metadata": {},
   "outputs": [
    {
     "data": {
      "text/plain": [
       "True"
      ]
     },
     "execution_count": 1,
     "metadata": {},
     "output_type": "execute_result"
    }
   ],
   "source": [
    "import numpy as np\n",
    "import torch\n",
    "\n",
    "from tqdm.auto import tqdm\n",
    "from pathlib import Path\n",
    "\n",
    "import itertools\n",
    "\n",
    "import os\n",
    "from dotenv import find_dotenv, load_dotenv\n",
    "\n",
    "load_dotenv(find_dotenv(), verbose=True)"
   ]
  },
  {
   "cell_type": "code",
   "execution_count": 2,
   "id": "48f936f2-642f-4237-92e7-35f701498d9e",
   "metadata": {},
   "outputs": [],
   "source": [
    "import numpy as np\n",
    "from nilearn import surface\n",
    "from nilearn import datasets\n",
    "import os"
   ]
  },
  {
   "cell_type": "code",
   "execution_count": 3,
   "id": "9000c663-dcd4-4145-a72d-d676a2014047",
   "metadata": {},
   "outputs": [],
   "source": [
    "import colorsys"
   ]
  },
  {
   "cell_type": "code",
   "execution_count": null,
   "id": "37023ce1-8b3a-46ef-a986-3701b02634ca",
   "metadata": {},
   "outputs": [],
   "source": []
  },
  {
   "cell_type": "code",
   "execution_count": 4,
   "id": "fee3ecab-7377-4d6a-a18c-0ad95d0bff7d",
   "metadata": {},
   "outputs": [],
   "source": [
    "import cortex\n",
    "import cortex.polyutils\n",
    "import numpy as np\n",
    "import matplotlib.pyplot as plt\n",
    "\n",
    "subject = 'fsaverage'"
   ]
  },
  {
   "cell_type": "code",
   "execution_count": 5,
   "id": "c1f94cdd-e1b8-4d70-a3f8-a2b1a940c66e",
   "metadata": {},
   "outputs": [
    {
     "name": "stderr",
     "output_type": "stream",
     "text": [
      "/usr/local/anaconda3/envs/env_ube/lib/python3.8/site-packages/cortex/utils.py:1014: UserWarning: fsaverage is already present in the database. Set download_again to True if you wish to download the subject again.\n",
      "  warnings.warn(\n"
     ]
    }
   ],
   "source": [
    "cortex.download_subject('fsaverage')"
   ]
  },
  {
   "cell_type": "code",
   "execution_count": 6,
   "id": "6439cde2-262d-472e-a397-7432d366c16d",
   "metadata": {},
   "outputs": [],
   "source": [
    "voxel_masks = np.load('/home/huze/Algonauts_2021_data/processed/voxel_masks.npy')"
   ]
  },
  {
   "cell_type": "code",
   "execution_count": 7,
   "id": "8f86bf7f-d279-41fa-bea5-fc5f0b190ad1",
   "metadata": {},
   "outputs": [],
   "source": [
    "nii_meta_file = 'config/example.nii'"
   ]
  },
  {
   "cell_type": "code",
   "execution_count": 8,
   "id": "e254ca3c-8630-44bf-a63a-04cb7b47b80b",
   "metadata": {},
   "outputs": [],
   "source": [
    "from src.utils.visulization import save_as_nii\n",
    "\n",
    "reliable_voxel_mask_mean_sub = voxel_masks.sum(0)\n",
    "reliable_voxel_mask_mean_sub[reliable_voxel_mask_mean_sub > 0] = 1\n",
    "reliable_voxel_mask_mean_sub = reliable_voxel_mask_mean_sub.astype(np.int8)\n",
    "reliable_voxel_mask_path = './config/reliable_voxel_mask.nii'\n",
    "save_as_nii(nii_meta_file, reliable_voxel_mask_path, reliable_voxel_mask_mean_sub)\n",
    "# reliable_voxel_mask make a more accurate volume to surface mapping"
   ]
  },
  {
   "cell_type": "code",
   "execution_count": 9,
   "id": "185b4730-2856-4038-8fb4-4d97b46f2345",
   "metadata": {},
   "outputs": [],
   "source": [
    "noise_ceiling = np.load('config/noise_ceiling.npy')"
   ]
  },
  {
   "cell_type": "code",
   "execution_count": 10,
   "id": "cb2fc440-6dec-4cf0-9b6a-05c19f56e82b",
   "metadata": {},
   "outputs": [],
   "source": [
    "num_voxels = len(voxel_masks.nonzero()[0])"
   ]
  },
  {
   "cell_type": "code",
   "execution_count": 11,
   "id": "c1122bdb-9c7b-4036-ab9e-133608564da8",
   "metadata": {},
   "outputs": [],
   "source": [
    "temp_dir = Path('tmp/notebook010/')\n",
    "backbone_names = np.load(temp_dir.joinpath(Path(f'all-loaded_backbone_names.npy'))).tolist()"
   ]
  },
  {
   "cell_type": "code",
   "execution_count": 12,
   "id": "6019dd56-fde2-447c-b1b4-25c1d6a72fed",
   "metadata": {},
   "outputs": [],
   "source": [
    "backbone_names = ['all'] + backbone_names"
   ]
  },
  {
   "cell_type": "code",
   "execution_count": 13,
   "id": "b1c9d22a-8c0f-4eda-99b9-6da9c081ef88",
   "metadata": {},
   "outputs": [
    {
     "data": {
      "text/plain": [
       "['all',\n",
       " '2d_densnet_warp_3d',\n",
       " '3d_swin',\n",
       " '2d_bdcnvgg_warp_3d',\n",
       " 'i3d_flow',\n",
       " '2d_moby_swin_warp_3d',\n",
       " 'i3d_rgb',\n",
       " '2d_seg_swin_warp_3d',\n",
       " 'audio_vggish',\n",
       " '2d_pyconvsegnet_warp_3d',\n",
       " '2d_simclr_warp_3d',\n",
       " '2d_colorizer_warp_3d']"
      ]
     },
     "execution_count": 13,
     "metadata": {},
     "output_type": "execute_result"
    }
   ],
   "source": [
    "backbone_names"
   ]
  },
  {
   "cell_type": "code",
   "execution_count": 14,
   "id": "de70c82c-a5af-4230-bbb3-6cd9ab9dacd2",
   "metadata": {},
   "outputs": [],
   "source": [
    "voxel_indices_save_dir = Path('./tmp/notebook012/')"
   ]
  },
  {
   "cell_type": "code",
   "execution_count": null,
   "id": "f5fc1cfe-8874-499b-b84a-67eb7a4c0a46",
   "metadata": {},
   "outputs": [],
   "source": []
  },
  {
   "cell_type": "code",
   "execution_count": 15,
   "id": "9eac7dd4-f535-451a-b397-41318d29d276",
   "metadata": {},
   "outputs": [],
   "source": [
    "backbone_names = backbone_names[:]"
   ]
  },
  {
   "cell_type": "code",
   "execution_count": null,
   "id": "69c31c8c-53f5-4696-869d-da4d05ddf6ff",
   "metadata": {},
   "outputs": [],
   "source": []
  },
  {
   "cell_type": "code",
   "execution_count": 16,
   "id": "7c379f4e-d242-480c-b425-c85ef24f6496",
   "metadata": {},
   "outputs": [],
   "source": [
    "def load_voxel_indices(backbone_name, voxel_indices_save_dir):\n",
    "    # if backbone_name == 'all': \n",
    "    #     match_name = 'S'\n",
    "    # else:\n",
    "    match_name = backbone_name\n",
    "    voxel_indices_paths = sorted(list(voxel_indices_save_dir.glob(f'{match_name}*htROI*')))\n",
    "    voxel_indices_list = [torch.load(path) for path in voxel_indices_paths]\n",
    "    return voxel_indices_list"
   ]
  },
  {
   "cell_type": "code",
   "execution_count": 17,
   "id": "7ca90e1d-b3ed-4593-9ec8-6757d2dff904",
   "metadata": {},
   "outputs": [],
   "source": [
    "# load\n",
    "voxel_indices_dict = {}\n",
    "for backbone_name in backbone_names:\n",
    "    voxel_indices_list = load_voxel_indices(backbone_name, voxel_indices_save_dir)\n",
    "    voxel_indices_dict[backbone_name] = voxel_indices_list"
   ]
  },
  {
   "cell_type": "code",
   "execution_count": 18,
   "id": "fa5d8934-14da-4435-b6c0-548ec0df813b",
   "metadata": {},
   "outputs": [
    {
     "data": {
      "text/plain": [
       "{'all': [tensor([  3866,   4220,   4226,  ..., 157860, 159812, 160058]),\n",
       "  tensor([   278,    280,    281,  ..., 161165, 161167, 161171]),\n",
       "  tensor([     0,      1,      2,  ..., 161318, 161319, 161322]),\n",
       "  tensor([    34,    190,    351,  ..., 161213, 161287, 161305]),\n",
       "  tensor([   427,   1023,   1598,  ..., 160349, 160792, 161208]),\n",
       "  tensor([    54,    117,    140,  ..., 161166, 161191, 161281]),\n",
       "  tensor([    59,     63,     64,  ..., 161303, 161320, 161321]),\n",
       "  tensor([    18,     19,     20,  ..., 161323, 161324, 161325])],\n",
       " '2d_densnet_warp_3d': [tensor([    64,    140,    141,  ..., 161170, 161171, 161191]),\n",
       "  tensor([     1,      3,      4,  ..., 161318, 161319, 161322]),\n",
       "  tensor([     0,      2,      8,  ..., 161026, 161156, 161275]),\n",
       "  tensor([  1285,   3239,   4361,  ..., 156569, 157936, 158950]),\n",
       "  tensor([    18,     19,     20,  ..., 161323, 161324, 161325]),\n",
       "  tensor([    66,    168,    290,  ..., 161182, 161183, 161263]),\n",
       "  tensor([  1977,   2747,   3180,  ..., 159102, 159415, 159416])],\n",
       " '3d_swin': [tensor([    18,     19,     23,  ..., 161273, 161279, 161321]),\n",
       "  tensor([    88,    221,    346,  ..., 160973, 161023, 161271]),\n",
       "  tensor([     0,      1,      2,  ..., 161318, 161319, 161322]),\n",
       "  tensor([    59,     63,    143,  ..., 161302, 161303, 161320]),\n",
       "  tensor([   847,   1553,   1598,  ..., 159824, 159837, 160287]),\n",
       "  tensor([    22,     36,     40,  ..., 161323, 161324, 161325])],\n",
       " '2d_bdcnvgg_warp_3d': [tensor([    20,     75,     86,  ..., 161282, 161289, 161325]),\n",
       "  tensor([    41,     98,     99,  ..., 161299, 161300, 161305]),\n",
       "  tensor([   150,    257,    263,  ..., 161120, 161237, 161242]),\n",
       "  tensor([     0,      1,      2,  ..., 161318, 161319, 161322]),\n",
       "  tensor([     7,     18,     66,  ..., 161170, 161171, 161190]),\n",
       "  tensor([    19,     22,     23,  ..., 161321, 161323, 161324])],\n",
       " 'i3d_flow': [tensor([    20,    409,    440,  ..., 161047, 161111, 161160]),\n",
       "  tensor([     0,      1,      2,  ..., 161319, 161322, 161325]),\n",
       "  tensor([     9,     18,     19,  ..., 161320, 161323, 161324]),\n",
       "  tensor([   141,    275,    277,  ..., 161190, 161191, 161271]),\n",
       "  tensor([   140,    304,    469,  ..., 161182, 161183, 161263]),\n",
       "  tensor([  1995,   2739,   2786,  ..., 159472, 159484, 159508]),\n",
       "  tensor([    59,     63,     64,  ..., 161220, 161264, 161321])],\n",
       " '2d_moby_swin_warp_3d': [tensor([    59,    140,    141,  ..., 161182, 161183, 161263]),\n",
       "  tensor([    68,    524,   1296,  ..., 157602, 157858, 159116]),\n",
       "  tensor([    18,     19,     23,  ..., 161312, 161320, 161321]),\n",
       "  tensor([    20,     22,     29,  ..., 161323, 161324, 161325]),\n",
       "  tensor([     0,      1,      2,  ..., 161318, 161319, 161322]),\n",
       "  tensor([    14,     78,     88,  ..., 161199, 161206, 161308])],\n",
       " 'i3d_rgb': [tensor([    18,     19,     20,  ..., 161323, 161324, 161325]),\n",
       "  tensor([    63,     70,     79,  ..., 161302, 161303, 161320]),\n",
       "  tensor([    59,     68,    141,  ..., 161086, 161123, 161228]),\n",
       "  tensor([     0,      1,      2,  ..., 161318, 161319, 161322]),\n",
       "  tensor([    74,   2068,   2432,  ..., 159101, 159957, 161100]),\n",
       "  tensor([   277,    278,    280,  ..., 161170, 161171, 161191])],\n",
       " '2d_seg_swin_warp_3d': [tensor([    18,     19,     22,  ..., 161323, 161324, 161325]),\n",
       "  tensor([  1593,   1621,   1995,  ..., 159415, 159769, 160033]),\n",
       "  tensor([     1,      2,      3,  ..., 161318, 161319, 161322]),\n",
       "  tensor([     0,     42,    140,  ..., 161178, 161191, 161271]),\n",
       "  tensor([    59,     63,     65,  ..., 161302, 161320, 161321]),\n",
       "  tensor([   278,    280,    281,  ..., 161059, 161060, 161066])],\n",
       " 'audio_vggish': [tensor([   277,    278,    280,  ..., 161066, 161167, 161171]),\n",
       "  tensor([    75,    140,    148,  ..., 161183, 161263, 161321]),\n",
       "  tensor([    18,     19,     23,  ..., 161286, 161291, 161325]),\n",
       "  tensor([    59,     73,     82,  ..., 161297, 161302, 161303]),\n",
       "  tensor([     0,      1,      2,  ..., 161322, 161323, 161324])],\n",
       " '2d_pyconvsegnet_warp_3d': [tensor([    15,     18,     19,  ..., 161297, 161301, 161303]),\n",
       "  tensor([    97,    118,    201,  ..., 161263, 161298, 161302]),\n",
       "  tensor([  1621,   1993,   2410,  ..., 160094, 160276, 160319]),\n",
       "  tensor([     0,      1,      2,  ..., 161323, 161324, 161325]),\n",
       "  tensor([   140,    181,    275,  ..., 161167, 161171, 161178])],\n",
       " '2d_simclr_warp_3d': [tensor([    75,    503,    717,  ..., 161298, 161320, 161321]),\n",
       "  tensor([130812, 130815, 130816,  ..., 148359, 148362, 148364]),\n",
       "  tensor([     0,      1,      8,  ..., 160893, 161115, 161279]),\n",
       "  tensor([   302,    480,    488,  ..., 161165, 161167, 161171]),\n",
       "  tensor([  2750,   3199,   3200,  ..., 160071, 160131, 160394]),\n",
       "  tensor([  3914,   4018,   6883,  ..., 144622, 146406, 153790]),\n",
       "  tensor([     2,      3,      4,  ..., 161319, 161322, 161325]),\n",
       "  tensor([    86,    111,   1109,  ..., 161313, 161323, 161324]),\n",
       "  tensor([    22,   2930,   3703,  ..., 146021, 160318, 160887])],\n",
       " '2d_colorizer_warp_3d': [tensor([   278,    280,    294,  ..., 161167, 161171, 161191]),\n",
       "  tensor([    72,    140,    143,  ..., 161303, 161320, 161321]),\n",
       "  tensor([    17,     18,     19,  ..., 161323, 161324, 161325]),\n",
       "  tensor([  3573,   4082,   5146,  ..., 159139, 159280, 160515]),\n",
       "  tensor([     0,      1,      2,  ..., 161318, 161319, 161322]),\n",
       "  tensor([   576,    999,   1782,  ..., 159892, 159906, 161205])]}"
      ]
     },
     "execution_count": 18,
     "metadata": {},
     "output_type": "execute_result"
    }
   ],
   "source": [
    "voxel_indices_dict"
   ]
  },
  {
   "cell_type": "code",
   "execution_count": 19,
   "id": "beb3e8ef-3b0f-4b84-8746-a620cdad06e2",
   "metadata": {},
   "outputs": [],
   "source": [
    "torch.save(voxel_indices_dict, 'tmp/notebook013/voxel_indices_dict.pt')"
   ]
  },
  {
   "cell_type": "code",
   "execution_count": 106,
   "id": "e88ec091-ada0-416b-a50b-69bc912c5d29",
   "metadata": {},
   "outputs": [],
   "source": [
    "def match(a, b):\n",
    "    match_matrix = torch.zeros(len(a), len(b), dtype=int)\n",
    "    for i in range(len(a)):\n",
    "        for j in range(len(b)):\n",
    "            match_matrix[i, j] = len(np.intersect1d(a[i], b[j]))\n",
    "              \n",
    "    m = match_matrix\n",
    "\n",
    "    i_to_j = torch.ones(m.shape[0], dtype=int) * -1\n",
    "    j_to_i = torch.ones(m.shape[1], dtype=int) * -1\n",
    "    \n",
    "    # for j in list(range(m.shape[1])):\n",
    "    #     j_intersects = m[:, j]\n",
    "    #     for i_match in j_intersects.argsort().tolist()[::-1]:\n",
    "    #         if (i_match not in j_to_i) and (j not in i_to_j):\n",
    "    #             j_to_i[j] = i_match\n",
    "    #             i_to_j[i_match] = j\n",
    "    #             break\n",
    "                \n",
    "    for im in m.flatten().sort()[0].tolist()[::-1]:\n",
    "        i, j = (m==im).nonzero()[0]\n",
    "        if (i not in j_to_i) and (j not in i_to_j):\n",
    "            j_to_i[j] = i\n",
    "            i_to_j[i] = j\n",
    "    \n",
    "    print(j_to_i)\n",
    "    return j_to_i, i_to_j, m"
   ]
  },
  {
   "cell_type": "raw",
   "id": "8cc9113b-71f5-4799-9831-1284927263c6",
   "metadata": {},
   "source": [
    "j_to_i, i_to_j, m = match(match_voxel_indices_list, voxel_indices_list)"
   ]
  },
  {
   "cell_type": "raw",
   "id": "77aee035-648c-489a-8bee-bcb29b200690",
   "metadata": {},
   "source": [
    "i_to_j"
   ]
  },
  {
   "cell_type": "raw",
   "id": "459e3803-fa04-4f4d-ac33-6f3d803e9922",
   "metadata": {},
   "source": [
    "m"
   ]
  },
  {
   "cell_type": "code",
   "execution_count": null,
   "id": "7688a664-b4a3-4818-8a57-e141754b6e17",
   "metadata": {},
   "outputs": [],
   "source": []
  },
  {
   "cell_type": "code",
   "execution_count": 107,
   "id": "7e8abd8f-8e1f-442b-be67-ed7f19da3a25",
   "metadata": {},
   "outputs": [
    {
     "name": "stdout",
     "output_type": "stream",
     "text": [
      "2d_simclr_warp_3d\n"
     ]
    }
   ],
   "source": [
    "match_backbone_name = max(voxel_indices_dict, key=lambda k: len(voxel_indices_dict[k]))\n",
    "match_voxel_indices_list = voxel_indices_dict[match_backbone_name]\n",
    "print(match_backbone_name)\n",
    "num_colors = len(voxel_indices_dict[match_backbone_name])"
   ]
  },
  {
   "cell_type": "code",
   "execution_count": 108,
   "id": "2fe8fc6e-c657-4b6e-8761-fdc9a42f20b8",
   "metadata": {},
   "outputs": [
    {
     "data": {
      "text/plain": [
       "9"
      ]
     },
     "execution_count": 108,
     "metadata": {},
     "output_type": "execute_result"
    }
   ],
   "source": [
    "num_colors"
   ]
  },
  {
   "cell_type": "code",
   "execution_count": 131,
   "id": "c687426f-b84d-4296-9e5e-213e28ffd96d",
   "metadata": {},
   "outputs": [],
   "source": [
    "# color_order = np.asarray([0, 4, 3, 2, 1, 5, 6, 7, 8])\n",
    "# color_order = np.asarray([0,2,4,5,3,8,6,7,1])\n",
    "# color_order = np.asarray([0,2,4,5,1,8,6,7,3])\n",
    "# color_order = np.asarray([0,2,4,6,1,3,5,7,8])\n",
    "# color_order = np.asarray([6,2,4,0,1,3,5,7,8])\n",
    "color_order = np.asarray([0,2,4,8,1,3,5,7,6])\n",
    "\n",
    "# pure art"
   ]
  },
  {
   "cell_type": "raw",
   "id": "b0aeaab7-fae4-451d-a639-f8bdd114fdb0",
   "metadata": {},
   "source": [
    "num_colors += 1"
   ]
  },
  {
   "cell_type": "raw",
   "id": "37bc07a0-45f4-4b2c-a62c-97d7744da1e3",
   "metadata": {},
   "source": [
    "num_colors"
   ]
  },
  {
   "cell_type": "code",
   "execution_count": 110,
   "id": "f9c86da3-f850-446c-8e14-4f846aa2b765",
   "metadata": {},
   "outputs": [],
   "source": [
    "def roi_voxel_indices_list_to_nii(voxel_indices_list, nii_path):\n",
    "    rois_nii_img_data = np.zeros(reliable_voxel_mask_mean_sub.shape + (len(voxel_indices_list), ))\n",
    "    for i, voxel_indices in enumerate(voxel_indices_list):\n",
    "        roi_nii_img_data = np.zeros(voxel_masks.shape)\n",
    "\n",
    "        flat_fill_data = np.zeros(num_voxels)\n",
    "        flat_fill_data[voxel_indices] = 1\n",
    "\n",
    "        roi_nii_img_data[voxel_masks == 1] = flat_fill_data\n",
    "        roi_nii_img_data = mean_over_subs(voxel_masks, roi_nii_img_data)\n",
    "\n",
    "        rois_nii_img_data[..., i] = roi_nii_img_data\n",
    "    \n",
    "    save_as_nii(nii_meta_file, nii_path, rois_nii_img_data)\n",
    "    return rois_nii_img_data"
   ]
  },
  {
   "cell_type": "code",
   "execution_count": 111,
   "id": "36999f64-6ca2-4fc0-879d-3fc86415de19",
   "metadata": {},
   "outputs": [],
   "source": [
    "import numpy as np\n",
    "\n",
    "# to hsl\n",
    "def circlepoints(nPoints=10, radius=1, center=[0,0]):\n",
    "    points = []\n",
    "    for angle in np.linspace(0,2*np.pi, nPoints, endpoint=False):\n",
    "        point = (center[0]+np.sin(angle)*radius, center[1]+np.cos(angle)*radius)\n",
    "        points.append(point)\n",
    "    points= np.asarray(points)\n",
    "    return points"
   ]
  },
  {
   "cell_type": "code",
   "execution_count": 112,
   "id": "a476d091-c746-4751-a024-c1cf510a307d",
   "metadata": {},
   "outputs": [],
   "source": [
    "from src.utils.visulization import save_voxel_data_as_subject_mean_nii\n",
    "from src.utils.visulization import mean_over_subs"
   ]
  },
  {
   "cell_type": "code",
   "execution_count": 113,
   "id": "e84f07ce-ac79-4752-bf28-3dd7c62a0267",
   "metadata": {},
   "outputs": [],
   "source": [
    "fsaverage = datasets.fetch_surf_fsaverage('fsaverage')"
   ]
  },
  {
   "cell_type": "code",
   "execution_count": 114,
   "id": "b68c8ed7-2c29-4160-b79f-cfca35790895",
   "metadata": {},
   "outputs": [
    {
     "name": "stdout",
     "output_type": "stream",
     "text": [
      "mkdir: cannot create directory ‘tmp/notebook013’: File exists\n"
     ]
    }
   ],
   "source": [
    "!mkdir tmp/notebook013"
   ]
  },
  {
   "cell_type": "code",
   "execution_count": 115,
   "id": "94837877-e233-4493-8ee1-de3dcd5b334c",
   "metadata": {},
   "outputs": [],
   "source": [
    "mask_img = reliable_voxel_mask_path"
   ]
  },
  {
   "cell_type": "code",
   "execution_count": 269,
   "id": "818eedc9-9b76-4dd0-ae20-5fc505742ff2",
   "metadata": {},
   "outputs": [],
   "source": [
    "def get_texture(backbone_name, fill_nan_value=0):\n",
    "    \n",
    "    ## score\n",
    "    voxel_scores = np.load(f'tmp/notebook010/{backbone_name}-voxel_scores.npy')\n",
    "    voxel_scores /= noise_ceiling\n",
    "    nii_path = f'tmp/notebook013/{backbone_name}-voxel_scores.nii'\n",
    "    save_voxel_data_as_subject_mean_nii(voxel_masks, voxel_scores, nii_meta_file, nii_path)\n",
    "    \n",
    "    score_texture = np.concatenate([surface.vol_to_surf(nii_path, fsaverage.pial_left, mask_img=mask_img),\n",
    "                                     surface.vol_to_surf(nii_path, fsaverage.pial_right, mask_img=mask_img)])\n",
    "    # fill nan with min\n",
    "    nan_mask = np.isnan(score_texture)\n",
    "    score_texture[np.isnan(score_texture)] = score_texture[~np.isnan(score_texture)].min()\n",
    "    \n",
    "    \n",
    "    ## rois\n",
    "    nii_path = f'tmp/notebook013/{backbone_name}-rois.nii'\n",
    "    voxel_indices_list = voxel_indices_dict[backbone_name]\n",
    "    roi_voxel_indices_list_to_nii(voxel_indices_list, nii_path)\n",
    "    \n",
    "    # vol_to_surf_kwargs = {\"n_samples\": 1, \"radius\": 0.0, \"interpolation\": \"nearest\"}\n",
    "    vol_to_surf_kwargs = {}\n",
    "    \n",
    "    roi_texture = np.concatenate([surface.vol_to_surf(nii_path, fsaverage.pial_left, mask_img=mask_img, **vol_to_surf_kwargs),\n",
    "                                 surface.vol_to_surf(nii_path, fsaverage.pial_right, mask_img=mask_img, **vol_to_surf_kwargs)])\n",
    "    # fill nan with value\n",
    "    nan_mask = np.isnan(roi_texture)\n",
    "    roi_texture[np.isnan(roi_texture)] = fill_nan_value\n",
    "    \n",
    "    return score_texture, roi_texture, voxel_indices_list, nan_mask"
   ]
  },
  {
   "cell_type": "code",
   "execution_count": 270,
   "id": "83adb486-59e1-45f1-ac3a-32cb93e7783f",
   "metadata": {},
   "outputs": [],
   "source": [
    "def texture_hsl_to_rgb(h, s, l, vmax=0.5, vmin=0.):\n",
    "    x, y = h, s\n",
    "    angle = np.arctan2(y,x)\n",
    "    h = np.degrees(angle) % 360.0\n",
    "    h = h / 360\n",
    "\n",
    "    s = np.sqrt(x**2+y**2)\n",
    "    s = np.clip(s, 0, 1)\n",
    "\n",
    "    l = np.clip(l, vmin, vmax)\n",
    "    l = (l-vmin)/(vmax-vmin)\n",
    "    \n",
    "    hsl_texture = np.stack([h, s, l], -1)\n",
    "    \n",
    "    # to rgb color\n",
    "    rgb_texture = np.zeros_like(hsl_texture)\n",
    "    for i in range(len(hsl_texture)):\n",
    "        rgb_texture[i] = colorsys.hsv_to_rgb(*hsl_texture[i])\n",
    "        \n",
    "    return rgb_texture"
   ]
  },
  {
   "cell_type": "code",
   "execution_count": 271,
   "id": "7d519e96-ca76-40db-9e6d-e361782b5d70",
   "metadata": {},
   "outputs": [],
   "source": [
    "def vertex_from_rgb_texture(rgb_texture):\n",
    "    test1, test2, test3 = rgb_texture.transpose()\n",
    "\n",
    "\n",
    "    # Scaling the three datasets to be between 0-255\n",
    "    test1_scaled = test1 / np.max(test1) * 255\n",
    "    test2_scaled = test2 / np.max(test2) * 255\n",
    "    test3_scaled = test3 / np.max(test3) * 255\n",
    "\n",
    "    # Creating three cortex.Volume objects with the test data as np.uint8\n",
    "    red = cortex.Vertex(test1_scaled, subject)\n",
    "    green = cortex.Vertex(test2_scaled, subject)\n",
    "    blue = cortex.Vertex(test3_scaled, subject)\n",
    "\n",
    "    # This creates a 2D Vertex object with both of our test datasets for the\n",
    "    # given subject\n",
    "    vertex_data = cortex.VertexRGB(red, green, blue, subject)\n",
    "    return vertex_data"
   ]
  },
  {
   "cell_type": "code",
   "execution_count": 119,
   "id": "90df9a5f-4efc-40c5-b1a5-56b802a40b07",
   "metadata": {},
   "outputs": [
    {
     "data": {
      "text/plain": [
       "161326"
      ]
     },
     "execution_count": 119,
     "metadata": {},
     "output_type": "execute_result"
    }
   ],
   "source": [
    "num_voxels"
   ]
  },
  {
   "cell_type": "code",
   "execution_count": 120,
   "id": "65144ce5-a3a3-42e0-a6ec-186c044edd0c",
   "metadata": {},
   "outputs": [],
   "source": [
    "fig_dir = Path('tmp/notebook013/figs/')"
   ]
  },
  {
   "cell_type": "code",
   "execution_count": 219,
   "id": "d8e88d8c-2ed1-4590-acb8-e17968b77b34",
   "metadata": {},
   "outputs": [],
   "source": [
    "fig_dir.mkdir(parents=True, exist_ok=True)"
   ]
  },
  {
   "cell_type": "code",
   "execution_count": 122,
   "id": "aff81c40-b5fa-431a-a562-bde33f2d2cc0",
   "metadata": {},
   "outputs": [
    {
     "data": {
      "text/plain": [
       "['all',\n",
       " '2d_densnet_warp_3d',\n",
       " '3d_swin',\n",
       " '2d_bdcnvgg_warp_3d',\n",
       " 'i3d_flow',\n",
       " '2d_moby_swin_warp_3d',\n",
       " 'i3d_rgb',\n",
       " '2d_seg_swin_warp_3d',\n",
       " 'audio_vggish',\n",
       " '2d_pyconvsegnet_warp_3d',\n",
       " '2d_simclr_warp_3d',\n",
       " '2d_colorizer_warp_3d']"
      ]
     },
     "execution_count": 122,
     "metadata": {},
     "output_type": "execute_result"
    }
   ],
   "source": [
    "backbone_names"
   ]
  },
  {
   "cell_type": "raw",
   "id": "77802559-da20-4bb9-8da7-07638e87265c",
   "metadata": {},
   "source": [
    "import nibabel as nib\n",
    "\n",
    "img = nib.load('tmp/notebook013/all-rois.nii')\n",
    "\n",
    "np.asarray(img.dataobj)"
   ]
  },
  {
   "cell_type": "code",
   "execution_count": 214,
   "id": "c84da614-f92c-4902-b153-e3b9c7e64e65",
   "metadata": {},
   "outputs": [],
   "source": [
    "def save_fig(vertex_data, path, dpi=144):\n",
    "    fig = cortex.quickflat.make_figure(vertex_data,\n",
    "                                   with_curvature=False,\n",
    "                                   with_rois=True,\n",
    "                                   with_labels=False,\n",
    "                                   with_sulci=True,\n",
    "                                   with_colorbar=False,)\n",
    "    # Add sulci in light yellow\n",
    "    _ = cortex.quickflat.composite.add_sulci(fig, vertex_data,\n",
    "                                             with_labels=True,)\n",
    "    # Add all rois, with a particular color scheme:\n",
    "    # _ = cortex.quickflat.composite.add_rois(fig, volume,\n",
    "    #                                         with_labels=True,\n",
    "    #                                         labelsize=1,)\n",
    "    # # Highlight face- and body-selective ROIs:\n",
    "    # _ = cortex.quickflat.composite.add_rois(fig, volume,\n",
    "    #                                         roi_list=['FFA', 'EBA', 'OFA'],  # (This defaults to all rois if not specified)\n",
    "    #                                         with_labels=True,\n",
    "    #                                         linewidth=5,\n",
    "    #                                         linecolor=(0.9, 0.5, 0.5),\n",
    "    #                                         labelcolor=(0.9, 0.5, 0.5),\n",
    "    #                                         labelsize=20,\n",
    "    #                                         roifill=(0.9, 0.5, 0.5),\n",
    "    #                                         fillalpha=0.35,\n",
    "    #                                         dashes=(5, 3)                    # Dash length & gap btw dashes\n",
    "    #                                         )\n",
    "    plt.savefig(path, dpi=dpi)\n",
    "    plt.close()"
   ]
  },
  {
   "cell_type": "raw",
   "id": "ef5c6730-98f5-4e91-bdd1-7ce9f3940b1f",
   "metadata": {},
   "source": [
    "for backbone_name in tqdm(backbone_names[:]):\n",
    "# for backbone_name in tqdm(['all', 'i3d_rgb']):\n",
    "    \n",
    "    score_texture, roi_texture, voxel_indices_list = get_texture(backbone_name)\n",
    "    \n",
    "    # match colors\n",
    "    hs_base = circlepoints(num_colors)\n",
    "    hs_base = hs_base[color_order]\n",
    "    j_to_i, i_to_j, m = match(match_voxel_indices_list, voxel_indices_list)\n",
    "    hs_base = hs_base[j_to_i]\n",
    "    break"
   ]
  },
  {
   "cell_type": "raw",
   "id": "ff2ad41f-bba9-45b8-a975-c81a165dd390",
   "metadata": {},
   "source": [
    "j_to_i"
   ]
  },
  {
   "cell_type": "raw",
   "id": "c50f9e9c-f16a-46a4-987c-10731d096bd2",
   "metadata": {},
   "source": [
    "m"
   ]
  },
  {
   "cell_type": "code",
   "execution_count": 215,
   "id": "41bfda8c-5a90-4494-9d42-ef9897c9332a",
   "metadata": {},
   "outputs": [],
   "source": [
    "from matplotlib.colors import ListedColormap"
   ]
  },
  {
   "cell_type": "code",
   "execution_count": 231,
   "id": "f824a0f6-0ace-4d0b-825d-216e097838d2",
   "metadata": {},
   "outputs": [],
   "source": [
    "from mycolorpy import colorlist as mcp"
   ]
  },
  {
   "cell_type": "code",
   "execution_count": 305,
   "id": "4474eb6f-d4a6-4982-bbc5-51e6f59a4397",
   "metadata": {},
   "outputs": [
    {
     "name": "stdout",
     "output_type": "stream",
     "text": [
      "['#1f77b4', '#ff7f0e', '#2ca02c', '#d62728', '#9467bd', '#8c564b', '#e377c2', '#7f7f7f', '#bcbd22', '#17becf']\n"
     ]
    }
   ],
   "source": [
    "colors = mcp.gen_color(cmap=\"tab10\",n=10)\n",
    "print(colors)"
   ]
  },
  {
   "cell_type": "code",
   "execution_count": 326,
   "id": "8e485aca-2bb7-427e-ab4b-5ed2de15374d",
   "metadata": {},
   "outputs": [],
   "source": [
    "colors = ['#1f77b4', '#ff7f0e', '#2ca02c', '#9467bd', '#8c564b', '#e377c2', '#454545', '#bcbd22', '#17becf']"
   ]
  },
  {
   "cell_type": "raw",
   "id": "e9f454e1-d5c7-4331-868d-64ae07586fba",
   "metadata": {},
   "source": [
    "np.asarray(colors)[j_to_i].tolist()"
   ]
  },
  {
   "cell_type": "raw",
   "id": "2f44bb21-6528-474f-91b3-c3808171cc94",
   "metadata": {},
   "source": [
    "match(match_voxel_indices_list, voxel_indices_dict['2d_simclr_warp_3d'])"
   ]
  },
  {
   "cell_type": "code",
   "execution_count": 327,
   "id": "f15201fc-9dce-479d-b782-02f3d898c3fb",
   "metadata": {},
   "outputs": [
    {
     "data": {
      "application/vnd.jupyter.widget-view+json": {
       "model_id": "91be04e2ea304a1394bce0770420a986",
       "version_major": 2,
       "version_minor": 0
      },
      "text/plain": [
       "  0%|          | 0/12 [00:00<?, ?it/s]"
      ]
     },
     "metadata": {},
     "output_type": "display_data"
    },
    {
     "name": "stdout",
     "output_type": "stream",
     "text": [
      "tensor([4, 3, 6, 7, 0, 8, 1, 2])\n",
      "tensor([3, 6, 5, 8, 7, 0, 4])\n",
      "tensor([3, 8, 6, 0, 4, 7])\n",
      "tensor([8, 7, 4, 6, 3, 0])\n",
      "tensor([8, 6, 0, 3, 5, 4, 1])\n",
      "tensor([3, 4, 0, 7, 6, 8])\n",
      "tensor([7, 0, 2, 6, 4, 3])\n",
      "tensor([7, 4, 6, 8, 0, 3])\n",
      "tensor([3, 4, 7, 0, 6])\n",
      "tensor([7, 0, 4, 6, 3])\n",
      "tensor([0, 1, 2, 3, 4, 5, 6, 7, 8])\n",
      "tensor([3, 0, 7, 8, 6, 4])\n"
     ]
    }
   ],
   "source": [
    "j_to_i_dict = {}\n",
    "for backbone_name in tqdm(backbone_names[:]):    \n",
    "    # match colors\n",
    "    j_to_i, i_to_j, m = match(match_voxel_indices_list, voxel_indices_dict[backbone_name])\n",
    "    j_to_i_dict[backbone_name] = j_to_i"
   ]
  },
  {
   "cell_type": "code",
   "execution_count": 309,
   "id": "059de971-153d-4b8b-834c-86689a8f486c",
   "metadata": {},
   "outputs": [
    {
     "data": {
      "text/plain": [
       "{'all': tensor([4, 3, 6, 7, 0, 8, 1, 2]),\n",
       " '2d_densnet_warp_3d': tensor([3, 6, 5, 8, 7, 0, 4]),\n",
       " '3d_swin': tensor([3, 8, 6, 0, 4, 7]),\n",
       " '2d_bdcnvgg_warp_3d': tensor([8, 7, 4, 6, 3, 0]),\n",
       " 'i3d_flow': tensor([8, 6, 0, 3, 5, 4, 1]),\n",
       " '2d_moby_swin_warp_3d': tensor([3, 4, 0, 7, 6, 8]),\n",
       " 'i3d_rgb': tensor([7, 0, 2, 6, 4, 3]),\n",
       " '2d_seg_swin_warp_3d': tensor([7, 4, 6, 8, 0, 3]),\n",
       " 'audio_vggish': tensor([3, 4, 7, 0, 6]),\n",
       " '2d_pyconvsegnet_warp_3d': tensor([7, 0, 4, 6, 3]),\n",
       " '2d_simclr_warp_3d': tensor([0, 1, 2, 3, 4, 5, 6, 7, 8]),\n",
       " '2d_colorizer_warp_3d': tensor([3, 0, 7, 8, 6, 4])}"
      ]
     },
     "execution_count": 309,
     "metadata": {},
     "output_type": "execute_result"
    }
   ],
   "source": [
    "j_to_i_dict"
   ]
  },
  {
   "cell_type": "code",
   "execution_count": null,
   "id": "84cf74f6-444f-439b-b57e-1ad447fd049e",
   "metadata": {},
   "outputs": [],
   "source": []
  },
  {
   "cell_type": "code",
   "execution_count": 310,
   "id": "bce54255-f067-4107-9a06-a94f0128d31c",
   "metadata": {},
   "outputs": [],
   "source": [
    "import matplotlib"
   ]
  },
  {
   "cell_type": "code",
   "execution_count": 315,
   "id": "dd6de941-18db-46a4-bc19-575c42c1bf6f",
   "metadata": {
    "collapsed": true,
    "jupyter": {
     "outputs_hidden": true
    },
    "tags": []
   },
   "outputs": [
    {
     "data": {
      "application/vnd.jupyter.widget-view+json": {
       "model_id": "4e27615bfa8549aba9e4b54d6718bcb8",
       "version_major": 2,
       "version_minor": 0
      },
      "text/plain": [
       "  0%|          | 0/12 [00:00<?, ?it/s]"
      ]
     },
     "metadata": {},
     "output_type": "display_data"
    },
    {
     "name": "stderr",
     "output_type": "stream",
     "text": [
      "/usr/local/anaconda3/envs/env_ube/lib/python3.8/site-packages/nilearn/surface/surface.py:464: RuntimeWarning: Mean of empty slice\n",
      "  texture = np.nanmean(all_samples, axis=2)\n",
      "/usr/local/anaconda3/envs/env_ube/lib/python3.8/site-packages/nilearn/surface/surface.py:464: RuntimeWarning: Mean of empty slice\n",
      "  texture = np.nanmean(all_samples, axis=2)\n",
      "/usr/local/anaconda3/envs/env_ube/lib/python3.8/site-packages/nilearn/surface/surface.py:464: RuntimeWarning: Mean of empty slice\n",
      "  texture = np.nanmean(all_samples, axis=2)\n",
      "/usr/local/anaconda3/envs/env_ube/lib/python3.8/site-packages/nilearn/surface/surface.py:464: RuntimeWarning: Mean of empty slice\n",
      "  texture = np.nanmean(all_samples, axis=2)\n"
     ]
    },
    {
     "name": "stdout",
     "output_type": "stream",
     "text": [
      "tensor([4, 3, 6, 7, 0, 8, 1, 2])\n"
     ]
    },
    {
     "name": "stderr",
     "output_type": "stream",
     "text": [
      "/usr/local/anaconda3/envs/env_ube/lib/python3.8/site-packages/nilearn/surface/surface.py:464: RuntimeWarning: Mean of empty slice\n",
      "  texture = np.nanmean(all_samples, axis=2)\n",
      "/usr/local/anaconda3/envs/env_ube/lib/python3.8/site-packages/nilearn/surface/surface.py:464: RuntimeWarning: Mean of empty slice\n",
      "  texture = np.nanmean(all_samples, axis=2)\n",
      "/usr/local/anaconda3/envs/env_ube/lib/python3.8/site-packages/nilearn/surface/surface.py:464: RuntimeWarning: Mean of empty slice\n",
      "  texture = np.nanmean(all_samples, axis=2)\n",
      "/usr/local/anaconda3/envs/env_ube/lib/python3.8/site-packages/nilearn/surface/surface.py:464: RuntimeWarning: Mean of empty slice\n",
      "  texture = np.nanmean(all_samples, axis=2)\n"
     ]
    },
    {
     "name": "stdout",
     "output_type": "stream",
     "text": [
      "tensor([3, 6, 5, 8, 7, 0, 4])\n"
     ]
    },
    {
     "name": "stderr",
     "output_type": "stream",
     "text": [
      "/usr/local/anaconda3/envs/env_ube/lib/python3.8/site-packages/nilearn/surface/surface.py:464: RuntimeWarning: Mean of empty slice\n",
      "  texture = np.nanmean(all_samples, axis=2)\n",
      "/usr/local/anaconda3/envs/env_ube/lib/python3.8/site-packages/nilearn/surface/surface.py:464: RuntimeWarning: Mean of empty slice\n",
      "  texture = np.nanmean(all_samples, axis=2)\n",
      "/usr/local/anaconda3/envs/env_ube/lib/python3.8/site-packages/nilearn/surface/surface.py:464: RuntimeWarning: Mean of empty slice\n",
      "  texture = np.nanmean(all_samples, axis=2)\n",
      "/usr/local/anaconda3/envs/env_ube/lib/python3.8/site-packages/nilearn/surface/surface.py:464: RuntimeWarning: Mean of empty slice\n",
      "  texture = np.nanmean(all_samples, axis=2)\n"
     ]
    },
    {
     "name": "stdout",
     "output_type": "stream",
     "text": [
      "tensor([3, 8, 6, 0, 4, 7])\n"
     ]
    },
    {
     "name": "stderr",
     "output_type": "stream",
     "text": [
      "/usr/local/anaconda3/envs/env_ube/lib/python3.8/site-packages/nilearn/surface/surface.py:464: RuntimeWarning: Mean of empty slice\n",
      "  texture = np.nanmean(all_samples, axis=2)\n",
      "/usr/local/anaconda3/envs/env_ube/lib/python3.8/site-packages/nilearn/surface/surface.py:464: RuntimeWarning: Mean of empty slice\n",
      "  texture = np.nanmean(all_samples, axis=2)\n",
      "/usr/local/anaconda3/envs/env_ube/lib/python3.8/site-packages/nilearn/surface/surface.py:464: RuntimeWarning: Mean of empty slice\n",
      "  texture = np.nanmean(all_samples, axis=2)\n",
      "/usr/local/anaconda3/envs/env_ube/lib/python3.8/site-packages/nilearn/surface/surface.py:464: RuntimeWarning: Mean of empty slice\n",
      "  texture = np.nanmean(all_samples, axis=2)\n"
     ]
    },
    {
     "name": "stdout",
     "output_type": "stream",
     "text": [
      "tensor([8, 7, 4, 6, 3, 0])\n"
     ]
    },
    {
     "name": "stderr",
     "output_type": "stream",
     "text": [
      "/usr/local/anaconda3/envs/env_ube/lib/python3.8/site-packages/nilearn/surface/surface.py:464: RuntimeWarning: Mean of empty slice\n",
      "  texture = np.nanmean(all_samples, axis=2)\n",
      "/usr/local/anaconda3/envs/env_ube/lib/python3.8/site-packages/nilearn/surface/surface.py:464: RuntimeWarning: Mean of empty slice\n",
      "  texture = np.nanmean(all_samples, axis=2)\n",
      "/usr/local/anaconda3/envs/env_ube/lib/python3.8/site-packages/nilearn/surface/surface.py:464: RuntimeWarning: Mean of empty slice\n",
      "  texture = np.nanmean(all_samples, axis=2)\n",
      "/usr/local/anaconda3/envs/env_ube/lib/python3.8/site-packages/nilearn/surface/surface.py:464: RuntimeWarning: Mean of empty slice\n",
      "  texture = np.nanmean(all_samples, axis=2)\n"
     ]
    },
    {
     "name": "stdout",
     "output_type": "stream",
     "text": [
      "tensor([8, 6, 0, 3, 5, 4, 1])\n"
     ]
    },
    {
     "name": "stderr",
     "output_type": "stream",
     "text": [
      "/usr/local/anaconda3/envs/env_ube/lib/python3.8/site-packages/nilearn/surface/surface.py:464: RuntimeWarning: Mean of empty slice\n",
      "  texture = np.nanmean(all_samples, axis=2)\n",
      "/usr/local/anaconda3/envs/env_ube/lib/python3.8/site-packages/nilearn/surface/surface.py:464: RuntimeWarning: Mean of empty slice\n",
      "  texture = np.nanmean(all_samples, axis=2)\n",
      "/usr/local/anaconda3/envs/env_ube/lib/python3.8/site-packages/nilearn/surface/surface.py:464: RuntimeWarning: Mean of empty slice\n",
      "  texture = np.nanmean(all_samples, axis=2)\n",
      "/usr/local/anaconda3/envs/env_ube/lib/python3.8/site-packages/nilearn/surface/surface.py:464: RuntimeWarning: Mean of empty slice\n",
      "  texture = np.nanmean(all_samples, axis=2)\n"
     ]
    },
    {
     "name": "stdout",
     "output_type": "stream",
     "text": [
      "tensor([3, 4, 0, 7, 6, 8])\n"
     ]
    },
    {
     "name": "stderr",
     "output_type": "stream",
     "text": [
      "/usr/local/anaconda3/envs/env_ube/lib/python3.8/site-packages/nilearn/surface/surface.py:464: RuntimeWarning: Mean of empty slice\n",
      "  texture = np.nanmean(all_samples, axis=2)\n",
      "/usr/local/anaconda3/envs/env_ube/lib/python3.8/site-packages/nilearn/surface/surface.py:464: RuntimeWarning: Mean of empty slice\n",
      "  texture = np.nanmean(all_samples, axis=2)\n",
      "/usr/local/anaconda3/envs/env_ube/lib/python3.8/site-packages/nilearn/surface/surface.py:464: RuntimeWarning: Mean of empty slice\n",
      "  texture = np.nanmean(all_samples, axis=2)\n",
      "/usr/local/anaconda3/envs/env_ube/lib/python3.8/site-packages/nilearn/surface/surface.py:464: RuntimeWarning: Mean of empty slice\n",
      "  texture = np.nanmean(all_samples, axis=2)\n"
     ]
    },
    {
     "name": "stdout",
     "output_type": "stream",
     "text": [
      "tensor([7, 0, 2, 6, 4, 3])\n"
     ]
    },
    {
     "name": "stderr",
     "output_type": "stream",
     "text": [
      "/usr/local/anaconda3/envs/env_ube/lib/python3.8/site-packages/nilearn/surface/surface.py:464: RuntimeWarning: Mean of empty slice\n",
      "  texture = np.nanmean(all_samples, axis=2)\n",
      "/usr/local/anaconda3/envs/env_ube/lib/python3.8/site-packages/nilearn/surface/surface.py:464: RuntimeWarning: Mean of empty slice\n",
      "  texture = np.nanmean(all_samples, axis=2)\n",
      "/usr/local/anaconda3/envs/env_ube/lib/python3.8/site-packages/nilearn/surface/surface.py:464: RuntimeWarning: Mean of empty slice\n",
      "  texture = np.nanmean(all_samples, axis=2)\n",
      "/usr/local/anaconda3/envs/env_ube/lib/python3.8/site-packages/nilearn/surface/surface.py:464: RuntimeWarning: Mean of empty slice\n",
      "  texture = np.nanmean(all_samples, axis=2)\n"
     ]
    },
    {
     "name": "stdout",
     "output_type": "stream",
     "text": [
      "tensor([7, 4, 6, 8, 0, 3])\n"
     ]
    },
    {
     "name": "stderr",
     "output_type": "stream",
     "text": [
      "/usr/local/anaconda3/envs/env_ube/lib/python3.8/site-packages/nilearn/surface/surface.py:464: RuntimeWarning: Mean of empty slice\n",
      "  texture = np.nanmean(all_samples, axis=2)\n",
      "/usr/local/anaconda3/envs/env_ube/lib/python3.8/site-packages/nilearn/surface/surface.py:464: RuntimeWarning: Mean of empty slice\n",
      "  texture = np.nanmean(all_samples, axis=2)\n",
      "/usr/local/anaconda3/envs/env_ube/lib/python3.8/site-packages/nilearn/surface/surface.py:464: RuntimeWarning: Mean of empty slice\n",
      "  texture = np.nanmean(all_samples, axis=2)\n",
      "/usr/local/anaconda3/envs/env_ube/lib/python3.8/site-packages/nilearn/surface/surface.py:464: RuntimeWarning: Mean of empty slice\n",
      "  texture = np.nanmean(all_samples, axis=2)\n"
     ]
    },
    {
     "name": "stdout",
     "output_type": "stream",
     "text": [
      "tensor([3, 4, 7, 0, 6])\n"
     ]
    },
    {
     "name": "stderr",
     "output_type": "stream",
     "text": [
      "/usr/local/anaconda3/envs/env_ube/lib/python3.8/site-packages/nilearn/surface/surface.py:464: RuntimeWarning: Mean of empty slice\n",
      "  texture = np.nanmean(all_samples, axis=2)\n",
      "/usr/local/anaconda3/envs/env_ube/lib/python3.8/site-packages/nilearn/surface/surface.py:464: RuntimeWarning: Mean of empty slice\n",
      "  texture = np.nanmean(all_samples, axis=2)\n",
      "/usr/local/anaconda3/envs/env_ube/lib/python3.8/site-packages/nilearn/surface/surface.py:464: RuntimeWarning: Mean of empty slice\n",
      "  texture = np.nanmean(all_samples, axis=2)\n",
      "/usr/local/anaconda3/envs/env_ube/lib/python3.8/site-packages/nilearn/surface/surface.py:464: RuntimeWarning: Mean of empty slice\n",
      "  texture = np.nanmean(all_samples, axis=2)\n"
     ]
    },
    {
     "name": "stdout",
     "output_type": "stream",
     "text": [
      "tensor([7, 0, 4, 6, 3])\n"
     ]
    },
    {
     "name": "stderr",
     "output_type": "stream",
     "text": [
      "/usr/local/anaconda3/envs/env_ube/lib/python3.8/site-packages/nilearn/surface/surface.py:464: RuntimeWarning: Mean of empty slice\n",
      "  texture = np.nanmean(all_samples, axis=2)\n",
      "/usr/local/anaconda3/envs/env_ube/lib/python3.8/site-packages/nilearn/surface/surface.py:464: RuntimeWarning: Mean of empty slice\n",
      "  texture = np.nanmean(all_samples, axis=2)\n",
      "/usr/local/anaconda3/envs/env_ube/lib/python3.8/site-packages/nilearn/surface/surface.py:464: RuntimeWarning: Mean of empty slice\n",
      "  texture = np.nanmean(all_samples, axis=2)\n",
      "/usr/local/anaconda3/envs/env_ube/lib/python3.8/site-packages/nilearn/surface/surface.py:464: RuntimeWarning: Mean of empty slice\n",
      "  texture = np.nanmean(all_samples, axis=2)\n"
     ]
    },
    {
     "name": "stdout",
     "output_type": "stream",
     "text": [
      "tensor([0, 1, 2, 3, 4, 5, 6, 7, 8])\n"
     ]
    },
    {
     "name": "stderr",
     "output_type": "stream",
     "text": [
      "/usr/local/anaconda3/envs/env_ube/lib/python3.8/site-packages/nilearn/surface/surface.py:464: RuntimeWarning: Mean of empty slice\n",
      "  texture = np.nanmean(all_samples, axis=2)\n",
      "/usr/local/anaconda3/envs/env_ube/lib/python3.8/site-packages/nilearn/surface/surface.py:464: RuntimeWarning: Mean of empty slice\n",
      "  texture = np.nanmean(all_samples, axis=2)\n",
      "/usr/local/anaconda3/envs/env_ube/lib/python3.8/site-packages/nilearn/surface/surface.py:464: RuntimeWarning: Mean of empty slice\n",
      "  texture = np.nanmean(all_samples, axis=2)\n"
     ]
    },
    {
     "name": "stdout",
     "output_type": "stream",
     "text": [
      "tensor([3, 0, 7, 8, 6, 4])\n"
     ]
    },
    {
     "name": "stderr",
     "output_type": "stream",
     "text": [
      "/usr/local/anaconda3/envs/env_ube/lib/python3.8/site-packages/nilearn/surface/surface.py:464: RuntimeWarning: Mean of empty slice\n",
      "  texture = np.nanmean(all_samples, axis=2)\n"
     ]
    }
   ],
   "source": [
    "progess = {}\n",
    "for backbone_name in tqdm(backbone_names[:]):\n",
    "# for backbone_name in tqdm(['2d_colorizer_warp_3d', 'all']):\n",
    "    \n",
    "    score_texture, roi_texture, voxel_indices_list, nan_mask = get_texture(backbone_name)\n",
    "    \n",
    "    # match colors\n",
    "    hs_base = circlepoints(num_colors)\n",
    "    hs_base = hs_base[color_order]\n",
    "    j_to_i, i_to_j, m = match(match_voxel_indices_list, voxel_indices_list)\n",
    "    hs_base = hs_base[j_to_i]\n",
    "\n",
    "    # # no match colors\n",
    "    # hs_base = circlepoints(len(voxel_indices_list))\n",
    "    \n",
    "    rgb_base = texture_hsl_to_rgb(hs_base[:, 0], hs_base[:, 1], np.ones(len(hs_base)), vmax=1.)\n",
    "    np.save(f'tmp/notebook013/{backbone_name}-rgb_base.npy', rgb_base)\n",
    "    \n",
    "    matched_colors = np.asarray(colors)[j_to_i].tolist()\n",
    "    np.save(f'tmp/notebook013/{backbone_name}-matched_colors.npy', matched_colors)\n",
    "    \n",
    "    progess[backbone_name] = (roi_texture, score_texture, hs_base, rgb_base, matched_colors, nan_mask)"
   ]
  },
  {
   "cell_type": "code",
   "execution_count": 343,
   "id": "14c3d279-f40a-4974-86bb-145d340a06ed",
   "metadata": {},
   "outputs": [
    {
     "data": {
      "application/vnd.jupyter.widget-view+json": {
       "model_id": "2cfeab21aed94d25a5cd8d7fdb3de472",
       "version_major": 2,
       "version_minor": 0
      },
      "text/plain": [
       "  0%|          | 0/12 [00:00<?, ?it/s]"
      ]
     },
     "metadata": {},
     "output_type": "display_data"
    }
   ],
   "source": [
    "for backbone_name in tqdm(backbone_names[:]):\n",
    "\n",
    "    roi_texture, score_texture, hs_base, rgb_base, matched_colors, nan_mask = progess[backbone_name]\n",
    "    \n",
    "    # hs_xy_texture = roi_texture @ hs_base\n",
    "    # rgb_texture = texture_hsl_to_rgb(hs_xy_texture[:, 0], hs_xy_texture[:, 1], score_texture, vmax=1.)\n",
    "    # vertex_data = vertex_from_rgb_texture(rgb_texture)\n",
    "    # save_fig(vertex_data, fig_dir.joinpath(Path(f'{backbone_name}-raw_ROIs.png')))\n",
    "    \n",
    "    nan_verts = nan_mask.sum(1).nonzero()[0]\n",
    "    roi_v = roi_texture.argmax(1)\n",
    "    roi_v[nan_verts] = -1\n",
    "    \n",
    "    # matched_colors = [hex_c if hex_c != '#454545' else '#454545' for hex_c in matched_colors]\n",
    "    \n",
    "    vertex_data = cortex.dataset.Vertex(roi_v, subject)\n",
    "    cmap = ListedColormap(['#000000'] + matched_colors)\n",
    "    vertex_data.cmap = cmap\n",
    "    vertex_data.vmin = roi_v.min()\n",
    "    vertex_data.vmax = roi_v.max()\n",
    "    # cortex.quickshow(vertex_data)\n",
    "    # plt.show()\n",
    "    # print(np.unique(roi_v, return_counts=True))\n",
    "    # display(cmap)\n",
    "    save_fig(vertex_data, fig_dir.joinpath(Path(f'{backbone_name}-max_ROIs.png')), dpi=144)\n",
    "    \n",
    "    \n",
    "#     rgb_texture = np.zeros((roi_v.shape[0], 3))\n",
    "#     for i, v in enumerate(roi_v):\n",
    "#         if v == -1:\n",
    "#             rgb = [0., 0., 0.]\n",
    "#         else:\n",
    "#             hex_c = matched_colors[v]\n",
    "#             rgb = matplotlib.colors.to_rgb(hex_c)\n",
    "#         rgb_texture[i] = rgb\n",
    "\n",
    "#     vertex_data = vertex_from_rgb_texture(rgb_texture)\n",
    "#     cortex.quickshow(vertex_data)\n",
    "#     plt.show()\n",
    "#     print(np.unique(roi_v, return_counts=True))\n",
    "#     display(ListedColormap(matched_colors))\n",
    "    # save_fig(vertex_data, fig_dir.joinpath(Path(f'{backbone_name}-max_ROIs.png')), dpi=24)"
   ]
  },
  {
   "cell_type": "code",
   "execution_count": null,
   "id": "a3709241-2824-4201-a7d7-706b4dccc969",
   "metadata": {},
   "outputs": [],
   "source": []
  },
  {
   "cell_type": "code",
   "execution_count": null,
   "id": "11a97c39-01c2-4841-b194-54628b5f54b7",
   "metadata": {},
   "outputs": [],
   "source": []
  },
  {
   "cell_type": "code",
   "execution_count": null,
   "id": "798616b7-a773-4a12-aaba-00a87515978b",
   "metadata": {},
   "outputs": [],
   "source": []
  },
  {
   "cell_type": "code",
   "execution_count": null,
   "id": "476a327a-72ae-4f18-922d-de81fb1102c9",
   "metadata": {},
   "outputs": [],
   "source": []
  },
  {
   "cell_type": "code",
   "execution_count": 344,
   "id": "ee388d83-e7a3-4a28-b6ce-886e11ef2a22",
   "metadata": {},
   "outputs": [
    {
     "data": {
      "application/vnd.jupyter.widget-view+json": {
       "model_id": "002260a7dcb5499aab66441c4b07bbed",
       "version_major": 2,
       "version_minor": 0
      },
      "text/plain": [
       "  0%|          | 0/12 [00:00<?, ?it/s]"
      ]
     },
     "metadata": {},
     "output_type": "display_data"
    }
   ],
   "source": [
    "for backbone_name in tqdm(backbone_names[:]):\n",
    "\n",
    "    roi_texture, score_texture, hs_base, rgb_base, matched_colors, nan_mask = progess[backbone_name]\n",
    "    \n",
    "    # hs_xy_texture = roi_texture @ hs_base\n",
    "    # rgb_texture = texture_hsl_to_rgb(hs_xy_texture[:, 0], hs_xy_texture[:, 1], score_texture, vmax=1.)\n",
    "    # vertex_data = vertex_from_rgb_texture(rgb_texture)\n",
    "    # save_fig(vertex_data, fig_dir.joinpath(Path(f'{backbone_name}-raw_ROIs.png')))\n",
    "    \n",
    "    nan_verts = nan_mask.sum(1).nonzero()[0]\n",
    "    roi_v = roi_texture.argmax(1)\n",
    "    roi_v[nan_verts] = -1\n",
    "    \n",
    "    matched_colors = [hex_c if hex_c != '#454545' else '#454545' for hex_c in matched_colors]\n",
    "    \n",
    "    vertex_data = cortex.dataset.Vertex(roi_v, subject)\n",
    "    cmap = ListedColormap(['#000000'] + matched_colors)\n",
    "    vertex_data.cmap = cmap\n",
    "    vertex_data.vmin = roi_v.min()\n",
    "    vertex_data.vmax = roi_v.max()\n",
    "    # cortex.quickshow(vertex_data)\n",
    "    # plt.show()\n",
    "    # print(np.unique(roi_v, return_counts=True))\n",
    "    # display(cmap)\n",
    "    \n",
    "    fig = cortex.quickflat.make_figure(vertex_data,\n",
    "                                   with_curvature=False,\n",
    "                                   with_rois=False,\n",
    "                                   with_labels=False,\n",
    "                                   with_sulci=False,\n",
    "                                   with_colorbar=False,)\n",
    "\n",
    "    plt.savefig(fig_dir.joinpath(Path(f'{backbone_name}-all_ROIs small fig.png')), dpi=24)\n",
    "    plt.close()\n",
    "    \n",
    "    break"
   ]
  },
  {
   "cell_type": "code",
   "execution_count": null,
   "id": "a63f00cd-e79a-4fe5-b931-25e065dd142e",
   "metadata": {},
   "outputs": [],
   "source": []
  },
  {
   "cell_type": "raw",
   "id": "678baad4-b7af-42b5-af94-01965b6c315b",
   "metadata": {},
   "source": [
    "nan_verts = nan_mask.sum(1).nonzero()[0]\n",
    "\n",
    "from matplotlib.colors import ListedColormap\n",
    "\n",
    "cmap = ListedColormap([[0., 0., 0.]] + rgb_base.tolist())\n",
    "\n",
    "roi_v = roi_texture.argmax(1)\n",
    "roi_v[nan_verts] = -1\n",
    "\n",
    "v = cortex.dataset.Vertex(roi_v, subject)\n",
    "\n",
    "# v.cmap = cmap\n",
    "v.cmap = 'tab10'"
   ]
  },
  {
   "cell_type": "raw",
   "id": "87cda371-9771-4563-9eed-4e52a2288f45",
   "metadata": {},
   "source": [
    "cortex.quickflat.make_png('htroi.png', v, with_colorbar=False, with_labels=False, with_rois=False, dpi=72)"
   ]
  },
  {
   "cell_type": "raw",
   "id": "c7ab1d42-af86-48f4-a869-ab87b3b98e5f",
   "metadata": {},
   "source": [
    "cortex.quickshow(v, with_colorbar=False, with_labels=False, with_rois=False)"
   ]
  },
  {
   "cell_type": "code",
   "execution_count": null,
   "id": "b1091eb0-f507-4371-ae46-936c1ea9fbaf",
   "metadata": {},
   "outputs": [],
   "source": []
  },
  {
   "cell_type": "code",
   "execution_count": null,
   "id": "354cd48d-8689-4b90-abbf-3d06882cf01c",
   "metadata": {},
   "outputs": [],
   "source": []
  },
  {
   "cell_type": "raw",
   "id": "ea934631-f203-4c27-870a-9c75fdb7c13f",
   "metadata": {},
   "source": [
    "hs_base = circlepoints(8)\n",
    "rgb_base = texture_hsl_to_rgb(hs_base[:, 0], hs_base[:, 1], np.ones(len(hs_base)), vmax=1.)"
   ]
  },
  {
   "cell_type": "raw",
   "id": "8bb8d362-a80f-4403-9bf7-15661934ee63",
   "metadata": {},
   "source": [
    "plt.imshow(rgb_base.reshape(1, -1, 3))"
   ]
  },
  {
   "cell_type": "raw",
   "id": "455b8a54-5f13-46cc-b0ef-0da276dcc993",
   "metadata": {},
   "source": [
    "for size in ['L', 'M', 'S', 'XS']:\n",
    "    \n",
    "    score_texture, roi_texture, voxel_indices_list = get_texture(backbone_name)\n",
    "    \n",
    "    # match colors\n",
    "    j_to_i, i_to_j, m = match(match_voxel_indices_list, voxel_indices_list)\n",
    "    \n",
    "    # to hsl color\n",
    "    hs_base = circlepoints(num_colors)\n",
    "    hs_xy_texture = roi_texture @ hs_base[j_to_i]\n",
    "    \n",
    "    rgb_texture = texture_hsl_to_rgb(hs_xy_texture[:, 0], hs_xy_texture[:, 1], score_texture, vmax=0.5)\n",
    "    \n",
    "    vertex_data = vertex_from_rgb_texture(rgb_texture)\n",
    "    \n",
    "    cortex.quickflat.make_png(fig_dir.joinpath(Path(f'{backbone_name}-all_ROIs.png')),\n",
    "                                vertex_data, \n",
    "                                with_colorbar=False,\n",
    "                                with_sulci=True,)"
   ]
  },
  {
   "cell_type": "code",
   "execution_count": null,
   "id": "dfdb76b6-84c2-4099-9b96-a00656c7052b",
   "metadata": {},
   "outputs": [],
   "source": []
  },
  {
   "cell_type": "code",
   "execution_count": null,
   "id": "93b72496-0e32-4251-8062-52e128baa9ea",
   "metadata": {},
   "outputs": [],
   "source": []
  },
  {
   "cell_type": "code",
   "execution_count": null,
   "id": "d93d4b3a-a569-4c02-ab81-482adf60c262",
   "metadata": {},
   "outputs": [],
   "source": []
  },
  {
   "cell_type": "code",
   "execution_count": null,
   "id": "ddaf4a81-f200-4e7c-8b1e-036ba6b6d117",
   "metadata": {},
   "outputs": [],
   "source": [
    "from PIL import Image"
   ]
  },
  {
   "cell_type": "code",
   "execution_count": 255,
   "id": "c3f76cff-2790-4dd0-8dc4-a34d174ee1df",
   "metadata": {},
   "outputs": [],
   "source": [
    "fig, axs = plt.subplots(ncols=4, nrows=3, figsize=(60, 30))\n",
    "\n",
    "axes = axs.flatten()\n",
    "\n",
    "for ax in axes:\n",
    "    ax.axis('off')\n",
    "\n",
    "i = 0\n",
    "for path in sorted(list(fig_dir.iterdir())):\n",
    "    if not path.name.endswith('raw_ROIs.png'): continue\n",
    "    \n",
    "    ax = axes[i]\n",
    "    i += 1\n",
    "    \n",
    "    im = Image.open(path)\n",
    "    ax.imshow(im)\n",
    "    ax.set_title(path.name.replace('-raw_ROIs.png', ''), fontsize=60)\n",
    "    # break\n",
    "    \n",
    "plt.tight_layout()\n",
    "\n",
    "fig.savefig(fig_dir.joinpath(Path('raw_ROIs.pdf')))\n",
    "\n",
    "plt.close()"
   ]
  },
  {
   "cell_type": "code",
   "execution_count": 345,
   "id": "7c9567b7-859a-41ad-9b9f-3b9293dde9b1",
   "metadata": {},
   "outputs": [],
   "source": [
    "fig, axs = plt.subplots(ncols=4, nrows=3, figsize=(60, 30))\n",
    "\n",
    "axes = axs.flatten()\n",
    "\n",
    "for ax in axes:\n",
    "    ax.axis('off')\n",
    "\n",
    "i = 0\n",
    "for path in sorted(list(fig_dir.iterdir())):\n",
    "    if not path.name.endswith('max_ROIs.png'): continue\n",
    "    \n",
    "    ax = axes[i]\n",
    "    i += 1\n",
    "    \n",
    "    im = Image.open(path)\n",
    "    ax.imshow(im)\n",
    "    ax.set_title(path.name.replace('-max_ROIs.png', ''), fontsize=60)\n",
    "    # break\n",
    "    \n",
    "plt.tight_layout()\n",
    "\n",
    "fig.savefig(fig_dir.joinpath(Path('max_ROIs.pdf')))\n",
    "\n",
    "plt.close()"
   ]
  },
  {
   "cell_type": "code",
   "execution_count": null,
   "id": "69536a24-9dc5-406b-b8b6-8f2c17fc1a8a",
   "metadata": {},
   "outputs": [],
   "source": []
  },
  {
   "cell_type": "code",
   "execution_count": null,
   "id": "7eb2988f-2dd3-4b40-9f9d-e44221ba4ef0",
   "metadata": {},
   "outputs": [],
   "source": []
  }
 ],
 "metadata": {
  "kernelspec": {
   "display_name": "Python 3 (ipykernel)",
   "language": "python",
   "name": "python3"
  },
  "language_info": {
   "codemirror_mode": {
    "name": "ipython",
    "version": 3
   },
   "file_extension": ".py",
   "mimetype": "text/x-python",
   "name": "python",
   "nbconvert_exporter": "python",
   "pygments_lexer": "ipython3",
   "version": "3.8.8"
  },
  "widgets": {
   "application/vnd.jupyter.widget-state+json": {
    "state": {
     "00138d6370eb459090158c05ebb02cd3": {
      "model_module": "@jupyter-widgets/controls",
      "model_module_version": "1.5.0",
      "model_name": "HBoxModel",
      "state": {
       "children": [
        "IPY_MODEL_7d2d0f54967c41219e2db45ca8c6a0ac",
        "IPY_MODEL_724a92c40ea04ced88d1c1c7378b488f",
        "IPY_MODEL_84f8ebc7704948b9a3d5ad36e5a36864"
       ],
       "layout": "IPY_MODEL_9aa312886ed749bab312a15fefc7da7a"
      }
     },
     "002260a7dcb5499aab66441c4b07bbed": {
      "model_module": "@jupyter-widgets/controls",
      "model_module_version": "1.5.0",
      "model_name": "HBoxModel",
      "state": {
       "children": [
        "IPY_MODEL_0c751eb4b81e4b509cd71b34ea5376c8",
        "IPY_MODEL_5cf3904014d24e0bb9b4768990f5d46d",
        "IPY_MODEL_dcafe643567a43e2854b9a1143fe2f18"
       ],
       "layout": "IPY_MODEL_e0425ae09b2e426aa596429f2b7eaa15"
      }
     },
     "021d9e672cea4a72bb40460872f297a2": {
      "model_module": "@jupyter-widgets/controls",
      "model_module_version": "1.5.0",
      "model_name": "ProgressStyleModel",
      "state": {
       "description_width": ""
      }
     },
     "024a80aac4f240baaf4e076de7d1a3a4": {
      "model_module": "@jupyter-widgets/controls",
      "model_module_version": "1.5.0",
      "model_name": "ProgressStyleModel",
      "state": {
       "description_width": ""
      }
     },
     "025ddda1bec746b58cf33cc0b96641ef": {
      "model_module": "@jupyter-widgets/controls",
      "model_module_version": "1.5.0",
      "model_name": "DescriptionStyleModel",
      "state": {
       "description_width": ""
      }
     },
     "03fa73d578e241739bf93d8c87f99902": {
      "model_module": "@jupyter-widgets/controls",
      "model_module_version": "1.5.0",
      "model_name": "HBoxModel",
      "state": {
       "children": [
        "IPY_MODEL_e7534ec7995e4daea23cd04fe8b8c599",
        "IPY_MODEL_b4302aff160a46babccdf66aeb735e85",
        "IPY_MODEL_c369bc704f744b8ab8e54ae9fadd73e4"
       ],
       "layout": "IPY_MODEL_176c19f0f096474992e4d4e8ef531ef4"
      }
     },
     "041647866fe541efa5b8266019cfe4d2": {
      "model_module": "@jupyter-widgets/base",
      "model_module_version": "1.2.0",
      "model_name": "LayoutModel",
      "state": {}
     },
     "04a80b018923494482b857038f433286": {
      "model_module": "@jupyter-widgets/base",
      "model_module_version": "1.2.0",
      "model_name": "LayoutModel",
      "state": {}
     },
     "04f7f2a4d35b4697a10d1d65e7063fe5": {
      "model_module": "@jupyter-widgets/controls",
      "model_module_version": "1.5.0",
      "model_name": "DescriptionStyleModel",
      "state": {
       "description_width": ""
      }
     },
     "05649f0077c44315b070ba424b739cca": {
      "model_module": "@jupyter-widgets/controls",
      "model_module_version": "1.5.0",
      "model_name": "ProgressStyleModel",
      "state": {
       "description_width": ""
      }
     },
     "05b00a51854a45d1a221a54a5aedbcb5": {
      "model_module": "@jupyter-widgets/controls",
      "model_module_version": "1.5.0",
      "model_name": "DescriptionStyleModel",
      "state": {
       "description_width": ""
      }
     },
     "05db7b58e9aa461bb1ed2f78f3559b3c": {
      "model_module": "@jupyter-widgets/base",
      "model_module_version": "1.2.0",
      "model_name": "LayoutModel",
      "state": {}
     },
     "05fd0db900f245eaaeda5806e017d941": {
      "model_module": "@jupyter-widgets/base",
      "model_module_version": "1.2.0",
      "model_name": "LayoutModel",
      "state": {}
     },
     "068778baaf2d4c33b15d3641a40097d0": {
      "model_module": "@jupyter-widgets/controls",
      "model_module_version": "1.5.0",
      "model_name": "HTMLModel",
      "state": {
       "layout": "IPY_MODEL_a1dcba4877d049689d1a56f16e8afc48",
       "style": "IPY_MODEL_f351c62f82a6461ab4f2252b20ef2eff",
       "value": " 2/2 [01:25&lt;00:00, 43.09s/it]"
      }
     },
     "078c4020ad8442a0acafe3ddc0e700f8": {
      "model_module": "@jupyter-widgets/base",
      "model_module_version": "1.2.0",
      "model_name": "LayoutModel",
      "state": {}
     },
     "07aa35b55a7c43c8bfd269c88f3c392b": {
      "model_module": "@jupyter-widgets/base",
      "model_module_version": "1.2.0",
      "model_name": "LayoutModel",
      "state": {}
     },
     "07ad75821ea54c34a51f3b90ef39a992": {
      "model_module": "@jupyter-widgets/controls",
      "model_module_version": "1.5.0",
      "model_name": "HBoxModel",
      "state": {
       "children": [
        "IPY_MODEL_2cf0cbebb0ab4d76849ab6345ae99b1a",
        "IPY_MODEL_981edbdb35d446fcaf008feee083655a",
        "IPY_MODEL_f68d54ea22fd4b0eaa6106773cbcde66"
       ],
       "layout": "IPY_MODEL_b2e6d127a4a346908e099fe9bafdd893"
      }
     },
     "07ea5dce04a9469eb0325e85daa02ccd": {
      "model_module": "@jupyter-widgets/base",
      "model_module_version": "1.2.0",
      "model_name": "LayoutModel",
      "state": {}
     },
     "081fa92fe81b404993a8c153f8ed9aa6": {
      "model_module": "@jupyter-widgets/controls",
      "model_module_version": "1.5.0",
      "model_name": "DescriptionStyleModel",
      "state": {
       "description_width": ""
      }
     },
     "083a42477df0433fa256dabe1f51bdf4": {
      "model_module": "@jupyter-widgets/controls",
      "model_module_version": "1.5.0",
      "model_name": "ProgressStyleModel",
      "state": {
       "description_width": ""
      }
     },
     "086acd9cb9ee4c1ca9ad2d24cebb8a74": {
      "model_module": "@jupyter-widgets/controls",
      "model_module_version": "1.5.0",
      "model_name": "FloatProgressModel",
      "state": {
       "bar_style": "danger",
       "layout": "IPY_MODEL_07ea5dce04a9469eb0325e85daa02ccd",
       "max": 2,
       "style": "IPY_MODEL_1fc5c9a9504a48b9a4cdb9dfd41b6ed2",
       "value": 1
      }
     },
     "08dac895197c4d44be9bfbb497caef37": {
      "model_module": "@jupyter-widgets/base",
      "model_module_version": "1.2.0",
      "model_name": "LayoutModel",
      "state": {}
     },
     "09cea0befaf64b4d97347c00c11f13d1": {
      "model_module": "@jupyter-widgets/controls",
      "model_module_version": "1.5.0",
      "model_name": "ProgressStyleModel",
      "state": {
       "description_width": ""
      }
     },
     "0b066318364b4a8ba73f54f6ca01da8c": {
      "model_module": "@jupyter-widgets/base",
      "model_module_version": "1.2.0",
      "model_name": "LayoutModel",
      "state": {}
     },
     "0b19237d8e7840448c555743c2a214cf": {
      "model_module": "@jupyter-widgets/controls",
      "model_module_version": "1.5.0",
      "model_name": "FloatProgressModel",
      "state": {
       "bar_style": "danger",
       "layout": "IPY_MODEL_b03ec34891cc4800b514b1210d6a30b4",
       "max": 2,
       "style": "IPY_MODEL_10e6b91e1eba4825a9195af96ffa00a9",
       "value": 1
      }
     },
     "0b3fdde2a539462fbc89f8c7eb23f65f": {
      "model_module": "@jupyter-widgets/controls",
      "model_module_version": "1.5.0",
      "model_name": "FloatProgressModel",
      "state": {
       "bar_style": "success",
       "layout": "IPY_MODEL_60cdaad6eaca4b719a544d45a126ef7a",
       "max": 12,
       "style": "IPY_MODEL_05649f0077c44315b070ba424b739cca",
       "value": 12
      }
     },
     "0ba567c14a7f4f43b11e402e42c4c845": {
      "model_module": "@jupyter-widgets/base",
      "model_module_version": "1.2.0",
      "model_name": "LayoutModel",
      "state": {}
     },
     "0c751eb4b81e4b509cd71b34ea5376c8": {
      "model_module": "@jupyter-widgets/controls",
      "model_module_version": "1.5.0",
      "model_name": "HTMLModel",
      "state": {
       "layout": "IPY_MODEL_f34c8b41e82e4206b1d2583ca8fcf0c1",
       "style": "IPY_MODEL_4fd7fa1c2a274372a61a26b19d4ad497",
       "value": "  0%"
      }
     },
     "0ca921c1982a446db99a6f47926c5eaa": {
      "model_module": "@jupyter-widgets/controls",
      "model_module_version": "1.5.0",
      "model_name": "FloatProgressModel",
      "state": {
       "bar_style": "success",
       "layout": "IPY_MODEL_8ad2282d269543dfb895077f8eaee782",
       "max": 12,
       "style": "IPY_MODEL_8cdfe50010474fd49b4c92d188b3b468",
       "value": 12
      }
     },
     "0d27136b1c8c4b3ebe9df9c8311aba8b": {
      "model_module": "@jupyter-widgets/controls",
      "model_module_version": "1.5.0",
      "model_name": "FloatProgressModel",
      "state": {
       "bar_style": "success",
       "layout": "IPY_MODEL_4d99f02fd9e144e2a35521034759c8cd",
       "max": 12,
       "style": "IPY_MODEL_16bae2a531184c90ad9b57021273d3e2",
       "value": 12
      }
     },
     "0d4c98662c1240fca87f301c0cf1662c": {
      "model_module": "@jupyter-widgets/controls",
      "model_module_version": "1.5.0",
      "model_name": "HTMLModel",
      "state": {
       "layout": "IPY_MODEL_29c17d84b0aa4ec89836c568dc095674",
       "style": "IPY_MODEL_bcff063d62ac4e3292bbd69cff4e3f87",
       "value": " 6/12 [02:04&lt;02:01, 20.33s/it]"
      }
     },
     "0d9dda810e4d4a89add1b4ca82c000b7": {
      "model_module": "@jupyter-widgets/controls",
      "model_module_version": "1.5.0",
      "model_name": "HBoxModel",
      "state": {
       "children": [
        "IPY_MODEL_e0dbbc95c85b49959f096a382f510df7",
        "IPY_MODEL_4508a3b81c034bd2b37d28184fed5d5f",
        "IPY_MODEL_17ca96b7c1a0481e9882ccc826a5f3ab"
       ],
       "layout": "IPY_MODEL_65126b13282b4a5d822a0800c1957631"
      }
     },
     "0e980c4058d4475b82fb9100e93fd71d": {
      "model_module": "@jupyter-widgets/controls",
      "model_module_version": "1.5.0",
      "model_name": "HTMLModel",
      "state": {
       "layout": "IPY_MODEL_3767448281e34e7fbb9beff165ad0eef",
       "style": "IPY_MODEL_73ac4304efce45d783582a9e72e564e0",
       "value": " 3/12 [00:13&lt;00:31,  3.46s/it]"
      }
     },
     "0ea5e83b09324c6a989425156354f32c": {
      "model_module": "@jupyter-widgets/controls",
      "model_module_version": "1.5.0",
      "model_name": "DescriptionStyleModel",
      "state": {
       "description_width": ""
      }
     },
     "0ed34b7ba565474cb753e8fd1b39de6c": {
      "model_module": "@jupyter-widgets/controls",
      "model_module_version": "1.5.0",
      "model_name": "ProgressStyleModel",
      "state": {
       "description_width": ""
      }
     },
     "0f660695925e47219a04e88d9d962b05": {
      "model_module": "@jupyter-widgets/controls",
      "model_module_version": "1.5.0",
      "model_name": "HBoxModel",
      "state": {
       "children": [
        "IPY_MODEL_2183711815e84bdebe92e7506b2f986f",
        "IPY_MODEL_3448a44b63b34bd69a5133ce003bf226",
        "IPY_MODEL_5f5514b26a4f4d7d84a6bcf3c0fa02e8"
       ],
       "layout": "IPY_MODEL_6924606529c64970ab93305a4ab68a4c"
      }
     },
     "0f99654c6c3345158a4179062da68821": {
      "model_module": "@jupyter-widgets/base",
      "model_module_version": "1.2.0",
      "model_name": "LayoutModel",
      "state": {}
     },
     "10172c8c12d24c739a3e8472b37ac30e": {
      "model_module": "@jupyter-widgets/controls",
      "model_module_version": "1.5.0",
      "model_name": "HTMLModel",
      "state": {
       "layout": "IPY_MODEL_55d29f21aba94ebd82c587bcfe681a7f",
       "style": "IPY_MODEL_dca6b333bd22444286f651a72339ae69",
       "value": " 17%"
      }
     },
     "1027952440074d6ba4b4b252c8d75d13": {
      "model_module": "@jupyter-widgets/base",
      "model_module_version": "1.2.0",
      "model_name": "LayoutModel",
      "state": {}
     },
     "10dd3416d76644638dcadc7d790abf86": {
      "model_module": "@jupyter-widgets/base",
      "model_module_version": "1.2.0",
      "model_name": "LayoutModel",
      "state": {}
     },
     "10e6b91e1eba4825a9195af96ffa00a9": {
      "model_module": "@jupyter-widgets/controls",
      "model_module_version": "1.5.0",
      "model_name": "ProgressStyleModel",
      "state": {
       "description_width": ""
      }
     },
     "1134e138a11e4741934ce7bbac11c252": {
      "model_module": "@jupyter-widgets/controls",
      "model_module_version": "1.5.0",
      "model_name": "DescriptionStyleModel",
      "state": {
       "description_width": ""
      }
     },
     "114fab8a04724f24ae57dd556348807f": {
      "model_module": "@jupyter-widgets/controls",
      "model_module_version": "1.5.0",
      "model_name": "HTMLModel",
      "state": {
       "layout": "IPY_MODEL_1ba045494a914f8b88587a7343c0d7fe",
       "style": "IPY_MODEL_8dddb5fbb92c4d0091e7b1f9ed9a086b",
       "value": "100%"
      }
     },
     "115f980a6fe94c539d3aed1d7cc00205": {
      "model_module": "@jupyter-widgets/controls",
      "model_module_version": "1.5.0",
      "model_name": "HTMLModel",
      "state": {
       "layout": "IPY_MODEL_70013c54d54e430b8ffaf2a41dc71e0b",
       "style": "IPY_MODEL_45c34772842742fd83410c223169cbad",
       "value": " 25%"
      }
     },
     "118771f1ab3d433daa57cfeac11e147b": {
      "model_module": "@jupyter-widgets/controls",
      "model_module_version": "1.5.0",
      "model_name": "FloatProgressModel",
      "state": {
       "bar_style": "danger",
       "layout": "IPY_MODEL_18bd94ba0e44484b8155095a4d422e5f",
       "max": 12,
       "style": "IPY_MODEL_0ed34b7ba565474cb753e8fd1b39de6c"
      }
     },
     "11ce998fb2444bd5b188a55b77c86c78": {
      "model_module": "@jupyter-widgets/base",
      "model_module_version": "1.2.0",
      "model_name": "LayoutModel",
      "state": {}
     },
     "11edba10094946f5903708cb6872a113": {
      "model_module": "@jupyter-widgets/controls",
      "model_module_version": "1.5.0",
      "model_name": "DescriptionStyleModel",
      "state": {
       "description_width": ""
      }
     },
     "121d7606c4c24ce98486111d658d8ea7": {
      "model_module": "@jupyter-widgets/base",
      "model_module_version": "1.2.0",
      "model_name": "LayoutModel",
      "state": {}
     },
     "1256c3d0b90b48d68986851c1962a22f": {
      "model_module": "@jupyter-widgets/controls",
      "model_module_version": "1.5.0",
      "model_name": "DescriptionStyleModel",
      "state": {
       "description_width": ""
      }
     },
     "128eca6647be445cb84180922f21b2e6": {
      "model_module": "@jupyter-widgets/base",
      "model_module_version": "1.2.0",
      "model_name": "LayoutModel",
      "state": {}
     },
     "1318dd3d025b4dfbb854c5cd82287cb3": {
      "model_module": "@jupyter-widgets/controls",
      "model_module_version": "1.5.0",
      "model_name": "DescriptionStyleModel",
      "state": {
       "description_width": ""
      }
     },
     "1321b0565a404cc9bbc72fdbd6aecc7b": {
      "model_module": "@jupyter-widgets/controls",
      "model_module_version": "1.5.0",
      "model_name": "FloatProgressModel",
      "state": {
       "bar_style": "danger",
       "layout": "IPY_MODEL_b4d1b1e59b034d27a3aab7cbe8fbd15b",
       "max": 12,
       "style": "IPY_MODEL_4f1cfbc183e24d328767264eec7aff7f"
      }
     },
     "134abd3d7e334ba3b928798ed02710aa": {
      "model_module": "@jupyter-widgets/controls",
      "model_module_version": "1.5.0",
      "model_name": "DescriptionStyleModel",
      "state": {
       "description_width": ""
      }
     },
     "13ce3436a9ff44378a32afa36ad736d8": {
      "model_module": "@jupyter-widgets/controls",
      "model_module_version": "1.5.0",
      "model_name": "HBoxModel",
      "state": {
       "children": [
        "IPY_MODEL_f7de5b778ae04551945d64e7319285ba",
        "IPY_MODEL_498750523f2e439bb95bbfb20a89d546",
        "IPY_MODEL_ac87a078500e4d7c9c31edbe21269792"
       ],
       "layout": "IPY_MODEL_c6c9962ce68b4e07a2717cbcdd92ccb9"
      }
     },
     "13d95dcf1abb40ac9eaea10e51049d8a": {
      "model_module": "@jupyter-widgets/base",
      "model_module_version": "1.2.0",
      "model_name": "LayoutModel",
      "state": {}
     },
     "141c2c65f94c4f20972658bc5dc90662": {
      "model_module": "@jupyter-widgets/controls",
      "model_module_version": "1.5.0",
      "model_name": "HTMLModel",
      "state": {
       "layout": "IPY_MODEL_20d6920eb6594b569951dd7acbe760ef",
       "style": "IPY_MODEL_c990e4fb9c294022aa419b0913f4ea1f",
       "value": "100%"
      }
     },
     "145dbe7bbec747f5b7f5072af81e00b5": {
      "model_module": "@jupyter-widgets/controls",
      "model_module_version": "1.5.0",
      "model_name": "HTMLModel",
      "state": {
       "layout": "IPY_MODEL_d03d1104ac264473a412d1769dd30098",
       "style": "IPY_MODEL_d37a5edcd5a341f6aa16fa47b0f68fbe",
       "value": " 1/2 [00:30&lt;00:29, 29.80s/it]"
      }
     },
     "1496cbda31ac4e42867cca788359b729": {
      "model_module": "@jupyter-widgets/controls",
      "model_module_version": "1.5.0",
      "model_name": "FloatProgressModel",
      "state": {
       "bar_style": "danger",
       "layout": "IPY_MODEL_5e7628c2dd5b406aab0acddfc8761366",
       "max": 12,
       "style": "IPY_MODEL_72a3181979fe43729319060ad84da52a"
      }
     },
     "14b25115653c4c49be7502923a34b53d": {
      "model_module": "@jupyter-widgets/controls",
      "model_module_version": "1.5.0",
      "model_name": "HTMLModel",
      "state": {
       "layout": "IPY_MODEL_1741d2a3b9c94a38b1ad51e252caf88c",
       "style": "IPY_MODEL_9746a01cf2c847739b33cee2629c2b4f",
       "value": " 12/12 [04:01&lt;00:00, 20.36s/it]"
      }
     },
     "14b747c0e92d47bf9b4827236e87ecaf": {
      "model_module": "@jupyter-widgets/base",
      "model_module_version": "1.2.0",
      "model_name": "LayoutModel",
      "state": {}
     },
     "154927cea8264ced8ff696cb5cb7dec6": {
      "model_module": "@jupyter-widgets/controls",
      "model_module_version": "1.5.0",
      "model_name": "ProgressStyleModel",
      "state": {
       "description_width": ""
      }
     },
     "1696db59a5774024b0e060d1068f6122": {
      "model_module": "@jupyter-widgets/base",
      "model_module_version": "1.2.0",
      "model_name": "LayoutModel",
      "state": {}
     },
     "16bae2a531184c90ad9b57021273d3e2": {
      "model_module": "@jupyter-widgets/controls",
      "model_module_version": "1.5.0",
      "model_name": "ProgressStyleModel",
      "state": {
       "description_width": ""
      }
     },
     "16dd6f331471448ca62dc42ad67193ba": {
      "model_module": "@jupyter-widgets/base",
      "model_module_version": "1.2.0",
      "model_name": "LayoutModel",
      "state": {}
     },
     "1712c997bf6444b8a3ffe13a482a7e55": {
      "model_module": "@jupyter-widgets/controls",
      "model_module_version": "1.5.0",
      "model_name": "ProgressStyleModel",
      "state": {
       "description_width": ""
      }
     },
     "1741d2a3b9c94a38b1ad51e252caf88c": {
      "model_module": "@jupyter-widgets/base",
      "model_module_version": "1.2.0",
      "model_name": "LayoutModel",
      "state": {}
     },
     "1751915a5ba141889d08a0273eaea09d": {
      "model_module": "@jupyter-widgets/controls",
      "model_module_version": "1.5.0",
      "model_name": "ProgressStyleModel",
      "state": {
       "description_width": ""
      }
     },
     "176c19f0f096474992e4d4e8ef531ef4": {
      "model_module": "@jupyter-widgets/base",
      "model_module_version": "1.2.0",
      "model_name": "LayoutModel",
      "state": {}
     },
     "17b8c8155c104bf7b857b166449e9adf": {
      "model_module": "@jupyter-widgets/controls",
      "model_module_version": "1.5.0",
      "model_name": "FloatProgressModel",
      "state": {
       "bar_style": "success",
       "layout": "IPY_MODEL_59d33ba06e9e44a9b4ce47d557ee9400",
       "max": 12,
       "style": "IPY_MODEL_7f1470b39fc84f5a849493c04a3f1cf2",
       "value": 12
      }
     },
     "17b925d8999345c2b076c4224c39cf29": {
      "model_module": "@jupyter-widgets/controls",
      "model_module_version": "1.5.0",
      "model_name": "HTMLModel",
      "state": {
       "layout": "IPY_MODEL_fa59c9516e7f4dbeadd4c7bd2e3763b2",
       "style": "IPY_MODEL_f923f4b2ae1f44469c5792aa5953c8f4",
       "value": " 12/12 [00:30&lt;00:00,  2.54s/it]"
      }
     },
     "17ca96b7c1a0481e9882ccc826a5f3ab": {
      "model_module": "@jupyter-widgets/controls",
      "model_module_version": "1.5.0",
      "model_name": "HTMLModel",
      "state": {
       "layout": "IPY_MODEL_70118a4546494944b89b25bbd7da9c39",
       "style": "IPY_MODEL_f9681ab439634e3d98c718ff2af85bca",
       "value": " 4/12 [02:01&lt;03:55, 29.47s/it]"
      }
     },
     "181a11a37a6f462e975f29af4b1afb44": {
      "model_module": "@jupyter-widgets/base",
      "model_module_version": "1.2.0",
      "model_name": "LayoutModel",
      "state": {}
     },
     "185b067151a1486185c345b6cb948512": {
      "model_module": "@jupyter-widgets/base",
      "model_module_version": "1.2.0",
      "model_name": "LayoutModel",
      "state": {}
     },
     "18bd94ba0e44484b8155095a4d422e5f": {
      "model_module": "@jupyter-widgets/base",
      "model_module_version": "1.2.0",
      "model_name": "LayoutModel",
      "state": {}
     },
     "18c0131fa2c745c2aa93f14a4e34f64a": {
      "model_module": "@jupyter-widgets/base",
      "model_module_version": "1.2.0",
      "model_name": "LayoutModel",
      "state": {}
     },
     "18e74744447d4637be8b4ca7800fb231": {
      "model_module": "@jupyter-widgets/controls",
      "model_module_version": "1.5.0",
      "model_name": "ProgressStyleModel",
      "state": {
       "description_width": ""
      }
     },
     "18ec6f97a3c4473088ab017f60b19ed7": {
      "model_module": "@jupyter-widgets/controls",
      "model_module_version": "1.5.0",
      "model_name": "HTMLModel",
      "state": {
       "layout": "IPY_MODEL_11ce998fb2444bd5b188a55b77c86c78",
       "style": "IPY_MODEL_492c238215e5482880e60af2f01180ec",
       "value": " 0/12 [00:12&lt;?, ?it/s]"
      }
     },
     "1946b1d7522545f389f232ccc3f27803": {
      "model_module": "@jupyter-widgets/controls",
      "model_module_version": "1.5.0",
      "model_name": "ProgressStyleModel",
      "state": {
       "description_width": ""
      }
     },
     "1a7bce4599684b5886a68f1fe44ffa06": {
      "model_module": "@jupyter-widgets/base",
      "model_module_version": "1.2.0",
      "model_name": "LayoutModel",
      "state": {}
     },
     "1af87f0b85c44a53944a454e571fb73e": {
      "model_module": "@jupyter-widgets/controls",
      "model_module_version": "1.5.0",
      "model_name": "DescriptionStyleModel",
      "state": {
       "description_width": ""
      }
     },
     "1b378ebd56054b79856e105642377d5b": {
      "model_module": "@jupyter-widgets/base",
      "model_module_version": "1.2.0",
      "model_name": "LayoutModel",
      "state": {}
     },
     "1b71e25a928a48d1addddf13b8b7b253": {
      "model_module": "@jupyter-widgets/controls",
      "model_module_version": "1.5.0",
      "model_name": "DescriptionStyleModel",
      "state": {
       "description_width": ""
      }
     },
     "1ba045494a914f8b88587a7343c0d7fe": {
      "model_module": "@jupyter-widgets/base",
      "model_module_version": "1.2.0",
      "model_name": "LayoutModel",
      "state": {}
     },
     "1bb723c4b4564138bc43dad24e4ffe33": {
      "model_module": "@jupyter-widgets/base",
      "model_module_version": "1.2.0",
      "model_name": "LayoutModel",
      "state": {}
     },
     "1bc8319679a047a38fd23c1f32e7a0dc": {
      "model_module": "@jupyter-widgets/base",
      "model_module_version": "1.2.0",
      "model_name": "LayoutModel",
      "state": {}
     },
     "1cb4cf7693f64835a8d77ff60fa501fb": {
      "model_module": "@jupyter-widgets/controls",
      "model_module_version": "1.5.0",
      "model_name": "HTMLModel",
      "state": {
       "layout": "IPY_MODEL_949655abb9324591af1b5f0927b03b55",
       "style": "IPY_MODEL_da7420fa14c842e7a0f47a7b17139534",
       "value": "  8%"
      }
     },
     "1d1e54b9a6ee43399921b733fc8119f3": {
      "model_module": "@jupyter-widgets/controls",
      "model_module_version": "1.5.0",
      "model_name": "FloatProgressModel",
      "state": {
       "bar_style": "success",
       "layout": "IPY_MODEL_c78b87e6a0ea43adb8c995f293cd73ed",
       "max": 12,
       "style": "IPY_MODEL_a8759b6c10d540a3bb76fde80fa9c30f",
       "value": 12
      }
     },
     "1d43d05a5c964be9a08b584971802673": {
      "model_module": "@jupyter-widgets/controls",
      "model_module_version": "1.5.0",
      "model_name": "HTMLModel",
      "state": {
       "layout": "IPY_MODEL_dd0bb9e876f64f75b4735d5362fb5d7f",
       "style": "IPY_MODEL_9242f2dc079a4ac9a1938691c83f0f78",
       "value": " 12/12 [00:31&lt;00:00,  2.59s/it]"
      }
     },
     "1d8de6d29ef34511a24a13bea6c88880": {
      "model_module": "@jupyter-widgets/controls",
      "model_module_version": "1.5.0",
      "model_name": "HBoxModel",
      "state": {
       "children": [
        "IPY_MODEL_505366d52d044195906deb2d6b6824c1",
        "IPY_MODEL_1496cbda31ac4e42867cca788359b729",
        "IPY_MODEL_18ec6f97a3c4473088ab017f60b19ed7"
       ],
       "layout": "IPY_MODEL_5e1e13b68894412495e26d61c64dc8b8"
      }
     },
     "1dacacca519848c59d29a6505decbdef": {
      "model_module": "@jupyter-widgets/base",
      "model_module_version": "1.2.0",
      "model_name": "LayoutModel",
      "state": {}
     },
     "1e13fa38a1a749fea105f0d4ac501380": {
      "model_module": "@jupyter-widgets/base",
      "model_module_version": "1.2.0",
      "model_name": "LayoutModel",
      "state": {}
     },
     "1e98270a549c4af38e79b2e784fa51e0": {
      "model_module": "@jupyter-widgets/controls",
      "model_module_version": "1.5.0",
      "model_name": "FloatProgressModel",
      "state": {
       "bar_style": "danger",
       "layout": "IPY_MODEL_e0110c298b9d4e73aa7bc5c44aded905",
       "max": 12,
       "style": "IPY_MODEL_e7c4d24b7f2040728dd53ba577f049f9",
       "value": 6
      }
     },
     "1f185160ba3e4e00ae4ea03f7d28a135": {
      "model_module": "@jupyter-widgets/controls",
      "model_module_version": "1.5.0",
      "model_name": "HTMLModel",
      "state": {
       "layout": "IPY_MODEL_9daf4e9139cd4d2d877a6e7098cc09c1",
       "style": "IPY_MODEL_c2b908f8f33c4c7f8bd53e09bb70fb1a",
       "value": " 0/2 [00:03&lt;?, ?it/s]"
      }
     },
     "1f4bebff701f4b98886babc74b2d9e82": {
      "model_module": "@jupyter-widgets/base",
      "model_module_version": "1.2.0",
      "model_name": "LayoutModel",
      "state": {}
     },
     "1f51b3c4198548d6ba855541b36c2ae8": {
      "model_module": "@jupyter-widgets/controls",
      "model_module_version": "1.5.0",
      "model_name": "HTMLModel",
      "state": {
       "layout": "IPY_MODEL_56d81d02506b4f3b9a09e3e65a12f736",
       "style": "IPY_MODEL_2703c5f2d58348d6a23f24b3a09865a0",
       "value": "  0%"
      }
     },
     "1fc5c9a9504a48b9a4cdb9dfd41b6ed2": {
      "model_module": "@jupyter-widgets/controls",
      "model_module_version": "1.5.0",
      "model_name": "ProgressStyleModel",
      "state": {
       "description_width": ""
      }
     },
     "1fc8a56559ec400dbde0fd63c11186aa": {
      "model_module": "@jupyter-widgets/controls",
      "model_module_version": "1.5.0",
      "model_name": "HTMLModel",
      "state": {
       "layout": "IPY_MODEL_e2b1608b3a314fdb90526c3f50cecdea",
       "style": "IPY_MODEL_48bd115568724448b168f17eea0644c3",
       "value": "100%"
      }
     },
     "20893d5b4bfd41038aac01c73bdeb556": {
      "model_module": "@jupyter-widgets/controls",
      "model_module_version": "1.5.0",
      "model_name": "HTMLModel",
      "state": {
       "layout": "IPY_MODEL_4c9a9dbb092e48d9a762bbf39db8fe3a",
       "style": "IPY_MODEL_5ea5f3d477394d5abcd1ce60a1e8af21",
       "value": " 0/12 [00:13&lt;?, ?it/s]"
      }
     },
     "20d6920eb6594b569951dd7acbe760ef": {
      "model_module": "@jupyter-widgets/base",
      "model_module_version": "1.2.0",
      "model_name": "LayoutModel",
      "state": {}
     },
     "2183711815e84bdebe92e7506b2f986f": {
      "model_module": "@jupyter-widgets/controls",
      "model_module_version": "1.5.0",
      "model_name": "HTMLModel",
      "state": {
       "layout": "IPY_MODEL_2fc756ec06894b8eb8fea1cc99b02ed2",
       "style": "IPY_MODEL_48d2f11b248b4d25b01aba7335be8b4c",
       "value": "  0%"
      }
     },
     "218d9bcc87044e57bf7e456d94671031": {
      "model_module": "@jupyter-widgets/base",
      "model_module_version": "1.2.0",
      "model_name": "LayoutModel",
      "state": {}
     },
     "2208bc3132844df586673843a2c3f44e": {
      "model_module": "@jupyter-widgets/base",
      "model_module_version": "1.2.0",
      "model_name": "LayoutModel",
      "state": {}
     },
     "22a5872ebc6646598493c06a6c56e246": {
      "model_module": "@jupyter-widgets/base",
      "model_module_version": "1.2.0",
      "model_name": "LayoutModel",
      "state": {}
     },
     "23b836ee89664776b0eb5f2dcffbec68": {
      "model_module": "@jupyter-widgets/controls",
      "model_module_version": "1.5.0",
      "model_name": "DescriptionStyleModel",
      "state": {
       "description_width": ""
      }
     },
     "2466412798a94834b34fb0ee6cc25447": {
      "model_module": "@jupyter-widgets/controls",
      "model_module_version": "1.5.0",
      "model_name": "DescriptionStyleModel",
      "state": {
       "description_width": ""
      }
     },
     "246b3a3d2eea48c189e945670f07795e": {
      "model_module": "@jupyter-widgets/controls",
      "model_module_version": "1.5.0",
      "model_name": "HTMLModel",
      "state": {
       "layout": "IPY_MODEL_25a7c4c05b7a434c916b426c59ccf56d",
       "style": "IPY_MODEL_dcc1f7b4354849dbad1d9074bb47bfb6",
       "value": " 12/12 [00:00&lt;00:00, 13.41it/s]"
      }
     },
     "2566fb2a73ae43859b0d2c3f8f4b0f10": {
      "model_module": "@jupyter-widgets/controls",
      "model_module_version": "1.5.0",
      "model_name": "DescriptionStyleModel",
      "state": {
       "description_width": ""
      }
     },
     "257aa2f2606748b386be25216d595acd": {
      "model_module": "@jupyter-widgets/controls",
      "model_module_version": "1.5.0",
      "model_name": "HTMLModel",
      "state": {
       "layout": "IPY_MODEL_b662b68df2004639b273ffee091fc517",
       "style": "IPY_MODEL_4ed4d703a5e24933bb0d3b29eb793b57",
       "value": " 75%"
      }
     },
     "25a7c4c05b7a434c916b426c59ccf56d": {
      "model_module": "@jupyter-widgets/base",
      "model_module_version": "1.2.0",
      "model_name": "LayoutModel",
      "state": {}
     },
     "25b2f95a8f6c437baf02647c79966caa": {
      "model_module": "@jupyter-widgets/controls",
      "model_module_version": "1.5.0",
      "model_name": "DescriptionStyleModel",
      "state": {
       "description_width": ""
      }
     },
     "26b320103d184e81ba29a02e24f91a6f": {
      "model_module": "@jupyter-widgets/controls",
      "model_module_version": "1.5.0",
      "model_name": "FloatProgressModel",
      "state": {
       "bar_style": "danger",
       "layout": "IPY_MODEL_181a11a37a6f462e975f29af4b1afb44",
       "max": 12,
       "style": "IPY_MODEL_97aa7333404942f0a7c78f458b840b37",
       "value": 7
      }
     },
     "26f8944661a045e8a251b50473b97a5f": {
      "model_module": "@jupyter-widgets/controls",
      "model_module_version": "1.5.0",
      "model_name": "DescriptionStyleModel",
      "state": {
       "description_width": ""
      }
     },
     "2703c5f2d58348d6a23f24b3a09865a0": {
      "model_module": "@jupyter-widgets/controls",
      "model_module_version": "1.5.0",
      "model_name": "DescriptionStyleModel",
      "state": {
       "description_width": ""
      }
     },
     "270da9e4aecf401b895de5395dedc51a": {
      "model_module": "@jupyter-widgets/controls",
      "model_module_version": "1.5.0",
      "model_name": "DescriptionStyleModel",
      "state": {
       "description_width": ""
      }
     },
     "2747fc5396ed462d8f55e26931955ffd": {
      "model_module": "@jupyter-widgets/controls",
      "model_module_version": "1.5.0",
      "model_name": "FloatProgressModel",
      "state": {
       "bar_style": "danger",
       "layout": "IPY_MODEL_3e4713d567384c00af626745aeea765f",
       "max": 12,
       "style": "IPY_MODEL_33fd4d4254b94e2eb4251690c7da84d0",
       "value": 9
      }
     },
     "277e362bb5504691bb8d1e1548cafdd8": {
      "model_module": "@jupyter-widgets/base",
      "model_module_version": "1.2.0",
      "model_name": "LayoutModel",
      "state": {}
     },
     "27b3e7f4115044bc90d8d102d7c8facb": {
      "model_module": "@jupyter-widgets/controls",
      "model_module_version": "1.5.0",
      "model_name": "HBoxModel",
      "state": {
       "children": [
        "IPY_MODEL_8cfd1536d03b4e52bb281f74610ebb8c",
        "IPY_MODEL_87dfaf62fe4b45118345b552fd8aaa61",
        "IPY_MODEL_1d43d05a5c964be9a08b584971802673"
       ],
       "layout": "IPY_MODEL_cda68407a58a4271b6ae8ab9d5773eb1"
      }
     },
     "27cbb648170f4444a8efc524fcae84ed": {
      "model_module": "@jupyter-widgets/controls",
      "model_module_version": "1.5.0",
      "model_name": "HBoxModel",
      "state": {
       "children": [
        "IPY_MODEL_ccc38b6630b641a4a3477714c8100ac0",
        "IPY_MODEL_0d27136b1c8c4b3ebe9df9c8311aba8b",
        "IPY_MODEL_7c35802e59e4422ba5b6ae2027275c99"
       ],
       "layout": "IPY_MODEL_fc788abdb7614b0894abe168a0d6ab15"
      }
     },
     "27ddc7eb9d7a4701a11e472284e5ca0b": {
      "model_module": "@jupyter-widgets/controls",
      "model_module_version": "1.5.0",
      "model_name": "HTMLModel",
      "state": {
       "layout": "IPY_MODEL_6912d67a67394795ba5158ec5f8510a4",
       "style": "IPY_MODEL_d5b6afa80c3f41b1b8b4660f6c19d851",
       "value": " 12/12 [00:00&lt;00:00, 13.55it/s]"
      }
     },
     "27f9a778c5954fa980d7f58c769af7cd": {
      "model_module": "@jupyter-widgets/base",
      "model_module_version": "1.2.0",
      "model_name": "LayoutModel",
      "state": {}
     },
     "28a18acb9c1147ec816a6e6a78e9be48": {
      "model_module": "@jupyter-widgets/base",
      "model_module_version": "1.2.0",
      "model_name": "LayoutModel",
      "state": {}
     },
     "28a41ee7ae0f4a03b53e1877e5c4e017": {
      "model_module": "@jupyter-widgets/controls",
      "model_module_version": "1.5.0",
      "model_name": "FloatProgressModel",
      "state": {
       "bar_style": "success",
       "layout": "IPY_MODEL_89f8b2b5733a4453adff980ea7f6ac7d",
       "max": 12,
       "style": "IPY_MODEL_9694a498da7a419ca80f27856961821b",
       "value": 12
      }
     },
     "2922a7460aad4dc2b5225088dab17ace": {
      "model_module": "@jupyter-widgets/controls",
      "model_module_version": "1.5.0",
      "model_name": "HTMLModel",
      "state": {
       "layout": "IPY_MODEL_aaa12e9f87714f1ca78c9e5a09ec2f07",
       "style": "IPY_MODEL_5116a6a723594d68bd6ca06b66322496",
       "value": " 50%"
      }
     },
     "29c17d84b0aa4ec89836c568dc095674": {
      "model_module": "@jupyter-widgets/base",
      "model_module_version": "1.2.0",
      "model_name": "LayoutModel",
      "state": {}
     },
     "29d9f86aae2c4fe5943f1d990cdc5554": {
      "model_module": "@jupyter-widgets/controls",
      "model_module_version": "1.5.0",
      "model_name": "HTMLModel",
      "state": {
       "layout": "IPY_MODEL_66f69e35179f4917b3135186e6743f9d",
       "style": "IPY_MODEL_a01fc8d077ed4470b7f438142b723e8d",
       "value": " 12/12 [00:39&lt;00:00,  3.32s/it]"
      }
     },
     "2a84682a17c0431196985ca9de96c99c": {
      "model_module": "@jupyter-widgets/controls",
      "model_module_version": "1.5.0",
      "model_name": "HTMLModel",
      "state": {
       "layout": "IPY_MODEL_86735749ca21456d9fc0278432c8fae3",
       "style": "IPY_MODEL_bb84998419174a2ea4fec22c63b87123",
       "value": "100%"
      }
     },
     "2ab131a5c31349808d9fdd5c0eb4ed1f": {
      "model_module": "@jupyter-widgets/base",
      "model_module_version": "1.2.0",
      "model_name": "LayoutModel",
      "state": {}
     },
     "2ac9ad0eac834f16ba85adcecee33f52": {
      "model_module": "@jupyter-widgets/base",
      "model_module_version": "1.2.0",
      "model_name": "LayoutModel",
      "state": {}
     },
     "2afb052b5373467c866c6f14f51ab447": {
      "model_module": "@jupyter-widgets/controls",
      "model_module_version": "1.5.0",
      "model_name": "FloatProgressModel",
      "state": {
       "bar_style": "success",
       "layout": "IPY_MODEL_078c4020ad8442a0acafe3ddc0e700f8",
       "max": 12,
       "style": "IPY_MODEL_021d9e672cea4a72bb40460872f297a2",
       "value": 12
      }
     },
     "2b500b62409a4090ba04bdc3de53701d": {
      "model_module": "@jupyter-widgets/base",
      "model_module_version": "1.2.0",
      "model_name": "LayoutModel",
      "state": {}
     },
     "2b9ad47fd8b348fbb6b253865732cb48": {
      "model_module": "@jupyter-widgets/controls",
      "model_module_version": "1.5.0",
      "model_name": "ProgressStyleModel",
      "state": {
       "description_width": ""
      }
     },
     "2bdc43bec6f34bb992a7069ffff7cdd6": {
      "model_module": "@jupyter-widgets/controls",
      "model_module_version": "1.5.0",
      "model_name": "DescriptionStyleModel",
      "state": {
       "description_width": ""
      }
     },
     "2c020eedd428435b8f057ee6f7f092cf": {
      "model_module": "@jupyter-widgets/controls",
      "model_module_version": "1.5.0",
      "model_name": "ProgressStyleModel",
      "state": {
       "description_width": ""
      }
     },
     "2c27c40acdcc4e6188a1f78282a1c76e": {
      "model_module": "@jupyter-widgets/base",
      "model_module_version": "1.2.0",
      "model_name": "LayoutModel",
      "state": {}
     },
     "2ce8e58d727c41e897309df424bbb812": {
      "model_module": "@jupyter-widgets/controls",
      "model_module_version": "1.5.0",
      "model_name": "DescriptionStyleModel",
      "state": {
       "description_width": ""
      }
     },
     "2cf0cbebb0ab4d76849ab6345ae99b1a": {
      "model_module": "@jupyter-widgets/controls",
      "model_module_version": "1.5.0",
      "model_name": "HTMLModel",
      "state": {
       "layout": "IPY_MODEL_2208bc3132844df586673843a2c3f44e",
       "style": "IPY_MODEL_2fb5bd8e30534ce09f675431f4c639c4",
       "value": "100%"
      }
     },
     "2cf5155bf2f243a384ee861fdd9f344e": {
      "model_module": "@jupyter-widgets/base",
      "model_module_version": "1.2.0",
      "model_name": "LayoutModel",
      "state": {}
     },
     "2cfeab21aed94d25a5cd8d7fdb3de472": {
      "model_module": "@jupyter-widgets/controls",
      "model_module_version": "1.5.0",
      "model_name": "HBoxModel",
      "state": {
       "children": [
        "IPY_MODEL_a588e2cfee2a4cbfb73fb3887e9d9b90",
        "IPY_MODEL_1d1e54b9a6ee43399921b733fc8119f3",
        "IPY_MODEL_8ee0014a54734439887425ec1625e88d"
       ],
       "layout": "IPY_MODEL_eab993a849cd426eb9f0a50a923e4e7b"
      }
     },
     "2d7b6185377e4cba95b1cb5a4941d72b": {
      "model_module": "@jupyter-widgets/controls",
      "model_module_version": "1.5.0",
      "model_name": "DescriptionStyleModel",
      "state": {
       "description_width": ""
      }
     },
     "2d803bcb51414afa9d3386bdbf443010": {
      "model_module": "@jupyter-widgets/controls",
      "model_module_version": "1.5.0",
      "model_name": "FloatProgressModel",
      "state": {
       "bar_style": "danger",
       "layout": "IPY_MODEL_c514cc014f434c0082760f8be46661ad",
       "max": 12,
       "style": "IPY_MODEL_d7410e9bab874f5caa471f1956254e43",
       "value": 1
      }
     },
     "2dae7f51043c40f986b1df16e1f31096": {
      "model_module": "@jupyter-widgets/controls",
      "model_module_version": "1.5.0",
      "model_name": "DescriptionStyleModel",
      "state": {
       "description_width": ""
      }
     },
     "2dcfcc0f9f2646d98e887efff02f1c01": {
      "model_module": "@jupyter-widgets/controls",
      "model_module_version": "1.5.0",
      "model_name": "HBoxModel",
      "state": {
       "children": [
        "IPY_MODEL_d8fdb00bcdfd49769cff1d025a468b58",
        "IPY_MODEL_ae248ae2d1ef454fa8ff6d7ef42762ed",
        "IPY_MODEL_54d3676e91e3446ab1753c19d9b5f3e7"
       ],
       "layout": "IPY_MODEL_8bd1840236044d1f923263707f170e87"
      }
     },
     "2e1fda261a7b461bb0dfab613c1c1b33": {
      "model_module": "@jupyter-widgets/controls",
      "model_module_version": "1.5.0",
      "model_name": "DescriptionStyleModel",
      "state": {
       "description_width": ""
      }
     },
     "2f1cccafc7434922b92f9885d1237582": {
      "model_module": "@jupyter-widgets/base",
      "model_module_version": "1.2.0",
      "model_name": "LayoutModel",
      "state": {}
     },
     "2f461aed3f0c4a83b4b78496c7310e48": {
      "model_module": "@jupyter-widgets/base",
      "model_module_version": "1.2.0",
      "model_name": "LayoutModel",
      "state": {}
     },
     "2f7804990a6f4747a98a933d17d63bc2": {
      "model_module": "@jupyter-widgets/controls",
      "model_module_version": "1.5.0",
      "model_name": "DescriptionStyleModel",
      "state": {
       "description_width": ""
      }
     },
     "2fb5bd8e30534ce09f675431f4c639c4": {
      "model_module": "@jupyter-widgets/controls",
      "model_module_version": "1.5.0",
      "model_name": "DescriptionStyleModel",
      "state": {
       "description_width": ""
      }
     },
     "2fc756ec06894b8eb8fea1cc99b02ed2": {
      "model_module": "@jupyter-widgets/base",
      "model_module_version": "1.2.0",
      "model_name": "LayoutModel",
      "state": {}
     },
     "3122453adf324b83befbb5d96455aada": {
      "model_module": "@jupyter-widgets/controls",
      "model_module_version": "1.5.0",
      "model_name": "HBoxModel",
      "state": {
       "children": [
        "IPY_MODEL_7d87cab254144a71bdf813220f78b19d",
        "IPY_MODEL_3153e44e443842ca9ff98f8e47f97471",
        "IPY_MODEL_0d4c98662c1240fca87f301c0cf1662c"
       ],
       "layout": "IPY_MODEL_ae5598ae8f9844e9841d3075329fc932"
      }
     },
     "312898e6e54840b8b3d3f13f12988b70": {
      "model_module": "@jupyter-widgets/controls",
      "model_module_version": "1.5.0",
      "model_name": "FloatProgressModel",
      "state": {
       "bar_style": "success",
       "layout": "IPY_MODEL_6013194920c6428e9920e5ac432f37d1",
       "max": 12,
       "style": "IPY_MODEL_083a42477df0433fa256dabe1f51bdf4",
       "value": 12
      }
     },
     "314c2d3bc75647d3bd7513451790c4ce": {
      "model_module": "@jupyter-widgets/controls",
      "model_module_version": "1.5.0",
      "model_name": "HBoxModel",
      "state": {
       "children": [
        "IPY_MODEL_76df1da1f0e14e6898f21c1595e6be2e",
        "IPY_MODEL_fccd03ad7bc64cd1b17e3fe5e72c29eb",
        "IPY_MODEL_20893d5b4bfd41038aac01c73bdeb556"
       ],
       "layout": "IPY_MODEL_6d6baddc9454457e92d19abb6f13b8fc"
      }
     },
     "3153e44e443842ca9ff98f8e47f97471": {
      "model_module": "@jupyter-widgets/controls",
      "model_module_version": "1.5.0",
      "model_name": "FloatProgressModel",
      "state": {
       "bar_style": "danger",
       "layout": "IPY_MODEL_1027952440074d6ba4b4b252c8d75d13",
       "max": 12,
       "style": "IPY_MODEL_024a80aac4f240baaf4e076de7d1a3a4",
       "value": 6
      }
     },
     "32251cd4b97247eabc4c43385635b82d": {
      "model_module": "@jupyter-widgets/controls",
      "model_module_version": "1.5.0",
      "model_name": "HBoxModel",
      "state": {
       "children": [
        "IPY_MODEL_50338f249f1842e2ab177a5725589710",
        "IPY_MODEL_26b320103d184e81ba29a02e24f91a6f",
        "IPY_MODEL_9017f203953a4420925f7cc36aa7aafa"
       ],
       "layout": "IPY_MODEL_14b747c0e92d47bf9b4827236e87ecaf"
      }
     },
     "324ae89dacee4957adcec84a12aae1f8": {
      "model_module": "@jupyter-widgets/controls",
      "model_module_version": "1.5.0",
      "model_name": "HTMLModel",
      "state": {
       "layout": "IPY_MODEL_8d5931be72dd4ed8a863f030549fc5b6",
       "style": "IPY_MODEL_eae81cb01e954965a17e68fcb6f54d38",
       "value": "100%"
      }
     },
     "3272eb32759d45a083d97c5a93e8443c": {
      "model_module": "@jupyter-widgets/controls",
      "model_module_version": "1.5.0",
      "model_name": "HBoxModel",
      "state": {
       "children": [
        "IPY_MODEL_8e12afd54286458796f626efd17c926b",
        "IPY_MODEL_9da40909a520439e93ac8a1768b8b5e1",
        "IPY_MODEL_707a97bd0f3d469eaacc5b17aef96270"
       ],
       "layout": "IPY_MODEL_487815f2564a4268962104dca5cb1bd9"
      }
     },
     "3278130ef6ed44648a7d23b940b9d973": {
      "model_module": "@jupyter-widgets/controls",
      "model_module_version": "1.5.0",
      "model_name": "HBoxModel",
      "state": {
       "children": [
        "IPY_MODEL_627c40ecbfac43c7be3c7ccc8dc6e18a",
        "IPY_MODEL_4dc7e06e9e014245bcba2171b6273dae",
        "IPY_MODEL_e9235906bd044d57bb1c0156fc403c79"
       ],
       "layout": "IPY_MODEL_a7ea326557ca4f96860b098f96c003cb"
      }
     },
     "3307bb225fde4c99b248ca7d5917998b": {
      "model_module": "@jupyter-widgets/base",
      "model_module_version": "1.2.0",
      "model_name": "LayoutModel",
      "state": {}
     },
     "33944410d2c24ef5ba49267a321ce13f": {
      "model_module": "@jupyter-widgets/controls",
      "model_module_version": "1.5.0",
      "model_name": "FloatProgressModel",
      "state": {
       "bar_style": "success",
       "layout": "IPY_MODEL_93c775e07d704061898accfe7ab3ddd1",
       "max": 12,
       "style": "IPY_MODEL_1751915a5ba141889d08a0273eaea09d",
       "value": 12
      }
     },
     "33fd4d4254b94e2eb4251690c7da84d0": {
      "model_module": "@jupyter-widgets/controls",
      "model_module_version": "1.5.0",
      "model_name": "ProgressStyleModel",
      "state": {
       "description_width": ""
      }
     },
     "34108deecbb141d5bd79fb7a4d20d07b": {
      "model_module": "@jupyter-widgets/controls",
      "model_module_version": "1.5.0",
      "model_name": "HTMLModel",
      "state": {
       "layout": "IPY_MODEL_2c27c40acdcc4e6188a1f78282a1c76e",
       "style": "IPY_MODEL_270da9e4aecf401b895de5395dedc51a",
       "value": " 12/12 [02:00&lt;00:00, 10.04s/it]"
      }
     },
     "3448a44b63b34bd69a5133ce003bf226": {
      "model_module": "@jupyter-widgets/controls",
      "model_module_version": "1.5.0",
      "model_name": "FloatProgressModel",
      "state": {
       "bar_style": "danger",
       "layout": "IPY_MODEL_f0f1797c03e240129f2e550c25a6e1fe",
       "max": 12,
       "style": "IPY_MODEL_18e74744447d4637be8b4ca7800fb231"
      }
     },
     "359fb5d887084cebb1b96919c9ea765e": {
      "model_module": "@jupyter-widgets/controls",
      "model_module_version": "1.5.0",
      "model_name": "ProgressStyleModel",
      "state": {
       "description_width": ""
      }
     },
     "35c99bfbb455475d82bf029daece758d": {
      "model_module": "@jupyter-widgets/controls",
      "model_module_version": "1.5.0",
      "model_name": "HTMLModel",
      "state": {
       "layout": "IPY_MODEL_4b9ff0e298d94630b9f24fb1cdb2143a",
       "style": "IPY_MODEL_9b1ff8e929b34cb8b7aeb5b856e63bd6",
       "value": "100%"
      }
     },
     "36694c76db2d4dda95fd8d79e7562565": {
      "model_module": "@jupyter-widgets/controls",
      "model_module_version": "1.5.0",
      "model_name": "DescriptionStyleModel",
      "state": {
       "description_width": ""
      }
     },
     "370edc0f67d242aea4cb97037f84790e": {
      "model_module": "@jupyter-widgets/controls",
      "model_module_version": "1.5.0",
      "model_name": "HBoxModel",
      "state": {
       "children": [
        "IPY_MODEL_e5d9ad0091ef4b0aa6175c549704c701",
        "IPY_MODEL_fe25d15fab7249f79b5d74f24939627e",
        "IPY_MODEL_1f185160ba3e4e00ae4ea03f7d28a135"
       ],
       "layout": "IPY_MODEL_485d70ba5286468bb2083165095cba1b"
      }
     },
     "375e11a122ca40f691759af0197bc95e": {
      "model_module": "@jupyter-widgets/base",
      "model_module_version": "1.2.0",
      "model_name": "LayoutModel",
      "state": {}
     },
     "3767448281e34e7fbb9beff165ad0eef": {
      "model_module": "@jupyter-widgets/base",
      "model_module_version": "1.2.0",
      "model_name": "LayoutModel",
      "state": {}
     },
     "37c057f1005645ecaad2d74a5688004c": {
      "model_module": "@jupyter-widgets/controls",
      "model_module_version": "1.5.0",
      "model_name": "DescriptionStyleModel",
      "state": {
       "description_width": ""
      }
     },
     "381d68ebc62543988af130205e4a7881": {
      "model_module": "@jupyter-widgets/controls",
      "model_module_version": "1.5.0",
      "model_name": "DescriptionStyleModel",
      "state": {
       "description_width": ""
      }
     },
     "38dfbc70d2e049e787fe73bd67e0271c": {
      "model_module": "@jupyter-widgets/controls",
      "model_module_version": "1.5.0",
      "model_name": "HTMLModel",
      "state": {
       "layout": "IPY_MODEL_6cf0d333103a46728c74318a22a156c5",
       "style": "IPY_MODEL_dc2421c28dab4c47b86267d90ccad087",
       "value": " 17%"
      }
     },
     "391ab6f44dd74f39a7f7030a22c48b1e": {
      "model_module": "@jupyter-widgets/controls",
      "model_module_version": "1.5.0",
      "model_name": "HBoxModel",
      "state": {
       "children": [
        "IPY_MODEL_2a84682a17c0431196985ca9de96c99c",
        "IPY_MODEL_2afb052b5373467c866c6f14f51ab447",
        "IPY_MODEL_ac6de53c3224425f9964dfe3e908105b"
       ],
       "layout": "IPY_MODEL_3c0b60cd3f8b4b95829e2ff0f74cde72"
      }
     },
     "39505bb827824d7c8b7d606e27e8a52c": {
      "model_module": "@jupyter-widgets/controls",
      "model_module_version": "1.5.0",
      "model_name": "HBoxModel",
      "state": {
       "children": [
        "IPY_MODEL_a3343f47162e4899a67a60334c33bab6",
        "IPY_MODEL_b3ef18d488fe47aea0941b0fcff36327",
        "IPY_MODEL_17b925d8999345c2b076c4224c39cf29"
       ],
       "layout": "IPY_MODEL_501d53b2133745588a4b85fd13c86ebe"
      }
     },
     "39f37d33a8614a5fb2398c51cc83cb00": {
      "model_module": "@jupyter-widgets/controls",
      "model_module_version": "1.5.0",
      "model_name": "ProgressStyleModel",
      "state": {
       "description_width": ""
      }
     },
     "3c0b60cd3f8b4b95829e2ff0f74cde72": {
      "model_module": "@jupyter-widgets/base",
      "model_module_version": "1.2.0",
      "model_name": "LayoutModel",
      "state": {}
     },
     "3dd58c0a7fcb471493df317310657ff8": {
      "model_module": "@jupyter-widgets/controls",
      "model_module_version": "1.5.0",
      "model_name": "HBoxModel",
      "state": {
       "children": [
        "IPY_MODEL_5d1c0ca1b4884f4f999d203ce570f66b",
        "IPY_MODEL_0b3fdde2a539462fbc89f8c7eb23f65f",
        "IPY_MODEL_fdda5a7982d34c32888cd5f7bb939831"
       ],
       "layout": "IPY_MODEL_5a554494ae0645c19c7fdc5eb9d19925"
      }
     },
     "3e34f49b837040539c4afa456ea9e22d": {
      "model_module": "@jupyter-widgets/controls",
      "model_module_version": "1.5.0",
      "model_name": "DescriptionStyleModel",
      "state": {
       "description_width": ""
      }
     },
     "3e4713d567384c00af626745aeea765f": {
      "model_module": "@jupyter-widgets/base",
      "model_module_version": "1.2.0",
      "model_name": "LayoutModel",
      "state": {}
     },
     "3eb8bd6b96f64c9286d5cfee02f4c9ae": {
      "model_module": "@jupyter-widgets/base",
      "model_module_version": "1.2.0",
      "model_name": "LayoutModel",
      "state": {}
     },
     "3eff0e9b5ae84c2ebdf855cf7478afa9": {
      "model_module": "@jupyter-widgets/base",
      "model_module_version": "1.2.0",
      "model_name": "LayoutModel",
      "state": {}
     },
     "3f7d763fa9b7447da2a8f41f5ad41cf2": {
      "model_module": "@jupyter-widgets/controls",
      "model_module_version": "1.5.0",
      "model_name": "ProgressStyleModel",
      "state": {
       "description_width": ""
      }
     },
     "4041478b4c0d4ec6b7f328ec029804a8": {
      "model_module": "@jupyter-widgets/controls",
      "model_module_version": "1.5.0",
      "model_name": "HTMLModel",
      "state": {
       "layout": "IPY_MODEL_5ece4dee86b74706960f15fe3fc96a3d",
       "style": "IPY_MODEL_381d68ebc62543988af130205e4a7881",
       "value": " 3/12 [01:45&lt;04:24, 29.43s/it]"
      }
     },
     "406f56c41f37400485c56665794323cc": {
      "model_module": "@jupyter-widgets/controls",
      "model_module_version": "1.5.0",
      "model_name": "HTMLModel",
      "state": {
       "layout": "IPY_MODEL_04a80b018923494482b857038f433286",
       "style": "IPY_MODEL_aec5c2c7d78d4194b00a7d671496d404",
       "value": "  0%"
      }
     },
     "41466f7bd12a47278e013547419a82b4": {
      "model_module": "@jupyter-widgets/base",
      "model_module_version": "1.2.0",
      "model_name": "LayoutModel",
      "state": {}
     },
     "434b01507bbd44bf9406c65aee07d890": {
      "model_module": "@jupyter-widgets/controls",
      "model_module_version": "1.5.0",
      "model_name": "ProgressStyleModel",
      "state": {
       "description_width": ""
      }
     },
     "43dbcf40ed1e466388b55588a5aced46": {
      "model_module": "@jupyter-widgets/base",
      "model_module_version": "1.2.0",
      "model_name": "LayoutModel",
      "state": {}
     },
     "441bb2eb9cef4813a1601d1a0d62cc99": {
      "model_module": "@jupyter-widgets/base",
      "model_module_version": "1.2.0",
      "model_name": "LayoutModel",
      "state": {}
     },
     "446e30d1b7704568bf44ee0c7c9fb828": {
      "model_module": "@jupyter-widgets/base",
      "model_module_version": "1.2.0",
      "model_name": "LayoutModel",
      "state": {}
     },
     "449ea407f4f749dd8ad0af3474b46f73": {
      "model_module": "@jupyter-widgets/controls",
      "model_module_version": "1.5.0",
      "model_name": "HTMLModel",
      "state": {
       "layout": "IPY_MODEL_22a5872ebc6646598493c06a6c56e246",
       "style": "IPY_MODEL_ca5a1b81051a44d48bf4f597b66e2af5",
       "value": "100%"
      }
     },
     "44ddfc4d56674aab925837f1e32e892f": {
      "model_module": "@jupyter-widgets/base",
      "model_module_version": "1.2.0",
      "model_name": "LayoutModel",
      "state": {}
     },
     "44e5cdacfa15495bafed12ea28ce7c4f": {
      "model_module": "@jupyter-widgets/base",
      "model_module_version": "1.2.0",
      "model_name": "LayoutModel",
      "state": {}
     },
     "4508a3b81c034bd2b37d28184fed5d5f": {
      "model_module": "@jupyter-widgets/controls",
      "model_module_version": "1.5.0",
      "model_name": "FloatProgressModel",
      "state": {
       "bar_style": "danger",
       "layout": "IPY_MODEL_943582595e684cf9bc61ac653d7b4ded",
       "max": 12,
       "style": "IPY_MODEL_4b035f68a897447d836b431b26a8f8ba",
       "value": 4
      }
     },
     "45668b4bc6cf44bba641f8020daf8bb5": {
      "model_module": "@jupyter-widgets/controls",
      "model_module_version": "1.5.0",
      "model_name": "HTMLModel",
      "state": {
       "layout": "IPY_MODEL_b35b4a9ee5cb4d34a671c263459f533a",
       "style": "IPY_MODEL_ef73216abb0d4111b365c4e43612ecd7",
       "value": "100%"
      }
     },
     "459ffb2890794d8785c69f5597a3e228": {
      "model_module": "@jupyter-widgets/controls",
      "model_module_version": "1.5.0",
      "model_name": "HBoxModel",
      "state": {
       "children": [
        "IPY_MODEL_10172c8c12d24c739a3e8472b37ac30e",
        "IPY_MODEL_e367e528e0b1411989c73ce0b009c762",
        "IPY_MODEL_b654d0fce7de4529b9e9a352851d8cd8"
       ],
       "layout": "IPY_MODEL_e0c4eb4995d44b539d7215f429a8b8d3"
      }
     },
     "45bc760c7da9467fbc1d85415f919cbf": {
      "model_module": "@jupyter-widgets/controls",
      "model_module_version": "1.5.0",
      "model_name": "ProgressStyleModel",
      "state": {
       "description_width": ""
      }
     },
     "45c34772842742fd83410c223169cbad": {
      "model_module": "@jupyter-widgets/controls",
      "model_module_version": "1.5.0",
      "model_name": "DescriptionStyleModel",
      "state": {
       "description_width": ""
      }
     },
     "46c52a8bd41447bbae37875d39659f99": {
      "model_module": "@jupyter-widgets/controls",
      "model_module_version": "1.5.0",
      "model_name": "HBoxModel",
      "state": {
       "children": [
        "IPY_MODEL_e4b30258c0b3451fb6ea384f3d119ac8",
        "IPY_MODEL_881caf593d2e4159b4f269346db84aaf",
        "IPY_MODEL_74634acc368443688e247a8f3db37359"
       ],
       "layout": "IPY_MODEL_dd002604d38244f79c32532b4f17cce9"
      }
     },
     "46f9ae5bfdb84a65a5c17b5325b63b32": {
      "model_module": "@jupyter-widgets/controls",
      "model_module_version": "1.5.0",
      "model_name": "HBoxModel",
      "state": {
       "children": [
        "IPY_MODEL_b44579d17c794eab8236dd3ba043c164",
        "IPY_MODEL_7284a385928c49cd8add4b797a4766d2",
        "IPY_MODEL_4041478b4c0d4ec6b7f328ec029804a8"
       ],
       "layout": "IPY_MODEL_e3c17aaccd374015a0286125b95b37a0"
      }
     },
     "4700d2dfd4de4cb190e7916c99d3e6b5": {
      "model_module": "@jupyter-widgets/controls",
      "model_module_version": "1.5.0",
      "model_name": "FloatProgressModel",
      "state": {
       "bar_style": "danger",
       "layout": "IPY_MODEL_4e510a7a3c9f4c6f8e44b9a7d8bfa08d",
       "max": 12,
       "style": "IPY_MODEL_ce63081a810e470daa43ec62bcc9f4df",
       "value": 6
      }
     },
     "4730e25bb0b54cca9d40b4d14aa383f7": {
      "model_module": "@jupyter-widgets/base",
      "model_module_version": "1.2.0",
      "model_name": "LayoutModel",
      "state": {}
     },
     "485d70ba5286468bb2083165095cba1b": {
      "model_module": "@jupyter-widgets/base",
      "model_module_version": "1.2.0",
      "model_name": "LayoutModel",
      "state": {}
     },
     "487815f2564a4268962104dca5cb1bd9": {
      "model_module": "@jupyter-widgets/base",
      "model_module_version": "1.2.0",
      "model_name": "LayoutModel",
      "state": {}
     },
     "48bd115568724448b168f17eea0644c3": {
      "model_module": "@jupyter-widgets/controls",
      "model_module_version": "1.5.0",
      "model_name": "DescriptionStyleModel",
      "state": {
       "description_width": ""
      }
     },
     "48d2f11b248b4d25b01aba7335be8b4c": {
      "model_module": "@jupyter-widgets/controls",
      "model_module_version": "1.5.0",
      "model_name": "DescriptionStyleModel",
      "state": {
       "description_width": ""
      }
     },
     "492c238215e5482880e60af2f01180ec": {
      "model_module": "@jupyter-widgets/controls",
      "model_module_version": "1.5.0",
      "model_name": "DescriptionStyleModel",
      "state": {
       "description_width": ""
      }
     },
     "492dd4117d084989b86037d032e321dd": {
      "model_module": "@jupyter-widgets/controls",
      "model_module_version": "1.5.0",
      "model_name": "DescriptionStyleModel",
      "state": {
       "description_width": ""
      }
     },
     "497ce644d3f649599be3e2f8c525f4e5": {
      "model_module": "@jupyter-widgets/controls",
      "model_module_version": "1.5.0",
      "model_name": "DescriptionStyleModel",
      "state": {
       "description_width": ""
      }
     },
     "498750523f2e439bb95bbfb20a89d546": {
      "model_module": "@jupyter-widgets/controls",
      "model_module_version": "1.5.0",
      "model_name": "FloatProgressModel",
      "state": {
       "bar_style": "danger",
       "layout": "IPY_MODEL_a5e74d4c28a1439db1fa12aa6ff1ee42",
       "max": 2,
       "style": "IPY_MODEL_e24f5b0fe3e54038982d33b4583ac358"
      }
     },
     "4b035f68a897447d836b431b26a8f8ba": {
      "model_module": "@jupyter-widgets/controls",
      "model_module_version": "1.5.0",
      "model_name": "ProgressStyleModel",
      "state": {
       "description_width": ""
      }
     },
     "4b34529eea474bd8a37983f4b2197ec5": {
      "model_module": "@jupyter-widgets/controls",
      "model_module_version": "1.5.0",
      "model_name": "DescriptionStyleModel",
      "state": {
       "description_width": ""
      }
     },
     "4b9ff0e298d94630b9f24fb1cdb2143a": {
      "model_module": "@jupyter-widgets/base",
      "model_module_version": "1.2.0",
      "model_name": "LayoutModel",
      "state": {}
     },
     "4bf7f2ed356847e6b54c23fc0fb0377c": {
      "model_module": "@jupyter-widgets/base",
      "model_module_version": "1.2.0",
      "model_name": "LayoutModel",
      "state": {}
     },
     "4c0414f32ad34e128a0caa57b5a1e045": {
      "model_module": "@jupyter-widgets/controls",
      "model_module_version": "1.5.0",
      "model_name": "HTMLModel",
      "state": {
       "layout": "IPY_MODEL_9f3f85b0f6c547da9b7f8a47895a44c6",
       "style": "IPY_MODEL_6e1ad5defef443dd93a198a503156cca",
       "value": "100%"
      }
     },
     "4c45bc149bde4e5289e76d5e51c8ef5e": {
      "model_module": "@jupyter-widgets/base",
      "model_module_version": "1.2.0",
      "model_name": "LayoutModel",
      "state": {}
     },
     "4c599cd21cb24cdf89f0e19dbe67a094": {
      "model_module": "@jupyter-widgets/controls",
      "model_module_version": "1.5.0",
      "model_name": "HTMLModel",
      "state": {
       "layout": "IPY_MODEL_6664837e1aea474bb66efb54296f867b",
       "style": "IPY_MODEL_be576a6792374807b91524ae237b9ad3",
       "value": "100%"
      }
     },
     "4c9a9dbb092e48d9a762bbf39db8fe3a": {
      "model_module": "@jupyter-widgets/base",
      "model_module_version": "1.2.0",
      "model_name": "LayoutModel",
      "state": {}
     },
     "4d0566fc508f42b5a81eecf95e94f250": {
      "model_module": "@jupyter-widgets/base",
      "model_module_version": "1.2.0",
      "model_name": "LayoutModel",
      "state": {}
     },
     "4d99f02fd9e144e2a35521034759c8cd": {
      "model_module": "@jupyter-widgets/base",
      "model_module_version": "1.2.0",
      "model_name": "LayoutModel",
      "state": {}
     },
     "4dc7e06e9e014245bcba2171b6273dae": {
      "model_module": "@jupyter-widgets/controls",
      "model_module_version": "1.5.0",
      "model_name": "FloatProgressModel",
      "state": {
       "bar_style": "success",
       "layout": "IPY_MODEL_0f99654c6c3345158a4179062da68821",
       "max": 2,
       "style": "IPY_MODEL_9e067057c85a45228f82089641227c18",
       "value": 2
      }
     },
     "4df7523566f54fcbac1765e7e6e8e789": {
      "model_module": "@jupyter-widgets/controls",
      "model_module_version": "1.5.0",
      "model_name": "ProgressStyleModel",
      "state": {
       "description_width": ""
      }
     },
     "4e27615bfa8549aba9e4b54d6718bcb8": {
      "model_module": "@jupyter-widgets/controls",
      "model_module_version": "1.5.0",
      "model_name": "HBoxModel",
      "state": {
       "children": [
        "IPY_MODEL_114fab8a04724f24ae57dd556348807f",
        "IPY_MODEL_28a41ee7ae0f4a03b53e1877e5c4e017",
        "IPY_MODEL_34108deecbb141d5bd79fb7a4d20d07b"
       ],
       "layout": "IPY_MODEL_53f4d8b579eb4613b621c05956706fbc"
      }
     },
     "4e510a7a3c9f4c6f8e44b9a7d8bfa08d": {
      "model_module": "@jupyter-widgets/base",
      "model_module_version": "1.2.0",
      "model_name": "LayoutModel",
      "state": {}
     },
     "4ed4d703a5e24933bb0d3b29eb793b57": {
      "model_module": "@jupyter-widgets/controls",
      "model_module_version": "1.5.0",
      "model_name": "DescriptionStyleModel",
      "state": {
       "description_width": ""
      }
     },
     "4eda306587204dcfbfc6786af046a119": {
      "model_module": "@jupyter-widgets/controls",
      "model_module_version": "1.5.0",
      "model_name": "HTMLModel",
      "state": {
       "layout": "IPY_MODEL_441bb2eb9cef4813a1601d1a0d62cc99",
       "style": "IPY_MODEL_c32675da188944f6a6caae06668c18df",
       "value": "  8%"
      }
     },
     "4f1cfbc183e24d328767264eec7aff7f": {
      "model_module": "@jupyter-widgets/controls",
      "model_module_version": "1.5.0",
      "model_name": "ProgressStyleModel",
      "state": {
       "description_width": ""
      }
     },
     "4f3a031fb3fd4639ad6c7806b3e493ae": {
      "model_module": "@jupyter-widgets/base",
      "model_module_version": "1.2.0",
      "model_name": "LayoutModel",
      "state": {}
     },
     "4f8fee3c995e4df7959ad9c60a346d2a": {
      "model_module": "@jupyter-widgets/controls",
      "model_module_version": "1.5.0",
      "model_name": "DescriptionStyleModel",
      "state": {
       "description_width": ""
      }
     },
     "4fc849c196a643be8599e76582a67f90": {
      "model_module": "@jupyter-widgets/controls",
      "model_module_version": "1.5.0",
      "model_name": "HTMLModel",
      "state": {
       "layout": "IPY_MODEL_08dac895197c4d44be9bfbb497caef37",
       "style": "IPY_MODEL_1af87f0b85c44a53944a454e571fb73e",
       "value": " 1/12 [00:04&lt;00:40,  3.71s/it]"
      }
     },
     "4fd7fa1c2a274372a61a26b19d4ad497": {
      "model_module": "@jupyter-widgets/controls",
      "model_module_version": "1.5.0",
      "model_name": "DescriptionStyleModel",
      "state": {
       "description_width": ""
      }
     },
     "501d53b2133745588a4b85fd13c86ebe": {
      "model_module": "@jupyter-widgets/base",
      "model_module_version": "1.2.0",
      "model_name": "LayoutModel",
      "state": {}
     },
     "50338f249f1842e2ab177a5725589710": {
      "model_module": "@jupyter-widgets/controls",
      "model_module_version": "1.5.0",
      "model_name": "HTMLModel",
      "state": {
       "layout": "IPY_MODEL_fc49768bbc354e0caaa3dfc8de2e32c3",
       "style": "IPY_MODEL_84bc7782ff4e4c1199bcbd1e75a90f77",
       "value": " 58%"
      }
     },
     "505366d52d044195906deb2d6b6824c1": {
      "model_module": "@jupyter-widgets/controls",
      "model_module_version": "1.5.0",
      "model_name": "HTMLModel",
      "state": {
       "layout": "IPY_MODEL_1bc8319679a047a38fd23c1f32e7a0dc",
       "style": "IPY_MODEL_fd8d0e3023a04f0f9a6d551388d5c77e",
       "value": "  0%"
      }
     },
     "50785fa6bd0442aa84d0540873abc398": {
      "model_module": "@jupyter-widgets/controls",
      "model_module_version": "1.5.0",
      "model_name": "DescriptionStyleModel",
      "state": {
       "description_width": ""
      }
     },
     "50b9dccb6e4a4d0a8c6ea56121ad9dd8": {
      "model_module": "@jupyter-widgets/base",
      "model_module_version": "1.2.0",
      "model_name": "LayoutModel",
      "state": {}
     },
     "50ced7ba8a58497c9efab4cc02460c0b": {
      "model_module": "@jupyter-widgets/controls",
      "model_module_version": "1.5.0",
      "model_name": "ProgressStyleModel",
      "state": {
       "description_width": ""
      }
     },
     "5116a6a723594d68bd6ca06b66322496": {
      "model_module": "@jupyter-widgets/controls",
      "model_module_version": "1.5.0",
      "model_name": "DescriptionStyleModel",
      "state": {
       "description_width": ""
      }
     },
     "518a7f3878124964a26ffd8390b6ec16": {
      "model_module": "@jupyter-widgets/controls",
      "model_module_version": "1.5.0",
      "model_name": "HTMLModel",
      "state": {
       "layout": "IPY_MODEL_8b7437b5fe3746b19407ab6d83b5575e",
       "style": "IPY_MODEL_2bdc43bec6f34bb992a7069ffff7cdd6",
       "value": " 1/12 [00:34&lt;03:20, 18.19s/it]"
      }
     },
     "527cf1be6c744e34b01d8139a0fdeaef": {
      "model_module": "@jupyter-widgets/controls",
      "model_module_version": "1.5.0",
      "model_name": "ProgressStyleModel",
      "state": {
       "description_width": ""
      }
     },
     "528180b0ae1e456fbacef1b5b39cfc39": {
      "model_module": "@jupyter-widgets/base",
      "model_module_version": "1.2.0",
      "model_name": "LayoutModel",
      "state": {}
     },
     "53bca03f636f40a08af9c835d2464307": {
      "model_module": "@jupyter-widgets/base",
      "model_module_version": "1.2.0",
      "model_name": "LayoutModel",
      "state": {}
     },
     "53f332d6341146b9bbaadbb94fc4602f": {
      "model_module": "@jupyter-widgets/controls",
      "model_module_version": "1.5.0",
      "model_name": "HBoxModel",
      "state": {
       "children": [
        "IPY_MODEL_97833a1c54a34f7cac95773ddbafb6a6",
        "IPY_MODEL_6b7eb325124340e68c7b20bc7fe1e363",
        "IPY_MODEL_ef00a27ddd91468c924136a1dd4252ca"
       ],
       "layout": "IPY_MODEL_c41218d28775459dafb3d9319d1b6875"
      }
     },
     "53f4d8b579eb4613b621c05956706fbc": {
      "model_module": "@jupyter-widgets/base",
      "model_module_version": "1.2.0",
      "model_name": "LayoutModel",
      "state": {}
     },
     "542648bdd03b493bb70835b40823b74f": {
      "model_module": "@jupyter-widgets/controls",
      "model_module_version": "1.5.0",
      "model_name": "HTMLModel",
      "state": {
       "layout": "IPY_MODEL_6ea6ea9ec4904dc2860ecfcf7ddc833b",
       "style": "IPY_MODEL_baa9d4f6f70440058ace6dfd6331a149",
       "value": " 2/2 [01:14&lt;00:00, 37.22s/it]"
      }
     },
     "54d3676e91e3446ab1753c19d9b5f3e7": {
      "model_module": "@jupyter-widgets/controls",
      "model_module_version": "1.5.0",
      "model_name": "HTMLModel",
      "state": {
       "layout": "IPY_MODEL_128eca6647be445cb84180922f21b2e6",
       "style": "IPY_MODEL_55871b870c7747edb2ee010b7b4a28f9",
       "value": " 0/12 [00:11&lt;?, ?it/s]"
      }
     },
     "54e0bd1c32b04a5ba05cef7024a7ae8a": {
      "model_module": "@jupyter-widgets/controls",
      "model_module_version": "1.5.0",
      "model_name": "HBoxModel",
      "state": {
       "children": [
        "IPY_MODEL_38dfbc70d2e049e787fe73bd67e0271c",
        "IPY_MODEL_81611ab10c814c0d91b22782b5694908",
        "IPY_MODEL_a46130752b6e4c5c8596411d351854a4"
       ],
       "layout": "IPY_MODEL_4730e25bb0b54cca9d40b4d14aa383f7"
      }
     },
     "54e758b2fd974a9a8f1510187a4a934f": {
      "model_module": "@jupyter-widgets/controls",
      "model_module_version": "1.5.0",
      "model_name": "HBoxModel",
      "state": {
       "children": [
        "IPY_MODEL_4c0414f32ad34e128a0caa57b5a1e045",
        "IPY_MODEL_33944410d2c24ef5ba49267a321ce13f",
        "IPY_MODEL_f0f9861828304487bd30ff873a4d2a87"
       ],
       "layout": "IPY_MODEL_7f957e8ecb684e51a0a708a85e011685"
      }
     },
     "55871b870c7747edb2ee010b7b4a28f9": {
      "model_module": "@jupyter-widgets/controls",
      "model_module_version": "1.5.0",
      "model_name": "DescriptionStyleModel",
      "state": {
       "description_width": ""
      }
     },
     "55d29f21aba94ebd82c587bcfe681a7f": {
      "model_module": "@jupyter-widgets/base",
      "model_module_version": "1.2.0",
      "model_name": "LayoutModel",
      "state": {}
     },
     "55d860264a7a4c0b985da32e6bbed81b": {
      "model_module": "@jupyter-widgets/controls",
      "model_module_version": "1.5.0",
      "model_name": "HTMLModel",
      "state": {
       "layout": "IPY_MODEL_2f461aed3f0c4a83b4b78496c7310e48",
       "style": "IPY_MODEL_11edba10094946f5903708cb6872a113",
       "value": "100%"
      }
     },
     "5679274a33104ffa83b099e0d50fc14d": {
      "model_module": "@jupyter-widgets/controls",
      "model_module_version": "1.5.0",
      "model_name": "FloatProgressModel",
      "state": {
       "bar_style": "danger",
       "layout": "IPY_MODEL_7b9aeb43cf034a92969e3dd66da23c3d",
       "max": 12,
       "style": "IPY_MODEL_527cf1be6c744e34b01d8139a0fdeaef",
       "value": 1
      }
     },
     "56d81d02506b4f3b9a09e3e65a12f736": {
      "model_module": "@jupyter-widgets/base",
      "model_module_version": "1.2.0",
      "model_name": "LayoutModel",
      "state": {}
     },
     "56f99cd4be2b43b99e69081306c13409": {
      "model_module": "@jupyter-widgets/controls",
      "model_module_version": "1.5.0",
      "model_name": "HBoxModel",
      "state": {
       "children": [
        "IPY_MODEL_55d860264a7a4c0b985da32e6bbed81b",
        "IPY_MODEL_0ca921c1982a446db99a6f47926c5eaa",
        "IPY_MODEL_ab98a21e388a40ff8561ddad9f65216d"
       ],
       "layout": "IPY_MODEL_6aebb0fe2fbf44f5a9edac3d441da364"
      }
     },
     "575b5b4d13644f77a4af214a25c3365e": {
      "model_module": "@jupyter-widgets/controls",
      "model_module_version": "1.5.0",
      "model_name": "HBoxModel",
      "state": {
       "children": [
        "IPY_MODEL_257aa2f2606748b386be25216d595acd",
        "IPY_MODEL_2747fc5396ed462d8f55e26931955ffd",
        "IPY_MODEL_6ef9f2e8b34b4375b58d17901425ce94"
       ],
       "layout": "IPY_MODEL_4f3a031fb3fd4639ad6c7806b3e493ae"
      }
     },
     "576dec09d04e460fbf00058141b475fa": {
      "model_module": "@jupyter-widgets/controls",
      "model_module_version": "1.5.0",
      "model_name": "HBoxModel",
      "state": {
       "children": [
        "IPY_MODEL_1cb4cf7693f64835a8d77ff60fa501fb",
        "IPY_MODEL_5679274a33104ffa83b099e0d50fc14d",
        "IPY_MODEL_518a7f3878124964a26ffd8390b6ec16"
       ],
       "layout": "IPY_MODEL_bca784d54912462b89f7dbf748f0d9e2"
      }
     },
     "5934593fe108458e9c38bff0f8583b68": {
      "model_module": "@jupyter-widgets/controls",
      "model_module_version": "1.5.0",
      "model_name": "ProgressStyleModel",
      "state": {
       "description_width": ""
      }
     },
     "59619070437342eca43e1f4cc665f376": {
      "model_module": "@jupyter-widgets/controls",
      "model_module_version": "1.5.0",
      "model_name": "HBoxModel",
      "state": {
       "children": [
        "IPY_MODEL_35c99bfbb455475d82bf029daece758d",
        "IPY_MODEL_a2fb72e335da4278899f9ad424d2e779",
        "IPY_MODEL_d7e74f7229a740ab932d7f58cfe91d2d"
       ],
       "layout": "IPY_MODEL_bbb67d38dbb44dff876cf22ae2f2040d"
      }
     },
     "5977073b8c41427cab1957fa23bddeb1": {
      "model_module": "@jupyter-widgets/controls",
      "model_module_version": "1.5.0",
      "model_name": "DescriptionStyleModel",
      "state": {
       "description_width": ""
      }
     },
     "59a40b8bee5f4744ac5e335ac34ecb36": {
      "model_module": "@jupyter-widgets/controls",
      "model_module_version": "1.5.0",
      "model_name": "DescriptionStyleModel",
      "state": {
       "description_width": ""
      }
     },
     "59d33ba06e9e44a9b4ce47d557ee9400": {
      "model_module": "@jupyter-widgets/base",
      "model_module_version": "1.2.0",
      "model_name": "LayoutModel",
      "state": {}
     },
     "5a554494ae0645c19c7fdc5eb9d19925": {
      "model_module": "@jupyter-widgets/base",
      "model_module_version": "1.2.0",
      "model_name": "LayoutModel",
      "state": {}
     },
     "5bbdc81b12c746ab809d932b14f6de98": {
      "model_module": "@jupyter-widgets/base",
      "model_module_version": "1.2.0",
      "model_name": "LayoutModel",
      "state": {}
     },
     "5c7ed10a35b44c6083404c5a855a710c": {
      "model_module": "@jupyter-widgets/controls",
      "model_module_version": "1.5.0",
      "model_name": "HTMLModel",
      "state": {
       "layout": "IPY_MODEL_99bc4786fdb7441ab17bc965a9f578fe",
       "style": "IPY_MODEL_9278f6f955d540638acb52cce86963fe",
       "value": " 1/12 [00:04&lt;00:38,  3.47s/it]"
      }
     },
     "5cf3904014d24e0bb9b4768990f5d46d": {
      "model_module": "@jupyter-widgets/controls",
      "model_module_version": "1.5.0",
      "model_name": "FloatProgressModel",
      "state": {
       "bar_style": "danger",
       "layout": "IPY_MODEL_8802896734ba48a0a7c716c65f7703ce",
       "max": 12,
       "style": "IPY_MODEL_c93cec158b88457b847534fe44c71b51"
      }
     },
     "5d1c0ca1b4884f4f999d203ce570f66b": {
      "model_module": "@jupyter-widgets/controls",
      "model_module_version": "1.5.0",
      "model_name": "HTMLModel",
      "state": {
       "layout": "IPY_MODEL_e1ea810d1ba248b6a473aebbefbd4e76",
       "style": "IPY_MODEL_3e34f49b837040539c4afa456ea9e22d",
       "value": "100%"
      }
     },
     "5d35999b4e2e4d0183cd4503c78e7fc2": {
      "model_module": "@jupyter-widgets/controls",
      "model_module_version": "1.5.0",
      "model_name": "HTMLModel",
      "state": {
       "layout": "IPY_MODEL_4bf7f2ed356847e6b54c23fc0fb0377c",
       "style": "IPY_MODEL_97eb21eae0f84e518f8f997ecbbce9ef",
       "value": " 12/12 [05:43&lt;00:00, 28.91s/it]"
      }
     },
     "5e1e13b68894412495e26d61c64dc8b8": {
      "model_module": "@jupyter-widgets/base",
      "model_module_version": "1.2.0",
      "model_name": "LayoutModel",
      "state": {}
     },
     "5e5e8d34dcfe424e83ce9531b4576a27": {
      "model_module": "@jupyter-widgets/base",
      "model_module_version": "1.2.0",
      "model_name": "LayoutModel",
      "state": {}
     },
     "5e64475d101242d2bd0c68d843733b83": {
      "model_module": "@jupyter-widgets/controls",
      "model_module_version": "1.5.0",
      "model_name": "DescriptionStyleModel",
      "state": {
       "description_width": ""
      }
     },
     "5e7628c2dd5b406aab0acddfc8761366": {
      "model_module": "@jupyter-widgets/base",
      "model_module_version": "1.2.0",
      "model_name": "LayoutModel",
      "state": {}
     },
     "5e94c90924bc43878d7b3fe7915298c4": {
      "model_module": "@jupyter-widgets/controls",
      "model_module_version": "1.5.0",
      "model_name": "DescriptionStyleModel",
      "state": {
       "description_width": ""
      }
     },
     "5ea5f3d477394d5abcd1ce60a1e8af21": {
      "model_module": "@jupyter-widgets/controls",
      "model_module_version": "1.5.0",
      "model_name": "DescriptionStyleModel",
      "state": {
       "description_width": ""
      }
     },
     "5ece4dee86b74706960f15fe3fc96a3d": {
      "model_module": "@jupyter-widgets/base",
      "model_module_version": "1.2.0",
      "model_name": "LayoutModel",
      "state": {}
     },
     "5f5514b26a4f4d7d84a6bcf3c0fa02e8": {
      "model_module": "@jupyter-widgets/controls",
      "model_module_version": "1.5.0",
      "model_name": "HTMLModel",
      "state": {
       "layout": "IPY_MODEL_1696db59a5774024b0e060d1068f6122",
       "style": "IPY_MODEL_497ce644d3f649599be3e2f8c525f4e5",
       "value": " 0/12 [00:13&lt;?, ?it/s]"
      }
     },
     "6008f2bdf94f4aca8ee0a76ddbbee18c": {
      "model_module": "@jupyter-widgets/base",
      "model_module_version": "1.2.0",
      "model_name": "LayoutModel",
      "state": {}
     },
     "6013194920c6428e9920e5ac432f37d1": {
      "model_module": "@jupyter-widgets/base",
      "model_module_version": "1.2.0",
      "model_name": "LayoutModel",
      "state": {}
     },
     "60cdaad6eaca4b719a544d45a126ef7a": {
      "model_module": "@jupyter-widgets/base",
      "model_module_version": "1.2.0",
      "model_name": "LayoutModel",
      "state": {}
     },
     "61acc6b7db5b463eb8eda3356f2ce371": {
      "model_module": "@jupyter-widgets/base",
      "model_module_version": "1.2.0",
      "model_name": "LayoutModel",
      "state": {}
     },
     "626e8acb160e4137b5ec016ee7933a06": {
      "model_module": "@jupyter-widgets/controls",
      "model_module_version": "1.5.0",
      "model_name": "DescriptionStyleModel",
      "state": {
       "description_width": ""
      }
     },
     "627c40ecbfac43c7be3c7ccc8dc6e18a": {
      "model_module": "@jupyter-widgets/controls",
      "model_module_version": "1.5.0",
      "model_name": "HTMLModel",
      "state": {
       "layout": "IPY_MODEL_7aba648daf1b420296d6e7370ab6a938",
       "style": "IPY_MODEL_1256c3d0b90b48d68986851c1962a22f",
       "value": "100%"
      }
     },
     "6337e45f8b0a4a3facd9d5d51f61fe1b": {
      "model_module": "@jupyter-widgets/base",
      "model_module_version": "1.2.0",
      "model_name": "LayoutModel",
      "state": {}
     },
     "6358cde9e48047d9afb46ac76b52b847": {
      "model_module": "@jupyter-widgets/controls",
      "model_module_version": "1.5.0",
      "model_name": "DescriptionStyleModel",
      "state": {
       "description_width": ""
      }
     },
     "63711ecceea7418792ebcdfc8c120c6a": {
      "model_module": "@jupyter-widgets/controls",
      "model_module_version": "1.5.0",
      "model_name": "DescriptionStyleModel",
      "state": {
       "description_width": ""
      }
     },
     "637c1cad64934eb1b817559e832e6abd": {
      "model_module": "@jupyter-widgets/controls",
      "model_module_version": "1.5.0",
      "model_name": "HTMLModel",
      "state": {
       "layout": "IPY_MODEL_795f4fde5b3d4934b659c0c309e89c01",
       "style": "IPY_MODEL_b69cc8465a554eb4bcafb05b331fd6e3",
       "value": " 6/12 [02:57&lt;02:54, 29.06s/it]"
      }
     },
     "648784e3a5b440b2b0c738f335fd7ee0": {
      "model_module": "@jupyter-widgets/base",
      "model_module_version": "1.2.0",
      "model_name": "LayoutModel",
      "state": {}
     },
     "64ccf74944034e67a1cbcbb5bab49dfa": {
      "model_module": "@jupyter-widgets/controls",
      "model_module_version": "1.5.0",
      "model_name": "DescriptionStyleModel",
      "state": {
       "description_width": ""
      }
     },
     "65126b13282b4a5d822a0800c1957631": {
      "model_module": "@jupyter-widgets/base",
      "model_module_version": "1.2.0",
      "model_name": "LayoutModel",
      "state": {}
     },
     "654cca85038c4a4394d81bc1f0ffc5c0": {
      "model_module": "@jupyter-widgets/base",
      "model_module_version": "1.2.0",
      "model_name": "LayoutModel",
      "state": {}
     },
     "658702cd6ca348638e3693065a5dafba": {
      "model_module": "@jupyter-widgets/controls",
      "model_module_version": "1.5.0",
      "model_name": "HBoxModel",
      "state": {
       "children": [
        "IPY_MODEL_cdf85ceb0a5b48d29ca3cf142f2037c6",
        "IPY_MODEL_caf3155067ff4fa7845cb9d2caae0814",
        "IPY_MODEL_fcd6b80cbd30401eb5a5158ed4bef0d1"
       ],
       "layout": "IPY_MODEL_13d95dcf1abb40ac9eaea10e51049d8a"
      }
     },
     "65a8d28fc9e94cb8a8142095ee836043": {
      "model_module": "@jupyter-widgets/base",
      "model_module_version": "1.2.0",
      "model_name": "LayoutModel",
      "state": {}
     },
     "66284a7f16314ade9fcd343be17e6a03": {
      "model_module": "@jupyter-widgets/controls",
      "model_module_version": "1.5.0",
      "model_name": "DescriptionStyleModel",
      "state": {
       "description_width": ""
      }
     },
     "6664837e1aea474bb66efb54296f867b": {
      "model_module": "@jupyter-widgets/base",
      "model_module_version": "1.2.0",
      "model_name": "LayoutModel",
      "state": {}
     },
     "66bd7af0c56b4bf38615efd4945d3a21": {
      "model_module": "@jupyter-widgets/controls",
      "model_module_version": "1.5.0",
      "model_name": "HTMLModel",
      "state": {
       "layout": "IPY_MODEL_0ba567c14a7f4f43b11e402e42c4c845",
       "style": "IPY_MODEL_025ddda1bec746b58cf33cc0b96641ef",
       "value": " 50%"
      }
     },
     "66d194b33bb542388cdfdff4c1265116": {
      "model_module": "@jupyter-widgets/controls",
      "model_module_version": "1.5.0",
      "model_name": "HBoxModel",
      "state": {
       "children": [
        "IPY_MODEL_70ba708cf9624b2da29dd11af9a0be2d",
        "IPY_MODEL_da2bb5dfbdf241e9b8be141a01dedc72",
        "IPY_MODEL_542648bdd03b493bb70835b40823b74f"
       ],
       "layout": "IPY_MODEL_27f9a778c5954fa980d7f58c769af7cd"
      }
     },
     "66f69e35179f4917b3135186e6743f9d": {
      "model_module": "@jupyter-widgets/base",
      "model_module_version": "1.2.0",
      "model_name": "LayoutModel",
      "state": {}
     },
     "675e9adda3b44f59a29dc60ab64d8557": {
      "model_module": "@jupyter-widgets/controls",
      "model_module_version": "1.5.0",
      "model_name": "DescriptionStyleModel",
      "state": {
       "description_width": ""
      }
     },
     "6765a57e0795416e80b6c0a44929b8ba": {
      "model_module": "@jupyter-widgets/controls",
      "model_module_version": "1.5.0",
      "model_name": "DescriptionStyleModel",
      "state": {
       "description_width": ""
      }
     },
     "6864390b15714573beae48b2937b66be": {
      "model_module": "@jupyter-widgets/base",
      "model_module_version": "1.2.0",
      "model_name": "LayoutModel",
      "state": {}
     },
     "686863510f614c4097cdc847e437fffc": {
      "model_module": "@jupyter-widgets/controls",
      "model_module_version": "1.5.0",
      "model_name": "FloatProgressModel",
      "state": {
       "bar_style": "success",
       "layout": "IPY_MODEL_44ddfc4d56674aab925837f1e32e892f",
       "max": 2,
       "style": "IPY_MODEL_154927cea8264ced8ff696cb5cb7dec6",
       "value": 2
      }
     },
     "6912d67a67394795ba5158ec5f8510a4": {
      "model_module": "@jupyter-widgets/base",
      "model_module_version": "1.2.0",
      "model_name": "LayoutModel",
      "state": {}
     },
     "6924606529c64970ab93305a4ab68a4c": {
      "model_module": "@jupyter-widgets/base",
      "model_module_version": "1.2.0",
      "model_name": "LayoutModel",
      "state": {}
     },
     "6aebb0fe2fbf44f5a9edac3d441da364": {
      "model_module": "@jupyter-widgets/base",
      "model_module_version": "1.2.0",
      "model_name": "LayoutModel",
      "state": {}
     },
     "6b3874b042b549daa06609b07f8be0df": {
      "model_module": "@jupyter-widgets/controls",
      "model_module_version": "1.5.0",
      "model_name": "ProgressStyleModel",
      "state": {
       "description_width": ""
      }
     },
     "6b7eb325124340e68c7b20bc7fe1e363": {
      "model_module": "@jupyter-widgets/controls",
      "model_module_version": "1.5.0",
      "model_name": "FloatProgressModel",
      "state": {
       "bar_style": "success",
       "layout": "IPY_MODEL_c7efeec92614478584b5e849d07735bf",
       "max": 12,
       "style": "IPY_MODEL_fd669ecdce26459696ed2b52ed7001e5",
       "value": 12
      }
     },
     "6c6969acc1c6462e8d8a3970bb80047e": {
      "model_module": "@jupyter-widgets/controls",
      "model_module_version": "1.5.0",
      "model_name": "DescriptionStyleModel",
      "state": {
       "description_width": ""
      }
     },
     "6c99b8be8f994cf6a39f60dfff9401cf": {
      "model_module": "@jupyter-widgets/base",
      "model_module_version": "1.2.0",
      "model_name": "LayoutModel",
      "state": {}
     },
     "6cccbe47cc3a49ca96df2d6a28d87015": {
      "model_module": "@jupyter-widgets/controls",
      "model_module_version": "1.5.0",
      "model_name": "DescriptionStyleModel",
      "state": {
       "description_width": ""
      }
     },
     "6cf0d333103a46728c74318a22a156c5": {
      "model_module": "@jupyter-widgets/base",
      "model_module_version": "1.2.0",
      "model_name": "LayoutModel",
      "state": {}
     },
     "6d6baddc9454457e92d19abb6f13b8fc": {
      "model_module": "@jupyter-widgets/base",
      "model_module_version": "1.2.0",
      "model_name": "LayoutModel",
      "state": {}
     },
     "6e1ad5defef443dd93a198a503156cca": {
      "model_module": "@jupyter-widgets/controls",
      "model_module_version": "1.5.0",
      "model_name": "DescriptionStyleModel",
      "state": {
       "description_width": ""
      }
     },
     "6ea6ea9ec4904dc2860ecfcf7ddc833b": {
      "model_module": "@jupyter-widgets/base",
      "model_module_version": "1.2.0",
      "model_name": "LayoutModel",
      "state": {}
     },
     "6ed596ccd6a243a596c97784ea52d9db": {
      "model_module": "@jupyter-widgets/controls",
      "model_module_version": "1.5.0",
      "model_name": "HTMLModel",
      "state": {
       "layout": "IPY_MODEL_4d0566fc508f42b5a81eecf95e94f250",
       "style": "IPY_MODEL_ed7886bdb7b14f00a80a462427aef025",
       "value": " 50%"
      }
     },
     "6ef9f2e8b34b4375b58d17901425ce94": {
      "model_module": "@jupyter-widgets/controls",
      "model_module_version": "1.5.0",
      "model_name": "HTMLModel",
      "state": {
       "layout": "IPY_MODEL_de939089249f46e6b66273ddf0315e57",
       "style": "IPY_MODEL_64ccf74944034e67a1cbcbb5bab49dfa",
       "value": " 9/12 [04:45&lt;01:25, 28.40s/it]"
      }
     },
     "6f27ae7061dc456ab15b003f7aa23ca3": {
      "model_module": "@jupyter-widgets/base",
      "model_module_version": "1.2.0",
      "model_name": "LayoutModel",
      "state": {}
     },
     "70013c54d54e430b8ffaf2a41dc71e0b": {
      "model_module": "@jupyter-widgets/base",
      "model_module_version": "1.2.0",
      "model_name": "LayoutModel",
      "state": {}
     },
     "70118a4546494944b89b25bbd7da9c39": {
      "model_module": "@jupyter-widgets/base",
      "model_module_version": "1.2.0",
      "model_name": "LayoutModel",
      "state": {}
     },
     "707a97bd0f3d469eaacc5b17aef96270": {
      "model_module": "@jupyter-widgets/controls",
      "model_module_version": "1.5.0",
      "model_name": "HTMLModel",
      "state": {
       "layout": "IPY_MODEL_da9999560d964333b83aa89d87be9672",
       "style": "IPY_MODEL_2566fb2a73ae43859b0d2c3f8f4b0f10",
       "value": " 12/12 [00:31&lt;00:00,  2.63s/it]"
      }
     },
     "70ba708cf9624b2da29dd11af9a0be2d": {
      "model_module": "@jupyter-widgets/controls",
      "model_module_version": "1.5.0",
      "model_name": "HTMLModel",
      "state": {
       "layout": "IPY_MODEL_07aa35b55a7c43c8bfd269c88f3c392b",
       "style": "IPY_MODEL_c22d0f8df5d84d7db07f84bc2493e88b",
       "value": "100%"
      }
     },
     "71bafcdc8d3e46f58dbf60670163b319": {
      "model_module": "@jupyter-widgets/controls",
      "model_module_version": "1.5.0",
      "model_name": "ProgressStyleModel",
      "state": {
       "description_width": ""
      }
     },
     "724a92c40ea04ced88d1c1c7378b488f": {
      "model_module": "@jupyter-widgets/controls",
      "model_module_version": "1.5.0",
      "model_name": "FloatProgressModel",
      "state": {
       "bar_style": "danger",
       "layout": "IPY_MODEL_cd3e1623e3c94de69d6a7c561c08d991",
       "max": 12,
       "style": "IPY_MODEL_9b14275e808f4c8eb9f3e22860a37206",
       "value": 3
      }
     },
     "725e528266e943db93be1da4acef1876": {
      "model_module": "@jupyter-widgets/base",
      "model_module_version": "1.2.0",
      "model_name": "LayoutModel",
      "state": {}
     },
     "72655dfef38a4da9b769e43cfa36e4c0": {
      "model_module": "@jupyter-widgets/base",
      "model_module_version": "1.2.0",
      "model_name": "LayoutModel",
      "state": {}
     },
     "7284a385928c49cd8add4b797a4766d2": {
      "model_module": "@jupyter-widgets/controls",
      "model_module_version": "1.5.0",
      "model_name": "FloatProgressModel",
      "state": {
       "bar_style": "danger",
       "layout": "IPY_MODEL_185b067151a1486185c345b6cb948512",
       "max": 12,
       "style": "IPY_MODEL_c4666cca9adb4bacb8b5babe284d7d25",
       "value": 3
      }
     },
     "72a3181979fe43729319060ad84da52a": {
      "model_module": "@jupyter-widgets/controls",
      "model_module_version": "1.5.0",
      "model_name": "ProgressStyleModel",
      "state": {
       "description_width": ""
      }
     },
     "72a6eaa2e4204a2ea1fc2f09141fd112": {
      "model_module": "@jupyter-widgets/base",
      "model_module_version": "1.2.0",
      "model_name": "LayoutModel",
      "state": {}
     },
     "72d7c503cf9142a88e25842165aa53e5": {
      "model_module": "@jupyter-widgets/base",
      "model_module_version": "1.2.0",
      "model_name": "LayoutModel",
      "state": {}
     },
     "73ac4304efce45d783582a9e72e564e0": {
      "model_module": "@jupyter-widgets/controls",
      "model_module_version": "1.5.0",
      "model_name": "DescriptionStyleModel",
      "state": {
       "description_width": ""
      }
     },
     "74634acc368443688e247a8f3db37359": {
      "model_module": "@jupyter-widgets/controls",
      "model_module_version": "1.5.0",
      "model_name": "HTMLModel",
      "state": {
       "layout": "IPY_MODEL_981e4d0cebfe4877b469db54ad591c84",
       "style": "IPY_MODEL_50785fa6bd0442aa84d0540873abc398",
       "value": " 0/12 [00:01&lt;?, ?it/s]"
      }
     },
     "75d7ab1b22e843ac9c860a5aac55be58": {
      "model_module": "@jupyter-widgets/controls",
      "model_module_version": "1.5.0",
      "model_name": "HTMLModel",
      "state": {
       "layout": "IPY_MODEL_cba0b8af8e7d4ab4b29608173cf0fbae",
       "style": "IPY_MODEL_59a40b8bee5f4744ac5e335ac34ecb36",
       "value": "100%"
      }
     },
     "76ce391cb8ac4a1486036cc875c0f600": {
      "model_module": "@jupyter-widgets/base",
      "model_module_version": "1.2.0",
      "model_name": "LayoutModel",
      "state": {}
     },
     "76d42319202147f09a968698fae8fe00": {
      "model_module": "@jupyter-widgets/controls",
      "model_module_version": "1.5.0",
      "model_name": "FloatProgressModel",
      "state": {
       "bar_style": "danger",
       "layout": "IPY_MODEL_18c0131fa2c745c2aa93f14a4e34f64a",
       "max": 12,
       "style": "IPY_MODEL_39f37d33a8614a5fb2398c51cc83cb00",
       "value": 1
      }
     },
     "76df1da1f0e14e6898f21c1595e6be2e": {
      "model_module": "@jupyter-widgets/controls",
      "model_module_version": "1.5.0",
      "model_name": "HTMLModel",
      "state": {
       "layout": "IPY_MODEL_cc6a4d8e244d486d84f5c02518733a7c",
       "style": "IPY_MODEL_6358cde9e48047d9afb46ac76b52b847",
       "value": "  0%"
      }
     },
     "77c2f13be16a4a679a35f4a1964c3a19": {
      "model_module": "@jupyter-widgets/base",
      "model_module_version": "1.2.0",
      "model_name": "LayoutModel",
      "state": {}
     },
     "78230d1261814a42998095fa70d2e26b": {
      "model_module": "@jupyter-widgets/controls",
      "model_module_version": "1.5.0",
      "model_name": "HTMLModel",
      "state": {
       "layout": "IPY_MODEL_2ac9ad0eac834f16ba85adcecee33f52",
       "style": "IPY_MODEL_2466412798a94834b34fb0ee6cc25447",
       "value": " 50%"
      }
     },
     "793f0ae1f6f54c099060ad6ab63ddb20": {
      "model_module": "@jupyter-widgets/base",
      "model_module_version": "1.2.0",
      "model_name": "LayoutModel",
      "state": {}
     },
     "795f4fde5b3d4934b659c0c309e89c01": {
      "model_module": "@jupyter-widgets/base",
      "model_module_version": "1.2.0",
      "model_name": "LayoutModel",
      "state": {}
     },
     "798cb52d171c49078a3f5cbab0b16282": {
      "model_module": "@jupyter-widgets/controls",
      "model_module_version": "1.5.0",
      "model_name": "HBoxModel",
      "state": {
       "children": [
        "IPY_MODEL_926bbd87b52147fbae2014c7c94810bc",
        "IPY_MODEL_76d42319202147f09a968698fae8fe00",
        "IPY_MODEL_5c7ed10a35b44c6083404c5a855a710c"
       ],
       "layout": "IPY_MODEL_44e5cdacfa15495bafed12ea28ce7c4f"
      }
     },
     "79ed4cc4281845fd875bd0d289bf82f2": {
      "model_module": "@jupyter-widgets/base",
      "model_module_version": "1.2.0",
      "model_name": "LayoutModel",
      "state": {}
     },
     "7a417219125448fab5310ccde2806ccd": {
      "model_module": "@jupyter-widgets/controls",
      "model_module_version": "1.5.0",
      "model_name": "HTMLModel",
      "state": {
       "layout": "IPY_MODEL_dccb90542219412bb985dad90f5888e9",
       "style": "IPY_MODEL_5977073b8c41427cab1957fa23bddeb1",
       "value": " 50%"
      }
     },
     "7aba648daf1b420296d6e7370ab6a938": {
      "model_module": "@jupyter-widgets/base",
      "model_module_version": "1.2.0",
      "model_name": "LayoutModel",
      "state": {}
     },
     "7b9aeb43cf034a92969e3dd66da23c3d": {
      "model_module": "@jupyter-widgets/base",
      "model_module_version": "1.2.0",
      "model_name": "LayoutModel",
      "state": {}
     },
     "7c184a14454948a6840a99a237f67601": {
      "model_module": "@jupyter-widgets/controls",
      "model_module_version": "1.5.0",
      "model_name": "HTMLModel",
      "state": {
       "layout": "IPY_MODEL_83da946fc8594659b22ee607fe2ffc56",
       "style": "IPY_MODEL_63711ecceea7418792ebcdfc8c120c6a",
       "value": " 12/12 [00:41&lt;00:00,  3.57s/it]"
      }
     },
     "7c35802e59e4422ba5b6ae2027275c99": {
      "model_module": "@jupyter-widgets/controls",
      "model_module_version": "1.5.0",
      "model_name": "HTMLModel",
      "state": {
       "layout": "IPY_MODEL_a8feafdd76b44065bddef90f8140dfcc",
       "style": "IPY_MODEL_a70cb60705324ecea99e7831cb94ac9c",
       "value": " 12/12 [05:47&lt;00:00, 29.19s/it]"
      }
     },
     "7c944019e9864933bc10e2e38f9fc8b5": {
      "model_module": "@jupyter-widgets/controls",
      "model_module_version": "1.5.0",
      "model_name": "ProgressStyleModel",
      "state": {
       "description_width": ""
      }
     },
     "7d2d0f54967c41219e2db45ca8c6a0ac": {
      "model_module": "@jupyter-widgets/controls",
      "model_module_version": "1.5.0",
      "model_name": "HTMLModel",
      "state": {
       "layout": "IPY_MODEL_72a6eaa2e4204a2ea1fc2f09141fd112",
       "style": "IPY_MODEL_6765a57e0795416e80b6c0a44929b8ba",
       "value": " 25%"
      }
     },
     "7d87cab254144a71bdf813220f78b19d": {
      "model_module": "@jupyter-widgets/controls",
      "model_module_version": "1.5.0",
      "model_name": "HTMLModel",
      "state": {
       "layout": "IPY_MODEL_446e30d1b7704568bf44ee0c7c9fb828",
       "style": "IPY_MODEL_4b34529eea474bd8a37983f4b2197ec5",
       "value": " 50%"
      }
     },
     "7d8ee92f042a45d8a1c48b7f938c5e5b": {
      "model_module": "@jupyter-widgets/controls",
      "model_module_version": "1.5.0",
      "model_name": "ProgressStyleModel",
      "state": {
       "description_width": ""
      }
     },
     "7dd5696407cd4e0cb4e087f9ba46ad92": {
      "model_module": "@jupyter-widgets/base",
      "model_module_version": "1.2.0",
      "model_name": "LayoutModel",
      "state": {}
     },
     "7f1470b39fc84f5a849493c04a3f1cf2": {
      "model_module": "@jupyter-widgets/controls",
      "model_module_version": "1.5.0",
      "model_name": "ProgressStyleModel",
      "state": {
       "description_width": ""
      }
     },
     "7f1496b353c34d7b8ef0001441054eaa": {
      "model_module": "@jupyter-widgets/controls",
      "model_module_version": "1.5.0",
      "model_name": "HTMLModel",
      "state": {
       "layout": "IPY_MODEL_80b0eed6b5a04a3680950fdf4fca1ba3",
       "style": "IPY_MODEL_f4e5d1a4219c460faa0c6062d2297602",
       "value": " 2/2 [00:40&lt;00:00, 20.05s/it]"
      }
     },
     "7f7c7619eb0140f9a94ce9dd64bfbab1": {
      "model_module": "@jupyter-widgets/controls",
      "model_module_version": "1.5.0",
      "model_name": "DescriptionStyleModel",
      "state": {
       "description_width": ""
      }
     },
     "7f957e8ecb684e51a0a708a85e011685": {
      "model_module": "@jupyter-widgets/base",
      "model_module_version": "1.2.0",
      "model_name": "LayoutModel",
      "state": {}
     },
     "7f9dc6c427214f04b1f9a43b6d3c1851": {
      "model_module": "@jupyter-widgets/base",
      "model_module_version": "1.2.0",
      "model_name": "LayoutModel",
      "state": {}
     },
     "8029c90177a446eb8fccbdbb16f8e48e": {
      "model_module": "@jupyter-widgets/base",
      "model_module_version": "1.2.0",
      "model_name": "LayoutModel",
      "state": {}
     },
     "80b0eed6b5a04a3680950fdf4fca1ba3": {
      "model_module": "@jupyter-widgets/base",
      "model_module_version": "1.2.0",
      "model_name": "LayoutModel",
      "state": {}
     },
     "81611ab10c814c0d91b22782b5694908": {
      "model_module": "@jupyter-widgets/controls",
      "model_module_version": "1.5.0",
      "model_name": "FloatProgressModel",
      "state": {
       "bar_style": "danger",
       "layout": "IPY_MODEL_50b9dccb6e4a4d0a8c6ea56121ad9dd8",
       "max": 12,
       "style": "IPY_MODEL_f8a936bab0d5417487b1104c974c2954",
       "value": 2
      }
     },
     "8187a273568749b3b027588ab5bb9f97": {
      "model_module": "@jupyter-widgets/controls",
      "model_module_version": "1.5.0",
      "model_name": "HTMLModel",
      "state": {
       "layout": "IPY_MODEL_90826825cbad49c58c97f2d701b4cb83",
       "style": "IPY_MODEL_e413020fadc74d3484d3759bef9c0613",
       "value": " 1/2 [00:51&lt;00:29, 29.79s/it]"
      }
     },
     "82d0deab6d38477b9ad7fbc3d9384487": {
      "model_module": "@jupyter-widgets/base",
      "model_module_version": "1.2.0",
      "model_name": "LayoutModel",
      "state": {}
     },
     "835c91569be24fc5b99feb229019386c": {
      "model_module": "@jupyter-widgets/base",
      "model_module_version": "1.2.0",
      "model_name": "LayoutModel",
      "state": {}
     },
     "838d38f4251f421ab673264c9641cbc5": {
      "model_module": "@jupyter-widgets/base",
      "model_module_version": "1.2.0",
      "model_name": "LayoutModel",
      "state": {}
     },
     "83da946fc8594659b22ee607fe2ffc56": {
      "model_module": "@jupyter-widgets/base",
      "model_module_version": "1.2.0",
      "model_name": "LayoutModel",
      "state": {}
     },
     "8440494252c94232882bb5babb584329": {
      "model_module": "@jupyter-widgets/base",
      "model_module_version": "1.2.0",
      "model_name": "LayoutModel",
      "state": {}
     },
     "84bc7782ff4e4c1199bcbd1e75a90f77": {
      "model_module": "@jupyter-widgets/controls",
      "model_module_version": "1.5.0",
      "model_name": "DescriptionStyleModel",
      "state": {
       "description_width": ""
      }
     },
     "84f8ebc7704948b9a3d5ad36e5a36864": {
      "model_module": "@jupyter-widgets/controls",
      "model_module_version": "1.5.0",
      "model_name": "HTMLModel",
      "state": {
       "layout": "IPY_MODEL_f5cefb4c76fa479a88b999959fc4343a",
       "style": "IPY_MODEL_9ceadef11fcb4ddd8b220eed644db543",
       "value": " 3/12 [00:11&lt;00:30,  3.42s/it]"
      }
     },
     "852e58eb88b548b6930a9aa866ab9e95": {
      "model_module": "@jupyter-widgets/controls",
      "model_module_version": "1.5.0",
      "model_name": "HBoxModel",
      "state": {
       "children": [
        "IPY_MODEL_6ed596ccd6a243a596c97784ea52d9db",
        "IPY_MODEL_1e98270a549c4af38e79b2e784fa51e0",
        "IPY_MODEL_637c1cad64934eb1b817559e832e6abd"
       ],
       "layout": "IPY_MODEL_d8ccda2d1ad34190bce37064f913897c"
      }
     },
     "85a4115268414a88be7fadbb06ee5ac0": {
      "model_module": "@jupyter-widgets/controls",
      "model_module_version": "1.5.0",
      "model_name": "DescriptionStyleModel",
      "state": {
       "description_width": ""
      }
     },
     "861878ba3fd34cc9964c7f27b5818fba": {
      "model_module": "@jupyter-widgets/base",
      "model_module_version": "1.2.0",
      "model_name": "LayoutModel",
      "state": {}
     },
     "86735749ca21456d9fc0278432c8fae3": {
      "model_module": "@jupyter-widgets/base",
      "model_module_version": "1.2.0",
      "model_name": "LayoutModel",
      "state": {}
     },
     "867cb0d6a1394ecdac56f0a9c2323ebd": {
      "model_module": "@jupyter-widgets/controls",
      "model_module_version": "1.5.0",
      "model_name": "HBoxModel",
      "state": {
       "children": [
        "IPY_MODEL_4c599cd21cb24cdf89f0e19dbe67a094",
        "IPY_MODEL_e76a798e16bf4208b9176faddad04fbb",
        "IPY_MODEL_7f1496b353c34d7b8ef0001441054eaa"
       ],
       "layout": "IPY_MODEL_e65d31a0094a4423ad10b8193fe0222c"
      }
     },
     "8686af928b784a80b73316a4be77fb2f": {
      "model_module": "@jupyter-widgets/controls",
      "model_module_version": "1.5.0",
      "model_name": "ProgressStyleModel",
      "state": {
       "description_width": ""
      }
     },
     "86e06e9d5e4d40c89c36a19e3522f950": {
      "model_module": "@jupyter-widgets/base",
      "model_module_version": "1.2.0",
      "model_name": "LayoutModel",
      "state": {}
     },
     "87dfaf62fe4b45118345b552fd8aaa61": {
      "model_module": "@jupyter-widgets/controls",
      "model_module_version": "1.5.0",
      "model_name": "FloatProgressModel",
      "state": {
       "bar_style": "success",
       "layout": "IPY_MODEL_61acc6b7db5b463eb8eda3356f2ce371",
       "max": 12,
       "style": "IPY_MODEL_6b3874b042b549daa06609b07f8be0df",
       "value": 12
      }
     },
     "8802896734ba48a0a7c716c65f7703ce": {
      "model_module": "@jupyter-widgets/base",
      "model_module_version": "1.2.0",
      "model_name": "LayoutModel",
      "state": {}
     },
     "881caf593d2e4159b4f269346db84aaf": {
      "model_module": "@jupyter-widgets/controls",
      "model_module_version": "1.5.0",
      "model_name": "FloatProgressModel",
      "state": {
       "bar_style": "danger",
       "layout": "IPY_MODEL_72d7c503cf9142a88e25842165aa53e5",
       "max": 12,
       "style": "IPY_MODEL_1946b1d7522545f389f232ccc3f27803"
      }
     },
     "88ac50ecd8e445c38fd50e00114de413": {
      "model_module": "@jupyter-widgets/controls",
      "model_module_version": "1.5.0",
      "model_name": "HTMLModel",
      "state": {
       "layout": "IPY_MODEL_1bb723c4b4564138bc43dad24e4ffe33",
       "style": "IPY_MODEL_675e9adda3b44f59a29dc60ab64d8557",
       "value": " 6/12 [00:23&lt;00:21,  3.58s/it]"
      }
     },
     "88c287a7808649b0bda56595a1539d5b": {
      "model_module": "@jupyter-widgets/base",
      "model_module_version": "1.2.0",
      "model_name": "LayoutModel",
      "state": {}
     },
     "89f8b2b5733a4453adff980ea7f6ac7d": {
      "model_module": "@jupyter-widgets/base",
      "model_module_version": "1.2.0",
      "model_name": "LayoutModel",
      "state": {}
     },
     "8a79752b07c34bae925d957324c6a2a6": {
      "model_module": "@jupyter-widgets/controls",
      "model_module_version": "1.5.0",
      "model_name": "HTMLModel",
      "state": {
       "layout": "IPY_MODEL_28a18acb9c1147ec816a6e6a78e9be48",
       "style": "IPY_MODEL_1134e138a11e4741934ce7bbac11c252",
       "value": "100%"
      }
     },
     "8ad2282d269543dfb895077f8eaee782": {
      "model_module": "@jupyter-widgets/base",
      "model_module_version": "1.2.0",
      "model_name": "LayoutModel",
      "state": {}
     },
     "8b3ff69b86844b1a94cecbf240a3d32a": {
      "model_module": "@jupyter-widgets/controls",
      "model_module_version": "1.5.0",
      "model_name": "DescriptionStyleModel",
      "state": {
       "description_width": ""
      }
     },
     "8b7437b5fe3746b19407ab6d83b5575e": {
      "model_module": "@jupyter-widgets/base",
      "model_module_version": "1.2.0",
      "model_name": "LayoutModel",
      "state": {}
     },
     "8b748980506a4e35b97170f3335c5df4": {
      "model_module": "@jupyter-widgets/base",
      "model_module_version": "1.2.0",
      "model_name": "LayoutModel",
      "state": {}
     },
     "8bd1840236044d1f923263707f170e87": {
      "model_module": "@jupyter-widgets/base",
      "model_module_version": "1.2.0",
      "model_name": "LayoutModel",
      "state": {}
     },
     "8cdfe50010474fd49b4c92d188b3b468": {
      "model_module": "@jupyter-widgets/controls",
      "model_module_version": "1.5.0",
      "model_name": "ProgressStyleModel",
      "state": {
       "description_width": ""
      }
     },
     "8cfd1536d03b4e52bb281f74610ebb8c": {
      "model_module": "@jupyter-widgets/controls",
      "model_module_version": "1.5.0",
      "model_name": "HTMLModel",
      "state": {
       "layout": "IPY_MODEL_835c91569be24fc5b99feb229019386c",
       "style": "IPY_MODEL_db3239ffefb74d649205bdd817197926",
       "value": "100%"
      }
     },
     "8d0adb8970b74d6c9ee81f7d7c0e38aa": {
      "model_module": "@jupyter-widgets/controls",
      "model_module_version": "1.5.0",
      "model_name": "HTMLModel",
      "state": {
       "layout": "IPY_MODEL_a7da591687f14ec896c0e0583113d4bd",
       "style": "IPY_MODEL_66284a7f16314ade9fcd343be17e6a03",
       "value": " 58%"
      }
     },
     "8d5931be72dd4ed8a863f030549fc5b6": {
      "model_module": "@jupyter-widgets/base",
      "model_module_version": "1.2.0",
      "model_name": "LayoutModel",
      "state": {}
     },
     "8dddb5fbb92c4d0091e7b1f9ed9a086b": {
      "model_module": "@jupyter-widgets/controls",
      "model_module_version": "1.5.0",
      "model_name": "DescriptionStyleModel",
      "state": {
       "description_width": ""
      }
     },
     "8e12afd54286458796f626efd17c926b": {
      "model_module": "@jupyter-widgets/controls",
      "model_module_version": "1.5.0",
      "model_name": "HTMLModel",
      "state": {
       "layout": "IPY_MODEL_f29bea73f9af4b4f8dd8a98a90f3a5ff",
       "style": "IPY_MODEL_4f8fee3c995e4df7959ad9c60a346d2a",
       "value": "100%"
      }
     },
     "8e700f506a6a4fcebead89f32dd326eb": {
      "model_module": "@jupyter-widgets/controls",
      "model_module_version": "1.5.0",
      "model_name": "FloatProgressModel",
      "state": {
       "bar_style": "success",
       "layout": "IPY_MODEL_90f20b0341e1409dbafa1f1a4620430d",
       "max": 12,
       "style": "IPY_MODEL_09cea0befaf64b4d97347c00c11f13d1",
       "value": 12
      }
     },
     "8ee0014a54734439887425ec1625e88d": {
      "model_module": "@jupyter-widgets/controls",
      "model_module_version": "1.5.0",
      "model_name": "HTMLModel",
      "state": {
       "layout": "IPY_MODEL_6008f2bdf94f4aca8ee0a76ddbbee18c",
       "style": "IPY_MODEL_0ea5e83b09324c6a989425156354f32c",
       "value": " 12/12 [01:42&lt;00:00,  8.56s/it]"
      }
     },
     "8f5a0f04649741d6ba272be56adc233b": {
      "model_module": "@jupyter-widgets/base",
      "model_module_version": "1.2.0",
      "model_name": "LayoutModel",
      "state": {}
     },
     "9017f203953a4420925f7cc36aa7aafa": {
      "model_module": "@jupyter-widgets/controls",
      "model_module_version": "1.5.0",
      "model_name": "HTMLModel",
      "state": {
       "layout": "IPY_MODEL_6f27ae7061dc456ab15b003f7aa23ca3",
       "style": "IPY_MODEL_2ce8e58d727c41e897309df424bbb812",
       "value": " 7/12 [00:23&lt;00:16,  3.38s/it]"
      }
     },
     "9022bf83211f491398795864e981d933": {
      "model_module": "@jupyter-widgets/controls",
      "model_module_version": "1.5.0",
      "model_name": "DescriptionStyleModel",
      "state": {
       "description_width": ""
      }
     },
     "90826825cbad49c58c97f2d701b4cb83": {
      "model_module": "@jupyter-widgets/base",
      "model_module_version": "1.2.0",
      "model_name": "LayoutModel",
      "state": {}
     },
     "90f20b0341e1409dbafa1f1a4620430d": {
      "model_module": "@jupyter-widgets/base",
      "model_module_version": "1.2.0",
      "model_name": "LayoutModel",
      "state": {}
     },
     "91937c0bb10e413485dffb135477d7dd": {
      "model_module": "@jupyter-widgets/controls",
      "model_module_version": "1.5.0",
      "model_name": "HBoxModel",
      "state": {
       "children": [
        "IPY_MODEL_45668b4bc6cf44bba641f8020daf8bb5",
        "IPY_MODEL_686863510f614c4097cdc847e437fffc",
        "IPY_MODEL_068778baaf2d4c33b15d3641a40097d0"
       ],
       "layout": "IPY_MODEL_c466ca03f17347858bfdfdab315e803b"
      }
     },
     "91be04e2ea304a1394bce0770420a986": {
      "model_module": "@jupyter-widgets/controls",
      "model_module_version": "1.5.0",
      "model_name": "HBoxModel",
      "state": {
       "children": [
        "IPY_MODEL_8a79752b07c34bae925d957324c6a2a6",
        "IPY_MODEL_a82c51b207674a7896425e2beb883afb",
        "IPY_MODEL_27ddc7eb9d7a4701a11e472284e5ca0b"
       ],
       "layout": "IPY_MODEL_92053f2a1b7f4b379070c82fb288bc14"
      }
     },
     "92053f2a1b7f4b379070c82fb288bc14": {
      "model_module": "@jupyter-widgets/base",
      "model_module_version": "1.2.0",
      "model_name": "LayoutModel",
      "state": {}
     },
     "9216a32f7992405f8adeaae527ab4821": {
      "model_module": "@jupyter-widgets/controls",
      "model_module_version": "1.5.0",
      "model_name": "DescriptionStyleModel",
      "state": {
       "description_width": ""
      }
     },
     "9242f2dc079a4ac9a1938691c83f0f78": {
      "model_module": "@jupyter-widgets/controls",
      "model_module_version": "1.5.0",
      "model_name": "DescriptionStyleModel",
      "state": {
       "description_width": ""
      }
     },
     "926bbd87b52147fbae2014c7c94810bc": {
      "model_module": "@jupyter-widgets/controls",
      "model_module_version": "1.5.0",
      "model_name": "HTMLModel",
      "state": {
       "layout": "IPY_MODEL_9fc47d5b28df4f8e81205ce1b7af0bac",
       "style": "IPY_MODEL_f68442c2c280400ebb727ac9e5cb0ebc",
       "value": "  8%"
      }
     },
     "9278f6f955d540638acb52cce86963fe": {
      "model_module": "@jupyter-widgets/controls",
      "model_module_version": "1.5.0",
      "model_name": "DescriptionStyleModel",
      "state": {
       "description_width": ""
      }
     },
     "928d5d852aa641ae9cef3d50927d4f04": {
      "model_module": "@jupyter-widgets/controls",
      "model_module_version": "1.5.0",
      "model_name": "DescriptionStyleModel",
      "state": {
       "description_width": ""
      }
     },
     "93585c62466043689fc3576fbcb9830f": {
      "model_module": "@jupyter-widgets/base",
      "model_module_version": "1.2.0",
      "model_name": "LayoutModel",
      "state": {}
     },
     "93c775e07d704061898accfe7ab3ddd1": {
      "model_module": "@jupyter-widgets/base",
      "model_module_version": "1.2.0",
      "model_name": "LayoutModel",
      "state": {}
     },
     "943582595e684cf9bc61ac653d7b4ded": {
      "model_module": "@jupyter-widgets/base",
      "model_module_version": "1.2.0",
      "model_name": "LayoutModel",
      "state": {}
     },
     "949655abb9324591af1b5f0927b03b55": {
      "model_module": "@jupyter-widgets/base",
      "model_module_version": "1.2.0",
      "model_name": "LayoutModel",
      "state": {}
     },
     "95bc0f4d3ec740ab80e25d6126f0a709": {
      "model_module": "@jupyter-widgets/controls",
      "model_module_version": "1.5.0",
      "model_name": "HBoxModel",
      "state": {
       "children": [
        "IPY_MODEL_e8480fc410c74fe6b2c5a0a52ffaf3a0",
        "IPY_MODEL_c384034056e44b389a5db18617062253",
        "IPY_MODEL_a089bb028bbb4a5d8578a73b31f212b6"
       ],
       "layout": "IPY_MODEL_79ed4cc4281845fd875bd0d289bf82f2"
      }
     },
     "9694a498da7a419ca80f27856961821b": {
      "model_module": "@jupyter-widgets/controls",
      "model_module_version": "1.5.0",
      "model_name": "ProgressStyleModel",
      "state": {
       "description_width": ""
      }
     },
     "973285f543b04da180d317b372e57865": {
      "model_module": "@jupyter-widgets/base",
      "model_module_version": "1.2.0",
      "model_name": "LayoutModel",
      "state": {}
     },
     "9746a01cf2c847739b33cee2629c2b4f": {
      "model_module": "@jupyter-widgets/controls",
      "model_module_version": "1.5.0",
      "model_name": "DescriptionStyleModel",
      "state": {
       "description_width": ""
      }
     },
     "9758da694266463ebe7c6fd567730c7e": {
      "model_module": "@jupyter-widgets/base",
      "model_module_version": "1.2.0",
      "model_name": "LayoutModel",
      "state": {}
     },
     "97833a1c54a34f7cac95773ddbafb6a6": {
      "model_module": "@jupyter-widgets/controls",
      "model_module_version": "1.5.0",
      "model_name": "HTMLModel",
      "state": {
       "layout": "IPY_MODEL_d8c57ad8a8df417baff35589ad579d04",
       "style": "IPY_MODEL_081fa92fe81b404993a8c153f8ed9aa6",
       "value": "100%"
      }
     },
     "97aa7333404942f0a7c78f458b840b37": {
      "model_module": "@jupyter-widgets/controls",
      "model_module_version": "1.5.0",
      "model_name": "ProgressStyleModel",
      "state": {
       "description_width": ""
      }
     },
     "97eb21eae0f84e518f8f997ecbbce9ef": {
      "model_module": "@jupyter-widgets/controls",
      "model_module_version": "1.5.0",
      "model_name": "DescriptionStyleModel",
      "state": {
       "description_width": ""
      }
     },
     "981e4d0cebfe4877b469db54ad591c84": {
      "model_module": "@jupyter-widgets/base",
      "model_module_version": "1.2.0",
      "model_name": "LayoutModel",
      "state": {}
     },
     "981edbdb35d446fcaf008feee083655a": {
      "model_module": "@jupyter-widgets/controls",
      "model_module_version": "1.5.0",
      "model_name": "FloatProgressModel",
      "state": {
       "bar_style": "success",
       "layout": "IPY_MODEL_a2682f1fd2d647629e70fb029d799c24",
       "max": 12,
       "style": "IPY_MODEL_e69927dc0d494b8db3e9d810b567d8fd",
       "value": 12
      }
     },
     "983752959f8b4b80ac0f4f57fe625774": {
      "model_module": "@jupyter-widgets/base",
      "model_module_version": "1.2.0",
      "model_name": "LayoutModel",
      "state": {}
     },
     "99bc4786fdb7441ab17bc965a9f578fe": {
      "model_module": "@jupyter-widgets/base",
      "model_module_version": "1.2.0",
      "model_name": "LayoutModel",
      "state": {}
     },
     "9aa312886ed749bab312a15fefc7da7a": {
      "model_module": "@jupyter-widgets/base",
      "model_module_version": "1.2.0",
      "model_name": "LayoutModel",
      "state": {}
     },
     "9b1225125c974f7da7fffaa004177944": {
      "model_module": "@jupyter-widgets/controls",
      "model_module_version": "1.5.0",
      "model_name": "DescriptionStyleModel",
      "state": {
       "description_width": ""
      }
     },
     "9b14275e808f4c8eb9f3e22860a37206": {
      "model_module": "@jupyter-widgets/controls",
      "model_module_version": "1.5.0",
      "model_name": "ProgressStyleModel",
      "state": {
       "description_width": ""
      }
     },
     "9b1ff8e929b34cb8b7aeb5b856e63bd6": {
      "model_module": "@jupyter-widgets/controls",
      "model_module_version": "1.5.0",
      "model_name": "DescriptionStyleModel",
      "state": {
       "description_width": ""
      }
     },
     "9b2402ef83d64a078ec60d02a8b0cafa": {
      "model_module": "@jupyter-widgets/controls",
      "model_module_version": "1.5.0",
      "model_name": "HTMLModel",
      "state": {
       "layout": "IPY_MODEL_e47d70b0c1c642e292dbd95f6fd2d6e0",
       "style": "IPY_MODEL_134abd3d7e334ba3b928798ed02710aa",
       "value": " 12/12 [06:00&lt;00:00, 30.11s/it]"
      }
     },
     "9bc0b798e27a472aa31454b09d75c473": {
      "model_module": "@jupyter-widgets/controls",
      "model_module_version": "1.5.0",
      "model_name": "FloatProgressModel",
      "state": {
       "bar_style": "success",
       "layout": "IPY_MODEL_c865c5730e424cbf8cfe825a3eafcb83",
       "max": 12,
       "style": "IPY_MODEL_5934593fe108458e9c38bff0f8583b68",
       "value": 12
      }
     },
     "9cd2fb65d5414277a8d633317fd522d7": {
      "model_module": "@jupyter-widgets/controls",
      "model_module_version": "1.5.0",
      "model_name": "DescriptionStyleModel",
      "state": {
       "description_width": ""
      }
     },
     "9ceadef11fcb4ddd8b220eed644db543": {
      "model_module": "@jupyter-widgets/controls",
      "model_module_version": "1.5.0",
      "model_name": "DescriptionStyleModel",
      "state": {
       "description_width": ""
      }
     },
     "9d0dec6eeaa34bdea8bec3a610ca43ca": {
      "model_module": "@jupyter-widgets/base",
      "model_module_version": "1.2.0",
      "model_name": "LayoutModel",
      "state": {}
     },
     "9da40909a520439e93ac8a1768b8b5e1": {
      "model_module": "@jupyter-widgets/controls",
      "model_module_version": "1.5.0",
      "model_name": "FloatProgressModel",
      "state": {
       "bar_style": "success",
       "layout": "IPY_MODEL_a3df683493eb459b89346505f16d463d",
       "max": 12,
       "style": "IPY_MODEL_c13d199ab0e14fae81b2b40e47cf05d0",
       "value": 12
      }
     },
     "9daf4e9139cd4d2d877a6e7098cc09c1": {
      "model_module": "@jupyter-widgets/base",
      "model_module_version": "1.2.0",
      "model_name": "LayoutModel",
      "state": {}
     },
     "9db6c0ba3ba148fc9bd5e97fc6c6b5fb": {
      "model_module": "@jupyter-widgets/controls",
      "model_module_version": "1.5.0",
      "model_name": "HTMLModel",
      "state": {
       "layout": "IPY_MODEL_da6fe1cd1c854d95867c4ab21bf05209",
       "style": "IPY_MODEL_2f7804990a6f4747a98a933d17d63bc2",
       "value": "  8%"
      }
     },
     "9e067057c85a45228f82089641227c18": {
      "model_module": "@jupyter-widgets/controls",
      "model_module_version": "1.5.0",
      "model_name": "ProgressStyleModel",
      "state": {
       "description_width": ""
      }
     },
     "9e548c194a2d4d4abf4ece16269e5f8a": {
      "model_module": "@jupyter-widgets/controls",
      "model_module_version": "1.5.0",
      "model_name": "HBoxModel",
      "state": {
       "children": [
        "IPY_MODEL_4eda306587204dcfbfc6786af046a119",
        "IPY_MODEL_2d803bcb51414afa9d3386bdbf443010",
        "IPY_MODEL_b40e0efa36c340e9907b4f21dac9895e"
       ],
       "layout": "IPY_MODEL_05fd0db900f245eaaeda5806e017d941"
      }
     },
     "9f3f85b0f6c547da9b7f8a47895a44c6": {
      "model_module": "@jupyter-widgets/base",
      "model_module_version": "1.2.0",
      "model_name": "LayoutModel",
      "state": {}
     },
     "9f8eebfa920245c897dce129ea34f126": {
      "model_module": "@jupyter-widgets/controls",
      "model_module_version": "1.5.0",
      "model_name": "DescriptionStyleModel",
      "state": {
       "description_width": ""
      }
     },
     "9fc47d5b28df4f8e81205ce1b7af0bac": {
      "model_module": "@jupyter-widgets/base",
      "model_module_version": "1.2.0",
      "model_name": "LayoutModel",
      "state": {}
     },
     "a01fc8d077ed4470b7f438142b723e8d": {
      "model_module": "@jupyter-widgets/controls",
      "model_module_version": "1.5.0",
      "model_name": "DescriptionStyleModel",
      "state": {
       "description_width": ""
      }
     },
     "a085e2ab251c4c1fb803edfdc0bf302a": {
      "model_module": "@jupyter-widgets/base",
      "model_module_version": "1.2.0",
      "model_name": "LayoutModel",
      "state": {}
     },
     "a089bb028bbb4a5d8578a73b31f212b6": {
      "model_module": "@jupyter-widgets/controls",
      "model_module_version": "1.5.0",
      "model_name": "HTMLModel",
      "state": {
       "layout": "IPY_MODEL_93585c62466043689fc3576fbcb9830f",
       "style": "IPY_MODEL_1318dd3d025b4dfbb854c5cd82287cb3",
       "value": " 5/12 [00:33&lt;00:44,  6.36s/it]"
      }
     },
     "a111bd00554e4ffc82bd362a0b9d3b33": {
      "model_module": "@jupyter-widgets/base",
      "model_module_version": "1.2.0",
      "model_name": "LayoutModel",
      "state": {}
     },
     "a1ab28b631a24803b6c96a40b712ae65": {
      "model_module": "@jupyter-widgets/base",
      "model_module_version": "1.2.0",
      "model_name": "LayoutModel",
      "state": {}
     },
     "a1dcba4877d049689d1a56f16e8afc48": {
      "model_module": "@jupyter-widgets/base",
      "model_module_version": "1.2.0",
      "model_name": "LayoutModel",
      "state": {}
     },
     "a20c4df128b241a19f311905c6e14852": {
      "model_module": "@jupyter-widgets/controls",
      "model_module_version": "1.5.0",
      "model_name": "ProgressStyleModel",
      "state": {
       "description_width": ""
      }
     },
     "a25947eb91f64a1abc5bd691384e7443": {
      "model_module": "@jupyter-widgets/base",
      "model_module_version": "1.2.0",
      "model_name": "LayoutModel",
      "state": {}
     },
     "a2682f1fd2d647629e70fb029d799c24": {
      "model_module": "@jupyter-widgets/base",
      "model_module_version": "1.2.0",
      "model_name": "LayoutModel",
      "state": {}
     },
     "a2fb72e335da4278899f9ad424d2e779": {
      "model_module": "@jupyter-widgets/controls",
      "model_module_version": "1.5.0",
      "model_name": "FloatProgressModel",
      "state": {
       "bar_style": "success",
       "layout": "IPY_MODEL_3eb8bd6b96f64c9286d5cfee02f4c9ae",
       "max": 12,
       "style": "IPY_MODEL_a20c4df128b241a19f311905c6e14852",
       "value": 12
      }
     },
     "a3343f47162e4899a67a60334c33bab6": {
      "model_module": "@jupyter-widgets/controls",
      "model_module_version": "1.5.0",
      "model_name": "HTMLModel",
      "state": {
       "layout": "IPY_MODEL_77c2f13be16a4a679a35f4a1964c3a19",
       "style": "IPY_MODEL_9cd2fb65d5414277a8d633317fd522d7",
       "value": "100%"
      }
     },
     "a3ab4957d9aa4dc9ba531837b710856a": {
      "model_module": "@jupyter-widgets/controls",
      "model_module_version": "1.5.0",
      "model_name": "DescriptionStyleModel",
      "state": {
       "description_width": ""
      }
     },
     "a3df683493eb459b89346505f16d463d": {
      "model_module": "@jupyter-widgets/base",
      "model_module_version": "1.2.0",
      "model_name": "LayoutModel",
      "state": {}
     },
     "a46130752b6e4c5c8596411d351854a4": {
      "model_module": "@jupyter-widgets/controls",
      "model_module_version": "1.5.0",
      "model_name": "HTMLModel",
      "state": {
       "layout": "IPY_MODEL_d47cf4201729401d93f7ce3c97c9fbe9",
       "style": "IPY_MODEL_a3ab4957d9aa4dc9ba531837b710856a",
       "value": " 2/12 [00:53&lt;03:35, 21.53s/it]"
      }
     },
     "a588e2cfee2a4cbfb73fb3887e9d9b90": {
      "model_module": "@jupyter-widgets/controls",
      "model_module_version": "1.5.0",
      "model_name": "HTMLModel",
      "state": {
       "layout": "IPY_MODEL_b22fddf8cf90494595c3d4e445d26564",
       "style": "IPY_MODEL_fc1d898e81144b6bae23ba5caaded4b3",
       "value": "100%"
      }
     },
     "a5e74d4c28a1439db1fa12aa6ff1ee42": {
      "model_module": "@jupyter-widgets/base",
      "model_module_version": "1.2.0",
      "model_name": "LayoutModel",
      "state": {}
     },
     "a5f7fb09216f4207b86e5bd15c52574f": {
      "model_module": "@jupyter-widgets/controls",
      "model_module_version": "1.5.0",
      "model_name": "HBoxModel",
      "state": {
       "children": [
        "IPY_MODEL_75d7ab1b22e843ac9c860a5aac55be58",
        "IPY_MODEL_faa879dfbfe24bc7b9b5482e63e993ae",
        "IPY_MODEL_29d9f86aae2c4fe5943f1d990cdc5554"
       ],
       "layout": "IPY_MODEL_fd6fd68f3a4644db91a9e9b31f0b3aa7"
      }
     },
     "a6097e66a3ce43f8bfd7bb4b422542ab": {
      "model_module": "@jupyter-widgets/controls",
      "model_module_version": "1.5.0",
      "model_name": "FloatProgressModel",
      "state": {
       "bar_style": "danger",
       "layout": "IPY_MODEL_e069ad716add4075a4c75803a8ef583f",
       "max": 12,
       "style": "IPY_MODEL_e84c7dd697d449c68a11b0860a9f27a7",
       "value": 3
      }
     },
     "a70cb60705324ecea99e7831cb94ac9c": {
      "model_module": "@jupyter-widgets/controls",
      "model_module_version": "1.5.0",
      "model_name": "DescriptionStyleModel",
      "state": {
       "description_width": ""
      }
     },
     "a7da591687f14ec896c0e0583113d4bd": {
      "model_module": "@jupyter-widgets/base",
      "model_module_version": "1.2.0",
      "model_name": "LayoutModel",
      "state": {}
     },
     "a7ea326557ca4f96860b098f96c003cb": {
      "model_module": "@jupyter-widgets/base",
      "model_module_version": "1.2.0",
      "model_name": "LayoutModel",
      "state": {}
     },
     "a82c51b207674a7896425e2beb883afb": {
      "model_module": "@jupyter-widgets/controls",
      "model_module_version": "1.5.0",
      "model_name": "FloatProgressModel",
      "state": {
       "bar_style": "success",
       "layout": "IPY_MODEL_16dd6f331471448ca62dc42ad67193ba",
       "max": 12,
       "style": "IPY_MODEL_359fb5d887084cebb1b96919c9ea765e",
       "value": 12
      }
     },
     "a8759b6c10d540a3bb76fde80fa9c30f": {
      "model_module": "@jupyter-widgets/controls",
      "model_module_version": "1.5.0",
      "model_name": "ProgressStyleModel",
      "state": {
       "description_width": ""
      }
     },
     "a8c15b1234774cb0b1da3fa3275739b5": {
      "model_module": "@jupyter-widgets/controls",
      "model_module_version": "1.5.0",
      "model_name": "HBoxModel",
      "state": {
       "children": [
        "IPY_MODEL_c852374c2a484e4c9f153cbf673ae2d4",
        "IPY_MODEL_fdb7f9563c9e4f018c5a9d8e675dbad6",
        "IPY_MODEL_7c184a14454948a6840a99a237f67601"
       ],
       "layout": "IPY_MODEL_b42942dfe0714c34afd655935a371234"
      }
     },
     "a8feafdd76b44065bddef90f8140dfcc": {
      "model_module": "@jupyter-widgets/base",
      "model_module_version": "1.2.0",
      "model_name": "LayoutModel",
      "state": {}
     },
     "a9521068e8a244898caff6d72abd0ba5": {
      "model_module": "@jupyter-widgets/controls",
      "model_module_version": "1.5.0",
      "model_name": "HTMLModel",
      "state": {
       "layout": "IPY_MODEL_c3b2b942d64848ada41166a252ed0ceb",
       "style": "IPY_MODEL_23b836ee89664776b0eb5f2dcffbec68",
       "value": " 7/12 [00:42&lt;00:29,  5.94s/it]"
      }
     },
     "aaa12e9f87714f1ca78c9e5a09ec2f07": {
      "model_module": "@jupyter-widgets/base",
      "model_module_version": "1.2.0",
      "model_name": "LayoutModel",
      "state": {}
     },
     "ab98a21e388a40ff8561ddad9f65216d": {
      "model_module": "@jupyter-widgets/controls",
      "model_module_version": "1.5.0",
      "model_name": "HTMLModel",
      "state": {
       "layout": "IPY_MODEL_8440494252c94232882bb5babb584329",
       "style": "IPY_MODEL_05b00a51854a45d1a221a54a5aedbcb5",
       "value": " 12/12 [04:02&lt;00:00, 20.29s/it]"
      }
     },
     "ac6de53c3224425f9964dfe3e908105b": {
      "model_module": "@jupyter-widgets/controls",
      "model_module_version": "1.5.0",
      "model_name": "HTMLModel",
      "state": {
       "layout": "IPY_MODEL_d7d0df82b0294726872be2b78da986c8",
       "style": "IPY_MODEL_6cccbe47cc3a49ca96df2d6a28d87015",
       "value": " 12/12 [00:00&lt;00:00, 13.29it/s]"
      }
     },
     "ac87a078500e4d7c9c31edbe21269792": {
      "model_module": "@jupyter-widgets/controls",
      "model_module_version": "1.5.0",
      "model_name": "HTMLModel",
      "state": {
       "layout": "IPY_MODEL_41466f7bd12a47278e013547419a82b4",
       "style": "IPY_MODEL_ca669d45973546e3a0d8f71caa712090",
       "value": " 0/2 [00:03&lt;?, ?it/s]"
      }
     },
     "adb05948bb004cc3b3ad573a1d716fe3": {
      "model_module": "@jupyter-widgets/base",
      "model_module_version": "1.2.0",
      "model_name": "LayoutModel",
      "state": {}
     },
     "ae248ae2d1ef454fa8ff6d7ef42762ed": {
      "model_module": "@jupyter-widgets/controls",
      "model_module_version": "1.5.0",
      "model_name": "FloatProgressModel",
      "state": {
       "bar_style": "danger",
       "layout": "IPY_MODEL_861878ba3fd34cc9964c7f27b5818fba",
       "max": 12,
       "style": "IPY_MODEL_2c020eedd428435b8f057ee6f7f092cf"
      }
     },
     "ae5598ae8f9844e9841d3075329fc932": {
      "model_module": "@jupyter-widgets/base",
      "model_module_version": "1.2.0",
      "model_name": "LayoutModel",
      "state": {}
     },
     "aec5c2c7d78d4194b00a7d671496d404": {
      "model_module": "@jupyter-widgets/controls",
      "model_module_version": "1.5.0",
      "model_name": "DescriptionStyleModel",
      "state": {
       "description_width": ""
      }
     },
     "b036c68214a745268293c49924678a04": {
      "model_module": "@jupyter-widgets/base",
      "model_module_version": "1.2.0",
      "model_name": "LayoutModel",
      "state": {}
     },
     "b03ec34891cc4800b514b1210d6a30b4": {
      "model_module": "@jupyter-widgets/base",
      "model_module_version": "1.2.0",
      "model_name": "LayoutModel",
      "state": {}
     },
     "b0468ca33b8642d186e3f864cf00ec37": {
      "model_module": "@jupyter-widgets/controls",
      "model_module_version": "1.5.0",
      "model_name": "HTMLModel",
      "state": {
       "layout": "IPY_MODEL_725e528266e943db93be1da4acef1876",
       "style": "IPY_MODEL_25b2f95a8f6c437baf02647c79966caa",
       "value": " 1/2 [00:37&lt;00:28, 28.74s/it]"
      }
     },
     "b22fddf8cf90494595c3d4e445d26564": {
      "model_module": "@jupyter-widgets/base",
      "model_module_version": "1.2.0",
      "model_name": "LayoutModel",
      "state": {}
     },
     "b25880479945402b8c87d48155a4e4ad": {
      "model_module": "@jupyter-widgets/base",
      "model_module_version": "1.2.0",
      "model_name": "LayoutModel",
      "state": {}
     },
     "b2b61f0a81c844678548e1c134d886a5": {
      "model_module": "@jupyter-widgets/controls",
      "model_module_version": "1.5.0",
      "model_name": "DescriptionStyleModel",
      "state": {
       "description_width": ""
      }
     },
     "b2e6d127a4a346908e099fe9bafdd893": {
      "model_module": "@jupyter-widgets/base",
      "model_module_version": "1.2.0",
      "model_name": "LayoutModel",
      "state": {}
     },
     "b32af729e60e4b11a65bbe62a58aaf5c": {
      "model_module": "@jupyter-widgets/controls",
      "model_module_version": "1.5.0",
      "model_name": "FloatProgressModel",
      "state": {
       "bar_style": "danger",
       "layout": "IPY_MODEL_e26aacf29bd7497a87c2e654dd392af2",
       "max": 12,
       "style": "IPY_MODEL_f289b71fc1454eac907441b233130264",
       "value": 1
      }
     },
     "b35b4a9ee5cb4d34a671c263459f533a": {
      "model_module": "@jupyter-widgets/base",
      "model_module_version": "1.2.0",
      "model_name": "LayoutModel",
      "state": {}
     },
     "b3ef18d488fe47aea0941b0fcff36327": {
      "model_module": "@jupyter-widgets/controls",
      "model_module_version": "1.5.0",
      "model_name": "FloatProgressModel",
      "state": {
       "bar_style": "success",
       "layout": "IPY_MODEL_a1ab28b631a24803b6c96a40b712ae65",
       "max": 12,
       "style": "IPY_MODEL_3f7d763fa9b7447da2a8f41f5ad41cf2",
       "value": 12
      }
     },
     "b40e0efa36c340e9907b4f21dac9895e": {
      "model_module": "@jupyter-widgets/controls",
      "model_module_version": "1.5.0",
      "model_name": "HTMLModel",
      "state": {
       "layout": "IPY_MODEL_8b748980506a4e35b97170f3335c5df4",
       "style": "IPY_MODEL_2dae7f51043c40f986b1df16e1f31096",
       "value": " 1/12 [00:39&lt;05:38, 30.74s/it]"
      }
     },
     "b42942dfe0714c34afd655935a371234": {
      "model_module": "@jupyter-widgets/base",
      "model_module_version": "1.2.0",
      "model_name": "LayoutModel",
      "state": {}
     },
     "b4302aff160a46babccdf66aeb735e85": {
      "model_module": "@jupyter-widgets/controls",
      "model_module_version": "1.5.0",
      "model_name": "FloatProgressModel",
      "state": {
       "bar_style": "danger",
       "layout": "IPY_MODEL_10dd3416d76644638dcadc7d790abf86",
       "max": 12,
       "style": "IPY_MODEL_da8ae125e47c47df87c3ace40315bbe6",
       "value": 1
      }
     },
     "b44579d17c794eab8236dd3ba043c164": {
      "model_module": "@jupyter-widgets/controls",
      "model_module_version": "1.5.0",
      "model_name": "HTMLModel",
      "state": {
       "layout": "IPY_MODEL_f56f283fcbc94d578ac51d55e53129c2",
       "style": "IPY_MODEL_5e64475d101242d2bd0c68d843733b83",
       "value": " 25%"
      }
     },
     "b495515cbdb54afa86320b944317c0e7": {
      "model_module": "@jupyter-widgets/controls",
      "model_module_version": "1.5.0",
      "model_name": "DescriptionStyleModel",
      "state": {
       "description_width": ""
      }
     },
     "b4d1b1e59b034d27a3aab7cbe8fbd15b": {
      "model_module": "@jupyter-widgets/base",
      "model_module_version": "1.2.0",
      "model_name": "LayoutModel",
      "state": {}
     },
     "b654d0fce7de4529b9e9a352851d8cd8": {
      "model_module": "@jupyter-widgets/controls",
      "model_module_version": "1.5.0",
      "model_name": "HTMLModel",
      "state": {
       "layout": "IPY_MODEL_efe8437795bd4da2bc79bdad82708211",
       "style": "IPY_MODEL_f662b36fec804136a4e5b19e068aad03",
       "value": " 2/12 [00:05&lt;00:21,  2.15s/it]"
      }
     },
     "b662b68df2004639b273ffee091fc517": {
      "model_module": "@jupyter-widgets/base",
      "model_module_version": "1.2.0",
      "model_name": "LayoutModel",
      "state": {}
     },
     "b69cc8465a554eb4bcafb05b331fd6e3": {
      "model_module": "@jupyter-widgets/controls",
      "model_module_version": "1.5.0",
      "model_name": "DescriptionStyleModel",
      "state": {
       "description_width": ""
      }
     },
     "b7d14f1008ff4d9193596d7361dd4c64": {
      "model_module": "@jupyter-widgets/controls",
      "model_module_version": "1.5.0",
      "model_name": "FloatProgressModel",
      "state": {
       "bar_style": "danger",
       "layout": "IPY_MODEL_7dd5696407cd4e0cb4e087f9ba46ad92",
       "max": 12,
       "style": "IPY_MODEL_d9d74d04626947629024a77f5c394b41",
       "value": 11
      }
     },
     "b90afcf45ceb472396da67069be85720": {
      "model_module": "@jupyter-widgets/controls",
      "model_module_version": "1.5.0",
      "model_name": "HBoxModel",
      "state": {
       "children": [
        "IPY_MODEL_115f980a6fe94c539d3aed1d7cc00205",
        "IPY_MODEL_a6097e66a3ce43f8bfd7bb4b422542ab",
        "IPY_MODEL_0e980c4058d4475b82fb9100e93fd71d"
       ],
       "layout": "IPY_MODEL_43dbcf40ed1e466388b55588a5aced46"
      }
     },
     "ba9ed1cbb1aa41b9ac1c74075cec8c3b": {
      "model_module": "@jupyter-widgets/controls",
      "model_module_version": "1.5.0",
      "model_name": "DescriptionStyleModel",
      "state": {
       "description_width": ""
      }
     },
     "baa9d4f6f70440058ace6dfd6331a149": {
      "model_module": "@jupyter-widgets/controls",
      "model_module_version": "1.5.0",
      "model_name": "DescriptionStyleModel",
      "state": {
       "description_width": ""
      }
     },
     "bb84998419174a2ea4fec22c63b87123": {
      "model_module": "@jupyter-widgets/controls",
      "model_module_version": "1.5.0",
      "model_name": "DescriptionStyleModel",
      "state": {
       "description_width": ""
      }
     },
     "bbb67d38dbb44dff876cf22ae2f2040d": {
      "model_module": "@jupyter-widgets/base",
      "model_module_version": "1.2.0",
      "model_name": "LayoutModel",
      "state": {}
     },
     "bca784d54912462b89f7dbf748f0d9e2": {
      "model_module": "@jupyter-widgets/base",
      "model_module_version": "1.2.0",
      "model_name": "LayoutModel",
      "state": {}
     },
     "bcff063d62ac4e3292bbd69cff4e3f87": {
      "model_module": "@jupyter-widgets/controls",
      "model_module_version": "1.5.0",
      "model_name": "DescriptionStyleModel",
      "state": {
       "description_width": ""
      }
     },
     "bdd9d8a742d54ebc95b1b44e9c5dddf5": {
      "model_module": "@jupyter-widgets/controls",
      "model_module_version": "1.5.0",
      "model_name": "DescriptionStyleModel",
      "state": {
       "description_width": ""
      }
     },
     "be576a6792374807b91524ae237b9ad3": {
      "model_module": "@jupyter-widgets/controls",
      "model_module_version": "1.5.0",
      "model_name": "DescriptionStyleModel",
      "state": {
       "description_width": ""
      }
     },
     "bf09a52b5c3e4459acd8e85babc2f978": {
      "model_module": "@jupyter-widgets/controls",
      "model_module_version": "1.5.0",
      "model_name": "HBoxModel",
      "state": {
       "children": [
        "IPY_MODEL_ef967c25e55f4fb0b98c8c168806ef42",
        "IPY_MODEL_de6e22169b594a1aa1fa592520f82c05",
        "IPY_MODEL_f00e749df7a5490e92511741a832cefa"
       ],
       "layout": "IPY_MODEL_3307bb225fde4c99b248ca7d5917998b"
      }
     },
     "c13d199ab0e14fae81b2b40e47cf05d0": {
      "model_module": "@jupyter-widgets/controls",
      "model_module_version": "1.5.0",
      "model_name": "ProgressStyleModel",
      "state": {
       "description_width": ""
      }
     },
     "c1cc49281f854d88baf366086951a86f": {
      "model_module": "@jupyter-widgets/controls",
      "model_module_version": "1.5.0",
      "model_name": "DescriptionStyleModel",
      "state": {
       "description_width": ""
      }
     },
     "c22d0f8df5d84d7db07f84bc2493e88b": {
      "model_module": "@jupyter-widgets/controls",
      "model_module_version": "1.5.0",
      "model_name": "DescriptionStyleModel",
      "state": {
       "description_width": ""
      }
     },
     "c252b204c64542f2a92e9475e03426af": {
      "model_module": "@jupyter-widgets/controls",
      "model_module_version": "1.5.0",
      "model_name": "HTMLModel",
      "state": {
       "layout": "IPY_MODEL_ea9b02cb557541e6ada5643996c56ae1",
       "style": "IPY_MODEL_c4445302b74d4ffabff3961596178247",
       "value": " 11/12 [00:37&lt;00:03,  3.46s/it]"
      }
     },
     "c2b908f8f33c4c7f8bd53e09bb70fb1a": {
      "model_module": "@jupyter-widgets/controls",
      "model_module_version": "1.5.0",
      "model_name": "DescriptionStyleModel",
      "state": {
       "description_width": ""
      }
     },
     "c32675da188944f6a6caae06668c18df": {
      "model_module": "@jupyter-widgets/controls",
      "model_module_version": "1.5.0",
      "model_name": "DescriptionStyleModel",
      "state": {
       "description_width": ""
      }
     },
     "c369bc704f744b8ab8e54ae9fadd73e4": {
      "model_module": "@jupyter-widgets/controls",
      "model_module_version": "1.5.0",
      "model_name": "HTMLModel",
      "state": {
       "layout": "IPY_MODEL_82d0deab6d38477b9ad7fbc3d9384487",
       "style": "IPY_MODEL_2d7b6185377e4cba95b1cb5a4941d72b",
       "value": " 1/12 [00:06&lt;00:38,  3.53s/it]"
      }
     },
     "c384034056e44b389a5db18617062253": {
      "model_module": "@jupyter-widgets/controls",
      "model_module_version": "1.5.0",
      "model_name": "FloatProgressModel",
      "state": {
       "bar_style": "danger",
       "layout": "IPY_MODEL_adb05948bb004cc3b3ad573a1d716fe3",
       "max": 12,
       "style": "IPY_MODEL_c6f7279721be4076a936e9185539e10c",
       "value": 5
      }
     },
     "c38c942d1ec8446b93143d0bd0109d32": {
      "model_module": "@jupyter-widgets/controls",
      "model_module_version": "1.5.0",
      "model_name": "HBoxModel",
      "state": {
       "children": [
        "IPY_MODEL_de5aa6be9c984ac089ee86446ad0562a",
        "IPY_MODEL_e69c513a9a0c4f36b0065658cca12466",
        "IPY_MODEL_9b2402ef83d64a078ec60d02a8b0cafa"
       ],
       "layout": "IPY_MODEL_8029c90177a446eb8fccbdbb16f8e48e"
      }
     },
     "c3a289b99e154de2af562b2dd7007ac4": {
      "model_module": "@jupyter-widgets/base",
      "model_module_version": "1.2.0",
      "model_name": "LayoutModel",
      "state": {}
     },
     "c3b2b942d64848ada41166a252ed0ceb": {
      "model_module": "@jupyter-widgets/base",
      "model_module_version": "1.2.0",
      "model_name": "LayoutModel",
      "state": {}
     },
     "c3e741d209a8460a8cda0371f587d661": {
      "model_module": "@jupyter-widgets/controls",
      "model_module_version": "1.5.0",
      "model_name": "HBoxModel",
      "state": {
       "children": [
        "IPY_MODEL_406f56c41f37400485c56665794323cc",
        "IPY_MODEL_118771f1ab3d433daa57cfeac11e147b",
        "IPY_MODEL_dcccaa7f776246ef92dada6f9224a8af"
       ],
       "layout": "IPY_MODEL_5e5e8d34dcfe424e83ce9531b4576a27"
      }
     },
     "c403febc81d945faa023d1b599b6fd79": {
      "model_module": "@jupyter-widgets/controls",
      "model_module_version": "1.5.0",
      "model_name": "ProgressStyleModel",
      "state": {
       "description_width": ""
      }
     },
     "c41218d28775459dafb3d9319d1b6875": {
      "model_module": "@jupyter-widgets/base",
      "model_module_version": "1.2.0",
      "model_name": "LayoutModel",
      "state": {}
     },
     "c4445302b74d4ffabff3961596178247": {
      "model_module": "@jupyter-widgets/controls",
      "model_module_version": "1.5.0",
      "model_name": "DescriptionStyleModel",
      "state": {
       "description_width": ""
      }
     },
     "c4666cca9adb4bacb8b5babe284d7d25": {
      "model_module": "@jupyter-widgets/controls",
      "model_module_version": "1.5.0",
      "model_name": "ProgressStyleModel",
      "state": {
       "description_width": ""
      }
     },
     "c466ca03f17347858bfdfdab315e803b": {
      "model_module": "@jupyter-widgets/base",
      "model_module_version": "1.2.0",
      "model_name": "LayoutModel",
      "state": {}
     },
     "c49b23c613b4478694a90e31c561ba2f": {
      "model_module": "@jupyter-widgets/base",
      "model_module_version": "1.2.0",
      "model_name": "LayoutModel",
      "state": {}
     },
     "c514cc014f434c0082760f8be46661ad": {
      "model_module": "@jupyter-widgets/base",
      "model_module_version": "1.2.0",
      "model_name": "LayoutModel",
      "state": {}
     },
     "c6c9962ce68b4e07a2717cbcdd92ccb9": {
      "model_module": "@jupyter-widgets/base",
      "model_module_version": "1.2.0",
      "model_name": "LayoutModel",
      "state": {}
     },
     "c6f7279721be4076a936e9185539e10c": {
      "model_module": "@jupyter-widgets/controls",
      "model_module_version": "1.5.0",
      "model_name": "ProgressStyleModel",
      "state": {
       "description_width": ""
      }
     },
     "c78b87e6a0ea43adb8c995f293cd73ed": {
      "model_module": "@jupyter-widgets/base",
      "model_module_version": "1.2.0",
      "model_name": "LayoutModel",
      "state": {}
     },
     "c7efeec92614478584b5e849d07735bf": {
      "model_module": "@jupyter-widgets/base",
      "model_module_version": "1.2.0",
      "model_name": "LayoutModel",
      "state": {}
     },
     "c81684263c304077a8c5a71be7a3166d": {
      "model_module": "@jupyter-widgets/controls",
      "model_module_version": "1.5.0",
      "model_name": "HTMLModel",
      "state": {
       "layout": "IPY_MODEL_2b500b62409a4090ba04bdc3de53701d",
       "style": "IPY_MODEL_bdd9d8a742d54ebc95b1b44e9c5dddf5",
       "value": " 12/12 [04:03&lt;00:00, 20.22s/it]"
      }
     },
     "c852374c2a484e4c9f153cbf673ae2d4": {
      "model_module": "@jupyter-widgets/controls",
      "model_module_version": "1.5.0",
      "model_name": "HTMLModel",
      "state": {
       "layout": "IPY_MODEL_f9e463384cb24459b1ee45ee2c7bcb8a",
       "style": "IPY_MODEL_36694c76db2d4dda95fd8d79e7562565",
       "value": "100%"
      }
     },
     "c865c5730e424cbf8cfe825a3eafcb83": {
      "model_module": "@jupyter-widgets/base",
      "model_module_version": "1.2.0",
      "model_name": "LayoutModel",
      "state": {}
     },
     "c8bb80fe9f844f31bef652bc7bc5eb4e": {
      "model_module": "@jupyter-widgets/controls",
      "model_module_version": "1.5.0",
      "model_name": "ProgressStyleModel",
      "state": {
       "description_width": ""
      }
     },
     "c921c8c9ec824834a5ef589f0e304ecd": {
      "model_module": "@jupyter-widgets/base",
      "model_module_version": "1.2.0",
      "model_name": "LayoutModel",
      "state": {}
     },
     "c93cec158b88457b847534fe44c71b51": {
      "model_module": "@jupyter-widgets/controls",
      "model_module_version": "1.5.0",
      "model_name": "ProgressStyleModel",
      "state": {
       "description_width": ""
      }
     },
     "c990e4fb9c294022aa419b0913f4ea1f": {
      "model_module": "@jupyter-widgets/controls",
      "model_module_version": "1.5.0",
      "model_name": "DescriptionStyleModel",
      "state": {
       "description_width": ""
      }
     },
     "ca5a1b81051a44d48bf4f597b66e2af5": {
      "model_module": "@jupyter-widgets/controls",
      "model_module_version": "1.5.0",
      "model_name": "DescriptionStyleModel",
      "state": {
       "description_width": ""
      }
     },
     "ca669d45973546e3a0d8f71caa712090": {
      "model_module": "@jupyter-widgets/controls",
      "model_module_version": "1.5.0",
      "model_name": "DescriptionStyleModel",
      "state": {
       "description_width": ""
      }
     },
     "caf3155067ff4fa7845cb9d2caae0814": {
      "model_module": "@jupyter-widgets/controls",
      "model_module_version": "1.5.0",
      "model_name": "FloatProgressModel",
      "state": {
       "bar_style": "danger",
       "layout": "IPY_MODEL_528180b0ae1e456fbacef1b5b39cfc39",
       "max": 12,
       "style": "IPY_MODEL_c8bb80fe9f844f31bef652bc7bc5eb4e"
      }
     },
     "cb9d836be56c495783bac0beb2c50919": {
      "model_module": "@jupyter-widgets/controls",
      "model_module_version": "1.5.0",
      "model_name": "DescriptionStyleModel",
      "state": {
       "description_width": ""
      }
     },
     "cba0b8af8e7d4ab4b29608173cf0fbae": {
      "model_module": "@jupyter-widgets/base",
      "model_module_version": "1.2.0",
      "model_name": "LayoutModel",
      "state": {}
     },
     "cc6a4d8e244d486d84f5c02518733a7c": {
      "model_module": "@jupyter-widgets/base",
      "model_module_version": "1.2.0",
      "model_name": "LayoutModel",
      "state": {}
     },
     "ccc38b6630b641a4a3477714c8100ac0": {
      "model_module": "@jupyter-widgets/controls",
      "model_module_version": "1.5.0",
      "model_name": "HTMLModel",
      "state": {
       "layout": "IPY_MODEL_c921c8c9ec824834a5ef589f0e304ecd",
       "style": "IPY_MODEL_85a4115268414a88be7fadbb06ee5ac0",
       "value": "100%"
      }
     },
     "cd3e1623e3c94de69d6a7c561c08d991": {
      "model_module": "@jupyter-widgets/base",
      "model_module_version": "1.2.0",
      "model_name": "LayoutModel",
      "state": {}
     },
     "cd4ea40f957f4f80b1e0ea324ecc1bee": {
      "model_module": "@jupyter-widgets/controls",
      "model_module_version": "1.5.0",
      "model_name": "HBoxModel",
      "state": {
       "children": [
        "IPY_MODEL_9db6c0ba3ba148fc9bd5e97fc6c6b5fb",
        "IPY_MODEL_b32af729e60e4b11a65bbe62a58aaf5c",
        "IPY_MODEL_4fc849c196a643be8599e76582a67f90"
       ],
       "layout": "IPY_MODEL_1a7bce4599684b5886a68f1fe44ffa06"
      }
     },
     "cda68407a58a4271b6ae8ab9d5773eb1": {
      "model_module": "@jupyter-widgets/base",
      "model_module_version": "1.2.0",
      "model_name": "LayoutModel",
      "state": {}
     },
     "cdda4281225b4bfcaf47afc878c807f1": {
      "model_module": "@jupyter-widgets/controls",
      "model_module_version": "1.5.0",
      "model_name": "ProgressStyleModel",
      "state": {
       "description_width": ""
      }
     },
     "cdf85ceb0a5b48d29ca3cf142f2037c6": {
      "model_module": "@jupyter-widgets/controls",
      "model_module_version": "1.5.0",
      "model_name": "HTMLModel",
      "state": {
       "layout": "IPY_MODEL_a085e2ab251c4c1fb803edfdc0bf302a",
       "style": "IPY_MODEL_26f8944661a045e8a251b50473b97a5f",
       "value": "  0%"
      }
     },
     "ce63081a810e470daa43ec62bcc9f4df": {
      "model_module": "@jupyter-widgets/controls",
      "model_module_version": "1.5.0",
      "model_name": "ProgressStyleModel",
      "state": {
       "description_width": ""
      }
     },
     "cf42c55fccd648a086fa859041e9d98c": {
      "model_module": "@jupyter-widgets/base",
      "model_module_version": "1.2.0",
      "model_name": "LayoutModel",
      "state": {}
     },
     "cf5d03ef16d64629bc883bb8398ee402": {
      "model_module": "@jupyter-widgets/controls",
      "model_module_version": "1.5.0",
      "model_name": "HTMLModel",
      "state": {
       "layout": "IPY_MODEL_72655dfef38a4da9b769e43cfa36e4c0",
       "style": "IPY_MODEL_8b3ff69b86844b1a94cecbf240a3d32a",
       "value": " 0/12 [00:01&lt;?, ?it/s]"
      }
     },
     "d01af2e0d1564853ba01ebc7fb335616": {
      "model_module": "@jupyter-widgets/controls",
      "model_module_version": "1.5.0",
      "model_name": "HBoxModel",
      "state": {
       "children": [
        "IPY_MODEL_8d0adb8970b74d6c9ee81f7d7c0e38aa",
        "IPY_MODEL_ecfecfaa02cd4773b27dd761e5deb5fb",
        "IPY_MODEL_a9521068e8a244898caff6d72abd0ba5"
       ],
       "layout": "IPY_MODEL_b036c68214a745268293c49924678a04"
      }
     },
     "d03d1104ac264473a412d1769dd30098": {
      "model_module": "@jupyter-widgets/base",
      "model_module_version": "1.2.0",
      "model_name": "LayoutModel",
      "state": {}
     },
     "d05f73238f6448ba9c59a54db768f3f7": {
      "model_module": "@jupyter-widgets/controls",
      "model_module_version": "1.5.0",
      "model_name": "HBoxModel",
      "state": {
       "children": [
        "IPY_MODEL_d991df4321b74cf5a91a5bbd3a91c598",
        "IPY_MODEL_17b8c8155c104bf7b857b166449e9adf",
        "IPY_MODEL_fb0318fbb0f84af8bc11057d2ba552b1"
       ],
       "layout": "IPY_MODEL_65a8d28fc9e94cb8a8142095ee836043"
      }
     },
     "d0766e18fd3f474b9c3c14609e93203f": {
      "model_module": "@jupyter-widgets/controls",
      "model_module_version": "1.5.0",
      "model_name": "DescriptionStyleModel",
      "state": {
       "description_width": ""
      }
     },
     "d07873e2c8a54766b7d1e34c32889597": {
      "model_module": "@jupyter-widgets/controls",
      "model_module_version": "1.5.0",
      "model_name": "HTMLModel",
      "state": {
       "layout": "IPY_MODEL_facc55d64d9e462283fa54b223411d7d",
       "style": "IPY_MODEL_cb9d836be56c495783bac0beb2c50919",
       "value": " 92%"
      }
     },
     "d0848776459c40d0ac61efeca9a8bbb4": {
      "model_module": "@jupyter-widgets/controls",
      "model_module_version": "1.5.0",
      "model_name": "HBoxModel",
      "state": {
       "children": [
        "IPY_MODEL_449ea407f4f749dd8ad0af3474b46f73",
        "IPY_MODEL_312898e6e54840b8b3d3f13f12988b70",
        "IPY_MODEL_5d35999b4e2e4d0183cd4503c78e7fc2"
       ],
       "layout": "IPY_MODEL_a111bd00554e4ffc82bd362a0b9d3b33"
      }
     },
     "d0b444365a924b4aa17f1396441bba65": {
      "model_module": "@jupyter-widgets/controls",
      "model_module_version": "1.5.0",
      "model_name": "FloatProgressModel",
      "state": {
       "bar_style": "success",
       "layout": "IPY_MODEL_c49b23c613b4478694a90e31c561ba2f",
       "max": 12,
       "style": "IPY_MODEL_45bc760c7da9467fbc1d85415f919cbf",
       "value": 12
      }
     },
     "d29378b79a194055b8ded4ef2063504c": {
      "model_module": "@jupyter-widgets/controls",
      "model_module_version": "1.5.0",
      "model_name": "ProgressStyleModel",
      "state": {
       "description_width": ""
      }
     },
     "d37a5edcd5a341f6aa16fa47b0f68fbe": {
      "model_module": "@jupyter-widgets/controls",
      "model_module_version": "1.5.0",
      "model_name": "DescriptionStyleModel",
      "state": {
       "description_width": ""
      }
     },
     "d47cf4201729401d93f7ce3c97c9fbe9": {
      "model_module": "@jupyter-widgets/base",
      "model_module_version": "1.2.0",
      "model_name": "LayoutModel",
      "state": {}
     },
     "d596e4183fee4b46bc0dcca1333b42ee": {
      "model_module": "@jupyter-widgets/controls",
      "model_module_version": "1.5.0",
      "model_name": "HTMLModel",
      "state": {
       "layout": "IPY_MODEL_8f5a0f04649741d6ba272be56adc233b",
       "style": "IPY_MODEL_2e1fda261a7b461bb0dfab613c1c1b33",
       "value": " 12/12 [00:40&lt;00:00,  3.34s/it]"
      }
     },
     "d5b6afa80c3f41b1b8b4660f6c19d851": {
      "model_module": "@jupyter-widgets/controls",
      "model_module_version": "1.5.0",
      "model_name": "DescriptionStyleModel",
      "state": {
       "description_width": ""
      }
     },
     "d6951d36517f4e4baaf8fab22496333a": {
      "model_module": "@jupyter-widgets/controls",
      "model_module_version": "1.5.0",
      "model_name": "HBoxModel",
      "state": {
       "children": [
        "IPY_MODEL_2922a7460aad4dc2b5225088dab17ace",
        "IPY_MODEL_4700d2dfd4de4cb190e7916c99d3e6b5",
        "IPY_MODEL_88ac50ecd8e445c38fd50e00114de413"
       ],
       "layout": "IPY_MODEL_0b066318364b4a8ba73f54f6ca01da8c"
      }
     },
     "d6d5f6ce897e4570acf9725dcf78175f": {
      "model_module": "@jupyter-widgets/base",
      "model_module_version": "1.2.0",
      "model_name": "LayoutModel",
      "state": {}
     },
     "d7410e9bab874f5caa471f1956254e43": {
      "model_module": "@jupyter-widgets/controls",
      "model_module_version": "1.5.0",
      "model_name": "ProgressStyleModel",
      "state": {
       "description_width": ""
      }
     },
     "d7d0df82b0294726872be2b78da986c8": {
      "model_module": "@jupyter-widgets/base",
      "model_module_version": "1.2.0",
      "model_name": "LayoutModel",
      "state": {}
     },
     "d7e74f7229a740ab932d7f58cfe91d2d": {
      "model_module": "@jupyter-widgets/controls",
      "model_module_version": "1.5.0",
      "model_name": "HTMLModel",
      "state": {
       "layout": "IPY_MODEL_6337e45f8b0a4a3facd9d5d51f61fe1b",
       "style": "IPY_MODEL_1b71e25a928a48d1addddf13b8b7b253",
       "value": " 12/12 [04:02&lt;00:00, 20.16s/it]"
      }
     },
     "d8c57ad8a8df417baff35589ad579d04": {
      "model_module": "@jupyter-widgets/base",
      "model_module_version": "1.2.0",
      "model_name": "LayoutModel",
      "state": {}
     },
     "d8ccda2d1ad34190bce37064f913897c": {
      "model_module": "@jupyter-widgets/base",
      "model_module_version": "1.2.0",
      "model_name": "LayoutModel",
      "state": {}
     },
     "d8fdb00bcdfd49769cff1d025a468b58": {
      "model_module": "@jupyter-widgets/controls",
      "model_module_version": "1.5.0",
      "model_name": "HTMLModel",
      "state": {
       "layout": "IPY_MODEL_6864390b15714573beae48b2937b66be",
       "style": "IPY_MODEL_f4d71e8ed8414267b10ccf8225742759",
       "value": "  0%"
      }
     },
     "d9276c4a48204b7e8d630d3d1bb686d7": {
      "model_module": "@jupyter-widgets/controls",
      "model_module_version": "1.5.0",
      "model_name": "HBoxModel",
      "state": {
       "children": [
        "IPY_MODEL_66bd7af0c56b4bf38615efd4945d3a21",
        "IPY_MODEL_086acd9cb9ee4c1ca9ad2d24cebb8a74",
        "IPY_MODEL_b0468ca33b8642d186e3f864cf00ec37"
       ],
       "layout": "IPY_MODEL_05db7b58e9aa461bb1ed2f78f3559b3c"
      }
     },
     "d991df4321b74cf5a91a5bbd3a91c598": {
      "model_module": "@jupyter-widgets/controls",
      "model_module_version": "1.5.0",
      "model_name": "HTMLModel",
      "state": {
       "layout": "IPY_MODEL_6c99b8be8f994cf6a39f60dfff9401cf",
       "style": "IPY_MODEL_626e8acb160e4137b5ec016ee7933a06",
       "value": "100%"
      }
     },
     "d9d74d04626947629024a77f5c394b41": {
      "model_module": "@jupyter-widgets/controls",
      "model_module_version": "1.5.0",
      "model_name": "ProgressStyleModel",
      "state": {
       "description_width": ""
      }
     },
     "da2bb5dfbdf241e9b8be141a01dedc72": {
      "model_module": "@jupyter-widgets/controls",
      "model_module_version": "1.5.0",
      "model_name": "FloatProgressModel",
      "state": {
       "bar_style": "success",
       "layout": "IPY_MODEL_b25880479945402b8c87d48155a4e4ad",
       "max": 2,
       "style": "IPY_MODEL_2b9ad47fd8b348fbb6b253865732cb48",
       "value": 2
      }
     },
     "da3e8a80abf3470dbc2875cc05946e59": {
      "model_module": "@jupyter-widgets/controls",
      "model_module_version": "1.5.0",
      "model_name": "HTMLModel",
      "state": {
       "layout": "IPY_MODEL_041647866fe541efa5b8266019cfe4d2",
       "style": "IPY_MODEL_c1cc49281f854d88baf366086951a86f",
       "value": "100%"
      }
     },
     "da6fe1cd1c854d95867c4ab21bf05209": {
      "model_module": "@jupyter-widgets/base",
      "model_module_version": "1.2.0",
      "model_name": "LayoutModel",
      "state": {}
     },
     "da7420fa14c842e7a0f47a7b17139534": {
      "model_module": "@jupyter-widgets/controls",
      "model_module_version": "1.5.0",
      "model_name": "DescriptionStyleModel",
      "state": {
       "description_width": ""
      }
     },
     "da8ae125e47c47df87c3ace40315bbe6": {
      "model_module": "@jupyter-widgets/controls",
      "model_module_version": "1.5.0",
      "model_name": "ProgressStyleModel",
      "state": {
       "description_width": ""
      }
     },
     "da9999560d964333b83aa89d87be9672": {
      "model_module": "@jupyter-widgets/base",
      "model_module_version": "1.2.0",
      "model_name": "LayoutModel",
      "state": {}
     },
     "daae738ed0ab423b83ff0898943ee0ef": {
      "model_module": "@jupyter-widgets/base",
      "model_module_version": "1.2.0",
      "model_name": "LayoutModel",
      "state": {}
     },
     "db3239ffefb74d649205bdd817197926": {
      "model_module": "@jupyter-widgets/controls",
      "model_module_version": "1.5.0",
      "model_name": "DescriptionStyleModel",
      "state": {
       "description_width": ""
      }
     },
     "dc2421c28dab4c47b86267d90ccad087": {
      "model_module": "@jupyter-widgets/controls",
      "model_module_version": "1.5.0",
      "model_name": "DescriptionStyleModel",
      "state": {
       "description_width": ""
      }
     },
     "dc744dad24444e358e6abb6e53c71cbf": {
      "model_module": "@jupyter-widgets/controls",
      "model_module_version": "1.5.0",
      "model_name": "HBoxModel",
      "state": {
       "children": [
        "IPY_MODEL_1fc8a56559ec400dbde0fd63c11186aa",
        "IPY_MODEL_9bc0b798e27a472aa31454b09d75c473",
        "IPY_MODEL_c81684263c304077a8c5a71be7a3166d"
       ],
       "layout": "IPY_MODEL_1e13fa38a1a749fea105f0d4ac501380"
      }
     },
     "dca6b333bd22444286f651a72339ae69": {
      "model_module": "@jupyter-widgets/controls",
      "model_module_version": "1.5.0",
      "model_name": "DescriptionStyleModel",
      "state": {
       "description_width": ""
      }
     },
     "dcafe643567a43e2854b9a1143fe2f18": {
      "model_module": "@jupyter-widgets/controls",
      "model_module_version": "1.5.0",
      "model_name": "HTMLModel",
      "state": {
       "layout": "IPY_MODEL_375e11a122ca40f691759af0197bc95e",
       "style": "IPY_MODEL_d0766e18fd3f474b9c3c14609e93203f",
       "value": " 0/12 [00:00&lt;?, ?it/s]"
      }
     },
     "dcc1f7b4354849dbad1d9074bb47bfb6": {
      "model_module": "@jupyter-widgets/controls",
      "model_module_version": "1.5.0",
      "model_name": "DescriptionStyleModel",
      "state": {
       "description_width": ""
      }
     },
     "dccb90542219412bb985dad90f5888e9": {
      "model_module": "@jupyter-widgets/base",
      "model_module_version": "1.2.0",
      "model_name": "LayoutModel",
      "state": {}
     },
     "dcccaa7f776246ef92dada6f9224a8af": {
      "model_module": "@jupyter-widgets/controls",
      "model_module_version": "1.5.0",
      "model_name": "HTMLModel",
      "state": {
       "layout": "IPY_MODEL_f522a77902ef448894b1a50923981959",
       "style": "IPY_MODEL_ba9ed1cbb1aa41b9ac1c74075cec8c3b",
       "value": " 0/12 [00:13&lt;?, ?it/s]"
      }
     },
     "dd002604d38244f79c32532b4f17cce9": {
      "model_module": "@jupyter-widgets/base",
      "model_module_version": "1.2.0",
      "model_name": "LayoutModel",
      "state": {}
     },
     "dd0bb9e876f64f75b4735d5362fb5d7f": {
      "model_module": "@jupyter-widgets/base",
      "model_module_version": "1.2.0",
      "model_name": "LayoutModel",
      "state": {}
     },
     "de5aa6be9c984ac089ee86446ad0562a": {
      "model_module": "@jupyter-widgets/controls",
      "model_module_version": "1.5.0",
      "model_name": "HTMLModel",
      "state": {
       "layout": "IPY_MODEL_c3a289b99e154de2af562b2dd7007ac4",
       "style": "IPY_MODEL_6c6969acc1c6462e8d8a3970bb80047e",
       "value": "100%"
      }
     },
     "de6e22169b594a1aa1fa592520f82c05": {
      "model_module": "@jupyter-widgets/controls",
      "model_module_version": "1.5.0",
      "model_name": "FloatProgressModel",
      "state": {
       "bar_style": "success",
       "layout": "IPY_MODEL_88c287a7808649b0bda56595a1539d5b",
       "max": 12,
       "style": "IPY_MODEL_4df7523566f54fcbac1765e7e6e8e789",
       "value": 12
      }
     },
     "de939089249f46e6b66273ddf0315e57": {
      "model_module": "@jupyter-widgets/base",
      "model_module_version": "1.2.0",
      "model_name": "LayoutModel",
      "state": {}
     },
     "dfaba1ff01484689a27fbedc6fa43047": {
      "model_module": "@jupyter-widgets/controls",
      "model_module_version": "1.5.0",
      "model_name": "HBoxModel",
      "state": {
       "children": [
        "IPY_MODEL_7a417219125448fab5310ccde2806ccd",
        "IPY_MODEL_0b19237d8e7840448c555743c2a214cf",
        "IPY_MODEL_8187a273568749b3b027588ab5bb9f97"
       ],
       "layout": "IPY_MODEL_d6d5f6ce897e4570acf9725dcf78175f"
      }
     },
     "e0110c298b9d4e73aa7bc5c44aded905": {
      "model_module": "@jupyter-widgets/base",
      "model_module_version": "1.2.0",
      "model_name": "LayoutModel",
      "state": {}
     },
     "e0425ae09b2e426aa596429f2b7eaa15": {
      "model_module": "@jupyter-widgets/base",
      "model_module_version": "1.2.0",
      "model_name": "LayoutModel",
      "state": {}
     },
     "e0470648a1474d62a4d6bbc742e50b15": {
      "model_module": "@jupyter-widgets/base",
      "model_module_version": "1.2.0",
      "model_name": "LayoutModel",
      "state": {}
     },
     "e069ad716add4075a4c75803a8ef583f": {
      "model_module": "@jupyter-widgets/base",
      "model_module_version": "1.2.0",
      "model_name": "LayoutModel",
      "state": {}
     },
     "e0c4eb4995d44b539d7215f429a8b8d3": {
      "model_module": "@jupyter-widgets/base",
      "model_module_version": "1.2.0",
      "model_name": "LayoutModel",
      "state": {}
     },
     "e0d993416035499f9582eca86c086062": {
      "model_module": "@jupyter-widgets/controls",
      "model_module_version": "1.5.0",
      "model_name": "HBoxModel",
      "state": {
       "children": [
        "IPY_MODEL_da3e8a80abf3470dbc2875cc05946e59",
        "IPY_MODEL_8e700f506a6a4fcebead89f32dd326eb",
        "IPY_MODEL_246b3a3d2eea48c189e945670f07795e"
       ],
       "layout": "IPY_MODEL_9758da694266463ebe7c6fd567730c7e"
      }
     },
     "e0dbbc95c85b49959f096a382f510df7": {
      "model_module": "@jupyter-widgets/controls",
      "model_module_version": "1.5.0",
      "model_name": "HTMLModel",
      "state": {
       "layout": "IPY_MODEL_4c45bc149bde4e5289e76d5e51c8ef5e",
       "style": "IPY_MODEL_7f7c7619eb0140f9a94ce9dd64bfbab1",
       "value": " 33%"
      }
     },
     "e1153cd0ad0348639f5f3645873c029d": {
      "model_module": "@jupyter-widgets/controls",
      "model_module_version": "1.5.0",
      "model_name": "DescriptionStyleModel",
      "state": {
       "description_width": ""
      }
     },
     "e174472399a841258e89e140346f5f60": {
      "model_module": "@jupyter-widgets/controls",
      "model_module_version": "1.5.0",
      "model_name": "FloatProgressModel",
      "state": {
       "bar_style": "success",
       "layout": "IPY_MODEL_973285f543b04da180d317b372e57865",
       "max": 12,
       "style": "IPY_MODEL_8686af928b784a80b73316a4be77fb2f",
       "value": 12
      }
     },
     "e1ea810d1ba248b6a473aebbefbd4e76": {
      "model_module": "@jupyter-widgets/base",
      "model_module_version": "1.2.0",
      "model_name": "LayoutModel",
      "state": {}
     },
     "e24f5b0fe3e54038982d33b4583ac358": {
      "model_module": "@jupyter-widgets/controls",
      "model_module_version": "1.5.0",
      "model_name": "ProgressStyleModel",
      "state": {
       "description_width": ""
      }
     },
     "e26aacf29bd7497a87c2e654dd392af2": {
      "model_module": "@jupyter-widgets/base",
      "model_module_version": "1.2.0",
      "model_name": "LayoutModel",
      "state": {}
     },
     "e2b1608b3a314fdb90526c3f50cecdea": {
      "model_module": "@jupyter-widgets/base",
      "model_module_version": "1.2.0",
      "model_name": "LayoutModel",
      "state": {}
     },
     "e367e528e0b1411989c73ce0b009c762": {
      "model_module": "@jupyter-widgets/controls",
      "model_module_version": "1.5.0",
      "model_name": "FloatProgressModel",
      "state": {
       "bar_style": "danger",
       "layout": "IPY_MODEL_838d38f4251f421ab673264c9641cbc5",
       "max": 12,
       "style": "IPY_MODEL_1712c997bf6444b8a3ffe13a482a7e55",
       "value": 2
      }
     },
     "e3c17aaccd374015a0286125b95b37a0": {
      "model_module": "@jupyter-widgets/base",
      "model_module_version": "1.2.0",
      "model_name": "LayoutModel",
      "state": {}
     },
     "e413020fadc74d3484d3759bef9c0613": {
      "model_module": "@jupyter-widgets/controls",
      "model_module_version": "1.5.0",
      "model_name": "DescriptionStyleModel",
      "state": {
       "description_width": ""
      }
     },
     "e47d70b0c1c642e292dbd95f6fd2d6e0": {
      "model_module": "@jupyter-widgets/base",
      "model_module_version": "1.2.0",
      "model_name": "LayoutModel",
      "state": {}
     },
     "e482ade11e384c57a20a8c82d6d45af2": {
      "model_module": "@jupyter-widgets/controls",
      "model_module_version": "1.5.0",
      "model_name": "HBoxModel",
      "state": {
       "children": [
        "IPY_MODEL_1f51b3c4198548d6ba855541b36c2ae8",
        "IPY_MODEL_1321b0565a404cc9bbc72fdbd6aecc7b",
        "IPY_MODEL_cf5d03ef16d64629bc883bb8398ee402"
       ],
       "layout": "IPY_MODEL_218d9bcc87044e57bf7e456d94671031"
      }
     },
     "e4b30258c0b3451fb6ea384f3d119ac8": {
      "model_module": "@jupyter-widgets/controls",
      "model_module_version": "1.5.0",
      "model_name": "HTMLModel",
      "state": {
       "layout": "IPY_MODEL_648784e3a5b440b2b0c738f335fd7ee0",
       "style": "IPY_MODEL_492dd4117d084989b86037d032e321dd",
       "value": "  0%"
      }
     },
     "e4d71b37bc1649a5b1387d738ef2ab92": {
      "model_module": "@jupyter-widgets/base",
      "model_module_version": "1.2.0",
      "model_name": "LayoutModel",
      "state": {}
     },
     "e5d9ad0091ef4b0aa6175c549704c701": {
      "model_module": "@jupyter-widgets/controls",
      "model_module_version": "1.5.0",
      "model_name": "HTMLModel",
      "state": {
       "layout": "IPY_MODEL_e4d71b37bc1649a5b1387d738ef2ab92",
       "style": "IPY_MODEL_e1153cd0ad0348639f5f3645873c029d",
       "value": "  0%"
      }
     },
     "e65d31a0094a4423ad10b8193fe0222c": {
      "model_module": "@jupyter-widgets/base",
      "model_module_version": "1.2.0",
      "model_name": "LayoutModel",
      "state": {}
     },
     "e69927dc0d494b8db3e9d810b567d8fd": {
      "model_module": "@jupyter-widgets/controls",
      "model_module_version": "1.5.0",
      "model_name": "ProgressStyleModel",
      "state": {
       "description_width": ""
      }
     },
     "e69c513a9a0c4f36b0065658cca12466": {
      "model_module": "@jupyter-widgets/controls",
      "model_module_version": "1.5.0",
      "model_name": "FloatProgressModel",
      "state": {
       "bar_style": "success",
       "layout": "IPY_MODEL_3eff0e9b5ae84c2ebdf855cf7478afa9",
       "max": 12,
       "style": "IPY_MODEL_434b01507bbd44bf9406c65aee07d890",
       "value": 12
      }
     },
     "e7534ec7995e4daea23cd04fe8b8c599": {
      "model_module": "@jupyter-widgets/controls",
      "model_module_version": "1.5.0",
      "model_name": "HTMLModel",
      "state": {
       "layout": "IPY_MODEL_1f4bebff701f4b98886babc74b2d9e82",
       "style": "IPY_MODEL_f4f703d3cf86482e96bfa67688bc9e25",
       "value": "  8%"
      }
     },
     "e76a798e16bf4208b9176faddad04fbb": {
      "model_module": "@jupyter-widgets/controls",
      "model_module_version": "1.5.0",
      "model_name": "FloatProgressModel",
      "state": {
       "bar_style": "success",
       "layout": "IPY_MODEL_7f9dc6c427214f04b1f9a43b6d3c1851",
       "max": 2,
       "style": "IPY_MODEL_7d8ee92f042a45d8a1c48b7f938c5e5b",
       "value": 2
      }
     },
     "e7c4d24b7f2040728dd53ba577f049f9": {
      "model_module": "@jupyter-widgets/controls",
      "model_module_version": "1.5.0",
      "model_name": "ProgressStyleModel",
      "state": {
       "description_width": ""
      }
     },
     "e8480fc410c74fe6b2c5a0a52ffaf3a0": {
      "model_module": "@jupyter-widgets/controls",
      "model_module_version": "1.5.0",
      "model_name": "HTMLModel",
      "state": {
       "layout": "IPY_MODEL_cf42c55fccd648a086fa859041e9d98c",
       "style": "IPY_MODEL_9216a32f7992405f8adeaae527ab4821",
       "value": " 42%"
      }
     },
     "e84c7dd697d449c68a11b0860a9f27a7": {
      "model_module": "@jupyter-widgets/controls",
      "model_module_version": "1.5.0",
      "model_name": "ProgressStyleModel",
      "state": {
       "description_width": ""
      }
     },
     "e9235906bd044d57bb1c0156fc403c79": {
      "model_module": "@jupyter-widgets/controls",
      "model_module_version": "1.5.0",
      "model_name": "HTMLModel",
      "state": {
       "layout": "IPY_MODEL_86e06e9d5e4d40c89c36a19e3522f950",
       "style": "IPY_MODEL_928d5d852aa641ae9cef3d50927d4f04",
       "value": " 2/2 [00:40&lt;00:00, 20.08s/it]"
      }
     },
     "ea9b02cb557541e6ada5643996c56ae1": {
      "model_module": "@jupyter-widgets/base",
      "model_module_version": "1.2.0",
      "model_name": "LayoutModel",
      "state": {}
     },
     "eab993a849cd426eb9f0a50a923e4e7b": {
      "model_module": "@jupyter-widgets/base",
      "model_module_version": "1.2.0",
      "model_name": "LayoutModel",
      "state": {}
     },
     "eae81cb01e954965a17e68fcb6f54d38": {
      "model_module": "@jupyter-widgets/controls",
      "model_module_version": "1.5.0",
      "model_name": "DescriptionStyleModel",
      "state": {
       "description_width": ""
      }
     },
     "ecfecfaa02cd4773b27dd761e5deb5fb": {
      "model_module": "@jupyter-widgets/controls",
      "model_module_version": "1.5.0",
      "model_name": "FloatProgressModel",
      "state": {
       "bar_style": "danger",
       "layout": "IPY_MODEL_5bbdc81b12c746ab809d932b14f6de98",
       "max": 12,
       "style": "IPY_MODEL_cdda4281225b4bfcaf47afc878c807f1",
       "value": 7
      }
     },
     "ed7886bdb7b14f00a80a462427aef025": {
      "model_module": "@jupyter-widgets/controls",
      "model_module_version": "1.5.0",
      "model_name": "DescriptionStyleModel",
      "state": {
       "description_width": ""
      }
     },
     "ee00536577d54af3aa7b856365fa3d82": {
      "model_module": "@jupyter-widgets/controls",
      "model_module_version": "1.5.0",
      "model_name": "FloatProgressModel",
      "state": {
       "bar_style": "danger",
       "layout": "IPY_MODEL_121d7606c4c24ce98486111d658d8ea7",
       "max": 2,
       "style": "IPY_MODEL_7c944019e9864933bc10e2e38f9fc8b5",
       "value": 1
      }
     },
     "ef00a27ddd91468c924136a1dd4252ca": {
      "model_module": "@jupyter-widgets/controls",
      "model_module_version": "1.5.0",
      "model_name": "HTMLModel",
      "state": {
       "layout": "IPY_MODEL_654cca85038c4a4394d81bc1f0ffc5c0",
       "style": "IPY_MODEL_37c057f1005645ecaad2d74a5688004c",
       "value": " 12/12 [00:00&lt;00:00, 13.60it/s]"
      }
     },
     "ef73216abb0d4111b365c4e43612ecd7": {
      "model_module": "@jupyter-widgets/controls",
      "model_module_version": "1.5.0",
      "model_name": "DescriptionStyleModel",
      "state": {
       "description_width": ""
      }
     },
     "ef967c25e55f4fb0b98c8c168806ef42": {
      "model_module": "@jupyter-widgets/controls",
      "model_module_version": "1.5.0",
      "model_name": "HTMLModel",
      "state": {
       "layout": "IPY_MODEL_a25947eb91f64a1abc5bd691384e7443",
       "style": "IPY_MODEL_9b1225125c974f7da7fffaa004177944",
       "value": "100%"
      }
     },
     "efe8437795bd4da2bc79bdad82708211": {
      "model_module": "@jupyter-widgets/base",
      "model_module_version": "1.2.0",
      "model_name": "LayoutModel",
      "state": {}
     },
     "f00e749df7a5490e92511741a832cefa": {
      "model_module": "@jupyter-widgets/controls",
      "model_module_version": "1.5.0",
      "model_name": "HTMLModel",
      "state": {
       "layout": "IPY_MODEL_daae738ed0ab423b83ff0898943ee0ef",
       "style": "IPY_MODEL_5e94c90924bc43878d7b3fe7915298c4",
       "value": " 12/12 [04:02&lt;00:00, 20.27s/it]"
      }
     },
     "f0f1797c03e240129f2e550c25a6e1fe": {
      "model_module": "@jupyter-widgets/base",
      "model_module_version": "1.2.0",
      "model_name": "LayoutModel",
      "state": {}
     },
     "f0f9861828304487bd30ff873a4d2a87": {
      "model_module": "@jupyter-widgets/controls",
      "model_module_version": "1.5.0",
      "model_name": "HTMLModel",
      "state": {
       "layout": "IPY_MODEL_9d0dec6eeaa34bdea8bec3a610ca43ca",
       "style": "IPY_MODEL_9f8eebfa920245c897dce129ea34f126",
       "value": " 12/12 [05:46&lt;00:00, 28.44s/it]"
      }
     },
     "f1784663dab74548a8781cafcb48d2f8": {
      "model_module": "@jupyter-widgets/controls",
      "model_module_version": "1.5.0",
      "model_name": "HBoxModel",
      "state": {
       "children": [
        "IPY_MODEL_78230d1261814a42998095fa70d2e26b",
        "IPY_MODEL_ee00536577d54af3aa7b856365fa3d82",
        "IPY_MODEL_145dbe7bbec747f5b7f5072af81e00b5"
       ],
       "layout": "IPY_MODEL_1dacacca519848c59d29a6505decbdef"
      }
     },
     "f289b71fc1454eac907441b233130264": {
      "model_module": "@jupyter-widgets/controls",
      "model_module_version": "1.5.0",
      "model_name": "ProgressStyleModel",
      "state": {
       "description_width": ""
      }
     },
     "f29bea73f9af4b4f8dd8a98a90f3a5ff": {
      "model_module": "@jupyter-widgets/base",
      "model_module_version": "1.2.0",
      "model_name": "LayoutModel",
      "state": {}
     },
     "f2e90074a7254d54bec4744a4b7f5a1f": {
      "model_module": "@jupyter-widgets/controls",
      "model_module_version": "1.5.0",
      "model_name": "HBoxModel",
      "state": {
       "children": [
        "IPY_MODEL_324ae89dacee4957adcec84a12aae1f8",
        "IPY_MODEL_e174472399a841258e89e140346f5f60",
        "IPY_MODEL_14b25115653c4c49be7502923a34b53d"
       ],
       "layout": "IPY_MODEL_2cf5155bf2f243a384ee861fdd9f344e"
      }
     },
     "f34c8b41e82e4206b1d2583ca8fcf0c1": {
      "model_module": "@jupyter-widgets/base",
      "model_module_version": "1.2.0",
      "model_name": "LayoutModel",
      "state": {}
     },
     "f351c62f82a6461ab4f2252b20ef2eff": {
      "model_module": "@jupyter-widgets/controls",
      "model_module_version": "1.5.0",
      "model_name": "DescriptionStyleModel",
      "state": {
       "description_width": ""
      }
     },
     "f4d71e8ed8414267b10ccf8225742759": {
      "model_module": "@jupyter-widgets/controls",
      "model_module_version": "1.5.0",
      "model_name": "DescriptionStyleModel",
      "state": {
       "description_width": ""
      }
     },
     "f4e5d1a4219c460faa0c6062d2297602": {
      "model_module": "@jupyter-widgets/controls",
      "model_module_version": "1.5.0",
      "model_name": "DescriptionStyleModel",
      "state": {
       "description_width": ""
      }
     },
     "f4f703d3cf86482e96bfa67688bc9e25": {
      "model_module": "@jupyter-widgets/controls",
      "model_module_version": "1.5.0",
      "model_name": "DescriptionStyleModel",
      "state": {
       "description_width": ""
      }
     },
     "f522a77902ef448894b1a50923981959": {
      "model_module": "@jupyter-widgets/base",
      "model_module_version": "1.2.0",
      "model_name": "LayoutModel",
      "state": {}
     },
     "f569b216ff3c428ba007a74876967a46": {
      "model_module": "@jupyter-widgets/controls",
      "model_module_version": "1.5.0",
      "model_name": "HBoxModel",
      "state": {
       "children": [
        "IPY_MODEL_141c2c65f94c4f20972658bc5dc90662",
        "IPY_MODEL_d0b444365a924b4aa17f1396441bba65",
        "IPY_MODEL_d596e4183fee4b46bc0dcca1333b42ee"
       ],
       "layout": "IPY_MODEL_e0470648a1474d62a4d6bbc742e50b15"
      }
     },
     "f56f283fcbc94d578ac51d55e53129c2": {
      "model_module": "@jupyter-widgets/base",
      "model_module_version": "1.2.0",
      "model_name": "LayoutModel",
      "state": {}
     },
     "f5cefb4c76fa479a88b999959fc4343a": {
      "model_module": "@jupyter-widgets/base",
      "model_module_version": "1.2.0",
      "model_name": "LayoutModel",
      "state": {}
     },
     "f662b36fec804136a4e5b19e068aad03": {
      "model_module": "@jupyter-widgets/controls",
      "model_module_version": "1.5.0",
      "model_name": "DescriptionStyleModel",
      "state": {
       "description_width": ""
      }
     },
     "f68442c2c280400ebb727ac9e5cb0ebc": {
      "model_module": "@jupyter-widgets/controls",
      "model_module_version": "1.5.0",
      "model_name": "DescriptionStyleModel",
      "state": {
       "description_width": ""
      }
     },
     "f68d54ea22fd4b0eaa6106773cbcde66": {
      "model_module": "@jupyter-widgets/controls",
      "model_module_version": "1.5.0",
      "model_name": "HTMLModel",
      "state": {
       "layout": "IPY_MODEL_1b378ebd56054b79856e105642377d5b",
       "style": "IPY_MODEL_04f7f2a4d35b4697a10d1d65e7063fe5",
       "value": " 12/12 [00:41&lt;00:00,  3.40s/it]"
      }
     },
     "f7bb388787d642819c4385da96ace1bd": {
      "model_module": "@jupyter-widgets/controls",
      "model_module_version": "1.5.0",
      "model_name": "HBoxModel",
      "state": {
       "children": [
        "IPY_MODEL_d07873e2c8a54766b7d1e34c32889597",
        "IPY_MODEL_b7d14f1008ff4d9193596d7361dd4c64",
        "IPY_MODEL_c252b204c64542f2a92e9475e03426af"
       ],
       "layout": "IPY_MODEL_53bca03f636f40a08af9c835d2464307"
      }
     },
     "f7de5b778ae04551945d64e7319285ba": {
      "model_module": "@jupyter-widgets/controls",
      "model_module_version": "1.5.0",
      "model_name": "HTMLModel",
      "state": {
       "layout": "IPY_MODEL_f99aa1db1249497bb41d176f29d92635",
       "style": "IPY_MODEL_fc29ce4237ee481bae68e2d10b092d54",
       "value": "  0%"
      }
     },
     "f8a936bab0d5417487b1104c974c2954": {
      "model_module": "@jupyter-widgets/controls",
      "model_module_version": "1.5.0",
      "model_name": "ProgressStyleModel",
      "state": {
       "description_width": ""
      }
     },
     "f923f4b2ae1f44469c5792aa5953c8f4": {
      "model_module": "@jupyter-widgets/controls",
      "model_module_version": "1.5.0",
      "model_name": "DescriptionStyleModel",
      "state": {
       "description_width": ""
      }
     },
     "f9681ab439634e3d98c718ff2af85bca": {
      "model_module": "@jupyter-widgets/controls",
      "model_module_version": "1.5.0",
      "model_name": "DescriptionStyleModel",
      "state": {
       "description_width": ""
      }
     },
     "f99aa1db1249497bb41d176f29d92635": {
      "model_module": "@jupyter-widgets/base",
      "model_module_version": "1.2.0",
      "model_name": "LayoutModel",
      "state": {}
     },
     "f9e463384cb24459b1ee45ee2c7bcb8a": {
      "model_module": "@jupyter-widgets/base",
      "model_module_version": "1.2.0",
      "model_name": "LayoutModel",
      "state": {}
     },
     "fa59c9516e7f4dbeadd4c7bd2e3763b2": {
      "model_module": "@jupyter-widgets/base",
      "model_module_version": "1.2.0",
      "model_name": "LayoutModel",
      "state": {}
     },
     "faa879dfbfe24bc7b9b5482e63e993ae": {
      "model_module": "@jupyter-widgets/controls",
      "model_module_version": "1.5.0",
      "model_name": "FloatProgressModel",
      "state": {
       "bar_style": "success",
       "layout": "IPY_MODEL_793f0ae1f6f54c099060ad6ab63ddb20",
       "max": 12,
       "style": "IPY_MODEL_50ced7ba8a58497c9efab4cc02460c0b",
       "value": 12
      }
     },
     "facc55d64d9e462283fa54b223411d7d": {
      "model_module": "@jupyter-widgets/base",
      "model_module_version": "1.2.0",
      "model_name": "LayoutModel",
      "state": {}
     },
     "fb0318fbb0f84af8bc11057d2ba552b1": {
      "model_module": "@jupyter-widgets/controls",
      "model_module_version": "1.5.0",
      "model_name": "HTMLModel",
      "state": {
       "layout": "IPY_MODEL_983752959f8b4b80ac0f4f57fe625774",
       "style": "IPY_MODEL_b2b61f0a81c844678548e1c134d886a5",
       "value": " 12/12 [05:49&lt;00:00, 28.86s/it]"
      }
     },
     "fc1d898e81144b6bae23ba5caaded4b3": {
      "model_module": "@jupyter-widgets/controls",
      "model_module_version": "1.5.0",
      "model_name": "DescriptionStyleModel",
      "state": {
       "description_width": ""
      }
     },
     "fc29ce4237ee481bae68e2d10b092d54": {
      "model_module": "@jupyter-widgets/controls",
      "model_module_version": "1.5.0",
      "model_name": "DescriptionStyleModel",
      "state": {
       "description_width": ""
      }
     },
     "fc49768bbc354e0caaa3dfc8de2e32c3": {
      "model_module": "@jupyter-widgets/base",
      "model_module_version": "1.2.0",
      "model_name": "LayoutModel",
      "state": {}
     },
     "fc788abdb7614b0894abe168a0d6ab15": {
      "model_module": "@jupyter-widgets/base",
      "model_module_version": "1.2.0",
      "model_name": "LayoutModel",
      "state": {}
     },
     "fcb7e93194424614a52858190d0827be": {
      "model_module": "@jupyter-widgets/base",
      "model_module_version": "1.2.0",
      "model_name": "LayoutModel",
      "state": {}
     },
     "fccd03ad7bc64cd1b17e3fe5e72c29eb": {
      "model_module": "@jupyter-widgets/controls",
      "model_module_version": "1.5.0",
      "model_name": "FloatProgressModel",
      "state": {
       "bar_style": "danger",
       "layout": "IPY_MODEL_2f1cccafc7434922b92f9885d1237582",
       "max": 12,
       "style": "IPY_MODEL_71bafcdc8d3e46f58dbf60670163b319"
      }
     },
     "fcd6b80cbd30401eb5a5158ed4bef0d1": {
      "model_module": "@jupyter-widgets/controls",
      "model_module_version": "1.5.0",
      "model_name": "HTMLModel",
      "state": {
       "layout": "IPY_MODEL_2ab131a5c31349808d9fdd5c0eb4ed1f",
       "style": "IPY_MODEL_b495515cbdb54afa86320b944317c0e7",
       "value": " 0/12 [00:00&lt;?, ?it/s]"
      }
     },
     "fd669ecdce26459696ed2b52ed7001e5": {
      "model_module": "@jupyter-widgets/controls",
      "model_module_version": "1.5.0",
      "model_name": "ProgressStyleModel",
      "state": {
       "description_width": ""
      }
     },
     "fd6fd68f3a4644db91a9e9b31f0b3aa7": {
      "model_module": "@jupyter-widgets/base",
      "model_module_version": "1.2.0",
      "model_name": "LayoutModel",
      "state": {}
     },
     "fd8d0e3023a04f0f9a6d551388d5c77e": {
      "model_module": "@jupyter-widgets/controls",
      "model_module_version": "1.5.0",
      "model_name": "DescriptionStyleModel",
      "state": {
       "description_width": ""
      }
     },
     "fdb7f9563c9e4f018c5a9d8e675dbad6": {
      "model_module": "@jupyter-widgets/controls",
      "model_module_version": "1.5.0",
      "model_name": "FloatProgressModel",
      "state": {
       "bar_style": "success",
       "layout": "IPY_MODEL_fcb7e93194424614a52858190d0827be",
       "max": 12,
       "style": "IPY_MODEL_c403febc81d945faa023d1b599b6fd79",
       "value": 12
      }
     },
     "fdda5a7982d34c32888cd5f7bb939831": {
      "model_module": "@jupyter-widgets/controls",
      "model_module_version": "1.5.0",
      "model_name": "HTMLModel",
      "state": {
       "layout": "IPY_MODEL_76ce391cb8ac4a1486036cc875c0f600",
       "style": "IPY_MODEL_9022bf83211f491398795864e981d933",
       "value": " 12/12 [05:46&lt;00:00, 28.88s/it]"
      }
     },
     "fe25d15fab7249f79b5d74f24939627e": {
      "model_module": "@jupyter-widgets/controls",
      "model_module_version": "1.5.0",
      "model_name": "FloatProgressModel",
      "state": {
       "bar_style": "danger",
       "layout": "IPY_MODEL_277e362bb5504691bb8d1e1548cafdd8",
       "max": 2,
       "style": "IPY_MODEL_d29378b79a194055b8ded4ef2063504c"
      }
     }
    },
    "version_major": 2,
    "version_minor": 0
   }
  }
 },
 "nbformat": 4,
 "nbformat_minor": 5
}
