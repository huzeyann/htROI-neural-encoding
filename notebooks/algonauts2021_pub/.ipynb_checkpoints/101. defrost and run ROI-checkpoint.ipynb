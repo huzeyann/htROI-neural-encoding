{
 "cells": [
  {
   "cell_type": "code",
   "execution_count": 1,
   "id": "467b864f-82d7-45d6-a2d8-a253a6d23a8d",
   "metadata": {},
   "outputs": [
    {
     "data": {
      "text/plain": [
       "True"
      ]
     },
     "execution_count": 1,
     "metadata": {},
     "output_type": "execute_result"
    }
   ],
   "source": [
    "import numpy as np\n",
    "import torch\n",
    "\n",
    "from tqdm.auto import tqdm\n",
    "from pathlib import Path\n",
    "\n",
    "import itertools\n",
    "\n",
    "import os\n",
    "from dotenv import find_dotenv, load_dotenv\n",
    "\n",
    "load_dotenv(find_dotenv(), verbose=True)"
   ]
  },
  {
   "cell_type": "code",
   "execution_count": 2,
   "id": "37e19b38-b602-4093-b1a2-f2f8dd237e20",
   "metadata": {},
   "outputs": [],
   "source": [
    "!rm -r /home/huze/.cache/checkpoints"
   ]
  },
  {
   "cell_type": "code",
   "execution_count": 3,
   "id": "18318a33-3ee7-41e8-815a-9e5da9561e17",
   "metadata": {},
   "outputs": [],
   "source": [
    "exp_configs = sorted([p for p in Path('../../src/config/experiments/algonauts2021/').iterdir() if p.name.endswith('.yml')])[::-1]"
   ]
  },
  {
   "cell_type": "code",
   "execution_count": 4,
   "id": "4bbe2c5d-79d2-4b53-ad2d-708a812eb180",
   "metadata": {},
   "outputs": [
    {
     "data": {
      "text/plain": [
       "[PosixPath('../../src/config/experiments/algonauts2021/algonauts2021_audio_vgg.yml'),\n",
       " PosixPath('../../src/config/experiments/algonauts2021/algonauts2021_3d_swin.yml'),\n",
       " PosixPath('../../src/config/experiments/algonauts2021/algonauts2021_3d_resnet.yml'),\n",
       " PosixPath('../../src/config/experiments/algonauts2021/algonauts2021_3d_flow.yml'),\n",
       " PosixPath('../../src/config/experiments/algonauts2021/algonauts2021_2d_simclr.yml'),\n",
       " PosixPath('../../src/config/experiments/algonauts2021/algonauts2021_2d_segswin.yml'),\n",
       " PosixPath('../../src/config/experiments/algonauts2021/algonauts2021_2d_pyconvsegnet.yml'),\n",
       " PosixPath('../../src/config/experiments/algonauts2021/algonauts2021_2d_mobyswin.yml'),\n",
       " PosixPath('../../src/config/experiments/algonauts2021/algonauts2021_2d_densnet.yml'),\n",
       " PosixPath('../../src/config/experiments/algonauts2021/algonauts2021_2d_colorizer.yml'),\n",
       " PosixPath('../../src/config/experiments/algonauts2021/algonauts2021_2d_bdcnvgg.yml')]"
      ]
     },
     "execution_count": 4,
     "metadata": {},
     "output_type": "execute_result"
    }
   ],
   "source": [
    "exp_configs"
   ]
  },
  {
   "cell_type": "code",
   "execution_count": 5,
   "id": "0f6f6897-0d6c-46da-b50c-1e67068b191c",
   "metadata": {},
   "outputs": [
    {
     "data": {
      "text/plain": [
       "'/data/huze/ray_results/algonauts2021/'"
      ]
     },
     "execution_count": 5,
     "metadata": {},
     "output_type": "execute_result"
    }
   ],
   "source": [
    "os.environ['RESULTS_DIR']"
   ]
  },
  {
   "cell_type": "code",
   "execution_count": 28,
   "id": "59fc47ca-e27e-4102-884d-9105dfb7d843",
   "metadata": {},
   "outputs": [],
   "source": [
    "import pandas as pd\n",
    "defrost_df = pd.read_csv('./config/defrost_df.csv')"
   ]
  },
  {
   "cell_type": "code",
   "execution_count": 29,
   "id": "4321335b-6409-4e50-abd2-7fe1af87999d",
   "metadata": {},
   "outputs": [
    {
     "data": {
      "text/html": [
       "<div>\n",
       "<style scoped>\n",
       "    .dataframe tbody tr th:only-of-type {\n",
       "        vertical-align: middle;\n",
       "    }\n",
       "\n",
       "    .dataframe tbody tr th {\n",
       "        vertical-align: top;\n",
       "    }\n",
       "\n",
       "    .dataframe thead th {\n",
       "        text-align: right;\n",
       "    }\n",
       "</style>\n",
       "<table border=\"1\" class=\"dataframe\">\n",
       "  <thead>\n",
       "    <tr style=\"text-align: right;\">\n",
       "      <th></th>\n",
       "      <th>Unnamed: 0</th>\n",
       "      <th>MODEL.BACKBONE.NAME</th>\n",
       "      <th>DATASET.ROI</th>\n",
       "      <th>score</th>\n",
       "      <th>defrost_score</th>\n",
       "    </tr>\n",
       "  </thead>\n",
       "  <tbody>\n",
       "    <tr>\n",
       "      <th>0</th>\n",
       "      <td>0</td>\n",
       "      <td>i3d_flow</td>\n",
       "      <td>i3d_flow_htROI1</td>\n",
       "      <td>0.206220</td>\n",
       "      <td>0.102</td>\n",
       "    </tr>\n",
       "    <tr>\n",
       "      <th>1</th>\n",
       "      <td>9</td>\n",
       "      <td>i3d_flow</td>\n",
       "      <td>S-htROI4</td>\n",
       "      <td>0.076862</td>\n",
       "      <td>0.039</td>\n",
       "    </tr>\n",
       "    <tr>\n",
       "      <th>2</th>\n",
       "      <td>10</td>\n",
       "      <td>i3d_flow</td>\n",
       "      <td>S-htROI6</td>\n",
       "      <td>0.174441</td>\n",
       "      <td>0.087</td>\n",
       "    </tr>\n",
       "    <tr>\n",
       "      <th>3</th>\n",
       "      <td>11</td>\n",
       "      <td>i3d_flow</td>\n",
       "      <td>S-htROI8</td>\n",
       "      <td>0.310225</td>\n",
       "      <td>0.156</td>\n",
       "    </tr>\n",
       "    <tr>\n",
       "      <th>4</th>\n",
       "      <td>12</td>\n",
       "      <td>i3d_flow</td>\n",
       "      <td>S-htROI1</td>\n",
       "      <td>0.348041</td>\n",
       "      <td>0.174</td>\n",
       "    </tr>\n",
       "    <tr>\n",
       "      <th>...</th>\n",
       "      <td>...</td>\n",
       "      <td>...</td>\n",
       "      <td>...</td>\n",
       "      <td>...</td>\n",
       "      <td>...</td>\n",
       "    </tr>\n",
       "    <tr>\n",
       "      <th>233</th>\n",
       "      <td>3801</td>\n",
       "      <td>3d_swin</td>\n",
       "      <td>3d_swin_htROI4</td>\n",
       "      <td>0.278513</td>\n",
       "      <td>0.138</td>\n",
       "    </tr>\n",
       "    <tr>\n",
       "      <th>234</th>\n",
       "      <td>3802</td>\n",
       "      <td>3d_swin</td>\n",
       "      <td>3d_swin_htROI1</td>\n",
       "      <td>0.303498</td>\n",
       "      <td>0.153</td>\n",
       "    </tr>\n",
       "    <tr>\n",
       "      <th>235</th>\n",
       "      <td>3803</td>\n",
       "      <td>3d_swin</td>\n",
       "      <td>3d_swin_htROI3</td>\n",
       "      <td>0.038273</td>\n",
       "      <td>0.018</td>\n",
       "    </tr>\n",
       "    <tr>\n",
       "      <th>236</th>\n",
       "      <td>3804</td>\n",
       "      <td>3d_swin</td>\n",
       "      <td>3d_swin_htROI2</td>\n",
       "      <td>0.229269</td>\n",
       "      <td>0.114</td>\n",
       "    </tr>\n",
       "    <tr>\n",
       "      <th>237</th>\n",
       "      <td>3805</td>\n",
       "      <td>3d_swin</td>\n",
       "      <td>3d_swin_htROI5</td>\n",
       "      <td>0.326812</td>\n",
       "      <td>0.162</td>\n",
       "    </tr>\n",
       "  </tbody>\n",
       "</table>\n",
       "<p>238 rows × 5 columns</p>\n",
       "</div>"
      ],
      "text/plain": [
       "     Unnamed: 0 MODEL.BACKBONE.NAME      DATASET.ROI     score  defrost_score\n",
       "0             0            i3d_flow  i3d_flow_htROI1  0.206220          0.102\n",
       "1             9            i3d_flow         S-htROI4  0.076862          0.039\n",
       "2            10            i3d_flow         S-htROI6  0.174441          0.087\n",
       "3            11            i3d_flow         S-htROI8  0.310225          0.156\n",
       "4            12            i3d_flow         S-htROI1  0.348041          0.174\n",
       "..          ...                 ...              ...       ...            ...\n",
       "233        3801             3d_swin   3d_swin_htROI4  0.278513          0.138\n",
       "234        3802             3d_swin   3d_swin_htROI1  0.303498          0.153\n",
       "235        3803             3d_swin   3d_swin_htROI3  0.038273          0.018\n",
       "236        3804             3d_swin   3d_swin_htROI2  0.229269          0.114\n",
       "237        3805             3d_swin   3d_swin_htROI5  0.326812          0.162\n",
       "\n",
       "[238 rows x 5 columns]"
      ]
     },
     "execution_count": 29,
     "metadata": {},
     "output_type": "execute_result"
    }
   ],
   "source": [
    "defrost_df"
   ]
  },
  {
   "cell_type": "code",
   "execution_count": 30,
   "id": "d994885f-8f8b-4c58-b307-1d99ffb0f420",
   "metadata": {},
   "outputs": [],
   "source": [
    "from src.utils.runs import my_query_df\n",
    "from src.config.config import convert_to_dict, flatten"
   ]
  },
  {
   "cell_type": "code",
   "execution_count": 31,
   "id": "6ea453de-cbd7-4a05-8a78-7f5c05bf436f",
   "metadata": {},
   "outputs": [],
   "source": [
    "from src.grid_runner import run_single_train\n",
    "from src.grid_runner import run_single_tune_config\n",
    "from src.config import get_cfg_defaults, combine_cfgs\n",
    "from ray import tune"
   ]
  },
  {
   "cell_type": "code",
   "execution_count": 10,
   "id": "678e8a05-4760-453a-8db4-3b7fbdb4c637",
   "metadata": {},
   "outputs": [],
   "source": [
    "debug = False"
   ]
  },
  {
   "cell_type": "code",
   "execution_count": 11,
   "id": "337b26bc-eb34-46d3-bc8b-8fe061c5a1ce",
   "metadata": {},
   "outputs": [],
   "source": [
    "rois = ['LOC', 'FFA', 'STS', 'EBA', 'PPA', 'V1', 'V2', 'V3', 'V4', 'REST']\n",
    "name_pfix = 'anatomicalROI'"
   ]
  },
  {
   "cell_type": "code",
   "execution_count": 12,
   "id": "08cdb6a3-0967-4e66-8f11-4f934ee3be43",
   "metadata": {
    "tags": []
   },
   "outputs": [
    {
     "data": {
      "text/html": [
       "== Status ==<br>Current time: 2022-03-19 02:29:28 (running for 00:15:12.06)<br>Memory usage on this node: 14.0/62.7 GiB<br>Using FIFO scheduling algorithm.<br>Resources requested: 0/20 CPUs, 0/2 GPUs, 0.0/36.94 GiB heap, 0.0/18.47 GiB objects<br>Result logdir: /data/huze/ray_results/algonauts2021/algonauts2021_2d_bdcnvgg_multilayer_defrost_anatomicalROI<br>Number of trials: 10/10 (10 TERMINATED)<br><br>"
      ],
      "text/plain": [
       "<IPython.core.display.HTML object>"
      ]
     },
     "metadata": {},
     "output_type": "display_data"
    },
    {
     "name": "stderr",
     "output_type": "stream",
     "text": [
      "2022-03-19 02:29:28,685\tINFO tune.py:636 -- Total run time: 912.19 seconds (912.06 seconds for the tuning loop).\n"
     ]
    }
   ],
   "source": [
    "analysis_list = []\n",
    "for exp_config in exp_configs:\n",
    "    cfg = combine_cfgs(\n",
    "        path_cfg_data=exp_config,\n",
    "        list_cfg_override=['DEBUG', debug]\n",
    "    )\n",
    "    \n",
    "    name = exp_config.name.replace('.yml', '')\n",
    "    \n",
    "    model_defrost_df = defrost_df[defrost_df['MODEL.BACKBONE.NAME'] == cfg.MODEL.BACKBONE.NAME]\n",
    "    \n",
    "    # single-layer 4x4 run\n",
    "    analysis = tune.run(\n",
    "        tune.with_parameters(\n",
    "            run_single_tune_config,\n",
    "            cfg=cfg\n",
    "        ),\n",
    "        config={\n",
    "            'DATASET.ROI': tune.grid_search(rois),\n",
    "            'MODEL.BACKBONE.LAYERS': tune.grid_search([[i] for i in cfg.MODEL.BACKBONE.LAYERS]),\n",
    "            'MODEL.NECK.SPP_LEVELS': tune.grid_search([[i] for i in cfg.MODEL.NECK.SPP_LEVELS]),\n",
    "            'MODEL.NECK.FIRST_CONV_SIZE': tune.sample_from(\n",
    "                lambda spec: {1: 2048, 2: 1024, 3: 512, 6: 256, 7: 256, 14: -1, 28: -1, 42: -1, 56: -1}[\n",
    "                    np.max(spec.config['MODEL.NECK.SPP_LEVELS'])]),\n",
    "            'TRAINER.CALLBACKS.BACKBONE.DEFROST_SCORE': tune.sample_from(\n",
    "                lambda spec: model_defrost_df[model_defrost_df['DATASET.ROI'] == spec.config['DATASET.ROI']]['defrost_score'].item())\n",
    "            # tune.grid_search([defrost_score]),\n",
    "        },\n",
    "        local_dir=cfg.RESULTS_DIR,\n",
    "        resources_per_trial={\"cpu\": 4, \"gpu\": 1},\n",
    "        name=name + '_singlelayer_defrost_' + name_pfix,\n",
    "        verbose=1,\n",
    "        resume='AUTO',\n",
    "    )\n",
    "    analysis_list.append(analysis)\n",
    "    \n",
    "    # multi-layer 1 run\n",
    "    analysis = tune.run(\n",
    "        tune.with_parameters(\n",
    "            run_single_tune_config,\n",
    "            cfg=cfg\n",
    "        ),\n",
    "        config={\n",
    "            'DATASET.ROI': tune.grid_search(rois),\n",
    "            'MODEL.BACKBONE.LAYERS': tune.grid_search([cfg.MODEL.BACKBONE.LAYERS]),\n",
    "            'MODEL.NECK.SPP_LEVELS': tune.grid_search([cfg.MODEL.NECK.SPP_LEVELS]),\n",
    "            'MODEL.NECK.FIRST_CONV_SIZE': tune.sample_from(\n",
    "                lambda spec: {1: 2048, 2: 1024, 3: 512, 6: 256, 7: 256, 14: -1, 28: -1, 42: -1, 56: -1}[\n",
    "                    np.max(spec.config['MODEL.NECK.SPP_LEVELS'])]),\n",
    "            'TRAINER.CALLBACKS.BACKBONE.DEFROST_SCORE': tune.sample_from(\n",
    "                lambda spec: model_defrost_df[model_defrost_df['DATASET.ROI'] == spec.config['DATASET.ROI']]['defrost_score'].item())\n",
    "            # tune.grid_search([defrost_score]),\n",
    "        },\n",
    "        local_dir=cfg.RESULTS_DIR,\n",
    "        resources_per_trial={\"cpu\": 4, \"gpu\": 1},\n",
    "        name=name + '_multilayer_defrost_' + name_pfix,\n",
    "        verbose=1,\n",
    "        resume='AUTO',\n",
    "    )\n",
    "    analysis_list.append(analysis)\n"
   ]
  },
  {
   "cell_type": "code",
   "execution_count": 24,
   "id": "4e9799d6-73e5-4963-9fcf-3e35dbd98db4",
   "metadata": {},
   "outputs": [],
   "source": [
    "rois = [f'S-htROI{i+1}' for i in range(8)]\n",
    "name_pfix = 'htROI'"
   ]
  },
  {
   "cell_type": "code",
   "execution_count": null,
   "id": "0d0f88b9-b310-4999-8cf2-8f1ab7e3b818",
   "metadata": {
    "tags": []
   },
   "outputs": [
    {
     "data": {
      "text/html": [
       "== Status ==<br>Current time: 2022-03-22 14:11:58 (running for 05:19:11.58)<br>Memory usage on this node: 12.5/62.7 GiB<br>Using FIFO scheduling algorithm.<br>Resources requested: 8.0/20 CPUs, 2.0/2 GPUs, 0.0/36.63 GiB heap, 0.0/18.31 GiB objects<br>Result logdir: /data/huze/ray_results/algonauts2021/algonauts2021_2d_pyconvsegnet_singlelayer_defrost_htROI<br>Number of trials: 55/128 (22 PENDING, 2 RUNNING, 31 TERMINATED)<br><br>"
      ],
      "text/plain": [
       "<IPython.core.display.HTML object>"
      ]
     },
     "metadata": {},
     "output_type": "display_data"
    },
    {
     "name": "stdout",
     "output_type": "stream",
     "text": [
      "Epoch 8:  68%|██████▊   | 339/500 [01:01<00:29,  5.50it/s, loss=0.221, v_num=., val_mse_loss/final=0.244, val_corr=0.268, hp_metric=0.268, train_mse_loss/final=0.224]\n",
      "Epoch 3:  34%|███▍      | 171/500 [00:08<00:16, 19.73it/s, loss=0.256, v_num=., val_mse_loss/final=0.283, val_corr=0.0588, hp_metric=0.0588, train_mse_loss/final=0.270]\n",
      "Epoch 3:  35%|███▍      | 173/500 [00:08<00:16, 19.74it/s, loss=0.259, v_num=., val_mse_loss/final=0.283, val_corr=0.0588, hp_metric=0.0588, train_mse_loss/final=0.270]\n",
      "Epoch 8:  68%|██████▊   | 340/500 [01:01<00:29,  5.50it/s, loss=0.221, v_num=., val_mse_loss/final=0.244, val_corr=0.268, hp_metric=0.268, train_mse_loss/final=0.224]\n",
      "Epoch 3:  35%|███▌      | 175/500 [00:08<00:16, 19.74it/s, loss=0.254, v_num=., val_mse_loss/final=0.283, val_corr=0.0588, hp_metric=0.0588, train_mse_loss/final=0.270]\n",
      "Epoch 3:  36%|███▌      | 178/500 [00:09<00:16, 19.73it/s, loss=0.252, v_num=., val_mse_loss/final=0.283, val_corr=0.0588, hp_metric=0.0588, train_mse_loss/final=0.270]\n",
      "Epoch 8:  68%|██████▊   | 341/500 [01:02<00:28,  5.50it/s, loss=0.221, v_num=., val_mse_loss/final=0.244, val_corr=0.268, hp_metric=0.268, train_mse_loss/final=0.224]\n",
      "Epoch 3:  36%|███▌      | 180/500 [00:09<00:16, 19.74it/s, loss=0.253, v_num=., val_mse_loss/final=0.283, val_corr=0.0588, hp_metric=0.0588, train_mse_loss/final=0.270]\n",
      "Epoch 8:  68%|██████▊   | 342/500 [01:02<00:28,  5.50it/s, loss=0.227, v_num=., val_mse_loss/final=0.244, val_corr=0.268, hp_metric=0.268, train_mse_loss/final=0.224]\n",
      "Epoch 3:  36%|███▋      | 182/500 [00:09<00:16, 19.74it/s, loss=0.248, v_num=., val_mse_loss/final=0.283, val_corr=0.0588, hp_metric=0.0588, train_mse_loss/final=0.270]\n",
      "Epoch 3:  37%|███▋      | 184/500 [00:09<00:16, 19.75it/s, loss=0.25, v_num=., val_mse_loss/final=0.283, val_corr=0.0588, hp_metric=0.0588, train_mse_loss/final=0.270] \n",
      "Epoch 8:  69%|██████▊   | 343/500 [01:02<00:28,  5.50it/s, loss=0.227, v_num=., val_mse_loss/final=0.244, val_corr=0.268, hp_metric=0.268, train_mse_loss/final=0.224]\n",
      "Epoch 3:  37%|███▋      | 186/500 [00:09<00:15, 19.75it/s, loss=0.255, v_num=., val_mse_loss/final=0.283, val_corr=0.0588, hp_metric=0.0588, train_mse_loss/final=0.270]\n",
      "Epoch 3:  38%|███▊      | 188/500 [00:09<00:15, 19.76it/s, loss=0.25, v_num=., val_mse_loss/final=0.283, val_corr=0.0588, hp_metric=0.0588, train_mse_loss/final=0.270] \n",
      "Epoch 8:  69%|██████▉   | 344/500 [01:02<00:28,  5.50it/s, loss=0.225, v_num=., val_mse_loss/final=0.244, val_corr=0.268, hp_metric=0.268, train_mse_loss/final=0.224]\n",
      "Epoch 3:  38%|███▊      | 190/500 [00:09<00:15, 19.76it/s, loss=0.252, v_num=., val_mse_loss/final=0.283, val_corr=0.0588, hp_metric=0.0588, train_mse_loss/final=0.270]\n",
      "Epoch 3:  38%|███▊      | 192/500 [00:09<00:15, 19.75it/s, loss=0.253, v_num=., val_mse_loss/final=0.283, val_corr=0.0588, hp_metric=0.0588, train_mse_loss/final=0.270]\n",
      "Epoch 8:  69%|██████▉   | 345/500 [01:02<00:28,  5.50it/s, loss=0.225, v_num=., val_mse_loss/final=0.244, val_corr=0.268, hp_metric=0.268, train_mse_loss/final=0.224]\n",
      "Epoch 3:  39%|███▉      | 194/500 [00:09<00:15, 19.76it/s, loss=0.254, v_num=., val_mse_loss/final=0.283, val_corr=0.0588, hp_metric=0.0588, train_mse_loss/final=0.270]\n",
      "Epoch 8:  69%|██████▉   | 346/500 [01:02<00:28,  5.50it/s, loss=0.224, v_num=., val_mse_loss/final=0.244, val_corr=0.268, hp_metric=0.268, train_mse_loss/final=0.224]\n",
      "Epoch 3:  39%|███▉      | 196/500 [00:09<00:15, 19.76it/s, loss=0.254, v_num=., val_mse_loss/final=0.283, val_corr=0.0588, hp_metric=0.0588, train_mse_loss/final=0.270]\n",
      "Epoch 3:  40%|███▉      | 199/500 [00:10<00:15, 19.76it/s, loss=0.253, v_num=., val_mse_loss/final=0.283, val_corr=0.0588, hp_metric=0.0588, train_mse_loss/final=0.270]\n",
      "Epoch 8:  69%|██████▉   | 347/500 [01:03<00:27,  5.50it/s, loss=0.225, v_num=., val_mse_loss/final=0.244, val_corr=0.268, hp_metric=0.268, train_mse_loss/final=0.224]\n",
      "Epoch 3:  40%|████      | 201/500 [00:10<00:15, 19.77it/s, loss=0.257, v_num=., val_mse_loss/final=0.283, val_corr=0.0588, hp_metric=0.0588, train_mse_loss/final=0.270]\n",
      "Epoch 3:  41%|████      | 203/500 [00:10<00:15, 19.77it/s, loss=0.261, v_num=., val_mse_loss/final=0.283, val_corr=0.0588, hp_metric=0.0588, train_mse_loss/final=0.270]\n",
      "Epoch 8:  70%|██████▉   | 348/500 [01:03<00:27,  5.50it/s, loss=0.224, v_num=., val_mse_loss/final=0.244, val_corr=0.268, hp_metric=0.268, train_mse_loss/final=0.224]\n",
      "Epoch 3:  41%|████      | 205/500 [00:10<00:14, 19.77it/s, loss=0.258, v_num=., val_mse_loss/final=0.283, val_corr=0.0588, hp_metric=0.0588, train_mse_loss/final=0.270]\n",
      "Epoch 8:  70%|██████▉   | 349/500 [01:03<00:27,  5.50it/s, loss=0.221, v_num=., val_mse_loss/final=0.244, val_corr=0.268, hp_metric=0.268, train_mse_loss/final=0.224]\n",
      "Epoch 3:  41%|████▏     | 207/500 [00:10<00:14, 19.77it/s, loss=0.256, v_num=., val_mse_loss/final=0.283, val_corr=0.0588, hp_metric=0.0588, train_mse_loss/final=0.270]\n",
      "Epoch 3:  42%|████▏     | 209/500 [00:10<00:14, 19.77it/s, loss=0.252, v_num=., val_mse_loss/final=0.283, val_corr=0.0588, hp_metric=0.0588, train_mse_loss/final=0.270]\n",
      "Epoch 8:  70%|███████   | 350/500 [01:03<00:27,  5.50it/s, loss=0.22, v_num=., val_mse_loss/final=0.244, val_corr=0.268, hp_metric=0.268, train_mse_loss/final=0.224] \n",
      "Epoch 3:  42%|████▏     | 211/500 [00:10<00:14, 19.77it/s, loss=0.257, v_num=., val_mse_loss/final=0.283, val_corr=0.0588, hp_metric=0.0588, train_mse_loss/final=0.270]\n",
      "Epoch 3:  43%|████▎     | 213/500 [00:10<00:14, 19.77it/s, loss=0.257, v_num=., val_mse_loss/final=0.283, val_corr=0.0588, hp_metric=0.0588, train_mse_loss/final=0.270]\n",
      "Epoch 8:  70%|███████   | 351/500 [01:03<00:27,  5.50it/s, loss=0.216, v_num=., val_mse_loss/final=0.244, val_corr=0.268, hp_metric=0.268, train_mse_loss/final=0.224]\n",
      "Epoch 3:  43%|████▎     | 215/500 [00:10<00:14, 19.78it/s, loss=0.257, v_num=., val_mse_loss/final=0.283, val_corr=0.0588, hp_metric=0.0588, train_mse_loss/final=0.270]\n",
      "Epoch 3:  43%|████▎     | 217/500 [00:10<00:14, 19.78it/s, loss=0.256, v_num=., val_mse_loss/final=0.283, val_corr=0.0588, hp_metric=0.0588, train_mse_loss/final=0.270]\n",
      "Epoch 8:  70%|███████   | 352/500 [01:04<00:26,  5.50it/s, loss=0.215, v_num=., val_mse_loss/final=0.244, val_corr=0.268, hp_metric=0.268, train_mse_loss/final=0.224]\n",
      "Epoch 3:  44%|████▍     | 219/500 [00:11<00:14, 19.78it/s, loss=0.254, v_num=., val_mse_loss/final=0.283, val_corr=0.0588, hp_metric=0.0588, train_mse_loss/final=0.270]\n",
      "Epoch 3:  44%|████▍     | 222/500 [00:11<00:14, 19.79it/s, loss=0.253, v_num=., val_mse_loss/final=0.283, val_corr=0.0588, hp_metric=0.0588, train_mse_loss/final=0.270]\n",
      "Epoch 8:  71%|███████   | 353/500 [01:04<00:26,  5.50it/s, loss=0.216, v_num=., val_mse_loss/final=0.244, val_corr=0.268, hp_metric=0.268, train_mse_loss/final=0.224]\n",
      "Epoch 3:  45%|████▍     | 224/500 [00:11<00:13, 19.78it/s, loss=0.257, v_num=., val_mse_loss/final=0.283, val_corr=0.0588, hp_metric=0.0588, train_mse_loss/final=0.270]\n",
      "Epoch 8:  71%|███████   | 354/500 [01:04<00:26,  5.50it/s, loss=0.216, v_num=., val_mse_loss/final=0.244, val_corr=0.268, hp_metric=0.268, train_mse_loss/final=0.224]\n",
      "Epoch 3:  45%|████▌     | 226/500 [00:11<00:13, 19.78it/s, loss=0.262, v_num=., val_mse_loss/final=0.283, val_corr=0.0588, hp_metric=0.0588, train_mse_loss/final=0.270]\n",
      "Epoch 3:  46%|████▌     | 228/500 [00:11<00:13, 19.78it/s, loss=0.261, v_num=., val_mse_loss/final=0.283, val_corr=0.0588, hp_metric=0.0588, train_mse_loss/final=0.270]\n",
      "Epoch 8:  71%|███████   | 355/500 [01:04<00:26,  5.50it/s, loss=0.216, v_num=., val_mse_loss/final=0.244, val_corr=0.268, hp_metric=0.268, train_mse_loss/final=0.224]\n",
      "Epoch 3:  46%|████▌     | 230/500 [00:11<00:13, 19.78it/s, loss=0.264, v_num=., val_mse_loss/final=0.283, val_corr=0.0588, hp_metric=0.0588, train_mse_loss/final=0.270]\n",
      "Epoch 3:  46%|████▋     | 232/500 [00:11<00:13, 19.78it/s, loss=0.266, v_num=., val_mse_loss/final=0.283, val_corr=0.0588, hp_metric=0.0588, train_mse_loss/final=0.270]\n",
      "Epoch 8:  71%|███████   | 356/500 [01:04<00:26,  5.50it/s, loss=0.217, v_num=., val_mse_loss/final=0.244, val_corr=0.268, hp_metric=0.268, train_mse_loss/final=0.224]\n",
      "Epoch 3:  47%|████▋     | 234/500 [00:11<00:13, 19.79it/s, loss=0.268, v_num=., val_mse_loss/final=0.283, val_corr=0.0588, hp_metric=0.0588, train_mse_loss/final=0.270]\n",
      "Epoch 8:  71%|███████▏  | 357/500 [01:04<00:26,  5.50it/s, loss=0.218, v_num=., val_mse_loss/final=0.244, val_corr=0.268, hp_metric=0.268, train_mse_loss/final=0.224]\n",
      "Epoch 3:  47%|████▋     | 236/500 [00:11<00:13, 19.79it/s, loss=0.267, v_num=., val_mse_loss/final=0.283, val_corr=0.0588, hp_metric=0.0588, train_mse_loss/final=0.270]\n",
      "Epoch 3:  48%|████▊     | 238/500 [00:12<00:13, 19.79it/s, loss=0.274, v_num=., val_mse_loss/final=0.283, val_corr=0.0588, hp_metric=0.0588, train_mse_loss/final=0.270]\n",
      "Epoch 8:  72%|███████▏  | 358/500 [01:05<00:25,  5.50it/s, loss=0.217, v_num=., val_mse_loss/final=0.244, val_corr=0.268, hp_metric=0.268, train_mse_loss/final=0.224]\n",
      "Epoch 3:  48%|████▊     | 240/500 [00:12<00:13, 19.78it/s, loss=0.276, v_num=., val_mse_loss/final=0.283, val_corr=0.0588, hp_metric=0.0588, train_mse_loss/final=0.270]\n",
      "Epoch 3:  48%|████▊     | 242/500 [00:12<00:13, 19.79it/s, loss=0.275, v_num=., val_mse_loss/final=0.283, val_corr=0.0588, hp_metric=0.0588, train_mse_loss/final=0.270]\n",
      "Epoch 8:  72%|███████▏  | 359/500 [01:05<00:25,  5.50it/s, loss=0.217, v_num=., val_mse_loss/final=0.244, val_corr=0.268, hp_metric=0.268, train_mse_loss/final=0.224]\n",
      "Epoch 3:  49%|████▉     | 244/500 [00:12<00:12, 19.79it/s, loss=0.267, v_num=., val_mse_loss/final=0.283, val_corr=0.0588, hp_metric=0.0588, train_mse_loss/final=0.270]\n",
      "Epoch 3:  49%|████▉     | 245/500 [00:12<00:12, 19.79it/s, loss=0.269, v_num=., val_mse_loss/final=0.283, val_corr=0.0588, hp_metric=0.0588, train_mse_loss/final=0.270]\n",
      "Epoch 8:  72%|███████▏  | 360/500 [01:05<00:25,  5.50it/s, loss=0.22, v_num=., val_mse_loss/final=0.244, val_corr=0.268, hp_metric=0.268, train_mse_loss/final=0.224] \n",
      "Epoch 3:  49%|████▉     | 247/500 [00:12<00:12, 19.79it/s, loss=0.271, v_num=., val_mse_loss/final=0.283, val_corr=0.0588, hp_metric=0.0588, train_mse_loss/final=0.270]\n",
      "Epoch 3:  50%|████▉     | 249/500 [00:12<00:12, 19.79it/s, loss=0.274, v_num=., val_mse_loss/final=0.283, val_corr=0.0588, hp_metric=0.0588, train_mse_loss/final=0.270]\n",
      "Epoch 8:  72%|███████▏  | 361/500 [01:05<00:25,  5.50it/s, loss=0.22, v_num=., val_mse_loss/final=0.244, val_corr=0.268, hp_metric=0.268, train_mse_loss/final=0.224]\n",
      "Epoch 3:  50%|█████     | 251/500 [00:12<00:12, 19.80it/s, loss=0.27, v_num=., val_mse_loss/final=0.283, val_corr=0.0588, hp_metric=0.0588, train_mse_loss/final=0.270] \n",
      "Epoch 3:  51%|█████     | 253/500 [00:12<00:12, 19.80it/s, loss=0.267, v_num=., val_mse_loss/final=0.283, val_corr=0.0588, hp_metric=0.0588, train_mse_loss/final=0.270]\n"
     ]
    }
   ],
   "source": [
    "analysis_list = []\n",
    "for exp_config in exp_configs:\n",
    "    cfg = combine_cfgs(\n",
    "        path_cfg_data=exp_config,\n",
    "        list_cfg_override=['DEBUG', debug]\n",
    "    )\n",
    "    \n",
    "    name = exp_config.name.replace('.yml', '')\n",
    "    \n",
    "    model_defrost_df = defrost_df[defrost_df['MODEL.BACKBONE.NAME'] == cfg.MODEL.BACKBONE.NAME]\n",
    "    \n",
    "    # single-layer 4x4 run\n",
    "    analysis = tune.run(\n",
    "        tune.with_parameters(\n",
    "            run_single_tune_config,\n",
    "            cfg=cfg\n",
    "        ),\n",
    "        config={\n",
    "            'DATASET.ROI': tune.grid_search(rois),\n",
    "            'MODEL.BACKBONE.LAYERS': tune.grid_search([[i] for i in cfg.MODEL.BACKBONE.LAYERS]),\n",
    "            'MODEL.NECK.SPP_LEVELS': tune.grid_search([[i] for i in cfg.MODEL.NECK.SPP_LEVELS]),\n",
    "            'MODEL.NECK.FIRST_CONV_SIZE': tune.sample_from(\n",
    "                lambda spec: {1: 2048, 2: 1024, 3: 512, 6: 256, 7: 256, 14: -1, 28: -1, 42: -1, 56: -1}[\n",
    "                    np.max(spec.config['MODEL.NECK.SPP_LEVELS'])]),\n",
    "            'TRAINER.CALLBACKS.BACKBONE.DEFROST_SCORE': tune.sample_from(\n",
    "                lambda spec: model_defrost_df[model_defrost_df['DATASET.ROI'] == spec.config['DATASET.ROI']]['defrost_score'].item())\n",
    "            # tune.grid_search([defrost_score]),\n",
    "        },\n",
    "        local_dir=cfg.RESULTS_DIR,\n",
    "        resources_per_trial={\"cpu\": 4, \"gpu\": 1},\n",
    "        name=name + '_singlelayer_defrost_' + name_pfix,\n",
    "        verbose=1,\n",
    "        resume='AUTO',\n",
    "    )\n",
    "    analysis_list.append(analysis)\n",
    "    \n",
    "    # multi-layer 1 run\n",
    "    analysis = tune.run(\n",
    "        tune.with_parameters(\n",
    "            run_single_tune_config,\n",
    "            cfg=cfg\n",
    "        ),\n",
    "        config={\n",
    "            'DATASET.ROI': tune.grid_search(rois),\n",
    "            'MODEL.BACKBONE.LAYERS': tune.grid_search([cfg.MODEL.BACKBONE.LAYERS]),\n",
    "            'MODEL.NECK.SPP_LEVELS': tune.grid_search([cfg.MODEL.NECK.SPP_LEVELS]),\n",
    "            'MODEL.NECK.FIRST_CONV_SIZE': tune.sample_from(\n",
    "                lambda spec: {1: 2048, 2: 1024, 3: 512, 6: 256, 7: 256, 14: -1, 28: -1, 42: -1, 56: -1}[\n",
    "                    np.max(spec.config['MODEL.NECK.SPP_LEVELS'])]),\n",
    "            'TRAINER.CALLBACKS.BACKBONE.DEFROST_SCORE': tune.sample_from(\n",
    "                lambda spec: model_defrost_df[model_defrost_df['DATASET.ROI'] == spec.config['DATASET.ROI']]['defrost_score'].item())\n",
    "            # tune.grid_search([defrost_score]),\n",
    "        },\n",
    "        local_dir=cfg.RESULTS_DIR,\n",
    "        resources_per_trial={\"cpu\": 4, \"gpu\": 1},\n",
    "        name=name + '_multilayer_defrost_' + name_pfix,\n",
    "        verbose=1,\n",
    "        resume='AUTO',\n",
    "    )\n",
    "    analysis_list.append(analysis)\n"
   ]
  },
  {
   "cell_type": "code",
   "execution_count": null,
   "id": "079a2135-40db-430e-93d5-d93e08fb5650",
   "metadata": {},
   "outputs": [],
   "source": [
    "# ablation htROI"
   ]
  },
  {
   "cell_type": "code",
   "execution_count": 13,
   "id": "dea2b6b9-64ac-48b1-b78a-4dc2ab46275a",
   "metadata": {},
   "outputs": [],
   "source": [
    "rois = ['XS-htROI4', 'XS-htROI5', 'XS-htROI6', 'XS-htROI7', 'XS-htROI8', 'XS-htROI9', 'M-htROI3', 'L-htROI3']\n",
    "name_pfix = 'htROI_ablation'"
   ]
  },
  {
   "cell_type": "code",
   "execution_count": 17,
   "id": "b9d6b694-99fa-42d2-82d5-7b667df72074",
   "metadata": {
    "tags": []
   },
   "outputs": [
    {
     "data": {
      "text/html": [
       "== Status ==<br>Current time: 2022-03-21 18:47:30 (running for 00:17:29.99)<br>Memory usage on this node: 12.5/62.7 GiB<br>Using FIFO scheduling algorithm.<br>Resources requested: 8.0/20 CPUs, 2.0/2 GPUs, 0.0/36.63 GiB heap, 0.0/18.31 GiB objects<br>Result logdir: /data/huze/ray_results/algonauts2021/algonauts2021_3d_resnet_multilayer_defrost_htROI_ablation<br>Number of trials: 8/8 (2 RUNNING, 6 TERMINATED)<br><br>"
      ],
      "text/plain": [
       "<IPython.core.display.HTML object>"
      ]
     },
     "metadata": {},
     "output_type": "display_data"
    },
    {
     "name": "stdout",
     "output_type": "stream",
     "text": [
      "Epoch 18:  70%|██████▉   | 174/250 [00:15<00:06, 11.58it/s, loss=0.179, v_num=., val_mse_loss/final=0.190, val_corr=0.0307, hp_metric=0.036, train_mse_loss/final=0.182]\n",
      "Epoch 6:  78%|███████▊  | 195/250 [00:13<00:03, 14.68it/s, loss=0.198, v_num=., val_mse_loss/final=0.201, val_corr=0.0177, hp_metric=0.0177, train_mse_loss/final=0.198]\n",
      "Epoch 18:  70%|███████   | 175/250 [00:15<00:06, 11.59it/s, loss=0.179, v_num=., val_mse_loss/final=0.190, val_corr=0.0307, hp_metric=0.036, train_mse_loss/final=0.182]\n",
      "Epoch 6:  79%|███████▉  | 197/250 [00:13<00:03, 14.70it/s, loss=0.199, v_num=., val_mse_loss/final=0.201, val_corr=0.0177, hp_metric=0.0177, train_mse_loss/final=0.198]\n",
      "Epoch 18:  70%|███████   | 176/250 [00:15<00:06, 11.54it/s, loss=0.178, v_num=., val_mse_loss/final=0.190, val_corr=0.0307, hp_metric=0.036, train_mse_loss/final=0.182]\n",
      "Epoch 6:  80%|███████▉  | 199/250 [00:13<00:03, 14.72it/s, loss=0.2, v_num=., val_mse_loss/final=0.201, val_corr=0.0177, hp_metric=0.0177, train_mse_loss/final=0.198]  \n",
      "Epoch 18:  71%|███████   | 177/250 [00:15<00:06, 11.55it/s, loss=0.178, v_num=., val_mse_loss/final=0.190, val_corr=0.0307, hp_metric=0.036, train_mse_loss/final=0.182]\n"
     ]
    },
    {
     "name": "stderr",
     "output_type": "stream",
     "text": [
      "IOPub data rate exceeded.\n",
      "The Jupyter server will temporarily stop sending output\n",
      "to the client in order to avoid crashing it.\n",
      "To change this limit, set the config variable\n",
      "`--ServerApp.iopub_data_rate_limit`.\n",
      "\n",
      "Current values:\n",
      "ServerApp.iopub_data_rate_limit=1000000.0 (bytes/sec)\n",
      "ServerApp.rate_limit_window=3.0 (secs)\n",
      "\n"
     ]
    }
   ],
   "source": [
    "analysis_list = []\n",
    "exp_config = Path('../../src/config/experiments/algonauts2021/algonauts2021_3d_resnet.yml')\n",
    "cfg = combine_cfgs(\n",
    "    path_cfg_data=exp_config,\n",
    "    list_cfg_override=['DEBUG', debug]\n",
    ")\n",
    "\n",
    "name = exp_config.name.replace('.yml', '')\n",
    "\n",
    "model_defrost_df = defrost_df[defrost_df['MODEL.BACKBONE.NAME'] == cfg.MODEL.BACKBONE.NAME]\n",
    "\n",
    "# single-layer 4x4 run\n",
    "analysis = tune.run(\n",
    "    tune.with_parameters(\n",
    "        run_single_tune_config,\n",
    "        cfg=cfg\n",
    "    ),\n",
    "    config={\n",
    "        'DATASET.ROI': tune.grid_search(rois),\n",
    "        'MODEL.BACKBONE.LAYERS': tune.grid_search([[i] for i in cfg.MODEL.BACKBONE.LAYERS]),\n",
    "        'MODEL.NECK.SPP_LEVELS': tune.grid_search([[i] for i in cfg.MODEL.NECK.SPP_LEVELS]),\n",
    "        'MODEL.NECK.FIRST_CONV_SIZE': tune.sample_from(\n",
    "            lambda spec: {1: 2048, 2: 1024, 3: 512, 6: 256, 7: 256, 14: -1, 28: -1, 42: -1, 56: -1}[\n",
    "                np.max(spec.config['MODEL.NECK.SPP_LEVELS'])]),\n",
    "        'TRAINER.CALLBACKS.BACKBONE.DEFROST_SCORE': tune.sample_from(\n",
    "            lambda spec: model_defrost_df[model_defrost_df['DATASET.ROI'] == spec.config['DATASET.ROI']]['defrost_score'].item())\n",
    "        # tune.grid_search([defrost_score]),\n",
    "    },\n",
    "    local_dir=cfg.RESULTS_DIR,\n",
    "    resources_per_trial={\"cpu\": 4, \"gpu\": 1},\n",
    "    name=name + '_singlelayer_defrost_' + name_pfix,\n",
    "    verbose=1,\n",
    "    resume='AUTO',\n",
    ")\n",
    "analysis_list.append(analysis)\n",
    "\n",
    "# multi-layer 1 run\n",
    "analysis = tune.run(\n",
    "    tune.with_parameters(\n",
    "        run_single_tune_config,\n",
    "        cfg=cfg\n",
    "    ),\n",
    "    config={\n",
    "        'DATASET.ROI': tune.grid_search(rois),\n",
    "        'MODEL.BACKBONE.LAYERS': tune.grid_search([cfg.MODEL.BACKBONE.LAYERS]),\n",
    "        'MODEL.NECK.SPP_LEVELS': tune.grid_search([cfg.MODEL.NECK.SPP_LEVELS]),\n",
    "        'MODEL.NECK.FIRST_CONV_SIZE': tune.sample_from(\n",
    "            lambda spec: {1: 2048, 2: 1024, 3: 512, 6: 256, 7: 256, 14: -1, 28: -1, 42: -1, 56: -1}[\n",
    "                np.max(spec.config['MODEL.NECK.SPP_LEVELS'])]),\n",
    "        'TRAINER.CALLBACKS.BACKBONE.DEFROST_SCORE': tune.sample_from(\n",
    "            lambda spec: model_defrost_df[model_defrost_df['DATASET.ROI'] == spec.config['DATASET.ROI']]['defrost_score'].item())\n",
    "        # tune.grid_search([defrost_score]),\n",
    "    },\n",
    "    local_dir=cfg.RESULTS_DIR,\n",
    "    resources_per_trial={\"cpu\": 4, \"gpu\": 1},\n",
    "    name=name + '_multilayer_defrost_' + name_pfix,\n",
    "    verbose=1,\n",
    "    resume='AUTO',\n",
    ")\n",
    "analysis_list.append(analysis)\n"
   ]
  },
  {
   "cell_type": "code",
   "execution_count": 35,
   "id": "f4652657-2702-4ea1-a095-a55ce0bc20ca",
   "metadata": {},
   "outputs": [],
   "source": [
    "# ablation model-match\n",
    "name_pfix = 'htROI_match'\n",
    "\n",
    "analysis_list = []\n",
    "for exp_config in [Path('../../src/config/experiments/algonauts2021/algonauts2021_3d_swin.yml'),\n",
    "                  Path('../../src/config/experiments/algonauts2021/algonauts2021_3d_resnet.yml')]:\n",
    "    cfg = combine_cfgs(\n",
    "        path_cfg_data=exp_config,\n",
    "        list_cfg_override=['DEBUG', debug]\n",
    "    )\n",
    "    voxel_indices_dir = Path('/home/huze/Algonauts_2021_data/voxel_indexs/')\n",
    "\n",
    "    rois = [p.name.replace('.pt', '') for p in voxel_indices_dir.glob(f'*{cfg.MODEL.BACKBONE.NAME}*')]\n",
    "    # break\n",
    "    name = exp_config.name.replace('.yml', '')\n",
    "\n",
    "    model_defrost_df = defrost_df[defrost_df['MODEL.BACKBONE.NAME'] == cfg.MODEL.BACKBONE.NAME]\n",
    "\n",
    "    # single-layer 4x4 run\n",
    "    analysis = tune.run(\n",
    "        tune.with_parameters(\n",
    "            run_single_tune_config,\n",
    "            cfg=cfg\n",
    "        ),\n",
    "        config={\n",
    "            'DATASET.ROI': tune.grid_search(rois),\n",
    "            'MODEL.BACKBONE.LAYERS': tune.grid_search([[i] for i in cfg.MODEL.BACKBONE.LAYERS]),\n",
    "            'MODEL.NECK.SPP_LEVELS': tune.grid_search([[i] for i in cfg.MODEL.NECK.SPP_LEVELS]),\n",
    "            'MODEL.NECK.FIRST_CONV_SIZE': tune.sample_from(\n",
    "                lambda spec: {1: 2048, 2: 1024, 3: 512, 6: 256, 7: 256, 14: -1, 28: -1, 42: -1, 56: -1}[\n",
    "                    np.max(spec.config['MODEL.NECK.SPP_LEVELS'])]),\n",
    "            'TRAINER.CALLBACKS.BACKBONE.DEFROST_SCORE': tune.sample_from(\n",
    "                lambda spec: model_defrost_df[model_defrost_df['DATASET.ROI'] == spec.config['DATASET.ROI']]['defrost_score'].item())\n",
    "            # tune.grid_search([defrost_score]),\n",
    "        },\n",
    "        local_dir=cfg.RESULTS_DIR,\n",
    "        resources_per_trial={\"cpu\": 4, \"gpu\": 1},\n",
    "        name=name + '_singlelayer_defrost_' + name_pfix,\n",
    "        verbose=1,\n",
    "        resume='AUTO',\n",
    "    )\n",
    "    analysis_list.append(analysis)\n",
    "\n",
    "    # multi-layer 1 run\n",
    "    analysis = tune.run(\n",
    "        tune.with_parameters(\n",
    "            run_single_tune_config,\n",
    "            cfg=cfg\n",
    "        ),\n",
    "        config={\n",
    "            'DATASET.ROI': tune.grid_search(rois),\n",
    "            'MODEL.BACKBONE.LAYERS': tune.grid_search([cfg.MODEL.BACKBONE.LAYERS]),\n",
    "            'MODEL.NECK.SPP_LEVELS': tune.grid_search([cfg.MODEL.NECK.SPP_LEVELS]),\n",
    "            'MODEL.NECK.FIRST_CONV_SIZE': tune.sample_from(\n",
    "                lambda spec: {1: 2048, 2: 1024, 3: 512, 6: 256, 7: 256, 14: -1, 28: -1, 42: -1, 56: -1}[\n",
    "                    np.max(spec.config['MODEL.NECK.SPP_LEVELS'])]),\n",
    "            'TRAINER.CALLBACKS.BACKBONE.DEFROST_SCORE': tune.sample_from(\n",
    "                lambda spec: model_defrost_df[model_defrost_df['DATASET.ROI'] == spec.config['DATASET.ROI']]['defrost_score'].item())\n",
    "            # tune.grid_search([defrost_score]),\n",
    "        },\n",
    "        local_dir=cfg.RESULTS_DIR,\n",
    "        resources_per_trial={\"cpu\": 4, \"gpu\": 1},\n",
    "        name=name + '_multilayer_defrost_' + name_pfix,\n",
    "        verbose=1,\n",
    "        resume='AUTO',\n",
    "    )\n",
    "    analysis_list.append(analysis)"
   ]
  },
  {
   "cell_type": "code",
   "execution_count": null,
   "id": "fb0e6afa-2dc5-46c8-bdc7-81dd5bad505b",
   "metadata": {},
   "outputs": [],
   "source": []
  }
 ],
 "metadata": {
  "kernelspec": {
   "display_name": "Python 3 (ipykernel)",
   "language": "python",
   "name": "python3"
  },
  "language_info": {
   "codemirror_mode": {
    "name": "ipython",
    "version": 3
   },
   "file_extension": ".py",
   "mimetype": "text/x-python",
   "name": "python",
   "nbconvert_exporter": "python",
   "pygments_lexer": "ipython3",
   "version": "3.8.8"
  },
  "widgets": {
   "application/vnd.jupyter.widget-state+json": {
    "state": {},
    "version_major": 2,
    "version_minor": 0
   }
  }
 },
 "nbformat": 4,
 "nbformat_minor": 5
}
