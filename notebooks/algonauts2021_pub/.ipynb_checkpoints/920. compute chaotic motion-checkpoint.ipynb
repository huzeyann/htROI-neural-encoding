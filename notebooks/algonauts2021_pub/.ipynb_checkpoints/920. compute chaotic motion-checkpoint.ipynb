{
 "cells": [
  {
   "cell_type": "code",
   "execution_count": 1,
   "id": "8d9b2424-d127-4376-80a2-309efb06fd27",
   "metadata": {},
   "outputs": [
    {
     "data": {
      "text/plain": [
       "True"
      ]
     },
     "execution_count": 1,
     "metadata": {},
     "output_type": "execute_result"
    }
   ],
   "source": [
    "from pathlib import Path\n",
    "\n",
    "import numpy as np\n",
    "import torch\n",
    "\n",
    "from tqdm.auto import tqdm\n",
    "\n",
    "import itertools\n",
    "\n",
    "import os\n",
    "from dotenv import find_dotenv, load_dotenv\n",
    "\n",
    "load_dotenv(find_dotenv(), verbose=True)"
   ]
  },
  {
   "cell_type": "markdown",
   "id": "96e9dbe6-a445-4ed0-a19d-767fd1add687",
   "metadata": {},
   "source": [
    "# prepare data"
   ]
  },
  {
   "cell_type": "code",
   "execution_count": 3,
   "id": "0c038d7c-ddc8-4fb3-b15b-d52edfe7591c",
   "metadata": {},
   "outputs": [],
   "source": [
    "from src.utils.ensemble import optimize_val_correlation\n",
    "from src.config.config import combine_cfgs, get_cfg_defaults\n",
    "from src.data.datamodule import MyDataModule\n",
    "from pathlib import Path\n",
    "import torch\n",
    "import numpy as np"
   ]
  },
  {
   "cell_type": "code",
   "execution_count": 10,
   "id": "bc703368-f90e-4636-ae71-e68676b25827",
   "metadata": {
    "collapsed": false,
    "jupyter": {
     "outputs_hidden": false
    },
    "pycharm": {
     "name": "#%%\n"
    }
   },
   "outputs": [],
   "source": [
    "# prepare train and validation data\n",
    "cfg = get_cfg_defaults()\n",
    "cfg.DATASET.TRANSFORM = 'i3d_flow'\n",
    "cfg.DATASET.FRAMES = 64\n",
    "dm = MyDataModule(cfg)\n",
    "dm.prepare_data()\n",
    "dm.setup()\n",
    "\n",
    "val_indices = dm.val_dataset.indices\n",
    "fmris_cache_path = Path('/data/huze/.cache/trainval_fmris.pt')\n",
    "\n",
    "if fmris_cache_path.exists():\n",
    "    fmris = torch.load(fmris_cache_path)\n",
    "else:\n",
    "    fmris = [dm.dataset_train_val.__getitem__(i)[1]\n",
    "             for i in tqdm(range(dm.dataset_train_val.__len__()))]\n",
    "    fmris = np.stack(fmris, 0)\n",
    "    fmris = torch.tensor(fmris)\n",
    "    torch.save(fmris, fmris_cache_path)\n",
    "\n",
    "val_fmris = fmris[val_indices]"
   ]
  },
  {
   "cell_type": "code",
   "execution_count": 11,
   "id": "da01fcfb-aef3-4ffe-9c07-82e439a2a4bf",
   "metadata": {},
   "outputs": [],
   "source": [
    "num_videos = len(dm.dataset_train_val)"
   ]
  },
  {
   "cell_type": "code",
   "execution_count": 12,
   "id": "657de823-acf2-4ba0-8726-e0cfd4cd7fee",
   "metadata": {},
   "outputs": [
    {
     "name": "stdout",
     "output_type": "stream",
     "text": [
      "(2, 64, 224, 224)\n"
     ]
    }
   ],
   "source": [
    "print(dm.dataset_train_val.__getitem__(0)[0].shape)"
   ]
  },
  {
   "cell_type": "code",
   "execution_count": 13,
   "id": "e74d89bd-39b8-4ded-a149-ce611704cd4c",
   "metadata": {},
   "outputs": [
    {
     "data": {
      "application/vnd.jupyter.widget-view+json": {
       "model_id": "6773858c3e954a4788f6627e1ee805cf",
       "version_major": 2,
       "version_minor": 0
      },
      "text/plain": [
       "  0%|          | 0/1000 [00:00<?, ?it/s]"
      ]
     },
     "metadata": {},
     "output_type": "display_data"
    }
   ],
   "source": [
    "chaotic_motions = []\n",
    "vector_motions = []\n",
    "for vid_idx in tqdm(range(num_videos)):\n",
    "    flow_vid, fmri = dm.dataset_train_val.__getitem__(vid_idx)\n",
    "    vector_motions.append(flow_vid.sum(-1).sum(-1).sum(-1))\n",
    "    chaotic_motions.append(np.sqrt((flow_vid**2).sum(0)).sum())\n",
    "chaotic_motions = np.asarray(chaotic_motions)\n",
    "vector_motions = np.asarray(vector_motions)"
   ]
  },
  {
   "cell_type": "code",
   "execution_count": 14,
   "id": "52a05705-8780-4b8c-8158-4063d58c137d",
   "metadata": {},
   "outputs": [
    {
     "data": {
      "text/plain": [
       "(1000,)"
      ]
     },
     "execution_count": 14,
     "metadata": {},
     "output_type": "execute_result"
    }
   ],
   "source": [
    "chaotic_motions.shape"
   ]
  },
  {
   "cell_type": "code",
   "execution_count": 15,
   "id": "1f1571b8-93e4-4415-9adc-9fafdbf62f62",
   "metadata": {},
   "outputs": [],
   "source": [
    "import seaborn as sns\n",
    "import matplotlib.pyplot as plt"
   ]
  },
  {
   "cell_type": "code",
   "execution_count": 16,
   "id": "4211552f-5a07-498a-b8cc-0b338b66930d",
   "metadata": {},
   "outputs": [
    {
     "data": {
      "image/png": "[encoded data removed]",
      "text/plain": [
       "<Figure size 360x360 with 1 Axes>"
      ]
     },
     "metadata": {
      "needs_background": "light"
     },
     "output_type": "display_data"
    }
   ],
   "source": [
    "sns.displot(chaotic_motions)\n",
    "plt.show()"
   ]
  },
  {
   "cell_type": "code",
   "execution_count": 17,
   "id": "a559c6ff-53a4-4bcf-b3f5-5c37c39c4222",
   "metadata": {},
   "outputs": [],
   "source": [
    "np.save('tmp/notebook920/chaotic_motion.npy', chaotic_motions)"
   ]
  },
  {
   "cell_type": "code",
   "execution_count": null,
   "id": "91a0a7da-0653-44ec-aa2c-35e42da5e378",
   "metadata": {},
   "outputs": [],
   "source": []
  }
 ],
 "metadata": {
  "kernelspec": {
   "display_name": "Python 3 (ipykernel)",
   "language": "python",
   "name": "python3"
  },
  "language_info": {
   "codemirror_mode": {
    "name": "ipython",
    "version": 3
   },
   "file_extension": ".py",
   "mimetype": "text/x-python",
   "name": "python",
   "nbconvert_exporter": "python",
   "pygments_lexer": "ipython3",
   "version": "3.8.8"
  },
  "widgets": {
   "application/vnd.jupyter.widget-state+json": {
    "state": {
     "0778de9a7160423a8b34f16a26130f5f": {
      "model_module": "@jupyter-widgets/controls",
      "model_module_version": "1.5.0",
      "model_name": "HTMLModel",
      "state": {
       "layout": "IPY_MODEL_453b5b5e67ba4c4eab53e2dcfc8fe367",
       "style": "IPY_MODEL_83e48b2c3e8b4970b6818ff9def07217",
       "value": "100%"
      }
     },
     "2c557dbd9618429e9a7fbff348cbb3d8": {
      "model_module": "@jupyter-widgets/controls",
      "model_module_version": "1.5.0",
      "model_name": "FloatProgressModel",
      "state": {
       "bar_style": "success",
       "layout": "IPY_MODEL_ede8b56f109c47adb01133dddc5773fb",
       "max": 1000,
       "style": "IPY_MODEL_315d5ad9497f4773bc4f7ac89233ed04",
       "value": 1000
      }
     },
     "315d5ad9497f4773bc4f7ac89233ed04": {
      "model_module": "@jupyter-widgets/controls",
      "model_module_version": "1.5.0",
      "model_name": "ProgressStyleModel",
      "state": {
       "description_width": ""
      }
     },
     "453b5b5e67ba4c4eab53e2dcfc8fe367": {
      "model_module": "@jupyter-widgets/base",
      "model_module_version": "1.2.0",
      "model_name": "LayoutModel",
      "state": {}
     },
     "4ca30a45222f4c3c87ffc473bdd90783": {
      "model_module": "@jupyter-widgets/controls",
      "model_module_version": "1.5.0",
      "model_name": "HTMLModel",
      "state": {
       "layout": "IPY_MODEL_cffae81f9a934eeabc952bcc5f870763",
       "style": "IPY_MODEL_854280a6f0824ad3a4fc5572d067a347",
       "value": " 1000/1000 [04:44&lt;00:00,  3.53it/s]"
      }
     },
     "6773858c3e954a4788f6627e1ee805cf": {
      "model_module": "@jupyter-widgets/controls",
      "model_module_version": "1.5.0",
      "model_name": "HBoxModel",
      "state": {
       "children": [
        "IPY_MODEL_0778de9a7160423a8b34f16a26130f5f",
        "IPY_MODEL_2c557dbd9618429e9a7fbff348cbb3d8",
        "IPY_MODEL_4ca30a45222f4c3c87ffc473bdd90783"
       ],
       "layout": "IPY_MODEL_7e6b4ada71f94f1383daff8f43109ca2"
      }
     },
     "7e6b4ada71f94f1383daff8f43109ca2": {
      "model_module": "@jupyter-widgets/base",
      "model_module_version": "1.2.0",
      "model_name": "LayoutModel",
      "state": {}
     },
     "83e48b2c3e8b4970b6818ff9def07217": {
      "model_module": "@jupyter-widgets/controls",
      "model_module_version": "1.5.0",
      "model_name": "DescriptionStyleModel",
      "state": {
       "description_width": ""
      }
     },
     "854280a6f0824ad3a4fc5572d067a347": {
      "model_module": "@jupyter-widgets/controls",
      "model_module_version": "1.5.0",
      "model_name": "DescriptionStyleModel",
      "state": {
       "description_width": ""
      }
     },
     "cffae81f9a934eeabc952bcc5f870763": {
      "model_module": "@jupyter-widgets/base",
      "model_module_version": "1.2.0",
      "model_name": "LayoutModel",
      "state": {}
     },
     "ede8b56f109c47adb01133dddc5773fb": {
      "model_module": "@jupyter-widgets/base",
      "model_module_version": "1.2.0",
      "model_name": "LayoutModel",
      "state": {}
     }
    },
    "version_major": 2,
    "version_minor": 0
   }
  }
 },
 "nbformat": 4,
 "nbformat_minor": 5
}
