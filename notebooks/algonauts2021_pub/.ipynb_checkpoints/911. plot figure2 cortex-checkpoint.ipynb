{
 "cells": [
  {
   "cell_type": "code",
   "execution_count": null,
   "id": "9c8f5f45-d8ee-49b5-bca5-cd052c91f946",
   "metadata": {},
   "outputs": [],
   "source": []
  },
  {
   "cell_type": "code",
   "execution_count": 66,
   "id": "6cabf9fd-40e2-4438-b545-be8ed1caf2b1",
   "metadata": {},
   "outputs": [],
   "source": [
    "import torch\n",
    "import numpy as np\n",
    "import os\n",
    "\n",
    "import pandas as pd\n",
    "from tqdm.auto import tqdm\n",
    "from pathlib import Path"
   ]
  },
  {
   "cell_type": "code",
   "execution_count": 53,
   "id": "fa0375a2-c372-46f7-a329-5ce8379ab6dd",
   "metadata": {},
   "outputs": [],
   "source": [
    "import numpy as np\n",
    "from nilearn import surface\n",
    "from nilearn import datasets\n",
    "import cortex\n",
    "import matplotlib.pyplot as plt\n",
    "import os"
   ]
  },
  {
   "cell_type": "code",
   "execution_count": 54,
   "id": "84d8a238-237e-44f3-b026-f1da3dab74fb",
   "metadata": {},
   "outputs": [
    {
     "name": "stderr",
     "output_type": "stream",
     "text": [
      "/usr/local/anaconda3/envs/env_ube/lib/python3.8/site-packages/cortex/utils.py:1014: UserWarning: fsaverage is already present in the database. Set download_again to True if you wish to download the subject again.\n",
      "  warnings.warn(\n"
     ]
    }
   ],
   "source": [
    "cortex.download_subject('fsaverage', download_again=False)"
   ]
  },
  {
   "cell_type": "code",
   "execution_count": 55,
   "id": "7f98c03c-de5d-4396-ba8d-83864b19ceef",
   "metadata": {},
   "outputs": [],
   "source": [
    "mask_img = 'config/reliable_voxel_mask.nii'"
   ]
  },
  {
   "cell_type": "code",
   "execution_count": 56,
   "id": "760d2f2f-5141-4c0a-a1e2-61492eab8098",
   "metadata": {},
   "outputs": [],
   "source": [
    "voxel_masks = np.load('config/voxel_masks.npy')"
   ]
  },
  {
   "cell_type": "code",
   "execution_count": 57,
   "id": "25579fcf-4f2d-4711-b9eb-ee117f0687cd",
   "metadata": {},
   "outputs": [],
   "source": [
    "baseline_score_dict = torch.load('tmp/notebook910/baseline_score_dict.pt')"
   ]
  },
  {
   "cell_type": "code",
   "execution_count": 58,
   "id": "7955e08b-d5b2-4c97-acd1-52b21d471f74",
   "metadata": {},
   "outputs": [
    {
     "data": {
      "text/plain": [
       "{'single layer best': tensor([-0.2450, -0.1718,  0.1759,  ...,  0.7410,  0.9357,  0.9613],\n",
       "        dtype=torch.float64),\n",
       " 'multi layer': tensor([0.1266, 0.0156, 0.1701,  ..., 0.6980, 1.0006, 1.0208],\n",
       "        dtype=torch.float64),\n",
       " 'ours ensemble': tensor([0.0702, 0.0577, 0.2748,  ..., 0.8291, 1.0439, 1.0580],\n",
       "        dtype=torch.float64)}"
      ]
     },
     "execution_count": 58,
     "metadata": {},
     "output_type": "execute_result"
    }
   ],
   "source": [
    "baseline_score_dict"
   ]
  },
  {
   "cell_type": "code",
   "execution_count": 59,
   "id": "d1d485b7-2153-49a9-ae23-85725be16159",
   "metadata": {},
   "outputs": [],
   "source": [
    "voxel_scores_dict = torch.load('tmp/notebook910/voxel_scores_dict.py')"
   ]
  },
  {
   "cell_type": "code",
   "execution_count": 60,
   "id": "fa49ad93-5428-4c94-87a6-50a5f0043a8f",
   "metadata": {},
   "outputs": [
    {
     "data": {
      "text/plain": [
       "{'htROI': tensor([0.3130, 0.2397, 0.1140,  ..., 0.6482, 0.9716, 1.1179],\n",
       "        dtype=torch.float64),\n",
       " 'WB': tensor([0.0720, 0.0030, 0.2601,  ..., 0.8192, 1.0208, 1.0374],\n",
       "        dtype=torch.float64),\n",
       " 'WB+htROI': tensor([0.2467, 0.1899, 0.1941,  ..., 0.7150, 1.0008, 1.1022],\n",
       "        dtype=torch.float64),\n",
       " 'WB+aROI': tensor([-0.0865,  0.0412,  0.1824,  ...,  0.8112,  0.9802,  1.0164],\n",
       "        dtype=torch.float64),\n",
       " 'WB+aROI+htROI': tensor([0.1679, 0.1921, 0.1567,  ..., 0.7016, 0.9756, 1.0938],\n",
       "        dtype=torch.float64),\n",
       " 'aROI': tensor([-0.2797,  0.0738,  0.0978,  ...,  0.7910,  0.9255,  0.9859],\n",
       "        dtype=torch.float64),\n",
       " 'aROI+htROI': tensor([0.1137, 0.2031, 0.1149,  ..., 0.7027, 0.9665, 1.0867],\n",
       "        dtype=torch.float64)}"
      ]
     },
     "execution_count": 60,
     "metadata": {},
     "output_type": "execute_result"
    }
   ],
   "source": [
    "voxel_scores_dict"
   ]
  },
  {
   "cell_type": "code",
   "execution_count": 61,
   "id": "1014e493-5bf8-4fed-8e3b-486ae88055ee",
   "metadata": {},
   "outputs": [],
   "source": [
    "from matplotlib import pyplot as plt\n",
    "from src.utils.visulization import save_voxel_data_as_subject_mean_nii\n",
    "\n",
    "fsaverage = 'fsaverage'\n",
    "# fsaverage = 'fsaverage5'\n",
    "cmap = 'PuOr'\n",
    "vmax = 0.5\n",
    "inflate = True"
   ]
  },
  {
   "cell_type": "code",
   "execution_count": 62,
   "id": "64cb2e89-3bbe-45ff-a16d-d8d981af972c",
   "metadata": {},
   "outputs": [
    {
     "name": "stdout",
     "output_type": "stream",
     "text": [
      "mkdir: cannot create directory ‘tmp/notebook911’: File exists\n"
     ]
    }
   ],
   "source": [
    "mkdir tmp/notebook911"
   ]
  },
  {
   "cell_type": "code",
   "execution_count": 63,
   "id": "9390385e-4549-4d04-ba31-d560ba145347",
   "metadata": {},
   "outputs": [],
   "source": [
    "plot_atlases = ['aROI+htROI', 'aROI', 'htROI']"
   ]
  },
  {
   "cell_type": "code",
   "execution_count": 64,
   "id": "bfb846d2-14e4-4333-ae15-35c08913b11a",
   "metadata": {},
   "outputs": [],
   "source": [
    "def save_fig(vertex_data, path, with_rois=True, with_labels=True, with_sulci=True):\n",
    "    fig = cortex.quickflat.make_figure(vertex_data,\n",
    "                                   with_curvature=False,\n",
    "                                   with_rois=with_rois,\n",
    "                                   with_labels=with_labels,\n",
    "                                   with_sulci=with_sulci,\n",
    "                                   with_colorbar=False,)\n",
    "    # Add sulci in light yellow\n",
    "    _ = cortex.quickflat.composite.add_sulci(fig, vertex_data,\n",
    "                                             with_labels=with_labels,)\n",
    "    # Add all rois, with a particular color scheme:\n",
    "    # _ = cortex.quickflat.composite.add_rois(fig, volume,\n",
    "    #                                         with_labels=True,\n",
    "    #                                         labelsize=1,)\n",
    "    # # Highlight face- and body-selective ROIs:\n",
    "    # _ = cortex.quickflat.composite.add_rois(fig, volume,\n",
    "    #                                         roi_list=['FFA', 'EBA', 'OFA'],  # (This defaults to all rois if not specified)\n",
    "    #                                         with_labels=True,\n",
    "    #                                         linewidth=5,\n",
    "    #                                         linecolor=(0.9, 0.5, 0.5),\n",
    "    #                                         labelcolor=(0.9, 0.5, 0.5),\n",
    "    #                                         labelsize=20,\n",
    "    #                                         roifill=(0.9, 0.5, 0.5),\n",
    "    #                                         fillalpha=0.35,\n",
    "    #                                         dashes=(5, 3)                    # Dash length & gap btw dashes\n",
    "    #                                         )\n",
    "    plt.savefig(path, dpi=144)\n",
    "    plt.close()"
   ]
  },
  {
   "cell_type": "code",
   "execution_count": 14,
   "id": "34bb8d02-8198-440f-b2a5-cb17a0610a99",
   "metadata": {},
   "outputs": [
    {
     "name": "stderr",
     "output_type": "stream",
     "text": [
      "/usr/local/anaconda3/envs/env_ube/lib/python3.8/site-packages/nilearn/surface/surface.py:464: RuntimeWarning: Mean of empty slice\n",
      "  texture = np.nanmean(all_samples, axis=2)\n",
      "/usr/local/anaconda3/envs/env_ube/lib/python3.8/site-packages/nilearn/surface/surface.py:464: RuntimeWarning: Mean of empty slice\n",
      "  texture = np.nanmean(all_samples, axis=2)\n"
     ]
    }
   ],
   "source": [
    "atlases = 'WB+aROI+htROI'\n",
    "voxel_score = voxel_scores_dict[atlases]\n",
    "\n",
    "tmp_nii_path = Path(f'tmp/notebook911/score.nii')\n",
    "example_nii_path = Path('config/example.nii')\n",
    "\n",
    "save_voxel_data_as_subject_mean_nii(voxel_masks, voxel_score, example_nii_path, tmp_nii_path)\n",
    "\n",
    "fill_nan_value = 0\n",
    "nii_path = str(tmp_nii_path)\n",
    "fsaverage = datasets.fetch_surf_fsaverage('fsaverage')\n",
    "\n",
    "texture = np.concatenate([surface.vol_to_surf(nii_path, fsaverage.pial_left, mask_img=mask_img),\n",
    "                         surface.vol_to_surf(nii_path, fsaverage.pial_right, mask_img=mask_img)])\n",
    "texture[np.isnan(texture)] = fill_nan_value\n",
    "\n",
    "\n",
    "# This creates a Vertex object for our subject and test dataset\n",
    "vertex_data = cortex.Vertex(texture, 'fsaverage')\n",
    "\n",
    "vmax = 1\n",
    "vmin = -1\n",
    "\n",
    "vertex_data.vmax = vmax\n",
    "vertex_data.vmin = vmin\n",
    "\n",
    "cmap = 'seismic'\n",
    "vertex_data.cmap = cmap\n",
    "\n",
    "\n",
    "save_fig(vertex_data, 'tmp/notebook911/score best.png')"
   ]
  },
  {
   "cell_type": "raw",
   "id": "f4546c48-d3af-48b1-86ba-959e8803cb78",
   "metadata": {},
   "source": [
    "volume = vertex_data\n",
    "volume.cmap = 'seismic'\n",
    "# Create basic figure, with rois, labels, sulci all off\n",
    "fig = cortex.quickflat.make_figure(volume,\n",
    "                                   with_curvature=False,\n",
    "                                   with_rois=True,\n",
    "                                   with_labels=False,\n",
    "                                   with_sulci=True,\n",
    "                                   with_colorbar=False,)\n",
    "# Add sulci in light yellow\n",
    "_ = cortex.quickflat.composite.add_sulci(fig, volume,\n",
    "                                         with_labels=True,)\n",
    "# Add all rois, with a particular color scheme:\n",
    "# _ = cortex.quickflat.composite.add_rois(fig, volume,\n",
    "#                                         with_labels=True,\n",
    "#                                         labelsize=1,)\n",
    "# # Highlight face- and body-selective ROIs:\n",
    "# _ = cortex.quickflat.composite.add_rois(fig, volume,\n",
    "#                                         roi_list=['FFA', 'EBA', 'OFA'],  # (This defaults to all rois if not specified)\n",
    "#                                         with_labels=True,\n",
    "#                                         linewidth=5,\n",
    "#                                         linecolor=(0.9, 0.5, 0.5),\n",
    "#                                         labelcolor=(0.9, 0.5, 0.5),\n",
    "#                                         labelsize=20,\n",
    "#                                         roifill=(0.9, 0.5, 0.5),\n",
    "#                                         fillalpha=0.35,\n",
    "#                                         dashes=(5, 3)                    # Dash length & gap btw dashes\n",
    "#                                         )\n",
    "plt.savefig('test.png')\n",
    "plt.show()"
   ]
  },
  {
   "cell_type": "code",
   "execution_count": 65,
   "id": "6fafa6eb-47c2-4e14-899b-b48e46ceab80",
   "metadata": {},
   "outputs": [],
   "source": [
    "from src.utils.visulization import make_horizontal_color_bar"
   ]
  },
  {
   "cell_type": "code",
   "execution_count": 17,
   "id": "321a07b9-884c-4070-a0bd-584fdc69b949",
   "metadata": {},
   "outputs": [
    {
     "data": {
      "image/png": "[encoded data removed]",
      "text/plain": [
       "<Figure size 720x720 with 2 Axes>"
      ]
     },
     "metadata": {
      "needs_background": "light"
     },
     "output_type": "display_data"
    }
   ],
   "source": [
    "cbar_label_text = 'noise-normalized score'\n",
    "cbar = make_horizontal_color_bar(cmap, vmax, vmin, cbar_label_text=cbar_label_text, offset=-0.7)\n",
    "plt.savefig('tmp/notebook911/score best cbar.pdf', bbox_inches=\"tight\")\n",
    "plt.show()"
   ]
  },
  {
   "cell_type": "code",
   "execution_count": null,
   "id": "1630c0e8-7299-4231-b9a9-bf30c845763e",
   "metadata": {},
   "outputs": [],
   "source": []
  },
  {
   "cell_type": "code",
   "execution_count": 50,
   "id": "be9e5c81-1308-46cb-a205-3ececcc04ad6",
   "metadata": {},
   "outputs": [
    {
     "name": "stderr",
     "output_type": "stream",
     "text": [
      "/usr/local/anaconda3/envs/env_ube/lib/python3.8/site-packages/nilearn/surface/surface.py:464: RuntimeWarning: Mean of empty slice\n",
      "  texture = np.nanmean(all_samples, axis=2)\n",
      "/usr/local/anaconda3/envs/env_ube/lib/python3.8/site-packages/nilearn/surface/surface.py:464: RuntimeWarning: Mean of empty slice\n",
      "  texture = np.nanmean(all_samples, axis=2)\n"
     ]
    }
   ],
   "source": [
    "for sch in ['multi layer']:\n",
    "    voxel_score = baseline_score_dict['ours ensemble'] - baseline_score_dict[sch]\n",
    "\n",
    "    tmp_nii_path = Path(f'tmp/notebook911/score.nii')\n",
    "    example_nii_path = Path('config/example.nii')\n",
    "\n",
    "    save_voxel_data_as_subject_mean_nii(voxel_masks, voxel_score, example_nii_path, tmp_nii_path)\n",
    "\n",
    "    fill_nan_value = 0\n",
    "    nii_path = str(tmp_nii_path)\n",
    "    fsaverage = datasets.fetch_surf_fsaverage('fsaverage')\n",
    "\n",
    "    texture = np.concatenate([surface.vol_to_surf(nii_path, fsaverage.pial_left, mask_img=mask_img),\n",
    "                             surface.vol_to_surf(nii_path, fsaverage.pial_right, mask_img=mask_img)])\n",
    "    texture[np.isnan(texture)] = fill_nan_value\n",
    "\n",
    "\n",
    "    # This creates a Vertex object for our subject and test dataset\n",
    "    vertex_data = cortex.Vertex(texture, 'fsaverage')\n",
    "\n",
    "    vmax = 0.5\n",
    "    vmin = -0.5\n",
    "    \n",
    "    vertex_data.vmax = vmax\n",
    "    vertex_data.vmin = vmin\n",
    "    \n",
    "    cmap = 'seismic'\n",
    "    vertex_data.cmap = cmap\n",
    "\n",
    "\n",
    "#     cortex.quickflat.make_png(\n",
    "#                 f'tmp/notebook911/score ours ensemble - {sch}.png',\n",
    "#                 vertex_data, \n",
    "#                  with_sulci=False,\n",
    "#                  with_rois=False,\n",
    "#                  with_curvature=False,\n",
    "#                  with_colorbar=False,\n",
    "#                 dpi=350,\n",
    "#                 )\n",
    "    # cortex.quickshow(\n",
    "    #             vertex_data, \n",
    "    #              with_sulci=False,\n",
    "    #              with_rois=False,\n",
    "    #              with_curvature=False,\n",
    "    #              with_colorbar=False,\n",
    "    #             )\n",
    "    # plt.show()\n",
    "    save_fig(vertex_data, f'tmp/notebook911/score ours ensemble - {sch}.png',\n",
    "            with_rois=False, with_labels=False, with_sulci=False)"
   ]
  },
  {
   "cell_type": "code",
   "execution_count": null,
   "id": "2454c01f-b7ca-476c-889c-60ecd2a4fed2",
   "metadata": {},
   "outputs": [],
   "source": []
  },
  {
   "cell_type": "code",
   "execution_count": 74,
   "id": "4c93376a-dbc6-490e-b29a-32bb219bdaf7",
   "metadata": {},
   "outputs": [
    {
     "name": "stderr",
     "output_type": "stream",
     "text": [
      "/usr/local/anaconda3/envs/env_ube/lib/python3.8/site-packages/nilearn/surface/surface.py:464: RuntimeWarning: Mean of empty slice\n",
      "  texture = np.nanmean(all_samples, axis=2)\n",
      "/usr/local/anaconda3/envs/env_ube/lib/python3.8/site-packages/nilearn/surface/surface.py:464: RuntimeWarning: Mean of empty slice\n",
      "  texture = np.nanmean(all_samples, axis=2)\n",
      "/usr/local/anaconda3/envs/env_ube/lib/python3.8/site-packages/nilearn/surface/surface.py:464: RuntimeWarning: Mean of empty slice\n",
      "  texture = np.nanmean(all_samples, axis=2)\n",
      "/usr/local/anaconda3/envs/env_ube/lib/python3.8/site-packages/nilearn/surface/surface.py:464: RuntimeWarning: Mean of empty slice\n",
      "  texture = np.nanmean(all_samples, axis=2)\n",
      "/usr/local/anaconda3/envs/env_ube/lib/python3.8/site-packages/nilearn/surface/surface.py:464: RuntimeWarning: Mean of empty slice\n",
      "  texture = np.nanmean(all_samples, axis=2)\n",
      "/usr/local/anaconda3/envs/env_ube/lib/python3.8/site-packages/nilearn/surface/surface.py:464: RuntimeWarning: Mean of empty slice\n",
      "  texture = np.nanmean(all_samples, axis=2)\n"
     ]
    }
   ],
   "source": [
    "for atlases in ['aROI+htROI', 'WB+htROI', 'WB+aROI']:\n",
    "\n",
    "    voxel_score = voxel_scores_dict['WB+aROI+htROI'] - voxel_scores_dict[atlases]\n",
    "\n",
    "    tmp_nii_path = Path(f'tmp/notebook911/score.nii')\n",
    "    example_nii_path = Path('config/example.nii')\n",
    "\n",
    "    save_voxel_data_as_subject_mean_nii(voxel_masks, voxel_score, example_nii_path, tmp_nii_path)\n",
    "\n",
    "    fill_nan_value = 0\n",
    "    nii_path = str(tmp_nii_path)\n",
    "    fsaverage = datasets.fetch_surf_fsaverage('fsaverage')\n",
    "\n",
    "    texture = np.concatenate([surface.vol_to_surf(nii_path, fsaverage.pial_left, mask_img=mask_img),\n",
    "                             surface.vol_to_surf(nii_path, fsaverage.pial_right, mask_img=mask_img)])\n",
    "    texture[np.isnan(texture)] = fill_nan_value\n",
    "\n",
    "\n",
    "    # This creates a Vertex object for our subject and test dataset\n",
    "    vertex_data = cortex.Vertex(texture, 'fsaverage')\n",
    "\n",
    "    vmax = 0.5\n",
    "    vmin = -0.5\n",
    "\n",
    "    vertex_data.vmax = vmax\n",
    "    vertex_data.vmin = vmin\n",
    "\n",
    "    cmap = 'seismic'\n",
    "    vertex_data.cmap = cmap\n",
    "\n",
    "\n",
    "    # cortex.quickflat.make_png(\n",
    "    #             f'tmp/notebook911/score WB+aROI+htROI - WB.png',\n",
    "    #             vertex_data, \n",
    "    #              with_sulci=True,\n",
    "    #              with_rois=True,\n",
    "    #              with_curvature=False,\n",
    "    #              with_colorbar=False,\n",
    "    #             dpi=350,\n",
    "    #             )\n",
    "    # cortex.quickshow(\n",
    "    #             vertex_data, \n",
    "    #              with_sulci=False,\n",
    "    #              with_rois=False,\n",
    "    #              with_curvature=False,\n",
    "    #              with_colorbar=False,\n",
    "    #             )\n",
    "    # plt.show()\n",
    "    save_fig(vertex_data, f'tmp/notebook911/score WB+aROI+htROI - {atlases}.png',\n",
    "                with_rois=False, with_labels=False, with_sulci=False)"
   ]
  },
  {
   "cell_type": "code",
   "execution_count": 20,
   "id": "6a380188-f37a-4486-bda9-1c83d7239a5a",
   "metadata": {},
   "outputs": [
    {
     "data": {
      "image/png": "[encoded data removed]",
      "text/plain": [
       "<Figure size 720x720 with 2 Axes>"
      ]
     },
     "metadata": {
      "needs_background": "light"
     },
     "output_type": "display_data"
    }
   ],
   "source": [
    "cbar_label_text = 'score difference'\n",
    "cbar = make_horizontal_color_bar(cmap, vmax, vmin, cbar_label_text=cbar_label_text, offset=-0.7)\n",
    "plt.savefig('tmp/notebook911/score diff cbar.pdf', bbox_inches=\"tight\")\n",
    "plt.show()"
   ]
  },
  {
   "cell_type": "code",
   "execution_count": null,
   "id": "a44af435-b0c5-49b2-a869-d81023867ade",
   "metadata": {},
   "outputs": [],
   "source": []
  },
  {
   "cell_type": "code",
   "execution_count": 17,
   "id": "537c2f08-2cd3-44df-9287-939cac75bdbf",
   "metadata": {},
   "outputs": [
    {
     "name": "stderr",
     "output_type": "stream",
     "text": [
      "/usr/local/anaconda3/envs/env_ube/lib/python3.8/site-packages/nilearn/surface/surface.py:464: RuntimeWarning: Mean of empty slice\n",
      "  texture = np.nanmean(all_samples, axis=2)\n",
      "/usr/local/anaconda3/envs/env_ube/lib/python3.8/site-packages/nilearn/surface/surface.py:464: RuntimeWarning: Mean of empty slice\n",
      "  texture = np.nanmean(all_samples, axis=2)\n",
      "/usr/local/anaconda3/envs/env_ube/lib/python3.8/site-packages/nilearn/surface/surface.py:464: RuntimeWarning: Mean of empty slice\n",
      "  texture = np.nanmean(all_samples, axis=2)\n",
      "/usr/local/anaconda3/envs/env_ube/lib/python3.8/site-packages/nilearn/surface/surface.py:464: RuntimeWarning: Mean of empty slice\n",
      "  texture = np.nanmean(all_samples, axis=2)\n"
     ]
    }
   ],
   "source": [
    "for atlases in ['aROI', 'htROI']:\n",
    "    voxel_score = voxel_scores_dict['aROI+htROI'] - voxel_scores_dict[atlases]\n",
    "\n",
    "    tmp_nii_path = Path(f'tmp/notebook911/score.nii')\n",
    "    example_nii_path = Path('config/example.nii')\n",
    "\n",
    "    save_voxel_data_as_subject_mean_nii(voxel_masks, voxel_score, example_nii_path, tmp_nii_path)\n",
    "\n",
    "    fill_nan_value = 0\n",
    "    nii_path = str(tmp_nii_path)\n",
    "    fsaverage = datasets.fetch_surf_fsaverage('fsaverage')\n",
    "\n",
    "    texture = np.concatenate([surface.vol_to_surf(nii_path, fsaverage.pial_left, mask_img=mask_img),\n",
    "                             surface.vol_to_surf(nii_path, fsaverage.pial_right, mask_img=mask_img)])\n",
    "    texture[np.isnan(texture)] = fill_nan_value\n",
    "\n",
    "\n",
    "    # This creates a Vertex object for our subject and test dataset\n",
    "    vertex_data = cortex.Vertex(texture, 'fsaverage')\n",
    "\n",
    "    vmax = 0.5\n",
    "    vmin = -0.5\n",
    "    \n",
    "    vertex_data.vmax = vmax\n",
    "    vertex_data.vmin = vmin\n",
    "    \n",
    "    cmap = 'seismic'\n",
    "    vertex_data.cmap = cmap\n",
    "\n",
    "\n",
    "#     cortex.quickflat.make_png(\n",
    "#                 f'tmp/notebook911/score best - {atlases}.png',\n",
    "#                 vertex_data, \n",
    "#                  with_sulci=False,\n",
    "#                  with_rois=False,\n",
    "#                  with_curvature=False,\n",
    "#                  with_colorbar=False,\n",
    "#                 dpi=350,\n",
    "#                 )\n",
    "    # cortex.quickshow(\n",
    "    #             vertex_data, \n",
    "    #              with_sulci=False,\n",
    "    #              with_rois=False,\n",
    "    #              with_curvature=False,\n",
    "    #              with_colorbar=False,\n",
    "    #             )\n",
    "    # plt.show()\n",
    "    save_fig(vertex_data, f'tmp/notebook911/score aROI+htROI - {atlases}.png')"
   ]
  },
  {
   "cell_type": "code",
   "execution_count": 22,
   "id": "0dfea37c-de4e-4d9b-81d4-99ab985afde8",
   "metadata": {},
   "outputs": [
    {
     "data": {
      "image/png": "[encoded data removed]",
      "text/plain": [
       "<Figure size 720x720 with 2 Axes>"
      ]
     },
     "metadata": {
      "needs_background": "light"
     },
     "output_type": "display_data"
    }
   ],
   "source": [
    "cbar_label_text = 'score difference'\n",
    "cbar = make_horizontal_color_bar(cmap, vmax, vmin, cbar_label_text=cbar_label_text, offset=-0.7)\n",
    "plt.savefig('tmp/notebook911/score diff cbar.pdf', bbox_inches=\"tight\")\n",
    "plt.show()"
   ]
  },
  {
   "cell_type": "code",
   "execution_count": null,
   "id": "77385f76-5a41-4d71-ac94-a32e395120c1",
   "metadata": {},
   "outputs": [],
   "source": []
  },
  {
   "cell_type": "code",
   "execution_count": null,
   "id": "5c7d29fa-1cda-490a-ac1e-0a9a8da1384a",
   "metadata": {},
   "outputs": [],
   "source": []
  },
  {
   "cell_type": "raw",
   "id": "b459fcc1-aa9c-439f-9eac-9bf30e5550a9",
   "metadata": {},
   "source": [
    "import seaborn as sns"
   ]
  },
  {
   "cell_type": "raw",
   "id": "508b0fbe-86b7-445e-8e33-2f340fed2496",
   "metadata": {},
   "source": [
    "sns.displot(voxel_score)"
   ]
  },
  {
   "cell_type": "code",
   "execution_count": 18,
   "id": "f8eac4f3-1d67-4895-b898-1637e3186548",
   "metadata": {},
   "outputs": [
    {
     "name": "stderr",
     "output_type": "stream",
     "text": [
      "/usr/local/anaconda3/envs/env_ube/lib/python3.8/site-packages/nilearn/surface/surface.py:464: RuntimeWarning: Mean of empty slice\n",
      "  texture = np.nanmean(all_samples, axis=2)\n",
      "/usr/local/anaconda3/envs/env_ube/lib/python3.8/site-packages/nilearn/surface/surface.py:464: RuntimeWarning: Mean of empty slice\n",
      "  texture = np.nanmean(all_samples, axis=2)\n"
     ]
    }
   ],
   "source": [
    "voxel_score = voxel_scores_dict['htROI'] - voxel_scores_dict['aROI']\n",
    "\n",
    "tmp_nii_path = Path(f'tmp/notebook911/score.nii')\n",
    "example_nii_path = Path('config/example.nii')\n",
    "\n",
    "save_voxel_data_as_subject_mean_nii(voxel_masks, voxel_score, example_nii_path, tmp_nii_path)\n",
    "\n",
    "fill_nan_value = 0\n",
    "nii_path = str(tmp_nii_path)\n",
    "fsaverage = datasets.fetch_surf_fsaverage('fsaverage')\n",
    "\n",
    "texture = np.concatenate([surface.vol_to_surf(nii_path, fsaverage.pial_left, mask_img=mask_img),\n",
    "                         surface.vol_to_surf(nii_path, fsaverage.pial_right, mask_img=mask_img)])\n",
    "texture[np.isnan(texture)] = fill_nan_value\n",
    "\n",
    "\n",
    "# This creates a Vertex object for our subject and test dataset\n",
    "vertex_data = cortex.Vertex(texture, 'fsaverage')\n",
    "\n",
    "vmax = 0.5\n",
    "vmin = -0.5\n",
    "\n",
    "vertex_data.vmax = vmax\n",
    "vertex_data.vmin = vmin\n",
    "\n",
    "cmap = 'seismic'\n",
    "vertex_data.cmap = cmap\n",
    "\n",
    "\n",
    "# cortex.quickflat.make_png(\n",
    "#             f'tmp/notebook911/score WB+aROI+htROI - WB.png',\n",
    "#             vertex_data, \n",
    "#              with_sulci=True,\n",
    "#              with_rois=True,\n",
    "#              with_curvature=False,\n",
    "#              with_colorbar=False,\n",
    "#             dpi=350,\n",
    "#             )\n",
    "# cortex.quickshow(\n",
    "#             vertex_data, \n",
    "#              with_sulci=False,\n",
    "#              with_rois=False,\n",
    "#              with_curvature=False,\n",
    "#              with_colorbar=False,\n",
    "#             )\n",
    "# plt.show()\n",
    "save_fig(vertex_data, f'tmp/notebook911/score htROI - aROI.png')"
   ]
  },
  {
   "cell_type": "raw",
   "id": "1bbd4e0d-aa9d-4d7e-a416-1eb4126e1ec1",
   "metadata": {},
   "source": [
    "cbar_label_text = 'score difference'\n",
    "cbar = make_horizontal_color_bar(cmap, vmax, vmin, cbar_label_text=cbar_label_text, offset=-0.7)\n",
    "plt.savefig('tmp/notebook911/score diff cbar 2.pdf', bbox_inches=\"tight\")\n",
    "plt.show()"
   ]
  },
  {
   "cell_type": "code",
   "execution_count": null,
   "id": "fc82a4fc-e9e6-4776-940c-b5f0d5ef9d2e",
   "metadata": {},
   "outputs": [],
   "source": []
  },
  {
   "cell_type": "markdown",
   "id": "e081d792-db17-4c79-a679-8129e63bf37b",
   "metadata": {},
   "source": [
    "# WB+aROI+htROI weights"
   ]
  },
  {
   "cell_type": "code",
   "execution_count": 67,
   "id": "ac39920d-a69c-412b-9c92-2ab8a7c0f0d5",
   "metadata": {},
   "outputs": [],
   "source": [
    "import nibabel as nib"
   ]
  },
  {
   "cell_type": "code",
   "execution_count": 68,
   "id": "fe085eb0-c6ab-45e2-968f-13dc93034ee6",
   "metadata": {},
   "outputs": [],
   "source": [
    "weights = torch.load('tmp/notebook200/WB+aROI+htROI weights.pt')"
   ]
  },
  {
   "cell_type": "code",
   "execution_count": 103,
   "id": "5f76db42-39c8-4061-8512-39ec22257b9d",
   "metadata": {},
   "outputs": [],
   "source": [
    "from  matplotlib.colors import LinearSegmentedColormap\n",
    "c = [\"grey\",\"royalblue\",\"cyan\"]\n",
    "v = [0,.5,1.]\n",
    "l = list(zip(v,c))\n",
    "cmap=LinearSegmentedColormap.from_list('my_colormap',l, N=256)"
   ]
  },
  {
   "cell_type": "code",
   "execution_count": 105,
   "id": "96e47550-e035-4ba8-b8b3-a0316d0332a5",
   "metadata": {},
   "outputs": [],
   "source": [
    "cmap = 'viridis'"
   ]
  },
  {
   "cell_type": "code",
   "execution_count": 106,
   "id": "eb3d28d0-8aff-42e8-9af5-92c0b1b824ca",
   "metadata": {},
   "outputs": [
    {
     "name": "stderr",
     "output_type": "stream",
     "text": [
      "/usr/local/anaconda3/envs/env_ube/lib/python3.8/site-packages/nilearn/surface/surface.py:464: RuntimeWarning: Mean of empty slice\n",
      "  texture = np.nanmean(all_samples, axis=2)\n",
      "/usr/local/anaconda3/envs/env_ube/lib/python3.8/site-packages/nilearn/surface/surface.py:464: RuntimeWarning: Mean of empty slice\n",
      "  texture = np.nanmean(all_samples, axis=2)\n",
      "/usr/local/anaconda3/envs/env_ube/lib/python3.8/site-packages/nilearn/surface/surface.py:464: RuntimeWarning: Mean of empty slice\n",
      "  texture = np.nanmean(all_samples, axis=2)\n",
      "/usr/local/anaconda3/envs/env_ube/lib/python3.8/site-packages/nilearn/surface/surface.py:464: RuntimeWarning: Mean of empty slice\n",
      "  texture = np.nanmean(all_samples, axis=2)\n",
      "/usr/local/anaconda3/envs/env_ube/lib/python3.8/site-packages/nilearn/surface/surface.py:464: RuntimeWarning: Mean of empty slice\n",
      "  texture = np.nanmean(all_samples, axis=2)\n",
      "/usr/local/anaconda3/envs/env_ube/lib/python3.8/site-packages/nilearn/surface/surface.py:464: RuntimeWarning: Mean of empty slice\n",
      "  texture = np.nanmean(all_samples, axis=2)\n"
     ]
    }
   ],
   "source": [
    "rgb_textures = []\n",
    "for i in range(3):\n",
    "    w_ch = weights[:, i]\n",
    "    save_voxel_data_as_subject_mean_nii(voxel_masks, w_ch, example_nii_path, tmp_nii_path)\n",
    "    \n",
    "    fill_nan_value = 0\n",
    "    nii_path = str(tmp_nii_path)\n",
    "    fsaverage = datasets.fetch_surf_fsaverage('fsaverage')\n",
    "\n",
    "    texture = np.concatenate([surface.vol_to_surf(nii_path, fsaverage.pial_left, mask_img=mask_img),\n",
    "                             surface.vol_to_surf(nii_path, fsaverage.pial_right, mask_img=mask_img)])\n",
    "    texture[np.isnan(texture)] = fill_nan_value\n",
    "    \n",
    "    # This creates a Vertex object for our subject and test dataset\n",
    "    vertex_data = cortex.Vertex(texture, 'fsaverage')\n",
    "\n",
    "    vmax = 1.0\n",
    "    vmin = 0.\n",
    "\n",
    "    vertex_data.vmax = vmax\n",
    "    vertex_data.vmin = vmin\n",
    "\n",
    "    cmap = cmap\n",
    "    vertex_data.cmap = cmap\n",
    "\n",
    "    save_fig(vertex_data, f'tmp/notebook911/{i} weights.png',\n",
    "                with_rois=False, with_labels=False, with_sulci=False)\n",
    "    rgb_textures.append(texture)"
   ]
  },
  {
   "cell_type": "code",
   "execution_count": 107,
   "id": "e7211435-cbc3-4f34-918d-0f5d930cd88b",
   "metadata": {},
   "outputs": [
    {
     "data": {
      "image/png": "[encoded data removed]",
      "text/plain": [
       "<Figure size 720x720 with 2 Axes>"
      ]
     },
     "metadata": {
      "needs_background": "light"
     },
     "output_type": "display_data"
    }
   ],
   "source": [
    "cbar_label_text = ''\n",
    "cbar = make_horizontal_color_bar(cmap, vmax, vmin, cbar_label_text=cbar_label_text, offset=-0.7)\n",
    "# plt.savefig('tmp/notebook911/score diff cbar.pdf', bbox_inches=\"tight\")\n",
    "plt.show()"
   ]
  },
  {
   "cell_type": "code",
   "execution_count": 81,
   "id": "1967c4ca-5143-4df7-8c43-07bc22bc4fcc",
   "metadata": {},
   "outputs": [],
   "source": [
    "from  matplotlib.colors import LinearSegmentedColormap\n",
    "cmap=LinearSegmentedColormap.from_list('my_colormap',[\"grey\", \"y\", \"r\"], N=256) "
   ]
  },
  {
   "cell_type": "code",
   "execution_count": 82,
   "id": "a13321b4-7a5c-42a5-a2e7-3df61b90f3ff",
   "metadata": {},
   "outputs": [
    {
     "data": {
      "image/png": "[encoded data removed]",
      "text/html": [
       "<div style=\"vertical-align: middle;\"><strong>my_colormap</strong> </div><div class=\"cmap\"><img alt=\"my_colormap colormap\" title=\"my_colormap\" style=\"border: 1px solid #555;\" src=\"data:image/png;base64,iVBORw0KGgoAAAANSUhEUgAAAgAAAABACAYAAABsv8+/AAAAGnRFWHRUaXRsZQBteV9jb2xvcm1hcCBjb2xvcm1hcBJM2FsAAAAgdEVYdERlc2NyaXB0aW9uAG15X2NvbG9ybWFwIGNvbG9ybWFwg1KcDQAAADB0RVh0QXV0aG9yAE1hdHBsb3RsaWIgdjMuNS4xLCBodHRwczovL21hdHBsb3RsaWIub3Jn97fOzwAAADJ0RVh0U29mdHdhcmUATWF0cGxvdGxpYiB2My41LjEsIGh0dHBzOi8vbWF0cGxvdGxpYi5vcmfZEVHoAAABVElEQVR4nO3WMQ6DMBAAwSMv5+WQgggpVCnSwM401snIyI21y7qu+8zMzHYsc4zLspvN5qfPn+Xc3sw/zd/P5f3O//P/z+8q97/sX8+5y/1fAwDkCAAACBIAABAkAAAgSAAAQJAAAIAgAQAAQQIAAIIEAAAECQAACBIAABAkAAAgSAAAQJAAAIAgAQAAQQIAAIIEAAAECQAACBIAABAkAAAgSAAAQJAAAIAgAQAAQQIAAIIEAAAECQAACBIAABAkAAAgSAAAQJAAAIAgAQAAQQIAAIIEAAAECQAACBIAABAkAAAgSAAAQJAAAIAgAQAAQQIAAIIEAAAECQAACBIAABAkAAAgSAAAQJAAAIAgAQAAQQIAAIIEAAAECQAACBIAABAkAAAgSAAAQJAAAIAgAQAAQQIAAIIEAAAECQAACBIAABAkAAAgSAAAQJAAAIAgAQAAQW+yrQGN39ZgJAAAAABJRU5ErkJggg==\"></div><div style=\"vertical-align: middle; max-width: 514px; display: flex; justify-content: space-between;\"><div style=\"float: left;\"><div title=\"#808080ff\" style=\"display: inline-block; width: 1em; height: 1em; margin: 0; vertical-align: middle; border: 1px solid #555; background-color: #808080ff;\"></div> under</div><div style=\"margin: 0 auto; display: inline-block;\">bad <div title=\"#00000000\" style=\"display: inline-block; width: 1em; height: 1em; margin: 0; vertical-align: middle; border: 1px solid #555; background-color: #00000000;\"></div></div><div style=\"float: right;\">over <div title=\"#ff0000ff\" style=\"display: inline-block; width: 1em; height: 1em; margin: 0; vertical-align: middle; border: 1px solid #555; background-color: #ff0000ff;\"></div></div>"
      ],
      "text/plain": [
       "<matplotlib.colors.LinearSegmentedColormap at 0x7ff06469fcd0>"
      ]
     },
     "execution_count": 82,
     "metadata": {},
     "output_type": "execute_result"
    }
   ],
   "source": [
    "cmap"
   ]
  },
  {
   "cell_type": "code",
   "execution_count": 98,
   "id": "1f76f2f5-3ee6-4a46-b4fc-8d5997abb069",
   "metadata": {},
   "outputs": [],
   "source": [
    "from  matplotlib.colors import LinearSegmentedColormap\n",
    "c = [\"grey\",\"yellow\",\"red\"]\n",
    "v = [0,.3,1.]\n",
    "l = list(zip(v,c))\n",
    "cmap=LinearSegmentedColormap.from_list('my_colormap',l, N=256)"
   ]
  },
  {
   "cell_type": "code",
   "execution_count": 99,
   "id": "9165ac83-beec-49da-8f68-d973516e37d9",
   "metadata": {},
   "outputs": [
    {
     "data": {
      "image/png": "[encoded data removed]",
      "text/html": [
       "<div style=\"vertical-align: middle;\"><strong>my_colormap</strong> </div><div class=\"cmap\"><img alt=\"my_colormap colormap\" title=\"my_colormap\" style=\"border: 1px solid #555;\" src=\"data:image/png;base64,iVBORw0KGgoAAAANSUhEUgAAAgAAAABACAYAAABsv8+/AAAAGnRFWHRUaXRsZQBteV9jb2xvcm1hcCBjb2xvcm1hcBJM2FsAAAAgdEVYdERlc2NyaXB0aW9uAG15X2NvbG9ybWFwIGNvbG9ybWFwg1KcDQAAADB0RVh0QXV0aG9yAE1hdHBsb3RsaWIgdjMuNS4xLCBodHRwczovL21hdHBsb3RsaWIub3Jn97fOzwAAADJ0RVh0U29mdHdhcmUATWF0cGxvdGxpYiB2My41LjEsIGh0dHBzOi8vbWF0cGxvdGxpYi5vcmfZEVHoAAABX0lEQVR4nO3WQQrCQBAAwUlenpcbDyqiF0EDKl11WXbCBPbWy7Zt+8zMspxmZmZdL+f9vpt/dX67P37/u/lcna7n/nQ+z1/d7R279+5//uV99o79j/f9xt6H71sHAMgRAAAQJAAAIEgAAECQAACAIAEAAEECAACCBAAABAkAAAgSAAAQJAAAIEgAAECQAACAIAEAAEECAACCBAAABAkAAAgSAAAQJAAAIEgAAECQAACAIAEAAEECAACCBAAABAkAAAgSAAAQJAAAIEgAAECQAACAIAEAAEECAACCBAAABAkAAAgSAAAQJAAAIEgAAECQAACAIAEAAEECAACCBAAABAkAAAgSAAAQJAAAIEgAAECQAACAIAEAAEECAACCBAAABAkAAAgSAAAQJAAAIEgAAECQAACAIAEAAEECAACCBAAABAkAAAgSAAAQJAAAIEgAAECQAACAIAEAAEECAACCzooZAI13rem8AAAAAElFTkSuQmCC\"></div><div style=\"vertical-align: middle; max-width: 514px; display: flex; justify-content: space-between;\"><div style=\"float: left;\"><div title=\"#808080ff\" style=\"display: inline-block; width: 1em; height: 1em; margin: 0; vertical-align: middle; border: 1px solid #555; background-color: #808080ff;\"></div> under</div><div style=\"margin: 0 auto; display: inline-block;\">bad <div title=\"#00000000\" style=\"display: inline-block; width: 1em; height: 1em; margin: 0; vertical-align: middle; border: 1px solid #555; background-color: #00000000;\"></div></div><div style=\"float: right;\">over <div title=\"#ff0000ff\" style=\"display: inline-block; width: 1em; height: 1em; margin: 0; vertical-align: middle; border: 1px solid #555; background-color: #ff0000ff;\"></div></div>"
      ],
      "text/plain": [
       "<matplotlib.colors.LinearSegmentedColormap at 0x7fef25d11580>"
      ]
     },
     "execution_count": 99,
     "metadata": {},
     "output_type": "execute_result"
    }
   ],
   "source": [
    "cmap"
   ]
  },
  {
   "cell_type": "code",
   "execution_count": 40,
   "id": "faf8dd2e-9bdf-4056-9afc-4485198a021d",
   "metadata": {},
   "outputs": [],
   "source": [
    "vertex_data = cortex.VertexRGB(rgb_textures[0], rgb_textures[1], rgb_textures[2], 'fsaverage')"
   ]
  },
  {
   "cell_type": "code",
   "execution_count": 46,
   "id": "609f8fe4-55ab-4db0-b9ca-209b62f96635",
   "metadata": {},
   "outputs": [],
   "source": [
    "save_fig(vertex_data, f'tmp/notebook911/rgb weights.png')"
   ]
  },
  {
   "cell_type": "code",
   "execution_count": 44,
   "id": "e5fd3d14-10ad-4d81-acb8-55c7b1dfda91",
   "metadata": {},
   "outputs": [
    {
     "name": "stdout",
     "output_type": "stream",
     "text": [
      "Started server on port 54490\n"
     ]
    },
    {
     "data": {
      "text/plain": [
       "<JS: window.viewer>"
      ]
     },
     "execution_count": 44,
     "metadata": {},
     "output_type": "execute_result"
    }
   ],
   "source": [
    "cortex.webshow(vertex_data)"
   ]
  },
  {
   "cell_type": "code",
   "execution_count": 35,
   "id": "6885279f-b9df-4d9a-afeb-e204c017d1d5",
   "metadata": {},
   "outputs": [],
   "source": [
    "nii = nib.load(tmp_nii_path)"
   ]
  },
  {
   "cell_type": "code",
   "execution_count": 38,
   "id": "5f2bec52-f5e6-4b45-99ac-9990f699356c",
   "metadata": {},
   "outputs": [
    {
     "data": {
      "text/plain": [
       "(78, 93, 71)"
      ]
     },
     "execution_count": 38,
     "metadata": {},
     "output_type": "execute_result"
    }
   ],
   "source": [
    "np.asarray(nii.dataobj).shape"
   ]
  },
  {
   "cell_type": "code",
   "execution_count": 21,
   "id": "2c1816cc-d88c-4f80-ae7e-1806acbc4a1b",
   "metadata": {},
   "outputs": [],
   "source": [
    "voxel_data = np.zeros(shape=(*voxel_masks.shape, 3))"
   ]
  },
  {
   "cell_type": "code",
   "execution_count": 22,
   "id": "aaed8402-0646-4cb6-a688-42b893962d3c",
   "metadata": {},
   "outputs": [],
   "source": [
    "voxel_data[voxel_masks == 1] = weights"
   ]
  },
  {
   "cell_type": "code",
   "execution_count": 28,
   "id": "64b12dc9-ee0b-4a65-9936-92baf418c491",
   "metadata": {},
   "outputs": [],
   "source": [
    "# mean over subjects\n",
    "d = voxel_masks.sum(0)\n",
    "d[d == 0] = 1\n",
    "d = np.stack([d for _ in range(voxel_masks.shape[0])])\n",
    "# v = voxel_data / d\n",
    "# v = v.sum(0)"
   ]
  },
  {
   "cell_type": "code",
   "execution_count": 30,
   "id": "bbb9dffe-cbe4-4f0e-a671-96b2ee8bb348",
   "metadata": {},
   "outputs": [
    {
     "data": {
      "text/plain": [
       "(10, 78, 93, 71)"
      ]
     },
     "execution_count": 30,
     "metadata": {},
     "output_type": "execute_result"
    }
   ],
   "source": [
    "voxel_masks.shape"
   ]
  },
  {
   "cell_type": "code",
   "execution_count": null,
   "id": "5012ac5f-6367-4843-9824-73e9bc31c7e3",
   "metadata": {},
   "outputs": [],
   "source": [
    "def save_voxel_rgb_as_subject_mean_nii(voxel_masks, voxel_score, example_nii_path, tmp_nii_path):\n",
    "    \n"
   ]
  }
 ],
 "metadata": {
  "kernelspec": {
   "display_name": "Python 3 (ipykernel)",
   "language": "python",
   "name": "python3"
  },
  "language_info": {
   "codemirror_mode": {
    "name": "ipython",
    "version": 3
   },
   "file_extension": ".py",
   "mimetype": "text/x-python",
   "name": "python",
   "nbconvert_exporter": "python",
   "pygments_lexer": "ipython3",
   "version": "3.8.8"
  },
  "widgets": {
   "application/vnd.jupyter.widget-state+json": {
    "state": {},
    "version_major": 2,
    "version_minor": 0
   }
  }
 },
 "nbformat": 4,
 "nbformat_minor": 5
}
