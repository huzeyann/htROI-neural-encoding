{
 "cells": [
  {
   "cell_type": "code",
   "execution_count": null,
   "id": "03e5b4aa-ae03-43bf-880f-a7a66a7aa5e4",
   "metadata": {},
   "outputs": [],
   "source": []
  },
  {
   "cell_type": "code",
   "execution_count": 1,
   "id": "e3ddd7cd-2ab3-4aa5-bda9-101ac9663031",
   "metadata": {},
   "outputs": [
    {
     "data": {
      "text/plain": [
       "True"
      ]
     },
     "execution_count": 1,
     "metadata": {},
     "output_type": "execute_result"
    }
   ],
   "source": [
    "import numpy as np\n",
    "import torch\n",
    "\n",
    "from tqdm.auto import tqdm\n",
    "from pathlib import Path\n",
    "\n",
    "import itertools\n",
    "\n",
    "import os\n",
    "from dotenv import find_dotenv, load_dotenv\n",
    "\n",
    "load_dotenv(find_dotenv(), verbose=True)"
   ]
  },
  {
   "cell_type": "code",
   "execution_count": 2,
   "id": "55c71c39-8c6f-425e-92ef-862e6f4c42d7",
   "metadata": {},
   "outputs": [],
   "source": [
    "from src.utils.runs import load_run_df, filter_multi_layer_runs, filter_single_layer_runs, my_query_df"
   ]
  },
  {
   "cell_type": "code",
   "execution_count": 3,
   "id": "a5f5f4e9-05ef-4087-9748-910c06b198d6",
   "metadata": {},
   "outputs": [],
   "source": [
    "RESULTS_DIR = Path('/data/huze/ray_results/algonauts2021/')"
   ]
  },
  {
   "cell_type": "code",
   "execution_count": 4,
   "id": "2ed2182c-540f-46ac-b607-328481593186",
   "metadata": {},
   "outputs": [
    {
     "data": {
      "application/vnd.jupyter.widget-view+json": {
       "model_id": "950a6bffface4b319ccc01de495a2a61",
       "version_major": 2,
       "version_minor": 0
      },
      "text/plain": [
       "  0%|          | 0/2664 [00:00<?, ?it/s]"
      ]
     },
     "metadata": {},
     "output_type": "display_data"
    }
   ],
   "source": [
    "run_df = load_run_df(RESULTS_DIR)"
   ]
  },
  {
   "cell_type": "code",
   "execution_count": 5,
   "id": "235adf57-2ca7-459e-b1d9-223c9aa25379",
   "metadata": {},
   "outputs": [],
   "source": [
    "run_df = run_df[run_df['TRAINER.CALLBACKS.BACKBONE.DEFROST_SCORE'] < 1.]\n",
    "run_df = run_df[run_df['DATASET.ROI'] == 'WB']"
   ]
  },
  {
   "cell_type": "code",
   "execution_count": 6,
   "id": "0eaa9122-f79b-478d-acf5-899c4a44c936",
   "metadata": {},
   "outputs": [
    {
     "data": {
      "text/plain": [
       "191"
      ]
     },
     "execution_count": 6,
     "metadata": {},
     "output_type": "execute_result"
    }
   ],
   "source": [
    "len(run_df)"
   ]
  },
  {
   "cell_type": "markdown",
   "id": "0a309377-67ab-4180-a8cb-22dabf08f558",
   "metadata": {},
   "source": [
    "# prepare data"
   ]
  },
  {
   "cell_type": "code",
   "execution_count": 7,
   "id": "bbee45b8-e690-4df8-8b55-56f92e8fe8f6",
   "metadata": {},
   "outputs": [],
   "source": [
    "from src.utils.ensemble import optimize_val_correlation\n",
    "from src.config.config import combine_cfgs, get_cfg_defaults\n",
    "from src.data.datamodule import MyDataModule\n",
    "from pathlib import Path\n",
    "import torch\n",
    "import numpy as np"
   ]
  },
  {
   "cell_type": "code",
   "execution_count": 8,
   "id": "c43d727a-dc25-4bda-8bd4-d8cd0012e57b",
   "metadata": {
    "collapsed": false,
    "jupyter": {
     "outputs_hidden": false
    },
    "pycharm": {
     "name": "#%%\n"
    }
   },
   "outputs": [],
   "source": [
    "# prepare train and validation data\n",
    "cfg = get_cfg_defaults()\n",
    "cfg.DATASET.TRANSFORM = 'i3d_flow'\n",
    "dm = MyDataModule(cfg)\n",
    "dm.prepare_data()\n",
    "dm.setup()\n",
    "\n",
    "val_indices = dm.val_dataset.indices\n",
    "fmris_cache_path = Path('/data/huze/.cache/trainval_fmris.pt')\n",
    "\n",
    "if fmris_cache_path.exists():\n",
    "    fmris = torch.load(fmris_cache_path)\n",
    "else:\n",
    "    fmris = [dm.dataset_train_val.__getitem__(i)[1]\n",
    "             for i in tqdm(range(dm.dataset_train_val.__len__()))]\n",
    "    fmris = np.stack(fmris, 0)\n",
    "    fmris = torch.tensor(fmris)\n",
    "    torch.save(fmris, fmris_cache_path)\n",
    "\n",
    "val_fmris = fmris[val_indices]"
   ]
  },
  {
   "cell_type": "code",
   "execution_count": null,
   "id": "da2c604b-e429-4951-a38e-72dc42d95ee5",
   "metadata": {},
   "outputs": [],
   "source": []
  },
  {
   "cell_type": "code",
   "execution_count": 23,
   "id": "fd3fe2b1-e842-446c-9fa0-2fe2b7c6b038",
   "metadata": {
    "tags": []
   },
   "outputs": [],
   "source": [
    "def get_ensemble_prediction_from_tensor_list(predicions_list, roi_val_fmris, val_indices, opt_verbose=False, tol=1e-2):\n",
    "    predictions = torch.stack(predicions_list, -1)\n",
    "    ws = optimize_val_correlation(predictions[val_indices],\n",
    "                                  roi_val_fmris,\n",
    "                                  verbose=opt_verbose,\n",
    "                                  device=DEVICE,\n",
    "                                  tol=tol)\n",
    "    new_predictions = predictions @ ws\n",
    "    return new_predictions, ws\n",
    "\n",
    "def multiply_and_flatten_voxel_embeddings_by_ensemble_weight(voxel_embeddings_list, ws, voxel_embeddings_dims=2, cat_dim=-1):\n",
    "    for i in range(len(ws)):\n",
    "        voxel_embeddings_list[i] *= ws[i]\n",
    "    \n",
    "    if len(voxel_embeddings_list[0].shape) == voxel_embeddings_dims:\n",
    "        return torch.stack(voxel_embeddings_list, cat_dim)\n",
    "    elif len(voxel_embeddings_list[0].shape) == voxel_embeddings_dims + 1:\n",
    "        return torch.cat(voxel_embeddings_list, cat_dim)\n",
    "    else:\n",
    "        NotImplementedError()"
   ]
  },
  {
   "cell_type": "code",
   "execution_count": 10,
   "id": "ce57892a-37fd-4df4-8af3-e87808aeb8bd",
   "metadata": {},
   "outputs": [
    {
     "data": {
      "text/plain": [
       "MODEL.BACKBONE.NAME\n",
       "2d_bdcnvgg_warp_3d         17\n",
       "2d_colorizer_warp_3d       17\n",
       "2d_densnet_warp_3d         17\n",
       "2d_moby_swin_warp_3d       17\n",
       "2d_pyconvsegnet_warp_3d    17\n",
       "2d_seg_swin_warp_3d        17\n",
       "2d_simclr_warp_3d          17\n",
       "3d_swin                    17\n",
       "audio_vggish               21\n",
       "i3d_flow                   17\n",
       "i3d_rgb                    17\n",
       "Name: path, dtype: int64"
      ]
     },
     "execution_count": 10,
     "metadata": {},
     "output_type": "execute_result"
    }
   ],
   "source": [
    "run_df.groupby('MODEL.BACKBONE.NAME')['path'].nunique()"
   ]
  },
  {
   "cell_type": "code",
   "execution_count": 11,
   "id": "502be50f-f578-4c6e-83d4-583e3b3b705c",
   "metadata": {},
   "outputs": [
    {
     "data": {
      "text/plain": [
       "236.0687255859375"
      ]
     },
     "execution_count": 11,
     "metadata": {},
     "output_type": "execute_result"
    }
   ],
   "source": [
    "(17*10+21)*2048*162000*4/1024**3"
   ]
  },
  {
   "cell_type": "code",
   "execution_count": 12,
   "id": "3be5d4f5-0b02-4188-b7db-cc9c7ee33632",
   "metadata": {},
   "outputs": [
    {
     "data": {
      "text/html": [
       "<div>\n",
       "<style scoped>\n",
       "    .dataframe tbody tr th:only-of-type {\n",
       "        vertical-align: middle;\n",
       "    }\n",
       "\n",
       "    .dataframe tbody tr th {\n",
       "        vertical-align: top;\n",
       "    }\n",
       "\n",
       "    .dataframe thead th {\n",
       "        text-align: right;\n",
       "    }\n",
       "</style>\n",
       "<table border=\"1\" class=\"dataframe\">\n",
       "  <thead>\n",
       "    <tr style=\"text-align: right;\">\n",
       "      <th></th>\n",
       "      <th>MODEL.BACKBONE.NAME</th>\n",
       "      <th>MODEL.BACKBONE.LAYERS</th>\n",
       "      <th>MODEL.NECK.SPP_LEVELS</th>\n",
       "      <th>DATASET.ROI</th>\n",
       "      <th>score</th>\n",
       "    </tr>\n",
       "  </thead>\n",
       "  <tbody>\n",
       "    <tr>\n",
       "      <th>945</th>\n",
       "      <td>3d_swin</td>\n",
       "      <td>(x1,)</td>\n",
       "      <td>(1,)</td>\n",
       "      <td>WB</td>\n",
       "      <td>0.094153</td>\n",
       "    </tr>\n",
       "    <tr>\n",
       "      <th>949</th>\n",
       "      <td>3d_swin</td>\n",
       "      <td>(x1,)</td>\n",
       "      <td>(2,)</td>\n",
       "      <td>WB</td>\n",
       "      <td>0.098252</td>\n",
       "    </tr>\n",
       "    <tr>\n",
       "      <th>956</th>\n",
       "      <td>3d_swin</td>\n",
       "      <td>(x1,)</td>\n",
       "      <td>(3,)</td>\n",
       "      <td>WB</td>\n",
       "      <td>0.101645</td>\n",
       "    </tr>\n",
       "    <tr>\n",
       "      <th>944</th>\n",
       "      <td>3d_swin</td>\n",
       "      <td>(x1,)</td>\n",
       "      <td>(7,)</td>\n",
       "      <td>WB</td>\n",
       "      <td>0.096773</td>\n",
       "    </tr>\n",
       "    <tr>\n",
       "      <th>1635</th>\n",
       "      <td>3d_swin</td>\n",
       "      <td>(x1, x2, x3, x4)</td>\n",
       "      <td>(1, 2, 3, 7)</td>\n",
       "      <td>WB</td>\n",
       "      <td>0.141382</td>\n",
       "    </tr>\n",
       "    <tr>\n",
       "      <th>941</th>\n",
       "      <td>3d_swin</td>\n",
       "      <td>(x2,)</td>\n",
       "      <td>(1,)</td>\n",
       "      <td>WB</td>\n",
       "      <td>0.103469</td>\n",
       "    </tr>\n",
       "    <tr>\n",
       "      <th>952</th>\n",
       "      <td>3d_swin</td>\n",
       "      <td>(x2,)</td>\n",
       "      <td>(2,)</td>\n",
       "      <td>WB</td>\n",
       "      <td>0.112857</td>\n",
       "    </tr>\n",
       "    <tr>\n",
       "      <th>947</th>\n",
       "      <td>3d_swin</td>\n",
       "      <td>(x2,)</td>\n",
       "      <td>(3,)</td>\n",
       "      <td>WB</td>\n",
       "      <td>0.117669</td>\n",
       "    </tr>\n",
       "    <tr>\n",
       "      <th>955</th>\n",
       "      <td>3d_swin</td>\n",
       "      <td>(x2,)</td>\n",
       "      <td>(7,)</td>\n",
       "      <td>WB</td>\n",
       "      <td>0.105365</td>\n",
       "    </tr>\n",
       "    <tr>\n",
       "      <th>943</th>\n",
       "      <td>3d_swin</td>\n",
       "      <td>(x3,)</td>\n",
       "      <td>(1,)</td>\n",
       "      <td>WB</td>\n",
       "      <td>0.142096</td>\n",
       "    </tr>\n",
       "    <tr>\n",
       "      <th>948</th>\n",
       "      <td>3d_swin</td>\n",
       "      <td>(x3,)</td>\n",
       "      <td>(2,)</td>\n",
       "      <td>WB</td>\n",
       "      <td>0.146566</td>\n",
       "    </tr>\n",
       "    <tr>\n",
       "      <th>950</th>\n",
       "      <td>3d_swin</td>\n",
       "      <td>(x3,)</td>\n",
       "      <td>(3,)</td>\n",
       "      <td>WB</td>\n",
       "      <td>0.145983</td>\n",
       "    </tr>\n",
       "    <tr>\n",
       "      <th>946</th>\n",
       "      <td>3d_swin</td>\n",
       "      <td>(x3,)</td>\n",
       "      <td>(7,)</td>\n",
       "      <td>WB</td>\n",
       "      <td>0.141022</td>\n",
       "    </tr>\n",
       "    <tr>\n",
       "      <th>954</th>\n",
       "      <td>3d_swin</td>\n",
       "      <td>(x4,)</td>\n",
       "      <td>(1,)</td>\n",
       "      <td>WB</td>\n",
       "      <td>0.142651</td>\n",
       "    </tr>\n",
       "    <tr>\n",
       "      <th>953</th>\n",
       "      <td>3d_swin</td>\n",
       "      <td>(x4,)</td>\n",
       "      <td>(2,)</td>\n",
       "      <td>WB</td>\n",
       "      <td>0.145105</td>\n",
       "    </tr>\n",
       "    <tr>\n",
       "      <th>942</th>\n",
       "      <td>3d_swin</td>\n",
       "      <td>(x4,)</td>\n",
       "      <td>(3,)</td>\n",
       "      <td>WB</td>\n",
       "      <td>0.147281</td>\n",
       "    </tr>\n",
       "    <tr>\n",
       "      <th>951</th>\n",
       "      <td>3d_swin</td>\n",
       "      <td>(x4,)</td>\n",
       "      <td>(7,)</td>\n",
       "      <td>WB</td>\n",
       "      <td>0.134314</td>\n",
       "    </tr>\n",
       "  </tbody>\n",
       "</table>\n",
       "</div>"
      ],
      "text/plain": [
       "     MODEL.BACKBONE.NAME MODEL.BACKBONE.LAYERS MODEL.NECK.SPP_LEVELS  \\\n",
       "945              3d_swin                 (x1,)                  (1,)   \n",
       "949              3d_swin                 (x1,)                  (2,)   \n",
       "956              3d_swin                 (x1,)                  (3,)   \n",
       "944              3d_swin                 (x1,)                  (7,)   \n",
       "1635             3d_swin      (x1, x2, x3, x4)          (1, 2, 3, 7)   \n",
       "941              3d_swin                 (x2,)                  (1,)   \n",
       "952              3d_swin                 (x2,)                  (2,)   \n",
       "947              3d_swin                 (x2,)                  (3,)   \n",
       "955              3d_swin                 (x2,)                  (7,)   \n",
       "943              3d_swin                 (x3,)                  (1,)   \n",
       "948              3d_swin                 (x3,)                  (2,)   \n",
       "950              3d_swin                 (x3,)                  (3,)   \n",
       "946              3d_swin                 (x3,)                  (7,)   \n",
       "954              3d_swin                 (x4,)                  (1,)   \n",
       "953              3d_swin                 (x4,)                  (2,)   \n",
       "942              3d_swin                 (x4,)                  (3,)   \n",
       "951              3d_swin                 (x4,)                  (7,)   \n",
       "\n",
       "     DATASET.ROI     score  \n",
       "945           WB  0.094153  \n",
       "949           WB  0.098252  \n",
       "956           WB  0.101645  \n",
       "944           WB  0.096773  \n",
       "1635          WB  0.141382  \n",
       "941           WB  0.103469  \n",
       "952           WB  0.112857  \n",
       "947           WB  0.117669  \n",
       "955           WB  0.105365  \n",
       "943           WB  0.142096  \n",
       "948           WB  0.146566  \n",
       "950           WB  0.145983  \n",
       "946           WB  0.141022  \n",
       "954           WB  0.142651  \n",
       "953           WB  0.145105  \n",
       "942           WB  0.147281  \n",
       "951           WB  0.134314  "
      ]
     },
     "execution_count": 12,
     "metadata": {},
     "output_type": "execute_result"
    }
   ],
   "source": [
    "my_query_df(run_df, equal_dict={'MODEL.BACKBONE.NAME': '3d_swin'})[['MODEL.BACKBONE.NAME', 'MODEL.BACKBONE.LAYERS', 'MODEL.NECK.SPP_LEVELS', 'DATASET.ROI', 'score']].sort_values(['MODEL.BACKBONE.LAYERS', 'MODEL.NECK.SPP_LEVELS'])"
   ]
  },
  {
   "cell_type": "code",
   "execution_count": 13,
   "id": "ca1521f4-057c-4ff6-bba9-52e9c079d57a",
   "metadata": {},
   "outputs": [],
   "source": [
    "roi = 'WB'\n",
    "# backbone_names = ['i3d_rgb', 'i3d_flow']\n",
    "# run_df = my_query_df(run_df, isin_dict={'MODEL.BACKBONE.NAME': backbone_names})\n",
    "\n",
    "\n",
    "verbose=True\n",
    "opt_verbose=False\n",
    "\n",
    "DEVICE = 'cuda:1' # the bottle neck is Disk I/O"
   ]
  },
  {
   "cell_type": "code",
   "execution_count": 14,
   "id": "78bf18b1-a08c-4d2d-a1a1-ea36ff397c7b",
   "metadata": {},
   "outputs": [
    {
     "name": "stdout",
     "output_type": "stream",
     "text": [
      "              total        used        free      shared  buff/cache   available\n",
      "Mem:           251G         38G         74G        144M        139G        211G\n",
      "Swap:          7.6G          0B        7.6G\n"
     ]
    }
   ],
   "source": [
    "!free -h"
   ]
  },
  {
   "cell_type": "code",
   "execution_count": 16,
   "id": "53aa81a6-1a15-457e-b11b-9e2e0774137d",
   "metadata": {},
   "outputs": [
    {
     "name": "stdout",
     "output_type": "stream",
     "text": [
      "Level 1...\t WB i3d_rgb ('x4',) \t\n",
      "Level 1...\t WB i3d_rgb ('x3',) \t\n",
      "Level 1...\t WB i3d_rgb ('x2',) \t\n",
      "Level 1...\t WB i3d_rgb ('x1',) \t\n",
      "Level 1...\t WB i3d_rgb ('x1', 'x2', 'x3', 'x4') \t\n",
      "Level 2...\t WB i3d_rgb \t\n",
      "Level 3...\t WB \t\n"
     ]
    }
   ],
   "source": [
    "from src.utils.misc import my_query_df\n",
    "\n",
    "ORDERED_HIERACHY_KEYS = ['MODEL.BACKBONE.NAME', 'MODEL.BACKBONE.LAYERS', 'MODEL.NECK.SPP_LEVELS']\n",
    "he_keys=ORDERED_HIERACHY_KEYS\n",
    "    \n",
    "# assert roi == 'WB' # comment this line to subdivide other rois\n",
    "\n",
    "# some backbone has different layers\n",
    "avaliable_configs = list(run_df.groupby(he_keys[:2]).groups)\n",
    "\n",
    "roi_voxel_indices = torch.load(os.path.join(cfg.DATASET.VOXEL_INDEX_DIR, f'{roi}.pt'))\n",
    "roi_val_fmris = val_fmris[..., roi_voxel_indices]\n",
    "\n",
    "loaded_backbone_names = []\n",
    "\n",
    "# this 2 is for reloading of voxel embeddings (not used)\n",
    "level1_config_tasks_ws = []\n",
    "level2_config_ws = []\n",
    "\n",
    "oo_predictions_list = []\n",
    "oo_voxel_embeddings_list = []\n",
    "# saved_res_dict = {}\n",
    "# voxel_embeddings_dict = {}\n",
    "oo_ws_list = []\n",
    "for v11 in run_df[he_keys[0]].unique():\n",
    "# for v11 in ['i3d_rgb']:\n",
    "    o_predictions_list = []\n",
    "    o_voxel_embeddings_list = []\n",
    "    o_ws_list = []\n",
    "    for v1 in run_df[he_keys[1]].unique():\n",
    "\n",
    "        vs = (v11, v1)\n",
    "        if vs not in avaliable_configs: continue\n",
    "        _l1_df = my_query_df(run_df, equal_dict={k: v for k, v in zip(he_keys[:2], vs)})\n",
    "        roi_df = _l1_df.loc[_l1_df['DATASET.ROI'] == roi]\n",
    "\n",
    "        predictions_list = [\n",
    "            torch.tensor(np.load(path.joinpath('prediction.npy'))).float()\n",
    "            for path in roi_df['path'].values\n",
    "        ]\n",
    "\n",
    "        voxel_embeddings_list = [\n",
    "            torch.tensor(np.load(path.joinpath('voxel_embedding.npy')))\n",
    "            for path in roi_df['path'].values\n",
    "        ]\n",
    "\n",
    "        if verbose:\n",
    "            print('Level 1...\\t', roi, v11, v1, '\\t')\n",
    "        new_predictions, ws = get_ensemble_prediction_from_tensor_list(predictions_list, roi_val_fmris, val_indices, opt_verbose=opt_verbose)\n",
    "        new_voxel_embeddings = multiply_and_flatten_voxel_embeddings_by_ensemble_weight(voxel_embeddings_list, ws)\n",
    "        \n",
    "        level1_config_tasks_ws.append((vs, roi_df['path'].values, ws.numpy()))\n",
    "\n",
    "        o_predictions_list.append(new_predictions)\n",
    "        o_voxel_embeddings_list.append(new_voxel_embeddings)\n",
    "        o_ws_list.append(ws)\n",
    "    if verbose:\n",
    "        print('Level 2...\\t', roi, v11, '\\t')\n",
    "    new_predictions, ws = get_ensemble_prediction_from_tensor_list(o_predictions_list, roi_val_fmris, val_indices, opt_verbose=opt_verbose)\n",
    "    new_voxel_embeddings = multiply_and_flatten_voxel_embeddings_by_ensemble_weight(o_voxel_embeddings_list, ws)\n",
    "\n",
    "    level2_config_ws.append((v11, ws.numpy()))\n",
    "\n",
    "    oo_predictions_list.append(new_predictions)\n",
    "    oo_voxel_embeddings_list.append(new_voxel_embeddings)\n",
    "    # voxel_embeddings_dict[v11] = new_voxel_embeddings\n",
    "    \n",
    "    loaded_backbone_names.append(v11)\n",
    "    assert len(ws) == len(o_ws_list)\n",
    "    for i in range(len(ws)):\n",
    "        o_ws_list[i] *= ws[i]\n",
    "    oo_ws_list.append(torch.cat(o_ws_list))\n",
    "if verbose:\n",
    "    print('Level 3...\\t', roi, '\\t')\n",
    "\n",
    "new_predictions, backbone_ensemble_ws = get_ensemble_prediction_from_tensor_list(oo_predictions_list, roi_val_fmris, val_indices, opt_verbose=opt_verbose)"
   ]
  },
  {
   "cell_type": "raw",
   "id": "44c475d3-b497-446e-9af0-e7a706502804",
   "metadata": {},
   "source": [
    "from src.utils.submission import algonauts2021_submission_from_whole_brain_prediction\n",
    "algonauts2021_submission_from_whole_brain_prediction('../../src/config/dataset',\n",
    "                                                    'i3d_rgb(0.0001)',\n",
    "                                                    new_predictions[1000:].numpy(),\n",
    "                                                    output_dir='./submissions/')"
   ]
  },
  {
   "cell_type": "code",
   "execution_count": null,
   "id": "b94fb6d0-a2e7-41ca-b0f7-23786184df8c",
   "metadata": {},
   "outputs": [
    {
     "name": "stdout",
     "output_type": "stream",
     "text": [
      "              total        used        free      shared  buff/cache   available\n",
      "Mem:           503G        285G        9.2G        1.8M        208G        214G\n",
      "Swap:          7.6G        734M        6.9G\n"
     ]
    }
   ],
   "source": [
    "!free -h"
   ]
  },
  {
   "cell_type": "code",
   "execution_count": 12,
   "id": "a1b0f225-fa39-4302-84d5-ed012e9a9bc0",
   "metadata": {},
   "outputs": [],
   "source": [
    "TEMP_DIR = RESULTS_DIR.joinpath(Path('tmp/notebook-010/'))"
   ]
  },
  {
   "cell_type": "code",
   "execution_count": null,
   "id": "38847275-4011-4272-8665-458f8ed94ce0",
   "metadata": {},
   "outputs": [],
   "source": [
    "TEMP_DIR.mkdir(parents=True, exist_ok=True)"
   ]
  },
  {
   "cell_type": "code",
   "execution_count": null,
   "id": "14988df3-d713-4439-aa41-d1d6ce74f1ce",
   "metadata": {},
   "outputs": [],
   "source": [
    "from src.utils.metrics import vectorized_correlation\n",
    "from einops import rearrange"
   ]
  },
  {
   "cell_type": "code",
   "execution_count": null,
   "id": "be71818e-4d18-4727-8aaf-d575d38d659b",
   "metadata": {},
   "outputs": [],
   "source": [
    "for backbone_name, voxel_embeddings, predictions in zip(loaded_backbone_names, oo_voxel_embeddings_list, oo_predictions_list):\n",
    "    voxel_scores = vectorized_correlation(predictions[val_indices], val_fmris).numpy()\n",
    "    predictions = predictions.numpy()\n",
    "    voxel_embeddings = rearrange(voxel_embeddings, 'num_voxels d num_models -> num_voxels (d num_models)').numpy()\n",
    "    \n",
    "    np.save(TEMP_DIR.joinpath(Path(f'{backbone_name}-voxel_embeddings.npy')), voxel_embeddings)\n",
    "    np.save(TEMP_DIR.joinpath(Path(f'{backbone_name}-voxel_scores.npy')), voxel_scores)\n",
    "    np.save(TEMP_DIR.joinpath(Path(f'{backbone_name}-predictions.npy')), predictions)"
   ]
  },
  {
   "cell_type": "code",
   "execution_count": 20,
   "id": "50f98094-16c3-4c0d-8c69-2c15a2efe5ba",
   "metadata": {},
   "outputs": [
    {
     "data": {
      "text/plain": [
       "PosixPath('/data/huze/ray_results/algonauts2021/tmp/notebook-010')"
      ]
     },
     "execution_count": 20,
     "metadata": {},
     "output_type": "execute_result"
    }
   ],
   "source": [
    "TEMP_DIR"
   ]
  },
  {
   "cell_type": "code",
   "execution_count": 15,
   "id": "cf54f667-eece-43e5-b14e-edf81e6890b3",
   "metadata": {},
   "outputs": [
    {
     "name": "stdout",
     "output_type": "stream",
     "text": [
      "total 146G\n",
      "drwxrwxr-x 2 huze huze 4.0K 3月  13 00:06 .\n",
      "drwxrwxr-x 3 huze huze 4.0K 3月  11 23:45 ..\n",
      "-rw-rw-r-- 1 huze huze 679M 3月  11 23:46 2d_bdcnvgg_warp_3d-predictions.npy\n",
      "-rw-rw-r-- 1 huze huze  21G 3月  11 23:46 2d_bdcnvgg_warp_3d-voxel_embeddings.npy\n",
      "-rw-rw-r-- 1 huze huze 631K 3月  11 23:46 2d_bdcnvgg_warp_3d-voxel_scores.npy\n",
      "-rw-rw-r-- 1 huze huze 679M 3月  11 23:53 2d_colorizer_warp_3d-predictions.npy\n",
      "-rw-rw-r-- 1 huze huze  21G 3月  11 23:53 2d_colorizer_warp_3d-voxel_embeddings.npy\n",
      "-rw-rw-r-- 1 huze huze 631K 3月  11 23:53 2d_colorizer_warp_3d-voxel_scores.npy\n",
      "-rw-rw-r-- 1 huze huze 679M 3月  11 23:45 2d_densnet_warp_3d-predictions.npy\n",
      "-rw-rw-r-- 1 huze huze  21G 3月  11 23:45 2d_densnet_warp_3d-voxel_embeddings.npy\n",
      "-rw-rw-r-- 1 huze huze 631K 3月  11 23:45 2d_densnet_warp_3d-voxel_scores.npy\n",
      "-rw-rw-r-- 1 huze huze 679M 3月  11 23:48 2d_moby_swin_warp_3d-predictions.npy\n",
      "-rw-rw-r-- 1 huze huze  21G 3月  11 23:48 2d_moby_swin_warp_3d-voxel_embeddings.npy\n",
      "-rw-rw-r-- 1 huze huze 631K 3月  11 23:48 2d_moby_swin_warp_3d-voxel_scores.npy\n",
      "-rw-rw-r-- 1 huze huze 679M 3月  11 23:51 2d_pyconvsegnet_warp_3d-predictions.npy\n",
      "-rw-rw-r-- 1 huze huze  21G 3月  11 23:51 2d_pyconvsegnet_warp_3d-voxel_embeddings.npy\n",
      "-rw-rw-r-- 1 huze huze 631K 3月  11 23:51 2d_pyconvsegnet_warp_3d-voxel_scores.npy\n",
      "-rw-rw-r-- 1 huze huze 679M 3月  11 23:50 2d_seg_swin_warp_3d-predictions.npy\n",
      "-rw-rw-r-- 1 huze huze  21G 3月  11 23:50 2d_seg_swin_warp_3d-voxel_embeddings.npy\n",
      "-rw-rw-r-- 1 huze huze 631K 3月  11 23:50 2d_seg_swin_warp_3d-voxel_scores.npy\n",
      "-rw-rw-r-- 1 huze huze 679M 3月  11 23:52 2d_simclr_warp_3d-predictions.npy\n",
      "-rw-rw-r-- 1 huze huze  16G 1月   1  1970 2d_simclr_warp_3d-voxel_embeddings.npy\n"
     ]
    }
   ],
   "source": [
    "!ls -lah /data/huze/ray_results/algonauts2021/tmp/notebook-010/"
   ]
  },
  {
   "cell_type": "code",
   "execution_count": 22,
   "id": "88286dc7-d263-4f4c-b59e-87bc8d534394",
   "metadata": {},
   "outputs": [],
   "source": [
    "del o_voxel_embeddings_list, o_predictions_list"
   ]
  },
  {
   "cell_type": "code",
   "execution_count": 23,
   "id": "b7944c91-cb6e-4659-a6c5-ad6a2e134482",
   "metadata": {},
   "outputs": [
    {
     "name": "stdout",
     "output_type": "stream",
     "text": [
      "              total        used        free      shared  buff/cache   available\n",
      "Mem:           503G        259G         26G        1.8M        217G        241G\n",
      "Swap:          7.6G        750M        6.9G\n"
     ]
    }
   ],
   "source": [
    "!free -h"
   ]
  },
  {
   "cell_type": "code",
   "execution_count": 24,
   "id": "b9823bb5-dede-420b-b253-81dc1bb881e6",
   "metadata": {},
   "outputs": [],
   "source": [
    "backbone_name = 'all'\n",
    "\n",
    "voxel_scores = vectorized_correlation(new_predictions[val_indices], val_fmris).numpy()\n",
    "np.save(TEMP_DIR.joinpath(Path(f'{backbone_name}-voxel_scores.npy')), voxel_scores)\n",
    "\n",
    "np.save(TEMP_DIR.joinpath(Path(f'{backbone_name}-predictions.npy')), new_predictions.numpy())"
   ]
  },
  {
   "cell_type": "code",
   "execution_count": 25,
   "id": "749a26c5-7e52-4866-98b3-224369151919",
   "metadata": {},
   "outputs": [],
   "source": [
    "np.save(TEMP_DIR.joinpath(Path(f'{backbone_name}-backbone_ensemble_ws.npy')), backbone_ensemble_ws.numpy())"
   ]
  },
  {
   "cell_type": "code",
   "execution_count": 27,
   "id": "f16e99fb-3470-4a53-88f1-83def5f2d070",
   "metadata": {},
   "outputs": [],
   "source": [
    "np.save(TEMP_DIR.joinpath(Path(f'{backbone_name}-loaded_backbone_names.npy')), loaded_backbone_names)"
   ]
  },
  {
   "cell_type": "raw",
   "id": "bfbd8376-a6fa-4903-b869-7a2dd46ee9a8",
   "metadata": {},
   "source": [
    "# this will double memory usage\n",
    "joint_voxel_embeddings = multiply_and_flatten_voxel_embeddings_by_ensemble_weight(oo_voxel_embeddings_list, backbone_ensemble_ws)\n",
    "\n",
    "del oo_voxel_embeddings_list\n",
    "\n",
    "backbone_name = 'all'\n",
    "\n",
    "joint_voxel_embeddings = rearrange(joint_voxel_embeddings, 'num_voxels d num_models -> num_voxels (d num_models)').numpy()\n",
    "np.save(TEMP_DIR.joinpath(Path(f'{backbone_name}-voxel_embeddings.npy')), joint_voxel_embeddings)\n",
    "\n",
    "voxel_scores = vectorized_correlation(new_predictions[val_indices], val_fmris).numpy()\n",
    "np.save(TEMP_DIR.joinpath(Path(f'{backbone_name}-voxel_scores.npy')), voxel_scores)\n",
    "\n",
    "np.save(TEMP_DIR.joinpath(Path(f'{backbone_name}-predictions.npy')), new_predictions.numpy())"
   ]
  },
  {
   "cell_type": "raw",
   "id": "8519a2f2-0e26-4c3b-bba4-8a194f23cfd7",
   "metadata": {},
   "source": [
    "del joint_voxel_embeddings"
   ]
  },
  {
   "cell_type": "code",
   "execution_count": 30,
   "id": "06cd14d9-e927-4986-8469-c4a9fafafe37",
   "metadata": {},
   "outputs": [],
   "source": [
    "del oo_voxel_embeddings_list"
   ]
  },
  {
   "cell_type": "code",
   "execution_count": null,
   "id": "e97f4ca4-d2d2-4c1b-aad2-8c5999dcf56a",
   "metadata": {},
   "outputs": [],
   "source": []
  },
  {
   "cell_type": "code",
   "execution_count": 13,
   "id": "33bb4932-877a-415c-abd8-1b656c0061a5",
   "metadata": {},
   "outputs": [
    {
     "data": {
      "text/plain": [
       "PosixPath('/data/huze/ray_results/algonauts2021/tmp/notebook-010')"
      ]
     },
     "execution_count": 13,
     "metadata": {},
     "output_type": "execute_result"
    }
   ],
   "source": [
    "TEMP_DIR"
   ]
  },
  {
   "cell_type": "code",
   "execution_count": 15,
   "id": "6fa62c32-5ff0-4ff5-859d-18ea7a3b4587",
   "metadata": {},
   "outputs": [
    {
     "name": "stdout",
     "output_type": "stream",
     "text": [
      "total 8\n",
      "drwxrwxr-x 2 amax 4096 3月  12 13:11 \u001b[0m\u001b[01;34mnotebook011\u001b[0m/\n",
      "drwxrwxr-x 5 amax 4096 3月  12 17:14 \u001b[01;34mnotebook012\u001b[0m/\n"
     ]
    }
   ],
   "source": [
    "ll tmp"
   ]
  },
  {
   "cell_type": "code",
   "execution_count": 16,
   "id": "91d187ed-7fe3-4d82-a8f7-dea257aaccdf",
   "metadata": {},
   "outputs": [],
   "source": [
    "mkdir tmp/notebook010"
   ]
  },
  {
   "cell_type": "code",
   "execution_count": 1,
   "id": "5df1b5ef-d609-4d84-924d-c674f736e5f8",
   "metadata": {},
   "outputs": [
    {
     "name": "stdout",
     "output_type": "stream",
     "text": [
      "total 156269336\n",
      "-rw-rw-r-- 1 huze   711125136 3月  11 23:46 2d_bdcnvgg_warp_3d-predictions.npy\n",
      "-rw-rw-r-- 1 huze 22466904192 3月  11 23:46 2d_bdcnvgg_warp_3d-voxel_embeddings.npy\n",
      "-rw-rw-r-- 1 huze      645432 3月  11 23:46 2d_bdcnvgg_warp_3d-voxel_scores.npy\n",
      "-rw-rw-r-- 1 huze   711125136 3月  11 23:53 2d_colorizer_warp_3d-predictions.npy\n",
      "-rw-rw-r-- 1 huze 22466904192 3月  11 23:53 2d_colorizer_warp_3d-voxel_embeddings.npy\n",
      "-rw-rw-r-- 1 huze      645432 3月  11 23:53 2d_colorizer_warp_3d-voxel_scores.npy\n",
      "-rw-rw-r-- 1 huze   711125136 3月  11 23:45 2d_densnet_warp_3d-predictions.npy\n",
      "-rw-rw-r-- 1 huze 22466904192 3月  11 23:45 2d_densnet_warp_3d-voxel_embeddings.npy\n",
      "-rw-rw-r-- 1 huze      645432 3月  11 23:45 2d_densnet_warp_3d-voxel_scores.npy\n",
      "-rw-rw-r-- 1 huze   711125136 3月  11 23:48 2d_moby_swin_warp_3d-predictions.npy\n",
      "-rw-rw-r-- 1 huze 22466904192 3月  11 23:48 2d_moby_swin_warp_3d-voxel_embeddings.npy\n",
      "-rw-rw-r-- 1 huze      645432 3月  11 23:48 2d_moby_swin_warp_3d-voxel_scores.npy\n",
      "-rw-rw-r-- 1 huze   711125136 3月  11 23:51 2d_pyconvsegnet_warp_3d-predictions.npy\n",
      "-rw-rw-r-- 1 huze 22466904192 3月  11 23:51 2d_pyconvsegnet_warp_3d-voxel_embeddings.npy\n",
      "-rw-rw-r-- 1 huze      645432 3月  11 23:51 2d_pyconvsegnet_warp_3d-voxel_scores.npy\n",
      "-rw-rw-r-- 1 huze   711125136 3月  11 23:50 2d_seg_swin_warp_3d-predictions.npy\n",
      "-rw-rw-r-- 1 huze 22466904192 3月  11 23:50 2d_seg_swin_warp_3d-voxel_embeddings.npy\n",
      "-rw-rw-r-- 1 huze      645432 3月  11 23:50 2d_seg_swin_warp_3d-voxel_scores.npy\n",
      "-rw-rw-r-- 1 huze   711125136 3月  11 23:52 2d_simclr_warp_3d-predictions.npy\n",
      "-rw-rw-r-- 1 huze 16680850030 1月   1  1970 2d_simclr_warp_3d-voxel_embeddings.npy\n",
      "-rw-rw-r-- 1 huze   711125136 3月  11 23:46 3d_swin-predictions.npy\n",
      "-rw-rw-r-- 1 huze   711125136 3月  11 23:55 all-predictions.npy\n",
      "-rw-rw-r-- 1 huze   711125136 3月  11 23:51 audio_vggish-predictions.npy\n",
      "-rw-rw-r-- 1 huze   711125136 3月  11 23:47 i3d_flow-predictions.npy\n",
      "-rw-rw-r-- 1 huze   711125136 3月  11 23:49 i3d_rgb-predictions.npy\n"
     ]
    }
   ],
   "source": [
    "ll /data/huze/ray_results/algonauts2021/tmp/notebook-010/"
   ]
  },
  {
   "cell_type": "code",
   "execution_count": 17,
   "id": "b25a8c02-3f81-4dd9-b7a6-87549a44f8ef",
   "metadata": {},
   "outputs": [],
   "source": [
    "!find /data/huze/ray_results/algonauts2021/tmp/notebook-010/ -name '*-voxel_scores.npy' -exec cp \"{}\" tmp/notebook010/ \\;"
   ]
  },
  {
   "cell_type": "code",
   "execution_count": 20,
   "id": "cbee56f0-65ad-4f3a-ba7d-088147c88412",
   "metadata": {},
   "outputs": [],
   "source": [
    "!find /data/huze/ray_results/algonauts2021/tmp/notebook-010/ -name '*-loaded_backbone_names.npy' -exec cp \"{}\" tmp/notebook010/ \\;"
   ]
  },
  {
   "cell_type": "code",
   "execution_count": 21,
   "id": "6ef360be-0908-4f5b-b713-3cf757dda253",
   "metadata": {},
   "outputs": [
    {
     "name": "stdout",
     "output_type": "stream",
     "text": [
      "total 7588\n",
      "-rw-rw-r-- 1 amax 645432 3月  12 17:51 2d_bdcnvgg_warp_3d-voxel_scores.npy\n",
      "-rw-rw-r-- 1 amax 645432 3月  12 17:51 2d_colorizer_warp_3d-voxel_scores.npy\n",
      "-rw-rw-r-- 1 amax 645432 3月  12 17:51 2d_densnet_warp_3d-voxel_scores.npy\n",
      "-rw-rw-r-- 1 amax 645432 3月  12 17:51 2d_moby_swin_warp_3d-voxel_scores.npy\n",
      "-rw-rw-r-- 1 amax 645432 3月  12 17:51 2d_pyconvsegnet_warp_3d-voxel_scores.npy\n",
      "-rw-rw-r-- 1 amax 645432 3月  12 17:51 2d_seg_swin_warp_3d-voxel_scores.npy\n",
      "-rw-rw-r-- 1 amax 645432 3月  12 17:51 2d_simclr_warp_3d-voxel_scores.npy\n",
      "-rw-rw-r-- 1 amax 645432 3月  12 17:51 3d_swin-voxel_scores.npy\n",
      "-rw-rw-r-- 1 amax   1140 3月  12 17:52 all-loaded_backbone_names.npy\n",
      "-rw-rw-r-- 1 amax 645432 3月  12 17:51 all-voxel_scores.npy\n",
      "-rw-rw-r-- 1 amax 645432 3月  12 17:51 audio_vggish-voxel_scores.npy\n",
      "-rw-rw-r-- 1 amax 645432 3月  12 17:51 i3d_flow-voxel_scores.npy\n",
      "-rw-rw-r-- 1 amax 645432 3月  12 17:51 i3d_rgb-voxel_scores.npy\n"
     ]
    }
   ],
   "source": [
    "ll tmp/notebook010"
   ]
  }
 ],
 "metadata": {
  "kernelspec": {
   "display_name": "Python 3 (ipykernel)",
   "language": "python",
   "name": "python3"
  },
  "language_info": {
   "codemirror_mode": {
    "name": "ipython",
    "version": 3
   },
   "file_extension": ".py",
   "mimetype": "text/x-python",
   "name": "python",
   "nbconvert_exporter": "python",
   "pygments_lexer": "ipython3",
   "version": "3.8.8"
  },
  "widgets": {
   "application/vnd.jupyter.widget-state+json": {
    "state": {},
    "version_major": 2,
    "version_minor": 0
   }
  }
 },
 "nbformat": 4,
 "nbformat_minor": 5
}
