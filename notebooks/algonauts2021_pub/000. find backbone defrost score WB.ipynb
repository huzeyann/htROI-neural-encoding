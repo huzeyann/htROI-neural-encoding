{
 "cells": [
  {
   "cell_type": "code",
   "execution_count": 1,
   "id": "ed8f2766-985d-40f1-8dbb-3909668629fd",
   "metadata": {},
   "outputs": [
    {
     "data": {
      "text/plain": [
       "True"
      ]
     },
     "execution_count": 1,
     "metadata": {},
     "output_type": "execute_result"
    }
   ],
   "source": [
    "import numpy as np\n",
    "import torch\n",
    "\n",
    "from tqdm.auto import tqdm\n",
    "from pathlib import Path\n",
    "\n",
    "import itertools\n",
    "\n",
    "import os\n",
    "from dotenv import find_dotenv, load_dotenv\n",
    "\n",
    "load_dotenv(find_dotenv(), verbose=True)"
   ]
  },
  {
   "cell_type": "code",
   "execution_count": 2,
   "id": "59ebe460-058c-457b-9f5a-84393dc38fa6",
   "metadata": {},
   "outputs": [],
   "source": [
    "!rm -r /home/huze/.cache/checkpoints"
   ]
  },
  {
   "cell_type": "code",
   "execution_count": 3,
   "id": "a2836b10-5f18-4622-a5ce-26cc708878ea",
   "metadata": {},
   "outputs": [],
   "source": [
    "exp_configs = [p for p in Path('../../src/config/experiments/algonauts2021/').iterdir() if p.name.endswith('.yml')]"
   ]
  },
  {
   "cell_type": "code",
   "execution_count": 4,
   "id": "9d02f846-62b0-444c-8695-2560262d382a",
   "metadata": {},
   "outputs": [
    {
     "data": {
      "text/plain": [
       "[PosixPath('../../src/config/experiments/algonauts2021/algonauts2021_2d_segswin.yml'),\n",
       " PosixPath('../../src/config/experiments/algonauts2021/algonauts2021_2d_simclr.yml'),\n",
       " PosixPath('../../src/config/experiments/algonauts2021/algonauts2021_2d_pyconvsegnet.yml'),\n",
       " PosixPath('../../src/config/experiments/algonauts2021/algonauts2021_2d_mobyswin.yml'),\n",
       " PosixPath('../../src/config/experiments/algonauts2021/algonauts2021_2d_bdcnvgg.yml'),\n",
       " PosixPath('../../src/config/experiments/algonauts2021/algonauts2021_3d_resnet.yml'),\n",
       " PosixPath('../../src/config/experiments/algonauts2021/algonauts2021_2d_densnet.yml'),\n",
       " PosixPath('../../src/config/experiments/algonauts2021/algonauts2021_2d_colorizer.yml'),\n",
       " PosixPath('../../src/config/experiments/algonauts2021/algonauts2021_audio_vgg.yml'),\n",
       " PosixPath('../../src/config/experiments/algonauts2021/algonauts2021_3d_flow.yml'),\n",
       " PosixPath('../../src/config/experiments/algonauts2021/algonauts2021_3d_swin.yml')]"
      ]
     },
     "execution_count": 4,
     "metadata": {},
     "output_type": "execute_result"
    }
   ],
   "source": [
    "exp_configs"
   ]
  },
  {
   "cell_type": "code",
   "execution_count": 5,
   "id": "74b52393-ae3a-4ea3-8951-68231f7992e8",
   "metadata": {},
   "outputs": [
    {
     "data": {
      "text/plain": [
       "'/data/huze/ray_results/algonauts2021/'"
      ]
     },
     "execution_count": 5,
     "metadata": {},
     "output_type": "execute_result"
    }
   ],
   "source": [
    "os.environ['RESULTS_DIR']"
   ]
  },
  {
   "cell_type": "raw",
   "id": "8e5c0b92-858a-4720-853c-59aa1c3da9ff",
   "metadata": {},
   "source": [
    "!mkdir /data/huze/ray_results/archieve"
   ]
  },
  {
   "cell_type": "raw",
   "id": "976aa1f8-fecb-4f4b-a468-2428497f3fa0",
   "metadata": {},
   "source": [
    "mv /data/huze/ray_results/algonauts2021/algonauts2021_2d_colorizer_singlelayer_defrost_WB /data/huze/ray_results/archieve/"
   ]
  },
  {
   "cell_type": "raw",
   "id": "dbdf6dcc-7cc7-4731-9c87-76d4d66fc97e",
   "metadata": {},
   "source": [
    "ll /data/huze/ray_results/algonauts2021/"
   ]
  },
  {
   "cell_type": "raw",
   "id": "96c64091-abc4-4a4f-98f5-532bd8ed808c",
   "metadata": {},
   "source": [
    "rm -r /data/huze/ray_results/algonauts2021/algonauts2021_2d_colorizer_multilayer_freeze_WB/"
   ]
  },
  {
   "cell_type": "code",
   "execution_count": 6,
   "id": "9fd14a27-83a8-4821-9eb3-c9227fe65535",
   "metadata": {},
   "outputs": [],
   "source": [
    "from src.grid_runner import run_single_train\n",
    "from src.grid_runner import run_single_tune_config\n",
    "from src.config import get_cfg_defaults, combine_cfgs\n",
    "from ray import tune"
   ]
  },
  {
   "cell_type": "code",
   "execution_count": 7,
   "id": "fbc68b66-2f27-4e51-907f-0667863f3e4c",
   "metadata": {},
   "outputs": [],
   "source": [
    "debug = False"
   ]
  },
  {
   "cell_type": "code",
   "execution_count": 8,
   "id": "21e16860-7d53-4185-a277-766f50eb8135",
   "metadata": {
    "tags": []
   },
   "outputs": [
    {
     "data": {
      "text/html": [
       "== Status ==<br>Current time: 2022-03-11 07:18:58 (running for 00:00:00.00)<br>Memory usage on this node: 4.1/62.7 GiB<br>Using FIFO scheduling algorithm.<br>Resources requested: 0/20 CPUs, 0/2 GPUs, 0.0/36.22 GiB heap, 0.0/18.11 GiB objects (0.0/1.0 accelerator_type:G)<br>Result logdir: /data/huze/ray_results/algonauts2021/algonauts2021_3d_swin_multilayer_freeze_WB<br>Number of trials: 1/1 (1 TERMINATED)<br><br>"
      ],
      "text/plain": [
       "<IPython.core.display.HTML object>"
      ]
     },
     "metadata": {},
     "output_type": "display_data"
    },
    {
     "name": "stderr",
     "output_type": "stream",
     "text": [
      "2022-03-11 07:18:58,920\tINFO tune.py:636 -- Total run time: 0.11 seconds (0.00 seconds for the tuning loop).\n"
     ]
    }
   ],
   "source": [
    "analysis_list = []\n",
    "for exp_config in exp_configs:\n",
    "    cfg = combine_cfgs(\n",
    "        path_cfg_data=exp_config,\n",
    "        list_cfg_override=['DEBUG', debug]\n",
    "    )\n",
    "    \n",
    "    name = exp_config.name.replace('.yml', '')\n",
    "\n",
    "    # multi-layer 1 run\n",
    "    analysis = tune.run(\n",
    "        tune.with_parameters(\n",
    "            run_single_tune_config,\n",
    "            cfg=cfg\n",
    "        ),\n",
    "        config={\n",
    "            'DATASET.ROI': tune.grid_search(['WB']),\n",
    "            'TRAINER.CALLBACKS.BACKBONE.DEFROST_SCORE': tune.grid_search([1.]),\n",
    "        },\n",
    "        local_dir=cfg.RESULTS_DIR,\n",
    "        resources_per_trial={\"cpu\": 4, \"gpu\": 1},\n",
    "        name=name + '_multilayer_freeze_WB',\n",
    "        verbose=1,\n",
    "        resume='AUTO',\n",
    "    )\n",
    "    analysis_list.append(analysis)"
   ]
  },
  {
   "cell_type": "code",
   "execution_count": null,
   "id": "3fbea353-6a40-4b99-b216-f259bea9b529",
   "metadata": {},
   "outputs": [],
   "source": []
  },
  {
   "cell_type": "code",
   "execution_count": null,
   "id": "1243a8e4-168e-4597-8fc7-c110e608c988",
   "metadata": {},
   "outputs": [],
   "source": []
  },
  {
   "cell_type": "code",
   "execution_count": 9,
   "id": "b640d882-81ab-4ca6-a11a-6935e68b4b47",
   "metadata": {},
   "outputs": [],
   "source": [
    "# load result df and find backbone deforest score"
   ]
  },
  {
   "cell_type": "code",
   "execution_count": 10,
   "id": "eb68e310-6540-467b-b256-c86297b5c7c4",
   "metadata": {},
   "outputs": [],
   "source": [
    "from src.utils.runs import load_run_df, filter_multi_layer_runs, filter_single_layer_runs, my_query_df"
   ]
  },
  {
   "cell_type": "code",
   "execution_count": 11,
   "id": "e706ede2-84a3-4f5e-9922-cf7e6bf538c8",
   "metadata": {},
   "outputs": [
    {
     "data": {
      "application/vnd.jupyter.widget-view+json": {
       "model_id": "6c838ee2d88d41aeb1b932ec6d07cf5a",
       "version_major": 2,
       "version_minor": 0
      },
      "text/plain": [
       "  0%|          | 0/168 [00:00<?, ?it/s]"
      ]
     },
     "metadata": {},
     "output_type": "display_data"
    }
   ],
   "source": [
    "run_df = load_run_df(cfg.RESULTS_DIR)"
   ]
  },
  {
   "cell_type": "code",
   "execution_count": 12,
   "id": "76345007-346b-4eb0-a9d9-6fdd4570944f",
   "metadata": {},
   "outputs": [],
   "source": [
    "run_df = filter_multi_layer_runs(run_df)\n",
    "run_df = my_query_df(run_df, equal_dict={'TRAINER.CALLBACKS.BACKBONE.DEFROST_SCORE': 1.0})"
   ]
  },
  {
   "cell_type": "code",
   "execution_count": 13,
   "id": "d5896ddd-2b87-4801-acd3-44b72e78c298",
   "metadata": {},
   "outputs": [],
   "source": [
    "df = run_df[['MODEL.BACKBONE.NAME', 'DATASET.ROI', 'score']]"
   ]
  },
  {
   "cell_type": "code",
   "execution_count": 14,
   "id": "515a9032-be81-4613-b551-4ab7a674f20a",
   "metadata": {},
   "outputs": [],
   "source": [
    "from src.utils.runs import mahou_list"
   ]
  },
  {
   "cell_type": "code",
   "execution_count": 15,
   "id": "c6681e50-73a5-4288-9665-f0dfcdda40e2",
   "metadata": {},
   "outputs": [],
   "source": [
    "defrost_df = df.copy()\n",
    "minlestone_p = 0.5\n",
    "defrost_df['defrost_score'] = defrost_df['score'].apply(lambda x: mahou_list(minlestone_p * x))"
   ]
  },
  {
   "cell_type": "code",
   "execution_count": 16,
   "id": "e3ec09f4-e96f-4fa1-8574-45fad1cfb44b",
   "metadata": {},
   "outputs": [
    {
     "data": {
      "text/html": [
       "<div>\n",
       "<style scoped>\n",
       "    .dataframe tbody tr th:only-of-type {\n",
       "        vertical-align: middle;\n",
       "    }\n",
       "\n",
       "    .dataframe tbody tr th {\n",
       "        vertical-align: top;\n",
       "    }\n",
       "\n",
       "    .dataframe thead th {\n",
       "        text-align: right;\n",
       "    }\n",
       "</style>\n",
       "<table border=\"1\" class=\"dataframe\">\n",
       "  <thead>\n",
       "    <tr style=\"text-align: right;\">\n",
       "      <th></th>\n",
       "      <th>MODEL.BACKBONE.NAME</th>\n",
       "      <th>DATASET.ROI</th>\n",
       "      <th>score</th>\n",
       "      <th>defrost_score</th>\n",
       "    </tr>\n",
       "  </thead>\n",
       "  <tbody>\n",
       "    <tr>\n",
       "      <th>34</th>\n",
       "      <td>2d_bdcnvgg_warp_3d</td>\n",
       "      <td>WB</td>\n",
       "      <td>0.038811</td>\n",
       "      <td>0.018</td>\n",
       "    </tr>\n",
       "    <tr>\n",
       "      <th>37</th>\n",
       "      <td>2d_colorizer_warp_3d</td>\n",
       "      <td>WB</td>\n",
       "      <td>0.088229</td>\n",
       "      <td>0.045</td>\n",
       "    </tr>\n",
       "    <tr>\n",
       "      <th>54</th>\n",
       "      <td>2d_simclr_warp_3d</td>\n",
       "      <td>WB</td>\n",
       "      <td>0.135406</td>\n",
       "      <td>0.069</td>\n",
       "    </tr>\n",
       "    <tr>\n",
       "      <th>55</th>\n",
       "      <td>i3d_flow</td>\n",
       "      <td>WB</td>\n",
       "      <td>0.124815</td>\n",
       "      <td>0.063</td>\n",
       "    </tr>\n",
       "    <tr>\n",
       "      <th>89</th>\n",
       "      <td>i3d_rgb</td>\n",
       "      <td>WB</td>\n",
       "      <td>0.136212</td>\n",
       "      <td>0.069</td>\n",
       "    </tr>\n",
       "    <tr>\n",
       "      <th>90</th>\n",
       "      <td>3d_swin</td>\n",
       "      <td>WB</td>\n",
       "      <td>0.140836</td>\n",
       "      <td>0.069</td>\n",
       "    </tr>\n",
       "    <tr>\n",
       "      <th>123</th>\n",
       "      <td>audio_vggish</td>\n",
       "      <td>WB</td>\n",
       "      <td>0.058880</td>\n",
       "      <td>0.030</td>\n",
       "    </tr>\n",
       "    <tr>\n",
       "      <th>124</th>\n",
       "      <td>2d_pyconvsegnet_warp_3d</td>\n",
       "      <td>WB</td>\n",
       "      <td>0.134461</td>\n",
       "      <td>0.066</td>\n",
       "    </tr>\n",
       "    <tr>\n",
       "      <th>125</th>\n",
       "      <td>2d_densnet_warp_3d</td>\n",
       "      <td>WB</td>\n",
       "      <td>0.118351</td>\n",
       "      <td>0.060</td>\n",
       "    </tr>\n",
       "    <tr>\n",
       "      <th>144</th>\n",
       "      <td>2d_seg_swin_warp_3d</td>\n",
       "      <td>WB</td>\n",
       "      <td>0.115133</td>\n",
       "      <td>0.057</td>\n",
       "    </tr>\n",
       "    <tr>\n",
       "      <th>145</th>\n",
       "      <td>2d_moby_swin_warp_3d</td>\n",
       "      <td>WB</td>\n",
       "      <td>0.133634</td>\n",
       "      <td>0.066</td>\n",
       "    </tr>\n",
       "  </tbody>\n",
       "</table>\n",
       "</div>"
      ],
      "text/plain": [
       "         MODEL.BACKBONE.NAME DATASET.ROI     score  defrost_score\n",
       "34        2d_bdcnvgg_warp_3d          WB  0.038811          0.018\n",
       "37      2d_colorizer_warp_3d          WB  0.088229          0.045\n",
       "54         2d_simclr_warp_3d          WB  0.135406          0.069\n",
       "55                  i3d_flow          WB  0.124815          0.063\n",
       "89                   i3d_rgb          WB  0.136212          0.069\n",
       "90                   3d_swin          WB  0.140836          0.069\n",
       "123             audio_vggish          WB  0.058880          0.030\n",
       "124  2d_pyconvsegnet_warp_3d          WB  0.134461          0.066\n",
       "125       2d_densnet_warp_3d          WB  0.118351          0.060\n",
       "144      2d_seg_swin_warp_3d          WB  0.115133          0.057\n",
       "145     2d_moby_swin_warp_3d          WB  0.133634          0.066"
      ]
     },
     "execution_count": 16,
     "metadata": {},
     "output_type": "execute_result"
    }
   ],
   "source": [
    "defrost_df"
   ]
  },
  {
   "cell_type": "raw",
   "id": "1774c516-42c6-4a02-899a-97d53fafb412",
   "metadata": {},
   "source": [
    "defrost_df"
   ]
  },
  {
   "cell_type": "code",
   "execution_count": 17,
   "id": "9557bb0f-7663-42b3-b72a-d813b0aca958",
   "metadata": {},
   "outputs": [
    {
     "name": "stdout",
     "output_type": "stream",
     "text": [
      "mkdir: cannot create directory ‘./config’: File exists\n"
     ]
    },
    {
     "name": "stderr",
     "output_type": "stream",
     "text": [
      "E0311 07:19:38.657776286 3248497 fork_posix.cc:70]           Fork support is only compatible with the epoll1 and poll polling strategies\n"
     ]
    }
   ],
   "source": [
    "!mkdir ./config"
   ]
  },
  {
   "cell_type": "code",
   "execution_count": 18,
   "id": "0b22f85d-e195-4632-99d5-859eb353704e",
   "metadata": {},
   "outputs": [],
   "source": [
    "defrost_df.to_csv('./config/defrost_df.csv')"
   ]
  },
  {
   "cell_type": "code",
   "execution_count": null,
   "id": "52a09266-a748-4e71-bcac-519088b84a33",
   "metadata": {},
   "outputs": [],
   "source": []
  }
 ],
 "metadata": {
  "kernelspec": {
   "display_name": "Python 3 (ipykernel)",
   "language": "python",
   "name": "python3"
  },
  "language_info": {
   "codemirror_mode": {
    "name": "ipython",
    "version": 3
   },
   "file_extension": ".py",
   "mimetype": "text/x-python",
   "name": "python",
   "nbconvert_exporter": "python",
   "pygments_lexer": "ipython3",
   "version": "3.8.8"
  },
  "widgets": {
   "application/vnd.jupyter.widget-state+json": {
    "state": {},
    "version_major": 2,
    "version_minor": 0
   }
  }
 },
 "nbformat": 4,
 "nbformat_minor": 5
}
