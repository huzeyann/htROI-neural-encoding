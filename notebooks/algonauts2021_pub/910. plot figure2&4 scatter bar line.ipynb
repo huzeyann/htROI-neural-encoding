{
 "cells": [
  {
   "cell_type": "code",
   "execution_count": 1,
   "id": "7285612f",
   "metadata": {},
   "outputs": [],
   "source": [
    "from src.utils.submission import algonauts2021_submission_from_whole_brain_prediction"
   ]
  },
  {
   "cell_type": "code",
   "execution_count": 2,
   "id": "442479af-9c9a-41af-879f-0410e6c69ad5",
   "metadata": {},
   "outputs": [],
   "source": [
    "import torch\n",
    "import numpy as np\n",
    "import os\n",
    "\n",
    "import pandas as pd\n",
    "from tqdm.auto import tqdm\n",
    "from pathlib import Path"
   ]
  },
  {
   "cell_type": "code",
   "execution_count": 3,
   "id": "fceada54-0752-4945-a43f-66e66d9f6ec1",
   "metadata": {},
   "outputs": [],
   "source": [
    "import matplotlib.pyplot as plt\n",
    "import matplotlib"
   ]
  },
  {
   "cell_type": "code",
   "execution_count": 4,
   "id": "4f3abddd-aa64-44b5-8202-b18d3a1daefb",
   "metadata": {},
   "outputs": [],
   "source": [
    "from matplotlib.patches import Patch\n",
    "from matplotlib.lines import Line2D\n",
    "from matplotlib.ticker import FuncFormatter\n"
   ]
  },
  {
   "cell_type": "markdown",
   "id": "4e6f9fc1-73fb-457f-9166-0b25e6fa6778",
   "metadata": {},
   "source": [
    "# prepare data"
   ]
  },
  {
   "cell_type": "code",
   "execution_count": 5,
   "id": "4394610e-c371-4932-a28b-fb24c17da671",
   "metadata": {},
   "outputs": [],
   "source": [
    "from src.utils.ensemble import optimize_val_correlation\n",
    "from src.config.config import combine_cfgs, get_cfg_defaults\n",
    "from src.data.datamodule import MyDataModule\n",
    "from src.utils.metrics import vectorized_correlation\n",
    "from pathlib import Path\n",
    "import torch\n",
    "import numpy as np"
   ]
  },
  {
   "cell_type": "code",
   "execution_count": 6,
   "id": "77940d3a-7030-4bff-a677-2257bfbe0276",
   "metadata": {
    "collapsed": false,
    "jupyter": {
     "outputs_hidden": false
    },
    "pycharm": {
     "name": "#%%\n"
    }
   },
   "outputs": [],
   "source": [
    "# prepare train and validation data\n",
    "cfg = get_cfg_defaults()\n",
    "cfg.DATASET.TRANSFORM = 'i3d_flow'\n",
    "dm = MyDataModule(cfg)\n",
    "dm.prepare_data()\n",
    "dm.setup()\n",
    "\n",
    "val_indices = dm.val_dataset.indices\n",
    "fmris_cache_path = Path('/data/huze/.cache/trainval_fmris.pt')\n",
    "\n",
    "if fmris_cache_path.exists():\n",
    "    fmris = torch.load(fmris_cache_path)\n",
    "else:\n",
    "    fmris = [dm.dataset_train_val.__getitem__(i)[1]\n",
    "             for i in tqdm(range(dm.dataset_train_val.__len__()))]\n",
    "    fmris = np.stack(fmris, 0)\n",
    "    fmris = torch.tensor(fmris)\n",
    "    torch.save(fmris, fmris_cache_path)\n",
    "\n",
    "val_fmris = fmris[val_indices]"
   ]
  },
  {
   "cell_type": "code",
   "execution_count": 7,
   "id": "4bb04df5-449a-44d6-83bc-87cb607960db",
   "metadata": {},
   "outputs": [],
   "source": [
    "num_voxels = val_fmris.shape[1]\n",
    "noise_ceiling = np.ones(num_voxels, dtype=np.float32)"
   ]
  },
  {
   "cell_type": "code",
   "execution_count": 148,
   "id": "ea747f7f-3a7d-447a-8055-625b20d0e66f",
   "metadata": {},
   "outputs": [
    {
     "data": {
      "text/plain": [
       "(161326,)"
      ]
     },
     "execution_count": 148,
     "metadata": {},
     "output_type": "execute_result"
    }
   ],
   "source": [
    "noise_ceiling.shape"
   ]
  },
  {
   "cell_type": "code",
   "execution_count": 8,
   "id": "415f5e91-087b-4947-ad26-117b53eca09f",
   "metadata": {},
   "outputs": [],
   "source": [
    "# load noise ceiling\n",
    "\n",
    "from src.data.utils import load_dict\n",
    "\n",
    "dims = (78, 93, 71) #size of our brain images\n",
    "noise_ceiling_4D = np.zeros(shape=(10, *dims))\n",
    "for i, sub in enumerate([f'sub{i+1:02d}' for i in range(10)]):\n",
    "    data = load_dict(f'config/noiseceiling/WB_noiseceiling_{sub}.pkl')\n",
    "\n",
    "    dims = (78, 93, 71) #size of our brain images\n",
    "    visual_mask_3D = np.zeros(dims) \n",
    "    visual_mask_1D = visual_mask_3D.ravel()\n",
    "    mask = np.ones(visual_mask_1D.shape[0], dtype=bool) #1 represents non-nan voxels, 0 represents nan voxels\n",
    "    mask[data['nan_indices'].astype(int)] = 0 #change all nan indices to a value of 0\n",
    "    visual_mask_1D[mask] = data['noise_ceiling']\n",
    "    visual_mask_3D = visual_mask_1D.reshape(dims)\n",
    "    \n",
    "    noise_ceiling_4D[i] = visual_mask_3D\n",
    "\n",
    "voxel_masks = np.load(dm.dataset_train_val.root_dir.joinpath(Path('processed/voxel_masks.npy')))\n",
    "\n",
    "noise_ceiling = noise_ceiling_4D[voxel_masks == 1]"
   ]
  },
  {
   "cell_type": "code",
   "execution_count": 9,
   "id": "bba517c2-6a4c-43dc-b6ce-d2ba19c14992",
   "metadata": {},
   "outputs": [],
   "source": [
    "np.save('config/noise_ceiling.npy', noise_ceiling)"
   ]
  },
  {
   "cell_type": "code",
   "execution_count": 10,
   "id": "6839b89c-a59e-43bf-b7fa-a56f9b7f7b25",
   "metadata": {},
   "outputs": [],
   "source": [
    "backbone_names = ['all',\n",
    " '2d_densnet_warp_3d',\n",
    " '3d_swin',\n",
    " '2d_bdcnvgg_warp_3d',\n",
    " 'i3d_flow',\n",
    " '2d_moby_swin_warp_3d',\n",
    " 'i3d_rgb',\n",
    " '2d_seg_swin_warp_3d',\n",
    " 'audio_vggish',\n",
    " '2d_pyconvsegnet_warp_3d',\n",
    " '2d_simclr_warp_3d',\n",
    " '2d_colorizer_warp_3d']"
   ]
  },
  {
   "cell_type": "markdown",
   "id": "0709c273-08ed-40cd-9376-eab0e52a420a",
   "metadata": {},
   "source": [
    "# feture blocks"
   ]
  },
  {
   "cell_type": "code",
   "execution_count": 161,
   "id": "6741f37d-7353-4701-9ae2-1590c07fa83c",
   "metadata": {},
   "outputs": [],
   "source": [
    "from src.utils.runs import load_run_df, filter_multi_layer_runs, filter_single_layer_runs, my_query_df"
   ]
  },
  {
   "cell_type": "code",
   "execution_count": 162,
   "id": "2e94cd71-dcae-47e4-a66f-32244a6ce6fd",
   "metadata": {},
   "outputs": [],
   "source": [
    "RESULTS_DIR = Path('/data/huze/ray_results/algonauts2021/')"
   ]
  },
  {
   "cell_type": "code",
   "execution_count": 163,
   "id": "6e06b604-68cc-4897-b1c9-23ff3bafcc88",
   "metadata": {},
   "outputs": [
    {
     "data": {
      "application/vnd.jupyter.widget-view+json": {
       "model_id": "4fa4f23f17704ca7a0b9859fdb79aa10",
       "version_major": 2,
       "version_minor": 0
      },
      "text/plain": [
       "  0%|          | 0/4218 [00:00<?, ?it/s]"
      ]
     },
     "metadata": {},
     "output_type": "display_data"
    }
   ],
   "source": [
    "run_df = load_run_df(RESULTS_DIR)"
   ]
  },
  {
   "cell_type": "code",
   "execution_count": 164,
   "id": "5031791d-7ad1-4a5a-b3b7-ab891a55a5c4",
   "metadata": {},
   "outputs": [],
   "source": [
    "run_df = run_df[run_df['TRAINER.CALLBACKS.BACKBONE.DEFROST_SCORE'] < 1.]\n",
    "run_df = run_df[run_df['DATASET.ROI'] == 'WB']"
   ]
  },
  {
   "cell_type": "code",
   "execution_count": 165,
   "id": "e88c2bfe-3934-4b11-b88b-7e7b489fe579",
   "metadata": {},
   "outputs": [],
   "source": [
    "def get_val_score(path):\n",
    "    prediction = torch.tensor(np.load(path)).float()\n",
    "    \n",
    "    # validation score\n",
    "    val_scores = vectorized_correlation(prediction[val_indices], val_fmris)\n",
    "    val_scores /= noise_ceiling\n",
    "    \n",
    "    mean = val_scores.mean().item()\n",
    "    sem = val_scores.std().item() / np.sqrt(len(val_scores))\n",
    "    return mean, sem\n",
    "\n",
    "def submission(path, name):\n",
    "    prediction = torch.tensor(np.load(path)).float()\n",
    "    algonauts2021_submission_from_whole_brain_prediction('../../src/config/dataset',\n",
    "                                                    name,\n",
    "                                                    prediction[1000:].numpy(),\n",
    "                                                    output_dir='./submissions/',\n",
    "                                                    mini_track=False)"
   ]
  },
  {
   "cell_type": "code",
   "execution_count": 166,
   "id": "94e23531-3dae-4685-bd97-37b6fd2bac93",
   "metadata": {},
   "outputs": [],
   "source": [
    "backbone_name = '3d_swin'"
   ]
  },
  {
   "cell_type": "code",
   "execution_count": 167,
   "id": "734c6eae-6641-40f6-96ad-d6bc95f01f7a",
   "metadata": {},
   "outputs": [],
   "source": [
    "backbone_run_df = my_query_df(run_df, equal_dict={'MODEL.BACKBONE.NAME': backbone_name}).sort_values(['MODEL.BACKBONE.LAYERS', 'MODEL.NECK.SPP_LEVELS'])"
   ]
  },
  {
   "cell_type": "code",
   "execution_count": 168,
   "id": "8dad0dbb-c2bf-4f06-8a43-b082a6866972",
   "metadata": {},
   "outputs": [
    {
     "data": {
      "text/html": [
       "<div>\n",
       "<style scoped>\n",
       "    .dataframe tbody tr th:only-of-type {\n",
       "        vertical-align: middle;\n",
       "    }\n",
       "\n",
       "    .dataframe tbody tr th {\n",
       "        vertical-align: top;\n",
       "    }\n",
       "\n",
       "    .dataframe thead th {\n",
       "        text-align: right;\n",
       "    }\n",
       "</style>\n",
       "<table border=\"1\" class=\"dataframe\">\n",
       "  <thead>\n",
       "    <tr style=\"text-align: right;\">\n",
       "      <th></th>\n",
       "      <th>MODEL.BACKBONE.NAME</th>\n",
       "      <th>MODEL.BACKBONE.LAYERS</th>\n",
       "      <th>MODEL.NECK.SPP_LEVELS</th>\n",
       "      <th>DATASET.ROI</th>\n",
       "      <th>score</th>\n",
       "    </tr>\n",
       "  </thead>\n",
       "  <tbody>\n",
       "    <tr>\n",
       "      <th>1442</th>\n",
       "      <td>3d_swin</td>\n",
       "      <td>(x1,)</td>\n",
       "      <td>(1,)</td>\n",
       "      <td>WB</td>\n",
       "      <td>0.094153</td>\n",
       "    </tr>\n",
       "    <tr>\n",
       "      <th>1446</th>\n",
       "      <td>3d_swin</td>\n",
       "      <td>(x1,)</td>\n",
       "      <td>(2,)</td>\n",
       "      <td>WB</td>\n",
       "      <td>0.098252</td>\n",
       "    </tr>\n",
       "    <tr>\n",
       "      <th>1453</th>\n",
       "      <td>3d_swin</td>\n",
       "      <td>(x1,)</td>\n",
       "      <td>(3,)</td>\n",
       "      <td>WB</td>\n",
       "      <td>0.101645</td>\n",
       "    </tr>\n",
       "    <tr>\n",
       "      <th>1441</th>\n",
       "      <td>3d_swin</td>\n",
       "      <td>(x1,)</td>\n",
       "      <td>(7,)</td>\n",
       "      <td>WB</td>\n",
       "      <td>0.096773</td>\n",
       "    </tr>\n",
       "    <tr>\n",
       "      <th>2390</th>\n",
       "      <td>3d_swin</td>\n",
       "      <td>(x1, x2, x3, x4)</td>\n",
       "      <td>(1, 2, 3, 7)</td>\n",
       "      <td>WB</td>\n",
       "      <td>0.141382</td>\n",
       "    </tr>\n",
       "    <tr>\n",
       "      <th>1438</th>\n",
       "      <td>3d_swin</td>\n",
       "      <td>(x2,)</td>\n",
       "      <td>(1,)</td>\n",
       "      <td>WB</td>\n",
       "      <td>0.103469</td>\n",
       "    </tr>\n",
       "    <tr>\n",
       "      <th>1449</th>\n",
       "      <td>3d_swin</td>\n",
       "      <td>(x2,)</td>\n",
       "      <td>(2,)</td>\n",
       "      <td>WB</td>\n",
       "      <td>0.112857</td>\n",
       "    </tr>\n",
       "    <tr>\n",
       "      <th>1444</th>\n",
       "      <td>3d_swin</td>\n",
       "      <td>(x2,)</td>\n",
       "      <td>(3,)</td>\n",
       "      <td>WB</td>\n",
       "      <td>0.117669</td>\n",
       "    </tr>\n",
       "    <tr>\n",
       "      <th>1452</th>\n",
       "      <td>3d_swin</td>\n",
       "      <td>(x2,)</td>\n",
       "      <td>(7,)</td>\n",
       "      <td>WB</td>\n",
       "      <td>0.105365</td>\n",
       "    </tr>\n",
       "    <tr>\n",
       "      <th>1440</th>\n",
       "      <td>3d_swin</td>\n",
       "      <td>(x3,)</td>\n",
       "      <td>(1,)</td>\n",
       "      <td>WB</td>\n",
       "      <td>0.142096</td>\n",
       "    </tr>\n",
       "    <tr>\n",
       "      <th>1445</th>\n",
       "      <td>3d_swin</td>\n",
       "      <td>(x3,)</td>\n",
       "      <td>(2,)</td>\n",
       "      <td>WB</td>\n",
       "      <td>0.146566</td>\n",
       "    </tr>\n",
       "    <tr>\n",
       "      <th>1447</th>\n",
       "      <td>3d_swin</td>\n",
       "      <td>(x3,)</td>\n",
       "      <td>(3,)</td>\n",
       "      <td>WB</td>\n",
       "      <td>0.145983</td>\n",
       "    </tr>\n",
       "    <tr>\n",
       "      <th>1443</th>\n",
       "      <td>3d_swin</td>\n",
       "      <td>(x3,)</td>\n",
       "      <td>(7,)</td>\n",
       "      <td>WB</td>\n",
       "      <td>0.141022</td>\n",
       "    </tr>\n",
       "    <tr>\n",
       "      <th>1451</th>\n",
       "      <td>3d_swin</td>\n",
       "      <td>(x4,)</td>\n",
       "      <td>(1,)</td>\n",
       "      <td>WB</td>\n",
       "      <td>0.142651</td>\n",
       "    </tr>\n",
       "    <tr>\n",
       "      <th>1450</th>\n",
       "      <td>3d_swin</td>\n",
       "      <td>(x4,)</td>\n",
       "      <td>(2,)</td>\n",
       "      <td>WB</td>\n",
       "      <td>0.145105</td>\n",
       "    </tr>\n",
       "    <tr>\n",
       "      <th>1439</th>\n",
       "      <td>3d_swin</td>\n",
       "      <td>(x4,)</td>\n",
       "      <td>(3,)</td>\n",
       "      <td>WB</td>\n",
       "      <td>0.147281</td>\n",
       "    </tr>\n",
       "    <tr>\n",
       "      <th>1448</th>\n",
       "      <td>3d_swin</td>\n",
       "      <td>(x4,)</td>\n",
       "      <td>(7,)</td>\n",
       "      <td>WB</td>\n",
       "      <td>0.134314</td>\n",
       "    </tr>\n",
       "  </tbody>\n",
       "</table>\n",
       "</div>"
      ],
      "text/plain": [
       "     MODEL.BACKBONE.NAME MODEL.BACKBONE.LAYERS MODEL.NECK.SPP_LEVELS  \\\n",
       "1442             3d_swin                 (x1,)                  (1,)   \n",
       "1446             3d_swin                 (x1,)                  (2,)   \n",
       "1453             3d_swin                 (x1,)                  (3,)   \n",
       "1441             3d_swin                 (x1,)                  (7,)   \n",
       "2390             3d_swin      (x1, x2, x3, x4)          (1, 2, 3, 7)   \n",
       "1438             3d_swin                 (x2,)                  (1,)   \n",
       "1449             3d_swin                 (x2,)                  (2,)   \n",
       "1444             3d_swin                 (x2,)                  (3,)   \n",
       "1452             3d_swin                 (x2,)                  (7,)   \n",
       "1440             3d_swin                 (x3,)                  (1,)   \n",
       "1445             3d_swin                 (x3,)                  (2,)   \n",
       "1447             3d_swin                 (x3,)                  (3,)   \n",
       "1443             3d_swin                 (x3,)                  (7,)   \n",
       "1451             3d_swin                 (x4,)                  (1,)   \n",
       "1450             3d_swin                 (x4,)                  (2,)   \n",
       "1439             3d_swin                 (x4,)                  (3,)   \n",
       "1448             3d_swin                 (x4,)                  (7,)   \n",
       "\n",
       "     DATASET.ROI     score  \n",
       "1442          WB  0.094153  \n",
       "1446          WB  0.098252  \n",
       "1453          WB  0.101645  \n",
       "1441          WB  0.096773  \n",
       "2390          WB  0.141382  \n",
       "1438          WB  0.103469  \n",
       "1449          WB  0.112857  \n",
       "1444          WB  0.117669  \n",
       "1452          WB  0.105365  \n",
       "1440          WB  0.142096  \n",
       "1445          WB  0.146566  \n",
       "1447          WB  0.145983  \n",
       "1443          WB  0.141022  \n",
       "1451          WB  0.142651  \n",
       "1450          WB  0.145105  \n",
       "1439          WB  0.147281  \n",
       "1448          WB  0.134314  "
      ]
     },
     "execution_count": 168,
     "metadata": {},
     "output_type": "execute_result"
    }
   ],
   "source": [
    "backbone_run_df[['MODEL.BACKBONE.NAME', 'MODEL.BACKBONE.LAYERS', 'MODEL.NECK.SPP_LEVELS', 'DATASET.ROI', 'score']]"
   ]
  },
  {
   "cell_type": "code",
   "execution_count": 169,
   "id": "e0bdbb5c-867c-43c6-af2b-6e5f7f68a4c0",
   "metadata": {},
   "outputs": [],
   "source": [
    "sl_means, sl_sems = [], []\n",
    "for i_row, row in filter_single_layer_runs(backbone_run_df).iterrows():\n",
    "    path = row.path\n",
    "    path = path.joinpath(Path('prediction.npy'))\n",
    "    mean, sem = get_val_score(path)\n",
    "    sl_means.append(mean)\n",
    "    sl_sems.append(sem)\n",
    "    \n",
    "path = filter_multi_layer_runs(backbone_run_df).path.item()\n",
    "path = path.joinpath(Path('prediction.npy'))\n",
    "mlb_mean, mlb_sem = get_val_score(path)\n",
    "\n",
    "path = f'/data/huze/ray_results/algonauts2021/tmp/notebook-010/{backbone_name}-predictions.npy'\n",
    "sle_mean, sle_sem = get_val_score(path)"
   ]
  },
  {
   "cell_type": "code",
   "execution_count": 170,
   "id": "f144340c-156a-4793-a27f-41162c725ba4",
   "metadata": {},
   "outputs": [
    {
     "data": {
      "text/plain": [
       "'3d_swin'"
      ]
     },
     "execution_count": 170,
     "metadata": {},
     "output_type": "execute_result"
    }
   ],
   "source": [
    "backbone_run_df['MODEL.BACKBONE.NAME'].unique().item()"
   ]
  },
  {
   "cell_type": "code",
   "execution_count": 235,
   "id": "feb10255-9d5b-4e6d-9e59-f3d5d95062f4",
   "metadata": {},
   "outputs": [],
   "source": [
    "# save for cortex plot\n",
    "baseline_score_dict = {}\n",
    "\n",
    "path = filter_single_layer_runs(backbone_run_df).sort_values(['score'], ascending=False).iloc[0].path\n",
    "path = path.joinpath(Path('prediction.npy'))\n",
    "prediction = torch.tensor(np.load(path)).float()\n",
    "val_scores = vectorized_correlation(prediction[val_indices], val_fmris)\n",
    "val_scores /= noise_ceiling\n",
    "baseline_score_dict['single layer best'] = val_scores\n",
    "\n",
    "algonauts2021_submission_from_whole_brain_prediction('../../src/config/dataset',\n",
    "                                                'single layer best',\n",
    "                                                prediction[1000:].numpy(),\n",
    "                                                output_dir='./submissions/full/',\n",
    "                                                mini_track=False)\n",
    "\n",
    "path = filter_multi_layer_runs(backbone_run_df).path.item()\n",
    "path = path.joinpath(Path('prediction.npy'))\n",
    "prediction = torch.tensor(np.load(path)).float()\n",
    "val_scores = vectorized_correlation(prediction[val_indices], val_fmris)\n",
    "val_scores /= noise_ceiling\n",
    "baseline_score_dict['multi layer'] = val_scores\n",
    "\n",
    "algonauts2021_submission_from_whole_brain_prediction('../../src/config/dataset',\n",
    "                                                'multi layer',\n",
    "                                                prediction[1000:].numpy(),\n",
    "                                                output_dir='./submissions/full/',\n",
    "                                                mini_track=False)\n",
    "\n",
    "backbone_name = backbone_run_df['MODEL.BACKBONE.NAME'].unique().item()\n",
    "path = f'/data/huze/ray_results/algonauts2021/tmp/notebook-010/{backbone_name}-predictions.npy'\n",
    "prediction = torch.tensor(np.load(path)).float()\n",
    "val_scores = vectorized_correlation(prediction[val_indices], val_fmris)\n",
    "val_scores /= noise_ceiling\n",
    "baseline_score_dict['ours ensemble'] = val_scores\n",
    "\n",
    "algonauts2021_submission_from_whole_brain_prediction('../../src/config/dataset',\n",
    "                                                'ours ensemble',\n",
    "                                                prediction[1000:].numpy(),\n",
    "                                                output_dir='./submissions/full/',\n",
    "                                                mini_track=False)"
   ]
  },
  {
   "cell_type": "code",
   "execution_count": 172,
   "id": "cdea74b9-8433-4a6b-b28d-8c0c67135a58",
   "metadata": {},
   "outputs": [],
   "source": [
    "torch.save(baseline_score_dict, 'tmp/notebook910/baseline_score_dict.pt')"
   ]
  },
  {
   "cell_type": "code",
   "execution_count": 307,
   "id": "2b0e31d2-a21b-4e8d-a183-d4cbe37693c2",
   "metadata": {},
   "outputs": [],
   "source": [
    "xs = np.arange(len(sl_means)).astype('float')\n",
    "xs += np.array([0,0,0,0,1,1,1,1,2,2,2,2,3,3,3,3]) / 2"
   ]
  },
  {
   "cell_type": "code",
   "execution_count": 308,
   "id": "db78740a-30d5-4597-8fd2-179062ddcb56",
   "metadata": {},
   "outputs": [
    {
     "data": {
      "text/plain": [
       "array([ 0. ,  1. ,  2. ,  3. ,  4.5,  5.5,  6.5,  7.5,  9. , 10. , 11. ,\n",
       "       12. , 13.5, 14.5, 15.5, 16.5])"
      ]
     },
     "execution_count": 308,
     "metadata": {},
     "output_type": "execute_result"
    }
   ],
   "source": [
    "xs"
   ]
  },
  {
   "cell_type": "code",
   "execution_count": 309,
   "id": "a17bc13a-9b44-436b-b383-26d9aa815b5a",
   "metadata": {},
   "outputs": [],
   "source": [
    "def barplot_annotate_brackets(num1, num2, data, center, height, yerr=None, dh=.05, barh=.05, fs=None, maxasterix=None):\n",
    "    \"\"\" \n",
    "    Annotate barplot with p-values.\n",
    "\n",
    "    :param num1: number of left bar to put bracket over\n",
    "    :param num2: number of right bar to put bracket over\n",
    "    :param data: string to write or number for generating asterixes\n",
    "    :param center: centers of all bars (like plt.bar() input)\n",
    "    :param height: heights of all bars (like plt.bar() input)\n",
    "    :param yerr: yerrs of all bars (like plt.bar() input)\n",
    "    :param dh: height offset over bar / bar + yerr in axes coordinates (0 to 1)\n",
    "    :param barh: bar height in axes coordinates (0 to 1)\n",
    "    :param fs: font size\n",
    "    :param maxasterix: maximum number of asterixes to write (for very small p-values)\n",
    "    \"\"\"\n",
    "\n",
    "    if type(data) is str:\n",
    "        text = data\n",
    "    else:\n",
    "        # * is p < 0.05\n",
    "        # ** is p < 0.005\n",
    "        # *** is p < 0.0005\n",
    "        # etc.\n",
    "        text = ''\n",
    "        p = .05\n",
    "\n",
    "        while data < p:\n",
    "            text += '*'\n",
    "            p /= 10.\n",
    "\n",
    "            if maxasterix and len(text) == maxasterix:\n",
    "                break\n",
    "\n",
    "        if len(text) == 0:\n",
    "            text = 'n. s.'\n",
    "\n",
    "    lx, ly = center[num1], height[num1]\n",
    "    rx, ry = center[num2], height[num2]\n",
    "\n",
    "    if yerr:\n",
    "        ly += yerr[num1]\n",
    "        ry += yerr[num2]\n",
    "\n",
    "    ax_y0, ax_y1 = plt.gca().get_ylim()\n",
    "    dh *= (ax_y1 - ax_y0)\n",
    "    barh *= (ax_y1 - ax_y0)\n",
    "\n",
    "    y = max(ly, ry) + dh\n",
    "\n",
    "    barx = [lx, lx, rx, rx]\n",
    "    bary = [y, y+barh, y+barh, y]\n",
    "    mid = ((lx+rx)/2, y+barh)\n",
    "\n",
    "    plt.plot(barx, bary, c='black')\n",
    "\n",
    "    kwargs = dict(ha='center', va='bottom')\n",
    "    if fs is not None:\n",
    "        kwargs['fontsize'] = fs\n",
    "\n",
    "    plt.text(*mid, text, **kwargs)"
   ]
  },
  {
   "cell_type": "code",
   "execution_count": 310,
   "id": "d731598c-7903-4723-b80d-20c8cd1f9c93",
   "metadata": {},
   "outputs": [
    {
     "data": {
      "image/png": "[encoded data removed]",
      "text/plain": [
       "<Figure size 800x600 with 1 Axes>"
      ]
     },
     "metadata": {},
     "output_type": "display_data"
    }
   ],
   "source": [
    "plt.style.use('default')\n",
    "\n",
    "fig, ax = plt.subplots(figsize=(8, 6))\n",
    "bar_plot = plt.bar(xs, sl_means, width=0.9, alpha=0.9, color='tab:blue', label='various models')\n",
    "plt.errorbar(x=xs, y=sl_means, yerr=sl_sems, color='k',\n",
    "            marker=',', markersize=0, capsize=0, elinewidth=4, capthick=1, linestyle='none')\n",
    "\n",
    "bar_label = ['1x1 pooling', '2x2', '3x3', '7x7'] + ['', '', '', ''] * 3\n",
    "def autolabel(rects):\n",
    "    for idx,rect in enumerate(bar_plot):\n",
    "        height = rect.get_height()\n",
    "        ax.text(rect.get_x() + rect.get_width()/2., 1.05*height,\n",
    "                bar_label[idx], fontdict={'size': 18, 'style': 'italic'},\n",
    "                ha='center', va='bottom', rotation=90)\n",
    "autolabel(bar_plot)\n",
    "\n",
    "\n",
    "x1 = xs.max() + 3\n",
    "plt.bar(x1, mlb_mean, width=1.8, alpha=0.9, color='tab:orange', label='Baseline')\n",
    "plt.errorbar(x=x1, y=mlb_mean, yerr=mlb_sem, color='k',\n",
    "            marker=',', markersize=0, capsize=0, elinewidth=4, capthick=1, linestyle='none')\n",
    "\n",
    "x2 = xs.max() + 5\n",
    "plt.bar(x2, sle_mean, width=1.8, alpha=0.9, color='tab:red', label='Integration')\n",
    "plt.errorbar(x=x2, y=sle_mean, yerr=sle_sem, color='k',\n",
    "            marker=',', markersize=0, capsize=0, elinewidth=4, capthick=1, linestyle='none')\n",
    "\n",
    "\n",
    "plt.ylim(0.23, 0.46)\n",
    "plt.xticks([1.5, 6, 10.5, 15, 20.5], ['x1', 'x2', 'x3', 'x4', 'mixed'])\n",
    "\n",
    "plt.ylabel('Explained Variance (mean %)', fontdict={'style': 'italic'})\n",
    "ax.text(0., 0.455, 'validation set', fontdict={'size': 24, 'style': 'italic'},\n",
    "        ha='left', va='top', rotation=0)\n",
    "# plt.yticks([0.35, 0.36, 0.37, 0.38])\n",
    "ax.yaxis.set_major_formatter(FuncFormatter(lambda y, _: '{:.2f}'.format(y))) \n",
    "# plt.xticks([])\n",
    "# # plt.yticks([0.35, 0.36, 0.37, 0.38])\n",
    "# ax.yaxis.set_major_formatter(FuncFormatter(lambda y, _: '{:.2f}'.format(y))) \n",
    "# plt.xticks(xs, names, rotation=0, ha='right')\n",
    "# dx = 12/72.; dy = 0/72. \n",
    "# offset = matplotlib.transforms.ScaledTranslation(dx, dy, fig.dpi_scale_trans)\n",
    "# for label in ax.xaxis.get_majorticklabels():\n",
    "#     label.set_transform(label.get_transform() + offset)\n",
    "\n",
    "# ax.errorbar(x=xs, y=test_score, yerr=val_sems, color='k',\n",
    "#             marker=',', markersize=20, capsize=0, elinewidth=8, capthick=1, linestyle='none')\n",
    "\n",
    "# plt.title('Ingetrating layer-pooling models')\n",
    "\n",
    "formatter = matplotlib.ticker.FormatStrFormatter('%1.2f')\n",
    "locator = matplotlib.ticker.MaxNLocator(nbins=4)\n",
    "ax.yaxis.set_major_locator(locator)\n",
    "ax.yaxis.set_major_formatter(formatter)\n",
    "ax.spines['top'].set_visible(False)\n",
    "ax.spines['right'].set_visible(False)\n",
    "\n",
    "# legend2 \n",
    "# legend_elements = [Line2D([], [], marker='s', linewidth=0, label='single feature block model',\n",
    "#                           markerfacecolor='tab:blue', markersize=15),\n",
    "#                    Line2D([], [], marker='s', linewidth=0, label='multi feature blocks model',\n",
    "#                           markerfacecolor='tab:orange', markersize=15),\n",
    "#                   Line2D([], [], marker='s', linewidth=0, label='separate training ensemble',\n",
    "#                           markerfacecolor='tab:red', markersize=15),]\n",
    "# ax.legend(handles=legend_elements, bbox_to_anchor=(1., -0.), ncol=3, prop={'size': 12, 'weight': 'normal'})\n",
    "# plt.legend(handles=legend_elements, bbox_to_anchor=(0.3, -0.), ncol=1, prop={'size': 12, 'weight': 'normal'})\n",
    "# plt.legend(loc='upper left', bbox_to_anchor=(0., -0.06), ncol=3, prop={'size': 18, 'weight': 'normal'})\n",
    "\n",
    "# ax.add_artist(legend2)\n",
    "\n",
    "barplot_annotate_brackets(-1, -2, '***', xs.tolist() + [x1, x2], sl_means + [mlb_mean, sle_mean], dh=0.02, barh=0.01, fs=24)\n",
    "# barplot_annotate_brackets(-1, -4, '***', xs.tolist() + [x1, x2], sl_means + [mlb_mean, sle_mean], dh=0.08, barh=0.01, fs=28)\n",
    "barplot_annotate_brackets(-2, -4, '***', xs.tolist() + [x1, x2], sl_means + [mlb_mean, sle_mean], dh=0.02, barh=0.01, fs=24)\n",
    "\n",
    "\n",
    "for item in ([ax.title, ax.xaxis.label, ax.yaxis.label] +\n",
    "             ax.get_xticklabels() + ax.get_yticklabels()):\n",
    "    item.set_fontsize(28)\n",
    "    \n",
    "for item in (ax.get_xticklabels() + ax.get_yticklabels()):\n",
    "    item.set_fontsize(24)\n",
    "    \n",
    "plt.tight_layout()\n",
    "plt.savefig('tmp/notebook910/int1 score.pdf', bbox_inches=\"tight\")\n",
    "plt.show()"
   ]
  },
  {
   "cell_type": "code",
   "execution_count": 185,
   "id": "e7c412e7-8ea0-465f-b85e-c4403acb9989",
   "metadata": {},
   "outputs": [],
   "source": [
    "import scipy"
   ]
  },
  {
   "cell_type": "code",
   "execution_count": 197,
   "id": "25c5b599-438b-48d6-9d35-7ea46aa39900",
   "metadata": {},
   "outputs": [
    {
     "name": "stdout",
     "output_type": "stream",
     "text": [
      "single layer best \t 0.3965 3.16e-06\n",
      "multi layer \t 0.3756 3.11e-06\n",
      "ours ensemble \t 0.4248 3.20e-06\n"
     ]
    }
   ],
   "source": [
    "for k, v in baseline_score_dict.items():\n",
    "    print(f'{k} \\t {v.mean().item():.4f} {(v.std()/len(v)).item():.2e}')"
   ]
  },
  {
   "cell_type": "code",
   "execution_count": 345,
   "id": "3d4b89d2-cd1b-4309-a240-57c07193cb3d",
   "metadata": {},
   "outputs": [
    {
     "data": {
      "text/plain": [
       "Ttest_indResult(statistic=27.40832315341418, pvalue=3.381195624223286e-165)"
      ]
     },
     "execution_count": 345,
     "metadata": {},
     "output_type": "execute_result"
    }
   ],
   "source": [
    "scipy.stats.ttest_ind(baseline_score_dict['ours ensemble'], baseline_score_dict['multi layer'])"
   ]
  },
  {
   "cell_type": "code",
   "execution_count": 322,
   "id": "dc2affc0-cb45-44f3-8605-fabf34e88804",
   "metadata": {},
   "outputs": [
    {
     "data": {
      "image/png": "[encoded data removed]",
      "text/plain": [
       "<Figure size 400x600 with 1 Axes>"
      ]
     },
     "metadata": {},
     "output_type": "display_data"
    }
   ],
   "source": [
    "fig, ax = plt.subplots(figsize=(4, 6))\n",
    "# submission\n",
    "xs = np.arange(5)\n",
    "plt.bar(0, 0.3482554963, width=0.9, alpha=0.9, color='tab:blue')\n",
    "plt.bar(1.5, 0.3293447626, width=0.9, alpha=0.9, color='tab:orange')\n",
    "plt.bar(2.5, 0.3717690311, width=0.9, alpha=0.9, color='tab:red')\n",
    "\n",
    "\n",
    "plt.ylim(0.32, 0.377)\n",
    "plt.yticks([0.33, 0.35, 0.37])\n",
    "ax.yaxis.set_major_formatter(FuncFormatter(lambda y, _: '{:.2f}'.format(y))) \n",
    "plt.xticks([])\n",
    "# ax.yaxis.set_label_position(\"right\")\n",
    "# ax.yaxis.tick_right()\n",
    "\n",
    "ax.text(0, 0.376, 'test set', fontdict={'size': 24, 'style': 'italic'},\n",
    "        ha='left', va='top', rotation=0)\n",
    "\n",
    "ax.spines['top'].set_visible(False)\n",
    "ax.spines['right'].set_visible(False)\n",
    "# barplot_annotate_brackets(0, 0, '*', xs.tolist(), test_scores, dh=0.0, barh=0.0, fs=40)\n",
    "\n",
    "for item in ([ax.title, ax.xaxis.label, ax.yaxis.label] +\n",
    "             ax.get_xticklabels() + ax.get_yticklabels()):\n",
    "    item.set_fontsize(28)\n",
    "\n",
    "for item in (ax.get_xticklabels() + ax.get_yticklabels()):\n",
    "    item.set_fontsize(24)\n",
    "\n",
    "plt.tight_layout()\n",
    "plt.savefig('tmp/notebook910/int1 test score.pdf', bbox_inches=\"tight\")\n",
    "plt.show()"
   ]
  },
  {
   "cell_type": "raw",
   "id": "b701e07c-f02b-4e32-9029-6fb3e02d89ea",
   "metadata": {},
   "source": [
    "# multi-layer baseline (mlb) vs single-layers ensemble (sle)\n",
    "i = 0\n",
    "score_df_dicts = []\n",
    "for backbone_name in backbone_names:\n",
    "    d = {}\n",
    "    \n",
    "    ## single-layers ensemble\n",
    "    path = f'/data/huze/ray_results/algonauts2021/tmp/notebook-010/{backbone_name}-predictions.npy'\n",
    "    mean, sem = get_val_score(path)\n",
    "    l1_sch = 'sle'\n",
    "    name = f'i={i:02d},backbone_name={backbone_name},l1_sch={l1_sch}'\n",
    "    submission(path, name)\n",
    "    score_df_dicts.append({\n",
    "        'i': i,\n",
    "        'l1_sch': l1_sch,\n",
    "        'backbone_name': backbone_name,\n",
    "        'val_mean': mean,\n",
    "        'val_sem': sem,\n",
    "    })\n",
    "    i += 1\n",
    "    \n",
    "    ## multi-layer baseline\n",
    "    if backbone_name != 'all': # no multi-layer baseline for 'all'\n",
    "        path = filter_multi_layer_runs(my_query_df(run_df, equal_dict={'MODEL.BACKBONE.NAME': backbone_name})).path.item()\n",
    "        path = path.joinpath(Path('prediction.npy'))\n",
    "        mean, sem = get_val_score(path)\n",
    "        l1_sch = 'mlb'\n",
    "        name = f'i={i:02d},backbone_name={backbone_name},l1_sch={l1_sch}'\n",
    "        submission(path, name)\n",
    "        score_df_dicts.append({\n",
    "            'i': i,\n",
    "            'l1_sch': l1_sch,\n",
    "            'backbone_name': backbone_name,\n",
    "            'val_mean': mean,\n",
    "            'val_sem': sem,\n",
    "        })\n",
    "        i += 1    "
   ]
  },
  {
   "cell_type": "raw",
   "id": "3c2822dd-f3e5-4f49-99a9-96e5e3ea6bf1",
   "metadata": {},
   "source": [
    "score_df = pd.DataFrame(score_df_dicts)"
   ]
  },
  {
   "cell_type": "raw",
   "id": "188c0630-ed8b-414f-ab8e-09f485b67e94",
   "metadata": {},
   "source": [
    "score_df"
   ]
  },
  {
   "cell_type": "raw",
   "id": "b0c580b9-a13d-46c7-a27e-966a02926f54",
   "metadata": {},
   "source": [
    "names = ['1', '2']\n",
    "test_score = [0.3228522008, 0.3510990242]\n",
    "val_sems = [0.001261, 0.001280]"
   ]
  },
  {
   "cell_type": "raw",
   "id": "971a5fa5-6362-4baa-b456-80ac84897f58",
   "metadata": {},
   "source": [
    "plt.style.use('ggplot')\n",
    "\n",
    "fig, ax = plt.subplots(figsize=(4, 6))\n",
    "# submission\n",
    "xs = np.arange(len(names))\n",
    "for i, name in enumerate(names):\n",
    "    plt.bar(xs[i], test_score[i], width=1.0, alpha=0.9)\n",
    "    # plt.errorbar(xs[0]+offsets[i], means[i], fmt=fmts[i].replace(marker, marker2), label='test')\n",
    "plt.ylim(0.30, 0.36)\n",
    "plt.ylabel('Explainable variance explained (mean)')\n",
    "# plt.yticks([0.35, 0.36, 0.37, 0.38])\n",
    "ax.yaxis.set_major_formatter(FuncFormatter(lambda y, _: '{:.2f}'.format(y))) \n",
    "plt.xticks(xs, names, rotation=0, ha='right')\n",
    "dx = 12/72.; dy = 0/72. \n",
    "offset = matplotlib.transforms.ScaledTranslation(dx, dy, fig.dpi_scale_trans)\n",
    "for label in ax.xaxis.get_majorticklabels():\n",
    "    label.set_transform(label.get_transform() + offset)\n",
    "\n",
    "ax.errorbar(x=xs, y=test_score, yerr=val_sems, color='k',\n",
    "            marker=',', markersize=20, capsize=0, elinewidth=8, capthick=1, linestyle='none')\n",
    "\n",
    "plt.title('Whole Brain Validation Set')\n",
    "\n",
    "for item in ([ax.title, ax.xaxis.label, ax.yaxis.label] +\n",
    "             ax.get_xticklabels() + ax.get_yticklabels()):\n",
    "    item.set_fontsize(20)\n",
    "\n",
    "plt.tight_layout()\n",
    "# plt.savefig('tmp/notebook910/zoomed score.pdf', bbox_inches=\"tight\")\n",
    "plt.show()"
   ]
  },
  {
   "cell_type": "code",
   "execution_count": null,
   "id": "34a745c9-72cc-4cd1-8f01-a7543ffaf2fe",
   "metadata": {},
   "outputs": [],
   "source": []
  },
  {
   "cell_type": "code",
   "execution_count": null,
   "id": "1ab8139d-ed1e-4080-8e64-161f5f73f109",
   "metadata": {},
   "outputs": [],
   "source": []
  },
  {
   "cell_type": "raw",
   "id": "3cbd7132-5c92-42bc-80ae-bafaf4f4b51d",
   "metadata": {},
   "source": [
    "score_df['test_mean'] = score_df['val_mean'] * 0.8 + np.random.rand(*score_df['val_mean'].values.shape) * 0.1"
   ]
  },
  {
   "cell_type": "raw",
   "id": "e4a46659-4941-4922-80a1-f7358d5ef67f",
   "metadata": {},
   "source": [
    "plt.style.use('fivethirtyeight')\n",
    "\n",
    "fig, ax = plt.subplots(figsize=(6, 6))\n",
    "\n",
    "ax.errorbar(data=score_df, x='val_mean', y='test_mean', xerr='val_sem',\n",
    "            marker='.', markersize=20, capsize=12, elinewidth=8, capthick=1, linestyle='none')\n",
    "plt.show()"
   ]
  },
  {
   "cell_type": "raw",
   "id": "28aa9e51-80bd-4710-a9af-422364982eff",
   "metadata": {},
   "source": []
  },
  {
   "cell_type": "markdown",
   "id": "9b09c965-2d0a-4c60-870e-42c603b5d9ed",
   "metadata": {},
   "source": [
    "# backbones"
   ]
  },
  {
   "cell_type": "code",
   "execution_count": 323,
   "id": "d441587a-6b44-46c0-b8c2-60d4e3114ed5",
   "metadata": {},
   "outputs": [
    {
     "data": {
      "text/plain": [
       "['all',\n",
       " '2d_densnet_warp_3d',\n",
       " '3d_swin',\n",
       " '2d_bdcnvgg_warp_3d',\n",
       " 'i3d_flow',\n",
       " '2d_moby_swin_warp_3d',\n",
       " 'i3d_rgb',\n",
       " '2d_seg_swin_warp_3d',\n",
       " 'audio_vggish',\n",
       " '2d_pyconvsegnet_warp_3d',\n",
       " '2d_simclr_warp_3d',\n",
       " '2d_colorizer_warp_3d']"
      ]
     },
     "execution_count": 323,
     "metadata": {},
     "output_type": "execute_result"
    }
   ],
   "source": [
    "backbone_names"
   ]
  },
  {
   "cell_type": "code",
   "execution_count": 818,
   "id": "2d4765b0-cda1-4f29-bc39-2ab4a338b098",
   "metadata": {},
   "outputs": [],
   "source": [
    "val_score_dict = {}\n",
    "for backbone_name in backbone_names[:]:\n",
    "    path = f'/data/huze/ray_results/algonauts2021/tmp/notebook-010/{backbone_name}-predictions.npy'\n",
    "    prediction = torch.tensor(np.load(path)).float()\n",
    "    voxel_scores = vectorized_correlation(prediction[val_indices], val_fmris)\n",
    "    voxel_scores /= noise_ceiling\n",
    "    \n",
    "    val_score_dict[backbone_name] = voxel_scores"
   ]
  },
  {
   "cell_type": "code",
   "execution_count": 819,
   "id": "d97ece17-4379-4fa2-9ed5-2cdfe93ccf18",
   "metadata": {},
   "outputs": [],
   "source": [
    "names = list(val_score_dict.keys())"
   ]
  },
  {
   "cell_type": "code",
   "execution_count": 820,
   "id": "87752fa6-cc27-4d28-b72f-76eedcb1a051",
   "metadata": {},
   "outputs": [
    {
     "data": {
      "text/plain": [
       "['all',\n",
       " '2d_densnet_warp_3d',\n",
       " '3d_swin',\n",
       " '2d_bdcnvgg_warp_3d',\n",
       " 'i3d_flow',\n",
       " '2d_moby_swin_warp_3d',\n",
       " 'i3d_rgb',\n",
       " '2d_seg_swin_warp_3d',\n",
       " 'audio_vggish',\n",
       " '2d_pyconvsegnet_warp_3d',\n",
       " '2d_simclr_warp_3d',\n",
       " '2d_colorizer_warp_3d']"
      ]
     },
     "execution_count": 820,
     "metadata": {},
     "output_type": "execute_result"
    }
   ],
   "source": [
    "names"
   ]
  },
  {
   "cell_type": "code",
   "execution_count": 821,
   "id": "3f01a926-7dca-4ad9-b17f-b6db2b98ced3",
   "metadata": {},
   "outputs": [],
   "source": [
    "label_names = ['All Models Ensemble', '2D DensNet-CLS', '3D SwinTransformer-CLS', '2D VGG-EdgeDetection', '3D ResNet Flow-CLS', '2D SwinTransformer-Moby',\n",
    "                '3D ResNet-CLS', '2D SwinTransformer-Seg', 'Audio VGGish-CLS', '2D PyConvSegNet-Seg', '2D ResNet-SimClr', '2D AlexNet-Colorization']"
   ]
  },
  {
   "cell_type": "code",
   "execution_count": 822,
   "id": "53fe42cc-c5aa-410c-8549-a6ca67e0b3bd",
   "metadata": {},
   "outputs": [],
   "source": [
    "colormap = plt.cm.tab20# LinearSegmentedColormap\n",
    "Ncolors = min(colormap.N, len(names))\n",
    "mapcolors = [colormap(int(x*colormap.N/Ncolors)) for x in range(Ncolors)]"
   ]
  },
  {
   "cell_type": "code",
   "execution_count": 815,
   "id": "98969280-4de6-48a6-9c1d-cf550a48bc98",
   "metadata": {},
   "outputs": [],
   "source": [
    "scores = np.asarray([s.mean().item() for s in val_score_dict.values()])"
   ]
  },
  {
   "cell_type": "code",
   "execution_count": 816,
   "id": "1a1204fc-006f-4a16-a805-67bbcae067df",
   "metadata": {},
   "outputs": [],
   "source": [
    "score_idxs = scores.argsort()[::-1]"
   ]
  },
  {
   "cell_type": "code",
   "execution_count": 825,
   "id": "118c01d8-c085-4cd6-aafc-3c61881a1150",
   "metadata": {},
   "outputs": [
    {
     "data": {
      "text/plain": [
       "array([[0.12156863, 0.46666667, 0.70588235, 1.        ],\n",
       "       [1.        , 0.73333333, 0.47058824, 1.        ],\n",
       "       [0.54901961, 0.3372549 , 0.29411765, 1.        ],\n",
       "       [0.68235294, 0.78039216, 0.90980392, 1.        ],\n",
       "       [0.7372549 , 0.74117647, 0.13333333, 1.        ],\n",
       "       [0.58039216, 0.40392157, 0.74117647, 1.        ],\n",
       "       [0.78039216, 0.78039216, 0.78039216, 1.        ],\n",
       "       [0.76862745, 0.61176471, 0.58039216, 1.        ],\n",
       "       [0.83921569, 0.15294118, 0.15686275, 1.        ],\n",
       "       [0.09019608, 0.74509804, 0.81176471, 1.        ],\n",
       "       [0.59607843, 0.8745098 , 0.54117647, 1.        ],\n",
       "       [0.96862745, 0.71372549, 0.82352941, 1.        ]])"
      ]
     },
     "execution_count": 825,
     "metadata": {},
     "output_type": "execute_result"
    }
   ],
   "source": [
    "np.asarray(mapcolors)[score_idxs]"
   ]
  },
  {
   "cell_type": "code",
   "execution_count": 672,
   "id": "9f2a3fb8-29a0-4d40-94e5-7e228bbde7a4",
   "metadata": {},
   "outputs": [
    {
     "data": {
      "image/png": "[encoded data removed]",
      "text/plain": [
       "<Figure size 360x576 with 1 Axes>"
      ]
     },
     "metadata": {},
     "output_type": "display_data"
    }
   ],
   "source": [
    "fig, ax = plt.subplots(figsize=(5, 8))\n",
    "# submission\n",
    "xs = np.arange(len(names))\n",
    "means = []\n",
    "for i_iter, i in enumerate(score_idxs):\n",
    "    name = names[i]\n",
    "    mean = val_score_dict[name].mean().item()\n",
    "    means.append(mean)\n",
    "    sem = val_score_dict[name].std().item() / np.sqrt(len(val_score_dict[name]))\n",
    "    plt.bar(xs[i_iter], mean, width=1.0, alpha=0.9, label=label_names[i], color=mapcolors[i])\n",
    "    plt.errorbar(xs[i_iter], y=mean, yerr=sem, color='k',\n",
    "                 marker=',', markersize=0, capsize=0, elinewidth=4, capthick=1, linestyle='none')\n",
    "\n",
    "plt.ylim([0.15, 0.48])\n",
    "plt.ylabel('Whole Brain Validation Set \\n Explained Variance (mean %)', fontdict={'style': 'italic'})\n",
    "ax.yaxis.set_major_formatter(FuncFormatter(lambda y, _: '{:.2f}'.format(y))) \n",
    "plt.xticks([])\n",
    "\n",
    "formatter = matplotlib.ticker.FormatStrFormatter('%1.2f')\n",
    "locator = matplotlib.ticker.MaxNLocator(nbins=6)\n",
    "ax.yaxis.set_major_locator(locator)\n",
    "ax.yaxis.set_major_formatter(formatter)\n",
    "\n",
    "plt.title('Integrating Backbone Models \\n (no-atlas models)')\n",
    "\n",
    "plt.legend(loc='upper left', bbox_to_anchor=(0., -0.), ncol=3, prop={'size': 16, 'weight': 'normal'})\n",
    "\n",
    "barplot_annotate_brackets(0, 1, '***', xs, means, dh=0.02, barh=0.01, fs=14)\n",
    "barplot_annotate_brackets(1, 2, 'n. s.', xs, means, dh=0.02, barh=0.01, fs=14)\n",
    "\n",
    "for item in ([ax.title, ax.xaxis.label, ax.yaxis.label] +\n",
    "             ax.get_xticklabels() + ax.get_yticklabels()):\n",
    "    item.set_fontsize(24)\n",
    "    \n",
    "for item in (ax.get_xticklabels() + ax.get_yticklabels()):\n",
    "    item.set_fontsize(20)\n",
    "\n",
    "# plt.tight_layout()\n",
    "plt.savefig('tmp/notebook910/int11 score.pdf', bbox_inches=\"tight\")\n",
    "plt.show()"
   ]
  },
  {
   "cell_type": "code",
   "execution_count": 652,
   "id": "83b7ab49-b5b1-4f01-9ee5-1c104dd68c6b",
   "metadata": {},
   "outputs": [],
   "source": [
    "# backbones unique contribution"
   ]
  },
  {
   "cell_type": "code",
   "execution_count": 653,
   "id": "cbf45534-f0b7-4a1e-a35b-71d08c77b2f0",
   "metadata": {},
   "outputs": [],
   "source": [
    "val_score_m1_dict = {}\n",
    "prediction_m1_dict = {}\n",
    "prediction_dict = {}"
   ]
  },
  {
   "cell_type": "code",
   "execution_count": 654,
   "id": "06dff032-f731-4648-b604-fe54ee33acb5",
   "metadata": {},
   "outputs": [],
   "source": [
    "for backbone_name in backbone_names[1:]:\n",
    "    path = f'/data/huze/ray_results/algonauts2021/tmp/notebook-010/{backbone_name}-predictions.npy'\n",
    "    prediction = torch.tensor(np.load(path)).float()\n",
    "    prediction_dict[backbone_name] = prediction"
   ]
  },
  {
   "cell_type": "code",
   "execution_count": 655,
   "id": "f13e01f8-d2ee-4739-aa01-58ec21989461",
   "metadata": {},
   "outputs": [
    {
     "data": {
      "text/plain": [
       "dict_keys(['2d_densnet_warp_3d', '3d_swin', '2d_bdcnvgg_warp_3d', 'i3d_flow', '2d_moby_swin_warp_3d', 'i3d_rgb', '2d_seg_swin_warp_3d', 'audio_vggish', '2d_pyconvsegnet_warp_3d', '2d_simclr_warp_3d', '2d_colorizer_warp_3d'])"
      ]
     },
     "execution_count": 655,
     "metadata": {},
     "output_type": "execute_result"
    }
   ],
   "source": [
    "prediction_dict.keys()"
   ]
  },
  {
   "cell_type": "code",
   "execution_count": 658,
   "id": "9eb11afd-ed46-4d3b-a563-b3edf5be77bf",
   "metadata": {},
   "outputs": [],
   "source": [
    "DEVICE = 'cuda:1'\n",
    "from src.utils.ensemble import optimize_val_correlation\n",
    "def get_ensemble_prediction_from_tensor_list(predicions_list, roi_val_fmris, val_indices, opt_verbose=False):\n",
    "    predictions = torch.stack(predicions_list, -1)\n",
    "    ws = optimize_val_correlation(predictions[val_indices],\n",
    "                                  roi_val_fmris,\n",
    "                                  verbose=opt_verbose,\n",
    "                                  device=DEVICE,\n",
    "                                 tol=1e-4)\n",
    "    new_predictions = predictions @ ws\n",
    "    return new_predictions, ws"
   ]
  },
  {
   "cell_type": "code",
   "execution_count": 659,
   "id": "914bcb2a-e8dc-4eec-b592-33359a88edd5",
   "metadata": {
    "tags": []
   },
   "outputs": [
    {
     "data": {
      "application/vnd.jupyter.widget-view+json": {
       "model_id": "14be8f97f76a4aa9bd7c62f9867d6167",
       "version_major": 2,
       "version_minor": 0
      },
      "text/plain": [
       "  0%|          | 0/11 [00:00<?, ?it/s]"
      ]
     },
     "metadata": {},
     "output_type": "display_data"
    }
   ],
   "source": [
    "for backbone_name in tqdm(backbone_names[1:]):\n",
    "    prediction_list = [p for k, p in prediction_dict.items() if k != backbone_name]\n",
    "    new_predictions = get_ensemble_prediction_from_tensor_list(prediction_list, val_fmris, val_indices)\n",
    "    prediction_m1_dict[backbone_name] = new_predictions"
   ]
  },
  {
   "cell_type": "code",
   "execution_count": null,
   "id": "c4c8d3fe-7290-4882-bf38-4b97ff14dc6a",
   "metadata": {},
   "outputs": [],
   "source": []
  },
  {
   "cell_type": "raw",
   "id": "e59a6651-eec6-4a4f-86fc-b0fb48bcb96d",
   "metadata": {},
   "source": [
    "# ablation"
   ]
  },
  {
   "cell_type": "raw",
   "id": "fb24533f-cc72-4ae7-a629-8cab2d6010f9",
   "metadata": {},
   "source": [
    "for i, b in enumerate(backbone_names):\n",
    "    print(i, b)"
   ]
  },
  {
   "cell_type": "raw",
   "id": "5a1ef69d-2ff8-48c8-b641-206b2a016e9b",
   "metadata": {},
   "source": [
    "c1 = [1, 2, 4, 6, 10]\n",
    "c2 = [1, 2, 3, 4, 5, 6, 7, 8, 9, 10, 11]\n",
    "c3 = [1, 2, 3, 4, 5, 6, 7, 8, 10]"
   ]
  },
  {
   "cell_type": "raw",
   "id": "e9641548-387f-4bb3-be52-177401b60971",
   "metadata": {},
   "source": [
    "np.asarray(c).astype('int')"
   ]
  },
  {
   "cell_type": "raw",
   "id": "9240a27c-c8a0-4dac-9d6a-33422a85809b",
   "metadata": {},
   "source": [
    "for c in [c1, c2, c3]:\n",
    "    prediction_list = [prediction_dict[backbone_names[i]] for i in c]\n",
    "    new_predictions, ws = get_ensemble_prediction_from_tensor_list(prediction_list, val_fmris, val_indices, opt_verbose=True)\n",
    "    \n",
    "    l = len(c)\n",
    "    algonauts2021_submission_from_whole_brain_prediction('../../src/config/dataset',\n",
    "                                                    f'{l},1e-6',\n",
    "                                                    new_predictions[1000:].numpy(),\n",
    "                                                    output_dir='./submissions/',\n",
    "                                                    mini_track=False)"
   ]
  },
  {
   "cell_type": "raw",
   "id": "4fc091a6-0160-4da5-b861-5dd95060ce3c",
   "metadata": {},
   "source": []
  },
  {
   "cell_type": "raw",
   "id": "ab643a53-2ea6-4e78-ad61-a3eb62b3aba6",
   "metadata": {},
   "source": []
  },
  {
   "cell_type": "raw",
   "id": "e4bbb324-27ef-4652-8f59-dce40bf74bcb",
   "metadata": {},
   "source": [
    "# tol=1e-4 will overfit"
   ]
  },
  {
   "cell_type": "raw",
   "id": "4cefee5f-4b0c-49c3-a849-9a1046c3618c",
   "metadata": {},
   "source": [
    "prediction_dict.keys()\n",
    "\n",
    "DEVICE = 'cuda:1'\n",
    "from src.utils.ensemble import optimize_val_correlation\n",
    "def get_ensemble_prediction_from_tensor_list(predicions_list, roi_val_fmris, val_indices, opt_verbose=True):\n",
    "    predictions = torch.stack(predicions_list, -1)\n",
    "    ws = optimize_val_correlation(predictions[val_indices],\n",
    "                                  roi_val_fmris,\n",
    "                                  verbose=opt_verbose,\n",
    "                                  tol=0.0001,\n",
    "                                  device=DEVICE)\n",
    "    new_predictions = predictions @ ws\n",
    "    return new_predictions, ws\n",
    "\n",
    "\n",
    "prediction_list = [p for k, p in prediction_dict.items() if k != 'all' and k in backbone_names]\n",
    "new_predictions = get_ensemble_prediction_from_tensor_list(prediction_list, val_fmris, val_indices)\n",
    "\n",
    "algonauts2021_submission_from_whole_brain_prediction('../../src/config/dataset',\n",
    "                                                    '11(0.0001)',\n",
    "                                                    new_predictions[0][1000:].numpy(),\n",
    "                                                    output_dir='./submissions/')\n",
    "\n",
    "algonauts2021_submission_from_whole_brain_prediction('../../src/config/dataset',\n",
    "                                                    'i3d_rgb(0.01)',\n",
    "                                                    prediction_dict['i3d_rgb'][1000:].numpy(),\n",
    "                                                    output_dir='./submissions/')"
   ]
  },
  {
   "cell_type": "raw",
   "id": "86984f2e-d7f7-4097-8f11-1770b99e1adc",
   "metadata": {},
   "source": []
  },
  {
   "cell_type": "code",
   "execution_count": 660,
   "id": "b4f44f6e-98f7-48c5-ace4-4754fe715341",
   "metadata": {},
   "outputs": [
    {
     "data": {
      "application/vnd.jupyter.widget-view+json": {
       "model_id": "3277e78d602c4a8f80c7542d329b82db",
       "version_major": 2,
       "version_minor": 0
      },
      "text/plain": [
       "  0%|          | 0/11 [00:00<?, ?it/s]"
      ]
     },
     "metadata": {},
     "output_type": "display_data"
    }
   ],
   "source": [
    "for backbone_name in tqdm(backbone_names[1:]):\n",
    "    prediction = prediction_m1_dict[backbone_name][0]\n",
    "    \n",
    "    voxel_scores = vectorized_correlation(prediction[val_indices], val_fmris)\n",
    "    voxel_scores /= noise_ceiling\n",
    "    \n",
    "    val_score_m1_dict[backbone_name] = voxel_scores"
   ]
  },
  {
   "cell_type": "code",
   "execution_count": 663,
   "id": "d71db753-a907-4696-a7ae-42d4cce39b21",
   "metadata": {},
   "outputs": [
    {
     "data": {
      "text/plain": [
       "['all',\n",
       " '2d_densnet_warp_3d',\n",
       " '3d_swin',\n",
       " '2d_bdcnvgg_warp_3d',\n",
       " 'i3d_flow',\n",
       " '2d_moby_swin_warp_3d',\n",
       " 'i3d_rgb',\n",
       " '2d_seg_swin_warp_3d',\n",
       " 'audio_vggish',\n",
       " '2d_pyconvsegnet_warp_3d',\n",
       " '2d_simclr_warp_3d',\n",
       " '2d_colorizer_warp_3d']"
      ]
     },
     "execution_count": 663,
     "metadata": {},
     "output_type": "execute_result"
    }
   ],
   "source": [
    "names"
   ]
  },
  {
   "cell_type": "code",
   "execution_count": 674,
   "id": "21d3e39a-2dcb-42ad-8ac8-d41f83cd78e4",
   "metadata": {},
   "outputs": [
    {
     "data": {
      "image/png": "[encoded data removed]",
      "text/plain": [
       "<Figure size 360x576 with 1 Axes>"
      ]
     },
     "metadata": {},
     "output_type": "display_data"
    }
   ],
   "source": [
    "fig, ax = plt.subplots(figsize=(5, 8))\n",
    "# submission\n",
    "xs = np.arange(len(names))\n",
    "for i_iter, i in enumerate(score_idxs):\n",
    "    name = names[i]\n",
    "    if name == 'all': continue\n",
    "    mean = val_score_m1_dict[name].mean().item()\n",
    "    sem = val_score_m1_dict[name].std().item() / np.sqrt(len(val_score_m1_dict[name]))\n",
    "    plt.bar(xs[i_iter], mean, width=1.0, alpha=0.9, label=label_names[i], color=mapcolors[i])\n",
    "    plt.errorbar(xs[i_iter], y=mean, yerr=sem, color='k',\n",
    "                 marker=',', markersize=0, capsize=0, elinewidth=4, capthick=1, linestyle='none')\n",
    "\n",
    "plt.ylim([0.4455, 0.4560])\n",
    "# plt.yticks([0.4455, 0.4500, 0.4545, 0.4560])\n",
    "# plt.ylabel('Explainable variance explained (mean %)')\n",
    "ax.yaxis.set_major_formatter(FuncFormatter(lambda y, _: '{:.4f}'.format(y))) \n",
    "plt.xticks([])\n",
    "ax.yaxis.tick_right()\n",
    "\n",
    "formatter = matplotlib.ticker.FormatStrFormatter('%1.3f')\n",
    "locator = matplotlib.ticker.MaxNLocator(nbins=6)\n",
    "ax.yaxis.set_major_locator(locator)\n",
    "ax.yaxis.set_major_formatter(formatter)\n",
    "\n",
    "plt.title('(All - X) Models Ensemble')\n",
    "\n",
    "# plt.legend(loc='upper left', bbox_to_anchor=(0., -0.), ncol=3, prop={'size': 16, 'weight': 'normal'})\n",
    "\n",
    "y = val_score_dict['all'].mean().item()\n",
    "sem = val_score_dict['all'].std() / np.sqrt(len(val_score_dict['all']))\n",
    "ax.axhline(y=y, color=mapcolors[0], linestyle='-', alpha=.8)\n",
    "ax.annotate('all models ensemble', xy=(0.1, y), xytext=(0.5, y+0.0007),\n",
    "    arrowprops=dict(facecolor='black', shrink=0.05), fontsize=16)\n",
    "# plt.bar(-1, y, width=1.0, alpha=0.9, label=label_names[0], color=mapcolors[0])\n",
    "# plt.errorbar(-1, y=y, yerr=sem, color='k',\n",
    "#              marker=',', markersize=0, capsize=0, elinewidth=4, capthick=1, linestyle='none')\n",
    "\n",
    "for item in ([ax.title, ax.xaxis.label, ax.yaxis.label] +\n",
    "             ax.get_xticklabels() + ax.get_yticklabels()):\n",
    "    item.set_fontsize(24)\n",
    "    \n",
    "for item in (ax.get_xticklabels() + ax.get_yticklabels()):\n",
    "    item.set_fontsize(20)\n",
    "\n",
    "plt.tight_layout()\n",
    "plt.savefig('tmp/notebook910/int11 unique contribution score.pdf', bbox_inches=\"tight\")\n",
    "plt.show()"
   ]
  },
  {
   "cell_type": "code",
   "execution_count": null,
   "id": "0e67d399-07aa-461f-82f8-a1090fd6c811",
   "metadata": {},
   "outputs": [],
   "source": []
  },
  {
   "cell_type": "code",
   "execution_count": null,
   "id": "058592c1-eb9f-4c0d-a594-ee7bee12d53f",
   "metadata": {},
   "outputs": [],
   "source": []
  },
  {
   "cell_type": "code",
   "execution_count": null,
   "id": "94a7d7e4-6875-4c22-897f-7b637990ee56",
   "metadata": {},
   "outputs": [],
   "source": []
  },
  {
   "cell_type": "code",
   "execution_count": null,
   "id": "8cadce1f-a80f-4194-9356-1741dbcec8c2",
   "metadata": {},
   "outputs": [],
   "source": []
  },
  {
   "cell_type": "markdown",
   "id": "0f9b9117-cb3c-4996-b28e-5b5562a783a5",
   "metadata": {},
   "source": [
    "# intersection ensemble"
   ]
  },
  {
   "cell_type": "code",
   "execution_count": 56,
   "id": "1b3091cd-7965-4e76-bba7-e29c53e9bf16",
   "metadata": {},
   "outputs": [],
   "source": [
    "tmp_dir_base = Path('/data/huze/ray_results_mki/algonauts2021/')\n",
    "tmp_sub_dirs = ['notebook200', 'notebook201']\n",
    "tmp_dirs = [tmp_dir_base.joinpath(Path(p)) for p in tmp_sub_dirs]"
   ]
  },
  {
   "cell_type": "code",
   "execution_count": 57,
   "id": "2209e42a-f7d4-4dce-b54a-e4f1b4080f47",
   "metadata": {},
   "outputs": [],
   "source": [
    "paths = sum([list(tmp_dir.iterdir()) for tmp_dir in tmp_dirs], [])"
   ]
  },
  {
   "cell_type": "code",
   "execution_count": 58,
   "id": "f7b5d67d-f365-44d7-aca1-219f64419f88",
   "metadata": {},
   "outputs": [],
   "source": [
    "prediction_df_dicts = []\n",
    "for path in paths:\n",
    "    # print(path)\n",
    "    try:\n",
    "        name = path.name.replace('-prediction.pt', '')\n",
    "        d = {k: v for k, v in map(lambda kv: kv.split('='), name.split(','))}\n",
    "        d['path'] = path\n",
    "\n",
    "        d['layers'] = tuple(d['model_sch'].split('&')[0].split('+'))\n",
    "        d['backbones'] = tuple(d['model_sch'].split('&')[1].split('+'))\n",
    "        \n",
    "        if 'roi_sch' in d.keys():\n",
    "            d['atlas'] = tuple(d['roi_sch'].split('+'))\n",
    "        else:\n",
    "            d['atlas'] = tuple(d['subset_roi_sch'].split('+'))\n",
    "\n",
    "        prediction_df_dicts.append(d)\n",
    "        # print(d)\n",
    "    except KeyError as e:\n",
    "        print(e)\n",
    "        continue\n",
    "\n",
    "\n",
    "prediction_df = pd.DataFrame(prediction_df_dicts)\n",
    "\n",
    "prediction_df.fillna('', inplace=True) # replace nan"
   ]
  },
  {
   "cell_type": "code",
   "execution_count": 59,
   "id": "6d96a3ce-d8de-4ea4-8fb3-ee2620dff495",
   "metadata": {},
   "outputs": [
    {
     "data": {
      "text/html": [
       "<div>\n",
       "<style scoped>\n",
       "    .dataframe tbody tr th:only-of-type {\n",
       "        vertical-align: middle;\n",
       "    }\n",
       "\n",
       "    .dataframe tbody tr th {\n",
       "        vertical-align: top;\n",
       "    }\n",
       "\n",
       "    .dataframe thead th {\n",
       "        text-align: right;\n",
       "    }\n",
       "</style>\n",
       "<table border=\"1\" class=\"dataframe\">\n",
       "  <thead>\n",
       "    <tr style=\"text-align: right;\">\n",
       "      <th></th>\n",
       "      <th>he_sch</th>\n",
       "      <th>model_sch</th>\n",
       "      <th>roi_sch</th>\n",
       "      <th>path</th>\n",
       "      <th>layers</th>\n",
       "      <th>backbones</th>\n",
       "      <th>atlas</th>\n",
       "      <th>intersection_sch</th>\n",
       "      <th>subset_roi_sch</th>\n",
       "    </tr>\n",
       "  </thead>\n",
       "  <tbody>\n",
       "    <tr>\n",
       "      <th>0</th>\n",
       "      <td>H3</td>\n",
       "      <td>single_layer&amp;i3d_rgb+i3d_flow</td>\n",
       "      <td>htROI</td>\n",
       "      <td>/data/huze/ray_results_mki/algonauts2021/noteb...</td>\n",
       "      <td>(single_layer,)</td>\n",
       "      <td>(i3d_rgb, i3d_flow)</td>\n",
       "      <td>(htROI,)</td>\n",
       "      <td></td>\n",
       "      <td></td>\n",
       "    </tr>\n",
       "    <tr>\n",
       "      <th>1</th>\n",
       "      <td>H3</td>\n",
       "      <td>single_layer&amp;i3d_rgb+i3d_flow</td>\n",
       "      <td>WB</td>\n",
       "      <td>/data/huze/ray_results_mki/algonauts2021/noteb...</td>\n",
       "      <td>(single_layer,)</td>\n",
       "      <td>(i3d_rgb, i3d_flow)</td>\n",
       "      <td>(WB,)</td>\n",
       "      <td></td>\n",
       "      <td></td>\n",
       "    </tr>\n",
       "    <tr>\n",
       "      <th>2</th>\n",
       "      <td>H3</td>\n",
       "      <td>single_layer&amp;i3d_rgb+i3d_flow</td>\n",
       "      <td>aROI</td>\n",
       "      <td>/data/huze/ray_results_mki/algonauts2021/noteb...</td>\n",
       "      <td>(single_layer,)</td>\n",
       "      <td>(i3d_rgb, i3d_flow)</td>\n",
       "      <td>(aROI,)</td>\n",
       "      <td></td>\n",
       "      <td></td>\n",
       "    </tr>\n",
       "    <tr>\n",
       "      <th>3</th>\n",
       "      <td>H3</td>\n",
       "      <td>single_layer&amp;i3d_rgb+i3d_flow</td>\n",
       "      <td></td>\n",
       "      <td>/data/huze/ray_results_mki/algonauts2021/noteb...</td>\n",
       "      <td>(single_layer,)</td>\n",
       "      <td>(i3d_rgb, i3d_flow)</td>\n",
       "      <td>(WB, aROI)</td>\n",
       "      <td>grouped ensemble</td>\n",
       "      <td>WB+aROI</td>\n",
       "    </tr>\n",
       "    <tr>\n",
       "      <th>4</th>\n",
       "      <td>H3</td>\n",
       "      <td>single_layer&amp;i3d_rgb+i3d_flow</td>\n",
       "      <td></td>\n",
       "      <td>/data/huze/ray_results_mki/algonauts2021/noteb...</td>\n",
       "      <td>(single_layer,)</td>\n",
       "      <td>(i3d_rgb, i3d_flow)</td>\n",
       "      <td>(WB, aROI, htROI)</td>\n",
       "      <td>voxel-wise swap</td>\n",
       "      <td>WB+aROI+htROI</td>\n",
       "    </tr>\n",
       "  </tbody>\n",
       "</table>\n",
       "</div>"
      ],
      "text/plain": [
       "  he_sch                      model_sch roi_sch  \\\n",
       "0     H3  single_layer&i3d_rgb+i3d_flow   htROI   \n",
       "1     H3  single_layer&i3d_rgb+i3d_flow      WB   \n",
       "2     H3  single_layer&i3d_rgb+i3d_flow    aROI   \n",
       "3     H3  single_layer&i3d_rgb+i3d_flow           \n",
       "4     H3  single_layer&i3d_rgb+i3d_flow           \n",
       "\n",
       "                                                path           layers  \\\n",
       "0  /data/huze/ray_results_mki/algonauts2021/noteb...  (single_layer,)   \n",
       "1  /data/huze/ray_results_mki/algonauts2021/noteb...  (single_layer,)   \n",
       "2  /data/huze/ray_results_mki/algonauts2021/noteb...  (single_layer,)   \n",
       "3  /data/huze/ray_results_mki/algonauts2021/noteb...  (single_layer,)   \n",
       "4  /data/huze/ray_results_mki/algonauts2021/noteb...  (single_layer,)   \n",
       "\n",
       "             backbones              atlas  intersection_sch subset_roi_sch  \n",
       "0  (i3d_rgb, i3d_flow)           (htROI,)                                   \n",
       "1  (i3d_rgb, i3d_flow)              (WB,)                                   \n",
       "2  (i3d_rgb, i3d_flow)            (aROI,)                                   \n",
       "3  (i3d_rgb, i3d_flow)         (WB, aROI)  grouped ensemble        WB+aROI  \n",
       "4  (i3d_rgb, i3d_flow)  (WB, aROI, htROI)   voxel-wise swap  WB+aROI+htROI  "
      ]
     },
     "execution_count": 59,
     "metadata": {},
     "output_type": "execute_result"
    }
   ],
   "source": [
    "prediction_df.head()"
   ]
  },
  {
   "cell_type": "code",
   "execution_count": 60,
   "id": "88966e26-432a-47cf-83bd-fbb5d2679a9d",
   "metadata": {},
   "outputs": [
    {
     "data": {
      "text/plain": [
       "he_sch               1\n",
       "model_sch            1\n",
       "roi_sch              4\n",
       "path                15\n",
       "layers               1\n",
       "backbones            1\n",
       "atlas                7\n",
       "intersection_sch     4\n",
       "subset_roi_sch       5\n",
       "dtype: int64"
      ]
     },
     "execution_count": 60,
     "metadata": {},
     "output_type": "execute_result"
    }
   ],
   "source": [
    "prediction_df.nunique()"
   ]
  },
  {
   "cell_type": "code",
   "execution_count": 61,
   "id": "f41c381c-238c-40fe-827c-ea9250b3e318",
   "metadata": {},
   "outputs": [
    {
     "name": "stdout",
     "output_type": "stream",
     "text": [
      "key\t he_sch\n",
      "values\t ['H3']\n",
      "\n",
      "key\t model_sch\n",
      "values\t ['single_layer&i3d_rgb+i3d_flow']\n",
      "\n",
      "key\t roi_sch\n",
      "values\t ['htROI', 'WB', 'aROI', '']\n",
      "\n",
      "key\t layers\n",
      "values\t [('single_layer',)]\n",
      "\n",
      "key\t backbones\n",
      "values\t [('i3d_rgb', 'i3d_flow')]\n",
      "\n",
      "key\t atlas\n",
      "values\t [('htROI',), ('WB',), ('aROI',), ('WB', 'aROI'), ('WB', 'aROI', 'htROI'), ('aROI', 'htROI'), ('WB', 'htROI')]\n",
      "\n",
      "key\t intersection_sch\n",
      "values\t ['', 'grouped ensemble', 'voxel-wise swap', 'grouped swap']\n",
      "\n",
      "key\t subset_roi_sch\n",
      "values\t ['', 'WB+aROI', 'WB+aROI+htROI', 'aROI+htROI', 'WB+htROI']\n",
      "\n"
     ]
    }
   ],
   "source": [
    "from pprint import pprint\n",
    "\n",
    "for ckey in prediction_df.keys():\n",
    "    if ckey == 'path':\n",
    "        continue\n",
    "    print('key\\t', ckey)\n",
    "    lst = prediction_df[ckey].dropna().unique().tolist()\n",
    "    print('values\\t', lst)\n",
    "    print()"
   ]
  },
  {
   "cell_type": "markdown",
   "id": "2a1d6c28-14fe-4152-b0b6-245d9e085d48",
   "metadata": {},
   "source": [
    "# validation"
   ]
  },
  {
   "cell_type": "code",
   "execution_count": 62,
   "id": "49a68ebd-04c3-4299-81c4-971259fa4bdf",
   "metadata": {},
   "outputs": [],
   "source": [
    "score_save_dir = Path('/data/huze/ray_results/algonauts2021/notebook200/score/')"
   ]
  },
  {
   "cell_type": "code",
   "execution_count": 63,
   "id": "a6ccc230-82b5-4e69-8c93-419a69cb03b5",
   "metadata": {},
   "outputs": [],
   "source": [
    "df_dicts = []\n",
    "for path in score_save_dir.iterdir():\n",
    "    try:\n",
    "        name = path.name.replace('-score.pt', '')\n",
    "        d = {k: v for k, v in map(lambda kv: kv.split('='), name.split(','))}\n",
    "        d['path'] = path\n",
    "        df_dicts.append(d)\n",
    "    except:\n",
    "        continue\n",
    "\n",
    "score_df = pd.DataFrame(df_dicts)\n",
    "\n",
    "score_df.fillna('', inplace=True) # replace nan"
   ]
  },
  {
   "cell_type": "code",
   "execution_count": 64,
   "id": "e43214fb-ce37-4606-8212-987c47cb7481",
   "metadata": {},
   "outputs": [],
   "source": [
    "score_df = my_query_df(score_df, {'he_sch': 'H3', 'intersection_sch': 'grouped ensemble'})"
   ]
  },
  {
   "cell_type": "code",
   "execution_count": 65,
   "id": "64d75c52-9b62-419c-b1d2-6ed324097a40",
   "metadata": {},
   "outputs": [],
   "source": [
    "score_df = score_df[score_df['backbone'].isin([str(i) for i in range(1, 12)])]"
   ]
  },
  {
   "cell_type": "code",
   "execution_count": 66,
   "id": "4355d2d7-a8ad-4e64-8d8c-78e2022df6f5",
   "metadata": {},
   "outputs": [],
   "source": [
    "score_df['backbone'] = score_df['backbone'].apply(lambda i: int(i))"
   ]
  },
  {
   "cell_type": "code",
   "execution_count": 67,
   "id": "2090bd94-e55f-4bc5-b098-641b9fc4e8f1",
   "metadata": {},
   "outputs": [],
   "source": [
    "score_df = score_df.sort_values(['backbone', 'subset_roi_sch'])"
   ]
  },
  {
   "cell_type": "code",
   "execution_count": 68,
   "id": "f2ef72fe-8aa9-4dd9-829f-bbf7e47dd9b2",
   "metadata": {},
   "outputs": [
    {
     "data": {
      "text/plain": [
       "backbone            11\n",
       "he_sch               1\n",
       "intersection_sch     1\n",
       "subset_roi_sch       7\n",
       "path                77\n",
       "dtype: int64"
      ]
     },
     "execution_count": 68,
     "metadata": {},
     "output_type": "execute_result"
    }
   ],
   "source": [
    "score_df.nunique()"
   ]
  },
  {
   "cell_type": "code",
   "execution_count": 69,
   "id": "f7b94a51-e8fe-49bd-9290-7def87c0a903",
   "metadata": {},
   "outputs": [],
   "source": [
    "score_df.reset_index(drop=True, inplace=True)"
   ]
  },
  {
   "cell_type": "code",
   "execution_count": 70,
   "id": "a29f0391-c2eb-4652-a9c7-372026203063",
   "metadata": {},
   "outputs": [
    {
     "data": {
      "text/html": [
       "<div>\n",
       "<style scoped>\n",
       "    .dataframe tbody tr th:only-of-type {\n",
       "        vertical-align: middle;\n",
       "    }\n",
       "\n",
       "    .dataframe tbody tr th {\n",
       "        vertical-align: top;\n",
       "    }\n",
       "\n",
       "    .dataframe thead th {\n",
       "        text-align: right;\n",
       "    }\n",
       "</style>\n",
       "<table border=\"1\" class=\"dataframe\">\n",
       "  <thead>\n",
       "    <tr style=\"text-align: right;\">\n",
       "      <th></th>\n",
       "      <th>backbone</th>\n",
       "      <th>he_sch</th>\n",
       "      <th>intersection_sch</th>\n",
       "      <th>subset_roi_sch</th>\n",
       "      <th>path</th>\n",
       "    </tr>\n",
       "  </thead>\n",
       "  <tbody>\n",
       "    <tr>\n",
       "      <th>0</th>\n",
       "      <td>1</td>\n",
       "      <td>H3</td>\n",
       "      <td>grouped ensemble</td>\n",
       "      <td>S-htROI</td>\n",
       "      <td>/data/huze/ray_results/algonauts2021/notebook2...</td>\n",
       "    </tr>\n",
       "    <tr>\n",
       "      <th>1</th>\n",
       "      <td>1</td>\n",
       "      <td>H3</td>\n",
       "      <td>grouped ensemble</td>\n",
       "      <td>WB</td>\n",
       "      <td>/data/huze/ray_results/algonauts2021/notebook2...</td>\n",
       "    </tr>\n",
       "    <tr>\n",
       "      <th>2</th>\n",
       "      <td>1</td>\n",
       "      <td>H3</td>\n",
       "      <td>grouped ensemble</td>\n",
       "      <td>WB+S-htROI</td>\n",
       "      <td>/data/huze/ray_results/algonauts2021/notebook2...</td>\n",
       "    </tr>\n",
       "    <tr>\n",
       "      <th>3</th>\n",
       "      <td>1</td>\n",
       "      <td>H3</td>\n",
       "      <td>grouped ensemble</td>\n",
       "      <td>WB+aROI</td>\n",
       "      <td>/data/huze/ray_results/algonauts2021/notebook2...</td>\n",
       "    </tr>\n",
       "    <tr>\n",
       "      <th>4</th>\n",
       "      <td>1</td>\n",
       "      <td>H3</td>\n",
       "      <td>grouped ensemble</td>\n",
       "      <td>WB+aROI+S-htROI</td>\n",
       "      <td>/data/huze/ray_results/algonauts2021/notebook2...</td>\n",
       "    </tr>\n",
       "  </tbody>\n",
       "</table>\n",
       "</div>"
      ],
      "text/plain": [
       "   backbone he_sch  intersection_sch   subset_roi_sch  \\\n",
       "0         1     H3  grouped ensemble          S-htROI   \n",
       "1         1     H3  grouped ensemble               WB   \n",
       "2         1     H3  grouped ensemble       WB+S-htROI   \n",
       "3         1     H3  grouped ensemble          WB+aROI   \n",
       "4         1     H3  grouped ensemble  WB+aROI+S-htROI   \n",
       "\n",
       "                                                path  \n",
       "0  /data/huze/ray_results/algonauts2021/notebook2...  \n",
       "1  /data/huze/ray_results/algonauts2021/notebook2...  \n",
       "2  /data/huze/ray_results/algonauts2021/notebook2...  \n",
       "3  /data/huze/ray_results/algonauts2021/notebook2...  \n",
       "4  /data/huze/ray_results/algonauts2021/notebook2...  "
      ]
     },
     "execution_count": 70,
     "metadata": {},
     "output_type": "execute_result"
    }
   ],
   "source": [
    "score_df.head()"
   ]
  },
  {
   "cell_type": "code",
   "execution_count": 71,
   "id": "556e9e65-190d-4d9a-a1d5-bb03670fd28c",
   "metadata": {},
   "outputs": [],
   "source": [
    "df_dicts = []\n",
    "for path in score_df.path:\n",
    "    score = torch.load(path)\n",
    "    mean_score = score.mean().item()\n",
    "    sem_score = (score.std() / np.sqrt(len(score))).item()\n",
    "    # print(mean_score, sem_score)\n",
    "    df_dicts.append({\n",
    "        'val_score': mean_score,\n",
    "        'val_sem': sem_score,\n",
    "    })"
   ]
  },
  {
   "cell_type": "code",
   "execution_count": 72,
   "id": "57774820-4d2b-4613-9352-e577fb4767cb",
   "metadata": {},
   "outputs": [],
   "source": [
    "score_df = score_df.join(pd.DataFrame(df_dicts))"
   ]
  },
  {
   "cell_type": "markdown",
   "id": "2fb04b20-8c15-49b6-8919-82e80924c72f",
   "metadata": {},
   "source": [
    "# submission"
   ]
  },
  {
   "cell_type": "code",
   "execution_count": 729,
   "id": "fb688e52-ca40-474d-9b94-a6093067e8ee",
   "metadata": {},
   "outputs": [],
   "source": [
    "save_dir = Path('/data/huze/ray_results/algonauts2021/notebook200/')"
   ]
  },
  {
   "cell_type": "code",
   "execution_count": 741,
   "id": "57b95774-5c65-41b4-82b6-dc27ab469fe4",
   "metadata": {},
   "outputs": [],
   "source": [
    "df_dicts = []\n",
    "for path in save_dir.iterdir():\n",
    "    try:\n",
    "        name = path.name.replace('-score.pt', '')\n",
    "        d = {k: v for k, v in map(lambda kv: kv.split('='), name.split(','))}\n",
    "        d['path'] = path\n",
    "        df_dicts.append(d)\n",
    "    except:\n",
    "        continue\n",
    "\n",
    "prediction_df = pd.DataFrame(df_dicts)\n",
    "\n",
    "prediction_df.fillna('', inplace=True) # replace nan\n",
    "\n",
    "full_prediction_df = prediction_df"
   ]
  },
  {
   "cell_type": "code",
   "execution_count": 742,
   "id": "533348c5-5761-493a-9e90-52c716942ea3",
   "metadata": {},
   "outputs": [
    {
     "data": {
      "text/plain": [
       "array(['', 'aROI+S-htROI-prediction.pt', 'i3d_rgb-htROI-prediction.pt',\n",
       "       'aROI-prediction.pt', 'WB+aROI-prediction.pt',\n",
       "       'WB+aROI+S-htROI-prediction.pt', 'WB+S-htROI-prediction.pt',\n",
       "       'S-htROI-prediction.pt', 'WB-prediction.pt',\n",
       "       '3d_swin-htROI-prediction.pt', 'aROI+3d_swin-htROI-prediction.pt',\n",
       "       'WB+i3d_rgb-htROI-prediction.pt', 'WB+3d_swin-htROI-prediction.pt',\n",
       "       'aROI+i3d_rgb-htROI-prediction.pt',\n",
       "       'WB+aROI+i3d_rgb-htROI-prediction.pt',\n",
       "       'WB+aROI+3d_swin-htROI-prediction.pt'], dtype=object)"
      ]
     },
     "execution_count": 742,
     "metadata": {},
     "output_type": "execute_result"
    }
   ],
   "source": [
    "full_prediction_df.subset_roi_sch.unique()"
   ]
  },
  {
   "cell_type": "code",
   "execution_count": 731,
   "id": "4d98aea1-9b47-41df-88f4-cdef27f3626b",
   "metadata": {},
   "outputs": [],
   "source": [
    "prediction_df = my_query_df(prediction_df, {'he_sch': 'H3', 'intersection_sch': 'grouped ensemble'})"
   ]
  },
  {
   "cell_type": "code",
   "execution_count": 732,
   "id": "e4fb44f1-b99a-4819-8ab2-e0a94a33aa9b",
   "metadata": {},
   "outputs": [],
   "source": [
    "prediction_df.reset_index(drop=True, inplace=True)"
   ]
  },
  {
   "cell_type": "code",
   "execution_count": 733,
   "id": "bf0bc578-bc89-4643-b6c4-ec15aa987c26",
   "metadata": {},
   "outputs": [],
   "source": [
    "prediction_df = prediction_df[prediction_df['backbone'].isin([str(i) for i in range(1, 12)])]"
   ]
  },
  {
   "cell_type": "code",
   "execution_count": 734,
   "id": "aac57b50-1de4-474d-9123-6b15bd5149e4",
   "metadata": {},
   "outputs": [],
   "source": [
    "prediction_df.loc[:, 'backbone'] = prediction_df['backbone'].apply(lambda i: int(i))"
   ]
  },
  {
   "cell_type": "code",
   "execution_count": 735,
   "id": "c6c1d37c-db12-4a95-8142-3473ed7a4dde",
   "metadata": {},
   "outputs": [],
   "source": [
    "prediction_df = prediction_df.sort_values(['backbone', 'subset_roi_sch'])"
   ]
  },
  {
   "cell_type": "code",
   "execution_count": 736,
   "id": "75a42ef6-711d-47a9-a8f6-fdd7fb0f8e51",
   "metadata": {},
   "outputs": [],
   "source": [
    "prediction_df.reset_index(drop=True, inplace=True)"
   ]
  },
  {
   "cell_type": "code",
   "execution_count": 737,
   "id": "56870c47-040e-4f4d-8752-d35acddc4634",
   "metadata": {},
   "outputs": [
    {
     "data": {
      "text/plain": [
       "77"
      ]
     },
     "execution_count": 737,
     "metadata": {},
     "output_type": "execute_result"
    }
   ],
   "source": [
    "len(prediction_df)"
   ]
  },
  {
   "cell_type": "code",
   "execution_count": 323,
   "id": "7a1fa91a-8751-469c-96ee-eec50d8bfb92",
   "metadata": {},
   "outputs": [],
   "source": [
    "for i_row, row in prediction_df.iterrows():\n",
    "    path = row.path\n",
    "    \n",
    "    name = path.name.replace('-prediction.pt', '')\n",
    "    submission_name = f'i={i_row+1:04d},' + name\n",
    "    \n",
    "    prediction = torch.load(path)\n",
    "    \n",
    "    algonauts2021_submission_from_whole_brain_prediction('../../src/config/dataset',\n",
    "                                                    submission_name,\n",
    "                                                    prediction[1000:].numpy(),\n",
    "                                                    output_dir='./submissions/full/',\n",
    "                                                    mini_track=False)"
   ]
  },
  {
   "cell_type": "code",
   "execution_count": 387,
   "id": "7952549a-4790-48bc-8464-edff45fb261d",
   "metadata": {},
   "outputs": [],
   "source": [
    "# test set score"
   ]
  },
  {
   "cell_type": "code",
   "execution_count": 77,
   "id": "145b0a05-7ef5-46d5-b25d-999799d13b12",
   "metadata": {},
   "outputs": [],
   "source": [
    "from io import StringIO"
   ]
  },
  {
   "cell_type": "code",
   "execution_count": 78,
   "id": "6a79abb0-20bb-4dc8-9c45-a49b3d0c3ab0",
   "metadata": {},
   "outputs": [],
   "source": [
    "results = \"\"\"NUM\\tSCORE\\tFILENAME\\tSUBMISSION\\tDATE\\tSTATUS\\t?\\t\n",
    "167\t0.3754945451\ti=0001,backbone=1,he_sch=H3,intersection_sch=grouped ensemble,subset_roi_sch=S-htROI_full_track.zip\t03/25/2022 08:23:21\tFinished\t\t\n",
    "168\t0.3857494642\ti=0002,backbone=1,he_sch=H3,intersection_sch=grouped ensemble,subset_roi_sch=WB+S-htROI_full_track.zip\t03/25/2022 08:24:29\tFinished\t\t\n",
    "169\t0.3917968548\ti=0003,backbone=1,he_sch=H3,intersection_sch=grouped ensemble,subset_roi_sch=WB+aROI+S-htROI_full_track.zip\t03/25/2022 08:25:12\tFinished\t\t\n",
    "170\t0.3829383041\ti=0004,backbone=1,he_sch=H3,intersection_sch=grouped ensemble,subset_roi_sch=WB+aROI_full_track.zip\t03/25/2022 08:28:04\tFinished\t\t\n",
    "171\t0.3715418866\ti=0005,backbone=1,he_sch=H3,intersection_sch=grouped ensemble,subset_roi_sch=WB_full_track.zip\t03/25/2022 08:28:41\tFinished\t\t\n",
    "172\t0.3901991214\ti=0006,backbone=1,he_sch=H3,intersection_sch=grouped ensemble,subset_roi_sch=aROI+S-htROI_full_track.zip\t03/25/2022 08:29:11\tFinished\t\t\n",
    "173\t0.3774818419\ti=0007,backbone=1,he_sch=H3,intersection_sch=grouped ensemble,subset_roi_sch=aROI_full_track.zip\t03/25/2022 08:29:40\tFinished\t\t\n",
    "174\t0.3806432151\ti=0008,backbone=2,he_sch=H3,intersection_sch=grouped ensemble,subset_roi_sch=S-htROI_full_track.zip\t03/25/2022 08:30:11\tFinished\t\t\n",
    "175\t0.3871689421\ti=0009,backbone=2,he_sch=H3,intersection_sch=grouped ensemble,subset_roi_sch=WB+S-htROI_full_track.zip\t03/25/2022 08:30:35\tFinished\t\t\n",
    "176\t0.3934913191\ti=0010,backbone=2,he_sch=H3,intersection_sch=grouped ensemble,subset_roi_sch=WB+aROI+S-htROI_full_track.zip\t03/25/2022 08:31:04\tFinished\t\t\n",
    "177\t0.3835801357\ti=0011,backbone=2,he_sch=H3,intersection_sch=grouped ensemble,subset_roi_sch=WB+aROI_full_track.zip\t03/25/2022 08:38:25\tFinished\t\t\n",
    "178\t0.3729204698\ti=0012,backbone=2,he_sch=H3,intersection_sch=grouped ensemble,subset_roi_sch=WB_full_track.zip\t03/25/2022 08:38:49\tFinished\t\t\n",
    "179\t0.3927461699\ti=0013,backbone=2,he_sch=H3,intersection_sch=grouped ensemble,subset_roi_sch=aROI+S-htROI_full_track.zip\t03/25/2022 08:39:26\tFinished\t\t\n",
    "180\t0.3795757086\ti=0014,backbone=2,he_sch=H3,intersection_sch=grouped ensemble,subset_roi_sch=aROI_full_track.zip\t03/25/2022 08:40:13\tFinished\t\t\n",
    "181\t0.3751411713\ti=0015,backbone=3,he_sch=H3,intersection_sch=grouped ensemble,subset_roi_sch=S-htROI_full_track.zip\t03/25/2022 08:40:54\tFinished\t\t\n",
    "182\t0.3806124327\ti=0016,backbone=3,he_sch=H3,intersection_sch=grouped ensemble,subset_roi_sch=WB+S-htROI_full_track.zip\t03/25/2022 08:42:14\tFinished\t\t\n",
    "183\t0.3878411209\ti=0017,backbone=3,he_sch=H3,intersection_sch=grouped ensemble,subset_roi_sch=WB+aROI+S-htROI_full_track.zip\t03/25/2022 08:43:27\tFinished\t\t\n",
    "184\t0.3813753869\ti=0018,backbone=3,he_sch=H3,intersection_sch=grouped ensemble,subset_roi_sch=WB+aROI_full_track.zip\t03/25/2022 08:44:05\tFinished\t\t\n",
    "185\t0.3711437375\ti=0019,backbone=3,he_sch=H3,intersection_sch=grouped ensemble,subset_roi_sch=WB_full_track.zip\t03/25/2022 08:44:49\tFinished\t\t\n",
    "186\t0.3870902041\ti=0020,backbone=3,he_sch=H3,intersection_sch=grouped ensemble,subset_roi_sch=aROI+S-htROI_full_track.zip\t03/25/2022 08:45:25\tFinished\t\t\n",
    "187\t0.3783678611\ti=0021,backbone=3,he_sch=H3,intersection_sch=grouped ensemble,subset_roi_sch=aROI_full_track.zip\t03/25/2022 08:46:00\tFinished\t\t\n",
    "188\t0.3740340952\ti=0022,backbone=4,he_sch=H3,intersection_sch=grouped ensemble,subset_roi_sch=S-htROI_full_track.zip\t03/25/2022 08:46:42\tFinished\t\t\n",
    "189\t0.3785422392\ti=0023,backbone=4,he_sch=H3,intersection_sch=grouped ensemble,subset_roi_sch=WB+S-htROI_full_track.zip\t03/25/2022 08:48:27\tFinished\t\t\n",
    "190\t0.3859934995\ti=0024,backbone=4,he_sch=H3,intersection_sch=grouped ensemble,subset_roi_sch=WB+aROI+S-htROI_full_track.zip\t03/25/2022 08:48:58\tFinished\t\t\n",
    "191\t0.3808609757\ti=0025,backbone=4,he_sch=H3,intersection_sch=grouped ensemble,subset_roi_sch=WB+aROI_full_track.zip\t03/25/2022 08:50:01\tFinished\t\t\n",
    "192\t0.3691735086\ti=0026,backbone=4,he_sch=H3,intersection_sch=grouped ensemble,subset_roi_sch=WB_full_track.zip\t03/25/2022 08:50:32\tFinished\t\t\n",
    "193\t0.3855319581\ti=0027,backbone=4,he_sch=H3,intersection_sch=grouped ensemble,subset_roi_sch=aROI+S-htROI_full_track.zip\t03/25/2022 08:51:27\tFinished\t\t\n",
    "194\t0.3785679582\ti=0028,backbone=4,he_sch=H3,intersection_sch=grouped ensemble,subset_roi_sch=aROI_full_track.zip\t03/25/2022 08:52:15\tFinished\t\t\n",
    "195\t0.3740809757\ti=0029,backbone=5,he_sch=H3,intersection_sch=grouped ensemble,subset_roi_sch=S-htROI_full_track.zip\t03/25/2022 08:53:18\tFinished\t\t\n",
    "196\t0.378410093\ti=0030,backbone=5,he_sch=H3,intersection_sch=grouped ensemble,subset_roi_sch=WB+S-htROI_full_track.zip\t03/25/2022 08:54:54\tFinished\t\t\n",
    "197\t0.385874016\ti=0031,backbone=5,he_sch=H3,intersection_sch=grouped ensemble,subset_roi_sch=WB+aROI+S-htROI_full_track.zip\t03/25/2022 08:56:52\tFinished\t\t\n",
    "198\t0.3810546149\ti=0032,backbone=5,he_sch=H3,intersection_sch=grouped ensemble,subset_roi_sch=WB+aROI_full_track.zip\t03/25/2022 09:00:09\tFinished\t\t\n",
    "199\t0.3691780185\ti=0033,backbone=5,he_sch=H3,intersection_sch=grouped ensemble,subset_roi_sch=WB_full_track.zip\t03/25/2022 09:04:54\tFinished\t\t\n",
    "200\t0.385342442\ti=0034,backbone=5,he_sch=H3,intersection_sch=grouped ensemble,subset_roi_sch=aROI+S-htROI_full_track.zip\t03/25/2022 09:06:33\tFinished\t\t\n",
    "201\t0.3787837002\ti=0035,backbone=5,he_sch=H3,intersection_sch=grouped ensemble,subset_roi_sch=aROI_full_track.zip\t03/25/2022 09:08:06\tFinished\t\t\n",
    "202\t0.3738461607\ti=0036,backbone=6,he_sch=H3,intersection_sch=grouped ensemble,subset_roi_sch=S-htROI_full_track.zip\t03/25/2022 09:09:36\tFinished\t\t\n",
    "203\t0.3781113073\ti=0037,backbone=6,he_sch=H3,intersection_sch=grouped ensemble,subset_roi_sch=WB+S-htROI_full_track.zip\t03/25/2022 09:10:03\tFinished\t\t\n",
    "204\t0.3855843473\ti=0038,backbone=6,he_sch=H3,intersection_sch=grouped ensemble,subset_roi_sch=WB+aROI+S-htROI_full_track.zip\t03/25/2022 09:11:50\tFinished\t\t\n",
    "205\t0.3810661528\ti=0039,backbone=6,he_sch=H3,intersection_sch=grouped ensemble,subset_roi_sch=WB+aROI_full_track.zip\t03/25/2022 09:12:55\tFinished\t\t\n",
    "206\t0.3691577371\ti=0040,backbone=6,he_sch=H3,intersection_sch=grouped ensemble,subset_roi_sch=WB_full_track.zip\t03/25/2022 09:13:57\tFinished\t\t\n",
    "207\t0.3851384457\ti=0041,backbone=6,he_sch=H3,intersection_sch=grouped ensemble,subset_roi_sch=aROI+S-htROI_full_track.zip\t03/25/2022 09:15:28\tFinished\t\t\n",
    "208\t0.3787957291\ti=0042,backbone=6,he_sch=H3,intersection_sch=grouped ensemble,subset_roi_sch=aROI_full_track.zip\t03/25/2022 09:20:37\tFinished\t\t\n",
    "209\t0.37384999\ti=0043,backbone=7,he_sch=H3,intersection_sch=grouped ensemble,subset_roi_sch=S-htROI_full_track.zip\t03/25/2022 09:22:29\tFinished\t\t\n",
    "210\t0.3781991042\ti=0044,backbone=7,he_sch=H3,intersection_sch=grouped ensemble,subset_roi_sch=WB+S-htROI_full_track.zip\t03/25/2022 09:24:54\tFinished\t\t\n",
    "211\t0.3854530666\ti=0045,backbone=7,he_sch=H3,intersection_sch=grouped ensemble,subset_roi_sch=WB+aROI+S-htROI_full_track.zip\t03/25/2022 09:25:19\tFinished\t\t\n",
    "212\t0.3809143425\ti=0046,backbone=7,he_sch=H3,intersection_sch=grouped ensemble,subset_roi_sch=WB+aROI_full_track.zip\t03/25/2022 09:25:52\tFinished\t\t\n",
    "213\t0.3692126168\ti=0047,backbone=7,he_sch=H3,intersection_sch=grouped ensemble,subset_roi_sch=WB_full_track.zip\t03/25/2022 09:26:27\tFinished\t\t\n",
    "214\t0.3850358511\ti=0048,backbone=7,he_sch=H3,intersection_sch=grouped ensemble,subset_roi_sch=aROI+S-htROI_full_track.zip\t03/25/2022 09:27:11\tFinished\t\t\n",
    "215\t0.3785625025\ti=0049,backbone=7,he_sch=H3,intersection_sch=grouped ensemble,subset_roi_sch=aROI_full_track.zip\t03/25/2022 09:27:40\tFinished\t\t\n",
    "216\t0.3746601333\ti=0050,backbone=8,he_sch=H3,intersection_sch=grouped ensemble,subset_roi_sch=S-htROI_full_track.zip\t03/25/2022 09:28:05\tFinished\t\t\n",
    "217\t0.377995549\ti=0051,backbone=8,he_sch=H3,intersection_sch=grouped ensemble,subset_roi_sch=WB+S-htROI_full_track.zip\t03/25/2022 09:29:53\tFinished\t\t\n",
    "218\t0.3849702886\ti=0052,backbone=8,he_sch=H3,intersection_sch=grouped ensemble,subset_roi_sch=WB+aROI+S-htROI_full_track.zip\t03/25/2022 09:30:18\tFinished\t\t\n",
    "219\t0.3812208744\ti=0053,backbone=8,he_sch=H3,intersection_sch=grouped ensemble,subset_roi_sch=WB+aROI_full_track.zip\t03/25/2022 09:30:56\tFinished\t\t\n",
    "220\t0.3688206582\ti=0054,backbone=8,he_sch=H3,intersection_sch=grouped ensemble,subset_roi_sch=WB_full_track.zip\t03/25/2022 09:31:46\tFinished\t\t\n",
    "221\t0.3844416786\ti=0055,backbone=8,he_sch=H3,intersection_sch=grouped ensemble,subset_roi_sch=aROI+S-htROI_full_track.zip\t03/25/2022 09:32:14\tFinished\t\t\n",
    "222\t0.3794633464\ti=0056,backbone=8,he_sch=H3,intersection_sch=grouped ensemble,subset_roi_sch=aROI_full_track.zip\t03/25/2022 09:32:52\tFinished\t\t\n",
    "223\t0.3723895012\ti=0057,backbone=9,he_sch=H3,intersection_sch=grouped ensemble,subset_roi_sch=S-htROI_full_track.zip\t03/25/2022 09:33:19\tFinished\t\t\n",
    "224\t0.3762757257\ti=0058,backbone=9,he_sch=H3,intersection_sch=grouped ensemble,subset_roi_sch=WB+S-htROI_full_track.zip\t03/25/2022 09:33:59\tFinished\t\t\n",
    "225\t0.3831343488\ti=0059,backbone=9,he_sch=H3,intersection_sch=grouped ensemble,subset_roi_sch=WB+aROI+S-htROI_full_track.zip\t03/25/2022 09:36:07\tFinished\t\t\n",
    "226\t0.3801932206\ti=0060,backbone=9,he_sch=H3,intersection_sch=grouped ensemble,subset_roi_sch=WB+aROI_full_track.zip\t03/25/2022 09:36:36\tFinished\t\t\n",
    "227\t0.3689521\ti=0061,backbone=9,he_sch=H3,intersection_sch=grouped ensemble,subset_roi_sch=WB_full_track.zip\t03/25/2022 09:37:28\tFinished\t\t\n",
    "228\t0.3823986653\ti=0062,backbone=9,he_sch=H3,intersection_sch=grouped ensemble,subset_roi_sch=aROI+S-htROI_full_track.zip\t03/25/2022 09:38:18\tFinished\t\t\n",
    "229\t0.378017482\ti=0063,backbone=9,he_sch=H3,intersection_sch=grouped ensemble,subset_roi_sch=aROI_full_track.zip\t03/25/2022 09:39:09\tFinished\t\t\n",
    "230\t0.372120988\ti=0064,backbone=10,he_sch=H3,intersection_sch=grouped ensemble,subset_roi_sch=S-htROI_full_track.zip\t03/25/2022 09:41:43\tFinished\t\t\n",
    "231\t0.3761282771\ti=0065,backbone=10,he_sch=H3,intersection_sch=grouped ensemble,subset_roi_sch=WB+S-htROI_full_track.zip\t03/25/2022 09:43:01\tFinished\t\t\n",
    "232\t0.3829185276\ti=0066,backbone=10,he_sch=H3,intersection_sch=grouped ensemble,subset_roi_sch=WB+aROI+S-htROI_full_track.zip\t03/25/2022 09:43:29\tFinished\t\t\n",
    "233\t0.3803992126\ti=0067,backbone=10,he_sch=H3,intersection_sch=grouped ensemble,subset_roi_sch=WB+aROI_full_track.zip\t03/25/2022 09:43:56\tFinished\t\t\n",
    "234\t0.3688851245\ti=0068,backbone=10,he_sch=H3,intersection_sch=grouped ensemble,subset_roi_sch=WB_full_track.zip\t03/25/2022 09:44:34\tFinished\t\t\n",
    "235\t0.3821592416\ti=0069,backbone=10,he_sch=H3,intersection_sch=grouped ensemble,subset_roi_sch=aROI+S-htROI_full_track.zip\t03/25/2022 09:45:22\tFinished\t\t\n",
    "236\t0.3781627038\ti=0070,backbone=10,he_sch=H3,intersection_sch=grouped ensemble,subset_roi_sch=aROI_full_track.zip\t03/25/2022 09:45:59\tFinished\t\t\n",
    "237\t0.3688682528\ti=0071,backbone=11,he_sch=H3,intersection_sch=grouped ensemble,subset_roi_sch=S-htROI_full_track.zip\t03/25/2022 09:47:02\tFinished\t\t\n",
    "238\t0.3731336297\ti=0072,backbone=11,he_sch=H3,intersection_sch=grouped ensemble,subset_roi_sch=WB+S-htROI_full_track.zip\t03/25/2022 09:47:41\tFinished\t\t\n",
    "239\t0.3803872261\ti=0073,backbone=11,he_sch=H3,intersection_sch=grouped ensemble,subset_roi_sch=WB+aROI+S-htROI_full_track.zip\t03/25/2022 09:50:27\tFinished\t\t\n",
    "240\t0.378881948\ti=0074,backbone=11,he_sch=H3,intersection_sch=grouped ensemble,subset_roi_sch=WB+aROI_full_track.zip\t03/25/2022 09:50:54\tFinished\t\t\n",
    "241\t0.3677745682\ti=0075,backbone=11,he_sch=H3,intersection_sch=grouped ensemble,subset_roi_sch=WB_full_track.zip\t03/25/2022 09:51:35\tFinished\t\t\n",
    "242\t0.3796273272\ti=0076,backbone=11,he_sch=H3,intersection_sch=grouped ensemble,subset_roi_sch=aROI+S-htROI_full_track.zip\t03/25/2022 09:52:07\tFinished\t\t\n",
    "243\t0.3765284746\ti=0077,backbone=11,he_sch=H3,intersection_sch=grouped ensemble,subset_roi_sch=aROI_full_track.zip\t03/25/2022 09:52:35\tFinished\t\t\t\n",
    "\"\"\""
   ]
  },
  {
   "cell_type": "code",
   "execution_count": 79,
   "id": "bb9de188-2cb5-40f6-ab2d-270ab9f9e330",
   "metadata": {},
   "outputs": [],
   "source": [
    "df = pd.read_csv(StringIO(results), sep=\"\\t\")\n",
    "\n",
    "df_dicts = []\n",
    "for i_row, row in df.iterrows():\n",
    "    name = row.FILENAME.replace('_full_track.zip', '')\n",
    "    d = {k: v for k, v in map(lambda kv: kv.split('='), name.split(','))}\n",
    "    d['test_score'] = row['SCORE']\n",
    "    df_dicts.append(d)\n",
    "    \n",
    "new_df = pd.DataFrame(df_dicts)"
   ]
  },
  {
   "cell_type": "code",
   "execution_count": 80,
   "id": "ec2039dd-844b-4396-aa20-0cbf3965eb87",
   "metadata": {},
   "outputs": [],
   "source": [
    "new_df['backbone'] = new_df['backbone'].apply(lambda i: int(i))"
   ]
  },
  {
   "cell_type": "code",
   "execution_count": 81,
   "id": "d18ee759-e04f-432f-a8b4-39cc2544c228",
   "metadata": {},
   "outputs": [],
   "source": [
    "new_df = new_df.sort_values(['backbone', 'subset_roi_sch'])"
   ]
  },
  {
   "cell_type": "code",
   "execution_count": 82,
   "id": "2875401e-f4a5-4312-bc32-688380639ede",
   "metadata": {},
   "outputs": [
    {
     "data": {
      "text/plain": [
       "i                   77\n",
       "backbone            11\n",
       "he_sch               1\n",
       "intersection_sch     1\n",
       "subset_roi_sch       7\n",
       "test_score          77\n",
       "dtype: int64"
      ]
     },
     "execution_count": 82,
     "metadata": {},
     "output_type": "execute_result"
    }
   ],
   "source": [
    "new_df.nunique()"
   ]
  },
  {
   "cell_type": "code",
   "execution_count": 83,
   "id": "8941d5cc-6f72-48ce-9cd0-b390046ba23c",
   "metadata": {},
   "outputs": [],
   "source": [
    "new_df.reset_index(drop=True, inplace=True)"
   ]
  },
  {
   "cell_type": "code",
   "execution_count": 84,
   "id": "c5a45de7-57da-4666-a8c3-0bf881079495",
   "metadata": {},
   "outputs": [],
   "source": [
    "new_df = new_df[['test_score']]"
   ]
  },
  {
   "cell_type": "code",
   "execution_count": 85,
   "id": "3127632b-851b-4e2f-8ef8-a4eb7b9a7d37",
   "metadata": {},
   "outputs": [],
   "source": [
    "score_df = score_df.drop(columns=['test_score'], errors='ignore')"
   ]
  },
  {
   "cell_type": "code",
   "execution_count": 86,
   "id": "8c051400-6319-46aa-ba2b-753c6eaa0353",
   "metadata": {},
   "outputs": [],
   "source": [
    "score_df = score_df.join(new_df)"
   ]
  },
  {
   "cell_type": "code",
   "execution_count": 160,
   "id": "03e4d4d8-3370-433d-bd1c-06f0affe2f12",
   "metadata": {},
   "outputs": [],
   "source": [
    "score_df[score_df.backbone == 1][['subset_roi_sch', 'val_score', 'test_score']].to_csv('cnn2022.csv')"
   ]
  },
  {
   "cell_type": "markdown",
   "id": "2c01c38b-2ad6-4a4d-8ca9-bcae8f9d3330",
   "metadata": {},
   "source": [
    "# bar/box plot"
   ]
  },
  {
   "cell_type": "code",
   "execution_count": 198,
   "id": "4ac0a25b-0362-4e0b-82ea-2e2e3d89f9d8",
   "metadata": {},
   "outputs": [],
   "source": [
    "from src.utils.metrics import vectorized_correlation"
   ]
  },
  {
   "cell_type": "code",
   "execution_count": 199,
   "id": "3f306506-9196-4264-a898-c1143e84bf18",
   "metadata": {},
   "outputs": [],
   "source": [
    "import matplotlib.pyplot as plt\n",
    "import matplotlib"
   ]
  },
  {
   "cell_type": "code",
   "execution_count": 200,
   "id": "1a942917-c7c8-4552-817c-33150d937d39",
   "metadata": {},
   "outputs": [],
   "source": [
    "from src.utils.runs import my_query_df"
   ]
  },
  {
   "cell_type": "code",
   "execution_count": 203,
   "id": "66550fbb-a127-43b9-9f50-f98d24bcdb76",
   "metadata": {},
   "outputs": [],
   "source": [
    "best_df = score_df[score_df['backbone'] == 1]"
   ]
  },
  {
   "cell_type": "code",
   "execution_count": 204,
   "id": "d677a6ee-00e0-4a84-bfbb-ec1197b41571",
   "metadata": {},
   "outputs": [
    {
     "data": {
      "text/html": [
       "<div>\n",
       "<style scoped>\n",
       "    .dataframe tbody tr th:only-of-type {\n",
       "        vertical-align: middle;\n",
       "    }\n",
       "\n",
       "    .dataframe tbody tr th {\n",
       "        vertical-align: top;\n",
       "    }\n",
       "\n",
       "    .dataframe thead th {\n",
       "        text-align: right;\n",
       "    }\n",
       "</style>\n",
       "<table border=\"1\" class=\"dataframe\">\n",
       "  <thead>\n",
       "    <tr style=\"text-align: right;\">\n",
       "      <th></th>\n",
       "      <th>backbone</th>\n",
       "      <th>he_sch</th>\n",
       "      <th>intersection_sch</th>\n",
       "      <th>subset_roi_sch</th>\n",
       "      <th>path</th>\n",
       "      <th>val_score</th>\n",
       "      <th>val_sem</th>\n",
       "      <th>test_score</th>\n",
       "    </tr>\n",
       "  </thead>\n",
       "  <tbody>\n",
       "    <tr>\n",
       "      <th>0</th>\n",
       "      <td>1</td>\n",
       "      <td>H3</td>\n",
       "      <td>grouped ensemble</td>\n",
       "      <td>S-htROI</td>\n",
       "      <td>/data/huze/ray_results/algonauts2021/notebook2...</td>\n",
       "      <td>0.449735</td>\n",
       "      <td>0.001292</td>\n",
       "      <td>0.375495</td>\n",
       "    </tr>\n",
       "    <tr>\n",
       "      <th>1</th>\n",
       "      <td>1</td>\n",
       "      <td>H3</td>\n",
       "      <td>grouped ensemble</td>\n",
       "      <td>WB</td>\n",
       "      <td>/data/huze/ray_results/algonauts2021/notebook2...</td>\n",
       "      <td>0.425859</td>\n",
       "      <td>0.001284</td>\n",
       "      <td>0.371542</td>\n",
       "    </tr>\n",
       "    <tr>\n",
       "      <th>2</th>\n",
       "      <td>1</td>\n",
       "      <td>H3</td>\n",
       "      <td>grouped ensemble</td>\n",
       "      <td>WB+S-htROI</td>\n",
       "      <td>/data/huze/ray_results/algonauts2021/notebook2...</td>\n",
       "      <td>0.461125</td>\n",
       "      <td>0.001302</td>\n",
       "      <td>0.385749</td>\n",
       "    </tr>\n",
       "    <tr>\n",
       "      <th>3</th>\n",
       "      <td>1</td>\n",
       "      <td>H3</td>\n",
       "      <td>grouped ensemble</td>\n",
       "      <td>WB+aROI</td>\n",
       "      <td>/data/huze/ray_results/algonauts2021/notebook2...</td>\n",
       "      <td>0.441892</td>\n",
       "      <td>0.001300</td>\n",
       "      <td>0.382938</td>\n",
       "    </tr>\n",
       "    <tr>\n",
       "      <th>4</th>\n",
       "      <td>1</td>\n",
       "      <td>H3</td>\n",
       "      <td>grouped ensemble</td>\n",
       "      <td>WB+aROI+S-htROI</td>\n",
       "      <td>/data/huze/ray_results/algonauts2021/notebook2...</td>\n",
       "      <td>0.468584</td>\n",
       "      <td>0.001310</td>\n",
       "      <td>0.391797</td>\n",
       "    </tr>\n",
       "    <tr>\n",
       "      <th>5</th>\n",
       "      <td>1</td>\n",
       "      <td>H3</td>\n",
       "      <td>grouped ensemble</td>\n",
       "      <td>aROI</td>\n",
       "      <td>/data/huze/ray_results/algonauts2021/notebook2...</td>\n",
       "      <td>0.438255</td>\n",
       "      <td>0.001299</td>\n",
       "      <td>0.377482</td>\n",
       "    </tr>\n",
       "    <tr>\n",
       "      <th>6</th>\n",
       "      <td>1</td>\n",
       "      <td>H3</td>\n",
       "      <td>grouped ensemble</td>\n",
       "      <td>aROI+S-htROI</td>\n",
       "      <td>/data/huze/ray_results/algonauts2021/notebook2...</td>\n",
       "      <td>0.466680</td>\n",
       "      <td>0.001309</td>\n",
       "      <td>0.390199</td>\n",
       "    </tr>\n",
       "  </tbody>\n",
       "</table>\n",
       "</div>"
      ],
      "text/plain": [
       "   backbone he_sch  intersection_sch   subset_roi_sch  \\\n",
       "0         1     H3  grouped ensemble          S-htROI   \n",
       "1         1     H3  grouped ensemble               WB   \n",
       "2         1     H3  grouped ensemble       WB+S-htROI   \n",
       "3         1     H3  grouped ensemble          WB+aROI   \n",
       "4         1     H3  grouped ensemble  WB+aROI+S-htROI   \n",
       "5         1     H3  grouped ensemble             aROI   \n",
       "6         1     H3  grouped ensemble     aROI+S-htROI   \n",
       "\n",
       "                                                path  val_score   val_sem  \\\n",
       "0  /data/huze/ray_results/algonauts2021/notebook2...   0.449735  0.001292   \n",
       "1  /data/huze/ray_results/algonauts2021/notebook2...   0.425859  0.001284   \n",
       "2  /data/huze/ray_results/algonauts2021/notebook2...   0.461125  0.001302   \n",
       "3  /data/huze/ray_results/algonauts2021/notebook2...   0.441892  0.001300   \n",
       "4  /data/huze/ray_results/algonauts2021/notebook2...   0.468584  0.001310   \n",
       "5  /data/huze/ray_results/algonauts2021/notebook2...   0.438255  0.001299   \n",
       "6  /data/huze/ray_results/algonauts2021/notebook2...   0.466680  0.001309   \n",
       "\n",
       "   test_score  \n",
       "0    0.375495  \n",
       "1    0.371542  \n",
       "2    0.385749  \n",
       "3    0.382938  \n",
       "4    0.391797  \n",
       "5    0.377482  \n",
       "6    0.390199  "
      ]
     },
     "execution_count": 204,
     "metadata": {},
     "output_type": "execute_result"
    }
   ],
   "source": [
    "best_df"
   ]
  },
  {
   "cell_type": "code",
   "execution_count": 205,
   "id": "baeb62e8-eed9-42fd-9e3e-9153c744e3d7",
   "metadata": {},
   "outputs": [],
   "source": [
    "voxel_scores_dict = {}\n",
    "for i_row, row in best_df.iterrows():\n",
    "    path = row.path\n",
    "    voxel_scores = torch.load(path)\n",
    "    \n",
    "    name = row.subset_roi_sch.replace('S-', '')\n",
    "    \n",
    "    voxel_scores_dict[name] = voxel_scores"
   ]
  },
  {
   "cell_type": "code",
   "execution_count": 284,
   "id": "f0233be5-c614-4353-928b-1afe507c53a2",
   "metadata": {},
   "outputs": [],
   "source": [
    "torch.save(voxel_scores_dict, 'tmp/notebook910/voxel_scores_dict.py')"
   ]
  },
  {
   "cell_type": "code",
   "execution_count": 283,
   "id": "375c6715-5203-46eb-bf42-0be8aeaa20d1",
   "metadata": {},
   "outputs": [
    {
     "data": {
      "text/plain": [
       "{'htROI': tensor([0.3130, 0.2397, 0.1140,  ..., 0.6482, 0.9716, 1.1179],\n",
       "        dtype=torch.float64),\n",
       " 'WB': tensor([0.0720, 0.0030, 0.2601,  ..., 0.8192, 1.0208, 1.0374],\n",
       "        dtype=torch.float64),\n",
       " 'WB+htROI': tensor([0.2467, 0.1899, 0.1941,  ..., 0.7150, 1.0008, 1.1022],\n",
       "        dtype=torch.float64),\n",
       " 'WB+aROI': tensor([-0.0865,  0.0412,  0.1824,  ...,  0.8112,  0.9802,  1.0164],\n",
       "        dtype=torch.float64),\n",
       " 'WB+aROI+htROI': tensor([0.1679, 0.1921, 0.1567,  ..., 0.7016, 0.9756, 1.0938],\n",
       "        dtype=torch.float64),\n",
       " 'aROI': tensor([-0.2797,  0.0738,  0.0978,  ...,  0.7910,  0.9255,  0.9859],\n",
       "        dtype=torch.float64),\n",
       " 'aROI+htROI': tensor([0.1137, 0.2031, 0.1149,  ..., 0.7027, 0.9665, 1.0867],\n",
       "        dtype=torch.float64)}"
      ]
     },
     "execution_count": 283,
     "metadata": {},
     "output_type": "execute_result"
    }
   ],
   "source": [
    "voxel_scores_dict"
   ]
  },
  {
   "cell_type": "code",
   "execution_count": 293,
   "id": "5bfaf00a-c9ed-4a95-be89-3a3a4d360cbd",
   "metadata": {},
   "outputs": [
    {
     "name": "stdout",
     "output_type": "stream",
     "text": [
      "WB+aROI+htROI \t 0.4686 3.26e-06\n",
      "aROI+htROI \t 0.4667 3.26e-06\n",
      "WB+htROI \t 0.4611 3.24e-06\n",
      "WB+aROI \t 0.4419 3.24e-06\n",
      "htROI \t 0.4497 3.22e-06\n",
      "aROI \t 0.4383 3.23e-06\n",
      "WB \t 0.4259 3.20e-06\n"
     ]
    }
   ],
   "source": [
    "for k in ['WB+aROI+htROI', 'aROI+htROI', 'WB+htROI', 'WB+aROI', 'htROI', 'aROI', 'WB']:\n",
    "    v = voxel_scores_dict[k]\n",
    "    print(f'{k} \\t {v.mean().item():.4f} {(v.std()/len(v)).item():.2e}')"
   ]
  },
  {
   "cell_type": "code",
   "execution_count": 351,
   "id": "b84b4b8f-eb76-4a62-96bd-893a5293a143",
   "metadata": {},
   "outputs": [
    {
     "data": {
      "text/plain": [
       "Ttest_indResult(statistic=10.45212678960681, pvalue=1.4463082946170484e-25)"
      ]
     },
     "execution_count": 351,
     "metadata": {},
     "output_type": "execute_result"
    }
   ],
   "source": [
    "scipy.stats.ttest_ind(voxel_scores_dict['WB+htROI'], voxel_scores_dict['WB+aROI'])"
   ]
  },
  {
   "cell_type": "code",
   "execution_count": 311,
   "id": "ae4beca0-6d84-44a1-8e32-1dc2cd893b4d",
   "metadata": {},
   "outputs": [],
   "source": [
    "atlas_names = list(voxel_scores_dict.keys())"
   ]
  },
  {
   "cell_type": "code",
   "execution_count": 312,
   "id": "2ece81dc-b1b8-4d62-87b5-1aca23f27eed",
   "metadata": {},
   "outputs": [],
   "source": [
    "colormap = plt.cm.Dark2# LinearSegmentedColormap\n",
    "Ncolors = min(colormap.N, len(atlas_names))\n",
    "mapcolors = [colormap(int(x*colormap.N/Ncolors)) for x in range(Ncolors)]"
   ]
  },
  {
   "cell_type": "code",
   "execution_count": 313,
   "id": "9111ef78-f9be-4701-9293-919a9131b5bb",
   "metadata": {},
   "outputs": [],
   "source": [
    "from matplotlib.patches import Patch\n",
    "from matplotlib.lines import Line2D\n",
    "from matplotlib.ticker import FuncFormatter"
   ]
  },
  {
   "cell_type": "code",
   "execution_count": 314,
   "id": "7a0ebb02-7d3a-408d-96d7-f89ac1d2aa85",
   "metadata": {},
   "outputs": [],
   "source": [
    "atlas_names = ['WB+aROI+htROI', 'aROI+htROI', 'WB+htROI', 'WB+aROI', 'htROI', 'aROI', 'WB']"
   ]
  },
  {
   "cell_type": "code",
   "execution_count": 319,
   "id": "31feefcc-ad65-4922-801b-19a0b81edc29",
   "metadata": {},
   "outputs": [
    {
     "data": {
      "image/png": "[encoded data removed]",
      "text/plain": [
       "<Figure size 400x600 with 1 Axes>"
      ]
     },
     "metadata": {},
     "output_type": "display_data"
    }
   ],
   "source": [
    "fig, ax = plt.subplots(figsize=(4, 6))\n",
    "# submission\n",
    "xs = np.arange(len(atlas_names))\n",
    "means = []\n",
    "for i, atlas_name in enumerate(atlas_names):\n",
    "    mean = voxel_scores_dict[atlas_name].mean().item()\n",
    "    means.append(mean)\n",
    "    sem = voxel_scores_dict[atlas_name].std().item() / np.sqrt(len(voxel_scores_dict[atlas_name]))\n",
    "    plt.bar(xs[i], mean, width=0.9, color=mapcolors[i], alpha=0.9, label=atlas_name)\n",
    "    plt.errorbar(xs[i], y=mean, yerr=sem, color='k',\n",
    "                 marker=',', markersize=0, capsize=0, elinewidth=4, capthick=1, linestyle='none')\n",
    "\n",
    "plt.ylim(0.42, 0.486)\n",
    "plt.ylabel('Explained Variance (mean %)', fontdict={'style': 'italic'})\n",
    "plt.yticks([0.42, 0.44, 0.46, 0.48])\n",
    "ax.yaxis.set_major_formatter(FuncFormatter(lambda y, _: '{:.2f}'.format(y))) \n",
    "plt.xticks([])\n",
    "# plt.xticks(xs, atlas_names, rotation=60, ha='right')\n",
    "# dx = 12/72.; dy = 0/72. \n",
    "# offset = matplotlib.transforms.ScaledTranslation(dx, dy, fig.dpi_scale_trans)\n",
    "# for label in ax.xaxis.get_majorticklabels():\n",
    "#     label.set_transform(label.get_transform() + offset)\n",
    "# formatter = matplotlib.ticker.FormatStrFormatter('%1.2f')\n",
    "# locator = matplotlib.ticker.MaxNLocator(nbins=5)\n",
    "# ax.yaxis.set_major_locator(locator)\n",
    "# ax.yaxis.set_major_formatter(formatter)\n",
    "\n",
    "# plt.legend(loc='upper left', bbox_to_anchor=(0., -0.), ncol=2, prop={'size': 16, 'weight': 'normal'})\n",
    "# plt.title('Integrating Atlas Models')\n",
    "ax.text(0, 0.486, 'validation set', fontdict={'size': 20, 'style': 'italic'},\n",
    "        ha='left', va='top', rotation=0)\n",
    "\n",
    "ax.spines['top'].set_visible(False)\n",
    "ax.spines['right'].set_visible(False)\n",
    "\n",
    "barplot_annotate_brackets(0, 1, 'n.s.', xs.tolist(), means, dh=0.02, barh=0.01, fs=24)\n",
    "barplot_annotate_brackets(0, 2, '***', xs.tolist(), means, dh=0.08, barh=0.01, fs=24)\n",
    "barplot_annotate_brackets(0, 3, '***', xs.tolist(), means, dh=0.14, barh=0.01, fs=24)\n",
    "\n",
    "for item in ([ax.title, ax.xaxis.label, ax.yaxis.label] +\n",
    "             ax.get_xticklabels() + ax.get_yticklabels()):\n",
    "    item.set_fontsize(28)\n",
    "\n",
    "for item in (ax.get_xticklabels() + ax.get_yticklabels()):\n",
    "    item.set_fontsize(24)\n",
    "    \n",
    "plt.tight_layout()\n",
    "plt.savefig('tmp/notebook910/int2 validation score.pdf', bbox_inches=\"tight\")\n",
    "plt.show()"
   ]
  },
  {
   "cell_type": "code",
   "execution_count": null,
   "id": "02252d73-0742-4094-8457-ad5680ddc75d",
   "metadata": {},
   "outputs": [],
   "source": []
  },
  {
   "cell_type": "code",
   "execution_count": 321,
   "id": "c6bc8154-e93e-4a94-ac6b-ad1bfe58a04e",
   "metadata": {},
   "outputs": [
    {
     "data": {
      "image/png": "[encoded data removed]",
      "text/plain": [
       "<Figure size 400x600 with 1 Axes>"
      ]
     },
     "metadata": {},
     "output_type": "display_data"
    }
   ],
   "source": [
    "fig, ax = plt.subplots(figsize=(4, 6))\n",
    "# submission\n",
    "xs = np.arange(len(atlas_names))\n",
    "test_scores = []\n",
    "for i, atlas_name in enumerate(atlas_names):\n",
    "    query_name = atlas_name.replace('htROI', 'S-htROI')\n",
    "    test_score = best_df[best_df['subset_roi_sch'] == query_name].test_score.item()\n",
    "    test_scores.append(test_score)\n",
    "    plt.bar(xs[i], test_score, width=0.9, color=mapcolors[i], alpha=0.9, label=atlas_name)\n",
    "    # plt.errorbar(xs[0]+offsets[i], means[i], fmt=fmts[i].replace(marker, marker2), label='test')\n",
    "plt.ylim(0.37, 0.40)\n",
    "plt.yticks([0.37, 0.38, 0.39])\n",
    "ax.yaxis.set_major_formatter(FuncFormatter(lambda y, _: '{:.2f}'.format(y))) \n",
    "plt.xticks([])\n",
    "# ax.yaxis.set_label_position(\"right\")\n",
    "# ax.yaxis.tick_right()\n",
    "\n",
    "ax.text(0, 0.4, 'test set', fontdict={'size': 20, 'style': 'italic'},\n",
    "        ha='left', va='top', rotation=0)\n",
    "# plt.xticks(xs, atlas_names, rotation=60, ha='right')\n",
    "# dx = 12/72.; dy = 0/72. \n",
    "# offset = matplotlib.transforms.ScaledTranslation(dx, dy, fig.dpi_scale_trans)\n",
    "# for label in ax.xaxis.get_majorticklabels():\n",
    "#     label.set_transform(label.get_transform() + offset)\n",
    "\n",
    "# formatter = matplotlib.ticker.FormatStrFormatter('%1.3f')\n",
    "# locator = matplotlib.ticker.MaxNLocator(nbins=5)\n",
    "# ax.yaxis.set_major_locator(locator)\n",
    "# ax.yaxis.set_major_formatter(formatter)\n",
    "\n",
    "# plt.legend(loc='upper left', bbox_to_anchor=(0., -0.), ncol=3, prop={'size': 16, 'weight': 'normal'})\n",
    "# plt.title('Test Set')\n",
    "\n",
    "ax.spines['top'].set_visible(False)\n",
    "ax.spines['right'].set_visible(False)\n",
    "\n",
    "barplot_annotate_brackets(0, 0, '*', xs.tolist(), test_scores, dh=0.0, barh=0.0, fs=40)\n",
    "\n",
    "for item in ([ax.title, ax.xaxis.label, ax.yaxis.label] +\n",
    "             ax.get_xticklabels() + ax.get_yticklabels()):\n",
    "    item.set_fontsize(28)\n",
    "\n",
    "for item in (ax.get_xticklabels() + ax.get_yticklabels()):\n",
    "    item.set_fontsize(24)\n",
    "\n",
    "plt.tight_layout()\n",
    "plt.savefig('tmp/notebook910/int2 test score.pdf', bbox_inches=\"tight\")\n",
    "plt.show()"
   ]
  },
  {
   "cell_type": "code",
   "execution_count": 223,
   "id": "ae34f15c-345f-4804-9a59-7a12a7b7d7ff",
   "metadata": {},
   "outputs": [
    {
     "data": {
      "text/plain": [
       "[0.3917968548,\n",
       " 0.3901991214,\n",
       " 0.3857494642,\n",
       " 0.3829383041,\n",
       " 0.3754945451,\n",
       " 0.3774818419,\n",
       " 0.3715418866]"
      ]
     },
     "execution_count": 223,
     "metadata": {},
     "output_type": "execute_result"
    }
   ],
   "source": [
    "test_scores"
   ]
  },
  {
   "cell_type": "code",
   "execution_count": null,
   "id": "4697cb3b-5212-4f91-944d-48f021727498",
   "metadata": {},
   "outputs": [],
   "source": []
  },
  {
   "cell_type": "code",
   "execution_count": null,
   "id": "7c7610e0-8269-4dc3-8b05-2ec61a9cc9a3",
   "metadata": {},
   "outputs": [],
   "source": []
  },
  {
   "cell_type": "code",
   "execution_count": null,
   "id": "7ed667f1-8321-464a-9e96-f5ec687f6f62",
   "metadata": {},
   "outputs": [],
   "source": []
  },
  {
   "cell_type": "code",
   "execution_count": null,
   "id": "4f076c97-e763-46ce-aaf0-4f76aeddc84e",
   "metadata": {},
   "outputs": [],
   "source": []
  },
  {
   "cell_type": "raw",
   "id": "53f3ceb4-69d4-490f-93a4-abb5fbe94ab8",
   "metadata": {},
   "source": [
    "bar_dict = {\n",
    "    'he_sch': 'H3',\n",
    "    'layers': ('single_layer',),\n",
    "    'backbones': ('i3d_rgb', 'i3d_flow'),\n",
    "}\n",
    "\n",
    "bar_list = [\n",
    "    {'atlas': ('WB', 'aROI', 'htROI'), 'intersection_sch': 'grouped ensemble'},\n",
    "    {'atlas': ('aROI', 'htROI'), 'intersection_sch': 'grouped ensemble'},\n",
    "    {'atlas': ('WB', 'htROI'), 'intersection_sch': 'grouped ensemble'},\n",
    "    {'atlas': ('WB', 'aROI'), 'intersection_sch': 'grouped ensemble'},\n",
    "    {'atlas': ('htROI',), 'intersection_sch': ''},\n",
    "    {'atlas': ('aROI',), 'intersection_sch': ''},\n",
    "    {'atlas': ('WB',), 'intersection_sch': ''},\n",
    "]"
   ]
  },
  {
   "cell_type": "raw",
   "id": "b6edda84-2aab-4546-b113-a855368f11a2",
   "metadata": {},
   "source": [
    "_bar_df = my_query_df(prediction_df, bar_dict)"
   ]
  },
  {
   "cell_type": "raw",
   "id": "60dfb191-8104-4a67-8ebc-b9d73243974f",
   "metadata": {},
   "source": [
    "# plot_df_dicts = []\n",
    "voxel_scores_dict = {}\n",
    "prediction_dict = {}\n",
    "for b in bar_list:\n",
    "    name = '+'.join(tuple(b['atlas']))\n",
    "    path = my_query_df(_bar_df, b).path.item()\n",
    "    prediction = torch.load(path)\n",
    "    voxel_scores = vectorized_correlation(prediction[val_indices], val_fmris).numpy()\n",
    "    voxel_scores /= noise_ceiling\n",
    "    \n",
    "    voxel_scores_dict[name] = voxel_scores\n",
    "    \n",
    "    prediction_dict[name] = prediction"
   ]
  },
  {
   "cell_type": "raw",
   "id": "a95798cb-c601-426b-b7a4-44e9d29eb9f6",
   "metadata": {},
   "source": [
    "torch.save(voxel_scores_dict, 'tmp/notebook910/voxel_scores_dict.py')"
   ]
  },
  {
   "cell_type": "raw",
   "id": "62f75b42-f42c-4d45-a78d-65bb941512fe",
   "metadata": {},
   "source": [
    "voxel_scores_dict"
   ]
  },
  {
   "cell_type": "raw",
   "id": "793e4ee4-0f3f-43dd-8541-4b610df812d5",
   "metadata": {},
   "source": [
    "for name, prediction in prediction_dict.items():\n",
    "    algonauts2021_submission_from_whole_brain_prediction('../../src/config/dataset',\n",
    "                                                        name,\n",
    "                                                        prediction[1000:].numpy(),\n",
    "                                                        output_dir='./submissions/')"
   ]
  },
  {
   "cell_type": "raw",
   "id": "995a62cc-53a2-4d76-b760-978cdc4c033d",
   "metadata": {},
   "source": []
  },
  {
   "cell_type": "raw",
   "id": "a1ef1b8b-e137-46cd-980b-c23d2ba2e675",
   "metadata": {},
   "source": [
    "voxel_indices_names = ['WB', 'SMC1', 'SMC2', 'MC2', 'LC2', 'LC3', 'LC4', 'LC5', 'V1', 'V2', 'V3', 'V4', 'EBA', 'LOC', 'PPA', 'FFA', 'STS', 'REST']\n",
    "voxel_indices_list = [torch.load(os.path.join(cfg.DATASET.VOXEL_INDEX_DIR, f'{roi}.pt')) for roi in voxel_indices_names]"
   ]
  },
  {
   "cell_type": "raw",
   "id": "efe2f6fe-0b9d-44c8-9373-bb93737928fa",
   "metadata": {},
   "source": [
    "x_labels = np.asarray(['ALL', 'htROI1', 'htROI2', 'htROI3', 'htROI4', 'htROI5', 'htROI6', 'htROI7', 'V1', 'V2', 'V3', 'V4', 'EBA', 'LOC', 'PPA', 'FFA', 'STS', 'others'])"
   ]
  },
  {
   "cell_type": "raw",
   "id": "8b5bd623-d4bb-4080-9303-52bca4732e7c",
   "metadata": {},
   "source": [
    "# plot_df_dicts = []\n",
    "voxel_scores_dict = {}\n",
    "voxel_roi_score_mean_dict = {}\n",
    "voxel_roi_score_std_dict = {}\n",
    "voxel_roi_score_sem_dict = {}\n",
    "for b in bar_list:\n",
    "    name = '+'.join(tuple(b['atlas']))\n",
    "    path = my_query_df(_bar_df, b).path.item()\n",
    "    prediction = torch.load(path)\n",
    "    voxel_scores = vectorized_correlation(prediction[val_indices], val_fmris).numpy()\n",
    "    voxel_scores /= noise_ceiling\n",
    "    \n",
    "    voxel_scores_dict[name] = voxel_scores\n",
    "    \n",
    "    means, stds, sems = [], [], []\n",
    "    for voxel_indices in voxel_indices_list:\n",
    "        roi_voxel_scores = voxel_scores[voxel_indices]\n",
    "        means.append(roi_voxel_scores.mean())\n",
    "        std = roi_voxel_scores.std() \n",
    "        stds.append(std)\n",
    "        sem = std / np.sqrt(len(roi_voxel_scores))\n",
    "        sems.append(sem)\n",
    "    voxel_roi_score_mean_dict[name] = means\n",
    "    voxel_roi_score_std_dict[name] = std\n",
    "    voxel_roi_score_sem_dict[name] = sems"
   ]
  },
  {
   "cell_type": "raw",
   "id": "f62c897f-b8ea-4326-b394-11a5bfabb85b",
   "metadata": {},
   "source": [
    "voxel_scores_dict"
   ]
  },
  {
   "cell_type": "raw",
   "id": "a8633a3e-7654-4b52-b2a8-9c93628ec667",
   "metadata": {},
   "source": [
    "torch.save(voxel_scores_dict, 'tmp/notebook910/voxel_scores_dict.py')"
   ]
  },
  {
   "cell_type": "raw",
   "id": "0af05dec-699a-4445-83c3-5fd255c21f71",
   "metadata": {},
   "source": [
    "atlas_names = list(voxel_scores_dict.keys())"
   ]
  },
  {
   "cell_type": "raw",
   "id": "b62ea00d-f2fd-4529-a565-130295b2c95f",
   "metadata": {},
   "source": [
    "xs = np.arange(0, len(voxel_indices_names))"
   ]
  },
  {
   "cell_type": "raw",
   "id": "4759f602-cc8b-463c-9c9f-4259399614f1",
   "metadata": {},
   "source": [
    "splits = len(atlas_names) + 1\n",
    "width = (1/splits)\n",
    "offsets = np.arange(0, len(atlas_names)) * width\n",
    "offsets += width\n",
    "# offsets -= offsets.max()/2"
   ]
  },
  {
   "cell_type": "raw",
   "id": "236275d6-b840-4914-9ef3-7f34df113878",
   "metadata": {},
   "source": [
    "colors = ['k', 'm', 'c', 'y', 'r', 'g', 'b']\n",
    "bar_colors = ['silver', 'pink', 'lightcyan', 'lightyellow', 'mistyrose','lightgreen', 'lightblue']\n",
    "bar_colors = ['k', 'm', 'c', 'y', 'r', 'g', 'b']\n",
    "\n",
    "marker = '^'\n",
    "fmts = [c+marker for c in colors]\n",
    "\n",
    "marker2 = 's'"
   ]
  },
  {
   "cell_type": "raw",
   "id": "4beb79c7-31ff-4b33-9d41-6e3173aa7bd1",
   "metadata": {},
   "source": [
    "colormap = plt.cm.Dark2# LinearSegmentedColormap\n",
    "Ncolors = min(colormap.N, len(atlas_names))\n",
    "mapcolors = [colormap(int(x*colormap.N/Ncolors)) for x in range(Ncolors)]"
   ]
  },
  {
   "cell_type": "raw",
   "id": "aac38a76-a15e-4154-8d38-eb98ed944768",
   "metadata": {},
   "source": [
    "plt.style.use('ggplot')\n",
    "# plt.style.use('fivethirtyeight')"
   ]
  },
  {
   "cell_type": "raw",
   "id": "f83e314e-c5ba-47a1-9234-054e52f32338",
   "metadata": {},
   "source": [
    "from matplotlib.patches import Patch\n",
    "from matplotlib.lines import Line2D\n",
    "from matplotlib.ticker import FuncFormatter\n"
   ]
  },
  {
   "cell_type": "raw",
   "id": "133177c1-df7b-4cfb-9208-bc9f11a4af14",
   "metadata": {},
   "source": [
    "atlas_names"
   ]
  },
  {
   "cell_type": "raw",
   "id": "3111784f-7908-4547-830b-f6d9003dd7d6",
   "metadata": {},
   "source": [
    "fig, ax = plt.subplots(figsize=(6, 8))\n",
    "# submission\n",
    "xs = np.arange(len(atlas_names))\n",
    "for i, atlas_name in enumerate(atlas_names):\n",
    "    mean = voxel_scores_dict[atlas_name].mean().item()\n",
    "    sem = voxel_scores_dict[atlas_name].std().item() / np.sqrt(len(voxel_scores_dict[atlas_name]))\n",
    "    plt.bar(xs[i], mean, width=1.0, color=mapcolors[i], alpha=0.9, label=atlas_name)\n",
    "    plt.errorbar(xs[i], y=mean, yerr=sem, color='k',\n",
    "                 marker=',', markersize=0, capsize=0, elinewidth=4, capthick=1, linestyle='none')\n",
    "\n",
    "plt.ylim(0.40, 0.51)\n",
    "plt.ylabel('Explainable variance explained (mean %)')\n",
    "# plt.yticks([0.35, 0.36, 0.37, 0.38])\n",
    "ax.yaxis.set_major_formatter(FuncFormatter(lambda y, _: '{:.2f}'.format(y))) \n",
    "plt.xticks([])\n",
    "# plt.xticks(xs, atlas_names, rotation=60, ha='right')\n",
    "# dx = 12/72.; dy = 0/72. \n",
    "# offset = matplotlib.transforms.ScaledTranslation(dx, dy, fig.dpi_scale_trans)\n",
    "# for label in ax.xaxis.get_majorticklabels():\n",
    "#     label.set_transform(label.get_transform() + offset)\n",
    "formatter = matplotlib.ticker.FormatStrFormatter('%1.3f')\n",
    "locator = matplotlib.ticker.MaxNLocator(nbins=6)\n",
    "ax.yaxis.set_major_locator(locator)\n",
    "ax.yaxis.set_major_formatter(formatter)\n",
    "\n",
    "plt.legend(loc='upper left', bbox_to_anchor=(0., -0.), ncol=2, prop={'size': 16, 'weight': 'normal'})\n",
    "plt.title('Whole Brain Validation Set (Integrating Atlases)')\n",
    "\n",
    "for item in ([ax.title, ax.xaxis.label, ax.yaxis.label] +\n",
    "             ax.get_xticklabels() + ax.get_yticklabels()):\n",
    "    item.set_fontsize(20)\n",
    "\n",
    "plt.tight_layout()\n",
    "plt.savefig('tmp/notebook910/int2 validation score.pdf', bbox_inches=\"tight\")\n",
    "plt.show()"
   ]
  },
  {
   "cell_type": "raw",
   "id": "fda22fa0-d01b-4688-8724-9a53cca881e6",
   "metadata": {},
   "source": []
  },
  {
   "cell_type": "raw",
   "id": "0fa71aac-2c30-4e2e-926e-89562d88ed6f",
   "metadata": {},
   "source": [
    "fig, ax = plt.subplots(figsize=(6, 8))\n",
    "# submission\n",
    "xs = np.arange(len(atlas_names))\n",
    "means = [0.3816713818, 0.3836721208, 0.3770469934, 0.3658464045, 0.3730396439, 0.3641312727, 0.356504995]\n",
    "for i, atlas_name in enumerate(atlas_names):\n",
    "    plt.bar(xs[i], means[i], width=1.0, color=mapcolors[i], alpha=0.9, label=atlas_name)\n",
    "    # plt.errorbar(xs[0]+offsets[i], means[i], fmt=fmts[i].replace(marker, marker2), label='test')\n",
    "plt.ylim(0.35, 0.385)\n",
    "# plt.ylabel('Explainable variance explained (mean %)')\n",
    "plt.yticks([0.35, 0.36, 0.37, 0.38])\n",
    "ax.yaxis.set_major_formatter(FuncFormatter(lambda y, _: '{:.2f}'.format(y))) \n",
    "plt.xticks([])\n",
    "ax.yaxis.tick_right()\n",
    "\n",
    "# plt.xticks(xs, atlas_names, rotation=60, ha='right')\n",
    "# dx = 12/72.; dy = 0/72. \n",
    "# offset = matplotlib.transforms.ScaledTranslation(dx, dy, fig.dpi_scale_trans)\n",
    "# for label in ax.xaxis.get_majorticklabels():\n",
    "#     label.set_transform(label.get_transform() + offset)\n",
    "formatter = matplotlib.ticker.FormatStrFormatter('%1.3f')\n",
    "locator = matplotlib.ticker.MaxNLocator(nbins=6)\n",
    "ax.yaxis.set_major_locator(locator)\n",
    "ax.yaxis.set_major_formatter(formatter)\n",
    "\n",
    "# plt.legend(loc='upper left', bbox_to_anchor=(0., -0.), ncol=3, prop={'size': 16, 'weight': 'normal'})\n",
    "plt.title('Whole Brain Test Set (Integrating Atlases)')\n",
    "\n",
    "for item in ([ax.title, ax.xaxis.label, ax.yaxis.label] +\n",
    "             ax.get_xticklabels() + ax.get_yticklabels()):\n",
    "    item.set_fontsize(20)\n",
    "\n",
    "plt.tight_layout()\n",
    "plt.savefig('tmp/notebook910/int2 test score.pdf', bbox_inches=\"tight\")\n",
    "plt.show()"
   ]
  },
  {
   "cell_type": "raw",
   "id": "fcff7579-6825-47c7-a88d-8bc7b2c3f468",
   "metadata": {},
   "source": []
  },
  {
   "cell_type": "code",
   "execution_count": null,
   "id": "d0b7bac2-073e-40bc-bd1f-93f710161420",
   "metadata": {},
   "outputs": [],
   "source": []
  },
  {
   "cell_type": "code",
   "execution_count": null,
   "id": "710c3384-9d4b-4c6c-a31b-b095a23ff5d6",
   "metadata": {},
   "outputs": [],
   "source": []
  },
  {
   "cell_type": "code",
   "execution_count": null,
   "id": "c72b0c51-8026-40f2-bcde-d1f825404ef6",
   "metadata": {},
   "outputs": [],
   "source": []
  },
  {
   "cell_type": "markdown",
   "id": "e1a98d0c-5cef-47c9-991e-bb2813f6f734",
   "metadata": {},
   "source": [
    "# backbones and intersection"
   ]
  },
  {
   "cell_type": "code",
   "execution_count": 675,
   "id": "974f146f-e625-4081-b8fe-306a34a5848a",
   "metadata": {},
   "outputs": [
    {
     "data": {
      "text/plain": [
       "array(['S-htROI', 'WB', 'WB+S-htROI', 'WB+aROI', 'WB+aROI+S-htROI',\n",
       "       'aROI', 'aROI+S-htROI'], dtype=object)"
      ]
     },
     "execution_count": 675,
     "metadata": {},
     "output_type": "execute_result"
    }
   ],
   "source": [
    "score_df.subset_roi_sch.unique()"
   ]
  },
  {
   "cell_type": "code",
   "execution_count": 676,
   "id": "6caab38e-04b5-4c0e-8d39-dc467dccc27f",
   "metadata": {},
   "outputs": [],
   "source": [
    "raw_names = ['WB', 'aROI', 'S-htROI', 'WB+aROI', 'WB+S-htROI', 'aROI+S-htROI', 'WB+aROI+S-htROI'][::-1]\n",
    "label_names = ['WB', 'aROI', 'htROI', 'WB+aROI', 'WB+htROI', 'aROI+htROI', 'WB+aROI+htROI'][::-1]"
   ]
  },
  {
   "cell_type": "code",
   "execution_count": 677,
   "id": "b2754e7d-5ec5-4226-ab61-819897a4c55f",
   "metadata": {},
   "outputs": [],
   "source": [
    "colormap = plt.cm.tab10# LinearSegmentedColormap\n",
    "Ncolors = min(colormap.N, len(raw_names))\n",
    "mapcolors = [colormap(int(x*colormap.N/Ncolors)) for x in range(Ncolors)]"
   ]
  },
  {
   "cell_type": "code",
   "execution_count": 678,
   "id": "8f84145e-e1df-4075-9d44-b668a7f17fd6",
   "metadata": {},
   "outputs": [],
   "source": [
    "plt.style.use('seaborn')\n",
    "# plt.style.use('fivethirtyeight')"
   ]
  },
  {
   "cell_type": "code",
   "execution_count": 709,
   "id": "dfd65bc4-333a-4cc4-bb96-c72927badcc5",
   "metadata": {},
   "outputs": [
    {
     "data": {
      "image/png": "[encoded data removed]",
      "text/plain": [
       "<Figure size 288x576 with 1 Axes>"
      ]
     },
     "metadata": {},
     "output_type": "display_data"
    }
   ],
   "source": [
    "fig, ax = plt.subplots(figsize=(4, 8))\n",
    "\n",
    "xs = np.arange(len(score_df.backbone.unique())) + 1\n",
    "\n",
    "for i, subset_roi_sch in enumerate(raw_names):\n",
    "    i_df = score_df[score_df['subset_roi_sch'] == subset_roi_sch]\n",
    "    plt.plot(xs, i_df['val_score'], label=label_names[i], color=mapcolors[i])\n",
    "\n",
    "    plt.errorbar(xs, y=i_df['val_score'], yerr=i_df['val_sem'], color=mapcolors[i],\n",
    "                 marker='.', markersize=2, capsize=2, elinewidth=1, capthick=1, linestyle='none')\n",
    "\n",
    "plt.ylim(0.415, 0.53)\n",
    "plt.ylabel('Whole Brain Validation Set \\n Explained Variance (mean %)', fontdict={'style': 'italic'})\n",
    "plt.yticks([0.42, 0.45, 0.48, 0.51])\n",
    "ax.yaxis.set_major_formatter(FuncFormatter(lambda y, _: '{:.2f}'.format(y))) \n",
    "plt.xticks(xs[::2])\n",
    "# # plt.xticks(xs, atlas_names, rotation=60, ha='right')\n",
    "# # dx = 12/72.; dy = 0/72. \n",
    "# # offset = matplotlib.transforms.ScaledTranslation(dx, dy, fig.dpi_scale_trans)\n",
    "# # for label in ax.xaxis.get_majorticklabels():\n",
    "# #     label.set_transform(label.get_transform() + offset)\n",
    "# formatter = matplotlib.ticker.FormatStrFormatter('%1.3f')\n",
    "# locator = matplotlib.ticker.MaxNLocator(nbins=5)\n",
    "# ax.yaxis.set_major_locator(locator)\n",
    "# ax.yaxis.set_major_formatter(formatter)\n",
    "\n",
    "# plt.legend(loc='upper left', bbox_to_anchor=(0., -0.04), ncol=3, prop={'size': 16, 'weight': 'normal'})\n",
    "plt.title('Increase Backbone Models')\n",
    "\n",
    "for item in ([ax.title, ax.xaxis.label, ax.yaxis.label] +\n",
    "             ax.get_xticklabels() + ax.get_yticklabels()):\n",
    "    item.set_fontsize(24)\n",
    "    \n",
    "for item in (ax.get_xticklabels() + ax.get_yticklabels()):\n",
    "    item.set_fontsize(20)\n",
    "\n",
    "plt.savefig('tmp/notebook910/increase bm val score.pdf', bbox_inches=\"tight\")\n",
    "plt.show()"
   ]
  },
  {
   "cell_type": "code",
   "execution_count": 710,
   "id": "201fbbe0-a2ca-4f6e-9008-373c7a176518",
   "metadata": {},
   "outputs": [
    {
     "data": {
      "image/png": "[encoded data removed]",
      "text/plain": [
       "<Figure size 288x576 with 1 Axes>"
      ]
     },
     "metadata": {},
     "output_type": "display_data"
    }
   ],
   "source": [
    "fig, ax = plt.subplots(figsize=(4, 8))\n",
    "\n",
    "xs = np.arange(len(score_df.backbone.unique())) + 1\n",
    "\n",
    "for i, subset_roi_sch in enumerate(raw_names):\n",
    "    i_df = score_df[score_df['subset_roi_sch'] == subset_roi_sch]\n",
    "    plt.plot(xs, i_df['test_score'], label=label_names[i], color=mapcolors[i])\n",
    "\n",
    "    # plt.errorbar(xs, y=i_df['val_score'], yerr=i_df['val_sem'], color=mapcolors[i],\n",
    "    #              marker='.', markersize=2, capsize=2, elinewidth=1, capthick=1, linestyle='none')\n",
    "\n",
    "# plt.ylim(0.42, 0.53)\n",
    "# plt.ylabel('Explained variance (mean %)')\n",
    "ax.yaxis.set_label_position(\"right\")\n",
    "ax.yaxis.tick_right()\n",
    "plt.ylabel('Test Set', fontdict={'style': 'italic'})\n",
    "\n",
    "# plt.yticks([0.35, 0.36, 0.37, 0.38])\n",
    "ax.yaxis.set_major_formatter(FuncFormatter(lambda y, _: '{:.2f}'.format(y))) \n",
    "plt.xticks(xs[::2])\n",
    "# # plt.xticks(xs, atlas_names, rotation=60, ha='right')\n",
    "# # dx = 12/72.; dy = 0/72. \n",
    "# # offset = matplotlib.transforms.ScaledTranslation(dx, dy, fig.dpi_scale_trans)\n",
    "# # for label in ax.xaxis.get_majorticklabels():\n",
    "# #     label.set_transform(label.get_transform() + offset)\n",
    "formatter = matplotlib.ticker.FormatStrFormatter('%1.3f')\n",
    "locator = matplotlib.ticker.MaxNLocator(nbins=7)\n",
    "ax.yaxis.set_major_locator(locator)\n",
    "ax.yaxis.set_major_formatter(formatter)\n",
    "\n",
    "# plt.legend(loc='upper left', bbox_to_anchor=(0., -0.04), ncol=3, prop={'size': 16, 'weight': 'normal'})\n",
    "# plt.title('Whole Brain Test Set')\n",
    "\n",
    "for item in ([ax.title, ax.xaxis.label, ax.yaxis.label] +\n",
    "             ax.get_xticklabels() + ax.get_yticklabels()):\n",
    "    item.set_fontsize(20)\n",
    "\n",
    "plt.savefig('tmp/notebook910/increase bm test score.pdf', bbox_inches=\"tight\")\n",
    "plt.show()"
   ]
  },
  {
   "cell_type": "code",
   "execution_count": 718,
   "id": "35f05521-bc3d-487f-9254-4f78478fdaf4",
   "metadata": {},
   "outputs": [
    {
     "name": "stderr",
     "output_type": "stream",
     "text": [
      "/tmp/ipykernel_21725/14454298.py:21: UserWarning: Tight layout not applied. The left and right margins cannot be made large enough to accommodate all axes decorations.\n",
      "  plt.tight_layout()\n"
     ]
    },
    {
     "data": {
      "image/png": "[encoded data removed]",
      "text/plain": [
       "<Figure size 288x576 with 1 Axes>"
      ]
     },
     "metadata": {},
     "output_type": "display_data"
    }
   ],
   "source": [
    "fig, ax = plt.subplots(figsize=(4, 8))\n",
    "\n",
    "xs = np.arange(len(score_df.backbone.unique())) + 1\n",
    "\n",
    "for i, subset_roi_sch in enumerate(raw_names):\n",
    "    i_df = score_df[score_df['subset_roi_sch'] == subset_roi_sch]\n",
    "    subset_roi_sch = subset_roi_sch.replace('S-', '')\n",
    "    plt.bar(xs[i], i_df['val_score'], width=1.0, color=mapcolors[i], alpha=0.9, label=subset_roi_sch)\n",
    "\n",
    "\n",
    "plt.legend(loc='upper left', bbox_to_anchor=(0., -0.), ncol=4, prop={'size': 16, 'weight': 'normal'})\n",
    "plt.gca().set_axis_off()\n",
    "\n",
    "for item in ([ax.title, ax.xaxis.label, ax.yaxis.label] +\n",
    "             ax.get_xticklabels() + ax.get_yticklabels()):\n",
    "    item.set_fontsize(24)\n",
    "\n",
    "for item in (ax.get_xticklabels() + ax.get_yticklabels()):\n",
    "    item.set_fontsize(16)\n",
    "    \n",
    "plt.tight_layout()\n",
    "plt.savefig('tmp/notebook910/increase bm legend.pdf', bbox_inches=\"tight\")\n",
    "plt.show()"
   ]
  },
  {
   "cell_type": "code",
   "execution_count": null,
   "id": "01d01c69-3432-4d56-9642-463481668e7f",
   "metadata": {},
   "outputs": [],
   "source": []
  },
  {
   "cell_type": "code",
   "execution_count": null,
   "id": "f6ec37df-5d7f-4d34-a60c-564134d1c1fb",
   "metadata": {},
   "outputs": [],
   "source": []
  },
  {
   "cell_type": "markdown",
   "id": "b8dead1c-e80b-4e0f-bca3-251de130d484",
   "metadata": {},
   "source": [
    "# 11 htROI v.s. self htROI"
   ]
  },
  {
   "cell_type": "code",
   "execution_count": 748,
   "id": "8925798a-65aa-4146-9400-32c6bdf696cf",
   "metadata": {},
   "outputs": [],
   "source": [
    "val_scores = [0.4685314330434128, 0.46343147739444684, 0.4776067037549395, 0.4759140821714593]\n",
    "val_sems = [0.0013100570368334515, 0.0012975150455865516, 0.0013163660471815686, 0.00130205356500629]\n",
    "test_scores = [0.3916729869, 0.3912286448, 0.3718794034, 0.3755031736]"
   ]
  },
  {
   "cell_type": "code",
   "execution_count": 749,
   "id": "ec4ff32d-b900-4f62-b936-59246b449c95",
   "metadata": {},
   "outputs": [],
   "source": [
    "val_scores = [0.4685314330434128, 0.46343147739444684]\n",
    "val_sems = [0.0013100570368334515, 0.0012975150455865516]\n",
    "test_scores = [0.3916729869, 0.3912286448]"
   ]
  },
  {
   "cell_type": "code",
   "execution_count": 767,
   "id": "44d075ba-f38e-4d4e-8a4f-b7f9b1e0a349",
   "metadata": {},
   "outputs": [],
   "source": [
    "col_names = ['11 models derived htROI', '1 model derived htROI']"
   ]
  },
  {
   "cell_type": "code",
   "execution_count": 768,
   "id": "e3eac60f-c2aa-4a14-8962-9508dd405c31",
   "metadata": {},
   "outputs": [],
   "source": [
    "# colormap = plt.cm.Accent_r# LinearSegmentedColormap\n",
    "# Ncolors = min(colormap.N, len(col_names))\n",
    "# mapcolors = [colormap(int(x*colormap.N/Ncolors)) for x in range(Ncolors)]\n",
    "\n",
    "mapcolors = ['tab:blue', 'tab:orange']"
   ]
  },
  {
   "cell_type": "code",
   "execution_count": 805,
   "id": "23a9b285-fa49-4bd4-bcdb-f72e75a761cd",
   "metadata": {},
   "outputs": [
    {
     "data": {
      "image/png": "[encoded data removed]",
      "text/plain": [
       "<Figure size 288x576 with 1 Axes>"
      ]
     },
     "metadata": {},
     "output_type": "display_data"
    }
   ],
   "source": [
    "fig, ax = plt.subplots(figsize=(4, 8))\n",
    "\n",
    "xs = np.arange(len(col_names))\n",
    "means = []\n",
    "for i, atlas_name in enumerate(col_names):\n",
    "    mean = val_scores[i]\n",
    "    means.append(mean)\n",
    "    sem = val_sems[i]\n",
    "    plt.bar(xs[i], mean, width=1.0, color=mapcolors[i], alpha=0.9, label=atlas_name)\n",
    "    plt.errorbar(xs[i], y=mean, yerr=sem, color='k',\n",
    "                 marker=',', markersize=0, capsize=0, elinewidth=4, capthick=1, linestyle='none')\n",
    "\n",
    "plt.ylim(0.455, 0.475)\n",
    "plt.ylabel('Whole Brain Validation Set \\n Explained Variance (mean %)', fontdict={'style': 'italic'})\n",
    "# plt.yticks([0.35, 0.36, 0.37, 0.38])\n",
    "ax.yaxis.set_major_formatter(FuncFormatter(lambda y, _: '{:.2f}'.format(y))) \n",
    "plt.xticks([])\n",
    "# plt.xticks(xs, atlas_names, rotation=60, ha='right')\n",
    "# dx = 12/72.; dy = 0/72. \n",
    "# offset = matplotlib.transforms.ScaledTranslation(dx, dy, fig.dpi_scale_trans)\n",
    "# for label in ax.xaxis.get_majorticklabels():\n",
    "#     label.set_transform(label.get_transform() + offset)\n",
    "formatter = matplotlib.ticker.FormatStrFormatter('%1.2f')\n",
    "locator = matplotlib.ticker.MaxNLocator(nbins=2)\n",
    "ax.yaxis.set_major_locator(locator)\n",
    "ax.yaxis.set_major_formatter(formatter)\n",
    "\n",
    "plt.legend(loc='upper left', bbox_to_anchor=(0., -0.), ncol=1, prop={'size': 16, 'weight': 'normal'})\n",
    "plt.title('htROI Variants \\n (3 atlases, SwinTransformer)')\n",
    "\n",
    "barplot_annotate_brackets(0, 1, '***', xs.tolist(), means, dh=0.1, barh=0.01, fs=14)\n",
    "# barplot_annotate_brackets(1, 2, '***', xs.tolist(), means, dh=0.025, barh=0.01, fs=14)\n",
    "# barplot_annotate_brackets(1, 3, '***', xs.tolist(), means, dh=0.08, barh=0.01, fs=14)\n",
    "\n",
    "for item in ([ax.title, ax.xaxis.label, ax.yaxis.label] +\n",
    "             ax.get_xticklabels() + ax.get_yticklabels()):\n",
    "    item.set_fontsize(24)\n",
    "\n",
    "for item in (ax.get_xticklabels() + ax.get_yticklabels()):\n",
    "    item.set_fontsize(16)\n",
    "    \n",
    "plt.tight_layout()\n",
    "plt.savefig('tmp/notebook910/htROI v validation score.pdf', bbox_inches=\"tight\")\n",
    "plt.show()"
   ]
  },
  {
   "cell_type": "code",
   "execution_count": 806,
   "id": "dcd0ed93-5002-4932-b492-af8bbe1092b1",
   "metadata": {},
   "outputs": [
    {
     "data": {
      "image/png": "[encoded data removed]",
      "text/plain": [
       "<Figure size 288x576 with 1 Axes>"
      ]
     },
     "metadata": {},
     "output_type": "display_data"
    }
   ],
   "source": [
    "fig, ax = plt.subplots(figsize=(4, 8))\n",
    "\n",
    "xs = np.arange(len(col_names))\n",
    "means = []\n",
    "for i, atlas_name in enumerate(col_names):\n",
    "    mean = test_scores[i]\n",
    "    means.append(mean)\n",
    "    # sem = val_sems[i]\n",
    "    plt.bar(xs[i], mean, width=1.0, color=mapcolors[i], alpha=0.9, label=atlas_name)\n",
    "    # plt.errorbar(xs[i], y=mean, yerr=sem, color='k',\n",
    "    #              marker=',', markersize=0, capsize=0, elinewidth=4, capthick=1, linestyle='none')\n",
    "\n",
    "plt.ylim(0.375, 0.40)\n",
    "plt.ylabel('Test Set', fontdict={'style': 'italic'})\n",
    "plt.yticks([0.38, 0.39])\n",
    "ax.yaxis.set_major_formatter(FuncFormatter(lambda y, _: '{:.2f}'.format(y))) \n",
    "plt.xticks([])\n",
    "ax.yaxis.set_label_position(\"right\")\n",
    "ax.yaxis.tick_right()\n",
    "# plt.xticks(xs, atlas_names, rotation=60, ha='right')\n",
    "# dx = 12/72.; dy = 0/72. \n",
    "# offset = matplotlib.transforms.ScaledTranslation(dx, dy, fig.dpi_scale_trans)\n",
    "# for label in ax.xaxis.get_majorticklabels():\n",
    "#     label.set_transform(label.get_transform() + offset)\n",
    "# formatter = matplotlib.ticker.FormatStrFormatter('%1.4f')\n",
    "# locator = matplotlib.ticker.MaxNLocator(nbins=3)\n",
    "# ax.yaxis.set_major_locator(locator)\n",
    "# ax.yaxis.set_major_formatter(formatter)\n",
    "\n",
    "plt.legend(loc='upper left', bbox_to_anchor=(0., -0.), ncol=1, prop={'size': 16, 'weight': 'normal'})\n",
    "plt.title('htROI Variants \\n (3 atlases, SwinTransformer)')\n",
    "\n",
    "# barplot_annotate_brackets(0, 1, '***', xs.tolist(), means, dh=0.1, barh=0.01, fs=14)\n",
    "# barplot_annotate_brackets(1, 2, '***', xs.tolist(), means, dh=0.025, barh=0.01, fs=14)\n",
    "# barplot_annotate_brackets(1, 3, '***', xs.tolist(), means, dh=0.08, barh=0.01, fs=14)\n",
    "\n",
    "for item in ([ax.title, ax.xaxis.label, ax.yaxis.label] +\n",
    "             ax.get_xticklabels() + ax.get_yticklabels()):\n",
    "    item.set_fontsize(24)\n",
    "\n",
    "for item in (ax.get_xticklabels() + ax.get_yticklabels()):\n",
    "    item.set_fontsize(16)\n",
    "    \n",
    "plt.tight_layout()\n",
    "plt.savefig('tmp/notebook910/htROI v test score.pdf', bbox_inches=\"tight\")\n",
    "plt.show()"
   ]
  },
  {
   "cell_type": "markdown",
   "id": "ac2f74b1-e082-4b0f-8dca-e3e463eaa803",
   "metadata": {},
   "source": [
    "# supplementary"
   ]
  },
  {
   "cell_type": "markdown",
   "id": "e14b69f8-6ca6-4143-a2a5-509cb37ce345",
   "metadata": {},
   "source": [
    "# backbone models"
   ]
  },
  {
   "cell_type": "code",
   "execution_count": 325,
   "id": "a628d36f-5257-403a-8f74-3e6163ddff88",
   "metadata": {},
   "outputs": [],
   "source": [
    "from src.utils.submission import algonauts2021_submission_from_whole_brain_prediction"
   ]
  },
  {
   "cell_type": "code",
   "execution_count": 326,
   "id": "62fe3681-267d-47a4-a52d-2efa8fe5de69",
   "metadata": {},
   "outputs": [
    {
     "data": {
      "text/plain": [
       "['all',\n",
       " '2d_densnet_warp_3d',\n",
       " '3d_swin',\n",
       " '2d_bdcnvgg_warp_3d',\n",
       " 'i3d_flow',\n",
       " '2d_moby_swin_warp_3d',\n",
       " 'i3d_rgb',\n",
       " '2d_seg_swin_warp_3d',\n",
       " 'audio_vggish',\n",
       " '2d_pyconvsegnet_warp_3d',\n",
       " '2d_simclr_warp_3d',\n",
       " '2d_colorizer_warp_3d']"
      ]
     },
     "execution_count": 326,
     "metadata": {},
     "output_type": "execute_result"
    }
   ],
   "source": [
    "backbone_names"
   ]
  },
  {
   "cell_type": "code",
   "execution_count": 341,
   "id": "f6a26eb4-2c1c-4f65-b2cb-4103b53edc2f",
   "metadata": {},
   "outputs": [],
   "source": [
    "label_names = ['All Models Ensemble', '2D DensNet-CLS', '3D SwinTransformer-CLS', '2D VGG-EdgeDetection', '3D ResNet Flow-CLS', '2D SwinTransformer-Moby',\n",
    "                '3D ResNet-CLS', '2D SwinTransformer-Seg', 'Audio VGGish-CLS', '2D PyConvSegNet-Seg', '2D ResNet-SimClr', '2D AlexNet-Colorization']"
   ]
  },
  {
   "cell_type": "code",
   "execution_count": 342,
   "id": "07805db3-d987-40e3-a142-10aeb9963d79",
   "metadata": {},
   "outputs": [
    {
     "name": "stdout",
     "output_type": "stream",
     "text": [
      "00,All Models Ensemble,0.4545,\n",
      "01,2D DensNet-CLS,0.4230,\n",
      "02,3D SwinTransformer-CLS,0.4248,\n",
      "03,2D VGG-EdgeDetection,0.2312,\n",
      "04,3D ResNet Flow-CLS,0.3848,\n",
      "05,2D SwinTransformer-Moby,0.4021,\n",
      "06,3D ResNet-CLS,0.4246,\n",
      "07,2D SwinTransformer-Seg,0.3894,\n",
      "08,Audio VGGish-CLS,0.1888,\n",
      "09,2D PyConvSegNet-Seg,0.4017,\n",
      "10,2D ResNet-SimClr,0.4198,\n",
      "11,2D AlexNet-Colorization,0.3171,\n"
     ]
    }
   ],
   "source": [
    "val_score_dict = {}\n",
    "for i, backbone_name in enumerate(backbone_names[:]):\n",
    "    path = f'/data/huze/ray_results/algonauts2021/tmp/notebook-010/{backbone_name}-predictions.npy'\n",
    "    prediction = torch.tensor(np.load(path)).float()\n",
    "    voxel_scores = vectorized_correlation(prediction[val_indices], val_fmris)\n",
    "    voxel_scores /= noise_ceiling\n",
    "    \n",
    "    val_score_dict[backbone_name] = voxel_scores\n",
    "    \n",
    "    mean_score = voxel_scores.mean()\n",
    "    \n",
    "    print(f'{i:02d},{label_names[i]},{mean_score:.4f},')\n",
    "    \n",
    "    \n",
    "    submission_name = f'sup_{i:02d}_{backbone_name}'\n",
    "    \n",
    "    algonauts2021_submission_from_whole_brain_prediction('../../src/config/dataset',\n",
    "                                                submission_name,\n",
    "                                                prediction[1000:].numpy(),\n",
    "                                                output_dir='./submissions/sup/',\n",
    "                                                mini_track=False)"
   ]
  },
  {
   "cell_type": "markdown",
   "id": "521561da-dc2c-459b-9841-1b39da91c5af",
   "metadata": {},
   "source": [
    "# layer ensemble"
   ]
  },
  {
   "cell_type": "code",
   "execution_count": 340,
   "id": "a0c365e6-a2d4-49c6-a3c3-80a3d96ca5bd",
   "metadata": {},
   "outputs": [
    {
     "name": "stdout",
     "output_type": "stream",
     "text": [
      "00,H3,WB,0.4259,\n",
      "01,H2,WB,0.4271,\n",
      "02,H3,aROI,0.4383,\n",
      "03,H2,aROI,0.4397,\n",
      "04,H3,S-htROI,0.4497,\n",
      "05,H2,S-htROI,0.4524,\n",
      "06,H3,WB+aROI,0.4419,\n",
      "07,H2,WB+aROI,0.4439,\n",
      "08,H3,WB+S-htROI,0.4611,\n",
      "09,H2,WB+S-htROI,0.4639,\n",
      "10,H3,aROI+S-htROI,0.4667,\n",
      "11,H2,aROI+S-htROI,0.4694,\n",
      "12,H3,WB+aROI+S-htROI,0.4685,\n",
      "13,H2,WB+aROI+S-htROI,0.4714,\n"
     ]
    }
   ],
   "source": [
    "i = 0\n",
    "\n",
    "ls = ['WB', 'aROI', 'S-htROI', 'WB+aROI', 'WB+S-htROI', 'aROI+S-htROI', 'WB+aROI+S-htROI']\n",
    "for backbone in ['3d_swin']:\n",
    "    for subset_roi_sch_text in ls:\n",
    "        for he_sch in ['H3', 'H2']:\n",
    "            \n",
    "            intersection_sch = 'grouped ensemble'\n",
    "            \n",
    "            prediction = torch.load(os.path.join('/data/huze/ray_results/algonauts2021/notebook200/',\n",
    "                             f'backbone={backbone},he_sch={he_sch},intersection_sch={intersection_sch},subset_roi_sch={subset_roi_sch_text}'\n",
    "                             f'-prediction.pt'))\n",
    "            scores = vectorized_correlation(prediction[val_indices], val_fmris) / noise_ceiling\n",
    "            \n",
    "            mean_score = scores.mean()\n",
    "\n",
    "            print(f'{i:02d},{he_sch},{subset_roi_sch_text},{mean_score:.4f},')\n",
    "            \n",
    "            i += 1\n",
    "            \n",
    "            submission_name = f'sup2_{i:02d}_{he_sch}_{subset_roi_sch_text}'\n",
    "    \n",
    "            algonauts2021_submission_from_whole_brain_prediction('../../src/config/dataset',\n",
    "                                                        submission_name,\n",
    "                                                        prediction[1000:].numpy(),\n",
    "                                                        output_dir='./submissions/sup/',\n",
    "                                                        mini_track=False)"
   ]
  },
  {
   "cell_type": "markdown",
   "id": "a9a8568e-da1a-4785-9490-4500203e05fb",
   "metadata": {},
   "source": [
    "# roi intersection strategy"
   ]
  },
  {
   "cell_type": "code",
   "execution_count": 338,
   "id": "bf4c6373-00df-4fab-a8b2-f39f5faf54f9",
   "metadata": {},
   "outputs": [
    {
     "name": "stdout",
     "output_type": "stream",
     "text": [
      "00,voxel-wise swap,WB+aROI,0.5023,\n",
      "01,grouped swap,WB+aROI,0.4374,\n",
      "02,grouped ensemble,WB+aROI,0.4419,\n",
      "03,voxel-wise swap,WB+S-htROI,0.5424,\n",
      "04,grouped swap,WB+S-htROI,0.4517,\n",
      "05,grouped ensemble,WB+S-htROI,0.4611,\n",
      "06,voxel-wise swap,aROI+S-htROI,0.5475,\n",
      "07,grouped swap,aROI+S-htROI,0.4567,\n",
      "08,grouped ensemble,aROI+S-htROI,0.4667,\n",
      "09,voxel-wise swap,WB+aROI+S-htROI,0.5778,\n",
      "10,grouped swap,WB+aROI+S-htROI,0.4582,\n",
      "11,grouped ensemble,WB+aROI+S-htROI,0.4685,\n"
     ]
    }
   ],
   "source": [
    "i = 0\n",
    "\n",
    "ls = ['WB+aROI', 'WB+S-htROI', 'aROI+S-htROI', 'WB+aROI+S-htROI']\n",
    "for backbone in ['3d_swin']:\n",
    "    for subset_roi_sch_text in ls:\n",
    "        for he_sch in ['H3']:\n",
    "            \n",
    "            for intersection_sch in ['grouped ensemble', 'grouped swap', 'voxel-wise swap'][::-1]:\n",
    "            \n",
    "                prediction = torch.load(os.path.join('/data/huze/ray_results/algonauts2021/notebook200/',\n",
    "                                 f'backbone={backbone},he_sch={he_sch},intersection_sch={intersection_sch},subset_roi_sch={subset_roi_sch_text}'\n",
    "                                 f'-prediction.pt'))\n",
    "                scores = vectorized_correlation(prediction[val_indices], val_fmris) / noise_ceiling\n",
    "\n",
    "                mean_score = scores.mean()\n",
    "\n",
    "                print(f'{i:02d},{intersection_sch},{subset_roi_sch_text},{mean_score:.4f},')\n",
    "\n",
    "                i += 1\n",
    "\n",
    "                submission_name = f'sup3_{i:02d}_{intersection_sch}_{subset_roi_sch_text}'\n",
    "\n",
    "                algonauts2021_submission_from_whole_brain_prediction('../../src/config/dataset',\n",
    "                                                            submission_name,\n",
    "                                                            prediction[1000:].numpy(),\n",
    "                                                            output_dir='./submissions/sup/',\n",
    "                                                        mini_track=False)"
   ]
  },
  {
   "cell_type": "code",
   "execution_count": null,
   "id": "cd9f0527-4444-462c-8e3a-c84a4a4512a2",
   "metadata": {},
   "outputs": [],
   "source": []
  }
 ],
 "metadata": {
  "kernelspec": {
   "display_name": "Python 3 (ipykernel)",
   "language": "python",
   "name": "python3"
  },
  "language_info": {
   "codemirror_mode": {
    "name": "ipython",
    "version": 3
   },
   "file_extension": ".py",
   "mimetype": "text/x-python",
   "name": "python",
   "nbconvert_exporter": "python",
   "pygments_lexer": "ipython3",
   "version": "3.8.8"
  },
  "widgets": {
   "application/vnd.jupyter.widget-state+json": {
    "state": {
     "1b6613324add47acab0015b67cb2d850": {
      "model_module": "@jupyter-widgets/controls",
      "model_module_version": "1.5.0",
      "model_name": "HTMLModel",
      "state": {
       "layout": "IPY_MODEL_24592707293748ed985def1a4134f83b",
       "style": "IPY_MODEL_293239f3af4a4ca982d5af814d9efd0a",
       "value": "100%"
      }
     },
     "225dd900cdb4478cb654fe8019edc499": {
      "model_module": "@jupyter-widgets/controls",
      "model_module_version": "1.5.0",
      "model_name": "FloatProgressModel",
      "state": {
       "bar_style": "success",
       "layout": "IPY_MODEL_980954f25db74729a94e106dcb83f77e",
       "max": 4218,
       "style": "IPY_MODEL_ef97479b99ea41e2965f286b7a52d4e5",
       "value": 4218
      }
     },
     "24592707293748ed985def1a4134f83b": {
      "model_module": "@jupyter-widgets/base",
      "model_module_version": "1.2.0",
      "model_name": "LayoutModel",
      "state": {}
     },
     "293239f3af4a4ca982d5af814d9efd0a": {
      "model_module": "@jupyter-widgets/controls",
      "model_module_version": "1.5.0",
      "model_name": "DescriptionStyleModel",
      "state": {
       "description_width": ""
      }
     },
     "2a3a1c6691b8479c8caefa3dec046d4e": {
      "model_module": "@jupyter-widgets/controls",
      "model_module_version": "1.5.0",
      "model_name": "FloatProgressModel",
      "state": {
       "bar_style": "success",
       "layout": "IPY_MODEL_7ba790886ee5492fa835dff1a85c6f86",
       "max": 4218,
       "style": "IPY_MODEL_9609491423914fa98b0b940873d66b79",
       "value": 4218
      }
     },
     "4fa4f23f17704ca7a0b9859fdb79aa10": {
      "model_module": "@jupyter-widgets/controls",
      "model_module_version": "1.5.0",
      "model_name": "HBoxModel",
      "state": {
       "children": [
        "IPY_MODEL_9c570f1d8de04a479082402b9a662485",
        "IPY_MODEL_2a3a1c6691b8479c8caefa3dec046d4e",
        "IPY_MODEL_e7fd9dd439054799b559f3d58a75a658"
       ],
       "layout": "IPY_MODEL_7ec24c52e210494a8e2970cadbe8cfbd"
      }
     },
     "54f80c3e9a96458ca7db6c2cd77f845c": {
      "model_module": "@jupyter-widgets/base",
      "model_module_version": "1.2.0",
      "model_name": "LayoutModel",
      "state": {}
     },
     "626e918af8424533be24a075f5847bc0": {
      "model_module": "@jupyter-widgets/base",
      "model_module_version": "1.2.0",
      "model_name": "LayoutModel",
      "state": {}
     },
     "651d3a858af3428795d0d719eb736b5f": {
      "model_module": "@jupyter-widgets/controls",
      "model_module_version": "1.5.0",
      "model_name": "HTMLModel",
      "state": {
       "layout": "IPY_MODEL_da7edda2485248519584c080369f463f",
       "style": "IPY_MODEL_bfc9906dffdb46bab064b28b645da683",
       "value": " 4218/4218 [00:17&lt;00:00, 307.74it/s]"
      }
     },
     "6815c5b8eed3446db2371bf5c7c6efbe": {
      "model_module": "@jupyter-widgets/controls",
      "model_module_version": "1.5.0",
      "model_name": "DescriptionStyleModel",
      "state": {
       "description_width": ""
      }
     },
     "7ba790886ee5492fa835dff1a85c6f86": {
      "model_module": "@jupyter-widgets/base",
      "model_module_version": "1.2.0",
      "model_name": "LayoutModel",
      "state": {}
     },
     "7ec24c52e210494a8e2970cadbe8cfbd": {
      "model_module": "@jupyter-widgets/base",
      "model_module_version": "1.2.0",
      "model_name": "LayoutModel",
      "state": {}
     },
     "9609491423914fa98b0b940873d66b79": {
      "model_module": "@jupyter-widgets/controls",
      "model_module_version": "1.5.0",
      "model_name": "ProgressStyleModel",
      "state": {
       "description_width": ""
      }
     },
     "97db7bb3f5664c40b57fbee0efc38456": {
      "model_module": "@jupyter-widgets/base",
      "model_module_version": "1.2.0",
      "model_name": "LayoutModel",
      "state": {}
     },
     "980954f25db74729a94e106dcb83f77e": {
      "model_module": "@jupyter-widgets/base",
      "model_module_version": "1.2.0",
      "model_name": "LayoutModel",
      "state": {}
     },
     "9c570f1d8de04a479082402b9a662485": {
      "model_module": "@jupyter-widgets/controls",
      "model_module_version": "1.5.0",
      "model_name": "HTMLModel",
      "state": {
       "layout": "IPY_MODEL_626e918af8424533be24a075f5847bc0",
       "style": "IPY_MODEL_6815c5b8eed3446db2371bf5c7c6efbe",
       "value": "100%"
      }
     },
     "bfc9906dffdb46bab064b28b645da683": {
      "model_module": "@jupyter-widgets/controls",
      "model_module_version": "1.5.0",
      "model_name": "DescriptionStyleModel",
      "state": {
       "description_width": ""
      }
     },
     "da7edda2485248519584c080369f463f": {
      "model_module": "@jupyter-widgets/base",
      "model_module_version": "1.2.0",
      "model_name": "LayoutModel",
      "state": {}
     },
     "de60d20290d24955a153c73969565bd7": {
      "model_module": "@jupyter-widgets/controls",
      "model_module_version": "1.5.0",
      "model_name": "HBoxModel",
      "state": {
       "children": [
        "IPY_MODEL_1b6613324add47acab0015b67cb2d850",
        "IPY_MODEL_225dd900cdb4478cb654fe8019edc499",
        "IPY_MODEL_651d3a858af3428795d0d719eb736b5f"
       ],
       "layout": "IPY_MODEL_97db7bb3f5664c40b57fbee0efc38456"
      }
     },
     "e7fd9dd439054799b559f3d58a75a658": {
      "model_module": "@jupyter-widgets/controls",
      "model_module_version": "1.5.0",
      "model_name": "HTMLModel",
      "state": {
       "layout": "IPY_MODEL_54f80c3e9a96458ca7db6c2cd77f845c",
       "style": "IPY_MODEL_ead565610d0b40edbb5597352ca79d12",
       "value": " 4218/4218 [00:18&lt;00:00, 292.53it/s]"
      }
     },
     "ead565610d0b40edbb5597352ca79d12": {
      "model_module": "@jupyter-widgets/controls",
      "model_module_version": "1.5.0",
      "model_name": "DescriptionStyleModel",
      "state": {
       "description_width": ""
      }
     },
     "ef97479b99ea41e2965f286b7a52d4e5": {
      "model_module": "@jupyter-widgets/controls",
      "model_module_version": "1.5.0",
      "model_name": "ProgressStyleModel",
      "state": {
       "description_width": ""
      }
     }
    },
    "version_major": 2,
    "version_minor": 0
   }
  }
 },
 "nbformat": 4,
 "nbformat_minor": 5
}
