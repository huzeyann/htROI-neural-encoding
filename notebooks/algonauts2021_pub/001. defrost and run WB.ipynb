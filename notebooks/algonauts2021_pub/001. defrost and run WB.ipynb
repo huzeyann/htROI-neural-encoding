{
 "cells": [
  {
   "cell_type": "code",
   "execution_count": 1,
   "id": "467b864f-82d7-45d6-a2d8-a253a6d23a8d",
   "metadata": {},
   "outputs": [
    {
     "data": {
      "text/plain": [
       "True"
      ]
     },
     "execution_count": 1,
     "metadata": {},
     "output_type": "execute_result"
    }
   ],
   "source": [
    "import numpy as np\n",
    "import torch\n",
    "\n",
    "from tqdm.auto import tqdm\n",
    "from pathlib import Path\n",
    "\n",
    "import itertools\n",
    "\n",
    "import os\n",
    "from dotenv import find_dotenv, load_dotenv\n",
    "\n",
    "load_dotenv(find_dotenv(), verbose=True)"
   ]
  },
  {
   "cell_type": "code",
   "execution_count": 13,
   "id": "37e19b38-b602-4093-b1a2-f2f8dd237e20",
   "metadata": {},
   "outputs": [
    {
     "name": "stderr",
     "output_type": "stream",
     "text": [
      "E0311 07:33:30.520751513 3249277 fork_posix.cc:70]           Fork support is only compatible with the epoll1 and poll polling strategies\n"
     ]
    }
   ],
   "source": [
    "!rm -r /home/huze/.cache/checkpoints"
   ]
  },
  {
   "cell_type": "code",
   "execution_count": 3,
   "id": "18318a33-3ee7-41e8-815a-9e5da9561e17",
   "metadata": {},
   "outputs": [],
   "source": [
    "exp_configs = sorted([p for p in Path('../../src/config/experiments/algonauts2021/').iterdir() if p.name.endswith('.yml')])[::-1]"
   ]
  },
  {
   "cell_type": "code",
   "execution_count": 4,
   "id": "4bbe2c5d-79d2-4b53-ad2d-708a812eb180",
   "metadata": {},
   "outputs": [
    {
     "data": {
      "text/plain": [
       "[PosixPath('../../src/config/experiments/algonauts2021/algonauts2021_audio_vgg.yml'),\n",
       " PosixPath('../../src/config/experiments/algonauts2021/algonauts2021_3d_swin.yml'),\n",
       " PosixPath('../../src/config/experiments/algonauts2021/algonauts2021_3d_resnet.yml'),\n",
       " PosixPath('../../src/config/experiments/algonauts2021/algonauts2021_3d_flow.yml'),\n",
       " PosixPath('../../src/config/experiments/algonauts2021/algonauts2021_2d_simclr.yml'),\n",
       " PosixPath('../../src/config/experiments/algonauts2021/algonauts2021_2d_segswin.yml'),\n",
       " PosixPath('../../src/config/experiments/algonauts2021/algonauts2021_2d_pyconvsegnet.yml'),\n",
       " PosixPath('../../src/config/experiments/algonauts2021/algonauts2021_2d_mobyswin.yml'),\n",
       " PosixPath('../../src/config/experiments/algonauts2021/algonauts2021_2d_densnet.yml'),\n",
       " PosixPath('../../src/config/experiments/algonauts2021/algonauts2021_2d_colorizer.yml'),\n",
       " PosixPath('../../src/config/experiments/algonauts2021/algonauts2021_2d_bdcnvgg.yml')]"
      ]
     },
     "execution_count": 4,
     "metadata": {},
     "output_type": "execute_result"
    }
   ],
   "source": [
    "exp_configs"
   ]
  },
  {
   "cell_type": "code",
   "execution_count": 5,
   "id": "0f6f6897-0d6c-46da-b50c-1e67068b191c",
   "metadata": {},
   "outputs": [
    {
     "data": {
      "text/plain": [
       "'/data/huze/ray_results/algonauts2021/'"
      ]
     },
     "execution_count": 5,
     "metadata": {},
     "output_type": "execute_result"
    }
   ],
   "source": [
    "os.environ['RESULTS_DIR']"
   ]
  },
  {
   "cell_type": "code",
   "execution_count": 6,
   "id": "59fc47ca-e27e-4102-884d-9105dfb7d843",
   "metadata": {},
   "outputs": [],
   "source": [
    "import pandas as pd\n",
    "defrost_df = pd.read_csv('./config/defrost_df.csv')"
   ]
  },
  {
   "cell_type": "code",
   "execution_count": 7,
   "id": "4321335b-6409-4e50-abd2-7fe1af87999d",
   "metadata": {},
   "outputs": [
    {
     "data": {
      "text/html": [
       "<div>\n",
       "<style scoped>\n",
       "    .dataframe tbody tr th:only-of-type {\n",
       "        vertical-align: middle;\n",
       "    }\n",
       "\n",
       "    .dataframe tbody tr th {\n",
       "        vertical-align: top;\n",
       "    }\n",
       "\n",
       "    .dataframe thead th {\n",
       "        text-align: right;\n",
       "    }\n",
       "</style>\n",
       "<table border=\"1\" class=\"dataframe\">\n",
       "  <thead>\n",
       "    <tr style=\"text-align: right;\">\n",
       "      <th></th>\n",
       "      <th>Unnamed: 0</th>\n",
       "      <th>MODEL.BACKBONE.NAME</th>\n",
       "      <th>DATASET.ROI</th>\n",
       "      <th>score</th>\n",
       "      <th>defrost_score</th>\n",
       "    </tr>\n",
       "  </thead>\n",
       "  <tbody>\n",
       "    <tr>\n",
       "      <th>0</th>\n",
       "      <td>34</td>\n",
       "      <td>2d_bdcnvgg_warp_3d</td>\n",
       "      <td>WB</td>\n",
       "      <td>0.038811</td>\n",
       "      <td>0.018</td>\n",
       "    </tr>\n",
       "    <tr>\n",
       "      <th>1</th>\n",
       "      <td>37</td>\n",
       "      <td>2d_colorizer_warp_3d</td>\n",
       "      <td>WB</td>\n",
       "      <td>0.088229</td>\n",
       "      <td>0.045</td>\n",
       "    </tr>\n",
       "    <tr>\n",
       "      <th>2</th>\n",
       "      <td>54</td>\n",
       "      <td>2d_simclr_warp_3d</td>\n",
       "      <td>WB</td>\n",
       "      <td>0.135406</td>\n",
       "      <td>0.069</td>\n",
       "    </tr>\n",
       "    <tr>\n",
       "      <th>3</th>\n",
       "      <td>55</td>\n",
       "      <td>i3d_flow</td>\n",
       "      <td>WB</td>\n",
       "      <td>0.124815</td>\n",
       "      <td>0.063</td>\n",
       "    </tr>\n",
       "    <tr>\n",
       "      <th>4</th>\n",
       "      <td>89</td>\n",
       "      <td>i3d_rgb</td>\n",
       "      <td>WB</td>\n",
       "      <td>0.136212</td>\n",
       "      <td>0.069</td>\n",
       "    </tr>\n",
       "    <tr>\n",
       "      <th>5</th>\n",
       "      <td>90</td>\n",
       "      <td>3d_swin</td>\n",
       "      <td>WB</td>\n",
       "      <td>0.140836</td>\n",
       "      <td>0.069</td>\n",
       "    </tr>\n",
       "    <tr>\n",
       "      <th>6</th>\n",
       "      <td>123</td>\n",
       "      <td>audio_vggish</td>\n",
       "      <td>WB</td>\n",
       "      <td>0.058880</td>\n",
       "      <td>0.030</td>\n",
       "    </tr>\n",
       "    <tr>\n",
       "      <th>7</th>\n",
       "      <td>124</td>\n",
       "      <td>2d_pyconvsegnet_warp_3d</td>\n",
       "      <td>WB</td>\n",
       "      <td>0.134461</td>\n",
       "      <td>0.066</td>\n",
       "    </tr>\n",
       "    <tr>\n",
       "      <th>8</th>\n",
       "      <td>125</td>\n",
       "      <td>2d_densnet_warp_3d</td>\n",
       "      <td>WB</td>\n",
       "      <td>0.118351</td>\n",
       "      <td>0.060</td>\n",
       "    </tr>\n",
       "    <tr>\n",
       "      <th>9</th>\n",
       "      <td>144</td>\n",
       "      <td>2d_seg_swin_warp_3d</td>\n",
       "      <td>WB</td>\n",
       "      <td>0.115133</td>\n",
       "      <td>0.057</td>\n",
       "    </tr>\n",
       "    <tr>\n",
       "      <th>10</th>\n",
       "      <td>145</td>\n",
       "      <td>2d_moby_swin_warp_3d</td>\n",
       "      <td>WB</td>\n",
       "      <td>0.133634</td>\n",
       "      <td>0.066</td>\n",
       "    </tr>\n",
       "  </tbody>\n",
       "</table>\n",
       "</div>"
      ],
      "text/plain": [
       "    Unnamed: 0      MODEL.BACKBONE.NAME DATASET.ROI     score  defrost_score\n",
       "0           34       2d_bdcnvgg_warp_3d          WB  0.038811          0.018\n",
       "1           37     2d_colorizer_warp_3d          WB  0.088229          0.045\n",
       "2           54        2d_simclr_warp_3d          WB  0.135406          0.069\n",
       "3           55                 i3d_flow          WB  0.124815          0.063\n",
       "4           89                  i3d_rgb          WB  0.136212          0.069\n",
       "5           90                  3d_swin          WB  0.140836          0.069\n",
       "6          123             audio_vggish          WB  0.058880          0.030\n",
       "7          124  2d_pyconvsegnet_warp_3d          WB  0.134461          0.066\n",
       "8          125       2d_densnet_warp_3d          WB  0.118351          0.060\n",
       "9          144      2d_seg_swin_warp_3d          WB  0.115133          0.057\n",
       "10         145     2d_moby_swin_warp_3d          WB  0.133634          0.066"
      ]
     },
     "execution_count": 7,
     "metadata": {},
     "output_type": "execute_result"
    }
   ],
   "source": [
    "defrost_df"
   ]
  },
  {
   "cell_type": "code",
   "execution_count": 8,
   "id": "d994885f-8f8b-4c58-b307-1d99ffb0f420",
   "metadata": {},
   "outputs": [],
   "source": [
    "from src.utils.runs import my_query_df\n",
    "from src.config.config import convert_to_dict, flatten"
   ]
  },
  {
   "cell_type": "code",
   "execution_count": 9,
   "id": "6ea453de-cbd7-4a05-8a78-7f5c05bf436f",
   "metadata": {},
   "outputs": [],
   "source": [
    "from src.grid_runner import run_single_train\n",
    "from src.grid_runner import run_single_tune_config\n",
    "from src.config import get_cfg_defaults, combine_cfgs\n",
    "from ray import tune"
   ]
  },
  {
   "cell_type": "code",
   "execution_count": 10,
   "id": "678e8a05-4760-453a-8db4-3b7fbdb4c637",
   "metadata": {},
   "outputs": [],
   "source": [
    "debug = False"
   ]
  },
  {
   "cell_type": "code",
   "execution_count": 11,
   "id": "0def91f3-0388-4e1b-8387-71d3081fb6e0",
   "metadata": {},
   "outputs": [],
   "source": [
    "def get_defrost_score(defrost_df, cfg):\n",
    "    cfg_dict = flatten(convert_to_dict(cfg))\n",
    "    defrost_score = my_query_df(defrost_df, equal_dict={k: cfg_dict[k] for k in ['MODEL.BACKBONE.NAME', 'DATASET.ROI']}).defrost_score.item()\n",
    "    return defrost_score"
   ]
  },
  {
   "cell_type": "code",
   "execution_count": 17,
   "id": "08cdb6a3-0967-4e66-8f11-4f934ee3be43",
   "metadata": {
    "tags": []
   },
   "outputs": [
    {
     "data": {
      "text/html": [
       "== Status ==<br>Current time: 2022-03-11 09:21:51 (running for 00:05:51.82)<br>Memory usage on this node: 15.7/62.7 GiB<br>Using FIFO scheduling algorithm.<br>Resources requested: 0/20 CPUs, 0/2 GPUs, 0.0/36.39 GiB heap, 0.0/18.2 GiB objects (0.0/1.0 accelerator_type:G)<br>Result logdir: /data/huze/ray_results/algonauts2021/algonauts2021_2d_bdcnvgg_multilayer_defrost_WB<br>Number of trials: 1/1 (1 TERMINATED)<br><br>"
      ],
      "text/plain": [
       "<IPython.core.display.HTML object>"
      ]
     },
     "metadata": {},
     "output_type": "display_data"
    },
    {
     "name": "stderr",
     "output_type": "stream",
     "text": [
      "2022-03-11 09:21:51,783\tINFO tune.py:636 -- Total run time: 351.93 seconds (351.82 seconds for the tuning loop).\n"
     ]
    }
   ],
   "source": [
    "analysis_list = []\n",
    "for exp_config in exp_configs:\n",
    "    cfg = combine_cfgs(\n",
    "        path_cfg_data=exp_config,\n",
    "        list_cfg_override=['DEBUG', debug]\n",
    "    )\n",
    "    \n",
    "    name = exp_config.name.replace('.yml', '')\n",
    "    \n",
    "    # defrost_score = get_defrost_score(defrost_df, cfg)\n",
    "    model_defrost_df = defrost_df[defrost_df['MODEL.BACKBONE.NAME'] == cfg.MODEL.BACKBONE.NAME]\n",
    "    \n",
    "    # single-layer 4x4 run\n",
    "    analysis = tune.run(\n",
    "        tune.with_parameters(\n",
    "            run_single_tune_config,\n",
    "            cfg=cfg\n",
    "        ),\n",
    "        config={\n",
    "            'DATASET.ROI': tune.grid_search(['WB']),\n",
    "            'MODEL.BACKBONE.LAYERS': tune.grid_search([[i] for i in cfg.MODEL.BACKBONE.LAYERS]),\n",
    "            'MODEL.NECK.SPP_LEVELS': tune.grid_search([[i] for i in cfg.MODEL.NECK.SPP_LEVELS]),\n",
    "            'MODEL.NECK.FIRST_CONV_SIZE': tune.sample_from(\n",
    "                lambda spec: {1: 2048, 2: 1024, 3: 512, 6: 256, 7: 256, 14: -1, 28: -1, 42: -1, 56: -1}[\n",
    "                    np.max(spec.config['MODEL.NECK.SPP_LEVELS'])]),\n",
    "            'TRAINER.CALLBACKS.BACKBONE.DEFROST_SCORE': tune.sample_from(\n",
    "                lambda spec: model_defrost_df[model_defrost_df['DATASET.ROI'] == spec.config['DATASET.ROI']]['defrost_score'].item())\n",
    "            # tune.grid_search([defrost_score]),\n",
    "        },\n",
    "        local_dir=cfg.RESULTS_DIR,\n",
    "        resources_per_trial={\"cpu\": 4, \"gpu\": 1},\n",
    "        name=name + '_singlelayer_defrost_WB',\n",
    "        verbose=1,\n",
    "        resume='AUTO',\n",
    "    )\n",
    "    analysis_list.append(analysis)\n",
    "    \n",
    "    # multi-layer 1 run\n",
    "    analysis = tune.run(\n",
    "        tune.with_parameters(\n",
    "            run_single_tune_config,\n",
    "            cfg=cfg\n",
    "        ),\n",
    "        config={\n",
    "            'DATASET.ROI': tune.grid_search(['WB']),\n",
    "            'MODEL.BACKBONE.LAYERS': tune.grid_search([cfg.MODEL.BACKBONE.LAYERS]),\n",
    "            'MODEL.NECK.SPP_LEVELS': tune.grid_search([cfg.MODEL.NECK.SPP_LEVELS]),\n",
    "            'MODEL.NECK.FIRST_CONV_SIZE': tune.sample_from(\n",
    "                lambda spec: {1: 2048, 2: 1024, 3: 512, 6: 256, 7: 256, 14: -1, 28: -1, 42: -1, 56: -1}[\n",
    "                    np.max(spec.config['MODEL.NECK.SPP_LEVELS'])]),\n",
    "            'TRAINER.CALLBACKS.BACKBONE.DEFROST_SCORE': tune.sample_from(\n",
    "                lambda spec: model_defrost_df[model_defrost_df['DATASET.ROI'] == spec.config['DATASET.ROI']]['defrost_score'].item())\n",
    "            # tune.grid_search([defrost_score]),\n",
    "        },\n",
    "        local_dir=cfg.RESULTS_DIR,\n",
    "        resources_per_trial={\"cpu\": 4, \"gpu\": 1},\n",
    "        name=name + '_multilayer_defrost_WB',\n",
    "        verbose=1,\n",
    "        resume='AUTO',\n",
    "    )\n",
    "    analysis_list.append(analysis)\n"
   ]
  },
  {
   "cell_type": "code",
   "execution_count": null,
   "id": "2ea50c25-3920-43cb-a89a-619e9a0ffd6f",
   "metadata": {},
   "outputs": [],
   "source": []
  }
 ],
 "metadata": {
  "kernelspec": {
   "display_name": "Python 3 (ipykernel)",
   "language": "python",
   "name": "python3"
  },
  "language_info": {
   "codemirror_mode": {
    "name": "ipython",
    "version": 3
   },
   "file_extension": ".py",
   "mimetype": "text/x-python",
   "name": "python",
   "nbconvert_exporter": "python",
   "pygments_lexer": "ipython3",
   "version": "3.8.8"
  },
  "widgets": {
   "application/vnd.jupyter.widget-state+json": {
    "state": {},
    "version_major": 2,
    "version_minor": 0
   }
  }
 },
 "nbformat": 4,
 "nbformat_minor": 5
}
