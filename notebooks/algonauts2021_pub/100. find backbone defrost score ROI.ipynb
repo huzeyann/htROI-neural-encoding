{
 "cells": [
  {
   "cell_type": "code",
   "execution_count": null,
   "id": "80904203-97a4-4f5f-b3b1-78f0610401c9",
   "metadata": {},
   "outputs": [],
   "source": []
  },
  {
   "cell_type": "code",
   "execution_count": 2,
   "id": "59ef29ab-02c9-41db-8c39-326d898a7fc8",
   "metadata": {},
   "outputs": [
    {
     "data": {
      "text/plain": [
       "True"
      ]
     },
     "execution_count": 2,
     "metadata": {},
     "output_type": "execute_result"
    }
   ],
   "source": [
    "import numpy as np\n",
    "import torch\n",
    "\n",
    "from tqdm.auto import tqdm\n",
    "from pathlib import Path\n",
    "\n",
    "import itertools\n",
    "\n",
    "import os\n",
    "from dotenv import find_dotenv, load_dotenv\n",
    "\n",
    "load_dotenv(find_dotenv(), verbose=True)"
   ]
  },
  {
   "cell_type": "code",
   "execution_count": 3,
   "id": "a561b9e9-cef6-4117-8aca-7c708364a9af",
   "metadata": {},
   "outputs": [],
   "source": [
    "!rm -r /home/huze/.cache/checkpoints"
   ]
  },
  {
   "cell_type": "code",
   "execution_count": 4,
   "id": "ec1a5155-6f14-475b-89e7-4832d440abeb",
   "metadata": {},
   "outputs": [],
   "source": [
    "exp_configs = [p for p in Path('../../src/config/experiments/algonauts2021/').iterdir() if p.name.endswith('.yml')]"
   ]
  },
  {
   "cell_type": "code",
   "execution_count": 5,
   "id": "f884996b-31fe-491f-96a2-d91ff81bc18f",
   "metadata": {},
   "outputs": [
    {
     "data": {
      "text/plain": [
       "[PosixPath('../../src/config/experiments/algonauts2021/algonauts2021_2d_segswin.yml'),\n",
       " PosixPath('../../src/config/experiments/algonauts2021/algonauts2021_2d_simclr.yml'),\n",
       " PosixPath('../../src/config/experiments/algonauts2021/algonauts2021_2d_pyconvsegnet.yml'),\n",
       " PosixPath('../../src/config/experiments/algonauts2021/algonauts2021_2d_mobyswin.yml'),\n",
       " PosixPath('../../src/config/experiments/algonauts2021/algonauts2021_2d_bdcnvgg.yml'),\n",
       " PosixPath('../../src/config/experiments/algonauts2021/algonauts2021_3d_resnet.yml'),\n",
       " PosixPath('../../src/config/experiments/algonauts2021/algonauts2021_2d_densnet.yml'),\n",
       " PosixPath('../../src/config/experiments/algonauts2021/algonauts2021_2d_colorizer.yml'),\n",
       " PosixPath('../../src/config/experiments/algonauts2021/algonauts2021_audio_vgg.yml'),\n",
       " PosixPath('../../src/config/experiments/algonauts2021/algonauts2021_3d_flow.yml'),\n",
       " PosixPath('../../src/config/experiments/algonauts2021/algonauts2021_3d_swin.yml')]"
      ]
     },
     "execution_count": 5,
     "metadata": {},
     "output_type": "execute_result"
    }
   ],
   "source": [
    "exp_configs"
   ]
  },
  {
   "cell_type": "code",
   "execution_count": 6,
   "id": "059e5d98-83ea-4f34-a43d-edbe1a56adf9",
   "metadata": {},
   "outputs": [
    {
     "data": {
      "text/plain": [
       "'/data/huze/ray_results/algonauts2021/'"
      ]
     },
     "execution_count": 6,
     "metadata": {},
     "output_type": "execute_result"
    }
   ],
   "source": [
    "os.environ['RESULTS_DIR']"
   ]
  },
  {
   "cell_type": "raw",
   "id": "7bcf9390-65d6-4d28-bd99-b2f545433ee7",
   "metadata": {},
   "source": [
    "!mkdir /data/huze/ray_results/archieve"
   ]
  },
  {
   "cell_type": "raw",
   "id": "8aed4121-7671-4a9b-845e-529dfdf5ad1f",
   "metadata": {},
   "source": [
    "mv /data/huze/ray_results/algonauts2021/algonauts2021_2d_colorizer_singlelayer_defrost_WB /data/huze/ray_results/archieve/"
   ]
  },
  {
   "cell_type": "raw",
   "id": "8373945d-2107-4b86-b6a6-5f02f3e22576",
   "metadata": {},
   "source": [
    "ll /data/huze/ray_results/algonauts2021/"
   ]
  },
  {
   "cell_type": "raw",
   "id": "588dc24f-b90f-465e-b426-a49071ce3675",
   "metadata": {},
   "source": [
    "rm -r /data/huze/ray_results/algonauts2021/algonauts2021_2d_colorizer_multilayer_freeze_WB/"
   ]
  },
  {
   "cell_type": "code",
   "execution_count": 7,
   "id": "b04684d3-00d9-44f4-91ab-4c7321f1e5cb",
   "metadata": {},
   "outputs": [],
   "source": [
    "from src.grid_runner import run_single_train\n",
    "from src.grid_runner import run_single_tune_config\n",
    "from src.config import get_cfg_defaults, combine_cfgs\n",
    "from ray import tune"
   ]
  },
  {
   "cell_type": "code",
   "execution_count": 8,
   "id": "898c226c-9c34-4d1f-83f9-415a17210f1e",
   "metadata": {},
   "outputs": [],
   "source": [
    "debug = False"
   ]
  },
  {
   "cell_type": "code",
   "execution_count": 9,
   "id": "afe2ac5b-53a7-4ae5-b164-e7c2749a2aa3",
   "metadata": {},
   "outputs": [
    {
     "data": {
      "text/html": [
       "== Status ==<br>Current time: 2022-03-19 02:37:25 (running for 00:00:00.01)<br>Memory usage on this node: 3.7/62.7 GiB<br>Using FIFO scheduling algorithm.<br>Resources requested: 0/20 CPUs, 0/2 GPUs, 0.0/36.46 GiB heap, 0.0/18.23 GiB objects<br>Result logdir: /data/huze/ray_results/algonauts2021/algonauts2021_3d_swin_multilayer_freeze_anatomicalROI<br>Number of trials: 10/10 (10 TERMINATED)<br><br>"
      ],
      "text/plain": [
       "<IPython.core.display.HTML object>"
      ]
     },
     "metadata": {},
     "output_type": "display_data"
    },
    {
     "name": "stderr",
     "output_type": "stream",
     "text": [
      "2022-03-19 02:37:25,809\tINFO tune.py:636 -- Total run time: 0.13 seconds (0.00 seconds for the tuning loop).\n"
     ]
    }
   ],
   "source": [
    "# anatomical rois\n",
    "\n",
    "analysis_list = []\n",
    "for exp_config in exp_configs:\n",
    "    cfg = combine_cfgs(\n",
    "        path_cfg_data=exp_config,\n",
    "        list_cfg_override=['DEBUG', debug]\n",
    "    )\n",
    "    \n",
    "    name = exp_config.name.replace('.yml', '')\n",
    "\n",
    "    # multi-layer 1 run for each ROI\n",
    "    analysis = tune.run(\n",
    "        tune.with_parameters(\n",
    "            run_single_tune_config,\n",
    "            cfg=cfg\n",
    "        ),\n",
    "        config={\n",
    "            'DATASET.ROI': tune.grid_search(['LOC', 'FFA', 'STS', 'EBA', 'PPA', 'V1', 'V2', 'V3', 'V4', 'REST']),\n",
    "            'TRAINER.CALLBACKS.BACKBONE.DEFROST_SCORE': tune.grid_search([1.]),\n",
    "        },\n",
    "        local_dir=cfg.RESULTS_DIR,\n",
    "        resources_per_trial={\"cpu\": 4, \"gpu\": 1},\n",
    "        name=name + '_multilayer_freeze_anatomicalROI',\n",
    "        verbose=1,\n",
    "        resume='AUTO',\n",
    "    )\n",
    "    analysis_list.append(analysis)"
   ]
  },
  {
   "cell_type": "code",
   "execution_count": 10,
   "id": "8a71611e-244d-4075-b772-d708b244955b",
   "metadata": {},
   "outputs": [
    {
     "data": {
      "text/html": [
       "== Status ==<br>Current time: 2022-03-19 09:02:43 (running for 00:42:40.15)<br>Memory usage on this node: 11.7/62.7 GiB<br>Using FIFO scheduling algorithm.<br>Resources requested: 0/20 CPUs, 0/2 GPUs, 0.0/36.46 GiB heap, 0.0/18.23 GiB objects<br>Result logdir: /data/huze/ray_results/algonauts2021/algonauts2021_3d_swin_multilayer_freeze_htROI<br>Number of trials: 8/8 (8 TERMINATED)<br><br>"
      ],
      "text/plain": [
       "<IPython.core.display.HTML object>"
      ]
     },
     "metadata": {},
     "output_type": "display_data"
    },
    {
     "name": "stderr",
     "output_type": "stream",
     "text": [
      "2022-03-19 09:02:43,840\tINFO tune.py:636 -- Total run time: 2560.26 seconds (2560.14 seconds for the tuning loop).\n"
     ]
    }
   ],
   "source": [
    "# my rois\n",
    "\n",
    "analysis_list = []\n",
    "for exp_config in exp_configs:\n",
    "    cfg = combine_cfgs(\n",
    "        path_cfg_data=exp_config,\n",
    "        list_cfg_override=['DEBUG', debug]\n",
    "    )\n",
    "    \n",
    "    name = exp_config.name.replace('.yml', '')\n",
    "\n",
    "    # multi-layer 1 run for each ROI\n",
    "    analysis = tune.run(\n",
    "        tune.with_parameters(\n",
    "            run_single_tune_config,\n",
    "            cfg=cfg\n",
    "        ),\n",
    "        config={\n",
    "            'DATASET.ROI': tune.grid_search([f'S-htROI{i+1}' for i in range(8)]),\n",
    "            'TRAINER.CALLBACKS.BACKBONE.DEFROST_SCORE': tune.grid_search([1.]),\n",
    "        },\n",
    "        local_dir=cfg.RESULTS_DIR,\n",
    "        resources_per_trial={\"cpu\": 4, \"gpu\": 1},\n",
    "        name=name + '_multilayer_freeze_htROI',\n",
    "        verbose=1,\n",
    "        resume='AUTO',\n",
    "    )\n",
    "    analysis_list.append(analysis)"
   ]
  },
  {
   "cell_type": "code",
   "execution_count": null,
   "id": "5e5bad5c-d104-4179-b2b8-396dc040ec6e",
   "metadata": {},
   "outputs": [],
   "source": []
  },
  {
   "cell_type": "code",
   "execution_count": 38,
   "id": "5336015d-9554-4785-b5ca-f89c17c07436",
   "metadata": {},
   "outputs": [
    {
     "name": "stderr",
     "output_type": "stream",
     "text": [
      "E0322 02:24:53.737594223  273619 fork_posix.cc:70]           Fork support is only compatible with the epoll1 and poll polling strategies\n"
     ]
    }
   ],
   "source": [
    "rm /home/huze/Algonauts_2021_data/voxel_indexs/*htROI*"
   ]
  },
  {
   "cell_type": "code",
   "execution_count": 39,
   "id": "4b1d4b79-7906-4737-8c0b-c63a0f44722b",
   "metadata": {},
   "outputs": [
    {
     "name": "stderr",
     "output_type": "stream",
     "text": [
      "E0322 02:24:55.248728911  273619 fork_posix.cc:70]           Fork support is only compatible with the epoll1 and poll polling strategies\n"
     ]
    }
   ],
   "source": [
    "!cp tmp/notebook012/*htROI* /home/huze/Algonauts_2021_data/voxel_indexs/"
   ]
  },
  {
   "cell_type": "code",
   "execution_count": 24,
   "id": "700bc4db-f350-4bbf-a8b3-984ec7d15585",
   "metadata": {},
   "outputs": [
    {
     "data": {
      "text/html": [
       "== Status ==<br>Current time: 2022-03-21 12:08:03 (running for 00:18:48.84)<br>Memory usage on this node: 15.3/62.7 GiB<br>Using FIFO scheduling algorithm.<br>Resources requested: 0/20 CPUs, 0/2 GPUs, 0.0/36.46 GiB heap, 0.0/18.23 GiB objects<br>Result logdir: /data/huze/ray_results/algonauts2021/algonauts2021_3d_resnet_multilayer_freeze_htROI_ablation<br>Number of trials: 8/8 (8 TERMINATED)<br><br>"
      ],
      "text/plain": [
       "<IPython.core.display.HTML object>"
      ]
     },
     "metadata": {},
     "output_type": "display_data"
    },
    {
     "name": "stderr",
     "output_type": "stream",
     "text": [
      "2022-03-21 12:08:04,007\tINFO tune.py:636 -- Total run time: 1128.95 seconds (1128.84 seconds for the tuning loop).\n"
     ]
    }
   ],
   "source": [
    "# ablation htROI\n",
    "\n",
    "rois = ['XS-htROI4', 'XS-htROI5', 'XS-htROI6', 'XS-htROI7', 'XS-htROI8', 'XS-htROI9', 'M-htROI3', 'L-htROI3']\n",
    "\n",
    "analysis_list = []\n",
    "exp_config = Path('../../src/config/experiments/algonauts2021/algonauts2021_3d_resnet.yml')\n",
    "cfg = combine_cfgs(\n",
    "    path_cfg_data=exp_config,\n",
    "    list_cfg_override=['DEBUG', debug]\n",
    ")\n",
    "\n",
    "name = exp_config.name.replace('.yml', '')\n",
    "\n",
    "# multi-layer 1 run for each ROI\n",
    "analysis = tune.run(\n",
    "    tune.with_parameters(\n",
    "        run_single_tune_config,\n",
    "        cfg=cfg\n",
    "    ),\n",
    "    config={\n",
    "        'DATASET.ROI': tune.grid_search(rois),\n",
    "        'TRAINER.CALLBACKS.BACKBONE.DEFROST_SCORE': tune.grid_search([1.]),\n",
    "    },\n",
    "    local_dir=cfg.RESULTS_DIR,\n",
    "    resources_per_trial={\"cpu\": 4, \"gpu\": 1},\n",
    "    name=name + '_multilayer_freeze_htROI_ablation',\n",
    "    verbose=1,\n",
    "    resume='AUTO',\n",
    ")\n",
    "analysis_list.append(analysis)"
   ]
  },
  {
   "cell_type": "code",
   "execution_count": 45,
   "id": "d7a3c4b6-8b95-4d34-a20a-63bdab35256d",
   "metadata": {},
   "outputs": [],
   "source": [
    "exp_config = Path('../../src/config/experiments/algonauts2021/algonauts2021_3d_resnet.yml')\n",
    "cfg = combine_cfgs(\n",
    "    path_cfg_data=exp_config,\n",
    "    list_cfg_override=['DEBUG', debug]\n",
    ")\n",
    "\n",
    "voxel_indices_dir = Path('/home/huze/Algonauts_2021_data/voxel_indexs/')\n",
    "\n",
    "rois = [p.name.replace('.pt', '') for p in voxel_indices_dir.glob(f'*{cfg.MODEL.BACKBONE.NAME}*')]"
   ]
  },
  {
   "cell_type": "code",
   "execution_count": 46,
   "id": "c1af79f1-a66a-43c2-8c0e-0cf3b279d781",
   "metadata": {},
   "outputs": [
    {
     "data": {
      "text/plain": [
       "['i3d_rgb_htROI5',\n",
       " 'i3d_rgb_htROI2',\n",
       " 'i3d_rgb_htROI6',\n",
       " 'i3d_rgb_htROI4',\n",
       " 'i3d_rgb_htROI3',\n",
       " 'i3d_rgb_htROI1']"
      ]
     },
     "execution_count": 46,
     "metadata": {},
     "output_type": "execute_result"
    }
   ],
   "source": [
    "rois"
   ]
  },
  {
   "cell_type": "code",
   "execution_count": 62,
   "id": "00032b9c-6ef5-4d78-a796-3737d3dadf32",
   "metadata": {},
   "outputs": [
    {
     "data": {
      "text/html": [
       "== Status ==<br>Current time: 2022-03-25 07:43:03 (running for 00:09:54.25)<br>Memory usage on this node: 14.9/62.7 GiB<br>Using FIFO scheduling algorithm.<br>Resources requested: 8.0/20 CPUs, 2.0/2 GPUs, 0.0/36.46 GiB heap, 0.0/18.23 GiB objects<br>Result logdir: /data/huze/ray_results/algonauts2021/algonauts2021_3d_flow_multilayer_freeze_htROI_match<br>Number of trials: 7/7 (4 PENDING, 2 RUNNING, 1 TERMINATED)<br><br>"
      ],
      "text/plain": [
       "<IPython.core.display.HTML object>"
      ]
     },
     "metadata": {},
     "output_type": "display_data"
    },
    {
     "name": "stdout",
     "output_type": "stream",
     "text": [
      "Epoch 14:  55%|█████▌    | 138/250 [00:21<00:17,  6.42it/s, loss=0.181, v_num=., val_mse_loss/final=0.194, val_corr=0.0195, hp_metric=0.0236, train_mse_loss/final=0.186]\n"
     ]
    },
    {
     "name": "stderr",
     "output_type": "stream",
     "text": [
      "\n",
      "KeyboardInterrupt\n",
      "\n"
     ]
    }
   ],
   "source": [
    "# ablation model-match\n",
    "\n",
    "analysis_list = []\n",
    "for exp_config in exp_configs[::-1]:\n",
    "    # exp_config = Path('../../src/config/experiments/algonauts2021/algonauts2021_3d_resnet.yml')\n",
    "    cfg = combine_cfgs(\n",
    "        path_cfg_data=exp_config,\n",
    "        list_cfg_override=['DEBUG', debug]\n",
    "    )\n",
    "\n",
    "    voxel_indices_dir = Path('/home/huze/Algonauts_2021_data/voxel_indexs/')\n",
    "\n",
    "    rois = [p.name.replace('.pt', '') for p in voxel_indices_dir.glob(f'*{cfg.MODEL.BACKBONE.NAME}*')]\n",
    "\n",
    "    name = exp_config.name.replace('.yml', '')\n",
    "\n",
    "    # multi-layer 1 run for each ROI\n",
    "    analysis = tune.run(\n",
    "        tune.with_parameters(\n",
    "            run_single_tune_config,\n",
    "            cfg=cfg\n",
    "        ),\n",
    "        config={\n",
    "            'DATASET.ROI': tune.grid_search(rois),\n",
    "            'TRAINER.CALLBACKS.BACKBONE.DEFROST_SCORE': tune.grid_search([1.]),\n",
    "        },\n",
    "        local_dir=cfg.RESULTS_DIR,\n",
    "        resources_per_trial={\"cpu\": 4, \"gpu\": 1},\n",
    "        name=name + '_multilayer_freeze_htROI_match',\n",
    "        verbose=1,\n",
    "        resume='AUTO',\n",
    "    )\n",
    "    analysis_list.append(analysis)"
   ]
  },
  {
   "cell_type": "code",
   "execution_count": 60,
   "id": "985f8d38-487a-4d03-a8e1-87fa8fa1740f",
   "metadata": {},
   "outputs": [
    {
     "name": "stdout",
     "output_type": "stream",
     "text": [
      "['i3d_rgb_htROI5', 'i3d_rgb_htROI2', 'i3d_rgb_htROI6', 'i3d_rgb_htROI4', 'i3d_rgb_htROI3', 'i3d_rgb_htROI1']\n"
     ]
    }
   ],
   "source": [
    "print(rois)"
   ]
  },
  {
   "cell_type": "code",
   "execution_count": 26,
   "id": "20f40fa5-fe14-4fca-94a9-66fd8efe6823",
   "metadata": {},
   "outputs": [
    {
     "name": "stdout",
     "output_type": "stream",
     "text": [
      "total 876\n",
      "drwxrwxr-x  12 huze  4096 Mar 19 02:29 \u001b[0m\u001b[01;34malgonauts2021_2d_bdcnvgg_multilayer_defrost_anatomicalROI\u001b[0m/\n",
      "drwxrwxr-x  12 huze  4096 Mar 19 02:37 \u001b[01;34malgonauts2021_2d_bdcnvgg_multilayer_freeze_anatomicalROI\u001b[0m/\n",
      "drwxrwxr-x  10 huze  4096 Mar 19 06:23 \u001b[01;34malgonauts2021_2d_bdcnvgg_multilayer_freeze_htROI\u001b[0m/\n",
      "drwxrwxr-x 162 huze 36864 Mar 19 02:14 \u001b[01;34malgonauts2021_2d_bdcnvgg_singlelayer_defrost_anatomicalROI\u001b[0m/\n",
      "drwxrwxr-x  12 huze  4096 Mar 18 23:12 \u001b[01;34malgonauts2021_2d_colorizer_multilayer_defrost_anatomicalROI\u001b[0m/\n",
      "drwxrwxr-x  12 huze  4096 Mar 19 02:37 \u001b[01;34malgonauts2021_2d_colorizer_multilayer_freeze_anatomicalROI\u001b[0m/\n",
      "drwxrwxr-x  10 huze  4096 Mar 19 07:34 \u001b[01;34malgonauts2021_2d_colorizer_multilayer_freeze_htROI\u001b[0m/\n",
      "drwxrwxr-x 162 huze 45056 Mar 18 23:12 \u001b[01;34malgonauts2021_2d_colorizer_singlelayer_defrost_anatomicalROI\u001b[0m/\n",
      "drwxrwxr-x  12 huze  4096 Mar 18 23:12 \u001b[01;34malgonauts2021_2d_densnet_multilayer_defrost_anatomicalROI\u001b[0m/\n",
      "drwxrwxr-x  12 huze  4096 Mar 19 02:37 \u001b[01;34malgonauts2021_2d_densnet_multilayer_freeze_anatomicalROI\u001b[0m/\n",
      "drwxrwxr-x  10 huze  4096 Mar 19 07:23 \u001b[01;34malgonauts2021_2d_densnet_multilayer_freeze_htROI\u001b[0m/\n",
      "drwxrwxr-x 162 huze 40960 Mar 18 23:12 \u001b[01;34malgonauts2021_2d_densnet_singlelayer_defrost_anatomicalROI\u001b[0m/\n",
      "drwxrwxr-x  12 huze  4096 Mar 18 23:12 \u001b[01;34malgonauts2021_2d_mobyswin_multilayer_defrost_anatomicalROI\u001b[0m/\n",
      "drwxrwxr-x   2 huze  4096 Mar 21 11:44 \u001b[01;34malgonauts2021_2d_mobyswin_multilayer_defrost_htROI\u001b[0m/\n",
      "drwxrwxr-x  12 huze  4096 Mar 19 02:37 \u001b[01;34malgonauts2021_2d_mobyswin_multilayer_freeze_anatomicalROI\u001b[0m/\n",
      "drwxrwxr-x  10 huze  4096 Mar 19 06:14 \u001b[01;34malgonauts2021_2d_mobyswin_multilayer_freeze_htROI\u001b[0m/\n",
      "drwxrwxr-x 162 huze 45056 Mar 18 23:12 \u001b[01;34malgonauts2021_2d_mobyswin_singlelayer_defrost_anatomicalROI\u001b[0m/\n",
      "drwxrwxr-x   3 huze  4096 Mar 21 11:44 \u001b[01;34malgonauts2021_2d_mobyswin_singlelayer_defrost_htROI\u001b[0m/\n",
      "drwxrwxr-x  12 huze  4096 Mar 18 23:12 \u001b[01;34malgonauts2021_2d_pyconvsegnet_multilayer_defrost_anatomicalROI\u001b[0m\u001b[K/\n",
      "drwxrwxr-x   3 huze  4096 Mar 21 11:44 \u001b[01;34malgonauts2021_2d_pyconvsegnet_multilayer_defrost_htROI\u001b[0m/\n",
      "drwxrwxr-x  12 huze  4096 Mar 19 02:37 \u001b[01;34malgonauts2021_2d_pyconvsegnet_multilayer_freeze_anatomicalROI\u001b[0m/\n",
      "drwxrwxr-x  10 huze  4096 Mar 19 05:48 \u001b[01;34malgonauts2021_2d_pyconvsegnet_multilayer_freeze_htROI\u001b[0m/\n",
      "drwxrwxr-x 162 huze 36864 Mar 18 23:12 \u001b[01;34malgonauts2021_2d_pyconvsegnet_singlelayer_defrost_anatomicalROI\u001b[0m\u001b[K/\n",
      "drwxrwxr-x   5 huze  4096 Mar 21 11:43 \u001b[01;34malgonauts2021_2d_pyconvsegnet_singlelayer_defrost_htROI\u001b[0m/\n",
      "drwxrwxr-x  12 huze  4096 Mar 18 23:12 \u001b[01;34malgonauts2021_2d_segswin_multilayer_defrost_anatomicalROI\u001b[0m/\n",
      "drwxrwxr-x   3 huze  4096 Mar 21 11:42 \u001b[01;34malgonauts2021_2d_segswin_multilayer_defrost_htROI\u001b[0m/\n",
      "drwxrwxr-x  12 huze  4096 Mar 19 02:37 \u001b[01;34malgonauts2021_2d_segswin_multilayer_freeze_anatomicalROI\u001b[0m/\n",
      "drwxrwxr-x  10 huze  4096 Mar 19 03:21 \u001b[01;34malgonauts2021_2d_segswin_multilayer_freeze_htROI\u001b[0m/\n",
      "drwxrwxr-x 162 huze 40960 Mar 18 23:12 \u001b[01;34malgonauts2021_2d_segswin_singlelayer_defrost_anatomicalROI\u001b[0m/\n",
      "drwxrwxr-x  53 huze 16384 Mar 21 11:42 \u001b[01;34malgonauts2021_2d_segswin_singlelayer_defrost_htROI\u001b[0m/\n",
      "drwxrwxr-x  12 huze  4096 Mar 18 23:12 \u001b[01;34malgonauts2021_2d_simclr_multilayer_defrost_anatomicalROI\u001b[0m/\n",
      "drwxrwxr-x  10 huze  4096 Mar 21 06:44 \u001b[01;34malgonauts2021_2d_simclr_multilayer_defrost_htROI\u001b[0m/\n",
      "drwxrwxr-x  12 huze  4096 Mar 19 02:37 \u001b[01;34malgonauts2021_2d_simclr_multilayer_freeze_anatomicalROI\u001b[0m/\n",
      "drwxrwxr-x  10 huze  4096 Mar 19 04:13 \u001b[01;34malgonauts2021_2d_simclr_multilayer_freeze_htROI\u001b[0m/\n",
      "drwxrwxr-x 162 huze 40960 Mar 18 23:12 \u001b[01;34malgonauts2021_2d_simclr_singlelayer_defrost_anatomicalROI\u001b[0m/\n",
      "drwxrwxr-x 130 huze 36864 Mar 21 05:51 \u001b[01;34malgonauts2021_2d_simclr_singlelayer_defrost_htROI\u001b[0m/\n",
      "drwxrwxr-x  12 huze  4096 Mar 18 23:12 \u001b[01;34malgonauts2021_3d_flow_multilayer_defrost_anatomicalROI\u001b[0m/\n",
      "drwxrwxr-x  10 huze  4096 Mar 20 20:28 \u001b[01;34malgonauts2021_3d_flow_multilayer_defrost_htROI\u001b[0m/\n",
      "drwxrwxr-x  12 huze  4096 Mar 19 02:37 \u001b[01;34malgonauts2021_3d_flow_multilayer_freeze_anatomicalROI\u001b[0m/\n",
      "drwxrwxr-x  10 huze  4096 Mar 19 08:20 \u001b[01;34malgonauts2021_3d_flow_multilayer_freeze_htROI\u001b[0m/\n",
      "drwxrwxr-x 162 huze 40960 Mar 18 23:12 \u001b[01;34malgonauts2021_3d_flow_singlelayer_defrost_anatomicalROI\u001b[0m/\n",
      "drwxrwxr-x 130 huze 28672 Mar 20 19:43 \u001b[01;34malgonauts2021_3d_flow_singlelayer_defrost_htROI\u001b[0m/\n",
      "drwxrwxr-x  12 huze  4096 Mar 18 23:12 \u001b[01;34malgonauts2021_3d_resnet_multilayer_defrost_anatomicalROI\u001b[0m/\n",
      "drwxrwxr-x  10 huze  4096 Mar 20 07:59 \u001b[01;34malgonauts2021_3d_resnet_multilayer_defrost_htROI\u001b[0m/\n",
      "drwxrwxr-x  12 huze  4096 Mar 19 02:37 \u001b[01;34malgonauts2021_3d_resnet_multilayer_freeze_anatomicalROI\u001b[0m/\n",
      "drwxrwxr-x  10 huze  4096 Mar 19 06:41 \u001b[01;34malgonauts2021_3d_resnet_multilayer_freeze_htROI\u001b[0m/\n",
      "drwxrwxr-x  10 huze  4096 Mar 21 12:08 \u001b[01;34malgonauts2021_3d_resnet_multilayer_freeze_htROI_ablation\u001b[0m/\n",
      "drwxrwxr-x 162 huze 45056 Mar 18 23:12 \u001b[01;34malgonauts2021_3d_resnet_singlelayer_defrost_anatomicalROI\u001b[0m/\n",
      "drwxrwxr-x 130 huze 36864 Mar 20 07:35 \u001b[01;34malgonauts2021_3d_resnet_singlelayer_defrost_htROI\u001b[0m/\n",
      "drwxrwxr-x  12 huze  4096 Mar 18 23:12 \u001b[01;34malgonauts2021_3d_swin_multilayer_defrost_anatomicalROI\u001b[0m/\n",
      "drwxrwxr-x  10 huze  4096 Mar 20 01:39 \u001b[01;34malgonauts2021_3d_swin_multilayer_defrost_htROI\u001b[0m/\n",
      "drwxrwxr-x  12 huze  4096 Mar 19 02:37 \u001b[01;34malgonauts2021_3d_swin_multilayer_freeze_anatomicalROI\u001b[0m/\n",
      "drwxrwxr-x  10 huze  4096 Mar 19 09:02 \u001b[01;34malgonauts2021_3d_swin_multilayer_freeze_htROI\u001b[0m/\n",
      "drwxrwxr-x 162 huze 40960 Mar 18 23:12 \u001b[01;34malgonauts2021_3d_swin_singlelayer_defrost_anatomicalROI\u001b[0m/\n",
      "drwxrwxr-x 130 huze 32768 Mar 20 00:24 \u001b[01;34malgonauts2021_3d_swin_singlelayer_defrost_htROI\u001b[0m/\n",
      "drwxrwxr-x  12 huze  4096 Mar 18 23:12 \u001b[01;34malgonauts2021_audio_vgg_multilayer_defrost_anatomicalROI\u001b[0m/\n",
      "drwxrwxr-x  10 huze  4096 Mar 19 10:57 \u001b[01;34malgonauts2021_audio_vgg_multilayer_defrost_htROI\u001b[0m/\n",
      "drwxrwxr-x  12 huze  4096 Mar 19 02:37 \u001b[01;34malgonauts2021_audio_vgg_multilayer_freeze_anatomicalROI\u001b[0m/\n",
      "drwxrwxr-x  10 huze  4096 Mar 19 07:40 \u001b[01;34malgonauts2021_audio_vgg_multilayer_freeze_htROI\u001b[0m/\n",
      "drwxrwxr-x 202 huze 49152 Mar 18 23:12 \u001b[01;34malgonauts2021_audio_vgg_singlelayer_defrost_anatomicalROI\u001b[0m/\n",
      "drwxrwxr-x 162 huze 45056 Mar 19 10:52 \u001b[01;34malgonauts2021_audio_vgg_singlelayer_defrost_htROI\u001b[0m/\n"
     ]
    },
    {
     "name": "stderr",
     "output_type": "stream",
     "text": [
      "E0321 12:11:58.818262897  273619 fork_posix.cc:70]           Fork support is only compatible with the epoll1 and poll polling strategies\n"
     ]
    }
   ],
   "source": [
    "ll /data/huze/ray_results/algonauts2021/"
   ]
  },
  {
   "cell_type": "code",
   "execution_count": null,
   "id": "965b79e5-00d5-450e-8366-83d7c4b202a2",
   "metadata": {},
   "outputs": [],
   "source": []
  },
  {
   "cell_type": "code",
   "execution_count": 63,
   "id": "578f2196-cdce-40c5-bdc4-4fc56dd0432f",
   "metadata": {},
   "outputs": [],
   "source": [
    "# load result df and find backbone deforest score"
   ]
  },
  {
   "cell_type": "code",
   "execution_count": 64,
   "id": "3e9dceeb-ed52-4938-b1aa-4387da15b257",
   "metadata": {},
   "outputs": [],
   "source": [
    "from src.utils.runs import load_run_df, filter_multi_layer_runs, filter_single_layer_runs, my_query_df"
   ]
  },
  {
   "cell_type": "code",
   "execution_count": 65,
   "id": "da917bbf-e030-41ca-979d-a12aa27106b0",
   "metadata": {},
   "outputs": [
    {
     "data": {
      "application/vnd.jupyter.widget-view+json": {
       "model_id": "30645600cc5240f1a187d05f0c5e327e",
       "version_major": 2,
       "version_minor": 0
      },
      "text/plain": [
       "  0%|          | 0/3814 [00:00<?, ?it/s]"
      ]
     },
     "metadata": {},
     "output_type": "display_data"
    }
   ],
   "source": [
    "run_df = load_run_df(cfg.RESULTS_DIR)"
   ]
  },
  {
   "cell_type": "code",
   "execution_count": 66,
   "id": "e933642e-f96e-4451-af17-f0970be99e00",
   "metadata": {},
   "outputs": [],
   "source": [
    "run_df = filter_multi_layer_runs(run_df)\n",
    "run_df = my_query_df(run_df, equal_dict={'TRAINER.CALLBACKS.BACKBONE.DEFROST_SCORE': 1.0})"
   ]
  },
  {
   "cell_type": "code",
   "execution_count": 67,
   "id": "32553181-6b30-4776-8af4-9b08ec9cb0d7",
   "metadata": {},
   "outputs": [],
   "source": [
    "df = run_df[['MODEL.BACKBONE.NAME', 'DATASET.ROI', 'score']]"
   ]
  },
  {
   "cell_type": "code",
   "execution_count": 68,
   "id": "9c174920-026a-49f3-98e8-c68e62e5ab17",
   "metadata": {},
   "outputs": [],
   "source": [
    "from src.utils.runs import mahou_list"
   ]
  },
  {
   "cell_type": "code",
   "execution_count": 69,
   "id": "06c4be27-d299-4d71-a68f-21a8b4bc112c",
   "metadata": {},
   "outputs": [],
   "source": [
    "defrost_df = df.copy()\n",
    "minlestone_p = 0.5\n",
    "defrost_df['defrost_score'] = defrost_df['score'].apply(lambda x: mahou_list(minlestone_p * x))"
   ]
  },
  {
   "cell_type": "code",
   "execution_count": 70,
   "id": "25b501f3-7c85-44c9-97b6-17f311175ec9",
   "metadata": {},
   "outputs": [
    {
     "data": {
      "text/html": [
       "<div>\n",
       "<style scoped>\n",
       "    .dataframe tbody tr th:only-of-type {\n",
       "        vertical-align: middle;\n",
       "    }\n",
       "\n",
       "    .dataframe tbody tr th {\n",
       "        vertical-align: top;\n",
       "    }\n",
       "\n",
       "    .dataframe thead th {\n",
       "        text-align: right;\n",
       "    }\n",
       "</style>\n",
       "<table border=\"1\" class=\"dataframe\">\n",
       "  <thead>\n",
       "    <tr style=\"text-align: right;\">\n",
       "      <th></th>\n",
       "      <th>MODEL.BACKBONE.NAME</th>\n",
       "      <th>DATASET.ROI</th>\n",
       "      <th>score</th>\n",
       "      <th>defrost_score</th>\n",
       "    </tr>\n",
       "  </thead>\n",
       "  <tbody>\n",
       "    <tr>\n",
       "      <th>0</th>\n",
       "      <td>i3d_flow</td>\n",
       "      <td>i3d_flow_htROI1</td>\n",
       "      <td>0.206220</td>\n",
       "      <td>0.102</td>\n",
       "    </tr>\n",
       "    <tr>\n",
       "      <th>9</th>\n",
       "      <td>i3d_flow</td>\n",
       "      <td>S-htROI4</td>\n",
       "      <td>0.076862</td>\n",
       "      <td>0.039</td>\n",
       "    </tr>\n",
       "    <tr>\n",
       "      <th>10</th>\n",
       "      <td>i3d_flow</td>\n",
       "      <td>S-htROI6</td>\n",
       "      <td>0.174441</td>\n",
       "      <td>0.087</td>\n",
       "    </tr>\n",
       "    <tr>\n",
       "      <th>11</th>\n",
       "      <td>i3d_flow</td>\n",
       "      <td>S-htROI8</td>\n",
       "      <td>0.310225</td>\n",
       "      <td>0.156</td>\n",
       "    </tr>\n",
       "    <tr>\n",
       "      <th>12</th>\n",
       "      <td>i3d_flow</td>\n",
       "      <td>S-htROI1</td>\n",
       "      <td>0.348041</td>\n",
       "      <td>0.174</td>\n",
       "    </tr>\n",
       "    <tr>\n",
       "      <th>...</th>\n",
       "      <td>...</td>\n",
       "      <td>...</td>\n",
       "      <td>...</td>\n",
       "      <td>...</td>\n",
       "    </tr>\n",
       "    <tr>\n",
       "      <th>3801</th>\n",
       "      <td>3d_swin</td>\n",
       "      <td>3d_swin_htROI4</td>\n",
       "      <td>0.278513</td>\n",
       "      <td>0.138</td>\n",
       "    </tr>\n",
       "    <tr>\n",
       "      <th>3802</th>\n",
       "      <td>3d_swin</td>\n",
       "      <td>3d_swin_htROI1</td>\n",
       "      <td>0.303498</td>\n",
       "      <td>0.153</td>\n",
       "    </tr>\n",
       "    <tr>\n",
       "      <th>3803</th>\n",
       "      <td>3d_swin</td>\n",
       "      <td>3d_swin_htROI3</td>\n",
       "      <td>0.038273</td>\n",
       "      <td>0.018</td>\n",
       "    </tr>\n",
       "    <tr>\n",
       "      <th>3804</th>\n",
       "      <td>3d_swin</td>\n",
       "      <td>3d_swin_htROI2</td>\n",
       "      <td>0.229269</td>\n",
       "      <td>0.114</td>\n",
       "    </tr>\n",
       "    <tr>\n",
       "      <th>3805</th>\n",
       "      <td>3d_swin</td>\n",
       "      <td>3d_swin_htROI5</td>\n",
       "      <td>0.326812</td>\n",
       "      <td>0.162</td>\n",
       "    </tr>\n",
       "  </tbody>\n",
       "</table>\n",
       "<p>238 rows × 4 columns</p>\n",
       "</div>"
      ],
      "text/plain": [
       "     MODEL.BACKBONE.NAME      DATASET.ROI     score  defrost_score\n",
       "0               i3d_flow  i3d_flow_htROI1  0.206220          0.102\n",
       "9               i3d_flow         S-htROI4  0.076862          0.039\n",
       "10              i3d_flow         S-htROI6  0.174441          0.087\n",
       "11              i3d_flow         S-htROI8  0.310225          0.156\n",
       "12              i3d_flow         S-htROI1  0.348041          0.174\n",
       "...                  ...              ...       ...            ...\n",
       "3801             3d_swin   3d_swin_htROI4  0.278513          0.138\n",
       "3802             3d_swin   3d_swin_htROI1  0.303498          0.153\n",
       "3803             3d_swin   3d_swin_htROI3  0.038273          0.018\n",
       "3804             3d_swin   3d_swin_htROI2  0.229269          0.114\n",
       "3805             3d_swin   3d_swin_htROI5  0.326812          0.162\n",
       "\n",
       "[238 rows x 4 columns]"
      ]
     },
     "execution_count": 70,
     "metadata": {},
     "output_type": "execute_result"
    }
   ],
   "source": [
    "defrost_df"
   ]
  },
  {
   "cell_type": "code",
   "execution_count": 71,
   "id": "60dccec3-8b0c-4f15-9bed-e6171c71fd13",
   "metadata": {},
   "outputs": [
    {
     "data": {
      "text/plain": [
       "array(['i3d_flow', '2d_moby_swin_warp_3d', '2d_seg_swin_warp_3d',\n",
       "       'i3d_rgb', '2d_colorizer_warp_3d', '2d_densnet_warp_3d',\n",
       "       '2d_simclr_warp_3d', '2d_bdcnvgg_warp_3d', '3d_swin',\n",
       "       'audio_vggish', '2d_pyconvsegnet_warp_3d'], dtype=object)"
      ]
     },
     "execution_count": 71,
     "metadata": {},
     "output_type": "execute_result"
    }
   ],
   "source": [
    "defrost_df['MODEL.BACKBONE.NAME'].unique()"
   ]
  },
  {
   "cell_type": "raw",
   "id": "278a1af7-e749-4403-89e4-19a8ad1f1cc1",
   "metadata": {},
   "source": [
    "defrost_df"
   ]
  },
  {
   "cell_type": "code",
   "execution_count": 72,
   "id": "3367ed26-a656-49d6-b332-f55470fed723",
   "metadata": {},
   "outputs": [
    {
     "name": "stdout",
     "output_type": "stream",
     "text": [
      "mkdir: cannot create directory ‘./config’: File exists\n"
     ]
    },
    {
     "name": "stderr",
     "output_type": "stream",
     "text": [
      "E0325 07:43:50.383993938  273619 fork_posix.cc:70]           Fork support is only compatible with the epoll1 and poll polling strategies\n"
     ]
    }
   ],
   "source": [
    "!mkdir ./config"
   ]
  },
  {
   "cell_type": "code",
   "execution_count": 73,
   "id": "346d3062-90c7-45d6-93b4-14e727efc098",
   "metadata": {},
   "outputs": [],
   "source": [
    "defrost_df.to_csv('./config/defrost_df.csv')"
   ]
  },
  {
   "cell_type": "code",
   "execution_count": null,
   "id": "d77106c2-6895-4fd1-84a1-eff69078c7ca",
   "metadata": {},
   "outputs": [],
   "source": []
  }
 ],
 "metadata": {
  "kernelspec": {
   "display_name": "Python 3 (ipykernel)",
   "language": "python",
   "name": "python3"
  },
  "language_info": {
   "codemirror_mode": {
    "name": "ipython",
    "version": 3
   },
   "file_extension": ".py",
   "mimetype": "text/x-python",
   "name": "python",
   "nbconvert_exporter": "python",
   "pygments_lexer": "ipython3",
   "version": "3.8.8"
  },
  "widgets": {
   "application/vnd.jupyter.widget-state+json": {
    "state": {
     "03fd6137163f4be7b627bdb36428da93": {
      "model_module": "@jupyter-widgets/controls",
      "model_module_version": "1.5.0",
      "model_name": "FloatProgressModel",
      "state": {
       "bar_style": "success",
       "layout": "IPY_MODEL_7d759c1c0008495bb768ca1b13c87f93",
       "max": 3814,
       "style": "IPY_MODEL_267026a28247426295da446641394394",
       "value": 3814
      }
     },
     "07c53a11320c4f1eb292b5acacd6b7b2": {
      "model_module": "@jupyter-widgets/controls",
      "model_module_version": "1.5.0",
      "model_name": "HTMLModel",
      "state": {
       "layout": "IPY_MODEL_46ec5c087e004e9d9e1421e77f016165",
       "style": "IPY_MODEL_85e4bb1b0cb24292a2acb7e963d1c0cf",
       "value": "100%"
      }
     },
     "09f69876ff7040a194bcde8ae8385ab4": {
      "model_module": "@jupyter-widgets/controls",
      "model_module_version": "1.5.0",
      "model_name": "HTMLModel",
      "state": {
       "layout": "IPY_MODEL_4a853033a8d941f8abbc507407b8fa9a",
       "style": "IPY_MODEL_818c93eaa9214174a279eaa6f66f4b4a",
       "value": " 2108/2108 [00:21&lt;00:00, 80.80it/s]"
      }
     },
     "0a9fb6ca4c8c4cb898aa4846986836f8": {
      "model_module": "@jupyter-widgets/base",
      "model_module_version": "1.2.0",
      "model_name": "LayoutModel",
      "state": {}
     },
     "0b147b92e775497eb116f7ed8e863736": {
      "model_module": "@jupyter-widgets/controls",
      "model_module_version": "1.5.0",
      "model_name": "HTMLModel",
      "state": {
       "layout": "IPY_MODEL_516662b30d1f42509283eef5e480e6b4",
       "style": "IPY_MODEL_406fea408c0141dc98b889cd51a8a53c",
       "value": "100%"
      }
     },
     "0ff0061ad18b4599b5ddd61505362e96": {
      "model_module": "@jupyter-widgets/base",
      "model_module_version": "1.2.0",
      "model_name": "LayoutModel",
      "state": {}
     },
     "109a7720e6ae43c9beec308ad903f140": {
      "model_module": "@jupyter-widgets/controls",
      "model_module_version": "1.5.0",
      "model_name": "DescriptionStyleModel",
      "state": {
       "description_width": ""
      }
     },
     "184df08d22094a61a5e91cea6b19f681": {
      "model_module": "@jupyter-widgets/base",
      "model_module_version": "1.2.0",
      "model_name": "LayoutModel",
      "state": {}
     },
     "235f0a891eed456eb5edd2d8e2bbb597": {
      "model_module": "@jupyter-widgets/controls",
      "model_module_version": "1.5.0",
      "model_name": "HBoxModel",
      "state": {
       "children": [
        "IPY_MODEL_0b147b92e775497eb116f7ed8e863736",
        "IPY_MODEL_e14cf8075f0243fca7dfc94f62a82137",
        "IPY_MODEL_772a2c0664bb4d489d5cf9b89121318a"
       ],
       "layout": "IPY_MODEL_b62c35a9abaf487988d66602888ca153"
      }
     },
     "267026a28247426295da446641394394": {
      "model_module": "@jupyter-widgets/controls",
      "model_module_version": "1.5.0",
      "model_name": "ProgressStyleModel",
      "state": {
       "description_width": ""
      }
     },
     "28fb6e9c554c4a92866596ba04a94b27": {
      "model_module": "@jupyter-widgets/controls",
      "model_module_version": "1.5.0",
      "model_name": "HTMLModel",
      "state": {
       "layout": "IPY_MODEL_4448b858a8464fb3927d5a520760a805",
       "style": "IPY_MODEL_2ecd8f3a4d8446ce846e9bcf02760cc3",
       "value": " 3814/3814 [00:34&lt;00:00, 70.44it/s]"
      }
     },
     "2b2c2fbdc21c451fbb5578dd97db10c8": {
      "model_module": "@jupyter-widgets/controls",
      "model_module_version": "1.5.0",
      "model_name": "DescriptionStyleModel",
      "state": {
       "description_width": ""
      }
     },
     "2ecd8f3a4d8446ce846e9bcf02760cc3": {
      "model_module": "@jupyter-widgets/controls",
      "model_module_version": "1.5.0",
      "model_name": "DescriptionStyleModel",
      "state": {
       "description_width": ""
      }
     },
     "30645600cc5240f1a187d05f0c5e327e": {
      "model_module": "@jupyter-widgets/controls",
      "model_module_version": "1.5.0",
      "model_name": "HBoxModel",
      "state": {
       "children": [
        "IPY_MODEL_df218d29e2f94224a2959640708c2822",
        "IPY_MODEL_03fd6137163f4be7b627bdb36428da93",
        "IPY_MODEL_28fb6e9c554c4a92866596ba04a94b27"
       ],
       "layout": "IPY_MODEL_184df08d22094a61a5e91cea6b19f681"
      }
     },
     "406fea408c0141dc98b889cd51a8a53c": {
      "model_module": "@jupyter-widgets/controls",
      "model_module_version": "1.5.0",
      "model_name": "DescriptionStyleModel",
      "state": {
       "description_width": ""
      }
     },
     "4448b858a8464fb3927d5a520760a805": {
      "model_module": "@jupyter-widgets/base",
      "model_module_version": "1.2.0",
      "model_name": "LayoutModel",
      "state": {}
     },
     "46ec5c087e004e9d9e1421e77f016165": {
      "model_module": "@jupyter-widgets/base",
      "model_module_version": "1.2.0",
      "model_name": "LayoutModel",
      "state": {}
     },
     "4a853033a8d941f8abbc507407b8fa9a": {
      "model_module": "@jupyter-widgets/base",
      "model_module_version": "1.2.0",
      "model_name": "LayoutModel",
      "state": {}
     },
     "516662b30d1f42509283eef5e480e6b4": {
      "model_module": "@jupyter-widgets/base",
      "model_module_version": "1.2.0",
      "model_name": "LayoutModel",
      "state": {}
     },
     "51e4ca342b324eefa84df2b4b12d8108": {
      "model_module": "@jupyter-widgets/controls",
      "model_module_version": "1.5.0",
      "model_name": "DescriptionStyleModel",
      "state": {
       "description_width": ""
      }
     },
     "574f0d9d087744a8b97b144823408cc2": {
      "model_module": "@jupyter-widgets/controls",
      "model_module_version": "1.5.0",
      "model_name": "ProgressStyleModel",
      "state": {
       "description_width": ""
      }
     },
     "5d2ed910bb274fd49f54561e59c0dfaf": {
      "model_module": "@jupyter-widgets/base",
      "model_module_version": "1.2.0",
      "model_name": "LayoutModel",
      "state": {}
     },
     "6d5b84133fcf4a3782d2045a515670a0": {
      "model_module": "@jupyter-widgets/base",
      "model_module_version": "1.2.0",
      "model_name": "LayoutModel",
      "state": {}
     },
     "772a2c0664bb4d489d5cf9b89121318a": {
      "model_module": "@jupyter-widgets/controls",
      "model_module_version": "1.5.0",
      "model_name": "HTMLModel",
      "state": {
       "layout": "IPY_MODEL_6d5b84133fcf4a3782d2045a515670a0",
       "style": "IPY_MODEL_2b2c2fbdc21c451fbb5578dd97db10c8",
       "value": " 3082/3082 [00:27&lt;00:00, 84.20it/s]"
      }
     },
     "7d759c1c0008495bb768ca1b13c87f93": {
      "model_module": "@jupyter-widgets/base",
      "model_module_version": "1.2.0",
      "model_name": "LayoutModel",
      "state": {}
     },
     "818c93eaa9214174a279eaa6f66f4b4a": {
      "model_module": "@jupyter-widgets/controls",
      "model_module_version": "1.5.0",
      "model_name": "DescriptionStyleModel",
      "state": {
       "description_width": ""
      }
     },
     "81fc7f22cd14402b89860311a53dc9ef": {
      "model_module": "@jupyter-widgets/controls",
      "model_module_version": "1.5.0",
      "model_name": "HTMLModel",
      "state": {
       "layout": "IPY_MODEL_0ff0061ad18b4599b5ddd61505362e96",
       "style": "IPY_MODEL_c694986a4fcf4b9482b4a8a82fa5c439",
       "value": " 2876/2876 [00:26&lt;00:00, 79.75it/s]"
      }
     },
     "85e4bb1b0cb24292a2acb7e963d1c0cf": {
      "model_module": "@jupyter-widgets/controls",
      "model_module_version": "1.5.0",
      "model_name": "DescriptionStyleModel",
      "state": {
       "description_width": ""
      }
     },
     "88aa0845a20c43228746eadb7327b264": {
      "model_module": "@jupyter-widgets/controls",
      "model_module_version": "1.5.0",
      "model_name": "FloatProgressModel",
      "state": {
       "bar_style": "success",
       "layout": "IPY_MODEL_e2f79c8da4cc4f0b96ebbac283f315a0",
       "max": 2108,
       "style": "IPY_MODEL_574f0d9d087744a8b97b144823408cc2",
       "value": 2108
      }
     },
     "8da999cac358443c843185b0548a0014": {
      "model_module": "@jupyter-widgets/controls",
      "model_module_version": "1.5.0",
      "model_name": "ProgressStyleModel",
      "state": {
       "description_width": ""
      }
     },
     "b1d74eb83f9b4a3285686b07a8802929": {
      "model_module": "@jupyter-widgets/controls",
      "model_module_version": "1.5.0",
      "model_name": "HBoxModel",
      "state": {
       "children": [
        "IPY_MODEL_07c53a11320c4f1eb292b5acacd6b7b2",
        "IPY_MODEL_88aa0845a20c43228746eadb7327b264",
        "IPY_MODEL_09f69876ff7040a194bcde8ae8385ab4"
       ],
       "layout": "IPY_MODEL_0a9fb6ca4c8c4cb898aa4846986836f8"
      }
     },
     "b62c35a9abaf487988d66602888ca153": {
      "model_module": "@jupyter-widgets/base",
      "model_module_version": "1.2.0",
      "model_name": "LayoutModel",
      "state": {}
     },
     "b6a702d52aee4d35a57c4fdf6de9c2c6": {
      "model_module": "@jupyter-widgets/controls",
      "model_module_version": "1.5.0",
      "model_name": "FloatProgressModel",
      "state": {
       "bar_style": "success",
       "layout": "IPY_MODEL_b9fcbf86359b4f5b9e4b6e91495a2e7e",
       "max": 2876,
       "style": "IPY_MODEL_c4d4e63b7ffc469f8f6ef22ba4190c6f",
       "value": 2876
      }
     },
     "b859ca8556d14431b456112139304f25": {
      "model_module": "@jupyter-widgets/controls",
      "model_module_version": "1.5.0",
      "model_name": "HTMLModel",
      "state": {
       "layout": "IPY_MODEL_faa12cce0b2e4c1c899aaa60568c4e05",
       "style": "IPY_MODEL_51e4ca342b324eefa84df2b4b12d8108",
       "value": "100%"
      }
     },
     "b9fcbf86359b4f5b9e4b6e91495a2e7e": {
      "model_module": "@jupyter-widgets/base",
      "model_module_version": "1.2.0",
      "model_name": "LayoutModel",
      "state": {}
     },
     "bd3ad26f3ed64c6395ed92f8eadf55fd": {
      "model_module": "@jupyter-widgets/base",
      "model_module_version": "1.2.0",
      "model_name": "LayoutModel",
      "state": {}
     },
     "c4d4e63b7ffc469f8f6ef22ba4190c6f": {
      "model_module": "@jupyter-widgets/controls",
      "model_module_version": "1.5.0",
      "model_name": "ProgressStyleModel",
      "state": {
       "description_width": ""
      }
     },
     "c694986a4fcf4b9482b4a8a82fa5c439": {
      "model_module": "@jupyter-widgets/controls",
      "model_module_version": "1.5.0",
      "model_name": "DescriptionStyleModel",
      "state": {
       "description_width": ""
      }
     },
     "df218d29e2f94224a2959640708c2822": {
      "model_module": "@jupyter-widgets/controls",
      "model_module_version": "1.5.0",
      "model_name": "HTMLModel",
      "state": {
       "layout": "IPY_MODEL_bd3ad26f3ed64c6395ed92f8eadf55fd",
       "style": "IPY_MODEL_109a7720e6ae43c9beec308ad903f140",
       "value": "100%"
      }
     },
     "e14cf8075f0243fca7dfc94f62a82137": {
      "model_module": "@jupyter-widgets/controls",
      "model_module_version": "1.5.0",
      "model_name": "FloatProgressModel",
      "state": {
       "bar_style": "success",
       "layout": "IPY_MODEL_e287c2bc6c7f4562a65daeedb83f070f",
       "max": 3082,
       "style": "IPY_MODEL_8da999cac358443c843185b0548a0014",
       "value": 3082
      }
     },
     "e287c2bc6c7f4562a65daeedb83f070f": {
      "model_module": "@jupyter-widgets/base",
      "model_module_version": "1.2.0",
      "model_name": "LayoutModel",
      "state": {}
     },
     "e2f79c8da4cc4f0b96ebbac283f315a0": {
      "model_module": "@jupyter-widgets/base",
      "model_module_version": "1.2.0",
      "model_name": "LayoutModel",
      "state": {}
     },
     "eeaa5e73c3be4e30a5f30face10e3ff1": {
      "model_module": "@jupyter-widgets/controls",
      "model_module_version": "1.5.0",
      "model_name": "HBoxModel",
      "state": {
       "children": [
        "IPY_MODEL_b859ca8556d14431b456112139304f25",
        "IPY_MODEL_b6a702d52aee4d35a57c4fdf6de9c2c6",
        "IPY_MODEL_81fc7f22cd14402b89860311a53dc9ef"
       ],
       "layout": "IPY_MODEL_5d2ed910bb274fd49f54561e59c0dfaf"
      }
     },
     "faa12cce0b2e4c1c899aaa60568c4e05": {
      "model_module": "@jupyter-widgets/base",
      "model_module_version": "1.2.0",
      "model_name": "LayoutModel",
      "state": {}
     }
    },
    "version_major": 2,
    "version_minor": 0
   }
  }
 },
 "nbformat": 4,
 "nbformat_minor": 5
}
